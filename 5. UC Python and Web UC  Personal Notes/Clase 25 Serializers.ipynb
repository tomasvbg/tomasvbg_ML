{
 "cells": [
  {
   "cell_type": "markdown",
   "metadata": {},
   "source": [
    "### Introducción\n",
    "\n",
    "El primer paso para construir una API es transformar los datos representados por nuestros modelos en un formato adecuado, como JSON.\n",
    "\n",
    "Esto se hace mediante un proceso llamado serializaciòn, que transforma objetos de nuestro modelo en JSON, y su procedimiento inverso llamado deserializaciòn, transforma JSON en objetos de nuestro modelo.\n",
    "\n"
   ]
  },
  {
   "cell_type": "markdown",
   "metadata": {},
   "source": [
    "### Serializers\n",
    "\n",
    "\n",
    "- En django REST Framework los procesos de serializaciòn y deserialización se hacen mediante clases llamadas ***Serializers***.\n",
    "\n",
    "- Estas clases funcionan de manera similar a los Forms de django, definiendo los campos que se convertirán y cómo se crean, modifican y guardan los objetos del modelo.\n",
    "\n",
    "---- Típicamente se agrega un archivo serializers.py en la carpeta de cada app que exponga sus modelos a través de la API."
   ]
  },
  {
   "cell_type": "markdown",
   "metadata": {},
   "source": [
    "### La clase Serializer\n",
    "\n",
    "- Provee una forma básica de escribir nuestros serializers.\n",
    "\n",
    "- En este caso, creamos un serializer para nuestro modelo Artist, heredando desde la clase Serializer.\n",
    "\n",
    "- Especificamos cada campo con su tipo y validaciones. Tambièn podemos indicar si es de solo lectura, entre otras configuraciones.\n",
    "\n",
    "- Es necesario specificar cómo se crean  y actualizan las instanias del modelo con los métodos create y update.\n",
    "\n",
    "\n"
   ]
  },
  {
   "cell_type": "code",
   "execution_count": null,
   "metadata": {},
   "outputs": [],
   "source": [
    "from rest_framework import serializers\n",
    "from .models import Artist\n",
    "\n",
    "class ArtistSerializer(serializers.Serializer): # creamos un serializer para nuestra clase Artist, heredando desde la clase serializer.\n",
    "    id = serializers.IntegerField(read_only=True) # Espeficamos cada campo con su tipo y validaciones.\n",
    "    name = serializers.CharField(maxlenght=200)\n",
    "    genre = serializers.Charfield(max_lenght=200)\n",
    "    \n",
    "    # Especificamos cómo se crean y actualiza la clase con create y update\n",
    "    \n",
    "    def create(self,validated_data):\n",
    "        return Artist.objects.create(**validated_data)\n",
    "    \n",
    "    def update(self, validated_data):\n",
    "        instance.name = validated_data.get(\"name\", instance.name)\n",
    "        instance.genre = validated_data.get(\"genre\", instance.genre)\n",
    "        instance.save()\n",
    "        return instance\n",
    "              "
   ]
  },
  {
   "cell_type": "code",
   "execution_count": null,
   "metadata": {},
   "outputs": [],
   "source": [
    "### Cómo se usa la clase Serializer\n",
    "\n",
    "Se usa de manera muy similar a un Form:\n",
    "    \n",
    "# Inicializamos un serializer con una instancia de Artist para serializar\n",
    "serializer = ArtistSerializer(artist)\n",
    "\n",
    "# Con .data podemos ver los datos convertidos en un diccionario, muy parecido a JSON\n",
    "serializer.data\n",
    "\n",
    "# También podemos inicializarlo con un diccionario con los datos para deserializar\n",
    "serializer = ArtistSerializer(data=data)\n",
    "\n",
    "# Y podemos chequear si ls datos son válidos, y obtenerlos\n",
    "serializer.is_valid()\n",
    "serializer.validated_data\n",
    "\n",
    "# Finalmmente, usar .save para crear o guardar la instancia\n",
    "serializer.save()\n"
   ]
  },
  {
   "cell_type": "markdown",
   "metadata": {},
   "source": [
    "### La clase ModelSerializer\n",
    "\n",
    "- Lo que hicimos recién repite mucha información, ya que está en nuestro modelo.\n",
    "\n",
    "- De manera muy similar a ls ModelForms, podemos usar la clase ModelSerializer que inspeccionarà nuestro modelo y generarà un Serializer automàticamente.\n",
    "\n",
    "\n"
   ]
  },
  {
   "cell_type": "code",
   "execution_count": null,
   "metadata": {},
   "outputs": [],
   "source": [
    "from rest_framework import serializers\n",
    "from .models import Artist\n",
    "\n",
    "class ArtistSerializer(serializer.ModelSerializer):\n",
    "    class Meta:\n",
    "        model = Artist\n",
    "        fields = [\"id\", \"name\",\"genre\"]"
   ]
  }
 ],
 "metadata": {
  "kernelspec": {
   "display_name": "Python 3",
   "language": "python",
   "name": "python3"
  },
  "language_info": {
   "codemirror_mode": {
    "name": "ipython",
    "version": 3
   },
   "file_extension": ".py",
   "mimetype": "text/x-python",
   "name": "python",
   "nbconvert_exporter": "python",
   "pygments_lexer": "ipython3",
   "version": "3.8.3"
  }
 },
 "nbformat": 4,
 "nbformat_minor": 4
}
