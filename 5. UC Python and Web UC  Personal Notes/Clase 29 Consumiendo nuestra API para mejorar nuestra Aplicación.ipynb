{
 "cells": [
  {
   "cell_type": "markdown",
   "metadata": {},
   "source": [
    "### Clase 29 Consumiendo nuestra API para mejorar nuestra aplcación"
   ]
  },
  {
   "cell_type": "markdown",
   "metadata": {},
   "source": [
    "En javascript existen maneras de hacer requests a un servidor de manera asíncrona, lo que nos permite, entre otras cosas, consumir nuestra API para obtener o modificar datos sin tener que recargar nuestra página. Ahora veremos cómo hacerlo."
   ]
  },
  {
   "cell_type": "markdown",
   "metadata": {},
   "source": [
    "### Fetch API\n",
    "\n",
    "Javascript principalmente permite:\n",
    "    \n",
    "    1. Manipular HTMLy  CSS de una página:\n",
    "        - Insertar o borrar elementos, cambiar contenido, cambiar atributos, modificar CSS..\n",
    "        \n",
    "    2. Reaccionar a acciones del usuario:\n",
    "        - Envío de formularios, clicks, movimientos del mouse, teclado, ...\n",
    "    \n",
    "    3. Enviar requests al servidor sin recargar la página.\n",
    "        - (AJAX, Fetch API)"
   ]
  },
  {
   "cell_type": "markdown",
   "metadata": {},
   "source": [
    "### Fetch API\n",
    "\n",
    "Permite realizar requst HTTP desde Javascript:\n",
    "    \n",
    "    - Podemos consultar datos (GET) al backend sin recargar la página.\n",
    "    \n",
    "    - Podemos actualizar datos (POST) sin recargar la página.\n",
    "    "
   ]
  },
  {
   "cell_type": "code",
   "execution_count": null,
   "metadata": {},
   "outputs": [],
   "source": [
    "fetch(\"http://127.0.0.1:8000/music/api/v1/artists\")\n",
    "    .then((response) => {\n",
    "        return response.json();\n",
    "    })\n",
    "    .then((data) => {\n",
    "        console.log(data);\n",
    "    });\n",
    "    "
   ]
  },
  {
   "cell_type": "markdown",
   "metadata": {},
   "source": [
    "Los métodos Fecth API son asíncrónos:\n",
    "    - Retornan una promesa, que es un objeto que debemos esperar que termine de procesar.\n",
    "    \n",
    "    - Esto se hace con el nétoo .then, que recibe una funciòn que recibirà el output final.\n",
    "    "
   ]
  },
  {
   "cell_type": "markdown",
   "metadata": {},
   "source": [
    "### Fecth API\n",
    "\n",
    "El método fetch hace un request GET por defecto:\n",
    "    \n",
    "    - Retorna una prmesa que al resolver nos da un response,\n",
    "    \n",
    "    - Para obtener el json usamos el método .json, que también retorna una promesa.\n",
    "    \n",
    "    - Al reoslver esta última promsa, obtenemos los datos com objetos o arreglos Javascript.\n",
    "    \n",
    "    "
   ]
  },
  {
   "cell_type": "code",
   "execution_count": null,
   "metadata": {},
   "outputs": [],
   "source": [
    "fetch(\"http://127.0.0.1:8000/music/api/v1/artists\")\n",
    "\n",
    "    .then((response) => {\n",
    "        \n",
    "        return response.json();\n",
    "    })\n",
    "    .then((data)=> {\n",
    "        console.log(data)M\n",
    "    });"
   ]
  },
  {
   "cell_type": "markdown",
   "metadata": {},
   "source": [
    "### Fetch API\n",
    "\n",
    "Aquí el método fecth hace un POST y también retorna una promesa.\n",
    "\n",
    "Podríamos hacer then y leer la respuesta."
   ]
  },
  {
   "cell_type": "code",
   "execution_count": null,
   "metadata": {},
   "outputs": [],
   "source": [
    "const data = { name:\"rhcp\"};\n",
    "\n",
    "fecth(\"http://127.0.0.1:8000/music/api/v1/artists\", {\n",
    "    \n",
    "    method: \"POST\",\n",
    "    headers: {\n",
    "        \"Content-Type\": \"application/json\",\n",
    "    },\n",
    "    body: JSON.stringify(data)\n",
    "})"
   ]
  },
  {
   "cell_type": "markdown",
   "metadata": {},
   "source": [
    "### Síntesis\n",
    "\n",
    "- Fetch API nos permite realizar requests desde Javascript, con lo que podemos consultar o modificar datos sin recarar la página.\n",
    "\n",
    "- Esto nos permite tener sistios web más rápidos y dinámicos."
   ]
  }
 ],
 "metadata": {
  "kernelspec": {
   "display_name": "Python 3",
   "language": "python",
   "name": "python3"
  },
  "language_info": {
   "codemirror_mode": {
    "name": "ipython",
    "version": 3
   },
   "file_extension": ".py",
   "mimetype": "text/x-python",
   "name": "python",
   "nbconvert_exporter": "python",
   "pygments_lexer": "ipython3",
   "version": "3.8.3"
  }
 },
 "nbformat": 4,
 "nbformat_minor": 4
}
