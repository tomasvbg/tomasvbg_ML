{
 "cells": [
  {
   "cell_type": "markdown",
   "metadata": {},
   "source": [
    "### Clase 26 Viewsets y paginación"
   ]
  },
  {
   "cell_type": "markdown",
   "metadata": {},
   "source": [
    "- Luego de escribir los serializadores, necesitamos procesar requests que usen estos serializadoes.\n",
    "\n",
    "- Dango REST Framework povee Views, como las de django, y también Viewsets, que facilitan el proceso.\n",
    "\n"
   ]
  },
  {
   "cell_type": "markdown",
   "metadata": {},
   "source": [
    "### Class-based Views\n",
    "\n",
    "- Hasta ahora hemos usado Views que son métodos Python, conocidad como function-based Views.\n",
    "\n",
    "- En django existen las llamadas class-bassed Views, las que se declaran con clases en lugar de métodos.\n",
    "\n",
    "- La mayor ventaja es ques e puede tener herencia de Views, permitiendo reutilizar trabajo.\n",
    "\n",
    "- Veremos ahora cómo utilizarlas en el contexto de django REST Framework.\n"
   ]
  },
  {
   "cell_type": "markdown",
   "metadata": {},
   "source": [
    "### Class-based Views\n",
    "\n",
    "Al igual que las function-based Views que ya hemos hecho, pondremos nuestra class-based Views para la API en el archivo views.py de la app.music\n",
    "\n",
    "- Definimos una class-based View para interactuar con una lista de artistas, heredando de APIView.\n",
    "\n",
    "- A diferencia de las function-based Views, no es necesario discriminar on ifs el tipo de request, sino que l hacemos con mètodos get y post, que procesarán el request correspondiente."
   ]
  },
  {
   "cell_type": "code",
   "execution_count": null,
   "metadata": {},
   "outputs": [],
   "source": [
    "from .models import Artist\n",
    "from .serializers import ArtistSerializer\n",
    "from rest_framework.views import APIView\n",
    "from rest_framework.repsonse import Response\n",
    "from rest_framwork import status\n",
    "\n",
    "class ArtistList(APIView):\n",
    "    def get(self, request, format=None)\n",
    "    artists = Artist.objects.all()\n",
    "    serializer = ArtistSerializer(artist, many=True)\n",
    "    return Response(serializer.data)\n",
    "\n",
    "    def post(self, request, format=None):\n",
    "        serializer = ArtistSerializer(data=request.data)\n",
    "        if serializer.is_valid():\n",
    "            serializer.save()\n",
    "            return Response(serializer.data, status0status.HTTP_201_CREATED)\n",
    "        return Response(Serializer.errors, status=status,HTTP_400_BAD_REQUEST)\n",
    "    \n",
    "    "
   ]
  },
  {
   "cell_type": "markdown",
   "metadata": {},
   "source": [
    "### Class-based Views\n",
    "\n",
    "- DjangoCreateAPIView provee endpoints para obtener una colecciòn o crear entidades.\n",
    "\n",
    "- RetrieveUpdateDestroyAPIView provee endpoints para interactuar con una entidad particular(obtenerla, actualizarla o borrarla).\n",
    "\n",
    "- En ambos casos, basta con especifica un queyset y la clase que se usa para serializar.\n",
    "\n"
   ]
  },
  {
   "cell_type": "code",
   "execution_count": null,
   "metadata": {},
   "outputs": [],
   "source": [
    "from .models import Artist\n",
    "from .serializers import ArtistSerializer\n",
    "from rest_framework import generics\n",
    "\n",
    "class Artist(generics.ListCreateAPIView):\n",
    "    queryset = Artist.objects.all()\n",
    "    serializer_class = ArtistSerializer\n",
    "    \n",
    "class ArtistDetail(generics.RetrieveUpdateDestroyAPIView):\n",
    "    queryset = Artist.objects.all()\n",
    "    serializer_class = ArtistSerializer\n",
    "    \n"
   ]
  },
  {
   "cell_type": "markdown",
   "metadata": {},
   "source": [
    "### Viewsets\n",
    "\n",
    "En el ejemplo anterior creamos dos Views para proceer todos los endpoints tìpicos a la hora de interactuar con nuestro modelo Artist. Esto se conoce como Viewset.\n",
    "\n",
    "- Django REST Framework provee clases para generar estos Viewsets desde nuestros modelos automáticamente.\n",
    "\n",
    "- Generalmente se crean en un nuevo archivo viewsets.py en la carpeta de la app.\n",
    "\n",
    "- Al herdar de ModelViewSet, solo con especificar el queryset y el serializador, obtenemos 5 endpoint: lista, crear, obtener una entdad, actualizar y borrar.\n",
    "    \n",
    "- Exite más clases, por ejemplo ReadOnlyModelViewSet, que solo provee lista y detalle.\n",
    "\n",
    "\n"
   ]
  },
  {
   "cell_type": "code",
   "execution_count": null,
   "metadata": {},
   "outputs": [],
   "source": [
    "from rest_framework import viewsets\n",
    "from .models import Artist\n",
    "from .serializers import ArtistSerializer\n",
    "\n",
    "class ArtistViewSet(viewsets.ModelViewSet):\n",
    "    query = Artist.objects.all()\n",
    "    serializer_class = ArtistSerializer"
   ]
  }
 ],
 "metadata": {
  "kernelspec": {
   "display_name": "Python 3",
   "language": "python",
   "name": "python3"
  },
  "language_info": {
   "codemirror_mode": {
    "name": "ipython",
    "version": 3
   },
   "file_extension": ".py",
   "mimetype": "text/x-python",
   "name": "python",
   "nbconvert_exporter": "python",
   "pygments_lexer": "ipython3",
   "version": "3.8.3"
  }
 },
 "nbformat": 4,
 "nbformat_minor": 4
}
