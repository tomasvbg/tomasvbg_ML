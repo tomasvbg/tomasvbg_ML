{
 "cells": [
  {
   "cell_type": "markdown",
   "metadata": {},
   "source": [
    "##### Resumen\n",
    "\n",
    "- El sistema de tamplating de django genera documentos a partir de HTML y código python.\n",
    "\n",
    "- Los templates son rendereados por views, las que les pasan parámetros (por ejemplo objetos del modelo).\n",
    "\n",
    "- Los templates usan estos parámetros para mostrar información o hacer control de flujo.\n",
    "\n",
    "- La herencia de templates nos permite reutilizarlos y estructurar nuestra aplicación.\n",
    "\n"
   ]
  },
  {
   "cell_type": "markdown",
   "metadata": {},
   "source": [
    "#### Introducción\n",
    "\n",
    "- Los ejemplos que vimos la clase anterior mostraban documento s HTML, pero no controlamos cómo estos eran generados.\n",
    "\n",
    "\n",
    "- En esta clase veremos el sistema de templating de django, que nos permite generar documentos con mucha flexibilidad."
   ]
  },
  {
   "cell_type": "markdown",
   "metadata": {},
   "source": [
    "### Templates\n",
    "\n",
    "- Django tiene un sistema de templating que genera HTML a partir de una mezcla de HTML y código Python.\n",
    "\n",
    "- Podemos renderear estos templates con parámetros que pasamos desde nuestras views.\n",
    "\n",
    "- Comenzamos creando un directorio /templates dentro de nuestra app.\n",
    "\n",
    "- Y dentro de él, creamos otro directorio con el nombre de nuestra app donde estarán nuestros templates.\n",
    "\n"
   ]
  },
  {
   "cell_type": "markdown",
   "metadata": {},
   "source": [
    "### Relación View-Templates\n",
    "\n",
    "En nuestra view, pasamos objetos al template mediante el diccionario context, y lo rendereamos usando el método render:\n"
   ]
  },
  {
   "cell_type": "code",
   "execution_count": null,
   "metadata": {},
   "outputs": [],
   "source": [
    "def artist_detail(request, artist_id):\n",
    "    artist = Artist.objects.get(id=artist_id)\n",
    "    context = {\"artist\": artist}\n",
    "    return render(request, \"mucis/artist_detail.html\", context)\n"
   ]
  },
  {
   "cell_type": "markdown",
   "metadata": {},
   "source": [
    "Y en el template podemos accederlo.\n",
    "Las llaves dobles interpretan el código python que hay dentro y lo imprimen:\n",
    "\n",
    "    \"Estás viendo al artista {{ artist.name}}\"\n"
   ]
  },
  {
   "cell_type": "markdown",
   "metadata": {},
   "source": [
    "### Control de flujo:\n",
    "\n",
    "Las llaves {% %} ejecutan el código python sin imprimir."
   ]
  },
  {
   "cell_type": "code",
   "execution_count": null,
   "metadata": {},
   "outputs": [],
   "source": [
    "{% for album in artist.album_set.all %}\n",
    "    {{album.name}}\n",
    "{% endfor %}"
   ]
  },
  {
   "cell_type": "markdown",
   "metadata": {},
   "source": [
    "### Agregar HTML"
   ]
  },
  {
   "cell_type": "code",
   "execution_count": null,
   "metadata": {},
   "outputs": [],
   "source": [
    "<h1> estás viendo al artista {{artist.name}}</h1>\n",
    "<ul>\n",
    "{% for album in artist.album_set.all %}\n",
    "    <li>{{album.name}}</li>\n",
    "{% endfor %}\n",
    "</ul>"
   ]
  },
  {
   "cell_type": "markdown",
   "metadata": {},
   "source": [
    "### Agregando CSS\n",
    "\n",
    "- Similar al caso de los templates, creamos un directorio /static dentro de nuestra app.\n",
    "\n",
    "- Y dentro de él, tenemos que crear otro directorio con el nombre de nuestra app, donde estarán nuestros archivos css.\n",
    "\n",
    "- Contendrá archivos estáticos, como css y javascript.\n",
    "\n",
    "- Dentro, podemos poner nuestras hojas de estilo, por ejemplo style.css\n"
   ]
  },
  {
   "cell_type": "code",
   "execution_count": null,
   "metadata": {},
   "outputs": [],
   "source": [
    "### Para referenciarlo en un template, agregamos lo siguiente:\n",
    "\n",
    "{% load static%}\n"
   ]
  },
  {
   "cell_type": "code",
   "execution_count": null,
   "metadata": {},
   "outputs": [],
   "source": []
  },
  {
   "cell_type": "code",
   "execution_count": null,
   "metadata": {},
   "outputs": [],
   "source": []
  },
  {
   "cell_type": "code",
   "execution_count": null,
   "metadata": {},
   "outputs": [],
   "source": []
  }
 ],
 "metadata": {
  "kernelspec": {
   "display_name": "Python 3",
   "language": "python",
   "name": "python3"
  },
  "language_info": {
   "codemirror_mode": {
    "name": "ipython",
    "version": 3
   },
   "file_extension": ".py",
   "mimetype": "text/x-python",
   "name": "python",
   "nbconvert_exporter": "python",
   "pygments_lexer": "ipython3",
   "version": "3.8.3"
  }
 },
 "nbformat": 4,
 "nbformat_minor": 4
}
