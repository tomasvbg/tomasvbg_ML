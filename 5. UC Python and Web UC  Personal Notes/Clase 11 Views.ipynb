{
 "cells": [
  {
   "cell_type": "markdown",
   "metadata": {},
   "source": [
    "Indice\n",
    "\n",
    "- Views\n",
    "\n",
    "- Ejemplos"
   ]
  },
  {
   "cell_type": "markdown",
   "metadata": {},
   "source": [
    "### Introducción\n",
    "\n",
    "Una de las capacidades fundamentales de una aplicación web es recibir y procesar requests HTTP. En django, esta tarea la llevan a cabo las Views."
   ]
  },
  {
   "cell_type": "markdown",
   "metadata": {},
   "source": [
    "### Views\n",
    "\n",
    "- Las views en django procesan requests HTTP y reornan HTML generado desde templates. \n",
    "\n",
    "- Se escriben en archivo views.py\n",
    "\n",
    "##### Probemos una view muy básica:"
   ]
  },
  {
   "cell_type": "code",
   "execution_count": 2,
   "metadata": {},
   "outputs": [
    {
     "ename": "ImportError",
     "evalue": "cannot import name 'HttpRepsonse' from 'django.http' (/Users/tomtom/opt/anaconda3/lib/python3.8/site-packages/django/http/__init__.py)",
     "output_type": "error",
     "traceback": [
      "\u001b[0;31m---------------------------------------------------------------------------\u001b[0m",
      "\u001b[0;31mImportError\u001b[0m                               Traceback (most recent call last)",
      "\u001b[0;32m<ipython-input-2-7e96b8d0e620>\u001b[0m in \u001b[0;36m<module>\u001b[0;34m\u001b[0m\n\u001b[0;32m----> 1\u001b[0;31m \u001b[0;32mfrom\u001b[0m \u001b[0mdjango\u001b[0m\u001b[0;34m.\u001b[0m\u001b[0mhttp\u001b[0m \u001b[0;32mimport\u001b[0m \u001b[0mHttpRepsonse\u001b[0m \u001b[0;31m# el objeto que retornará nuestra view\u001b[0m\u001b[0;34m\u001b[0m\u001b[0;34m\u001b[0m\u001b[0m\n\u001b[0m\u001b[1;32m      2\u001b[0m \u001b[0;34m\u001b[0m\u001b[0m\n\u001b[1;32m      3\u001b[0m \u001b[0;32mdef\u001b[0m \u001b[0mindex\u001b[0m\u001b[0;34m(\u001b[0m\u001b[0mrequest\u001b[0m\u001b[0;34m)\u001b[0m\u001b[0;34m:\u001b[0m \u001b[0;31m#definimos un método que recibe como parámetro el request\u001b[0m\u001b[0;34m\u001b[0m\u001b[0;34m\u001b[0m\u001b[0m\n\u001b[1;32m      4\u001b[0m     \u001b[0;32mreturn\u001b[0m \u001b[0mHttpResponse\u001b[0m\u001b[0;34m(\u001b[0m\u001b[0;34m\"Bienvenidos a la app de música!\"\u001b[0m\u001b[0;34m)\u001b[0m\u001b[0;34m\u001b[0m\u001b[0;34m\u001b[0m\u001b[0m\n",
      "\u001b[0;31mImportError\u001b[0m: cannot import name 'HttpRepsonse' from 'django.http' (/Users/tomtom/opt/anaconda3/lib/python3.8/site-packages/django/http/__init__.py)"
     ]
    }
   ],
   "source": [
    "from django.http import HttpRepsonse # el objeto que retornará nuestra view\n",
    "\n",
    "def index(request): #definimos un método que recibe como parámetro el request\n",
    "    return HttpResponse(\"Bienvenidos a la app de música!\")"
   ]
  },
  {
   "cell_type": "markdown",
   "metadata": {},
   "source": [
    "### URLS\n",
    "\n",
    "- Para ver nuestra view, debemos hacer que alguna URL nos la muestre.\n",
    "\n",
    "- Para esto creamos un archivo urls.py en la carpeta de la app que contendrá la configuración de las URLs de nuestra app.\n"
   ]
  },
  {
   "cell_type": "markdown",
   "metadata": {},
   "source": [
    "##### El path / de nuestra app nos mostrará la vista index que definimos anteriormente.\n",
    "\n",
    "##### Ejemplo:\n"
   ]
  },
  {
   "cell_type": "code",
   "execution_count": null,
   "metadata": {},
   "outputs": [],
   "source": [
    "from django.urls import path\n",
    "from . import views\n",
    "\n",
    "urlpatterns = [ path(\"\", views.index, name=\"index\"),] #difinimos esta variable, la cual será un arreglo con todas las URLs de nuestra app.\n",
    "                # en este caso: el path \"\" (es decir vacío),nos va a declarar la vista index definida anteriormente\n"
   ]
  },
  {
   "cell_type": "markdown",
   "metadata": {},
   "source": [
    "### Incluir las URLs al proyecto"
   ]
  },
  {
   "cell_type": "markdown",
   "metadata": {},
   "source": [
    "Para incluir las URLs de nuestra app al proyecto, debemos hacerlo en el archivo urls.py del proyecto (donde ya están lar URLs del admin)"
   ]
  },
  {
   "cell_type": "markdown",
   "metadata": {},
   "source": [
    "##### Incluimos todas la rutas que definimos dentro de nuestra app dentro de la ruta /music del proyecto. Esto nos permite incluir nuestras rutas en múltiples proyectos sin que choque con otras.\n"
   ]
  },
  {
   "cell_type": "code",
   "execution_count": null,
   "metadata": {},
   "outputs": [],
   "source": [
    "from django.contrib import admin\n",
    "from django.urls import iinclude, path\n",
    "\n",
    "urlpaterns = [\n",
    "    path(\"music/\", include(\"music.urls\")),\n",
    "    path(\"admin/\", admin.site.urls),\n",
    "]"
   ]
  },
  {
   "cell_type": "code",
   "execution_count": null,
   "metadata": {},
   "outputs": [],
   "source": [
    "##### Volviendo a views...\n",
    "\n",
    "####### Podemos tener una view que muestre a un artista:"
   ]
  },
  {
   "cell_type": "code",
   "execution_count": null,
   "metadata": {},
   "outputs": [],
   "source": [
    "def artist_detail(request, artist_id):\n",
    "    return HttpResponse(\"Estás viendo al artista %s.\"% artist_id)"
   ]
  },
  {
   "cell_type": "code",
   "execution_count": null,
   "metadata": {},
   "outputs": [],
   "source": [
    "####### Per esto no está haciendo nada...obtengamos elobjeto y mostremos su nombre:"
   ]
  },
  {
   "cell_type": "code",
   "execution_count": null,
   "metadata": {},
   "outputs": [],
   "source": [
    "def artist_detail(request, artist_id):\n",
    "    artist = Artist.objects.get(id=artist_id) #usamos la API de modelos!\n",
    "    return HttpResponse(\"Estás viendo al artista %s.\" %artist.name)"
   ]
  },
  {
   "cell_type": "code",
   "execution_count": null,
   "metadata": {},
   "outputs": [],
   "source": [
    "### Síntesis\n",
    "\n",
    "- Las views en django procesan requests HTTP y retornan HTML generado desde templates.\n",
    "\n",
    "- Las views responden a URLs configuradas en cada app.\n",
    "\n",
    "- La views pueden recibir parámetros y isar la API de modelos.\n"
   ]
  }
 ],
 "metadata": {
  "kernelspec": {
   "display_name": "Python 3",
   "language": "python",
   "name": "python3"
  },
  "language_info": {
   "codemirror_mode": {
    "name": "ipython",
    "version": 3
   },
   "file_extension": ".py",
   "mimetype": "text/x-python",
   "name": "python",
   "nbconvert_exporter": "python",
   "pygments_lexer": "ipython3",
   "version": "3.8.3"
  }
 },
 "nbformat": 4,
 "nbformat_minor": 4
}
