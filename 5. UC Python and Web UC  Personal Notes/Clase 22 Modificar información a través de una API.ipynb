{
 "cells": [
  {
   "cell_type": "markdown",
   "metadata": {},
   "source": [
    "### Clase 22 Modifcar información a través de una API\n"
   ]
  },
  {
   "cell_type": "markdown",
   "metadata": {},
   "source": [
    "#### Request POST y PUT\n",
    "\n",
    "- Para un request POST usamos el mètodo requests.post, el cual recibe como parámetro la URL a consultar, y en el parámetro data, pasamos un diccioanario con los datos del body del request.\n",
    "\n",
    "- El método requests.put se usa exactamente igual para requests tipo PUT.\n"
   ]
  },
  {
   "cell_type": "code",
   "execution_count": null,
   "metadata": {},
   "outputs": [],
   "source": [
    "import requests\n",
    "\n",
    "r = requests.post(\"https://api.music-example.com7artists/12\", data = {\"name\":\"RHCP\"})\n",
    "\n",
    "# Luego, podemos leer la respuesta igual que antes:\n",
    "\n",
    "r.text # texto plano\n",
    "r.content # para contenido binario, como archivos\n",
    "r.json() #retorna un dicionario con el JSON ya parseado\n"
   ]
  },
  {
   "cell_type": "markdown",
   "metadata": {},
   "source": [
    "##### Request DELETE\n",
    "\n",
    "Para un request DELETE usamos el método requests.delete(). \n",
    "\n",
    "En este caso solo necesitamos pasar la URL del recurso como parámetro.\n",
    "\n"
   ]
  },
  {
   "cell_type": "code",
   "execution_count": null,
   "metadata": {},
   "outputs": [],
   "source": [
    "import rquests\n",
    "\n",
    "r = requests.delete(\"https://api.music-example.com/artists/12\") # lo que queremos borrar.\n",
    "\n",
    "# podemos leer la respuesta igual que antes.\n",
    "r.status_code\n"
   ]
  },
  {
   "cell_type": "markdown",
   "metadata": {},
   "source": [
    "##### Síntesis:\n",
    "\n",
    "- La librería request permite realizar requests HTTP en Python de manera muy simple.\n",
    "\n",
    "- Usando el método requests.post podemos realizar requests tipo POST. \n",
    "\n",
    "- Usando el método requests.put podemos realizar requests tipo PUT.\n",
    "\n",
    "- Usando el método requests.delete podemos relizar requests del tipo DELETE.\n",
    "\n",
    "- El objeto retornado de tipo Response permite leer la respuesta y sus características.\n"
   ]
  }
 ],
 "metadata": {
  "kernelspec": {
   "display_name": "Python 3",
   "language": "python",
   "name": "python3"
  },
  "language_info": {
   "codemirror_mode": {
    "name": "ipython",
    "version": 3
   },
   "file_extension": ".py",
   "mimetype": "text/x-python",
   "name": "python",
   "nbconvert_exporter": "python",
   "pygments_lexer": "ipython3",
   "version": "3.8.3"
  }
 },
 "nbformat": 4,
 "nbformat_minor": 4
}
