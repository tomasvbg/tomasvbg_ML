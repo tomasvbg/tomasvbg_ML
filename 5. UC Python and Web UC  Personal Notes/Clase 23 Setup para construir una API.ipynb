{
 "cells": [
  {
   "cell_type": "markdown",
   "metadata": {},
   "source": [
    "##### Clase 23 Setup para construir una API"
   ]
  },
  {
   "cell_type": "markdown",
   "metadata": {},
   "source": [
    "En django:"
   ]
  },
  {
   "cell_type": "code",
   "execution_count": null,
   "metadata": {},
   "outputs": [],
   "source": [
    "pip install requests # instalamos la librerìa requests"
   ]
  },
  {
   "cell_type": "code",
   "execution_count": null,
   "metadata": {},
   "outputs": [],
   "source": [
    "python  manage.py shell # iniciamos la shell de django"
   ]
  },
  {
   "cell_type": "code",
   "execution_count": null,
   "metadata": {},
   "outputs": [],
   "source": [
    "import requests # importamos la librerìa instalada"
   ]
  },
  {
   "cell_type": "code",
   "execution_count": null,
   "metadata": {},
   "outputs": [],
   "source": [
    "r = requests.get(\"https://api.github.com\") # llamamos la URl"
   ]
  },
  {
   "cell_type": "markdown",
   "metadata": {},
   "source": [
    "El métodod ***JSON*** \n",
    "\n",
    "- se implementa sobre la el objeto response.\n",
    "\n",
    "- entrega la transformación de la respuesta a un diccinario python.\n",
    "\n",
    "- de manera que podemos procesar la respuesta de manera mucho más cómoda."
   ]
  },
  {
   "cell_type": "code",
   "execution_count": null,
   "metadata": {},
   "outputs": [],
   "source": [
    "r.json() "
   ]
  }
 ],
 "metadata": {
  "kernelspec": {
   "display_name": "Python 3",
   "language": "python",
   "name": "python3"
  },
  "language_info": {
   "codemirror_mode": {
    "name": "ipython",
    "version": 3
   },
   "file_extension": ".py",
   "mimetype": "text/x-python",
   "name": "python",
   "nbconvert_exporter": "python",
   "pygments_lexer": "ipython3",
   "version": "3.8.3"
  }
 },
 "nbformat": 4,
 "nbformat_minor": 4
}
