{
 "cells": [
  {
   "cell_type": "markdown",
   "metadata": {},
   "source": [
    "### Clase 21 Obtener información desde una API"
   ]
  },
  {
   "cell_type": "markdown",
   "metadata": {},
   "source": [
    "Para obtener informaciòn desde una API en Python, podemos usar la librerìa requests, la cual es ampliamente usada por su simpleza.\n"
   ]
  },
  {
   "cell_type": "markdown",
   "metadata": {},
   "source": [
    "##### la librerìa requests\n",
    "\n",
    "Nos permite hacer requests:\n",
    "    \n",
    "    - Soporta la gran mayoría de formatos de respuesta.\n",
    "    - Tiene soporte para autenticaciòn y otras funcionalidades avanzadas.\n",
    "    - Destaca por su simpleza y facilidad de uso.\n",
    "    \n",
    "\n"
   ]
  },
  {
   "cell_type": "markdown",
   "metadata": {},
   "source": [
    "##### Instalación de la librería:\n",
    "\n",
    "pip install requests\n"
   ]
  },
  {
   "cell_type": "markdown",
   "metadata": {},
   "source": [
    "##### 1. GET\n",
    "\n",
    "Para un request GET, usamos el mètodo requests \"get\", el cual recibe como paràmetro la URL a consultar, y opcionalmente podemos pasarle query parameters en el paràmetro params como un diccioanrio.\n"
   ]
  },
  {
   "cell_type": "code",
   "execution_count": null,
   "metadata": {},
   "outputs": [],
   "source": [
    "import requests\n",
    "\n",
    "r = requests.get(\"https://api.discgs.com/artists/92476\", params{\"key\":\"value\"})\n"
   ]
  },
  {
   "cell_type": "markdown",
   "metadata": {},
   "source": [
    "### 2. Response\n",
    "\n",
    "Una vez realizado el request, podemos usar el objeto retornado (del tipo Response) para leer la respuesta y sus características:\n",
    "    "
   ]
  },
  {
   "cell_type": "code",
   "execution_count": 4,
   "metadata": {},
   "outputs": [
    {
     "ename": "NameError",
     "evalue": "name 'r' is not defined",
     "output_type": "error",
     "traceback": [
      "\u001b[0;31m---------------------------------------------------------------------------\u001b[0m",
      "\u001b[0;31mNameError\u001b[0m                                 Traceback (most recent call last)",
      "\u001b[0;32m<ipython-input-4-24ef4d28e502>\u001b[0m in \u001b[0;36m<module>\u001b[0;34m\u001b[0m\n\u001b[0;32m----> 1\u001b[0;31m \u001b[0mr\u001b[0m\u001b[0;34m.\u001b[0m\u001b[0mstatus_code\u001b[0m \u001b[0;31m# código de respuesta e.g 200\u001b[0m\u001b[0;34m\u001b[0m\u001b[0;34m\u001b[0m\u001b[0m\n\u001b[0m\u001b[1;32m      2\u001b[0m \u001b[0;34m\u001b[0m\u001b[0m\n\u001b[1;32m      3\u001b[0m \u001b[0mr\u001b[0m\u001b[0;34m.\u001b[0m\u001b[0mheaders\u001b[0m\u001b[0;34m[\u001b[0m\u001b[0;34m\"content-type\"\u001b[0m\u001b[0;34m]\u001b[0m \u001b[0;31m# header content-type e.g \"application/jason\"\u001b[0m\u001b[0;34m\u001b[0m\u001b[0;34m\u001b[0m\u001b[0m\n\u001b[1;32m      4\u001b[0m \u001b[0;34m\u001b[0m\u001b[0m\n\u001b[1;32m      5\u001b[0m \u001b[0mr\u001b[0m\u001b[0;34m.\u001b[0m\u001b[0mtext\u001b[0m \u001b[0;31m# cuerpo de la respeusta en texto plano\u001b[0m\u001b[0;34m\u001b[0m\u001b[0;34m\u001b[0m\u001b[0m\n",
      "\u001b[0;31mNameError\u001b[0m: name 'r' is not defined"
     ]
    }
   ],
   "source": [
    "r.status_code # código de respuesta e.g 200\n",
    "\n",
    "r.headers[\"content-type\"] # header content-type e.g \"application/jason\"\n",
    "\n",
    "r.text # cuerpo de la respeusta en texto plano\n",
    "\n",
    "r.content # para contenido binario, como archivos\n",
    "\n",
    "r.json() # retorna un diccioanrio con el JSON \n"
   ]
  },
  {
   "cell_type": "markdown",
   "metadata": {},
   "source": [
    "##### Síntesis\n",
    "\n",
    "- La librerìa requests permite realizar requests HTTP en Python de manera muy simple.\n",
    "\n",
    "- Usando el mètodo requests.get podemos realizar requests tipo GET.\n",
    "\n",
    "- El objeto retornado de tipo Response permite leer la respuesta y sus características.\n",
    "\n"
   ]
  }
 ],
 "metadata": {
  "kernelspec": {
   "display_name": "Python 3",
   "language": "python",
   "name": "python3"
  },
  "language_info": {
   "codemirror_mode": {
    "name": "ipython",
    "version": 3
   },
   "file_extension": ".py",
   "mimetype": "text/x-python",
   "name": "python",
   "nbconvert_exporter": "python",
   "pygments_lexer": "ipython3",
   "version": "3.8.3"
  }
 },
 "nbformat": 4,
 "nbformat_minor": 4
}
