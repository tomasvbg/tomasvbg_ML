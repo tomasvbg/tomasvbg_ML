{
 "cells": [
  {
   "cell_type": "markdown",
   "metadata": {},
   "source": [
    "### Clase 20 Introducción a las APIs REST"
   ]
  },
  {
   "cell_type": "markdown",
   "metadata": {},
   "source": [
    "La naturaleza de las tecnologìas de la web permiten que sea accesible por otros programas.\n",
    "\n",
    "- Podemos escribir un programa que haga requests HTTP a otros servidores web (que no son màs que otros programas)\n",
    "- Podría incluso leer el HTML/CSS e interpretarlo (web scraping).\n",
    "- Sin embargo, es màs práctico que los servidores web respondan en otro formato màs fácil de leer por un programa sin contenido estetico."
   ]
  },
  {
   "cell_type": "markdown",
   "metadata": {},
   "source": [
    "### API`s"
   ]
  },
  {
   "cell_type": "markdown",
   "metadata": {},
   "source": [
    "Application Programing Interface: es una interfaz computacional que define còm interactuar con un sistema computacional.\n",
    "\n",
    "    - Permite acceso externo a datos, lógica o procedimientos sin exponer los detalles, la lógica interna o los datos directamente.\n",
    "    - Brinda una especificaciòn que pueden seguir quienes estèn interesados en interactuar con el sistema.\n",
    "    \n",
    "    - La API de la capa del modelo de django nos pemite acceder a las base de datos sin ver directamente las tablas.\n",
    "    - Nos da una definiciòn de cómo interactuar con la base de datos."
   ]
  },
  {
   "cell_type": "markdown",
   "metadata": {},
   "source": [
    "### Web Sevice\n",
    "\n",
    "- Es un caso especial de API\n",
    "- Interactúan servidores web a travès de internet, mediante el protocolo HTTP.\n",
    "\n",
    "- No son más que URIs que reciben requests HTTP y responden en un formato adecuado para otro programa, permitiendo interoperabilidad entre servidorees de la web:\n",
    "    - Formatos màs usados: XML, JSON.\n",
    "    \n",
    "    \n"
   ]
  },
  {
   "cell_type": "markdown",
   "metadata": {},
   "source": [
    "### APIs REST\n",
    "\n",
    "Representational State Transfer es un estilo de arquitectura de software que define una serie de reglas y prácticas para construir webservices.\n",
    "\n",
    "- Los servicios REST permiten el acceso y manipulaciòn de recursos web, represenando estos recursos mediante texto pre-formateado:\n",
    "    - Puede ser HTML, XML, JSON.\n",
    "    \n",
    "\n",
    "- Usan un conjunto predeterminado de operaciones sin estado:\n",
    "    - Lo primero o diferencia de otos estándares como SOAP, en que cada webservice define su propio conjunto arbitrario de operaciones.\n",
    "    - Lo segundo queire decir que no es necesario que el servidor guarde algùn estado entre diferentes requests; cada request tiene toda la inforación necesaria.\n",
    "    \n",
    "### Generalmente, APIs REST exponen recursos individuales y colecciones de ellos:\n",
    "\n",
    "##### Uso típico de los mètodos HTTP para interactuar con colecciones y recursos individuales.\n",
    "\n",
    "-Para colecciones o recursos:\n",
    "\n",
    "GET: retorna las URIs de los recursos de la colección.\n",
    "\n",
    "POST: crea u recurso bajo la colección con una URI autogenerada y usando los datos del request.\n",
    "\n",
    "PUT: reemplaza o crea la colecciòn con lo enviado en el request.\n",
    "\n",
    "PATCH: Actualiza los recursos de la colecciòn con lo enviado en el request, o la crea si no existe.\n",
    "\n",
    "DELETE: borra la colecciòn.\n",
    "\n",
    "\n"
   ]
  },
  {
   "cell_type": "markdown",
   "metadata": {},
   "source": [
    "### JSON\n",
    "##### (Javascrit Object Notation)\n",
    "\n",
    "Es un formato de intercambio de informaciòn muy similar a los objetocs Javascript que ya vimos.\n",
    "\n",
    "- Tiene amplio soporte por parte de librerías en todos los lenguajes.\n",
    "- Fácil de leer por humanos tambièn.\n",
    "- Es lo màs usado actualmente para proveer y conumir APIS (sean REST o no)."
   ]
  },
  {
   "cell_type": "markdown",
   "metadata": {},
   "source": [
    "##### Composiciòn:\n",
    "\n",
    "- Un documento JSON válido puede ser un objeto o un arreglo de valores.\n",
    "\n",
    "- Las llaves de los objetos son strings.\n",
    "\n",
    "- Los valores (de los objetos o de los arreglos) pueden ser:\n",
    "    - Otro objeto\n",
    "    - Un arreglo\n",
    "    - Strings\n",
    "    - Números\n",
    "    - Booleans\n",
    "    - null\n",
    "    \n",
    "    Ejemplo:"
   ]
  },
  {
   "cell_type": "code",
   "execution_count": null,
   "metadata": {},
   "outputs": [],
   "source": [
    "{\n",
    "    \"name\": \"Jhon\",\n",
    "    \"last_name\":null,\n",
    "    \"age\": 30,\n",
    "    \"cars\":{\n",
    "        \"car1\":\"Ford\",\n",
    "        \"car2\":\"BMW\",\n",
    "        \"car3\":\"Fiat\",\n",
    "    },\n",
    "    \"nicknames\":[\n",
    "        \"Johnny\",\n",
    "        \"Big John\"\n",
    "    ],\n",
    "    \"is_married\": false\n",
    "}"
   ]
  },
  {
   "cell_type": "markdown",
   "metadata": {},
   "source": [
    "##### Síntesis\n",
    "\n",
    "- Una API es una especificación de una interfaz entre dos programas.\n",
    "- Un webservice es un caso especial de una API en el contexto de la web.\n",
    "    - un recurso web que es retornado en un formato adecuado para ser interoperado con otras màquinas.\n",
    "- REST es un estilo de arquitectura de especificaciòn de webservices que da un marco de referencia para proveerlas y consumirlas.\n",
    "- Se basa fuertemente en los métodos HTTP.\n",
    "- Actualmente el formato más usado para proveer y consumir APIs RESt es JSON."
   ]
  }
 ],
 "metadata": {
  "kernelspec": {
   "display_name": "Python 3",
   "language": "python",
   "name": "python3"
  },
  "language_info": {
   "codemirror_mode": {
    "name": "ipython",
    "version": 3
   },
   "file_extension": ".py",
   "mimetype": "text/x-python",
   "name": "python",
   "nbconvert_exporter": "python",
   "pygments_lexer": "ipython3",
   "version": "3.8.3"
  }
 },
 "nbformat": 4,
 "nbformat_minor": 4
}
