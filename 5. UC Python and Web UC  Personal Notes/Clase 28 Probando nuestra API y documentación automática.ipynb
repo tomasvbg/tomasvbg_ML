{
 "cells": [
  {
   "cell_type": "markdown",
   "metadata": {},
   "source": [
    "### Clase 28 Probando nuestra API y documentaciòn automática"
   ]
  },
  {
   "cell_type": "markdown",
   "metadata": {},
   "source": [
    "- Un aspecto muy importante de proveer una API es ofrecer documentaciòn, para que quien quiera usarla pueda saber cómo hacerlo.\n",
    "\n",
    "- Existen plataforma muy populares como Swagger y Redoc que además de generar la documentación, nos permiten probar nuestra API.\n",
    "\n",
    "- Veremos ahora una herramienta para generar documentación en ambos formatos automáticamente desde nuestra API, sin mayor trabajo.\n",
    "\n"
   ]
  },
  {
   "cell_type": "markdown",
   "metadata": {},
   "source": [
    "### drf-yasg2: Yet Another Swagger Generator 2\n",
    "\n",
    "drf-yasg2 es una librería para generar documentación en formato Swagger, redoc y OpenAPI automáticamente desde una API hecha con django RESTFramework.\n",
    "\n",
    "- Para instalar usamos: pip install drf-yasg2\n",
    "\n",
    "- Debemos configurar un par de cosas. En setting.py hay que agregarlo en INSTALLED_APPS:\n",
    "\n",
    "\n"
   ]
  },
  {
   "cell_type": "code",
   "execution_count": null,
   "metadata": {},
   "outputs": [],
   "source": [
    "INSTALLED_APPS = [\n",
    "    ...\n",
    "    \"drf_yasg2\"\n",
    "    ...\n",
    "]"
   ]
  },
  {
   "cell_type": "code",
   "execution_count": null,
   "metadata": {},
   "outputs": [],
   "source": [
    "- Y tambièn hay que agregar URLConfs en urls.py(ejemplo en slide siguiente)b."
   ]
  },
  {
   "cell_type": "markdown",
   "metadata": {},
   "source": [
    "### Síntesis\n",
    "\n",
    "- Un aspecto muy important de proveer na APi es publicar dcumentaciòn, para que pueda ser usada más fácilmente\n",
    "\n",
    "- Lo más común es usar plataformas como Swagger que además permiten probar nuestra API.\n",
    "\n",
    "- Usando la librería drf-yasg2 podemosgenear nuestra documentación muy fácilmente.\n"
   ]
  }
 ],
 "metadata": {
  "kernelspec": {
   "display_name": "Python 3",
   "language": "python",
   "name": "python3"
  },
  "language_info": {
   "codemirror_mode": {
    "name": "ipython",
    "version": 3
   },
   "file_extension": ".py",
   "mimetype": "text/x-python",
   "name": "python",
   "nbconvert_exporter": "python",
   "pygments_lexer": "ipython3",
   "version": "3.8.3"
  }
 },
 "nbformat": 4,
 "nbformat_minor": 4
}
