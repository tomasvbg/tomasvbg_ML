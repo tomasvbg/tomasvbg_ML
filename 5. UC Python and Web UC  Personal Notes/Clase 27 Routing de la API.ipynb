{
 "cells": [
  {
   "cell_type": "markdown",
   "metadata": {},
   "source": [
    "### Clase 27 Routing de la API"
   ]
  },
  {
   "cell_type": "markdown",
   "metadata": {},
   "source": [
    "La última componente que falta para tener nuestra API operativa es el outing, el cual veremos a continuaciòn."
   ]
  },
  {
   "cell_type": "code",
   "execution_count": null,
   "metadata": {},
   "outputs": [],
   "source": [
    "### Routing para class-based Views\n",
    "\n",
    "- En este caso debemos hacer el routing a mano, indicando para cada View su URL.\n",
    "\n",
    "- Lo hacemos en el archivo urls.py de la app music:\n",
    "    "
   ]
  },
  {
   "cell_type": "code",
   "execution_count": null,
   "metadata": {},
   "outputs": [],
   "source": [
    "from django urls import path\n",
    "from django rest_framework.urlpatterns import format_suffix_patterns\n",
    "from .import views\n",
    "\n",
    "urlpatterns = [\n",
    "    path(\"api/v1/artists/\", views.Artist.as_view()),\n",
    "    path(\"api/v1/artists/<int:pk>\"/,views.ArtistDetail.as_view()),\n",
    "]"
   ]
  },
  {
   "cell_type": "markdown",
   "metadata": {},
   "source": [
    "### Routing para Viewsets\n",
    "\n",
    "Si hacemos un viewset, jango REST Framework provee clases llamadas Routers que manejan las URLs automáticamente.\n"
   ]
  },
  {
   "cell_type": "code",
   "execution_count": null,
   "metadata": {},
   "outputs": [],
   "source": [
    "from django.urls import path, include\n",
    "from rest_framework.routers import DefaultRouter\n",
    "from .import viewsets\n",
    "\n",
    "# Creamos un router y registramos nuestro viewset\n",
    "router = DefaultRouter()\n",
    "router.register(\"\",viewsets.ArtistViewSet)\n",
    "\n",
    "# Basta con invluir las rutas generadas por el router\n",
    "urlpatterns = [\n",
    "    path(\"api7v1/\", include(router.urls)),\n",
    "    #...otras rutas...\n",
    "    \n",
    "]\n"
   ]
  },
  {
   "cell_type": "markdown",
   "metadata": {},
   "source": [
    "### Síntesis\n",
    "\n",
    "- Para mapear URLs a nuestros endpoints, agregamos rutas en el archivo urls.py.\n",
    "\n",
    "- En el caso de class-based views debemos hacerlo manualmente para cada view.\n",
    "\n",
    "- Si tenemos viewsets, podemos usar un Router que genera las rutas automáticamente.\n"
   ]
  },
  {
   "cell_type": "code",
   "execution_count": null,
   "metadata": {},
   "outputs": [],
   "source": []
  },
  {
   "cell_type": "code",
   "execution_count": null,
   "metadata": {},
   "outputs": [],
   "source": []
  },
  {
   "cell_type": "code",
   "execution_count": null,
   "metadata": {},
   "outputs": [],
   "source": []
  }
 ],
 "metadata": {
  "kernelspec": {
   "display_name": "Python 3",
   "language": "python",
   "name": "python3"
  },
  "language_info": {
   "codemirror_mode": {
    "name": "ipython",
    "version": 3
   },
   "file_extension": ".py",
   "mimetype": "text/x-python",
   "name": "python",
   "nbconvert_exporter": "python",
   "pygments_lexer": "ipython3",
   "version": "3.8.3"
  }
 },
 "nbformat": 4,
 "nbformat_minor": 4
}
