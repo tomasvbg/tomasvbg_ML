{
 "cells": [
  {
   "cell_type": "markdown",
   "metadata": {},
   "source": [
    "#### Modelos\n",
    "\n",
    "Una parte muy importante de toda aplicación web es su modelo de datos.\n",
    "\n",
    "Modelo de datos: representa la información que la aplicación maneja.\n",
    "\n",
    "#### Los modelos en Django son la representación de los datos de una app.\n",
    "\n",
    "- Cada modelo es una clase Python que se se verá reflejada en una(o más) tablas en la base de datos.\n",
    "\n",
    "- Contiene los campos y metadata adicional, y también métodos que establecen el comportamiento de los modelos.\n",
    "\n",
    "- Son la \"fuente de verdad\", es el único lugar donde se especifica el modelo de datos.\n"
   ]
  },
  {
   "cell_type": "code",
   "execution_count": null,
   "metadata": {},
   "outputs": [],
   "source": [
    "from django.db import models #paquete django  para manejo de modelos.\n",
    "\n",
    "class Artist(models.Model): #cada modelo hereda de django.db.models.Model\n",
    "    # luego, las variables de clase de cada modelo, representarán los campos en la bdd.\n",
    "    # para lo anterior, usamos instancias de la clase Fields para declararlos\n",
    "    name = models.CharField(max_leght=200)\n",
    "    genre = models.CharField(max_lenght=200)\n",
    "    # el nombre de cada variable, será el nombre en la bdd.\n"
   ]
  },
  {
   "cell_type": "code",
   "execution_count": null,
   "metadata": {
    "collapsed": true
   },
   "outputs": [],
   "source": [
    "Los modelos se escriben en el archivo models.py de nuestra app."
   ]
  },
  {
   "cell_type": "markdown",
   "metadata": {},
   "source": [
    "### Las variables de clase de cada modelo representarán los campos en la base de datos\n",
    "\n",
    "- Usamos instancias de la clase Field para declararlos.\n",
    "- En este ejemplo tenemos dos campos de texto, que se representan con la clase CharField.\n",
    "- El nombre de cada variable será el nombre en la base de datos."
   ]
  },
  {
   "cell_type": "markdown",
   "metadata": {},
   "source": [
    "### Algunos tipos de Field\n",
    "\n",
    "#### Datos\n",
    "Representan:\n",
    "\n",
    "- BooleanField: propiedades verdaderas o falsas.\n",
    "\n",
    "- CharField: textos.\n",
    "\n",
    "- DateField: fechas.\n",
    "\n",
    "- Date Time Field: horas.\n",
    "\n",
    "- EmailField: guardado de emails.\n",
    "\n",
    "- FileField: guardado de archivos.\n",
    "\n",
    "- FloatField: números de punto flotante.\n",
    "\n",
    "- ImageField: imágenes.\n",
    "\n",
    "- IntegerField: números enteros.\n",
    "\n",
    "- TextField: textos largos.\n",
    "\n",
    "- URLField: URLs.\n",
    "\n",
    "#### Relaciones\n",
    "Tipicas en una bdd, como:\n",
    "\n",
    "- ForeignKey:\n",
    "\n",
    "- ManyToManyField:\n",
    "\n",
    "- OneToOneField:\n"
   ]
  },
  {
   "cell_type": "markdown",
   "metadata": {},
   "source": [
    "### Fields-configuración"
   ]
  },
  {
   "cell_type": "code",
   "execution_count": null,
   "metadata": {},
   "outputs": [],
   "source": [
    "class Artist(model.Model):\n",
    "    name = models.CharField(max_length=200)\n",
    "    genre = models.Charfield(max_lenght=200)\n",
    "    \n",
    "class Album(models.Model):\n",
    "    artist = odels.ForeignKey(Artist, on_delete=models.CASCADE) #le pasamos como parámetro a qué modelo apunta,y cuál es el comportamiento al borrar la clase padre de éste. En este caso, cuando se borre un artista, se borrará el album también.\n",
    "    pub_date = models.DateField(\"date published\")"
   ]
  },
  {
   "cell_type": "markdown",
   "metadata": {},
   "source": [
    "##### Las instancias de Field pueden recibir un primer argumento opcional que será un nombre \"humano\"\n",
    "Aquí lo usamosparra la fehca de publicación de un álbum.\n",
    "\n",
    "#### Algunos fields tienen argummentos requeridos:\n",
    "En este aso, un CharField debe tener max_lenght que se usa al construir la base de datos.\n"
   ]
  },
  {
   "cell_type": "markdown",
   "metadata": {},
   "source": [
    "# Migraciones\n",
    "\n",
    "Con el código   que acabamos de escribir, django ya tiene la información necesaria para:\n",
    "    \n",
    "    - Generar un esquema de base de datos.\n",
    "    \n",
    "    - Generar una API de acceso a la base de datos a través de objetos de las clases.\n",
    "    \n",
    "    Para lo primero, django genera migraciones, que son la forma en que django guardalos cambios a la base de datos.\n",
    "    "
   ]
  },
  {
   "cell_type": "markdown",
   "metadata": {},
   "source": [
    "### Migraciones\n",
    "\n",
    "Para generar una migración de los modelos de nuestra app, ejecutamos:"
   ]
  },
  {
   "cell_type": "code",
   "execution_count": null,
   "metadata": {},
   "outputs": [],
   "source": [
    "$ python manage.py makemigrations music"
   ]
  },
  {
   "cell_type": "markdown",
   "metadata": {},
   "source": [
    "Con este comando, django inspecciona nuestros modelos  y genera una migración, que al ser ejecutada hará los cambios necesarios en la base de datos.\n",
    "\n",
    "El output del comando anterior es: "
   ]
  },
  {
   "cell_type": "markdown",
   "metadata": {},
   "source": [
    "    Migrations for \"music\":\n",
    "        music/migrations/0001_initial.py #applicación migrada y su ruta\n",
    "        # cambios creados por la migración\n",
    "        - Create model Artist\n",
    "        - Create model Album\n",
    "        \n",
    "Se generó un archivo con la migración inicial, que crea ambos modelos. Este arhivo se puede editar por si es necesario modiicar la migracion autogenerada."
   ]
  },
  {
   "cell_type": "markdown",
   "metadata": {},
   "source": [
    "### Migraciones\n",
    "\n",
    "Al correr la migración, se ejecutará el código SQL necesario, que podemos ver con el sguiente comando, donde xxxx es el número de la migración, en nuestro caso 0001."
   ]
  },
  {
   "cell_type": "code",
   "execution_count": null,
   "metadata": {},
   "outputs": [],
   "source": [
    "$ ppython manage.py sqlmigrate music xxxx"
   ]
  },
  {
   "cell_type": "markdown",
   "metadata": {},
   "source": [
    "Papa correr las migraciones, usamos el siguiente comando, que correrá todas las migraciones ppendientes contra nuestra base de datos."
   ]
  },
  {
   "cell_type": "code",
   "execution_count": null,
   "metadata": {},
   "outputs": [],
   "source": [
    "$ python manage.py migrate"
   ]
  },
  {
   "cell_type": "markdown",
   "metadata": {},
   "source": [
    "Las migraciones:\n",
    "    - Nos permiten modificar nuestro modelo de datos am edida que nuestra aplicación evoluciona.\n",
    "    - No es necesario re-hacer la base de datos cada vez."
   ]
  },
  {
   "cell_type": "markdown",
   "metadata": {},
   "source": [
    "### Modificación de nuestro modelo:\n",
    "\n",
    "1. Realizamos cambios en model.py\n",
    "\n",
    "2. Corremos python manage.py makemigrations para generar las migraciones de nuestros cambios.\n",
    "\n",
    "3. Corremos python manage.py migrate para ejecutar las migraciones. \n",
    "\n"
   ]
  },
  {
   "cell_type": "markdown",
   "metadata": {},
   "source": [
    "# API de modelos\n",
    "\n",
    "Django provee una API muy potente para interaxtuar con nuestros modelos."
   ]
  },
  {
   "cell_type": "code",
   "execution_count": null,
   "metadata": {},
   "outputs": [],
   "source": [
    "from music.models import Artis # importamos nuestro modelo\n",
    "\n",
    "Artist.objects.all() #objects nos permite acceder a la API, .all nos da todos los objetos.\n",
    "\n",
    "Artist.objetct.filter(id=1) # filter nos permite hacer consultas.\n",
    "\n",
    "Artist.objects.filter(name=\"Red Hot Chili Peppers\")\n",
    "\n",
    "Artist.objects.get(genre=\"Funk\") # get nos da el objeto que cumpla con la consulta. Falla si no existe o hay más de uno.\n",
    "\n",
    "a.save() # loguardamos en la base de datos."
   ]
  },
  {
   "cell_type": "markdown",
   "metadata": {},
   "source": [
    "# Síntesis\n",
    "\n",
    "- Los modelos en una app django representan los datos de un aplicación.\n",
    "\n",
    "- Se crean y modifican mediante migraciones, que reflejarán los modelos en una base de datos.\n",
    "\n",
    "- Usando la apI de modelos, podemos interactuar con la base de datos desde código Python."
   ]
  },
  {
   "cell_type": "markdown",
   "metadata": {},
   "source": []
  },
  {
   "cell_type": "code",
   "execution_count": null,
   "metadata": {},
   "outputs": [],
   "source": []
  },
  {
   "cell_type": "code",
   "execution_count": null,
   "metadata": {},
   "outputs": [],
   "source": []
  },
  {
   "cell_type": "code",
   "execution_count": null,
   "metadata": {},
   "outputs": [],
   "source": []
  }
 ],
 "metadata": {
  "kernelspec": {
   "display_name": "Python 3",
   "language": "python",
   "name": "python3"
  },
  "language_info": {
   "codemirror_mode": {
    "name": "ipython",
    "version": 3
   },
   "file_extension": ".py",
   "mimetype": "text/x-python",
   "name": "python",
   "nbconvert_exporter": "python",
   "pygments_lexer": "ipython3",
   "version": "3.8.3"
  }
 },
 "nbformat": 4,
 "nbformat_minor": 4
}
