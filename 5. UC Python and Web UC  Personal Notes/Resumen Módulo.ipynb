{
 "cells": [
  {
   "cell_type": "markdown",
   "metadata": {},
   "source": [
    "### 1. Modelo\n",
    "\n",
    "Cada modelo:\n",
    "\n",
    "- representa una clase Python,\n",
    "- que ser verá reflejada en una o más bases de datos.\n",
    "- contiene campos y metadata.\n",
    "- contiene los métodos que establecen el comportamiento de los modelos.\n",
    "    "
   ]
  },
  {
   "cell_type": "markdown",
   "metadata": {},
   "source": [
    "#### 1.1 Las  variables de clase de cada modelo representarán los CAMPOS en la base de datos:"
   ]
  },
  {
   "cell_type": "code",
   "execution_count": null,
   "metadata": {},
   "outputs": [],
   "source": [
    "from django.db import models\n",
    "\n",
    "class Artist(models.Model): #cada modelo hereda de django.db.models.Model\n",
    "    name = models.Charfield(max_lenght=200) # en este caso declaramos campos de texto\n",
    "    genre = models.Charfield(max_length=200) # el nombre de cada variable, será el nombre en la base de datos.\n",
    "    \n",
    "    # existen distintos tipos de fields para guardar distintos tipos de datos.\n",
    "    \n",
    "# este código se incorpora en el archivo models de nuestra app."
   ]
  },
  {
   "cell_type": "markdown",
   "metadata": {},
   "source": [
    "#### 1.2 asimismo, existen distintos tipos de relaciones típicas en una base de datos entre fields.\n",
    "    # por ejemplo:\n"
   ]
  },
  {
   "cell_type": "code",
   "execution_count": null,
   "metadata": {},
   "outputs": [],
   "source": [
    "class Album(model.Model):\n",
    "    artist = models.ForeignKey(Artist, on_delete=models.CASCADE) #en este caso la información no enta desde un campo, sino heredando desde otra clase\n",
    "    name = models.CharField(max_lenght=200)\n",
    "    pub_date = models.DateField(\"date published\")\n"
   ]
  },
  {
   "cell_type": "markdown",
   "metadata": {},
   "source": [
    "### 2. Migraciones"
   ]
  },
  {
   "cell_type": "markdown",
   "metadata": {},
   "source": [
    "Con el código que acabamos de escribir, django ya tiene la información necesaria para:\n",
    "    - Generar un esquema de base de datos.\n",
    "    - Generar una API de acceso a la base de datos a través de objetos de las clases.\n",
    "\n",
    "Para lo primero, django genera migraciones, que son la **forma en que django guarda los cambios a la base de datos.**"
   ]
  },
  {
   "cell_type": "markdown",
   "metadata": {},
   "source": [
    "#### 2.1 manage.py migrate"
   ]
  },
  {
   "cell_type": "code",
   "execution_count": null,
   "metadata": {},
   "outputs": [],
   "source": [
    "\n",
    "# mediante el siguiente comando:\n",
    "python manage.py migrations music\n",
    "    # python inspecciona nuestros modelos y genera una migración, que al ser ejecutada hará los cambios necesarios en la base de datos.\n",
    "\n",
    "# EL código Python que correrá la aplicación se encuentra en el archivo migrations de nuestra app. "
   ]
  },
  {
   "cell_type": "markdown",
   "metadata": {},
   "source": [
    "#### 2.2 Ejecución del código SQL necesario"
   ]
  },
  {
   "cell_type": "code",
   "execution_count": null,
   "metadata": {},
   "outputs": [],
   "source": [
    "# mediante el siguiente comando:\n",
    "python manage.py sqlmigrate musica XXX\n",
    "    # se ejecutará el código SQL necesario, que podemos ver en el siguiente comando, donde XXXX es el número de la migración."
   ]
  },
  {
   "cell_type": "markdown",
   "metadata": {},
   "source": [
    "### 3. API de modelos\n",
    "\n",
    "APIs de servicios web: son las interfaces de desarrollo de aplicaciones que permiten el intercambio de información entre un servicio web (software que da acceso a un servicio concreto a través de una URL) y una aplicación. \n",
    "\n",
    "Normalmente ese intercambio se produce a través de peticiones HTTP o HTTPS (la versión cifrada del protocolo HTTP). \n",
    "\n",
    "En la petición de la aplicación y respuesta, también en HTTP del servicio web, se contiene información de todo tipo tanto en los metadatos de la cabecera como en los del mensaje, normalmente en dos tipos de formatos muy usados: XML o JSON."
   ]
  },
  {
   "cell_type": "code",
   "execution_count": null,
   "metadata": {},
   "outputs": [],
   "source": [
    "objects.all()\n",
    "objects.filter()\n",
    "objects.get\n",
    "save()"
   ]
  },
  {
   "cell_type": "markdown",
   "metadata": {},
   "source": [
    "### 4. Views\n",
    "\n",
    "- Procesan requests HTTP y retornan HTML, generado desde templates.\n",
    "- Se escriben en el archivo views.py\n"
   ]
  },
  {
   "cell_type": "code",
   "execution_count": null,
   "metadata": {},
   "outputs": [],
   "source": [
    "from django.http import HttpResponse\n",
    "\n",
    "def index(request): #en este caso estoy generando una vista llamada index, la cual toma por argumento un request.\n",
    "    return HttpResponse(\"Bienvenidos a la app de música!\") # y me devuelve un objeteo (en este caso un response). http de tipo str."
   ]
  },
  {
   "cell_type": "markdown",
   "metadata": {},
   "source": [
    "### 5. Views y URLs\n",
    "\n",
    "- Para ver nuestra view, debemos hacer que alguna URL nos la muestre.\n",
    "\n",
    "- Para esto, creamos un archivo urls.py en la carpeta de la app correspondiente."
   ]
  },
  {
   "cell_type": "markdown",
   "metadata": {},
   "source": [
    "##### El path/ de nuesta app nos mostrará la vista \"index\" que definimos anteriormente."
   ]
  },
  {
   "cell_type": "code",
   "execution_count": null,
   "metadata": {},
   "outputs": [],
   "source": [
    "from django.urls import path\n",
    "from . import views\n",
    "\n",
    "# este será un arreglo con todas las URLs de nuestra app.\n",
    "urlpatterns = [path(\"\",views.index, name=\"index\"),] # En este caso, estamos declarando que el path vacío, nos va a mostrar la vista index\n"
   ]
  },
  {
   "cell_type": "markdown",
   "metadata": {},
   "source": [
    "##### Incluir la URL de nuestra app al proyecto.\n",
    "\n",
    "- Lo hacemos en el archivo urls.py del proyecto (donde ya están las URLs del admin)"
   ]
  },
  {
   "cell_type": "markdown",
   "metadata": {},
   "source": [
    "- En el siguiente arreglo urlpatterns, incluimos todas las rutas que definimos dentro de nuestra app, dentro de la ruta /music del proyecto.\n",
    "\n",
    "- Esto nos permite incluir nuestras rutas en múltiples proyectos sin que choque con otras.\n"
   ]
  },
  {
   "cell_type": "code",
   "execution_count": null,
   "metadata": {},
   "outputs": [],
   "source": [
    "from django.contrib import admin\n",
    "from django.urls import include, path\n",
    "\n",
    "urlpatterns = [\n",
    "    path(\"music/\", include(\"music.urls\")), #acá estamos incluyendo las rutas de music.\n",
    "    path(\"admin/\",admin.site.urls), #estas son las rutas admin\n",
    "]\n"
   ]
  },
  {
   "cell_type": "markdown",
   "metadata": {},
   "source": [
    "##### Volviendo a views:"
   ]
  },
  {
   "cell_type": "markdown",
   "metadata": {},
   "source": [
    "###### Podemos tener una view que muestre a un artista"
   ]
  },
  {
   "cell_type": "code",
   "execution_count": null,
   "metadata": {},
   "outputs": [],
   "source": [
    "def artist(request, artist_id):\n",
    "    return HttpResponse(\"Estás viendo al artista %s.´% artist id\") # no está haciendo eco del artist_id"
   ]
  },
  {
   "cell_type": "markdown",
   "metadata": {},
   "source": [
    "##### Pero esto no está haciendo nada, obtengamos el objeto y mostremos su nombre"
   ]
  },
  {
   "cell_type": "code",
   "execution_count": null,
   "metadata": {},
   "outputs": [],
   "source": [
    "def artist_detail(request, artist_id):\n",
    "    artist = Artist.objects.get(id=artist_id) # usamos la API de modelos. le pasamos el id del artista que recibimos\n",
    "    return HttpResponse(\"Estás viendo al artista %s.´% artist.name\")"
   ]
  },
  {
   "cell_type": "markdown",
   "metadata": {},
   "source": [
    "##### De esta forma, cada vez que modifiquemos los parámetros de la función, se modificará el path de la URL correspondiente, trayendo los datos desde la bdd."
   ]
  },
  {
   "cell_type": "markdown",
   "metadata": {},
   "source": [
    "### 6. Templates"
   ]
  },
  {
   "cell_type": "markdown",
   "metadata": {},
   "source": [
    " En la clase anterior, generamos documentos html en forma de response, pero no controlamos cómo estos eran generados.\n"
   ]
  },
  {
   "cell_type": "markdown",
   "metadata": {},
   "source": [
    "### 6.1 Sistema de templating\n",
    "\n",
    "- Django tiene un sistma de templating que genera HTML a partirde una mezcla de HTML y código python.\n",
    "\n",
    "- Podemos renderear estos templates con parámetros que pasamos desde las views.\n",
    "\n",
    "### Cómo?"
   ]
  },
  {
   "cell_type": "markdown",
   "metadata": {},
   "source": [
    "1. Creamos un directorio \"/templates\" dentro de nuestra app.\n",
    "2. Cremos un directorio dentro del anterior, donde estarán nuestros templates."
   ]
  },
  {
   "cell_type": "markdown",
   "metadata": {},
   "source": [
    "### Luego, debemos hacer dos cosas:\n",
    " \n",
    " \n",
    "    1. En nuestra view, pasamos objetos al template, para que pueda acceder datos, y generar el HTML dinámicamente.\n",
    "        - mediante el diccionario \"context\"\n",
    "        - rendereando usando el método render"
   ]
  },
  {
   "cell_type": "code",
   "execution_count": null,
   "metadata": {},
   "outputs": [],
   "source": [
    "def atist_detail(request,artist_id): # le pasamos el artista que recibimos desde la API de modelos, usando el artist_id que recibe desde la API de la view.\n",
    "    artist = Artist.objects.get(id=artist_id)\n",
    "    context = {\"artist\": artist}\n",
    "    return render(request, \"music/artist_detail.html\", context) #rendereamos el template. recibe por parámetros: el request, el template y el context."
   ]
  },
  {
   "cell_type": "markdown",
   "metadata": {},
   "source": [
    "    2. En el template, accedemos el context. \n",
    "    \n",
    "    ¿Cómo?\n",
    "    - Con llaves.\n",
    "    - Las llaves dobles interpretan el código Python que hay dentro y lo imprimen:\n",
    "        - Estás viendo el artista {{ artist.name }}"
   ]
  },
  {
   "cell_type": "markdown",
   "metadata": {},
   "source": [
    "### Otras acciones..."
   ]
  },
  {
   "cell_type": "markdown",
   "metadata": {},
   "source": [
    "##### Las llaves {% %} ejecutan el código Python sin imprimir"
   ]
  },
  {
   "cell_type": "markdown",
   "metadata": {},
   "source": [
    "##### Control de flujo:"
   ]
  },
  {
   "cell_type": "code",
   "execution_count": null,
   "metadata": {},
   "outputs": [],
   "source": [
    "{% for album in artist.album_set.all %}\n",
    "    {{album.name}}\n",
    "{% endfor %}"
   ]
  },
  {
   "cell_type": "markdown",
   "metadata": {},
   "source": [
    "##### Agregar HTML"
   ]
  },
  {
   "cell_type": "code",
   "execution_count": null,
   "metadata": {},
   "outputs": [],
   "source": [
    "<h1> Estás viendo al artista {{ artist.name}} </h1>\n",
    "<ul>\n",
    "{% for album in artist.album_set.all %}\n",
    "    <li>{{album.name}}</li>\n",
    "{% endfor %}\n",
    "</ul>"
   ]
  },
  {
   "cell_type": "markdown",
   "metadata": {},
   "source": [
    "##### Agregar CSS\n",
    "\n",
    "- Creamos un directorio /static dentro de nuestra app.\n",
    "- Dentro de {este, tenemos que creaor otro con el nombre de nuestra app. \n",
    "- Éste contendrá archivos estátivcos,como css y javascript.\n",
    "- Dentro, podemos poner nuestras hojas de estilo, por ejemplo sytle.css\n",
    "\n",
    "    Para referenciarlo en un template, ponemos lo siguiente:"
   ]
  },
  {
   "cell_type": "code",
   "execution_count": null,
   "metadata": {},
   "outputs": [],
   "source": [
    "{% load static %}\n",
    "<link rel=\"stylesheet\" type=\"text/css\", href=\"{% static \"music/style.css\" %}\">"
   ]
  },
  {
   "cell_type": "markdown",
   "metadata": {},
   "source": [
    "##### Herencia de Templates\n",
    "\n",
    "- Nos permite reutilizar templates.\n",
    "- Podemos tener una estructura para el HTML de nuestra aplicación.\n",
    "- Podemos centralizar cosas como la importación de CSS y Javascript, o el layout general.\n"
   ]
  },
  {
   "cell_type": "markdown",
   "metadata": {},
   "source": [
    "### 7. Forms"
   ]
  },
  {
   "cell_type": "markdown",
   "metadata": {},
   "source": [
    "Hasta ahora, hemos visto aplicaciones estáticas y otras que despliegan HTML dinámicamente, desde un modelo de datos, usando una base de datos."
   ]
  },
  {
   "cell_type": "markdown",
   "metadata": {},
   "source": [
    "- Permiten a los usuarios interactuar con la plataforma web.\n",
    "\n",
    "- ¿Cómo?\n",
    "    - El protocolo HTTP tiene la capacidad para este caso de uso:\n",
    "        - Métodos: POST, PUT, PATCH, DELETE.\n",
    "  "
   ]
  },
  {
   "cell_type": "markdown",
   "metadata": {},
   "source": [
    "  \n",
    "### Elementos HTML que permiten recibir del usuario y enviarlo al sevidor mediante esto métodos HTTP."
   ]
  },
  {
   "cell_type": "markdown",
   "metadata": {},
   "source": [
    "Form\n",
    "\n",
    "- Se usa para mostrar un formulario:"
   ]
  },
  {
   "cell_type": "code",
   "execution_count": null,
   "metadata": {},
   "outputs": [],
   "source": [
    "<body>\n",
    "    <form action=\"/someaction\" method=\"post\"> # action indica la ruta donde se enviarán los datos inggresado en el formulario. # method indica el método HTTP que se usará para enciar la información al servidor (valores posibles: get,post).\n",
    "        ...\n",
    "    </form>\n",
    "</body>\n"
   ]
  },
  {
   "cell_type": "markdown",
   "metadata": {},
   "source": [
    "\n",
    "- al enviar un formulario con **get**, los datos se enían como parte de la URL.\n",
    "- en un formulario con **post**, los datos se envían como parte del cuerpo del request, no son visibles en la URL."
   ]
  },
  {
   "cell_type": "markdown",
   "metadata": {},
   "source": [
    "##### Elementos Input:\n",
    "\n",
    "- para que el usuario pueda ingresar datos, se usan elementos input:\n",
    "\n",
    "\n",
    "\n",
    "                        "
   ]
  },
  {
   "cell_type": "code",
   "execution_count": null,
   "metadata": {},
   "outputs": [],
   "source": [
    "<body>\n",
    "    <form action=\"/someaction\" method=\"post\">\n",
    "        <input type=\"text\" name=\"first_name\"/> # el atributo type indica el tipo de input (texto, selección, archivo...)\n",
    "        <input type=\"text\" name=\"last_name\"/> # el atributo name indica el nombe con el cual le llegará el valor ingresado por el usuario al servidor. Si no se incluye, el dato no será enviado.\n",
    "    <form/>\n",
    "</body>\n"
   ]
  },
  {
   "cell_type": "markdown",
   "metadata": {},
   "source": [
    "##### Labels:\n",
    "\n",
    "- texto explicativo para cada input.\n",
    "- importantes para accesibilidad y usabilidad.\n",
    "\n",
    "- el atributo for indica a cuál input corresponde el label a través del id del input."
   ]
  },
  {
   "cell_type": "code",
   "execution_count": null,
   "metadata": {},
   "outputs": [],
   "source": [
    "<body>\n",
    "    <form action=\"/someaction\" method=\"post\">\n",
    "        <label for=\"first-name\">First name:<first_name/>\n",
    "    </form>\n",
    "</body>"
   ]
  },
  {
   "cell_type": "markdown",
   "metadata": {},
   "source": [
    "##### Tipos de input"
   ]
  },
  {
   "cell_type": "markdown",
   "metadata": {},
   "source": [
    "text\n",
    "- se usa para ingresa un texto de una línea."
   ]
  },
  {
   "cell_type": "code",
   "execution_count": null,
   "metadata": {},
   "outputs": [],
   "source": [
    "<label for=\"first-name\">First name:</label>\n",
    "<input type\"text\" id=\"first-name\" name=\"first_name\"/>"
   ]
  },
  {
   "cell_type": "markdown",
   "metadata": {},
   "source": [
    "radio\n",
    "- permiten al usuario seleccionar una opción"
   ]
  },
  {
   "cell_type": "code",
   "execution_count": null,
   "metadata": {},
   "outputs": [],
   "source": [
    "<input type \"radio\" id=\"input-green\" name=\"color\" value=\"green\"/> #todas tienen el mismo name, para que sean excluyentes.\n",
    "<label for=\"input-green\">Verde</label>\n",
    "<input type=\"radio\" id=\"input-yellow\" name=\"color\" value=\"yellow\"/>\n",
    "<label for=\"input-yellow\">Amarillo</label>\n",
    "<input type=\"radio\" id=\"input-red\" name=\"color\" value=\"red\"/>\n",
    "<label for=\"input-red\">Rojo</label>"
   ]
  },
  {
   "cell_type": "code",
   "execution_count": null,
   "metadata": {},
   "outputs": [],
   "source": [
    "checkbox\n",
    "\n",
    "- permiten seleccionar multiples opciones"
   ]
  },
  {
   "cell_type": "code",
   "execution_count": null,
   "metadata": {},
   "outputs": [],
   "source": [
    "<input type \"checkbox\" id=\"input-green\" name=\"color_green\" value=\"green\"/> #todas tienen el mismo name, para que sean excluyentes.\n",
    "<label for=\"input-green\">Verde</label>\n",
    "<input type=\"checkbox\" id=\"input-yellow\" name=\"color_yellow\" value=\"yellow\"/>\n",
    "<label for=\"input-yellow\">Amarillo</label>\n",
    "<input type=\"checkbox\" id=\"input-red\" name=\"color_red\" value=\"red\"/>\n",
    "<label for=\"input-red\">Rojo</label>"
   ]
  },
  {
   "cell_type": "code",
   "execution_count": null,
   "metadata": {},
   "outputs": [],
   "source": [
    "number\n",
    "\n",
    "- permite al usuario ingresar un número.\n",
    "- el browser impide que se ingreseb caracteres no numéricos.\n",
    "- se pueden establecer límites que el browser validará al enviar el formulario."
   ]
  },
  {
   "cell_type": "code",
   "execution_count": null,
   "metadata": {},
   "outputs": [],
   "source": [
    "<label for=\"input_age\">Edad</label>\n",
    "<input type=\"number\" id=\"input-age\" name=\"age\" min\"1\" max=\"99\">"
   ]
  },
  {
   "cell_type": "markdown",
   "metadata": {},
   "source": [
    "file\n",
    "\n",
    "- permite al usuario enviar un archivo\n",
    "- el atributo accept permite restringir el tipo de archivos\n"
   ]
  },
  {
   "cell_type": "code",
   "execution_count": 3,
   "metadata": {},
   "outputs": [
    {
     "ename": "SyntaxError",
     "evalue": "invalid syntax (<ipython-input-3-18e5fd4dba80>, line 1)",
     "output_type": "error",
     "traceback": [
      "\u001b[0;36m  File \u001b[0;32m\"<ipython-input-3-18e5fd4dba80>\"\u001b[0;36m, line \u001b[0;32m1\u001b[0m\n\u001b[0;31m    <label for=\"input-profile\">Foto de Perfil</label>\u001b[0m\n\u001b[0m    ^\u001b[0m\n\u001b[0;31mSyntaxError\u001b[0m\u001b[0;31m:\u001b[0m invalid syntax\n"
     ]
    }
   ],
   "source": [
    "<label for=\"input-profile\">Foto de Perfil</label>\n",
    "<input type=\"file\" id=\"input-profile\" name=\"profile\" accept=\"image/png,image/jpeg\">"
   ]
  },
  {
   "cell_type": "markdown",
   "metadata": {},
   "source": [
    "select\n",
    "\n",
    "- permite elegir una opción desde una lista desplegable"
   ]
  },
  {
   "cell_type": "code",
   "execution_count": 2,
   "metadata": {},
   "outputs": [
    {
     "ename": "SyntaxError",
     "evalue": "invalid syntax (<ipython-input-2-e95a26eb9fe3>, line 1)",
     "output_type": "error",
     "traceback": [
      "\u001b[0;36m  File \u001b[0;32m\"<ipython-input-2-e95a26eb9fe3>\"\u001b[0;36m, line \u001b[0;32m1\u001b[0m\n\u001b[0;31m    <label for=\"select-city\">Selecciona una comuna:</label>\u001b[0m\n\u001b[0m    ^\u001b[0m\n\u001b[0;31mSyntaxError\u001b[0m\u001b[0;31m:\u001b[0m invalid syntax\n"
     ]
    }
   ],
   "source": [
    "<label for=\"select-city\">Selecciona una comuna:</label>\n",
    "<select id=\"select-city\" name=\"city\">\n",
    "    <option value=\"pirque\">Pirque</option>\n",
    "    <option value=\"santiago\" selected>Santiago</option>\n",
    "    <option value=\"talagante\">Talagante</option>\n",
    "</select>\n"
   ]
  },
  {
   "cell_type": "markdown",
   "metadata": {},
   "source": [
    "enviar un form\n",
    "\n",
    "- se usa un input de tipo submit\n",
    "- el atributo value indica el texto que se mostrará en el botón."
   ]
  },
  {
   "cell_type": "markdown",
   "metadata": {},
   "source": [
    "<input type=\"submit\" value=\"Enviar\"/>"
   ]
  },
  {
   "cell_type": "code",
   "execution_count": null,
   "metadata": {},
   "outputs": [],
   "source": [
    "### Form en Django\n",
    "\n",
    "- se incorpora un formen el template.\n",
    "\n",
    "- recordemos que en un elemento de tipo form, usamos el atributo action para indicar dónde irá el request.\n",
    "    - en django podemos usar el helper URL para esto.\n",
    "    "
   ]
  },
  {
   "cell_type": "code",
   "execution_count": 2,
   "metadata": {},
   "outputs": [
    {
     "ename": "IndentationError",
     "evalue": "unindent does not match any outer indentation level (<tokenize>, line 7)",
     "output_type": "error",
     "traceback": [
      "\u001b[0;36m  File \u001b[0;32m\"<tokenize>\"\u001b[0;36m, line \u001b[0;32m7\u001b[0m\n\u001b[0;31m    </form>\u001b[0m\n\u001b[0m    ^\u001b[0m\n\u001b[0;31mIndentationError\u001b[0m\u001b[0;31m:\u001b[0m unindent does not match any outer indentation level\n"
     ]
    }
   ],
   "source": [
    "<h1>Artista</h1>\n",
    "<form action=\"{% url \"artist_detail\" artist.id %}\" method=\"post\">\n",
    "    {% csrf_token %}\n",
    "    {{form}}\n",
    "        <input type=\"text\" name=\"name\" value=\"{{artist.name}}\"/>\n",
    "        <input type=\"submit\" value=\"Guardar\">\n",
    "   </form> "
   ]
  },
  {
   "cell_type": "code",
   "execution_count": 1,
   "metadata": {},
   "outputs": [
    {
     "data": {
      "text/plain": [
       "Ellipsis"
      ]
     },
     "execution_count": 1,
     "metadata": {},
     "output_type": "execute_result"
    }
   ],
   "source": [
    "..."
   ]
  },
  {
   "cell_type": "markdown",
   "metadata": {},
   "source": [
    "### 8. Admins"
   ]
  },
  {
   "cell_type": "markdown",
   "metadata": {},
   "source": [
    "- Django provee una interfaz de administración autogenerada a partir de los modelos.\n",
    "- Se puede utilizar como backoffice o para un usuario administrador de la aplicación.\n",
    "- Se configura mediante la clase ModelAdmin."
   ]
  },
  {
   "cell_type": "code",
   "execution_count": null,
   "metadata": {},
   "outputs": [],
   "source": [
    "Sistema de administración que permite uns sisitema de backoffice para los administradores.\n",
    "\n",
    "- Django trae un sistema de usuarios y autenticación."
   ]
  },
  {
   "cell_type": "code",
   "execution_count": null,
   "metadata": {},
   "outputs": [],
   "source": [
    "# Para crear un usuario administrador en el comando:\n",
    "\n",
    "python manage.py createsuperuser\n",
    "\n",
    "python manage.py runserver # para ver sus efectos"
   ]
  },
  {
   "cell_type": "markdown",
   "metadata": {},
   "source": [
    "##### Visualización de modelos\n",
    "- Para ver los modelos de nuestra app debemos registrarlos en el archivo admin.py"
   ]
  },
  {
   "cell_type": "code",
   "execution_count": null,
   "metadata": {},
   "outputs": [],
   "source": [
    "from django.contrib import admin\n",
    "\n",
    "from .modelos import Album\n",
    "\n",
    "admin.site.register(Album) # aplicamos un método de su clase, register, el cual recibe com oargumento (Album)"
   ]
  },
  {
   "cell_type": "code",
   "execution_count": null,
   "metadata": {},
   "outputs": [],
   "source": [
    "##### Configuración\n",
    "\n",
    "Por defecto, al registrar un modelo en el admin se agregan todo sus campos. Podemos configurarlo mediante la clase Modeladmin.\n",
    "    -Campo exclude\n",
    "    -Campo fields"
   ]
  },
  {
   "cell_type": "markdown",
   "metadata": {},
   "source": [
    "### 9. Routing"
   ]
  },
  {
   "cell_type": "markdown",
   "metadata": {},
   "source": [
    "- Mediante archivos conociedos como URLConfs podemos configurar el routing de nuestro proyecto django.\n",
    "\n",
    "- Las URLConfs permiten generar nuestras URLs con gra flexibilidad, permitiendo incluir otras URLConfs o generar la configuración dinámicamente.\n",
    "\n",
    "- Django también provee mecanismos para hacer url reversing, generando las URLs para nuestras views sin tener que ponerlas en duro en nuestro código."
   ]
  },
  {
   "cell_type": "markdown",
   "metadata": {},
   "source": [
    "##### URLConfs\n",
    "- Son módulos Python para configurar URLs de un proyecto django.\n",
    "- Mapean URLs a views.\n",
    "- Al ser código python, se pueden referenciar otras URLCOnfs y se pueden construit de manera dinámica.\n",
    "\n",
    "Ejemplo: "
   ]
  },
  {
   "cell_type": "code",
   "execution_count": null,
   "metadata": {},
   "outputs": [],
   "source": [
    "from django.urls import path\n",
    "from . import views\n",
    "\n",
    "urlpatterns = [\n",
    "    path(\"\", views.index, name=\"index\"),\n",
    "]"
   ]
  },
  {
   "cell_type": "code",
   "execution_count": null,
   "metadata": {},
   "outputs": [],
   "source": [
    "### Capturar valores\n",
    "- Podemos usar <> para capturar valores desde la URL, que serán pasados a la view.\n",
    "- El formato es <converter.name>, donde el converter es un tipo de dato opcional que convertirá lo que se ingrese al tipo Python correspondiente y name es el nombre con que se pasará a la view.\n",
    "- Converters posibles: str, int, slug(cualquier texto), uuid, path.\n",
    "\n",
    "from django.urls import path\n",
    "from . import views\n",
    "\n",
    "urlpatterns = [\n",
    "    path(\"\",views.index, name=\"index\"),\n",
    "    path(<\"artist/<int:artist_id>/\", views.artist_detail, name=\"artist_detail\"),\n",
    "]\n",
    "        "
   ]
  },
  {
   "cell_type": "markdown",
   "metadata": {},
   "source": [
    "##### Orden de las URLs\n",
    "\n",
    "-Django procesa las URLs en orden.\n",
    "- La ruta /artists71/ invocará la view artist_special, pues aparece primero, a pesar de que la última ruta también hace match."
   ]
  },
  {
   "cell_type": "code",
   "execution_count": null,
   "metadata": {},
   "outputs": [],
   "source": [
    "from django.urls import path\n",
    "from . import views"
   ]
  },
  {
   "cell_type": "markdown",
   "metadata": {},
   "source": [
    "##### Includes\n",
    "\n",
    "Una URLConf puede incluir otras.\n",
    "\n",
    "En el ejemplo, la URLConf del proyecto incluye la URLConf de la app music.\n",
    "\n",
    "- Aquí cualquier ruta que comience con /music, django le sacará esa parte, y pasará el resto a la URLConf que incluimos para qu ela preocese.\n",
    "\n",
    "- De esta manera, la url /music/artist/2/ invocará la view artist_detail con artist_id=2."
   ]
  },
  {
   "cell_type": "code",
   "execution_count": null,
   "metadata": {},
   "outputs": [],
   "source": [
    "from django.urls import path, incliude\n",
    "\n",
    "urlpatterns = [\n",
    "    path(\"music\", include(\"music.urls\"))\n",
    "]"
   ]
  },
  {
   "cell_type": "markdown",
   "metadata": {},
   "source": [
    "##### Usando URLs en views y templates\n",
    "\n",
    "- Hemos visto cómo llegar desde una URL introducida por un usuario a la vista correspondiente (posiblemente con parámetros extraídos de la misma URL).\n",
    "\n",
    "- El proceso inverso a veces es necesario, y es conocido como URL reversing.\n",
    "\n",
    "- Django provee maneras de hacerlo tanto en views como en templates.\n",
    "\n",
    "- Esto es muy importante puesto que es una mala práctica porner URLs \"en duro\" en nuestro código.\n",
    "\n",
    "- En nuestra view podemos usar el método reverse:\n",
    "    "
   ]
  },
  {
   "cell_type": "code",
   "execution_count": null,
   "metadata": {},
   "outputs": [],
   "source": [
    "from django.http import HttpResponseRedirect\n",
    "from django.urls import reverse\n",
    "\n",
    "def artist_redirect(request, artist_id):\n",
    "    return HttpResponseRedirect(\n",
    "    reverse(\"artist_detail\", kwargs={\"artist_id\":artist_id}))\n",
    "\n",
    "# aquí estamos obteniendo la URL con nombre artist_detail y con el parámetro artist_id.\n",
    "    # Por ejemplo, si artist_id es 2, obtenemos /music/artists/2/"
   ]
  },
  {
   "cell_type": "markdown",
   "metadata": {},
   "source": [
    "##### Usando URLs en templates\n",
    "En nuestros templates podemos usar el helper url:\n"
   ]
  },
  {
   "cell_type": "code",
   "execution_count": null,
   "metadata": {},
   "outputs": [],
   "source": [
    "<a href= \"{%% url \"artist_detail\" artis.id %}\">Artist {{ artist.id}}</a>\n",
    "\n",
    "# Aquí estamos obteniendo la URL con nombre artist_detail y con el parámetro artist.id.\n",
    "# Por ejemplo, si artist.id es 2, obtenemos /music/artists/2/"
   ]
  },
  {
   "cell_type": "markdown",
   "metadata": {},
   "source": [
    "### 10. Django Shell"
   ]
  },
  {
   "cell_type": "code",
   "execution_count": null,
   "metadata": {},
   "outputs": [],
   "source": [
    "El comando shell inicia el interprete de django que nos permite interactuar con la API programática de django."
   ]
  },
  {
   "cell_type": "markdown",
   "metadata": {},
   "source": [
    "### 11. Javascript"
   ]
  },
  {
   "cell_type": "markdown",
   "metadata": {},
   "source": [
    "- JavaScript es un lenguaje de programación utilizado, principalemente, en aplicaciones web para procesamiento en el lado del cliente.\n",
    "\n",
    "- También se usa en otros contextos, como servidores Web.\n",
    "\n",
    "- En el cliente, sus principales usos son manipulación de HTML/CSS, reaccionar a acciones del usuario, y realizar requests de manera asíncrona.\n",
    "\n",
    "- La sintáxis de JavaScript incluye elementos tales como control de flujo, arreglos, objetos y funciones.\n",
    "\n"
   ]
  },
  {
   "cell_type": "markdown",
   "metadata": {},
   "source": [
    "- Principal Herramienta de procesamiento del lado del cliente.\n",
    "\n",
    "- Tiene como propósito dar vida a las páginas web.\n",
    "\n",
    "Permite:\n",
    "    - 1. Manipular HTML y CSS de una página\n",
    "        - Insertar o borrar elementos, cambiar contenido, cambiar atributos, modificar CSS..\n",
    "        \n",
    "    - 2. Reaccionar a acciones del usuario\n",
    "        - Envío de formularios, clicks, movimientos del mouse, teclado..\n",
    "   \n",
    "   - 3. Enviar requests al servidor sin recargar la página (AJAX, Fetch API)\n",
    "   \n",
    "   "
   ]
  },
  {
   "cell_type": "code",
   "execution_count": null,
   "metadata": {},
   "outputs": [],
   "source": [
    "##### Variables\n",
    "\n",
    "- JavaScript no tiene tipos estáticos, por lo que las variables se declaran sin tipo.\n",
    "- Uso de variables numéricas y strings:\n",
    "    "
   ]
  },
  {
   "cell_type": "code",
   "execution_count": null,
   "metadata": {},
   "outputs": [],
   "source": [
    "# // cosnt es para declarar variables que no se re-asignarán\n",
    "const a = 12;\n",
    "\n",
    "# // let permite re-asignar la variable\n",
    "let b = \"hola\";\n",
    "\n",
    "b = \"chao\";"
   ]
  },
  {
   "cell_type": "markdown",
   "metadata": {},
   "source": [
    "##### Condiciones y comparaciones"
   ]
  },
  {
   "cell_type": "code",
   "execution_count": null,
   "metadata": {},
   "outputs": [],
   "source": [
    "# Igualdad\n",
    "a === 12;\n",
    "a !== 15;\n",
    "\n",
    "# Comparaciones\n",
    "\n",
    "a <= 3;\n",
    "a > 0;\n",
    "\n",
    "# Operaciones Lógicas\n",
    "\n",
    "a >= 3 && a < 10;\n",
    "a === \"hola\" "
   ]
  },
  {
   "cell_type": "code",
   "execution_count": null,
   "metadata": {},
   "outputs": [],
   "source": [
    "##### if (a !==12) {\n",
    "//...\n",
    "} else if (a<=3) {\n",
    "    //...\n",
    "} else {\n",
    "    //...\n",
    "}\n",
    "\n",
    "while (a< 10) {\n",
    "    //...\n",
    "}\n",
    "\n",
    "for (let i = 2; i++) {\n",
    "    //...\n",
    "}"
   ]
  },
  {
   "cell_type": "code",
   "execution_count": null,
   "metadata": {},
   "outputs": [],
   "source": [
    "### Arreglos\n",
    "\n",
    "# Declaración\n",
    "\n",
    "const arr = [];\n",
    "\n",
    "# // Agregamos elementos:\n",
    "arr.push(1);\n",
    "arr.push(2);\n",
    "arr.push(3);\n",
    "\n",
    "let sum = 0;\n",
    "# // Iteración\n",
    "for (const elem of arr) {\n",
    "    sum += elem;\n",
    "}\n",
    "#// Acceso\n",
    "arr[1];\n",
    "\n",
    "#// Larfo\n",
    "arr.length;\n"
   ]
  },
  {
   "cell_type": "markdown",
   "metadata": {},
   "source": [
    "##### Objetos\n",
    "\n",
    "En javascript se le denomina objetos a diccionarios llave-valor.\n"
   ]
  },
  {
   "cell_type": "code",
   "execution_count": null,
   "metadata": {},
   "outputs": [],
   "source": [
    "# // Declaración\n",
    "\n",
    "const obj = {\n",
    "    key1: \"value1\",\n",
    "    key2: 30\n",
    "};\n",
    "\n",
    "# // Acceso a propiedades del objeto\n",
    "const v1 = obj.key;\n",
    "\n",
    "# // Modificación de propiedades del objeto [\"key1\", \"key2\"]\n",
    "const keys = Object.keys(obj);\n",
    "\n",
    "# // Areglo con los valores del objeto [\"value1\", 25]\n",
    "const values = Object.values(obj)\n",
    "\n",
    "# // Arreglo con los pared del objeto, cada uno en un arreglo [[\"key1\", \"value1\"],[\"key2\",\"value2\"]]\n",
    "const values = Object.values(obj);\n",
    "\n",
    "# // Arreglo con los pares del objeto, cada uno en un arreglo [[\"key1\", \"value1\"]], [\"key2\", 30]]\n",
    "const entries = Object.entries(obj);\n"
   ]
  },
  {
   "cell_type": "markdown",
   "metadata": {},
   "source": [
    "##### Funciones"
   ]
  },
  {
   "cell_type": "code",
   "execution_count": null,
   "metadata": {},
   "outputs": [],
   "source": [
    "function fibonacci(k) { # // declaración de una función\n",
    "    if (k < 2) {\n",
    "        return 1; # // Retorno de una función\n",
    "    }\n",
    "    let n0 = 1;\n",
    "    let n1 = 1;\n",
    "    for (let i =2; i <=k, i++) {\n",
    "        const n2 = n0 +n1;\n",
    "        n0 = n1;\n",
    "        n1 = n2;\n",
    "    }\n",
    "    retunr n1;\n",
    "}\n",
    "\n",
    "fibonacci(5); # // Llamando a una función."
   ]
  },
  {
   "cell_type": "markdown",
   "metadata": {},
   "source": [
    "### 12. Manipulación del DOM y eventos"
   ]
  },
  {
   "cell_type": "markdown",
   "metadata": {},
   "source": [
    "##### DOM\n",
    "\n",
    "- El DOM (Document Object Model) es una representación de GTML de una página mediante objetos JavaScript que puede modificarse:\n",
    "    - El punto de entrada es el objeto document.\n",
    "        - Por ejemplo, document.body nos entrega el body.\n",
    "    - Podemos modificar su contenido y estilo."
   ]
  },
  {
   "cell_type": "code",
   "execution_count": null,
   "metadata": {},
   "outputs": [],
   "source": [
    "##### Métodos de acceso\n",
    "\n",
    "Existen multiples maneras de acceder a los distintos elementos a parte del body.\n",
    "\n"
   ]
  },
  {
   "cell_type": "code",
   "execution_count": null,
   "metadata": {},
   "outputs": [],
   "source": [
    "# 1 \n",
    "document.getElementById(id)\n",
    "# Retorna el elemento que tenga el id dado, que debe ser único.\n",
    "\n",
    "# 2\n",
    "elem.querySelectorAll(selector)\n",
    "# Retrona un arreglo con todos los elementos que estén dentro de elem que cumplan con el selector CSS dado.\n"
   ]
  },
  {
   "cell_type": "markdown",
   "metadata": {},
   "source": [
    "##### Métodos de acceso"
   ]
  },
  {
   "cell_type": "code",
   "execution_count": null,
   "metadata": {},
   "outputs": [],
   "source": [
    "# retorna el elemento con id header:\n",
    "const header = document.getElementById(\"header\")\n",
    "\n",
    "# retorna todos los div dentro del body:\n",
    "const divs = document.body.querySelectorAll(\"div\")\n",
    "\n",
    "# retorna todos los elementos con clase class dentro del primer div d la query anterior:\n",
    "divs[0].querySelectorAll(\"class\")"
   ]
  },
  {
   "cell_type": "code",
   "execution_count": null,
   "metadata": {},
   "outputs": [],
   "source": []
  },
  {
   "cell_type": "code",
   "execution_count": null,
   "metadata": {},
   "outputs": [],
   "source": []
  }
 ],
 "metadata": {
  "kernelspec": {
   "display_name": "Python 3",
   "language": "python",
   "name": "python3"
  },
  "language_info": {
   "codemirror_mode": {
    "name": "ipython",
    "version": 3
   },
   "file_extension": ".py",
   "mimetype": "text/x-python",
   "name": "python",
   "nbconvert_exporter": "python",
   "pygments_lexer": "ipython3",
   "version": "3.8.3"
  }
 },
 "nbformat": 4,
 "nbformat_minor": 4
}
