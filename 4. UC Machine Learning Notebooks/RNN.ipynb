{
 "cells": [
  {
   "cell_type": "code",
   "execution_count": 1,
   "metadata": {},
   "outputs": [],
   "source": [
    "import matplotlib.pyplot as plt\n",
    "import os\n",
    "import re\n",
    "import shutil\n",
    "import string\n",
    "import tensorflow as tf\n",
    "import numpy as np\n",
    "from tensorflow.keras.layers.experimental.preprocessing import TextVectorization"
   ]
  },
  {
   "cell_type": "code",
   "execution_count": 2,
   "metadata": {},
   "outputs": [
    {
     "name": "stdout",
     "output_type": "stream",
     "text": [
      "Downloading data from https://ai.stanford.edu/~amaas/data/sentiment/aclImdb_v1.tar.gz\n",
      "84131840/84125825 [==============================] - 10s 0us/step\n"
     ]
    }
   ],
   "source": [
    "url = \"https://ai.stanford.edu/~amaas/data/sentiment/aclImdb_v1.tar.gz\"\n",
    "\n",
    "dataset = tf.keras.utils.get_file(\"aclImdb_v1.tar.gz\",\n",
    "                                url,\n",
    "                                untar=True,\n",
    "                                cache_dir='.',\n",
    "                                cache_subdir='')\n",
    "\n",
    "dataset_dir = os.path.join(os.path.dirname(dataset), 'aclImdb')\n"
   ]
  },
  {
   "cell_type": "code",
   "execution_count": 3,
   "metadata": {},
   "outputs": [],
   "source": [
    "train_dir = os.path.join(dataset_dir, 'train')\n",
    "test_dir = os.path.join(dataset_dir, 'test')"
   ]
  },
  {
   "cell_type": "code",
   "execution_count": 4,
   "metadata": {
    "scrolled": true
   },
   "outputs": [
    {
     "name": "stdout",
     "output_type": "stream",
     "text": [
      "Not the best of the films to be watched nowadays. I read a lot of reviews about Shining and was expecting it to be very good. But this movie disappointed me. The sound and environment was good, but there was no story here. Not was there a single moment of fright. I expected it to a horror thriller movie, but there was no horror no thriller. The only scene where I got scared was during the chapter change scene showing \"Wednesday\". There are lots of fragments i the movie. Most of the things are left unexplained with nothing to link it to anything. The story does not tell us about the women or other scenes that is shown. Might be a good movie to watch in the 80's, but not for the 21st century.\n"
     ]
    }
   ],
   "source": [
    "from glob import glob\n",
    "files_dir = os.path.join(train_dir, 'neg/*.txt')\n",
    "files = glob(files_dir)\n",
    "with open(files[0]) as f:\n",
    "    print(f.read())\n"
   ]
  },
  {
   "cell_type": "code",
   "execution_count": 5,
   "metadata": {
    "scrolled": true
   },
   "outputs": [],
   "source": [
    "remove_dir = os.path.join(train_dir, 'unsup')\n",
    "shutil.rmtree(remove_dir)"
   ]
  },
  {
   "cell_type": "code",
   "execution_count": 6,
   "metadata": {},
   "outputs": [
    {
     "name": "stdout",
     "output_type": "stream",
     "text": [
      "Found 25000 files belonging to 2 classes.\n",
      "Using 20000 files for training.\n"
     ]
    }
   ],
   "source": [
    "batch_size = 256\n",
    "seed = 42\n",
    "\n",
    "raw_train_ds = tf.keras.preprocessing.text_dataset_from_directory(\n",
    "    './aclImdb/train', \n",
    "    label_mode='categorical',\n",
    "    batch_size=batch_size, \n",
    "    validation_split=0.20, \n",
    "    subset='training', \n",
    "    seed=seed)\n"
   ]
  },
  {
   "cell_type": "code",
   "execution_count": 7,
   "metadata": {},
   "outputs": [
    {
     "name": "stdout",
     "output_type": "stream",
     "text": [
      "Found 25000 files belonging to 2 classes.\n",
      "Using 5000 files for validation.\n"
     ]
    }
   ],
   "source": [
    "raw_val_ds = tf.keras.preprocessing.text_dataset_from_directory(\n",
    "    './aclImdb/train', \n",
    "    label_mode='categorical',\n",
    "    batch_size=batch_size, \n",
    "    validation_split=0.2, \n",
    "    subset='validation', \n",
    "    seed=seed)\n"
   ]
  },
  {
   "cell_type": "code",
   "execution_count": 8,
   "metadata": {},
   "outputs": [
    {
     "name": "stdout",
     "output_type": "stream",
     "text": [
      "Found 25000 files belonging to 2 classes.\n"
     ]
    },
    {
     "data": {
      "text/plain": [
       "<BatchDataset shapes: ((None,), (None,)), types: (tf.string, tf.int32)>"
      ]
     },
     "execution_count": 8,
     "metadata": {},
     "output_type": "execute_result"
    }
   ],
   "source": [
    "raw_test_ds = tf.keras.preprocessing.text_dataset_from_directory(\n",
    "    'aclImdb/test', \n",
    "    batch_size=batch_size)\n",
    "raw_test_ds"
   ]
  },
  {
   "cell_type": "code",
   "execution_count": 9,
   "metadata": {},
   "outputs": [
    {
     "name": "stdout",
     "output_type": "stream",
     "text": [
      "Crítica:\n",
      "b'Example of how a World War 2 documentary should be made,using first hand accounts from actual troops and civilians whom participated in this awful conflict,and archived footage gathered from around the time .I caught this on a re-run on the History channel about a year and a half back,with no knowledge really of the Second World War at the time,but it enveloped me,and now I consider myself a World War 2 buff,watching and reading any and all that I can find about it,but nothing comes close to this landmark documentary,definitely worth buying the boxed set of.............<br /><br />This is quite simply documentary making of the very highest standard.' \n",
      "\n",
      "Etiqueta: [0. 1.]\n"
     ]
    }
   ],
   "source": [
    "for text_batch, label_batch in raw_train_ds.take(1):\n",
    "    print(\"Crítica:\") \n",
    "    print(text_batch.numpy()[0],'\\n')\n",
    "    print(\"Etiqueta:\", label_batch.numpy()[0])"
   ]
  },
  {
   "cell_type": "code",
   "execution_count": 10,
   "metadata": {},
   "outputs": [],
   "source": [
    "def normalizacion(input_data):\n",
    "    lowercase = tf.strings.lower(input_data)\n",
    "    stripped_html = tf.strings.regex_replace(lowercase, '<br />', ' ')\n",
    "    return tf.strings.regex_replace(stripped_html,\n",
    "                                  '[%s]' % re.escape(string.punctuation),\n",
    "                                  '')\n"
   ]
  },
  {
   "cell_type": "code",
   "execution_count": 11,
   "metadata": {},
   "outputs": [
    {
     "data": {
      "text/plain": [
       "'[!\"\\\\#\\\\$%\\\\&\\'\\\\(\\\\)\\\\*\\\\+,\\\\-\\\\./:;<=>\\\\?@\\\\[\\\\\\\\\\\\]\\\\^_`\\\\{\\\\|\\\\}\\\\~]'"
      ]
     },
     "execution_count": 11,
     "metadata": {},
     "output_type": "execute_result"
    }
   ],
   "source": [
    "'[%s]' % re.escape(string.punctuation)"
   ]
  },
  {
   "cell_type": "code",
   "execution_count": 12,
   "metadata": {},
   "outputs": [
    {
     "data": {
      "text/plain": [
       "<tf.Tensor: shape=(), dtype=string, numpy=b'example of how a world war 2 documentary should be madeusing first hand accounts from actual troops and civilians whom participated in this awful conflictand archived footage gathered from around the time i caught this on a rerun on the history channel about a year and a half backwith no knowledge really of the second world war at the timebut it enveloped meand now i consider myself a world war 2 buffwatching and reading any and all that i can find about itbut nothing comes close to this landmark documentarydefinitely worth buying the boxed set of  this is quite simply documentary making of the very highest standard'>"
      ]
     },
     "execution_count": 12,
     "metadata": {},
     "output_type": "execute_result"
    }
   ],
   "source": [
    "normalizacion(text_batch.numpy()[0])"
   ]
  },
  {
   "cell_type": "code",
   "execution_count": 13,
   "metadata": {},
   "outputs": [],
   "source": [
    "vocabulario = 10000\n",
    "largo_maximo = 150\n",
    "\n",
    "capa_vectorizacion = TextVectorization(\n",
    "                            standardize=normalizacion,\n",
    "                            max_tokens=vocabulario,\n",
    "                            output_mode='int',\n",
    "                            output_sequence_length=largo_maximo)\n"
   ]
  },
  {
   "cell_type": "code",
   "execution_count": 14,
   "metadata": {},
   "outputs": [],
   "source": [
    "# Make a text-only dataset (without labels), then call adapt\n",
    "train_text = raw_train_ds.map(lambda x, y: x)\n",
    "capa_vectorizacion.adapt(train_text)\n"
   ]
  },
  {
   "cell_type": "code",
   "execution_count": 15,
   "metadata": {},
   "outputs": [],
   "source": [
    "def vectorizar_texto(text, label):\n",
    "    text = tf.expand_dims(text, -1)\n",
    "    return capa_vectorizacion(text), label"
   ]
  },
  {
   "cell_type": "code",
   "execution_count": 16,
   "metadata": {},
   "outputs": [],
   "source": [
    "train_ds = raw_train_ds.map(vectorizar_texto)\n",
    "val_ds = raw_val_ds.map(vectorizar_texto)\n",
    "test_ds = raw_test_ds.map(vectorizar_texto)\n"
   ]
  },
  {
   "cell_type": "code",
   "execution_count": 17,
   "metadata": {},
   "outputs": [
    {
     "name": "stdout",
     "output_type": "stream",
     "text": [
      "Crítica:\n",
      "[  10 1182   66   57  314   12    2 2809  199 7271   10 2294    2  172\n",
      "   21    2 1946    1   13  125 5700    8    2  858   10  204    1    2\n",
      " 6223 2859 3493    5    2 5414 3163   14   24  229 4831 8152    8    2\n",
      "  191  503   18   12   13  153   54 1678  112  947 5236  718   33 2216\n",
      "    3 9583 1897 1004    5    2  574    4  471 3802    3    1    5    1\n",
      "   12  157  696   44    4   50   41  322 2015  839   48  501   44   14\n",
      "    4 1500 3036  795    5  538  447 2072  519  294    4  685  459   51\n",
      "    4    1    5  336    1 4988  456 9204    6 1006  257    1    1    3\n",
      " 6088 2723    4  247    8    2  468 5122   15   22   67   11  804  247\n",
      "    7    2 9017    5 2215    1   36   13    4    1    1  437  247    8\n",
      "    1    3    1 3420  126 2176   79    5    1 6358] \n",
      "\n",
      "Etiqueta: [1. 0.]\n"
     ]
    }
   ],
   "source": [
    "for text_batch, label_batch in train_ds.take(1):\n",
    "    print(\"Crítica:\") \n",
    "    print(text_batch.numpy()[0],'\\n')\n",
    "    print(\"Etiqueta:\", label_batch.numpy()[0])"
   ]
  },
  {
   "cell_type": "code",
   "execution_count": 18,
   "metadata": {},
   "outputs": [],
   "source": [
    "train_ds = train_ds.cache().prefetch(buffer_size=1)\n",
    "val_ds = val_ds.cache().prefetch(buffer_size=1)\n",
    "test_ds = test_ds.cache().prefetch(buffer_size=1)"
   ]
  },
  {
   "cell_type": "code",
   "execution_count": 19,
   "metadata": {},
   "outputs": [
    {
     "data": {
      "text/plain": [
       "<PrefetchDataset shapes: ((None, 150), (None, 2)), types: (tf.int64, tf.float32)>"
      ]
     },
     "execution_count": 19,
     "metadata": {},
     "output_type": "execute_result"
    }
   ],
   "source": [
    "train_ds"
   ]
  },
  {
   "cell_type": "code",
   "execution_count": 20,
   "metadata": {},
   "outputs": [],
   "source": [
    "embedding_dim = 16\n",
    "estado_oculto = 32\n",
    "\n",
    "tf.keras.backend.clear_session()\n",
    "\n",
    "inputs = tf.keras.layers.Input([largo_maximo])\n",
    "\n",
    "layer_1 = tf.keras.layers.Embedding(vocabulario + 1, embedding_dim, mask_zero=True)\n",
    "out_1 = layer_1(inputs)\n",
    "\n",
    "layer_2 = tf.keras.layers.Bidirectional(tf.keras.layers.LSTM(estado_oculto))\n",
    "out_2 = layer_2(out_1)\n",
    "\n",
    "layer_3 = tf.keras.layers.Dense(50, activation='relu')\n",
    "out_3 = layer_3(out_2)\n",
    "\n",
    "layer_4 = tf.keras.layers.Dropout(0.2)\n",
    "out_4 = layer_4(out_3)\n",
    "\n",
    "layer_5 = tf.keras.layers.Dense(2, activation='softmax')\n",
    "out_5 = layer_5(out_4)\n",
    "\n",
    "model = tf.keras.models.Model(inputs=inputs, outputs=out_5)"
   ]
  },
  {
   "cell_type": "code",
   "execution_count": 21,
   "metadata": {},
   "outputs": [
    {
     "name": "stdout",
     "output_type": "stream",
     "text": [
      "Model: \"functional_1\"\n",
      "_________________________________________________________________\n",
      "Layer (type)                 Output Shape              Param #   \n",
      "=================================================================\n",
      "input_1 (InputLayer)         [(None, 150)]             0         \n",
      "_________________________________________________________________\n",
      "embedding (Embedding)        (None, 150, 16)           160016    \n",
      "_________________________________________________________________\n",
      "bidirectional (Bidirectional (None, 64)                12544     \n",
      "_________________________________________________________________\n",
      "dense (Dense)                (None, 50)                3250      \n",
      "_________________________________________________________________\n",
      "dropout (Dropout)            (None, 50)                0         \n",
      "_________________________________________________________________\n",
      "dense_1 (Dense)              (None, 2)                 102       \n",
      "=================================================================\n",
      "Total params: 175,912\n",
      "Trainable params: 175,912\n",
      "Non-trainable params: 0\n",
      "_________________________________________________________________\n"
     ]
    },
    {
     "data": {
      "image/png": "[encoded data removed]",
      "text/plain": [
       "<IPython.core.display.Image object>"
      ]
     },
     "execution_count": 21,
     "metadata": {},
     "output_type": "execute_result"
    }
   ],
   "source": [
    "model.summary()\n",
    "tf.keras.utils.plot_model(    model, show_layer_names=False, show_shapes=True)"
   ]
  },
  {
   "cell_type": "code",
   "execution_count": 22,
   "metadata": {},
   "outputs": [],
   "source": [
    "\n",
    "metrics = [tf.keras.metrics.Recall()]\n",
    "\n",
    "model.compile(loss=tf.keras.losses.CategoricalCrossentropy(from_logits=True),\n",
    "              metrics=metrics,\n",
    "             optimizer=tf.keras.optimizers.Adam(learning_rate=1e-3), )"
   ]
  },
  {
   "cell_type": "code",
   "execution_count": 23,
   "metadata": {},
   "outputs": [
    {
     "name": "stdout",
     "output_type": "stream",
     "text": [
      "Epoch 1/10\n",
      "79/79 [==============================] - 11s 144ms/step - loss: 0.6312 - recall: 0.6399 - val_loss: 0.5026 - val_recall: 0.8076\n",
      "Epoch 2/10\n",
      "79/79 [==============================] - 8s 104ms/step - loss: 0.4733 - recall: 0.8398 - val_loss: 0.4893 - val_recall: 0.8270\n",
      "Epoch 3/10\n",
      "79/79 [==============================] - 8s 107ms/step - loss: 0.4353 - recall: 0.8762 - val_loss: 0.4613 - val_recall: 0.8432\n",
      "Epoch 4/10\n",
      "79/79 [==============================] - 9s 109ms/step - loss: 0.4121 - recall: 0.8989 - val_loss: 0.4620 - val_recall: 0.8400\n",
      "Epoch 5/10\n",
      "79/79 [==============================] - 9s 109ms/step - loss: 0.3960 - recall: 0.9168 - val_loss: 0.4859 - val_recall: 0.8198\n",
      "Epoch 6/10\n",
      "79/79 [==============================] - 9s 113ms/step - loss: 0.4079 - recall: 0.9031 - val_loss: 0.4606 - val_recall: 0.8464\n",
      "Epoch 7/10\n",
      "79/79 [==============================] - 10s 127ms/step - loss: 0.3916 - recall: 0.9199 - val_loss: 0.4616 - val_recall: 0.8438\n",
      "Epoch 8/10\n",
      "79/79 [==============================] - 9s 111ms/step - loss: 0.3804 - recall: 0.9314 - val_loss: 0.4929 - val_recall: 0.8106\n",
      "Epoch 9/10\n",
      "79/79 [==============================] - 9s 111ms/step - loss: 0.3754 - recall: 0.9369 - val_loss: 0.4612 - val_recall: 0.8444\n",
      "Epoch 10/10\n",
      "79/79 [==============================] - 9s 114ms/step - loss: 0.3730 - recall: 0.9395 - val_loss: 0.4610 - val_recall: 0.8462\n"
     ]
    }
   ],
   "source": [
    "epochs = 10\n",
    "history = model.fit(x=train_ds,\n",
    "                    validation_data=val_ds,\n",
    "                    validation_freq=1,\n",
    "                    epochs=epochs)\n"
   ]
  },
  {
   "cell_type": "code",
   "execution_count": 24,
   "metadata": {},
   "outputs": [
    {
     "data": {
      "image/png": "[encoded data removed]",
      "text/plain": [
       "<Figure size 432x288 with 1 Axes>"
      ]
     },
     "metadata": {
      "needs_background": "light"
     },
     "output_type": "display_data"
    }
   ],
   "source": [
    "plt.plot(np.arange(epochs), history.history['loss'], label='Train')\n",
    "plt.plot(np.arange(epochs), history.history['val_loss'], label='Val')\n",
    "plt.legend(loc=0)\n",
    "plt.xlabel('Época')\n",
    "plt.ylabel('Función de pérdida')\n",
    "plt.show()"
   ]
  },
  {
   "cell_type": "code",
   "execution_count": 25,
   "metadata": {},
   "outputs": [
    {
     "data": {
      "image/png": "[encoded data removed]",
      "text/plain": [
       "<Figure size 432x288 with 1 Axes>"
      ]
     },
     "metadata": {
      "needs_background": "light"
     },
     "output_type": "display_data"
    }
   ],
   "source": [
    "plt.plot(np.arange(epochs), history.history['recall'], label='Train')\n",
    "plt.plot(np.arange(epochs), history.history['val_recall'], label='Val')\n",
    "plt.legend(loc=0)\n",
    "plt.xlabel('Época')\n",
    "plt.ylabel('Recall')\n",
    "plt.show()"
   ]
  },
  {
   "cell_type": "code",
   "execution_count": null,
   "metadata": {},
   "outputs": [],
   "source": []
  }
 ],
 "metadata": {
  "kernelspec": {
   "display_name": "Python 3",
   "language": "python",
   "name": "python3"
  },
  "language_info": {
   "codemirror_mode": {
    "name": "ipython",
    "version": 3
   },
   "file_extension": ".py",
   "mimetype": "text/x-python",
   "name": "python",
   "nbconvert_exporter": "python",
   "pygments_lexer": "ipython3",
   "version": "3.6.9"
  }
 },
 "nbformat": 4,
 "nbformat_minor": 4
}
