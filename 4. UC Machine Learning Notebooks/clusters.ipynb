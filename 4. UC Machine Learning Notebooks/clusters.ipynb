{
 "cells": [
  {
   "cell_type": "code",
   "execution_count": 4,
   "metadata": {},
   "outputs": [],
   "source": [
    "import numpy as np\n",
    "import matplotlib.pyplot as plt\n",
    "import pandas as pd"
   ]
  },
  {
   "cell_type": "code",
   "execution_count": 5,
   "metadata": {},
   "outputs": [],
   "source": [
    "X = pd.read_table('kmeans2.csv', delimiter =',')\n",
    "X = X.sample(2000)"
   ]
  },
  {
   "cell_type": "code",
   "execution_count": 10,
   "metadata": {},
   "outputs": [
    {
     "data": {
      "text/html": [
       "<div>\n",
       "<style scoped>\n",
       "    .dataframe tbody tr th:only-of-type {\n",
       "        vertical-align: middle;\n",
       "    }\n",
       "\n",
       "    .dataframe tbody tr th {\n",
       "        vertical-align: top;\n",
       "    }\n",
       "\n",
       "    .dataframe thead th {\n",
       "        text-align: right;\n",
       "    }\n",
       "</style>\n",
       "<table border=\"1\" class=\"dataframe\">\n",
       "  <thead>\n",
       "    <tr style=\"text-align: right;\">\n",
       "      <th></th>\n",
       "      <th>PAC_EDAD</th>\n",
       "      <th>SATO2</th>\n",
       "      <th>TEMPERATURA</th>\n",
       "      <th>GLASGOW</th>\n",
       "      <th>EVA</th>\n",
       "      <th>HGT</th>\n",
       "      <th>FR</th>\n",
       "      <th>DIAS_HOSP</th>\n",
       "    </tr>\n",
       "  </thead>\n",
       "  <tbody>\n",
       "    <tr>\n",
       "      <th>106367</th>\n",
       "      <td>32</td>\n",
       "      <td>93.0</td>\n",
       "      <td>36.5</td>\n",
       "      <td>15.0</td>\n",
       "      <td>1.0</td>\n",
       "      <td>171.0</td>\n",
       "      <td>18.0</td>\n",
       "      <td>1.0</td>\n",
       "    </tr>\n",
       "    <tr>\n",
       "      <th>129740</th>\n",
       "      <td>28</td>\n",
       "      <td>97.0</td>\n",
       "      <td>36.7</td>\n",
       "      <td>15.0</td>\n",
       "      <td>4.0</td>\n",
       "      <td>98.0</td>\n",
       "      <td>18.0</td>\n",
       "      <td>1.0</td>\n",
       "    </tr>\n",
       "    <tr>\n",
       "      <th>127617</th>\n",
       "      <td>8</td>\n",
       "      <td>96.0</td>\n",
       "      <td>36.5</td>\n",
       "      <td>15.0</td>\n",
       "      <td>4.0</td>\n",
       "      <td>95.0</td>\n",
       "      <td>18.0</td>\n",
       "      <td>1.0</td>\n",
       "    </tr>\n",
       "    <tr>\n",
       "      <th>30805</th>\n",
       "      <td>54</td>\n",
       "      <td>99.0</td>\n",
       "      <td>36.2</td>\n",
       "      <td>15.0</td>\n",
       "      <td>6.0</td>\n",
       "      <td>241.0</td>\n",
       "      <td>18.0</td>\n",
       "      <td>1.0</td>\n",
       "    </tr>\n",
       "    <tr>\n",
       "      <th>83446</th>\n",
       "      <td>71</td>\n",
       "      <td>91.0</td>\n",
       "      <td>39.0</td>\n",
       "      <td>15.0</td>\n",
       "      <td>4.0</td>\n",
       "      <td>257.0</td>\n",
       "      <td>18.0</td>\n",
       "      <td>1.0</td>\n",
       "    </tr>\n",
       "  </tbody>\n",
       "</table>\n",
       "</div>"
      ],
      "text/plain": [
       "        PAC_EDAD  SATO2  TEMPERATURA  GLASGOW  EVA    HGT    FR  DIAS_HOSP\n",
       "106367        32   93.0         36.5     15.0  1.0  171.0  18.0        1.0\n",
       "129740        28   97.0         36.7     15.0  4.0   98.0  18.0        1.0\n",
       "127617         8   96.0         36.5     15.0  4.0   95.0  18.0        1.0\n",
       "30805         54   99.0         36.2     15.0  6.0  241.0  18.0        1.0\n",
       "83446         71   91.0         39.0     15.0  4.0  257.0  18.0        1.0"
      ]
     },
     "execution_count": 10,
     "metadata": {},
     "output_type": "execute_result"
    }
   ],
   "source": [
    "X.head()"
   ]
  },
  {
   "cell_type": "code",
   "execution_count": 39,
   "metadata": {},
   "outputs": [],
   "source": [
    "X = X.fillna(0)"
   ]
  },
  {
   "cell_type": "code",
   "execution_count": 41,
   "metadata": {},
   "outputs": [
    {
     "name": "stdout",
     "output_type": "stream",
     "text": [
      "PAC_EDAD\n"
     ]
    },
    {
     "data": {
      "image/png": "[encoded data removed]",
      "text/plain": [
       "<Figure size 432x288 with 1 Axes>"
      ]
     },
     "metadata": {
      "needs_background": "light"
     },
     "output_type": "display_data"
    },
    {
     "name": "stdout",
     "output_type": "stream",
     "text": [
      "SATO2\n"
     ]
    },
    {
     "data": {
      "image/png": "[encoded data removed]",
      "text/plain": [
       "<Figure size 432x288 with 1 Axes>"
      ]
     },
     "metadata": {
      "needs_background": "light"
     },
     "output_type": "display_data"
    },
    {
     "name": "stdout",
     "output_type": "stream",
     "text": [
      "TEMPERATURA\n"
     ]
    },
    {
     "data": {
      "image/png": "[encoded data removed]",
      "text/plain": [
       "<Figure size 432x288 with 1 Axes>"
      ]
     },
     "metadata": {
      "needs_background": "light"
     },
     "output_type": "display_data"
    },
    {
     "name": "stdout",
     "output_type": "stream",
     "text": [
      "GLASGOW\n"
     ]
    },
    {
     "data": {
      "image/png": "[encoded data removed]",
      "text/plain": [
       "<Figure size 432x288 with 1 Axes>"
      ]
     },
     "metadata": {
      "needs_background": "light"
     },
     "output_type": "display_data"
    },
    {
     "name": "stdout",
     "output_type": "stream",
     "text": [
      "EVA\n"
     ]
    },
    {
     "data": {
      "image/png": "[encoded data removed]",
      "text/plain": [
       "<Figure size 432x288 with 1 Axes>"
      ]
     },
     "metadata": {
      "needs_background": "light"
     },
     "output_type": "display_data"
    },
    {
     "name": "stdout",
     "output_type": "stream",
     "text": [
      "HGT\n"
     ]
    },
    {
     "data": {
      "image/png": "[encoded data removed]",
      "text/plain": [
       "<Figure size 432x288 with 1 Axes>"
      ]
     },
     "metadata": {
      "needs_background": "light"
     },
     "output_type": "display_data"
    },
    {
     "name": "stdout",
     "output_type": "stream",
     "text": [
      "FR\n"
     ]
    },
    {
     "data": {
      "image/png": "[encoded data removed]",
      "text/plain": [
       "<Figure size 432x288 with 1 Axes>"
      ]
     },
     "metadata": {
      "needs_background": "light"
     },
     "output_type": "display_data"
    },
    {
     "name": "stdout",
     "output_type": "stream",
     "text": [
      "DIAS_HOSP\n"
     ]
    },
    {
     "data": {
      "image/png": "[encoded data removed]",
      "text/plain": [
       "<Figure size 432x288 with 1 Axes>"
      ]
     },
     "metadata": {
      "needs_background": "light"
     },
     "output_type": "display_data"
    }
   ],
   "source": [
    "for i in X.columns:\n",
    "    print(i)\n",
    "    plt.hist(X[i])\n",
    "    plt.show()"
   ]
  },
  {
   "cell_type": "code",
   "execution_count": 42,
   "metadata": {},
   "outputs": [
    {
     "data": {
      "text/plain": [
       "'PAC_EDAD'"
      ]
     },
     "execution_count": 42,
     "metadata": {},
     "output_type": "execute_result"
    }
   ],
   "source": [
    "X.columns[0]"
   ]
  },
  {
   "cell_type": "code",
   "execution_count": 43,
   "metadata": {},
   "outputs": [
    {
     "data": {
      "text/plain": [
       "PAC_EDAD        1.0\n",
       "SATO2          18.0\n",
       "TEMPERATURA    34.0\n",
       "GLASGOW         3.0\n",
       "EVA             1.0\n",
       "HGT            29.0\n",
       "FR             12.0\n",
       "DIAS_HOSP       0.0\n",
       "dtype: float64"
      ]
     },
     "execution_count": 43,
     "metadata": {},
     "output_type": "execute_result"
    }
   ],
   "source": [
    "X.min()"
   ]
  },
  {
   "cell_type": "code",
   "execution_count": 44,
   "metadata": {},
   "outputs": [
    {
     "data": {
      "text/html": [
       "<div>\n",
       "<style scoped>\n",
       "    .dataframe tbody tr th:only-of-type {\n",
       "        vertical-align: middle;\n",
       "    }\n",
       "\n",
       "    .dataframe tbody tr th {\n",
       "        vertical-align: top;\n",
       "    }\n",
       "\n",
       "    .dataframe thead th {\n",
       "        text-align: right;\n",
       "    }\n",
       "</style>\n",
       "<table border=\"1\" class=\"dataframe\">\n",
       "  <thead>\n",
       "    <tr style=\"text-align: right;\">\n",
       "      <th></th>\n",
       "      <th>PAC_EDAD</th>\n",
       "      <th>SATO2</th>\n",
       "      <th>TEMPERATURA</th>\n",
       "      <th>GLASGOW</th>\n",
       "      <th>EVA</th>\n",
       "      <th>HGT</th>\n",
       "      <th>FR</th>\n",
       "      <th>DIAS_HOSP</th>\n",
       "    </tr>\n",
       "  </thead>\n",
       "  <tbody>\n",
       "    <tr>\n",
       "      <th>29424</th>\n",
       "      <td>0.010204</td>\n",
       "      <td>0.987805</td>\n",
       "      <td>0.523810</td>\n",
       "      <td>1.0</td>\n",
       "      <td>0.111111</td>\n",
       "      <td>0.317690</td>\n",
       "      <td>0.18750</td>\n",
       "      <td>0.009434</td>\n",
       "    </tr>\n",
       "    <tr>\n",
       "      <th>98028</th>\n",
       "      <td>0.448980</td>\n",
       "      <td>0.975610</td>\n",
       "      <td>0.396825</td>\n",
       "      <td>1.0</td>\n",
       "      <td>0.222222</td>\n",
       "      <td>0.223827</td>\n",
       "      <td>0.18750</td>\n",
       "      <td>0.009434</td>\n",
       "    </tr>\n",
       "    <tr>\n",
       "      <th>65409</th>\n",
       "      <td>0.000000</td>\n",
       "      <td>0.975610</td>\n",
       "      <td>0.317460</td>\n",
       "      <td>1.0</td>\n",
       "      <td>0.333333</td>\n",
       "      <td>0.218412</td>\n",
       "      <td>0.21875</td>\n",
       "      <td>0.009434</td>\n",
       "    </tr>\n",
       "    <tr>\n",
       "      <th>94946</th>\n",
       "      <td>0.265306</td>\n",
       "      <td>0.987805</td>\n",
       "      <td>0.476190</td>\n",
       "      <td>1.0</td>\n",
       "      <td>0.333333</td>\n",
       "      <td>0.146209</td>\n",
       "      <td>0.12500</td>\n",
       "      <td>0.009434</td>\n",
       "    </tr>\n",
       "    <tr>\n",
       "      <th>65899</th>\n",
       "      <td>0.612245</td>\n",
       "      <td>0.975610</td>\n",
       "      <td>0.444444</td>\n",
       "      <td>1.0</td>\n",
       "      <td>0.222222</td>\n",
       "      <td>0.222022</td>\n",
       "      <td>0.09375</td>\n",
       "      <td>0.009434</td>\n",
       "    </tr>\n",
       "  </tbody>\n",
       "</table>\n",
       "</div>"
      ],
      "text/plain": [
       "       PAC_EDAD     SATO2  TEMPERATURA  GLASGOW       EVA       HGT       FR  \\\n",
       "29424  0.010204  0.987805     0.523810      1.0  0.111111  0.317690  0.18750   \n",
       "98028  0.448980  0.975610     0.396825      1.0  0.222222  0.223827  0.18750   \n",
       "65409  0.000000  0.975610     0.317460      1.0  0.333333  0.218412  0.21875   \n",
       "94946  0.265306  0.987805     0.476190      1.0  0.333333  0.146209  0.12500   \n",
       "65899  0.612245  0.975610     0.444444      1.0  0.222222  0.222022  0.09375   \n",
       "\n",
       "       DIAS_HOSP  \n",
       "29424   0.009434  \n",
       "98028   0.009434  \n",
       "65409   0.009434  \n",
       "94946   0.009434  \n",
       "65899   0.009434  "
      ]
     },
     "execution_count": 44,
     "metadata": {},
     "output_type": "execute_result"
    }
   ],
   "source": [
    "X=((X-X.min())/(X.max()-X.min()))\n",
    "X.head()"
   ]
  },
  {
   "cell_type": "code",
   "execution_count": 46,
   "metadata": {},
   "outputs": [
    {
     "data": {
      "text/plain": [
       "KMeans(algorithm='auto', copy_x=True, init='k-means++', max_iter=300,\n",
       "       n_clusters=6, n_init=10, n_jobs=None, precompute_distances='auto',\n",
       "       random_state=None, tol=0.0001, verbose=0)"
      ]
     },
     "execution_count": 46,
     "metadata": {},
     "output_type": "execute_result"
    }
   ],
   "source": [
    "from sklearn.cluster import KMeans, AgglomerativeClustering\n",
    "k_means_2 = KMeans(n_clusters=6)\n",
    "k_means_2.fit(X)"
   ]
  },
  {
   "cell_type": "code",
   "execution_count": 47,
   "metadata": {},
   "outputs": [
    {
     "data": {
      "text/plain": [
       "AgglomerativeClustering(affinity='euclidean', compute_full_tree='auto',\n",
       "                        connectivity=None, distance_threshold=None,\n",
       "                        linkage='ward', memory=None, n_clusters=6)"
      ]
     },
     "execution_count": 47,
     "metadata": {},
     "output_type": "execute_result"
    }
   ],
   "source": [
    "AgCluster = AgglomerativeClustering(n_clusters=6)\n",
    "AgCluster.fit(X)"
   ]
  },
  {
   "cell_type": "code",
   "execution_count": 48,
   "metadata": {},
   "outputs": [
    {
     "data": {
      "text/plain": [
       "array([0, 5, 0, ..., 0, 2, 4])"
      ]
     },
     "execution_count": 48,
     "metadata": {},
     "output_type": "execute_result"
    }
   ],
   "source": [
    "AgCluster.labels_"
   ]
  },
  {
   "cell_type": "code",
   "execution_count": 49,
   "metadata": {},
   "outputs": [
    {
     "data": {
      "text/plain": [
       "array([[0.69355418, 0.95048952, 0.39716074, 0.99090376, 0.20187793,\n",
       "        0.2511504 , 0.18364877, 0.01199176],\n",
       "       [0.11195701, 0.96708464, 0.45807832, 0.99738767, 0.55555556,\n",
       "        0.21965642, 0.25577978, 0.01842432],\n",
       "       [0.25016458, 0.97187254, 0.42908346, 1.        , 0.33154122,\n",
       "        0.60834207, 0.17473118, 0.01333942],\n",
       "       [0.59511791, 0.96169094, 0.41230579, 0.99293286, 0.55084413,\n",
       "        0.25412356, 0.17999117, 0.01093406],\n",
       "       [0.33937894, 0.9670205 , 0.41997574, 0.99972315, 0.23181986,\n",
       "        0.20178826, 0.1557309 , 0.01379051],\n",
       "       [0.05676529, 0.96648773, 0.45140629, 0.99880383, 0.15488215,\n",
       "        0.21733773, 0.2210925 , 0.012052  ]])"
      ]
     },
     "execution_count": 49,
     "metadata": {},
     "output_type": "execute_result"
    }
   ],
   "source": [
    "k_means_2.cluster_centers_"
   ]
  },
  {
   "cell_type": "code",
   "execution_count": 51,
   "metadata": {},
   "outputs": [
    {
     "data": {
      "text/plain": [
       "0.41230579393123584"
      ]
     },
     "execution_count": 51,
     "metadata": {},
     "output_type": "execute_result"
    }
   ],
   "source": [
    "minimo = X['DIAS_HOSP'].min()\n",
    "maximo = X['DIAS_HOSP'].max()\n",
    "k_means_2.cluster_centers_[3][2]*(maximo-minimo)+minimo"
   ]
  },
  {
   "cell_type": "markdown",
   "metadata": {},
   "source": [
    "Cluster 1: En cluster encontramos pacientes niños,.....\n",
    "\n"
   ]
  },
  {
   "cell_type": "code",
   "execution_count": 52,
   "metadata": {},
   "outputs": [
    {
     "data": {
      "text/plain": [
       "123.35123555298786"
      ]
     },
     "execution_count": 52,
     "metadata": {},
     "output_type": "execute_result"
    }
   ],
   "source": [
    "k_means_2.inertia_"
   ]
  },
  {
   "cell_type": "code",
   "execution_count": 53,
   "metadata": {},
   "outputs": [
    {
     "data": {
      "text/plain": [
       "array([5, 4, 5, ..., 5, 3, 0], dtype=int32)"
      ]
     },
     "execution_count": 53,
     "metadata": {},
     "output_type": "execute_result"
    }
   ],
   "source": [
    "k_means_2.labels_"
   ]
  },
  {
   "cell_type": "code",
   "execution_count": 54,
   "metadata": {},
   "outputs": [
    {
     "data": {
      "image/png": "[encoded data removed]",
      "text/plain": [
       "<Figure size 432x288 with 1 Axes>"
      ]
     },
     "metadata": {
      "needs_background": "light"
     },
     "output_type": "display_data"
    }
   ],
   "source": [
    "resultados = {}\n",
    "for k in range(1, 20):\n",
    "    kmeans = KMeans(n_clusters=k, max_iter=1000).fit(X)\n",
    "    resultados[k] = kmeans.inertia_\n",
    "plt.figure()\n",
    "plt.plot(list(resultados.keys()), list(resultados.values()), color ='r')\n",
    "plt.xlabel(\"Número de clusters\")\n",
    "plt.ylabel(\"Distancia intra clases\")\n",
    "plt.show()"
   ]
  },
  {
   "cell_type": "markdown",
   "metadata": {},
   "source": [
    "asfsbdfljsdbvSB"
   ]
  },
  {
   "cell_type": "code",
   "execution_count": 55,
   "metadata": {},
   "outputs": [
    {
     "data": {
      "text/plain": [
       "KMeans(algorithm='auto', copy_x=True, init='k-means++', max_iter=300,\n",
       "       n_clusters=3, n_init=10, n_jobs=None, precompute_distances='auto',\n",
       "       random_state=None, tol=0.0001, verbose=0)"
      ]
     },
     "execution_count": 55,
     "metadata": {},
     "output_type": "execute_result"
    }
   ],
   "source": [
    "k = 3\n",
    "k_means_2 = KMeans(n_clusters=k)\n",
    "k_means_2.fit(X)"
   ]
  },
  {
   "cell_type": "code",
   "execution_count": 56,
   "metadata": {},
   "outputs": [
    {
     "data": {
      "text/html": [
       "<div>\n",
       "<style scoped>\n",
       "    .dataframe tbody tr th:only-of-type {\n",
       "        vertical-align: middle;\n",
       "    }\n",
       "\n",
       "    .dataframe tbody tr th {\n",
       "        vertical-align: top;\n",
       "    }\n",
       "\n",
       "    .dataframe thead th {\n",
       "        text-align: right;\n",
       "    }\n",
       "</style>\n",
       "<table border=\"1\" class=\"dataframe\">\n",
       "  <thead>\n",
       "    <tr style=\"text-align: right;\">\n",
       "      <th></th>\n",
       "      <th>PAC_EDAD</th>\n",
       "      <th>SATO2</th>\n",
       "      <th>TEMPERATURA</th>\n",
       "      <th>GLASGOW</th>\n",
       "      <th>EVA</th>\n",
       "      <th>HGT</th>\n",
       "      <th>FR</th>\n",
       "      <th>DIAS_HOSP</th>\n",
       "    </tr>\n",
       "  </thead>\n",
       "  <tbody>\n",
       "    <tr>\n",
       "      <th>29424</th>\n",
       "      <td>0.010204</td>\n",
       "      <td>0.987805</td>\n",
       "      <td>0.523810</td>\n",
       "      <td>1.0</td>\n",
       "      <td>0.111111</td>\n",
       "      <td>0.317690</td>\n",
       "      <td>0.18750</td>\n",
       "      <td>0.009434</td>\n",
       "    </tr>\n",
       "    <tr>\n",
       "      <th>98028</th>\n",
       "      <td>0.448980</td>\n",
       "      <td>0.975610</td>\n",
       "      <td>0.396825</td>\n",
       "      <td>1.0</td>\n",
       "      <td>0.222222</td>\n",
       "      <td>0.223827</td>\n",
       "      <td>0.18750</td>\n",
       "      <td>0.009434</td>\n",
       "    </tr>\n",
       "    <tr>\n",
       "      <th>65409</th>\n",
       "      <td>0.000000</td>\n",
       "      <td>0.975610</td>\n",
       "      <td>0.317460</td>\n",
       "      <td>1.0</td>\n",
       "      <td>0.333333</td>\n",
       "      <td>0.218412</td>\n",
       "      <td>0.21875</td>\n",
       "      <td>0.009434</td>\n",
       "    </tr>\n",
       "    <tr>\n",
       "      <th>94946</th>\n",
       "      <td>0.265306</td>\n",
       "      <td>0.987805</td>\n",
       "      <td>0.476190</td>\n",
       "      <td>1.0</td>\n",
       "      <td>0.333333</td>\n",
       "      <td>0.146209</td>\n",
       "      <td>0.12500</td>\n",
       "      <td>0.009434</td>\n",
       "    </tr>\n",
       "    <tr>\n",
       "      <th>65899</th>\n",
       "      <td>0.612245</td>\n",
       "      <td>0.975610</td>\n",
       "      <td>0.444444</td>\n",
       "      <td>1.0</td>\n",
       "      <td>0.222222</td>\n",
       "      <td>0.222022</td>\n",
       "      <td>0.09375</td>\n",
       "      <td>0.009434</td>\n",
       "    </tr>\n",
       "  </tbody>\n",
       "</table>\n",
       "</div>"
      ],
      "text/plain": [
       "       PAC_EDAD     SATO2  TEMPERATURA  GLASGOW       EVA       HGT       FR  \\\n",
       "29424  0.010204  0.987805     0.523810      1.0  0.111111  0.317690  0.18750   \n",
       "98028  0.448980  0.975610     0.396825      1.0  0.222222  0.223827  0.18750   \n",
       "65409  0.000000  0.975610     0.317460      1.0  0.333333  0.218412  0.21875   \n",
       "94946  0.265306  0.987805     0.476190      1.0  0.333333  0.146209  0.12500   \n",
       "65899  0.612245  0.975610     0.444444      1.0  0.222222  0.222022  0.09375   \n",
       "\n",
       "       DIAS_HOSP  \n",
       "29424   0.009434  \n",
       "98028   0.009434  \n",
       "65409   0.009434  \n",
       "94946   0.009434  \n",
       "65899   0.009434  "
      ]
     },
     "execution_count": 56,
     "metadata": {},
     "output_type": "execute_result"
    }
   ],
   "source": [
    "X.head()"
   ]
  },
  {
   "cell_type": "code",
   "execution_count": 57,
   "metadata": {},
   "outputs": [],
   "source": [
    "#del X['clase']\n",
    "columnas = X.columns\n",
    "from sklearn.decomposition import PCA\n",
    "pca = PCA(n_components=2)\n",
    "pca.fit(X)\n",
    "Xnew = pca.transform(X)\n",
    "Xnew = pd.DataFrame(Xnew, columns=['c1', 'c2'])"
   ]
  },
  {
   "cell_type": "code",
   "execution_count": 58,
   "metadata": {},
   "outputs": [],
   "source": [
    "Xnew['clase'] = k_means_2.labels_"
   ]
  },
  {
   "cell_type": "code",
   "execution_count": 59,
   "metadata": {},
   "outputs": [
    {
     "name": "stdout",
     "output_type": "stream",
     "text": [
      "0\n",
      "1\n",
      "2\n"
     ]
    },
    {
     "data": {
      "image/png": "[encoded data removed]",
      "text/plain": [
       "<Figure size 432x288 with 1 Axes>"
      ]
     },
     "metadata": {
      "needs_background": "light"
     },
     "output_type": "display_data"
    }
   ],
   "source": [
    "colores = ['r.', 'b.', 'y.', 'g.','k.', 'c.']\n",
    "for i in range(0,k):\n",
    "    print(i)\n",
    "    plt.plot(Xnew['c1'][Xnew['clase']==i],Xnew['c2'][Xnew['clase']==i],colores[i], label='cluster '+str(i+1))\n",
    "plt.ylabel('c1')\n",
    "plt.xlabel('c2')\n",
    "plt.legend()\n",
    "plt.show()"
   ]
  },
  {
   "cell_type": "code",
   "execution_count": 26,
   "metadata": {},
   "outputs": [
    {
     "data": {
      "text/plain": [
       "array([[-6.93889390e-15,  1.15686275e-01,  1.76470588e-01,\n",
       "         1.00000000e+00,  5.15686275e-01,  6.32840066e-01,\n",
       "         7.40517887e-01,  6.89448981e-01,  2.37429868e-01,\n",
       "         4.63474380e-01],\n",
       "       [ 1.00000000e+00,  7.67790262e-02,  1.55430712e-01,\n",
       "         1.00000000e+00,  5.03745318e-01,  6.36665101e-01,\n",
       "         7.61124085e-01,  6.90905253e-01,  2.26837567e-01,\n",
       "         4.71328031e-01],\n",
       "       [ 4.81171548e-01,  1.73640167e-01,  1.50627615e-01,\n",
       "         5.88418203e-15,  4.91108787e-01,  4.52082393e-01,\n",
       "         7.61200902e-01,  7.03070938e-01,  2.45091129e-01,\n",
       "         4.46587412e-01]])"
      ]
     },
     "execution_count": 26,
     "metadata": {},
     "output_type": "execute_result"
    }
   ],
   "source": [
    "k_means_2.cluster_centers_"
   ]
  },
  {
   "cell_type": "code",
   "execution_count": null,
   "metadata": {},
   "outputs": [],
   "source": []
  }
 ],
 "metadata": {
  "kernelspec": {
   "display_name": "Python 3",
   "language": "python",
   "name": "python3"
  },
  "language_info": {
   "codemirror_mode": {
    "name": "ipython",
    "version": 3
   },
   "file_extension": ".py",
   "mimetype": "text/x-python",
   "name": "python",
   "nbconvert_exporter": "python",
   "pygments_lexer": "ipython3",
   "version": "3.7.3"
  }
 },
 "nbformat": 4,
 "nbformat_minor": 2
}
