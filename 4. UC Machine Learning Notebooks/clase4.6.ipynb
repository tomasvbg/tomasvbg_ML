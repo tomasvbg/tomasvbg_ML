{
 "cells": [
  {
   "cell_type": "code",
   "execution_count": null,
   "metadata": {},
   "outputs": [],
   "source": [
    "# Este ejemplo se corre con las siguientes versiones\n",
    "# pd.__version__\n",
    "# 1.0.2\n",
    "# sklearn.__version__\n",
    "# 0.22.1\n",
    "# matplotlib.__version__\n",
    "# 3.1.3\n",
    "# np.__version__\n",
    "# 1.18.1"
   ]
  },
  {
   "cell_type": "code",
   "execution_count": 3,
   "metadata": {},
   "outputs": [],
   "source": [
    "import matplotlib.pyplot as plt\n",
    "import pandas as pd\n",
    "\n",
    "from sklearn.datasets import load_digits\n",
    "from sklearn.ensemble import RandomForestRegressor\n",
    "from sklearn.tree import DecisionTreeClassifier\n",
    "\n",
    "from sklearn.model_selection import train_test_split\n",
    "from sklearn.metrics import plot_confusion_matrix"
   ]
  },
  {
   "cell_type": "code",
   "execution_count": 76,
   "metadata": {},
   "outputs": [
    {
     "data": {
      "text/plain": [
       "(2416, 8)"
      ]
     },
     "execution_count": 76,
     "metadata": {},
     "output_type": "execute_result"
    }
   ],
   "source": [
    "data = pd.read_csv(\"data.csv\")\n",
    "data = data[data['DIAS_HOSP']>5]\n",
    "data.shape"
   ]
  },
  {
   "cell_type": "code",
   "execution_count": 77,
   "metadata": {},
   "outputs": [],
   "source": [
    "y = data['DIAS_HOSP']\n",
    "X = data[['PAC_EDAD', 'SATO2', 'TEMPERATURA', 'GLASGOW', 'EVA', 'HGT', 'FR']]"
   ]
  },
  {
   "cell_type": "code",
   "execution_count": 78,
   "metadata": {},
   "outputs": [],
   "source": [
    "X_train, X_test, y_train, y_test = train_test_split(X, y, test_size=0.05, random_state=0)"
   ]
  },
  {
   "cell_type": "code",
   "execution_count": 79,
   "metadata": {},
   "outputs": [
    {
     "data": {
      "text/plain": [
       "RandomForestRegressor(bootstrap=True, ccp_alpha=0.0, criterion='mse',\n",
       "                      max_depth=None, max_features='auto', max_leaf_nodes=None,\n",
       "                      max_samples=None, min_impurity_decrease=0.0,\n",
       "                      min_impurity_split=None, min_samples_leaf=1,\n",
       "                      min_samples_split=2, min_weight_fraction_leaf=0.0,\n",
       "                      n_estimators=100, n_jobs=None, oob_score=False,\n",
       "                      random_state=None, verbose=0, warm_start=False)"
      ]
     },
     "execution_count": 79,
     "metadata": {},
     "output_type": "execute_result"
    }
   ],
   "source": [
    "clf = RandomForestRegressor()\n",
    "clf.fit(X_train, y_train)"
   ]
  },
  {
   "cell_type": "code",
   "execution_count": 80,
   "metadata": {},
   "outputs": [
    {
     "name": "stdout",
     "output_type": "stream",
     "text": [
      "Predicción:  [25.02       76.23       22.47       32.68       16.86       21.49\n",
      " 34.605      28.7        24.         53.8        18.45       38.38\n",
      " 58.14       16.56333333 26.335      16.44       16.41       24.12\n",
      " 26.43       38.77       29.6        23.19       22.98       52.52\n",
      " 56.17       27.57       13.27       33.22       24.85       28.84\n",
      " 38.441      20.82       81.57       26.97       15.36       21.9\n",
      " 27.37       22.82       20.67       42.55       18.13       21.09\n",
      " 21.28       25.86       13.48       26.04       21.42       18.18\n",
      " 20.27666667 18.75       38.38       25.5        43.05       27.26\n",
      " 15.88       33.15       26.03       33.49       19.86       19.4\n",
      " 43.13       25.9675     32.9        45.095      49.34       24.78\n",
      " 21.28       17.91       53.18       81.72       30.355      23.48066667\n",
      " 18.4        19.61       33.02       30.19       23.81       27.868\n",
      " 35.84       26.185      33.2        35.64       18.93       29.16\n",
      " 51.35       26.46       23.64       21.92       33.28       33.9\n",
      " 19.94       26.99       22.69       22.47       15.8175     30.13\n",
      " 14.13       43.14       34.151      27.18       79.33       15.32\n",
      " 35.95       16.34       27.25       91.161      30.51       28.42\n",
      " 37.51       19.49       29.09       38.15333333 37.07       31.53\n",
      " 16.9325     17.63       34.82       19.1        29.49       15.9\n",
      " 21.76      ]\n",
      "Real:        1565    35.0\n",
      "682     59.0\n",
      "158      8.0\n",
      "3064    19.0\n",
      "2678     7.0\n",
      "        ... \n",
      "2662     9.0\n",
      "3293     7.0\n",
      "3110    11.0\n",
      "75      16.0\n",
      "2215     8.0\n",
      "Name: DIAS_HOSP, Length: 121, dtype: float64\n"
     ]
    }
   ],
   "source": [
    "target_pred = clf.predict(X_test)\n",
    "print('Predicción: ', target_pred)\n",
    "print('Real:       ', y_test)"
   ]
  },
  {
   "cell_type": "code",
   "execution_count": 81,
   "metadata": {},
   "outputs": [
    {
     "data": {
      "image/png": "[encoded data removed]",
      "text/plain": [
       "<Figure size 432x288 with 1 Axes>"
      ]
     },
     "metadata": {
      "needs_background": "light"
     },
     "output_type": "display_data"
    },
    {
     "data": {
      "image/png": "[encoded data removed]",
      "text/plain": [
       "<Figure size 432x288 with 1 Axes>"
      ]
     },
     "metadata": {
      "needs_background": "light"
     },
     "output_type": "display_data"
    }
   ],
   "source": [
    "plt.plot(target_pred, 'o', label = 'prediction')\n",
    "plt.legend()\n",
    "plt.show()\n",
    "plt.plot(y_test, 'o', label = 'real')\n",
    "plt.legend()\n",
    "plt.show()"
   ]
  },
  {
   "cell_type": "code",
   "execution_count": null,
   "metadata": {},
   "outputs": [],
   "source": []
  },
  {
   "cell_type": "code",
   "execution_count": null,
   "metadata": {},
   "outputs": [],
   "source": []
  }
 ],
 "metadata": {
  "kernelspec": {
   "display_name": "Python 3",
   "language": "python",
   "name": "python3"
  },
  "language_info": {
   "codemirror_mode": {
    "name": "ipython",
    "version": 3
   },
   "file_extension": ".py",
   "mimetype": "text/x-python",
   "name": "python",
   "nbconvert_exporter": "python",
   "pygments_lexer": "ipython3",
   "version": "3.7.3"
  }
 },
 "nbformat": 4,
 "nbformat_minor": 4
}
