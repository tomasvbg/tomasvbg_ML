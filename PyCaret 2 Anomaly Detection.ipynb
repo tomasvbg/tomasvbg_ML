{
 "cells": [
  {
   "cell_type": "markdown",
   "metadata": {},
   "source": [
    "# PyCaret 2 Anomaly Example\n",
    "This notebook is created using PyCaret 2.0. Last updated : 31-07-2020"
   ]
  },
  {
   "cell_type": "code",
   "execution_count": 1,
   "metadata": {},
   "outputs": [
    {
     "name": "stdout",
     "output_type": "stream",
     "text": [
      "2.0\n"
     ]
    }
   ],
   "source": [
    "# check version\n",
    "from pycaret.utils import version\n",
    "version()"
   ]
  },
  {
   "cell_type": "markdown",
   "metadata": {},
   "source": [
    "# 1. Loading Dataset"
   ]
  },
  {
   "cell_type": "code",
   "execution_count": 2,
   "metadata": {},
   "outputs": [
    {
     "data": {
      "text/html": [
       "<div>\n",
       "<style scoped>\n",
       "    .dataframe tbody tr th:only-of-type {\n",
       "        vertical-align: middle;\n",
       "    }\n",
       "\n",
       "    .dataframe tbody tr th {\n",
       "        vertical-align: top;\n",
       "    }\n",
       "\n",
       "    .dataframe thead th {\n",
       "        text-align: right;\n",
       "    }\n",
       "</style>\n",
       "<table border=\"1\" class=\"dataframe\">\n",
       "  <thead>\n",
       "    <tr style=\"text-align: right;\">\n",
       "      <th></th>\n",
       "      <th>Col1</th>\n",
       "      <th>Col2</th>\n",
       "      <th>Col3</th>\n",
       "      <th>Col4</th>\n",
       "      <th>Col5</th>\n",
       "      <th>Col6</th>\n",
       "      <th>Col7</th>\n",
       "      <th>Col8</th>\n",
       "      <th>Col9</th>\n",
       "      <th>Col10</th>\n",
       "    </tr>\n",
       "  </thead>\n",
       "  <tbody>\n",
       "    <tr>\n",
       "      <th>0</th>\n",
       "      <td>0.263995</td>\n",
       "      <td>0.764929</td>\n",
       "      <td>0.138424</td>\n",
       "      <td>0.935242</td>\n",
       "      <td>0.605867</td>\n",
       "      <td>0.518790</td>\n",
       "      <td>0.912225</td>\n",
       "      <td>0.608234</td>\n",
       "      <td>0.723782</td>\n",
       "      <td>0.733591</td>\n",
       "    </tr>\n",
       "    <tr>\n",
       "      <th>1</th>\n",
       "      <td>0.546092</td>\n",
       "      <td>0.653975</td>\n",
       "      <td>0.065575</td>\n",
       "      <td>0.227772</td>\n",
       "      <td>0.845269</td>\n",
       "      <td>0.837066</td>\n",
       "      <td>0.272379</td>\n",
       "      <td>0.331679</td>\n",
       "      <td>0.429297</td>\n",
       "      <td>0.367422</td>\n",
       "    </tr>\n",
       "    <tr>\n",
       "      <th>2</th>\n",
       "      <td>0.336714</td>\n",
       "      <td>0.538842</td>\n",
       "      <td>0.192801</td>\n",
       "      <td>0.553563</td>\n",
       "      <td>0.074515</td>\n",
       "      <td>0.332993</td>\n",
       "      <td>0.365792</td>\n",
       "      <td>0.861309</td>\n",
       "      <td>0.899017</td>\n",
       "      <td>0.088600</td>\n",
       "    </tr>\n",
       "    <tr>\n",
       "      <th>3</th>\n",
       "      <td>0.092108</td>\n",
       "      <td>0.995017</td>\n",
       "      <td>0.014465</td>\n",
       "      <td>0.176371</td>\n",
       "      <td>0.241530</td>\n",
       "      <td>0.514724</td>\n",
       "      <td>0.562208</td>\n",
       "      <td>0.158963</td>\n",
       "      <td>0.073715</td>\n",
       "      <td>0.208463</td>\n",
       "    </tr>\n",
       "    <tr>\n",
       "      <th>4</th>\n",
       "      <td>0.325261</td>\n",
       "      <td>0.805968</td>\n",
       "      <td>0.957033</td>\n",
       "      <td>0.331665</td>\n",
       "      <td>0.307923</td>\n",
       "      <td>0.355315</td>\n",
       "      <td>0.501899</td>\n",
       "      <td>0.558449</td>\n",
       "      <td>0.885169</td>\n",
       "      <td>0.182754</td>\n",
       "    </tr>\n",
       "  </tbody>\n",
       "</table>\n",
       "</div>"
      ],
      "text/plain": [
       "       Col1      Col2      Col3      Col4      Col5      Col6      Col7  \\\n",
       "0  0.263995  0.764929  0.138424  0.935242  0.605867  0.518790  0.912225   \n",
       "1  0.546092  0.653975  0.065575  0.227772  0.845269  0.837066  0.272379   \n",
       "2  0.336714  0.538842  0.192801  0.553563  0.074515  0.332993  0.365792   \n",
       "3  0.092108  0.995017  0.014465  0.176371  0.241530  0.514724  0.562208   \n",
       "4  0.325261  0.805968  0.957033  0.331665  0.307923  0.355315  0.501899   \n",
       "\n",
       "       Col8      Col9     Col10  \n",
       "0  0.608234  0.723782  0.733591  \n",
       "1  0.331679  0.429297  0.367422  \n",
       "2  0.861309  0.899017  0.088600  \n",
       "3  0.158963  0.073715  0.208463  \n",
       "4  0.558449  0.885169  0.182754  "
      ]
     },
     "metadata": {},
     "output_type": "display_data"
    }
   ],
   "source": [
    "from pycaret.datasets import get_data\n",
    "data = get_data('anomaly')"
   ]
  },
  {
   "cell_type": "markdown",
   "metadata": {},
   "source": [
    "# 2. Initialize Setup"
   ]
  },
  {
   "cell_type": "code",
   "execution_count": 3,
   "metadata": {},
   "outputs": [
    {
     "name": "stdout",
     "output_type": "stream",
     "text": [
      "Setup Succesfully Completed!\n"
     ]
    },
    {
     "data": {
      "text/html": [
       "<style  type=\"text/css\" >\n",
       "</style><table id=\"T_37ac72ba_d32c_11ea_9254_5076af549583\" ><thead>    <tr>        <th class=\"blank level0\" ></th>        <th class=\"col_heading level0 col0\" >Description</th>        <th class=\"col_heading level0 col1\" >Value</th>    </tr></thead><tbody>\n",
       "                <tr>\n",
       "                        <th id=\"T_37ac72ba_d32c_11ea_9254_5076af549583level0_row0\" class=\"row_heading level0 row0\" >0</th>\n",
       "                        <td id=\"T_37ac72ba_d32c_11ea_9254_5076af549583row0_col0\" class=\"data row0 col0\" >session_id </td>\n",
       "                        <td id=\"T_37ac72ba_d32c_11ea_9254_5076af549583row0_col1\" class=\"data row0 col1\" >123</td>\n",
       "            </tr>\n",
       "            <tr>\n",
       "                        <th id=\"T_37ac72ba_d32c_11ea_9254_5076af549583level0_row1\" class=\"row_heading level0 row1\" >1</th>\n",
       "                        <td id=\"T_37ac72ba_d32c_11ea_9254_5076af549583row1_col0\" class=\"data row1 col0\" >Original Data </td>\n",
       "                        <td id=\"T_37ac72ba_d32c_11ea_9254_5076af549583row1_col1\" class=\"data row1 col1\" >(1000, 10)</td>\n",
       "            </tr>\n",
       "            <tr>\n",
       "                        <th id=\"T_37ac72ba_d32c_11ea_9254_5076af549583level0_row2\" class=\"row_heading level0 row2\" >2</th>\n",
       "                        <td id=\"T_37ac72ba_d32c_11ea_9254_5076af549583row2_col0\" class=\"data row2 col0\" >Missing Values </td>\n",
       "                        <td id=\"T_37ac72ba_d32c_11ea_9254_5076af549583row2_col1\" class=\"data row2 col1\" >False</td>\n",
       "            </tr>\n",
       "            <tr>\n",
       "                        <th id=\"T_37ac72ba_d32c_11ea_9254_5076af549583level0_row3\" class=\"row_heading level0 row3\" >3</th>\n",
       "                        <td id=\"T_37ac72ba_d32c_11ea_9254_5076af549583row3_col0\" class=\"data row3 col0\" >Numeric Features </td>\n",
       "                        <td id=\"T_37ac72ba_d32c_11ea_9254_5076af549583row3_col1\" class=\"data row3 col1\" >10</td>\n",
       "            </tr>\n",
       "            <tr>\n",
       "                        <th id=\"T_37ac72ba_d32c_11ea_9254_5076af549583level0_row4\" class=\"row_heading level0 row4\" >4</th>\n",
       "                        <td id=\"T_37ac72ba_d32c_11ea_9254_5076af549583row4_col0\" class=\"data row4 col0\" >Categorical Features </td>\n",
       "                        <td id=\"T_37ac72ba_d32c_11ea_9254_5076af549583row4_col1\" class=\"data row4 col1\" >0</td>\n",
       "            </tr>\n",
       "            <tr>\n",
       "                        <th id=\"T_37ac72ba_d32c_11ea_9254_5076af549583level0_row5\" class=\"row_heading level0 row5\" >5</th>\n",
       "                        <td id=\"T_37ac72ba_d32c_11ea_9254_5076af549583row5_col0\" class=\"data row5 col0\" >Ordinal Features </td>\n",
       "                        <td id=\"T_37ac72ba_d32c_11ea_9254_5076af549583row5_col1\" class=\"data row5 col1\" >False</td>\n",
       "            </tr>\n",
       "            <tr>\n",
       "                        <th id=\"T_37ac72ba_d32c_11ea_9254_5076af549583level0_row6\" class=\"row_heading level0 row6\" >6</th>\n",
       "                        <td id=\"T_37ac72ba_d32c_11ea_9254_5076af549583row6_col0\" class=\"data row6 col0\" >High Cardinality Features </td>\n",
       "                        <td id=\"T_37ac72ba_d32c_11ea_9254_5076af549583row6_col1\" class=\"data row6 col1\" >False</td>\n",
       "            </tr>\n",
       "            <tr>\n",
       "                        <th id=\"T_37ac72ba_d32c_11ea_9254_5076af549583level0_row7\" class=\"row_heading level0 row7\" >7</th>\n",
       "                        <td id=\"T_37ac72ba_d32c_11ea_9254_5076af549583row7_col0\" class=\"data row7 col0\" >Transformed Data </td>\n",
       "                        <td id=\"T_37ac72ba_d32c_11ea_9254_5076af549583row7_col1\" class=\"data row7 col1\" >(1000, 10)</td>\n",
       "            </tr>\n",
       "            <tr>\n",
       "                        <th id=\"T_37ac72ba_d32c_11ea_9254_5076af549583level0_row8\" class=\"row_heading level0 row8\" >8</th>\n",
       "                        <td id=\"T_37ac72ba_d32c_11ea_9254_5076af549583row8_col0\" class=\"data row8 col0\" >Numeric Imputer </td>\n",
       "                        <td id=\"T_37ac72ba_d32c_11ea_9254_5076af549583row8_col1\" class=\"data row8 col1\" >mean</td>\n",
       "            </tr>\n",
       "            <tr>\n",
       "                        <th id=\"T_37ac72ba_d32c_11ea_9254_5076af549583level0_row9\" class=\"row_heading level0 row9\" >9</th>\n",
       "                        <td id=\"T_37ac72ba_d32c_11ea_9254_5076af549583row9_col0\" class=\"data row9 col0\" >Categorical Imputer </td>\n",
       "                        <td id=\"T_37ac72ba_d32c_11ea_9254_5076af549583row9_col1\" class=\"data row9 col1\" >constant</td>\n",
       "            </tr>\n",
       "            <tr>\n",
       "                        <th id=\"T_37ac72ba_d32c_11ea_9254_5076af549583level0_row10\" class=\"row_heading level0 row10\" >10</th>\n",
       "                        <td id=\"T_37ac72ba_d32c_11ea_9254_5076af549583row10_col0\" class=\"data row10 col0\" >Normalize </td>\n",
       "                        <td id=\"T_37ac72ba_d32c_11ea_9254_5076af549583row10_col1\" class=\"data row10 col1\" >False</td>\n",
       "            </tr>\n",
       "            <tr>\n",
       "                        <th id=\"T_37ac72ba_d32c_11ea_9254_5076af549583level0_row11\" class=\"row_heading level0 row11\" >11</th>\n",
       "                        <td id=\"T_37ac72ba_d32c_11ea_9254_5076af549583row11_col0\" class=\"data row11 col0\" >Normalize Method </td>\n",
       "                        <td id=\"T_37ac72ba_d32c_11ea_9254_5076af549583row11_col1\" class=\"data row11 col1\" >None</td>\n",
       "            </tr>\n",
       "            <tr>\n",
       "                        <th id=\"T_37ac72ba_d32c_11ea_9254_5076af549583level0_row12\" class=\"row_heading level0 row12\" >12</th>\n",
       "                        <td id=\"T_37ac72ba_d32c_11ea_9254_5076af549583row12_col0\" class=\"data row12 col0\" >Transformation </td>\n",
       "                        <td id=\"T_37ac72ba_d32c_11ea_9254_5076af549583row12_col1\" class=\"data row12 col1\" >False</td>\n",
       "            </tr>\n",
       "            <tr>\n",
       "                        <th id=\"T_37ac72ba_d32c_11ea_9254_5076af549583level0_row13\" class=\"row_heading level0 row13\" >13</th>\n",
       "                        <td id=\"T_37ac72ba_d32c_11ea_9254_5076af549583row13_col0\" class=\"data row13 col0\" >Transformation Method </td>\n",
       "                        <td id=\"T_37ac72ba_d32c_11ea_9254_5076af549583row13_col1\" class=\"data row13 col1\" >None</td>\n",
       "            </tr>\n",
       "            <tr>\n",
       "                        <th id=\"T_37ac72ba_d32c_11ea_9254_5076af549583level0_row14\" class=\"row_heading level0 row14\" >14</th>\n",
       "                        <td id=\"T_37ac72ba_d32c_11ea_9254_5076af549583row14_col0\" class=\"data row14 col0\" >PCA </td>\n",
       "                        <td id=\"T_37ac72ba_d32c_11ea_9254_5076af549583row14_col1\" class=\"data row14 col1\" >False</td>\n",
       "            </tr>\n",
       "            <tr>\n",
       "                        <th id=\"T_37ac72ba_d32c_11ea_9254_5076af549583level0_row15\" class=\"row_heading level0 row15\" >15</th>\n",
       "                        <td id=\"T_37ac72ba_d32c_11ea_9254_5076af549583row15_col0\" class=\"data row15 col0\" >PCA Method </td>\n",
       "                        <td id=\"T_37ac72ba_d32c_11ea_9254_5076af549583row15_col1\" class=\"data row15 col1\" >None</td>\n",
       "            </tr>\n",
       "            <tr>\n",
       "                        <th id=\"T_37ac72ba_d32c_11ea_9254_5076af549583level0_row16\" class=\"row_heading level0 row16\" >16</th>\n",
       "                        <td id=\"T_37ac72ba_d32c_11ea_9254_5076af549583row16_col0\" class=\"data row16 col0\" >PCA components </td>\n",
       "                        <td id=\"T_37ac72ba_d32c_11ea_9254_5076af549583row16_col1\" class=\"data row16 col1\" >None</td>\n",
       "            </tr>\n",
       "            <tr>\n",
       "                        <th id=\"T_37ac72ba_d32c_11ea_9254_5076af549583level0_row17\" class=\"row_heading level0 row17\" >17</th>\n",
       "                        <td id=\"T_37ac72ba_d32c_11ea_9254_5076af549583row17_col0\" class=\"data row17 col0\" >Ignore Low Variance </td>\n",
       "                        <td id=\"T_37ac72ba_d32c_11ea_9254_5076af549583row17_col1\" class=\"data row17 col1\" >False</td>\n",
       "            </tr>\n",
       "            <tr>\n",
       "                        <th id=\"T_37ac72ba_d32c_11ea_9254_5076af549583level0_row18\" class=\"row_heading level0 row18\" >18</th>\n",
       "                        <td id=\"T_37ac72ba_d32c_11ea_9254_5076af549583row18_col0\" class=\"data row18 col0\" >Combine Rare Levels </td>\n",
       "                        <td id=\"T_37ac72ba_d32c_11ea_9254_5076af549583row18_col1\" class=\"data row18 col1\" >False</td>\n",
       "            </tr>\n",
       "            <tr>\n",
       "                        <th id=\"T_37ac72ba_d32c_11ea_9254_5076af549583level0_row19\" class=\"row_heading level0 row19\" >19</th>\n",
       "                        <td id=\"T_37ac72ba_d32c_11ea_9254_5076af549583row19_col0\" class=\"data row19 col0\" >Rare Level Threshold </td>\n",
       "                        <td id=\"T_37ac72ba_d32c_11ea_9254_5076af549583row19_col1\" class=\"data row19 col1\" >None</td>\n",
       "            </tr>\n",
       "            <tr>\n",
       "                        <th id=\"T_37ac72ba_d32c_11ea_9254_5076af549583level0_row20\" class=\"row_heading level0 row20\" >20</th>\n",
       "                        <td id=\"T_37ac72ba_d32c_11ea_9254_5076af549583row20_col0\" class=\"data row20 col0\" >Numeric Binning </td>\n",
       "                        <td id=\"T_37ac72ba_d32c_11ea_9254_5076af549583row20_col1\" class=\"data row20 col1\" >False</td>\n",
       "            </tr>\n",
       "            <tr>\n",
       "                        <th id=\"T_37ac72ba_d32c_11ea_9254_5076af549583level0_row21\" class=\"row_heading level0 row21\" >21</th>\n",
       "                        <td id=\"T_37ac72ba_d32c_11ea_9254_5076af549583row21_col0\" class=\"data row21 col0\" >Remove Multicollinearity </td>\n",
       "                        <td id=\"T_37ac72ba_d32c_11ea_9254_5076af549583row21_col1\" class=\"data row21 col1\" >False</td>\n",
       "            </tr>\n",
       "            <tr>\n",
       "                        <th id=\"T_37ac72ba_d32c_11ea_9254_5076af549583level0_row22\" class=\"row_heading level0 row22\" >22</th>\n",
       "                        <td id=\"T_37ac72ba_d32c_11ea_9254_5076af549583row22_col0\" class=\"data row22 col0\" >Multicollinearity Threshold </td>\n",
       "                        <td id=\"T_37ac72ba_d32c_11ea_9254_5076af549583row22_col1\" class=\"data row22 col1\" >None</td>\n",
       "            </tr>\n",
       "            <tr>\n",
       "                        <th id=\"T_37ac72ba_d32c_11ea_9254_5076af549583level0_row23\" class=\"row_heading level0 row23\" >23</th>\n",
       "                        <td id=\"T_37ac72ba_d32c_11ea_9254_5076af549583row23_col0\" class=\"data row23 col0\" >Group Features </td>\n",
       "                        <td id=\"T_37ac72ba_d32c_11ea_9254_5076af549583row23_col1\" class=\"data row23 col1\" >False</td>\n",
       "            </tr>\n",
       "    </tbody></table>"
      ],
      "text/plain": [
       "<pandas.io.formats.style.Styler at 0x22973a19bc8>"
      ]
     },
     "metadata": {},
     "output_type": "display_data"
    },
    {
     "name": "stderr",
     "output_type": "stream",
     "text": [
      "2020/07/31 08:49:05 WARNING mlflow.tracking.context.git_context: Failed to import Git (the Git executable is probably not on your PATH), so Git SHA is not available. Error: No module named 'repository'\n"
     ]
    }
   ],
   "source": [
    "from pycaret.anomaly import *\n",
    "ano1 = setup(data, session_id=123, log_experiment=True, experiment_name='anomaly1')"
   ]
  },
  {
   "cell_type": "markdown",
   "metadata": {},
   "source": [
    "# 3. Create Model"
   ]
  },
  {
   "cell_type": "code",
   "execution_count": 4,
   "metadata": {},
   "outputs": [
    {
     "data": {
      "text/html": [
       "<div>\n",
       "<style scoped>\n",
       "    .dataframe tbody tr th:only-of-type {\n",
       "        vertical-align: middle;\n",
       "    }\n",
       "\n",
       "    .dataframe tbody tr th {\n",
       "        vertical-align: top;\n",
       "    }\n",
       "\n",
       "    .dataframe thead th {\n",
       "        text-align: right;\n",
       "    }\n",
       "</style>\n",
       "<table border=\"1\" class=\"dataframe\">\n",
       "  <thead>\n",
       "    <tr style=\"text-align: right;\">\n",
       "      <th></th>\n",
       "      <th>Name</th>\n",
       "      <th>Reference</th>\n",
       "    </tr>\n",
       "    <tr>\n",
       "      <th>ID</th>\n",
       "      <th></th>\n",
       "      <th></th>\n",
       "    </tr>\n",
       "  </thead>\n",
       "  <tbody>\n",
       "    <tr>\n",
       "      <th>abod</th>\n",
       "      <td>Angle-base Outlier Detection</td>\n",
       "      <td>pyod.models.abod.ABOD</td>\n",
       "    </tr>\n",
       "    <tr>\n",
       "      <th>iforest</th>\n",
       "      <td>Isolation Forest</td>\n",
       "      <td>pyod.models.iforest</td>\n",
       "    </tr>\n",
       "    <tr>\n",
       "      <th>cluster</th>\n",
       "      <td>Clustering-Based Local Outlier</td>\n",
       "      <td>pyod.models.cblof</td>\n",
       "    </tr>\n",
       "    <tr>\n",
       "      <th>cof</th>\n",
       "      <td>Connectivity-Based Outlier Factor</td>\n",
       "      <td>pyod.models.cof</td>\n",
       "    </tr>\n",
       "    <tr>\n",
       "      <th>histogram</th>\n",
       "      <td>Histogram-based Outlier Detection</td>\n",
       "      <td>pyod.models.hbos</td>\n",
       "    </tr>\n",
       "    <tr>\n",
       "      <th>knn</th>\n",
       "      <td>k-Nearest Neighbors Detector</td>\n",
       "      <td>pyod.models.knn</td>\n",
       "    </tr>\n",
       "    <tr>\n",
       "      <th>lof</th>\n",
       "      <td>Local Outlier Factor</td>\n",
       "      <td>pyod.models.lof</td>\n",
       "    </tr>\n",
       "    <tr>\n",
       "      <th>svm</th>\n",
       "      <td>One-class SVM detector</td>\n",
       "      <td>pyod.models.ocsvm</td>\n",
       "    </tr>\n",
       "    <tr>\n",
       "      <th>pca</th>\n",
       "      <td>Principal Component Analysis</td>\n",
       "      <td>pyod.models.pca</td>\n",
       "    </tr>\n",
       "    <tr>\n",
       "      <th>mcd</th>\n",
       "      <td>Minimum Covariance Determinant</td>\n",
       "      <td>pyod.models.mcd</td>\n",
       "    </tr>\n",
       "    <tr>\n",
       "      <th>sod</th>\n",
       "      <td>Subspace Outlier Detection</td>\n",
       "      <td>pyod.models.sod</td>\n",
       "    </tr>\n",
       "    <tr>\n",
       "      <th>sos</th>\n",
       "      <td>Stochastic Outlier Selection</td>\n",
       "      <td>pyod.models.sos</td>\n",
       "    </tr>\n",
       "  </tbody>\n",
       "</table>\n",
       "</div>"
      ],
      "text/plain": [
       "                                        Name              Reference\n",
       "ID                                                                 \n",
       "abod            Angle-base Outlier Detection  pyod.models.abod.ABOD\n",
       "iforest                     Isolation Forest    pyod.models.iforest\n",
       "cluster       Clustering-Based Local Outlier      pyod.models.cblof\n",
       "cof        Connectivity-Based Outlier Factor        pyod.models.cof\n",
       "histogram  Histogram-based Outlier Detection       pyod.models.hbos\n",
       "knn             k-Nearest Neighbors Detector        pyod.models.knn\n",
       "lof                     Local Outlier Factor        pyod.models.lof\n",
       "svm                   One-class SVM detector      pyod.models.ocsvm\n",
       "pca             Principal Component Analysis        pyod.models.pca\n",
       "mcd           Minimum Covariance Determinant        pyod.models.mcd\n",
       "sod               Subspace Outlier Detection        pyod.models.sod\n",
       "sos             Stochastic Outlier Selection        pyod.models.sos"
      ]
     },
     "execution_count": 4,
     "metadata": {},
     "output_type": "execute_result"
    }
   ],
   "source": [
    "models()"
   ]
  },
  {
   "cell_type": "code",
   "execution_count": 5,
   "metadata": {},
   "outputs": [],
   "source": [
    "iforest = create_model('iforest')"
   ]
  },
  {
   "cell_type": "code",
   "execution_count": 6,
   "metadata": {},
   "outputs": [],
   "source": [
    "knn = create_model('knn', fraction = 0.1)"
   ]
  },
  {
   "cell_type": "markdown",
   "metadata": {},
   "source": [
    "# 4. Assign Labels"
   ]
  },
  {
   "cell_type": "code",
   "execution_count": 7,
   "metadata": {},
   "outputs": [
    {
     "data": {
      "text/html": [
       "<div>\n",
       "<style scoped>\n",
       "    .dataframe tbody tr th:only-of-type {\n",
       "        vertical-align: middle;\n",
       "    }\n",
       "\n",
       "    .dataframe tbody tr th {\n",
       "        vertical-align: top;\n",
       "    }\n",
       "\n",
       "    .dataframe thead th {\n",
       "        text-align: right;\n",
       "    }\n",
       "</style>\n",
       "<table border=\"1\" class=\"dataframe\">\n",
       "  <thead>\n",
       "    <tr style=\"text-align: right;\">\n",
       "      <th></th>\n",
       "      <th>Col1</th>\n",
       "      <th>Col2</th>\n",
       "      <th>Col3</th>\n",
       "      <th>Col4</th>\n",
       "      <th>Col5</th>\n",
       "      <th>Col6</th>\n",
       "      <th>Col7</th>\n",
       "      <th>Col8</th>\n",
       "      <th>Col9</th>\n",
       "      <th>Col10</th>\n",
       "      <th>Label</th>\n",
       "      <th>Score</th>\n",
       "    </tr>\n",
       "  </thead>\n",
       "  <tbody>\n",
       "    <tr>\n",
       "      <th>0</th>\n",
       "      <td>0.263995</td>\n",
       "      <td>0.764929</td>\n",
       "      <td>0.138424</td>\n",
       "      <td>0.935242</td>\n",
       "      <td>0.605867</td>\n",
       "      <td>0.518790</td>\n",
       "      <td>0.912225</td>\n",
       "      <td>0.608234</td>\n",
       "      <td>0.723782</td>\n",
       "      <td>0.733591</td>\n",
       "      <td>0</td>\n",
       "      <td>-0.035865</td>\n",
       "    </tr>\n",
       "    <tr>\n",
       "      <th>1</th>\n",
       "      <td>0.546092</td>\n",
       "      <td>0.653975</td>\n",
       "      <td>0.065575</td>\n",
       "      <td>0.227772</td>\n",
       "      <td>0.845269</td>\n",
       "      <td>0.837066</td>\n",
       "      <td>0.272379</td>\n",
       "      <td>0.331679</td>\n",
       "      <td>0.429297</td>\n",
       "      <td>0.367422</td>\n",
       "      <td>0</td>\n",
       "      <td>-0.084927</td>\n",
       "    </tr>\n",
       "    <tr>\n",
       "      <th>2</th>\n",
       "      <td>0.336714</td>\n",
       "      <td>0.538842</td>\n",
       "      <td>0.192801</td>\n",
       "      <td>0.553563</td>\n",
       "      <td>0.074515</td>\n",
       "      <td>0.332993</td>\n",
       "      <td>0.365792</td>\n",
       "      <td>0.861309</td>\n",
       "      <td>0.899017</td>\n",
       "      <td>0.088600</td>\n",
       "      <td>1</td>\n",
       "      <td>0.025356</td>\n",
       "    </tr>\n",
       "    <tr>\n",
       "      <th>3</th>\n",
       "      <td>0.092108</td>\n",
       "      <td>0.995017</td>\n",
       "      <td>0.014465</td>\n",
       "      <td>0.176371</td>\n",
       "      <td>0.241530</td>\n",
       "      <td>0.514724</td>\n",
       "      <td>0.562208</td>\n",
       "      <td>0.158963</td>\n",
       "      <td>0.073715</td>\n",
       "      <td>0.208463</td>\n",
       "      <td>1</td>\n",
       "      <td>0.042415</td>\n",
       "    </tr>\n",
       "    <tr>\n",
       "      <th>4</th>\n",
       "      <td>0.325261</td>\n",
       "      <td>0.805968</td>\n",
       "      <td>0.957033</td>\n",
       "      <td>0.331665</td>\n",
       "      <td>0.307923</td>\n",
       "      <td>0.355315</td>\n",
       "      <td>0.501899</td>\n",
       "      <td>0.558449</td>\n",
       "      <td>0.885169</td>\n",
       "      <td>0.182754</td>\n",
       "      <td>0</td>\n",
       "      <td>-0.023408</td>\n",
       "    </tr>\n",
       "  </tbody>\n",
       "</table>\n",
       "</div>"
      ],
      "text/plain": [
       "       Col1      Col2      Col3      Col4      Col5      Col6      Col7  \\\n",
       "0  0.263995  0.764929  0.138424  0.935242  0.605867  0.518790  0.912225   \n",
       "1  0.546092  0.653975  0.065575  0.227772  0.845269  0.837066  0.272379   \n",
       "2  0.336714  0.538842  0.192801  0.553563  0.074515  0.332993  0.365792   \n",
       "3  0.092108  0.995017  0.014465  0.176371  0.241530  0.514724  0.562208   \n",
       "4  0.325261  0.805968  0.957033  0.331665  0.307923  0.355315  0.501899   \n",
       "\n",
       "       Col8      Col9     Col10  Label     Score  \n",
       "0  0.608234  0.723782  0.733591      0 -0.035865  \n",
       "1  0.331679  0.429297  0.367422      0 -0.084927  \n",
       "2  0.861309  0.899017  0.088600      1  0.025356  \n",
       "3  0.158963  0.073715  0.208463      1  0.042415  \n",
       "4  0.558449  0.885169  0.182754      0 -0.023408  "
      ]
     },
     "execution_count": 7,
     "metadata": {},
     "output_type": "execute_result"
    }
   ],
   "source": [
    "iforest_results = assign_model(iforest)\n",
    "iforest_results.head()"
   ]
  },
  {
   "cell_type": "markdown",
   "metadata": {},
   "source": [
    "# 5. Analyze Model"
   ]
  },
  {
   "cell_type": "code",
   "execution_count": 8,
   "metadata": {},
   "outputs": [
    {
     "data": {
      "text/html": [
       "        <script type=\"text/javascript\">\n",
       "        window.PlotlyConfig = {MathJaxConfig: 'local'};\n",
       "        if (window.MathJax) {MathJax.Hub.Config({SVG: {font: \"STIX-Web\"}});}\n",
       "        if (typeof require !== 'undefined') {\n",
       "        require.undef(\"plotly\");\n",
       "        requirejs.config({\n",
       "            paths: {\n",
       "                'plotly': ['https://cdn.plot.ly/plotly-latest.min']\n",
       "            }\n",
       "        });\n",
       "        require(['plotly'], function(Plotly) {\n",
       "            window._Plotly = Plotly;\n",
       "        });\n",
       "        }\n",
       "        </script>\n",
       "        "
      ]
     },
     "metadata": {},
     "output_type": "display_data"
    },
    {
     "data": {
      "application/vnd.plotly.v1+json": {
       "config": {
        "plotlyServerURL": "https://plot.ly"
       },
       "data": [
        {
         "customdata": [
          [
           0.263995357
          ],
          [
           0.546092303
          ],
          [
           0.33671410399999996
          ],
          [
           0.092107835
          ],
          [
           0.325261175
          ],
          [
           0.212464853
          ],
          [
           0.258565714
          ],
          [
           0.869236755
          ],
          [
           0.197077957
          ],
          [
           0.292984504
          ],
          [
           0.82178316
          ],
          [
           0.796622959
          ],
          [
           0.045577010999999994
          ],
          [
           0.613660351
          ],
          [
           0.9507445659999999
          ],
          [
           0.33634633700000005
          ],
          [
           0.034440667
          ],
          [
           0.741544275
          ],
          [
           0.18443265
          ],
          [
           0.664514943
          ],
          [
           0.16282485800000002
          ],
          [
           0.729838445
          ],
          [
           0.62837389
          ],
          [
           0.057883660999999996
          ],
          [
           0.445534827
          ],
          [
           0.80183695
          ],
          [
           0.27709612
          ],
          [
           0.228634015
          ],
          [
           0.834860657
          ],
          [
           0.6697665110000001
          ],
          [
           0.532527349
          ],
          [
           0.17045907100000002
          ],
          [
           0.5102884679999999
          ],
          [
           0.977561989
          ],
          [
           0.249775993
          ],
          [
           0.9755006820000001
          ],
          [
           0.613701727
          ],
          [
           0.16742036300000002
          ],
          [
           0.537472516
          ],
          [
           0.379899131
          ],
          [
           0.633897303
          ],
          [
           0.633960424
          ],
          [
           0.5499746529999999
          ],
          [
           0.178172988
          ],
          [
           0.85563814
          ],
          [
           0.321796672
          ],
          [
           0.8174905370000001
          ],
          [
           0.254879417
          ],
          [
           0.344140513
          ],
          [
           0.8061457259999999
          ],
          [
           0.27708167100000003
          ],
          [
           0.544328519
          ],
          [
           0.07708393
          ],
          [
           0.273081458
          ],
          [
           0.390877336
          ],
          [
           0.349621385
          ],
          [
           0.214549744
          ],
          [
           0.206075222
          ],
          [
           0.86461997
          ],
          [
           0.9817088540000001
          ],
          [
           0.33482964600000004
          ],
          [
           0.648387061
          ],
          [
           0.093643561
          ],
          [
           0.837802698
          ],
          [
           0.7603439670000001
          ],
          [
           0.29140417399999996
          ],
          [
           0.3413454
          ],
          [
           0.7611124840000001
          ],
          [
           0.541899775
          ],
          [
           0.684176639
          ],
          [
           0.983535597
          ],
          [
           0.52081245
          ],
          [
           0.328227724
          ],
          [
           0.09715793800000001
          ],
          [
           0.876088593
          ],
          [
           0.870214512
          ],
          [
           0.656086992
          ],
          [
           0.306791514
          ],
          [
           0.48126734
          ],
          [
           0.259559174
          ],
          [
           0.326123655
          ],
          [
           0.930568042
          ],
          [
           0.6583894
          ],
          [
           0.689992335
          ],
          [
           0.315781109
          ],
          [
           0.5669050929999999
          ],
          [
           0.637526619
          ],
          [
           0.687540723
          ],
          [
           0.324300602
          ],
          [
           0.592704906
          ],
          [
           0.7402531259999999
          ],
          [
           0.5940328770000001
          ],
          [
           0.596452977
          ],
          [
           0.27768081699999997
          ],
          [
           0.258329663
          ],
          [
           0.142460864
          ],
          [
           0.435533461
          ],
          [
           0.7024990440000001
          ],
          [
           0.58897535
          ],
          [
           0.653304374
          ],
          [
           0.336968524
          ],
          [
           0.631244736
          ],
          [
           0.73530076
          ],
          [
           0.050390366
          ],
          [
           0.064264924
          ],
          [
           0.665359476
          ],
          [
           0.917835245
          ],
          [
           0.44651012
          ],
          [
           0.661938199
          ],
          [
           0.43935985299999997
          ],
          [
           0.6875724040000001
          ],
          [
           0.363462248
          ],
          [
           0.6542621820000001
          ],
          [
           0.578553536
          ],
          [
           0.065927945
          ],
          [
           0.550148559
          ],
          [
           0.13918281400000002
          ],
          [
           0.080004635
          ],
          [
           0.278228358
          ],
          [
           0.560124266
          ],
          [
           0.53639864
          ],
          [
           0.42653190399999996
          ],
          [
           0.789109796
          ],
          [
           0.742900474
          ],
          [
           0.901692589
          ],
          [
           0.650337401
          ],
          [
           0.114057311
          ],
          [
           0.260812592
          ],
          [
           0.43991232
          ],
          [
           0.964409284
          ],
          [
           0.184401415
          ],
          [
           0.345145446
          ],
          [
           0.17589458100000002
          ],
          [
           0.312514453
          ],
          [
           0.674131879
          ],
          [
           0.32825045
          ],
          [
           0.598231057
          ],
          [
           0.09259881699999999
          ],
          [
           0.497916521
          ],
          [
           0.419776521
          ],
          [
           0.31217670000000003
          ],
          [
           0.937857107
          ],
          [
           0.049030963
          ],
          [
           0.47610452600000003
          ],
          [
           0.447397526
          ],
          [
           0.295806058
          ],
          [
           0.737363977
          ],
          [
           0.625896253
          ],
          [
           0.408813429
          ],
          [
           0.437511156
          ],
          [
           0.691351375
          ],
          [
           0.935555275
          ],
          [
           0.437846654
          ],
          [
           0.072217715
          ],
          [
           0.67636067
          ],
          [
           0.468883999
          ],
          [
           0.543820644
          ],
          [
           0.6555226470000001
          ],
          [
           0.6935289240000001
          ],
          [
           0.10887831199999999
          ],
          [
           0.285463743
          ],
          [
           0
          ],
          [
           0.706495497
          ],
          [
           0.273530633
          ],
          [
           0.292320271
          ],
          [
           0.673984307
          ],
          [
           0.12612182800000002
          ],
          [
           0.9467074590000001
          ],
          [
           0.9363388979999999
          ],
          [
           0.8537553640000001
          ],
          [
           0.7060713609999999
          ],
          [
           0.693682186
          ],
          [
           0.508527882
          ],
          [
           0.34717038899999997
          ],
          [
           0.704154263
          ],
          [
           0.658730088
          ],
          [
           0.155841557
          ],
          [
           0.311085435
          ],
          [
           0.281135347
          ],
          [
           0.094587802
          ],
          [
           0.6832609540000001
          ],
          [
           0.9077292509999999
          ],
          [
           0.29151267399999997
          ],
          [
           0.752734459
          ],
          [
           0.93482964
          ],
          [
           0.071413953
          ],
          [
           0.5948963270000001
          ],
          [
           0.404672015
          ],
          [
           0.13837621
          ],
          [
           0.7473384679999999
          ],
          [
           0.530882486
          ],
          [
           0.282649594
          ],
          [
           0.699335734
          ],
          [
           0.056111250999999994
          ],
          [
           0.855234998
          ],
          [
           0.07789512700000001
          ],
          [
           0.891649583
          ],
          [
           0.38674227899999997
          ],
          [
           0.27113158
          ],
          [
           0.958888961
          ],
          [
           0.085120869
          ],
          [
           0.5269022489999999
          ],
          [
           0.066577785
          ],
          [
           0.841506738
          ],
          [
           0.255342095
          ],
          [
           0.060545771
          ],
          [
           0.073385869
          ],
          [
           0.187493723
          ],
          [
           0.858365688
          ],
          [
           0.090640352
          ],
          [
           0.7097252270000001
          ],
          [
           0.631300647
          ],
          [
           0.24750447399999997
          ],
          [
           0.822843584
          ],
          [
           0.373476759
          ],
          [
           0.625538582
          ],
          [
           0.292951715
          ],
          [
           0.299730324
          ],
          [
           0.25121407
          ],
          [
           0.344480551
          ],
          [
           0.293064767
          ],
          [
           0.7628032240000001
          ],
          [
           0.7384708040000001
          ],
          [
           0.674883265
          ],
          [
           0.719151612
          ],
          [
           0.13098021599999998
          ],
          [
           0.511328036
          ],
          [
           0.04492903
          ],
          [
           0.560914449
          ],
          [
           0.7440406409999999
          ],
          [
           0.266961634
          ],
          [
           0.644231853
          ],
          [
           0.038113352
          ],
          [
           0.05715529900000001
          ],
          [
           0.34139246100000004
          ],
          [
           0.7204636320000001
          ],
          [
           0.402878236
          ],
          [
           0.635148967
          ],
          [
           0.320729467
          ],
          [
           0.09120969400000001
          ],
          [
           0.23414609
          ],
          [
           0.8902211309999999
          ],
          [
           0.602170884
          ],
          [
           0.633652055
          ],
          [
           0.806240837
          ],
          [
           0.739731184
          ],
          [
           0.465231269
          ],
          [
           0.7321109
          ],
          [
           0.373874305
          ],
          [
           0.501587947
          ],
          [
           0.11538315800000001
          ],
          [
           0.7319466040000001
          ],
          [
           0.41829872799999995
          ],
          [
           0.062259590999999996
          ],
          [
           0.391496379
          ],
          [
           0.35984929
          ],
          [
           0.24523562699999998
          ],
          [
           0.610028339
          ],
          [
           0.43540360200000006
          ],
          [
           0.434309675
          ],
          [
           0.523763344
          ],
          [
           0.17118786600000002
          ],
          [
           0.18773430300000002
          ],
          [
           0.945014638
          ],
          [
           0.027851097000000002
          ],
          [
           0.68445706
          ],
          [
           0.178014532
          ],
          [
           0.643427879
          ],
          [
           0.59588355
          ],
          [
           0.372361682
          ],
          [
           0.586103584
          ],
          [
           0.271658852
          ],
          [
           0.59951107
          ],
          [
           0.468363088
          ],
          [
           0.314515565
          ],
          [
           0.21893726
          ],
          [
           0.254716562
          ],
          [
           0.25612815
          ],
          [
           0.602259755
          ],
          [
           0.134381075
          ],
          [
           0.513887424
          ],
          [
           0.624241636
          ],
          [
           0.160251854
          ],
          [
           0.580708108
          ],
          [
           0.270540486
          ],
          [
           0.832919932
          ],
          [
           0.93032134
          ],
          [
           0.719157884
          ],
          [
           0.886720033
          ],
          [
           0.098792281
          ],
          [
           0.787174286
          ],
          [
           0.365592376
          ],
          [
           0.719576193
          ],
          [
           0.8058956
          ],
          [
           0.7555783340000001
          ],
          [
           0.526005909
          ],
          [
           0.68880424
          ],
          [
           0.22111531199999998
          ],
          [
           0.739369477
          ],
          [
           0.408440236
          ],
          [
           0.348926542
          ],
          [
           0.433713763
          ],
          [
           0.5964966070000001
          ],
          [
           0.6942953000000001
          ],
          [
           0.7090309659999999
          ],
          [
           0.867652984
          ],
          [
           0.89332545
          ],
          [
           0.746020922
          ],
          [
           0.538284443
          ],
          [
           0.8922193140000001
          ],
          [
           0.935175765
          ],
          [
           0.260527707
          ],
          [
           0.956780449
          ],
          [
           0.204932484
          ],
          [
           0.687733351
          ],
          [
           0.329063619
          ],
          [
           0.632149831
          ],
          [
           0.463744506
          ],
          [
           0.698859621
          ],
          [
           0.385446564
          ],
          [
           0.47997537700000004
          ],
          [
           0.732279108
          ],
          [
           0.3813543
          ],
          [
           0.459326013
          ],
          [
           0.257401434
          ],
          [
           0.665014804
          ],
          [
           0.103399542
          ],
          [
           0.425284413
          ],
          [
           0.943529051
          ],
          [
           0.594750236
          ],
          [
           0.543776817
          ],
          [
           0.18203988
          ],
          [
           0.23584208399999998
          ],
          [
           0.585984497
          ],
          [
           0.762013168
          ],
          [
           0.6849829070000001
          ],
          [
           0.676936933
          ],
          [
           0.290184964
          ],
          [
           0.48106822200000005
          ],
          [
           0.492766033
          ],
          [
           0.22185623399999999
          ],
          [
           0.053875998
          ],
          [
           0.082751144
          ],
          [
           0.385366225
          ],
          [
           0.702513961
          ],
          [
           0.91553156
          ],
          [
           0.082087436
          ],
          [
           0.251280378
          ],
          [
           0.41672181700000005
          ],
          [
           0.277032672
          ],
          [
           0.579539754
          ],
          [
           0.569363476
          ],
          [
           0.133399703
          ],
          [
           0.265045463
          ],
          [
           0.936571901
          ],
          [
           0.252618554
          ],
          [
           0.054033081
          ],
          [
           0.802481439
          ],
          [
           0.528197693
          ],
          [
           0.9515026
          ],
          [
           0.572121173
          ],
          [
           0.752938227
          ],
          [
           0.143857535
          ],
          [
           0.513484576
          ],
          [
           0.313322389
          ],
          [
           0.6877973959999999
          ],
          [
           0.37705984
          ],
          [
           0.348226142
          ],
          [
           0.67763282
          ],
          [
           0.24138752100000002
          ],
          [
           0.8506501790000001
          ],
          [
           0.22034810300000002
          ],
          [
           0.476445464
          ],
          [
           0.690324025
          ],
          [
           0.364695946
          ],
          [
           0.6492491970000001
          ],
          [
           0.9437019209999999
          ],
          [
           0.529645971
          ],
          [
           0.299097002
          ],
          [
           0.96696247
          ],
          [
           0.272005242
          ],
          [
           0.314161447
          ],
          [
           0.752020991
          ],
          [
           0.221882453
          ],
          [
           0.7203326729999999
          ],
          [
           0.379204782
          ],
          [
           0.60168653
          ],
          [
           0.582932673
          ],
          [
           0.950809853
          ],
          [
           0.58830141
          ],
          [
           0.880887227
          ],
          [
           0.467857701
          ],
          [
           0.8799021709999999
          ],
          [
           0.619844009
          ],
          [
           0.359002573
          ],
          [
           0.291511278
          ],
          [
           0.694157143
          ],
          [
           0.727960353
          ],
          [
           0.617703921
          ],
          [
           0.39581257
          ],
          [
           0.58317282
          ],
          [
           0.710332374
          ],
          [
           0.253753693
          ],
          [
           0.049412227999999996
          ],
          [
           0.728378695
          ],
          [
           0.432432881
          ],
          [
           0.58612345
          ],
          [
           0.052342373
          ],
          [
           0.053483902
          ],
          [
           0.518729378
          ],
          [
           0.933040208
          ],
          [
           0.7035542840000001
          ],
          [
           0.268989899
          ],
          [
           0.733006927
          ],
          [
           0.44435246700000003
          ],
          [
           0.5833946210000001
          ],
          [
           0.871172692
          ],
          [
           0.42876707799999997
          ],
          [
           0.30046084100000003
          ],
          [
           0.9533294590000001
          ],
          [
           0.606443965
          ],
          [
           0.90986815
          ],
          [
           0.714896449
          ],
          [
           0.49734950899999997
          ],
          [
           0.8530974859999999
          ],
          [
           0.721804145
          ],
          [
           0.303467328
          ],
          [
           0.664485096
          ],
          [
           0.27978062
          ],
          [
           0.569481665
          ],
          [
           0.628628926
          ],
          [
           0.088368123
          ],
          [
           0.733567326
          ],
          [
           0.537436778
          ],
          [
           0.638593691
          ],
          [
           0.954726948
          ],
          [
           0.632202332
          ],
          [
           0.642134651
          ],
          [
           0.744653087
          ],
          [
           0.115714007
          ],
          [
           0.48625007299999995
          ],
          [
           0.440356144
          ],
          [
           0.08272289
          ],
          [
           0.511591027
          ],
          [
           0.394627555
          ],
          [
           0.224394
          ],
          [
           0.626927584
          ],
          [
           0.290254057
          ],
          [
           0.779008053
          ],
          [
           0.86610579
          ],
          [
           0.873326081
          ],
          [
           0.49548916
          ],
          [
           0.594297695
          ],
          [
           0.9182015840000001
          ],
          [
           0.5770427539999999
          ],
          [
           0.019467671000000002
          ],
          [
           0.6702982820000001
          ],
          [
           0.546595316
          ],
          [
           0.591665146
          ],
          [
           0.42155819
          ],
          [
           0.6856085590000001
          ],
          [
           0.340303024
          ],
          [
           0.675626741
          ],
          [
           0.319067345
          ],
          [
           0.38849966399999997
          ],
          [
           0.706949589
          ],
          [
           0.559409515
          ],
          [
           0.687663508
          ],
          [
           0.7088045540000001
          ],
          [
           0.6818880940000001
          ],
          [
           0.42253510899999996
          ],
          [
           0.320004605
          ],
          [
           0.6582813679999999
          ],
          [
           0.634154867
          ],
          [
           0.7773320090000001
          ],
          [
           0.812677205
          ],
          [
           0.074280797
          ],
          [
           0.39600217
          ],
          [
           0.054933913
          ],
          [
           0.825058925
          ],
          [
           0.382642009
          ],
          [
           0.8687298179999999
          ],
          [
           0.588043346
          ],
          [
           0.891551577
          ],
          [
           0.10920046
          ],
          [
           0.647682781
          ],
          [
           0.724342512
          ],
          [
           0.07016304400000001
          ],
          [
           0.280882054
          ],
          [
           0.039113261
          ],
          [
           0.579641592
          ],
          [
           0.639000922
          ],
          [
           0.281745925
          ],
          [
           0.647857744
          ],
          [
           0.6479057970000001
          ],
          [
           0.875226264
          ],
          [
           0.567603305
          ],
          [
           0.262940591
          ],
          [
           0.268026042
          ],
          [
           0.40519133
          ],
          [
           0.479965451
          ],
          [
           0.33552403
          ],
          [
           0.777165379
          ],
          [
           0.42548796299999997
          ],
          [
           0.237986115
          ],
          [
           0.142522971
          ],
          [
           0.724176488
          ],
          [
           0.234698933
          ],
          [
           0.07818228099999999
          ],
          [
           0.855990155
          ],
          [
           0.270251765
          ],
          [
           0.435517841
          ],
          [
           0.762697513
          ],
          [
           0.46448725799999996
          ],
          [
           0.396112685
          ],
          [
           0.37638092100000003
          ],
          [
           0.29459467699999997
          ],
          [
           0.6944921209999999
          ],
          [
           0.622767949
          ],
          [
           0.8475597220000001
          ],
          [
           0.301463054
          ],
          [
           0.912937812
          ],
          [
           0.500017182
          ],
          [
           0.902587935
          ],
          [
           0.304517943
          ],
          [
           0.299165673
          ],
          [
           0.092014087
          ],
          [
           0.488548917
          ],
          [
           0.664664437
          ],
          [
           0.26534954899999996
          ],
          [
           0.723657021
          ],
          [
           0.149262385
          ],
          [
           0.04577339
          ],
          [
           0.69661064
          ],
          [
           0.42181486
          ],
          [
           0.733845785
          ],
          [
           0.418795386
          ],
          [
           0.677443529
          ],
          [
           0.26128360300000003
          ],
          [
           0.268527767
          ],
          [
           0.5443222360000001
          ],
          [
           0.431632036
          ],
          [
           0.981018141
          ],
          [
           0.21498072399999998
          ],
          [
           0.39472999299999995
          ],
          [
           0.122224944
          ],
          [
           0.297496875
          ],
          [
           0.37490443100000004
          ],
          [
           0.68698771
          ],
          [
           0.388549207
          ],
          [
           0.039296071
          ],
          [
           0.73553424
          ],
          [
           0.37929489299999997
          ],
          [
           0.7321233859999999
          ],
          [
           0.33922143899999996
          ],
          [
           0.659450594
          ],
          [
           0.054838642
          ],
          [
           0.640112102
          ],
          [
           0.30714170399999996
          ],
          [
           0.39661190700000004
          ],
          [
           0.420439161
          ],
          [
           0.24171497399999997
          ],
          [
           0.065893153
          ],
          [
           0.9105219370000001
          ],
          [
           0.697163103
          ],
          [
           0.072559853
          ],
          [
           0.81825094
          ],
          [
           0.311888815
          ],
          [
           0.961644609
          ],
          [
           0.816325524
          ],
          [
           0.14647302
          ],
          [
           0.548753945
          ],
          [
           0.946158087
          ],
          [
           0.293992717
          ],
          [
           0.331479643
          ],
          [
           0.9062200309999999
          ],
          [
           0.525540416
          ],
          [
           0.83301411
          ],
          [
           0.514849806
          ],
          [
           0.574609024
          ],
          [
           0.46871185299999996
          ],
          [
           0.71002775
          ],
          [
           0.645973276
          ],
          [
           0.229794416
          ],
          [
           0.551783393
          ],
          [
           0.055822990999999995
          ],
          [
           0.331750941
          ],
          [
           0.715520198
          ],
          [
           0.583924357
          ],
          [
           0.30695769100000003
          ],
          [
           0.7914782370000001
          ],
          [
           0.16423663900000002
          ],
          [
           0.065711219
          ],
          [
           0.948993132
          ],
          [
           0.080423835
          ],
          [
           0.052495426
          ],
          [
           0.566346135
          ],
          [
           0.3630266
          ],
          [
           0.605442195
          ],
          [
           0.6308505839999999
          ],
          [
           0.065791238
          ],
          [
           0.28681707100000003
          ],
          [
           0.685462839
          ],
          [
           0.260853706
          ],
          [
           0.659122429
          ],
          [
           0.44317392200000005
          ],
          [
           0.602063986
          ],
          [
           0.060366910999999995
          ],
          [
           0.781903153
          ],
          [
           0.5145798070000001
          ],
          [
           0.48388621299999995
          ],
          [
           0.600213807
          ],
          [
           0.49736405200000006
          ],
          [
           0.411145245
          ],
          [
           0.116999171
          ],
          [
           0.34189014100000004
          ],
          [
           0.746950848
          ],
          [
           0.39629274600000003
          ],
          [
           0.6221438429999999
          ],
          [
           0.335271141
          ],
          [
           0.140257137
          ],
          [
           0.081620681
          ],
          [
           0.069837569
          ],
          [
           0.46894000799999996
          ],
          [
           0.9908574170000001
          ],
          [
           0.896616832
          ],
          [
           0.255310561
          ],
          [
           0.22464526699999998
          ],
          [
           0.01991825
          ],
          [
           0.296480415
          ],
          [
           0.155458996
          ],
          [
           0.577916714
          ],
          [
           0.9563030309999999
          ],
          [
           0.813464394
          ],
          [
           0.529675785
          ],
          [
           0.287671353
          ],
          [
           0.48039136
          ],
          [
           0.28104482199999997
          ],
          [
           0.633196521
          ],
          [
           0.09332537699999999
          ],
          [
           0.28447398100000004
          ],
          [
           0.052223775
          ],
          [
           0.051129385
          ],
          [
           0.967405608
          ],
          [
           0.040045727999999996
          ],
          [
           0.9085829209999999
          ],
          [
           0.6621174160000001
          ],
          [
           0.42470320899999997
          ],
          [
           0.72207806
          ],
          [
           0.666193327
          ],
          [
           0.509681253
          ],
          [
           0.7513536209999999
          ],
          [
           0.279073124
          ],
          [
           0.074927
          ],
          [
           0.916359535
          ],
          [
           0.31040327
          ],
          [
           0.716604052
          ],
          [
           0.485587085
          ],
          [
           0.30607518100000003
          ],
          [
           0.477558204
          ],
          [
           0.7119239409999999
          ],
          [
           0.066348638
          ],
          [
           0.27453935100000004
          ],
          [
           0.31082252
          ],
          [
           0.47607312700000004
          ],
          [
           0.186795565
          ],
          [
           0.26654207
          ],
          [
           0.070231142
          ],
          [
           0.26951927
          ],
          [
           0.800004713
          ],
          [
           0.27363366699999997
          ],
          [
           0.14647919199999998
          ],
          [
           0.378318951
          ],
          [
           0.373849065
          ],
          [
           0.242170835
          ],
          [
           0.249796488
          ],
          [
           0.066591188
          ],
          [
           0.372956798
          ],
          [
           0.501812291
          ],
          [
           0.313097752
          ],
          [
           0.8802021959999999
          ],
          [
           0.51981893
          ],
          [
           0.364138746
          ],
          [
           0.49268289600000004
          ],
          [
           0.285732652
          ],
          [
           0.890114985
          ],
          [
           0.316419561
          ],
          [
           0.26866354
          ],
          [
           0.771975959
          ],
          [
           0.968888992
          ],
          [
           0.080334377
          ],
          [
           0.7368282209999999
          ],
          [
           0.30055807100000004
          ],
          [
           0.9179503929999999
          ],
          [
           0.465815039
          ],
          [
           0.054036682
          ],
          [
           0.963150123
          ],
          [
           0.08965350300000001
          ],
          [
           0.7076932340000001
          ],
          [
           0.636416037
          ],
          [
           0.539521117
          ],
          [
           0.114757161
          ],
          [
           0.357312419
          ],
          [
           0.67639834
          ],
          [
           0.43482839
          ],
          [
           0.032326387000000005
          ],
          [
           0.711365605
          ],
          [
           0.187486519
          ],
          [
           0.052789653
          ],
          [
           0.5058636129999999
          ],
          [
           0.927431873
          ],
          [
           0.6809842559999999
          ],
          [
           0.882822186
          ],
          [
           0.495705441
          ],
          [
           0.596240398
          ],
          [
           0.320610701
          ],
          [
           0.3413685
          ],
          [
           0.159681797
          ],
          [
           0.318133669
          ],
          [
           0.8393010479999999
          ],
          [
           0.06435925099999999
          ],
          [
           0.470216633
          ],
          [
           0.7762522909999999
          ],
          [
           0.635843383
          ],
          [
           0.62510543
          ],
          [
           0.52959065
          ],
          [
           0.986900166
          ],
          [
           0.078585688
          ],
          [
           0.233284267
          ],
          [
           0.363330957
          ],
          [
           0.7167169809999999
          ],
          [
           0.37588979200000006
          ],
          [
           0.223316889
          ],
          [
           0.299343986
          ],
          [
           0.538595767
          ],
          [
           0.730297124
          ],
          [
           0.66033077
          ],
          [
           0.435296009
          ],
          [
           0.326494313
          ],
          [
           0.854402708
          ],
          [
           0.5734938470000001
          ],
          [
           0.757786135
          ],
          [
           0.704743233
          ],
          [
           0.281575597
          ],
          [
           0.671968208
          ],
          [
           0.313726015
          ],
          [
           0.364338275
          ],
          [
           0.368216396
          ],
          [
           0.38629520700000003
          ],
          [
           0.655971865
          ],
          [
           0.5660252729999999
          ],
          [
           0.424999093
          ],
          [
           0.090110371
          ],
          [
           0.772350538
          ],
          [
           0.331047258
          ],
          [
           0.273716188
          ],
          [
           0.23877568
          ],
          [
           0.37307977200000003
          ],
          [
           0.331185868
          ],
          [
           0.256134531
          ],
          [
           0.678373225
          ],
          [
           0.43463833799999996
          ],
          [
           0.654668307
          ],
          [
           0.986681065
          ],
          [
           0.371520495
          ],
          [
           0.408359618
          ],
          [
           0.40932365
          ],
          [
           0.283412082
          ],
          [
           0.395246531
          ],
          [
           0.010984428000000001
          ],
          [
           0.306013869
          ],
          [
           0.266194806
          ],
          [
           0.299318521
          ],
          [
           0.318293946
          ],
          [
           0.74282591
          ],
          [
           0.09766432900000001
          ],
          [
           0.079666942
          ],
          [
           0.613258767
          ],
          [
           0.99443072
          ],
          [
           0.568835082
          ],
          [
           0.7080345159999999
          ],
          [
           0.37059271899999996
          ],
          [
           0.669867361
          ],
          [
           0.651295625
          ],
          [
           0.462531569
          ],
          [
           0.7196256190000001
          ],
          [
           0.45377248
          ],
          [
           0.394863946
          ],
          [
           0.323974831
          ],
          [
           0.146454724
          ],
          [
           0.7790670409999999
          ],
          [
           0.401828915
          ],
          [
           0.601479585
          ],
          [
           0.856423023
          ],
          [
           0.565242962
          ],
          [
           0.301225108
          ],
          [
           0.282108144
          ],
          [
           0.594378011
          ],
          [
           0.705312368
          ],
          [
           0.5408696279999999
          ],
          [
           0.319249574
          ],
          [
           0.36176613799999996
          ],
          [
           0.625000704
          ],
          [
           0.316287401
          ],
          [
           0.047239021
          ],
          [
           0.801182233
          ],
          [
           0.508474436
          ],
          [
           0.8178934109999999
          ],
          [
           0.399235601
          ],
          [
           0.9740519990000001
          ],
          [
           0.72241535
          ],
          [
           0.039564764
          ],
          [
           0.908684108
          ],
          [
           0.47301013399999997
          ],
          [
           0.7180496279999999
          ],
          [
           0.7634790690000001
          ],
          [
           0.6475965370000001
          ],
          [
           0.8949973859999999
          ],
          [
           0.22282590100000002
          ],
          [
           0.359012234
          ],
          [
           0.944910252
          ],
          [
           0.297877816
          ],
          [
           0.172517997
          ],
          [
           0.556586265
          ],
          [
           0.876481735
          ],
          [
           0.48667784299999994
          ],
          [
           0.459496733
          ],
          [
           0.47412637700000004
          ],
          [
           0.70101144
          ],
          [
           0.337597387
          ],
          [
           0.537578886
          ],
          [
           0.966992448
          ],
          [
           0.056849545
          ],
          [
           0.233249065
          ],
          [
           0.380054711
          ],
          [
           0.602929443
          ],
          [
           0.303847999
          ],
          [
           0.170194553
          ],
          [
           0.972168554
          ],
          [
           0.332168927
          ],
          [
           0.6887286890000001
          ],
          [
           0.110773401
          ],
          [
           0.273352065
          ],
          [
           0.572939678
          ],
          [
           0.491457065
          ],
          [
           0.281389999
          ],
          [
           0.821697261
          ],
          [
           0.6749776829999999
          ],
          [
           0.585134549
          ],
          [
           0.7105961159999999
          ],
          [
           0.040488789
          ],
          [
           0.568054311
          ],
          [
           0.321752928
          ],
          [
           0.611850232
          ],
          [
           0.926096887
          ],
          [
           0.618347428
          ],
          [
           0.667629785
          ],
          [
           0.39773346600000004
          ],
          [
           0.290875487
          ],
          [
           0.594375103
          ],
          [
           0.508255233
          ],
          [
           0.338571357
          ],
          [
           0.43230234700000003
          ],
          [
           0.302221978
          ],
          [
           0.87619819
          ],
          [
           0.080204492
          ],
          [
           0.092333532
          ],
          [
           0.09365644699999999
          ],
          [
           0.6084523510000001
          ],
          [
           0.732654598
          ],
          [
           0.944158855
          ],
          [
           0.26742308
          ],
          [
           0.731124201
          ],
          [
           0.661308553
          ],
          [
           0.38776626200000003
          ],
          [
           0.962585273
          ],
          [
           0.322067067
          ],
          [
           0.6340810929999999
          ],
          [
           0.475345002
          ],
          [
           0.35355897299999994
          ],
          [
           0.8859363159999999
          ],
          [
           0.876798106
          ],
          [
           0.221581064
          ],
          [
           0.394362449
          ],
          [
           0.8050356759999999
          ],
          [
           0.452898486
          ],
          [
           0.592520516
          ],
          [
           0.761026394
          ],
          [
           0.245049023
          ],
          [
           0.37213936299999995
          ],
          [
           0.681054822
          ],
          [
           0.7471431479999999
          ],
          [
           0.9207395290000001
          ],
          [
           0.097207945
          ],
          [
           0.699302998
          ],
          [
           0.721647006
          ],
          [
           0.5353561139999999
          ],
          [
           0.738293805
          ],
          [
           0.7064675509999999
          ],
          [
           0.67395061
          ],
          [
           0.7112122909999999
          ],
          [
           0.302558708
          ],
          [
           0.080097855
          ],
          [
           0.707010837
          ],
          [
           0.512248622
          ],
          [
           0.659627472
          ],
          [
           0.657559694
          ],
          [
           0.100645606
          ],
          [
           0.92665363
          ],
          [
           0.892879338
          ],
          [
           0.839157508
          ],
          [
           0.890959718
          ],
          [
           0.556754471
          ],
          [
           0.960361937
          ],
          [
           0.631037864
          ],
          [
           0.029838065
          ],
          [
           0.278843351
          ],
          [
           0.926157705
          ],
          [
           0.551504258
          ],
          [
           0.485942349
          ],
          [
           0.43723469600000003
          ],
          [
           0.25231801800000003
          ],
          [
           0.515466972
          ],
          [
           0.43725229600000004
          ],
          [
           0.493724207
          ],
          [
           0.83324725
          ],
          [
           0.317521477
          ],
          [
           0.28623456199999997
          ],
          [
           0.726833965
          ],
          [
           0.495667033
          ],
          [
           0.028645255
          ],
          [
           0.31967191699999997
          ],
          [
           0.674344598
          ],
          [
           0.7660371890000001
          ],
          [
           0.65456992
          ],
          [
           0.7565143809999999
          ],
          [
           0.528253719
          ],
          [
           0.38971949100000003
          ],
          [
           0.355087459
          ],
          [
           0.87015202
          ],
          [
           0.7390833059999999
          ],
          [
           0.305761846
          ],
          [
           0.411587673
          ],
          [
           0.063633094
          ],
          [
           0.735409395
          ],
          [
           0.605916669
          ],
          [
           0.539395562
          ],
          [
           0.566183532
          ],
          [
           0.674795186
          ],
          [
           0.070993366
          ],
          [
           0.12526410000000002
          ],
          [
           0.279601492
          ],
          [
           0.952174402
          ],
          [
           0.233806762
          ],
          [
           0.43724742899999997
          ],
          [
           0.925423095
          ],
          [
           0.433498634
          ],
          [
           0.52517902
          ],
          [
           0.088435529
          ],
          [
           0.447677638
          ],
          [
           0.647000631
          ],
          [
           0.9036033370000001
          ],
          [
           0.265790738
          ],
          [
           0.66419695
          ],
          [
           0.498120658
          ],
          [
           0.49018894399999996
          ],
          [
           0.747084187
          ],
          [
           0.906783648
          ],
          [
           0.678770917
          ],
          [
           0.348599859
          ],
          [
           0.294839683
          ],
          [
           0.705691827
          ],
          [
           0.211917931
          ],
          [
           0.063201124
          ],
          [
           0.276699543
          ],
          [
           0.672459395
          ],
          [
           0.8082059490000001
          ],
          [
           0.296538373
          ],
          [
           0.16012686199999998
          ],
          [
           0.439385032
          ],
          [
           0.555951416
          ],
          [
           0.386240112
          ],
          [
           0.158689619
          ],
          [
           0.214499855
          ],
          [
           0.299579429
          ],
          [
           0.569161656
          ],
          [
           0.488614799
          ],
          [
           0.8782950209999999
          ],
          [
           0.649380949
          ],
          [
           0.465713341
          ],
          [
           0.16813774
          ],
          [
           0.87529545
          ],
          [
           0.8411323409999999
          ],
          [
           0.33292081
          ],
          [
           0.5130478589999999
          ],
          [
           0.30505507800000004
          ],
          [
           0.8126269909999999
          ],
          [
           0.25096706
          ],
          [
           0.5024355779999999
          ],
          [
           0.45799074100000003
          ]
         ],
         "hoverlabel": {
          "namelength": 0
         },
         "hovertemplate": "0=%{x}<br>1=%{y}<br>2=%{z}<br>Feature=%{customdata[0]}<br>Label=%{marker.color}",
         "legendgroup": "",
         "marker": {
          "color": [
           0,
           0,
           1,
           1,
           0,
           0,
           0,
           1,
           1,
           0,
           0,
           1,
           0,
           0,
           1,
           0,
           1,
           0,
           0,
           0,
           1,
           0,
           0,
           1,
           1,
           1,
           0,
           0,
           1,
           1,
           0,
           0,
           1,
           1,
           1,
           0,
           0,
           0,
           0,
           0,
           1,
           0,
           0,
           1,
           0,
           0,
           0,
           0,
           0,
           0,
           0,
           1,
           0,
           1,
           0,
           1,
           0,
           0,
           0,
           1,
           0,
           0,
           1,
           1,
           0,
           0,
           1,
           0,
           0,
           1,
           0,
           0,
           0,
           0,
           0,
           0,
           0,
           0,
           0,
           0,
           0,
           0,
           0,
           0,
           0,
           0,
           0,
           0,
           0,
           0,
           0,
           0,
           0,
           0,
           0,
           0,
           0,
           0,
           0,
           0,
           0,
           0,
           0,
           0,
           0,
           0,
           0,
           0,
           0,
           0,
           0,
           0,
           0,
           0,
           0,
           0,
           0,
           0,
           0,
           0,
           0,
           0,
           0,
           0,
           0,
           0,
           0,
           0,
           0,
           0,
           0,
           0,
           0,
           0,
           0,
           0,
           0,
           0,
           0,
           0,
           0,
           0,
           0,
           0,
           0,
           0,
           0,
           0,
           0,
           0,
           0,
           0,
           0,
           0,
           0,
           0,
           0,
           0,
           0,
           0,
           0,
           0,
           0,
           0,
           0,
           0,
           0,
           0,
           0,
           0,
           0,
           0,
           0,
           0,
           0,
           0,
           0,
           0,
           0,
           0,
           0,
           0,
           0,
           0,
           0,
           0,
           0,
           0,
           0,
           0,
           0,
           0,
           0,
           0,
           0,
           0,
           0,
           0,
           1,
           0,
           0,
           0,
           0,
           0,
           0,
           0,
           0,
           0,
           0,
           0,
           0,
           0,
           0,
           0,
           0,
           0,
           0,
           0,
           0,
           0,
           0,
           0,
           0,
           0,
           0,
           0,
           0,
           0,
           0,
           0,
           0,
           0,
           0,
           0,
           0,
           0,
           0,
           0,
           0,
           0,
           0,
           0,
           0,
           0,
           0,
           0,
           0,
           0,
           0,
           0,
           0,
           0,
           0,
           0,
           0,
           0,
           0,
           0,
           0,
           0,
           0,
           0,
           0,
           0,
           0,
           0,
           0,
           0,
           0,
           0,
           0,
           0,
           0,
           0,
           0,
           0,
           0,
           0,
           0,
           0,
           0,
           0,
           0,
           0,
           0,
           0,
           0,
           0,
           0,
           0,
           0,
           0,
           0,
           0,
           0,
           0,
           0,
           0,
           0,
           0,
           0,
           0,
           0,
           0,
           0,
           0,
           0,
           0,
           0,
           0,
           0,
           0,
           0,
           0,
           0,
           0,
           0,
           0,
           0,
           0,
           0,
           0,
           0,
           0,
           0,
           0,
           0,
           0,
           0,
           0,
           0,
           0,
           0,
           0,
           0,
           0,
           0,
           0,
           0,
           0,
           0,
           0,
           0,
           0,
           0,
           0,
           0,
           0,
           0,
           0,
           0,
           0,
           0,
           0,
           0,
           0,
           0,
           0,
           0,
           0,
           0,
           0,
           0,
           0,
           0,
           0,
           0,
           0,
           0,
           0,
           0,
           0,
           0,
           0,
           0,
           0,
           0,
           0,
           0,
           0,
           0,
           0,
           0,
           0,
           0,
           0,
           0,
           0,
           0,
           0,
           0,
           0,
           0,
           0,
           0,
           0,
           0,
           0,
           0,
           0,
           0,
           0,
           0,
           0,
           0,
           0,
           0,
           0,
           0,
           0,
           0,
           0,
           0,
           0,
           0,
           0,
           0,
           0,
           0,
           0,
           0,
           0,
           0,
           0,
           0,
           0,
           0,
           0,
           0,
           0,
           0,
           0,
           0,
           0,
           0,
           0,
           0,
           0,
           0,
           0,
           0,
           0,
           0,
           0,
           0,
           0,
           0,
           0,
           0,
           0,
           0,
           0,
           0,
           0,
           0,
           0,
           0,
           0,
           0,
           0,
           0,
           0,
           0,
           0,
           0,
           0,
           0,
           0,
           0,
           0,
           0,
           0,
           0,
           0,
           0,
           0,
           0,
           0,
           0,
           0,
           0,
           0,
           0,
           0,
           0,
           0,
           0,
           0,
           0,
           0,
           0,
           0,
           0,
           0,
           0,
           0,
           0,
           0,
           0,
           0,
           0,
           0,
           0,
           0,
           0,
           0,
           0,
           0,
           0,
           0,
           0,
           0,
           0,
           0,
           0,
           0,
           0,
           0,
           0,
           0,
           0,
           0,
           0,
           0,
           0,
           0,
           0,
           0,
           0,
           0,
           0,
           0,
           0,
           0,
           0,
           0,
           0,
           0,
           0,
           0,
           0,
           0,
           0,
           0,
           0,
           1,
           0,
           0,
           0,
           0,
           0,
           0,
           0,
           0,
           0,
           0,
           0,
           0,
           0,
           0,
           0,
           0,
           0,
           0,
           0,
           0,
           0,
           0,
           0,
           0,
           0,
           0,
           0,
           0,
           0,
           0,
           0,
           1,
           0,
           0,
           0,
           0,
           0,
           0,
           0,
           0,
           0,
           0,
           0,
           0,
           0,
           0,
           0,
           0,
           0,
           0,
           0,
           0,
           0,
           0,
           0,
           0,
           1,
           0,
           0,
           0,
           0,
           0,
           0,
           0,
           0,
           0,
           0,
           0,
           0,
           0,
           0,
           0,
           0,
           0,
           0,
           0,
           0,
           0,
           0,
           0,
           0,
           0,
           0,
           0,
           0,
           0,
           0,
           0,
           0,
           0,
           0,
           0,
           0,
           0,
           0,
           0,
           0,
           0,
           0,
           0,
           0,
           0,
           0,
           0,
           0,
           0,
           0,
           0,
           0,
           0,
           0,
           0,
           0,
           0,
           0,
           0,
           0,
           0,
           0,
           0,
           0,
           0,
           0,
           0,
           0,
           0,
           0,
           0,
           0,
           0,
           0,
           0,
           0,
           0,
           1,
           0,
           0,
           0,
           0,
           0,
           0,
           0,
           0,
           0,
           0,
           0,
           0,
           0,
           0,
           0,
           0,
           0,
           0,
           0,
           1,
           1,
           0,
           1,
           1,
           0,
           0,
           1,
           1,
           0,
           0,
           0,
           0,
           1,
           0,
           0,
           1,
           1,
           1,
           0,
           1,
           0,
           1,
           1,
           1,
           0,
           0,
           0,
           1,
           0,
           0,
           0,
           0,
           0,
           0,
           0,
           0,
           0,
           0,
           0,
           0,
           0,
           0,
           1,
           0,
           0,
           0,
           0,
           0,
           0,
           0,
           0,
           0,
           0,
           0,
           0,
           0,
           0,
           0,
           0,
           0,
           0,
           0,
           0,
           0,
           0,
           0,
           0,
           0,
           0,
           0,
           0,
           0,
           0,
           0,
           0,
           0,
           0,
           0,
           0,
           1,
           0,
           0,
           0,
           0,
           0,
           0,
           0,
           0,
           0,
           0,
           0,
           0,
           0,
           0,
           0,
           0,
           0,
           0,
           0,
           0,
           0,
           0,
           0,
           0,
           0,
           0,
           0,
           0,
           0,
           0,
           0,
           0,
           0,
           0,
           0,
           0,
           0,
           0,
           0,
           0,
           0,
           0,
           0,
           0,
           0,
           0,
           0,
           0,
           0,
           0,
           0,
           0,
           0,
           0,
           0,
           0,
           0,
           0,
           0,
           0,
           0,
           0,
           0,
           0,
           0,
           0,
           0,
           0,
           0,
           0,
           0,
           0,
           0,
           0,
           0,
           0,
           0,
           0,
           0,
           0,
           0,
           0,
           1,
           0,
           0,
           0,
           0,
           0,
           0,
           0,
           0,
           0,
           0,
           0,
           0,
           0,
           0,
           0,
           0,
           0,
           0,
           0,
           0,
           0,
           0,
           0,
           0,
           0,
           0,
           0,
           0,
           0,
           0,
           0,
           0,
           0,
           0,
           0,
           0,
           0,
           0,
           0,
           0,
           0,
           0,
           0,
           0,
           0,
           0,
           0,
           0,
           0,
           0,
           0,
           0,
           0,
           0,
           0,
           0,
           0,
           1,
           0,
           0,
           0,
           0,
           0,
           0,
           0,
           0,
           0,
           0,
           0,
           0,
           0,
           0,
           0,
           0,
           0,
           0,
           0,
           0,
           0,
           0,
           0,
           0,
           0,
           0,
           0,
           0,
           0,
           0,
           0,
           0,
           0,
           0,
           0,
           0,
           0,
           0,
           0,
           0,
           0,
           0,
           0,
           0,
           0,
           0,
           0,
           0,
           0,
           0,
           0,
           0,
           0,
           0,
           0,
           0,
           0,
           0,
           0,
           0,
           0,
           0,
           0,
           0,
           0,
           0,
           0,
           0,
           0,
           0,
           0,
           0,
           0,
           0,
           0,
           0,
           0,
           0
          ],
          "coloraxis": "coloraxis",
          "opacity": 0.7,
          "symbol": "circle"
         },
         "mode": "markers",
         "name": "",
         "scene": "scene",
         "showlegend": false,
         "type": "scatter3d",
         "x": [
          -0.3892669379711151,
          8.202163696289062,
          -12.815457344055176,
          -9.482439041137695,
          -19.194360733032227,
          -5.076701641082764,
          8.153373718261719,
          -12.863519668579102,
          0.4730543792247772,
          10.575630187988281,
          -13.233685493469238,
          -16.292882919311523,
          -12.88625431060791,
          0.04075916111469269,
          -12.480446815490723,
          -11.40676498413086,
          -12.894969940185547,
          11.987245559692383,
          -11.242234230041504,
          -9.680256843566895,
          -4.318708896636963,
          -2.8777947425842285,
          -16.87171173095703,
          -0.24003595113754272,
          -8.111136436462402,
          -3.7129337787628174,
          -15.851436614990234,
          2.2994635105133057,
          -17.928014755249023,
          -12.307084083557129,
          0.5846978425979614,
          3.2874841690063477,
          -2.679335355758667,
          -12.686957359313965,
          5.929251670837402,
          -2.469658613204956,
          -8.886056900024414,
          2.2256696224212646,
          -2.739284038543701,
          -6.656219005584717,
          4.299223899841309,
          -11.888360977172852,
          12.471967697143555,
          -7.370620250701904,
          -11.875344276428223,
          -11.254108428955078,
          -11.390377044677734,
          0.17077693343162537,
          -16.196125030517578,
          14.061318397521973,
          -15.102724075317383,
          -9.406220436096191,
          7.119743347167969,
          -11.189274787902832,
          -6.288946628570557,
          3.8682985305786133,
          -5.095556259155273,
          3.96716570854187,
          -12.584895133972168,
          -12.330373764038086,
          4.528807163238525,
          8.993361473083496,
          -17.600872039794922,
          -11.644882202148438,
          15.040545463562012,
          -10.664353370666504,
          12.352522850036621,
          12.1712064743042,
          -16.088172912597656,
          -6.908267021179199,
          -17.352066040039062,
          -12.15240478515625,
          -0.6297034025192261,
          -11.681417465209961,
          3.5255422592163086,
          1.9384621381759644,
          -15.567713737487793,
          -14.16672134399414,
          5.380690097808838,
          3.2859628200531006,
          3.4109079837799072,
          0.5672186613082886,
          -17.231033325195312,
          7.847696304321289,
          7.571347713470459,
          4.449182987213135,
          12.91428279876709,
          11.772027015686035,
          0.5719910860061646,
          -2.2619802951812744,
          -0.183759868144989,
          -13.120306968688965,
          11.465201377868652,
          9.41336441040039,
          4.278349876403809,
          -17.868392944335938,
          9.315858840942383,
          5.126947402954102,
          6.00055456161499,
          -15.890997886657715,
          -2.108147382736206,
          13.39912223815918,
          5.708751201629639,
          9.030241012573242,
          -17.00025749206543,
          7.69201135635376,
          8.437553405761719,
          6.309255123138428,
          2.6318304538726807,
          -13.66323471069336,
          -1.9009487628936768,
          -3.815732717514038,
          -11.922356605529785,
          2.5226454734802246,
          -16.70618438720703,
          0.46545425057411194,
          11.500886917114258,
          9.586023330688477,
          -9.921825408935547,
          7.907325267791748,
          0.9792389869689941,
          0.9033965468406677,
          5.757108688354492,
          13.732963562011719,
          4.734624862670898,
          6.831441402435303,
          3.7548882961273193,
          -10.026244163513184,
          7.450895309448242,
          7.1713738441467285,
          -1.7161822319030762,
          8.929106712341309,
          -14.951032638549805,
          6.221007347106934,
          13.915771484375,
          3.1548612117767334,
          -16.86739158630371,
          -13.783455848693848,
          6.417317867279053,
          3.761655330657959,
          -12.171223640441895,
          -2.3057684898376465,
          8.344331741333008,
          -17.968292236328125,
          8.854816436767578,
          5.625417709350586,
          -8.885149002075195,
          12.570939064025879,
          6.6401519775390625,
          5.785317420959473,
          -2.7628893852233887,
          2.6574158668518066,
          3.0395736694335938,
          8.92569351196289,
          -2.373502731323242,
          10.238009452819824,
          14.875995635986328,
          14.937762260437012,
          6.841150760650635,
          -9.081398010253906,
          10.10585880279541,
          4.750837802886963,
          6.441571235656738,
          4.749642848968506,
          -8.760902404785156,
          14.85686206817627,
          -12.605509757995605,
          -14.42712116241455,
          -13.201539039611816,
          5.779813766479492,
          9.222464561462402,
          4.713474750518799,
          -8.425713539123535,
          -15.716042518615723,
          2.973588466644287,
          12.670574188232422,
          -7.418150901794434,
          -14.70530891418457,
          5.76436710357666,
          -12.747041702270508,
          3.517920970916748,
          -8.274474143981934,
          2.7771894931793213,
          -14.316481590270996,
          -14.32472038269043,
          11.21436595916748,
          -12.041412353515625,
          -1.4987714290618896,
          3.939544439315796,
          2.2788357734680176,
          12.973594665527344,
          -18.276199340820312,
          -12.764711380004883,
          -15.89945125579834,
          13.166011810302734,
          8.40553092956543,
          3.4581947326660156,
          4.997218608856201,
          -2.896569013595581,
          4.624361991882324,
          -0.14179083704948425,
          4.740627765655518,
          2.3601455688476562,
          -17.622758865356445,
          -14.403718948364258,
          2.7800378799438477,
          2.328571081161499,
          -0.4697880446910858,
          -7.655253887176514,
          4.927857875823975,
          3.7161121368408203,
          -13.117732048034668,
          -15.27414321899414,
          -0.6422572135925293,
          0.7670997381210327,
          2.6604394912719727,
          5.481651782989502,
          -14.318507194519043,
          -16.864620208740234,
          2.254634380340576,
          -14.49266242980957,
          7.672107696533203,
          -16.909841537475586,
          3.00100040435791,
          13.765633583068848,
          3.03472900390625,
          11.974310874938965,
          2.9442126750946045,
          14.589430809020996,
          -11.411487579345703,
          8.519694328308105,
          11.73106575012207,
          -12.295001029968262,
          -13.407187461853027,
          8.44925308227539,
          7.761667728424072,
          4.642183303833008,
          2.1851110458374023,
          -10.12569808959961,
          -14.237252235412598,
          -0.2809673547744751,
          2.9534029960632324,
          -13.435023307800293,
          10.01829719543457,
          -11.0256986618042,
          13.770971298217773,
          4.4293341636657715,
          6.894596099853516,
          11.679967880249023,
          -17.074024200439453,
          6.023533821105957,
          4.076413631439209,
          -11.990638732910156,
          4.9709296226501465,
          7.230319976806641,
          -0.09059061855077744,
          1.4260001182556152,
          11.231029510498047,
          -11.985116004943848,
          8.370109558105469,
          -14.649065017700195,
          5.4858832359313965,
          -18.06308937072754,
          4.872705936431885,
          6.754601955413818,
          9.742712020874023,
          -14.905436515808105,
          11.542724609375,
          2.6952900886535645,
          3.290483236312866,
          5.828981399536133,
          2.9104833602905273,
          2.312718152999878,
          -13.92396068572998,
          -8.304786682128906,
          9.38642692565918,
          -16.629777908325195,
          -18.294784545898438,
          6.837578773498535,
          4.2044806480407715,
          12.579472541809082,
          -13.95388412475586,
          5.225870609283447,
          1.7842621803283691,
          -16.116283416748047,
          7.974321365356445,
          10.238536834716797,
          7.385843753814697,
          11.953014373779297,
          -2.64821195602417,
          -3.0353071689605713,
          7.491152286529541,
          8.191194534301758,
          9.068571090698242,
          7.859549045562744,
          -10.997467994689941,
          -8.784988403320312,
          5.4375410079956055,
          6.579333782196045,
          0.16025066375732422,
          4.435791492462158,
          10.790534973144531,
          -15.27056884765625,
          -11.35623836517334,
          -9.597180366516113,
          5.604804515838623,
          5.025840759277344,
          5.269097805023193,
          14.75944995880127,
          -14.248444557189941,
          -13.502031326293945,
          13.030137062072754,
          -8.714898109436035,
          -14.246359825134277,
          1.9593273401260376,
          -0.0024585591163486242,
          5.528508186340332,
          8.598881721496582,
          5.546083927154541,
          2.7139029502868652,
          4.438145637512207,
          4.40433931350708,
          -12.278094291687012,
          4.934365749359131,
          0.39553147554397583,
          -0.779971182346344,
          -15.863739013671875,
          -15.065110206604004,
          -13.388815879821777,
          -9.082460403442383,
          11.861870765686035,
          -15.113227844238281,
          7.753065586090088,
          9.656399726867676,
          11.988155364990234,
          -15.113913536071777,
          6.681092262268066,
          3.6848220825195312,
          -12.116941452026367,
          -14.437771797180176,
          3.1606197357177734,
          4.615139007568359,
          -9.921113014221191,
          9.230206489562988,
          -13.013566017150879,
          -15.185118675231934,
          5.6278300285339355,
          15.369729995727539,
          -9.95300579071045,
          -14.961276054382324,
          3.6194193363189697,
          3.160883665084839,
          7.7054443359375,
          3.331145763397217,
          10.229313850402832,
          4.252989768981934,
          7.264885902404785,
          7.237399101257324,
          -18.284320831298828,
          -3.160660982131958,
          6.704283237457275,
          5.788431644439697,
          3.4809114933013916,
          13.505453109741211,
          -11.466252326965332,
          6.546490669250488,
          -14.565848350524902,
          11.767949104309082,
          11.705039978027344,
          6.583673477172852,
          13.656878471374512,
          -0.1258072704076767,
          -16.742778778076172,
          -11.947021484375,
          -12.224818229675293,
          13.358686447143555,
          3.8485774993896484,
          -9.947562217712402,
          3.166703939437866,
          -2.0743768215179443,
          -10.459593772888184,
          3.3072826862335205,
          3.3448197841644287,
          0.6885524392127991,
          6.993638515472412,
          8.74215030670166,
          7.938637733459473,
          6.844070911407471,
          4.4930009841918945,
          -3.2190723419189453,
          11.248888969421387,
          9.428266525268555,
          1.764265537261963,
          2.828279972076416,
          7.686616897583008,
          3.0835139751434326,
          7.539061546325684,
          -11.241762161254883,
          -1.5585308074951172,
          5.078639507293701,
          7.519505023956299,
          9.981328010559082,
          12.578780174255371,
          2.5521252155303955,
          -13.418281555175781,
          11.04122543334961,
          -13.548421859741211,
          2.573760986328125,
          -9.584364891052246,
          3.0104751586914062,
          9.105602264404297,
          -0.7302165031433105,
          -17.39260482788086,
          5.674635887145996,
          8.020403861999512,
          12.078438758850098,
          12.494173049926758,
          7.487215042114258,
          -15.124682426452637,
          -15.113504409790039,
          -3.487257480621338,
          8.114611625671387,
          7.933913230895996,
          6.154234886169434,
          -13.460494995117188,
          13.295475006103516,
          8.570291519165039,
          -9.369812965393066,
          -0.7404769659042358,
          -15.41489028930664,
          0.35199669003486633,
          9.901442527770996,
          8.20095443725586,
          -10.968355178833008,
          -17.488311767578125,
          5.394103050231934,
          10.30190372467041,
          -16.42849349975586,
          3.007838010787964,
          -14.311864852905273,
          7.019388198852539,
          5.850596904754639,
          -15.393218994140625,
          -17.731491088867188,
          1.9477670192718506,
          -8.334494590759277,
          -15.591259002685547,
          9.920909881591797,
          -15.451600074768066,
          -7.766468524932861,
          10.384392738342285,
          -16.789344787597656,
          13.593504905700684,
          5.615365505218506,
          -11.99255084991455,
          3.8266258239746094,
          2.9851114749908447,
          -16.201805114746094,
          5.319042205810547,
          -0.07049034535884857,
          7.1472907066345215,
          -14.967495918273926,
          12.706847190856934,
          2.6616196632385254,
          0.9946771264076233,
          0.02262856438755989,
          2.2756404876708984,
          -15.800622940063477,
          14.555342674255371,
          -13.974063873291016,
          1.460457444190979,
          10.369091033935547,
          13.231099128723145,
          3.833800792694092,
          13.102740287780762,
          13.025406837463379,
          7.869942665100098,
          -9.831336975097656,
          2.6070852279663086,
          8.688775062561035,
          14.22594928741455,
          9.104525566101074,
          -10.341071128845215,
          -16.191133499145508,
          11.047635078430176,
          -17.194210052490234,
          4.058229446411133,
          -0.31541287899017334,
          2.589539051055908,
          -15.326637268066406,
          6.166178226470947,
          -11.149346351623535,
          -9.696573257446289,
          -15.848213195800781,
          -13.67417049407959,
          -9.052933692932129,
          3.7663066387176514,
          -9.539613723754883,
          8.61703109741211,
          -2.465618133544922,
          6.3306474685668945,
          2.134739398956299,
          -1.4694020748138428,
          0.79788738489151,
          -0.3243798017501831,
          -15.178778648376465,
          5.091894626617432,
          14.210201263427734,
          -0.5642451047897339,
          -8.46768569946289,
          -18.077831268310547,
          15.153879165649414,
          4.104975700378418,
          -14.017365455627441,
          4.950640678405762,
          11.468603134155273,
          7.449794769287109,
          5.283275127410889,
          3.4627604484558105,
          4.544569969177246,
          -1.437074065208435,
          -16.680679321289062,
          -11.53210163116455,
          -13.29934024810791,
          -17.32240867614746,
          12.397412300109863,
          1.194765329360962,
          10.93818473815918,
          2.8838014602661133,
          0.3313535153865814,
          5.5702900886535645,
          -14.559233665466309,
          -10.750060081481934,
          13.603075981140137,
          -10.339096069335938,
          -12.800091743469238,
          2.761441946029663,
          -17.80977439880371,
          2.5978496074676514,
          3.6412100791931152,
          2.9159610271453857,
          -8.196484565734863,
          9.072840690612793,
          6.094500541687012,
          15.384897232055664,
          -12.487382888793945,
          6.616333484649658,
          -9.954341888427734,
          -9.5077543258667,
          5.77168083190918,
          10.213159561157227,
          1.4400749206542969,
          -16.023061752319336,
          6.74505090713501,
          9.17734432220459,
          7.097421169281006,
          -10.27608871459961,
          4.422642707824707,
          -15.256428718566895,
          -0.3092958629131317,
          -18.104286193847656,
          -17.07518768310547,
          9.883283615112305,
          -10.847790718078613,
          9.512824058532715,
          2.5892021656036377,
          13.12626838684082,
          2.4263179302215576,
          -9.722926139831543,
          -10.63301944732666,
          -0.0025439374148845673,
          -10.746745109558105,
          -12.717103958129883,
          -15.322134971618652,
          4.583184719085693,
          -15.502434730529785,
          8.088824272155762,
          11.67529296875,
          1.6489336490631104,
          0.7178834080696106,
          -2.903041362762451,
          3.420391798019409,
          -12.132121086120605,
          7.5117902755737305,
          14.82287311553955,
          2.0586538314819336,
          0.24160605669021606,
          10.059504508972168,
          13.032898902893066,
          -14.553060531616211,
          9.820112228393555,
          12.504071235656738,
          0.4561989903450012,
          -13.14951229095459,
          2.6817827224731445,
          7.837247848510742,
          -11.773533821105957,
          -15.277811050415039,
          -9.187231063842773,
          -17.092227935791016,
          -11.866009712219238,
          0.5238817930221558,
          -8.62102222442627,
          9.278830528259277,
          -7.581610679626465,
          6.289508819580078,
          -15.026677131652832,
          -16.862472534179688,
          8.408604621887207,
          5.022106647491455,
          -10.990379333496094,
          -1.6574546098709106,
          -1.8445810079574585,
          1.9084439277648926,
          2.9069712162017822,
          10.974149703979492,
          2.2812514305114746,
          0.053721390664577484,
          5.02124547958374,
          0.6365267634391785,
          2.477426767349243,
          8.015515327453613,
          6.557646751403809,
          2.8571319580078125,
          -13.021594047546387,
          -15.487261772155762,
          10.430041313171387,
          -17.66063690185547,
          2.346541166305542,
          2.2727138996124268,
          3.8515684604644775,
          5.249328136444092,
          4.916928291320801,
          -16.92217445373535,
          -2.4289050102233887,
          2.557955026626587,
          3.2211482524871826,
          2.868089199066162,
          -11.675262451171875,
          3.797593116760254,
          -14.188324928283691,
          4.758634567260742,
          8.464159965515137,
          -1.7989332675933838,
          -15.80036735534668,
          7.022524833679199,
          -13.273064613342285,
          3.600583076477051,
          -10.145647048950195,
          2.657942295074463,
          11.911989212036133,
          12.561650276184082,
          2.8569512367248535,
          -13.232072830200195,
          13.177619934082031,
          4.605792045593262,
          -16.494943618774414,
          1.4047757387161255,
          5.801451683044434,
          -13.72252368927002,
          -15.51790714263916,
          7.813690185546875,
          0.9850636124610901,
          0.20397493243217468,
          -8.939882278442383,
          4.661388874053955,
          -13.369925498962402,
          5.889998912811279,
          5.0358171463012695,
          12.882875442504883,
          3.051041603088379,
          4.8912353515625,
          7.605931758880615,
          4.506524562835693,
          -8.406164169311523,
          10.861151695251465,
          4.602362632751465,
          -11.131698608398438,
          -10.075379371643066,
          6.406915664672852,
          -12.876955032348633,
          13.021272659301758,
          3.5589098930358887,
          -8.175647735595703,
          9.447441101074219,
          13.026041984558105,
          6.31500244140625,
          15.640705108642578,
          -12.87399673461914,
          -14.733988761901855,
          -15.701833724975586,
          -12.545785903930664,
          -17.401357650756836,
          4.33174467086792,
          -13.37380313873291,
          -10.703920364379883,
          -2.0697081089019775,
          2.6218199729919434,
          6.3212761878967285,
          -11.629350662231445,
          0.2898651659488678,
          4.423070907592773,
          0.003501937724649906,
          -17.982969284057617,
          5.887151718139648,
          4.054083347320557,
          -14.029930114746094,
          -15.43706226348877,
          2.1050100326538086,
          -8.12753963470459,
          -12.190759658813477,
          14.544732093811035,
          6.782824993133545,
          -3.79244327545166,
          1.1302825212478638,
          -6.427534580230713,
          -4.962121963500977,
          -10.651766777038574,
          1.1237127780914307,
          9.261614799499512,
          -11.355342864990234,
          12.98139476776123,
          4.521270275115967,
          -9.31414794921875,
          -6.4080119132995605,
          -2.691589593887329,
          -8.036452293395996,
          -11.179545402526855,
          -12.015162467956543,
          -6.2709126472473145,
          4.032128810882568,
          -16.31495475769043,
          4.017813682556152,
          6.241358757019043,
          3.036038637161255,
          -12.042834281921387,
          -0.16097155213356018,
          6.116507053375244,
          5.403937339782715,
          -11.103367805480957,
          5.091503620147705,
          2.134552240371704,
          1.523421049118042,
          -10.635168075561523,
          -1.7825746536254883,
          5.568143844604492,
          0.6417267918586731,
          -11.62637710571289,
          -15.925515174865723,
          -16.178197860717773,
          7.371291160583496,
          -16.41337013244629,
          4.655264854431152,
          13.088810920715332,
          13.080920219421387,
          -14.987329483032227,
          3.344681739807129,
          5.721524238586426,
          -14.442069053649902,
          14.535030364990234,
          -14.400837898254395,
          7.494446754455566,
          10.57506275177002,
          13.812515258789062,
          -0.23657789826393127,
          11.472862243652344,
          11.112163543701172,
          -17.89598846435547,
          8.37230396270752,
          -19.017152786254883,
          3.5326690673828125,
          2.5982043743133545,
          1.350730538368225,
          8.474035263061523,
          -0.13771408796310425,
          12.927515029907227,
          2.5143041610717773,
          1.7051362991333008,
          5.01486873626709,
          -0.35809218883514404,
          1.4919075965881348,
          11.105660438537598,
          4.655104160308838,
          -2.324392318725586,
          6.8744587898254395,
          -15.619834899902344,
          6.790836811065674,
          -8.122004508972168,
          3.6874141693115234,
          2.3906033039093018,
          -13.683619499206543,
          3.0385868549346924,
          -11.285835266113281,
          5.522982120513916,
          12.79594612121582,
          2.2844791412353516,
          11.572515487670898,
          -15.548178672790527,
          2.5688893795013428,
          12.414204597473145,
          1.9821735620498657,
          3.7778494358062744,
          2.3623597621917725,
          7.335781097412109,
          -14.807014465332031,
          14.126917839050293,
          11.253716468811035,
          6.821983337402344,
          -12.540010452270508,
          13.369508743286133,
          -16.138118743896484,
          -9.868880271911621,
          5.041278839111328,
          -3.695983648300171,
          4.274263858795166,
          -15.238282203674316,
          5.488011360168457,
          -14.561856269836426,
          -7.067098617553711,
          -10.610780715942383,
          -10.971111297607422,
          -14.077523231506348,
          5.543055057525635,
          5.021404266357422,
          4.108023643493652,
          10.669593811035156,
          -12.48729133605957,
          3.2087724208831787,
          0.7464276552200317,
          -15.347536087036133,
          6.921357154846191,
          -1.9561313390731812,
          -17.25053596496582,
          -9.846763610839844,
          -16.577810287475586,
          -7.609597682952881,
          -17.3848819732666,
          -18.71925163269043,
          -10.216526985168457,
          10.002470970153809,
          1.7802423238754272,
          8.722159385681152,
          -11.028100967407227,
          7.383810997009277,
          9.752410888671875,
          -9.810768127441406,
          2.9184741973876953,
          2.274003505706787,
          -1.8668384552001953,
          4.778700351715088,
          -10.155847549438477,
          -2.0687875747680664,
          9.418994903564453,
          1.4274873733520508,
          3.743898630142212,
          4.098045349121094,
          3.4044196605682373,
          -11.57595157623291,
          3.686668872833252,
          -11.331758499145508,
          -2.404256582260132,
          3.767660140991211,
          -1.1639949083328247,
          0.2040690928697586,
          4.519785404205322,
          -13.63991641998291,
          10.146169662475586,
          2.587751865386963,
          -7.721035480499268,
          -2.145509719848633,
          -9.957419395446777,
          10.387441635131836,
          12.851607322692871,
          -1.4594271183013916,
          3.514401435852051,
          10.282378196716309,
          7.597690582275391,
          1.5664252042770386,
          1.8371528387069702,
          -13.62368392944336,
          -2.7219762802124023,
          8.001172065734863,
          4.866725921630859,
          -13.127132415771484,
          -11.490243911743164,
          -12.176855087280273,
          -0.39506086707115173,
          7.499754428863525,
          0.7226541042327881,
          -8.881099700927734,
          -16.887489318847656,
          -13.420071601867676,
          -13.13184928894043,
          4.130749225616455,
          -14.296746253967285,
          0.7016345858573914,
          3.188615322113037,
          12.911316871643066,
          3.1154613494873047,
          5.398107528686523,
          7.386918544769287,
          5.951851844787598,
          12.268954277038574,
          -15.123176574707031,
          0.2696947753429413,
          -17.932695388793945,
          -9.280698776245117,
          2.87498140335083,
          -12.863828659057617,
          3.4126946926116943,
          9.830467224121094,
          9.72367000579834,
          11.478209495544434,
          3.814838409423828,
          -10.503843307495117,
          -18.088680267333984,
          2.0984339714050293,
          6.333429336547852,
          -11.272783279418945,
          -12.721784591674805,
          -2.2346510887145996,
          -15.164368629455566,
          6.645444869995117,
          3.9496724605560303,
          3.4735825061798096,
          -3.2883331775665283,
          3.7656068801879883,
          1.9146391153335571,
          6.45299768447876,
          4.211935043334961,
          -19.066085815429688,
          9.701261520385742,
          12.941707611083984,
          -15.319920539855957,
          -11.31353759765625,
          -14.82967758178711,
          9.629877090454102,
          -13.303481101989746,
          6.185640811920166,
          -11.30394172668457,
          -12.947752952575684,
          -1.4851069450378418,
          5.295945167541504,
          -10.173348426818848,
          5.7283124923706055,
          -12.411705017089844,
          6.171488285064697,
          4.820311546325684,
          6.888659477233887,
          4.596622467041016,
          3.1832573413848877,
          3.2436015605926514,
          -14.22202205657959,
          -12.60637378692627,
          6.237621784210205,
          12.433659553527832,
          -13.075439453125,
          -12.261138916015625,
          -9.76305866241455,
          0.6274251341819763,
          12.897757530212402,
          8.288630485534668,
          -14.194777488708496,
          5.511273384094238,
          1.7210659980773926,
          15.426170349121094,
          9.049070358276367,
          6.618963718414307,
          -10.976702690124512,
          8.004274368286133,
          -16.307329177856445,
          1.4906177520751953,
          3.696099281311035,
          -17.794883728027344,
          3.6834921836853027,
          10.554945945739746,
          9.146759986877441,
          -15.734739303588867,
          3.8253252506256104,
          -7.77094030380249,
          -11.130037307739258,
          -2.3083202838897705,
          5.201228618621826,
          10.520255088806152,
          -15.15301513671875,
          10.293539047241211,
          1.1792763471603394,
          -8.005768775939941,
          -10.543655395507812,
          -17.64521026611328,
          -9.141764640808105,
          5.371838569641113,
          7.4433183670043945,
          -13.35729694366455,
          -12.473523139953613,
          2.2707324028015137,
          8.990182876586914,
          3.3841164112091064,
          -10.076974868774414,
          -16.830469131469727
         ],
         "y": [
          5.6916680335998535,
          -7.357820510864258,
          6.935765743255615,
          -9.508967399597168,
          2.7947630882263184,
          -8.160046577453613,
          -1.595324993133545,
          -11.701094627380371,
          1.3967431783676147,
          -5.78125,
          -5.299560546875,
          3.5566322803497314,
          -2.6819498538970947,
          0.9519028067588806,
          -1.0696183443069458,
          -10.412959098815918,
          -2.756392002105713,
          -6.958095073699951,
          7.5889363288879395,
          -11.411048889160156,
          -8.499298095703125,
          6.393914222717285,
          1.73287034034729,
          1.6394379138946533,
          -1.8531209230422974,
          2.973489284515381,
          3.8637771606445312,
          -1.1623139381408691,
          -5.050682544708252,
          -7.295762538909912,
          -1.5692280530929565,
          -7.14998722076416,
          2.2826664447784424,
          -3.9448206424713135,
          4.159493446350098,
          4.670543670654297,
          -12.26855182647705,
          -1.182824730873108,
          6.570669651031494,
          -7.762098789215088,
          -3.907413959503174,
          -3.6726558208465576,
          -0.44829875230789185,
          0.18920950591564178,
          -2.1423537731170654,
          -11.211509704589844,
          -2.743321180343628,
          1.3793203830718994,
          3.6250669956207275,
          -3.083700180053711,
          -3.838196277618408,
          8.036116600036621,
          5.133633613586426,
          -10.956945419311523,
          -3.839913845062256,
          -5.5501885414123535,
          -6.600496768951416,
          5.172314167022705,
          -4.070671081542969,
          2.7264504432678223,
          2.643822193145752,
          -1.7181049585342407,
          -4.411525726318359,
          -4.150701522827148,
          1.527318000793457,
          -2.711473226547241,
          2.3683433532714844,
          -6.966330528259277,
          2.8886616230010986,
          -4.907159328460693,
          -7.224609851837158,
          -8.405820846557617,
          9.59798526763916,
          -5.516301155090332,
          13.513912200927734,
          8.455994606018066,
          1.0264112949371338,
          -4.411210536956787,
          16.207622528076172,
          13.82225227355957,
          13.042675971984863,
          9.259597778320312,
          0.22133669257164001,
          -2.3894572257995605,
          -3.325087785720825,
          -6.1464619636535645,
          -3.5519654750823975,
          -5.17519474029541,
          -4.5576090812683105,
          9.504467964172363,
          6.6961750984191895,
          -4.532423496246338,
          -1.0867365598678589,
          -1.0596158504486084,
          -6.080453872680664,
          -4.654948711395264,
          4.005406379699707,
          -6.133286476135254,
          -0.305643230676651,
          0.3479780852794647,
          8.508347511291504,
          -1.9716124534606934,
          -5.898192405700684,
          5.731040000915527,
          -6.040625095367432,
          10.393753051757812,
          0.2702637016773224,
          -9.858765602111816,
          13.806415557861328,
          -4.486452102661133,
          11.441750526428223,
          8.651717185974121,
          -2.3322861194610596,
          9.146023750305176,
          4.676126003265381,
          11.875210762023926,
          -3.3025546073913574,
          -0.7559830546379089,
          -7.211955547332764,
          -0.8945266604423523,
          12.49896240234375,
          -2.557840347290039,
          -9.194332122802734,
          0.20563139021396637,
          -0.06515464931726456,
          -8.11738109588623,
          -7.540944576263428,
          -8.640707969665527,
          -3.894916296005249,
          -9.166341781616211,
          -2.494394063949585,
          4.388439655303955,
          -5.399349689483643,
          -3.0445024967193604,
          -2.6974222660064697,
          6.66102409362793,
          2.3680596351623535,
          -7.356569290161133,
          -9.168580055236816,
          -2.717287063598633,
          -6.025301933288574,
          8.67183780670166,
          5.734748840332031,
          1.5971401929855347,
          -1.0855902433395386,
          12.158941268920898,
          -8.32958984375,
          -0.3493640124797821,
          -8.004010200500488,
          -0.22375503182411194,
          11.036361694335938,
          10.364367485046387,
          -6.052984237670898,
          6.040201187133789,
          6.744442462921143,
          3.5785303115844727,
          -1.842799186706543,
          -0.19890806078910828,
          14.235885620117188,
          -4.835513114929199,
          -3.9522907733917236,
          4.849462032318115,
          11.51382827758789,
          16.668638229370117,
          -6.783404350280762,
          -2.0867583751678467,
          -6.005618572235107,
          -6.092398166656494,
          1.723860263824463,
          1.1343820095062256,
          0.490254670381546,
          -6.62452507019043,
          -3.220721483230591,
          4.73284912109375,
          -2.2924349308013916,
          -4.307530879974365,
          -3.242164373397827,
          4.806137561798096,
          -7.801218509674072,
          -8.540414810180664,
          -4.285585880279541,
          -3.761246681213379,
          -7.313902378082275,
          -9.06662368774414,
          -7.145284652709961,
          -2.2842519283294678,
          -2.2504289150238037,
          -2.2258970737457275,
          11.03384017944336,
          10.14885139465332,
          -0.8255800604820251,
          2.5451433658599854,
          -5.411894798278809,
          5.5406694412231445,
          -5.66820764541626,
          -3.752551555633545,
          -5.345396518707275,
          -10.38821792602539,
          9.2793550491333,
          -1.0548548698425293,
          -2.186615467071533,
          -1.7440564632415771,
          -6.231373310089111,
          0.036414407193660736,
          5.837790489196777,
          -7.1812825202941895,
          15.52145767211914,
          -2.7039053440093994,
          -4.595954418182373,
          -8.822660446166992,
          -1.8581138849258423,
          -1.777944803237915,
          -3.6653482913970947,
          11.26767349243164,
          -2.611776351928711,
          -3.685349464416504,
          -9.08965015411377,
          -5.111050128936768,
          -5.574046611785889,
          -2.879241704940796,
          6.550509452819824,
          -6.948139190673828,
          0.5830851793289185,
          14.939183235168457,
          -4.596548080444336,
          14.661171913146973,
          0.6962375044822693,
          11.118717193603516,
          -2.3126378059387207,
          0.9625415802001953,
          -3.419560194015503,
          -1.1220221519470215,
          -7.415914535522461,
          -7.711606502532959,
          0.41050320863723755,
          -7.21048641204834,
          0.11082004755735397,
          10.072346687316895,
          -8.734785079956055,
          5.729519844055176,
          -3.140702724456787,
          -7.191191673278809,
          3.2238662242889404,
          -4.777944087982178,
          -9.633453369140625,
          -4.303220272064209,
          9.17101001739502,
          14.364171981811523,
          1.2330137491226196,
          1.946190595626831,
          6.306321620941162,
          -2.6225898265838623,
          -7.93947172164917,
          4.481128215789795,
          11.057663917541504,
          0.11284898966550827,
          7.039292335510254,
          -3.2835171222686768,
          0.36723655462265015,
          -1.3098478317260742,
          3.6825122833251953,
          4.173944473266602,
          3.731546640396118,
          -3.6872034072875977,
          6.947234630584717,
          -4.992860794067383,
          -7.576757907867432,
          -5.338430404663086,
          13.489577293395996,
          -9.9574556350708,
          -8.593812942504883,
          -4.946325302124023,
          7.089192867279053,
          3.819653272628784,
          -6.097241401672363,
          3.2381043434143066,
          -3.6449947357177734,
          2.63407826423645,
          -8.646770477294922,
          10.817724227905273,
          0.5184430480003357,
          3.4225645065307617,
          10.812728881835938,
          4.363565444946289,
          4.201976776123047,
          -8.052191734313965,
          -1.4784841537475586,
          -6.866389751434326,
          -4.957106113433838,
          8.758649826049805,
          9.939650535583496,
          -9.795089721679688,
          0.5153513550758362,
          -7.640561103820801,
          -2.5664052963256836,
          -5.70648717880249,
          -7.419234752655029,
          15.603403091430664,
          -1.2904150485992432,
          5.774460315704346,
          -5.496799468994141,
          -2.3438057899475098,
          -5.711994171142578,
          -9.94388484954834,
          -5.257438659667969,
          11.887925148010254,
          -6.939087390899658,
          11.3494291305542,
          1.2605358362197876,
          -7.6323065757751465,
          -6.839440822601318,
          0.9703065752983093,
          -3.0020363330841064,
          5.044416427612305,
          -6.311767101287842,
          7.271893501281738,
          1.0464398860931396,
          -3.9055168628692627,
          13.044357299804688,
          -5.640192985534668,
          -6.184139728546143,
          8.748607635498047,
          -8.938542366027832,
          -4.264501571655273,
          13.311431884765625,
          6.1214823722839355,
          -6.589535713195801,
          -8.465715408325195,
          -0.07639193534851074,
          -6.185924530029297,
          -5.149540901184082,
          -3.432241678237915,
          3.599649667739868,
          4.596878528594971,
          -5.257047653198242,
          0.8105213046073914,
          -8.82630729675293,
          6.18566370010376,
          -2.688682794570923,
          -1.776421070098877,
          6.201961040496826,
          11.661275863647461,
          -6.991137981414795,
          5.729473114013672,
          -10.89074420928955,
          -0.0646362379193306,
          -3.2669219970703125,
          -0.3205111622810364,
          -7.990943431854248,
          -4.028064250946045,
          -2.278684139251709,
          6.755869388580322,
          -1.1384916305541992,
          -5.3247246742248535,
          -1.4462875127792358,
          11.008183479309082,
          3.8227198123931885,
          -5.590276718139648,
          -5.547995090484619,
          5.54668664932251,
          -7.2007036209106445,
          -6.441955089569092,
          1.659910798072815,
          0.6891427040100098,
          -8.20811939239502,
          11.756958961486816,
          -5.935033321380615,
          -2.1318488121032715,
          -3.1853883266448975,
          -10.457592010498047,
          0.38426002860069275,
          -3.2408089637756348,
          1.7029346227645874,
          0.46644127368927,
          -8.905406951904297,
          1.5636264085769653,
          12.758723258972168,
          -6.214992523193359,
          -5.493696212768555,
          7.528679847717285,
          -5.45267391204834,
          -1.028404951095581,
          11.603029251098633,
          10.239713668823242,
          -7.945737361907959,
          3.5603859424591064,
          0.7242200970649719,
          0.11983434110879898,
          -2.138698101043701,
          9.561796188354492,
          -2.272122621536255,
          4.618554592132568,
          6.679775238037109,
          10.566556930541992,
          -0.1720981001853943,
          -5.2327752113342285,
          10.017629623413086,
          -9.593301773071289,
          5.85044002532959,
          9.658008575439453,
          -0.8074394464492798,
          -3.76701283454895,
          0.8927501440048218,
          -6.789438724517822,
          -9.96408748626709,
          -4.634308815002441,
          3.3013808727264404,
          0.3394083082675934,
          -3.5755841732025146,
          -8.85054874420166,
          -6.828099250793457,
          8.739615440368652,
          -6.970230579376221,
          12.279900550842285,
          -9.978676795959473,
          -0.8059842586517334,
          -5.345366477966309,
          -5.283000469207764,
          -8.251943588256836,
          -0.35160648822784424,
          9.626389503479004,
          -1.7729679346084595,
          -7.2488694190979,
          -5.997927188873291,
          1.1687723398208618,
          -3.50742769241333,
          -2.9463999271392822,
          -5.832880020141602,
          8.2112398147583,
          0.6456599831581116,
          11.336010932922363,
          -2.3362531661987305,
          -2.2255055904388428,
          -6.985361576080322,
          -6.39977502822876,
          -3.600656032562256,
          -1.925381064414978,
          1.2083004713058472,
          14.203001022338867,
          5.62659215927124,
          10.601386070251465,
          15.65050220489502,
          5.324467658996582,
          -0.6585900187492371,
          -3.4498960971832275,
          -3.425701856613159,
          -6.68606424331665,
          3.8760666847229004,
          1.6761127710342407,
          -5.253718852996826,
          -3.057893991470337,
          2.344867467880249,
          0.9166157245635986,
          12.139863014221191,
          -3.442031145095825,
          -7.067735195159912,
          -3.6211955547332764,
          2.7857558727264404,
          15.667387008666992,
          11.224363327026367,
          -7.860106468200684,
          3.904477834701538,
          -1.6158463954925537,
          11.10935115814209,
          -1.112361192703247,
          6.899419784545898,
          13.742897033691406,
          -8.236111640930176,
          -2.2490646839141846,
          2.044832706451416,
          12.996806144714355,
          -0.2582949995994568,
          -2.7345783710479736,
          8.270098686218262,
          1.8461346626281738,
          -5.0114665031433105,
          -4.024470806121826,
          -4.275236129760742,
          5.866625785827637,
          -5.6714863777160645,
          0.7537440657615662,
          -2.9192330837249756,
          -5.66206693649292,
          -1.2823091745376587,
          -2.9757721424102783,
          -0.28932300209999084,
          -5.519526958465576,
          8.898968696594238,
          6.309628486633301,
          6.141053676605225,
          13.04633617401123,
          -5.127915382385254,
          -1.7230546474456787,
          -5.308176517486572,
          2.9334402084350586,
          -8.033562660217285,
          -9.536002159118652,
          -4.341119766235352,
          4.399045944213867,
          10.1511812210083,
          -9.10071086883545,
          -1.2559750080108643,
          6.4702301025390625,
          -4.239334583282471,
          7.985610008239746,
          5.459327220916748,
          15.19322681427002,
          0.19223710894584656,
          9.799553871154785,
          -2.8577706813812256,
          3.564946174621582,
          -0.31087106466293335,
          -7.1869096755981445,
          -2.099123239517212,
          15.91413688659668,
          4.80000114440918,
          6.510272026062012,
          15.706892967224121,
          -2.1405458450317383,
          -7.697412490844727,
          10.71433162689209,
          -1.4220709800720215,
          -1.0522687435150146,
          -0.6177411675453186,
          -5.2733049392700195,
          -4.009220123291016,
          9.553786277770996,
          -2.4631192684173584,
          -2.2724192142486572,
          8.258993148803711,
          -5.910313129425049,
          -4.784040451049805,
          -4.96078634262085,
          0.055465515702962875,
          -3.845364809036255,
          -6.668368816375732,
          -8.068233489990234,
          -0.0537438690662384,
          3.8416953086853027,
          -10.027884483337402,
          -3.9649498462677,
          -6.144686222076416,
          -7.064764499664307,
          -7.204751968383789,
          -0.9109278321266174,
          -7.483807563781738,
          11.878743171691895,
          -6.891448020935059,
          -7.578256607055664,
          11.170074462890625,
          4.420279026031494,
          4.047468185424805,
          3.0053884983062744,
          14.271746635437012,
          3.421757459640503,
          -4.318916320800781,
          -4.030799388885498,
          12.210918426513672,
          -7.379459857940674,
          0.00954863615334034,
          -0.05164112150669098,
          -6.051130294799805,
          3.0981435775756836,
          -4.046965599060059,
          -1.2598060369491577,
          16.210582733154297,
          -1.8473693132400513,
          -1.2685421705245972,
          -6.837325572967529,
          -4.670877933502197,
          7.103398323059082,
          -3.8694732189178467,
          -10.593925476074219,
          -4.0174360275268555,
          -7.985013484954834,
          -7.076404094696045,
          -5.204530715942383,
          -5.116357803344727,
          5.112205982208252,
          13.353981018066406,
          8.930643081665039,
          13.188551902770996,
          0.8730164170265198,
          -4.7678985595703125,
          1.1836613416671753,
          15.716507911682129,
          7.664361953735352,
          1.8809823989868164,
          -4.086991310119629,
          -5.717269420623779,
          -4.581299304962158,
          2.5245935916900635,
          0.9116533994674683,
          -10.088066101074219,
          0.9595692157745361,
          5.9483642578125,
          -10.026662826538086,
          -4.160284996032715,
          -4.588572025299072,
          -0.36949509382247925,
          -6.549015998840332,
          -1.783112645149231,
          -2.226398468017578,
          -2.280073881149292,
          -5.7491278648376465,
          -9.048894882202148,
          -8.960088729858398,
          -3.4735076427459717,
          -1.351900339126587,
          -4.757277965545654,
          -0.6499379873275757,
          9.742891311645508,
          10.772855758666992,
          6.872186183929443,
          10.354913711547852,
          2.727996349334717,
          -4.812984943389893,
          -5.101205825805664,
          0.8635010123252869,
          7.980705261230469,
          1.59559166431427,
          4.729727745056152,
          6.741942882537842,
          -1.7565529346466064,
          -0.1557839810848236,
          -9.479206085205078,
          -3.428720235824585,
          4.981449127197266,
          -0.6091604232788086,
          11.226908683776855,
          4.838021755218506,
          -9.695531845092773,
          14.826643943786621,
          -0.6011086106300354,
          9.32865047454834,
          4.06575870513916,
          5.758737564086914,
          1.4558525085449219,
          -3.7528233528137207,
          1.1179975271224976,
          5.946435928344727,
          -8.648507118225098,
          -3.7403578758239746,
          8.312625885009766,
          -2.4208104610443115,
          12.381640434265137,
          3.0522642135620117,
          8.182842254638672,
          -3.7085201740264893,
          6.846322536468506,
          0.6789717078208923,
          -2.102203130722046,
          -1.7195078134536743,
          -5.8215107917785645,
          -4.126112461090088,
          -4.389386177062988,
          0.39811134338378906,
          4.831022262573242,
          0.5395064949989319,
          -4.6425461769104,
          -7.144848823547363,
          4.2769598960876465,
          -0.7775653004646301,
          6.227752208709717,
          -6.612375736236572,
          0.12855155766010284,
          -6.643979549407959,
          -3.3722736835479736,
          -10.61481761932373,
          -3.1310064792633057,
          -3.120227813720703,
          11.143829345703125,
          6.407067775726318,
          0.5276966691017151,
          -4.495604038238525,
          3.60740327835083,
          -7.996057033538818,
          -2.822725534439087,
          -7.437893390655518,
          -2.958258867263794,
          1.6481260061264038,
          -0.0590098574757576,
          6.430030345916748,
          -3.318124771118164,
          2.9278736114501953,
          -3.10129451751709,
          12.861531257629395,
          0.36587387323379517,
          -4.639791011810303,
          -6.567563533782959,
          -1.843501091003418,
          -6.579719543457031,
          -6.510497570037842,
          -4.733311176300049,
          -3.34238600730896,
          -4.34429931640625,
          6.247961521148682,
          14.310737609863281,
          15.117354393005371,
          -1.6140958070755005,
          -4.485294818878174,
          15.57968807220459,
          0.9965556263923645,
          -5.05056095123291,
          9.28050422668457,
          -5.760561466217041,
          -5.39356803894043,
          -3.273000478744507,
          2.6887450218200684,
          -0.19464710354804993,
          -3.4692070484161377,
          0.07161333411931992,
          1.2974879741668701,
          2.7596793174743652,
          8.772564888000488,
          -5.481351375579834,
          -8.253795623779297,
          -11.261014938354492,
          8.764719009399414,
          -0.7223135828971863,
          7.554127216339111,
          -4.715022563934326,
          -6.340538024902344,
          8.0554838180542,
          -2.084526777267456,
          2.2241640090942383,
          -4.397429466247559,
          -3.7464351654052734,
          -9.633435249328613,
          -7.671921253204346,
          -1.977966547012329,
          1.1903482675552368,
          1.0238322019577026,
          0.9434823393821716,
          -4.486388683319092,
          -4.074001312255859,
          11.362090110778809,
          13.694169998168945,
          15.446732521057129,
          -0.03528958559036255,
          -0.9526954889297485,
          4.551382064819336,
          4.484628677368164,
          -0.47861921787261963,
          5.857342720031738,
          15.445842742919922,
          13.50722599029541,
          -3.3933327198028564,
          3.434770107269287,
          -7.135153293609619,
          -7.356938362121582,
          2.428156614303589,
          -5.8437910079956055,
          -5.550334930419922,
          1.507561445236206,
          5.150818824768066,
          13.671768188476562,
          3.727449655532837,
          -2.306124448776245,
          -0.03999975323677063,
          -8.298022270202637,
          6.499736785888672,
          0.7874518632888794,
          -5.260098457336426,
          6.987260818481445,
          -2.6105570793151855,
          -4.599302768707275,
          2.3234105110168457,
          -3.7469847202301025,
          2.718017101287842,
          13.272195816040039,
          5.002300262451172,
          0.4117374122142792,
          -3.568990707397461,
          5.302990436553955,
          2.3238260746002197,
          -0.6354153156280518,
          -4.695298194885254,
          14.69249439239502,
          4.847761631011963,
          11.206252098083496,
          -3.464151620864868,
          -6.469964981079102,
          10.979353904724121,
          14.770487785339355,
          -7.7256388664245605,
          4.498398780822754,
          -5.289159297943115,
          16.414390563964844,
          14.283968925476074,
          -10.385263442993164,
          10.276066780090332,
          0.4681607782840729,
          12.120950698852539,
          -4.836778163909912,
          -6.455634117126465,
          2.6146724224090576,
          2.161895513534546,
          12.335186958312988,
          0.4104926288127899,
          -3.311230421066284,
          0.030288804322481155,
          -1.5955802202224731,
          -7.222243309020996,
          5.838327407836914,
          -2.6345465183258057,
          4.796824932098389,
          -5.133790969848633,
          -6.01022481918335,
          0.600203275680542,
          1.2850769758224487,
          -1.5835098028182983,
          12.86368465423584,
          8.809760093688965,
          -6.609228134155273,
          1.5967459678649902,
          -5.306713104248047,
          -9.381694793701172,
          -3.0048601627349854,
          -7.324545860290527,
          -3.9339683055877686,
          4.698925018310547,
          16.361879348754883,
          -4.488505840301514,
          -6.368861675262451,
          -1.1131657361984253,
          -5.840244770050049,
          14.735342979431152,
          6.80809211730957,
          -4.539617538452148,
          -3.984966993331909,
          6.328094482421875,
          -3.9088892936706543,
          -1.4381024837493896,
          3.1794493198394775,
          -5.126619338989258,
          0.9411501884460449,
          2.6685001850128174,
          -4.861512660980225,
          4.086821556091309,
          11.966958045959473,
          5.68934440612793,
          -7.531949520111084,
          -8.925244331359863,
          -4.118741512298584,
          -3.8438117504119873,
          -7.989725589752197,
          12.555951118469238,
          11.475008010864258,
          0.24415969848632812,
          -4.306545257568359,
          10.957649230957031,
          5.210299491882324,
          12.025196075439453,
          -1.8595764636993408,
          -8.59521484375,
          -3.0117948055267334,
          -7.05830717086792,
          15.183893203735352,
          0.44468849897384644,
          7.507137775421143,
          13.831077575683594,
          0.0008989096386358142,
          13.79028606414795,
          -7.203425407409668,
          -7.243319511413574,
          -0.7687880396842957,
          14.328164100646973,
          -6.030322074890137,
          8.865432739257812,
          -6.502048492431641,
          4.062814235687256,
          -3.6026933193206787,
          11.961978912353516,
          -4.702342510223389,
          0.9405056238174438,
          0.4271673858165741,
          -5.387382507324219,
          4.1533002853393555,
          4.579209804534912,
          9.738805770874023,
          12.269675254821777,
          11.01177978515625,
          -7.1705002784729,
          -9.72004508972168,
          -2.8941609859466553,
          5.086112976074219,
          -0.39767539501190186,
          6.273948669433594,
          -0.5754407644271851,
          1.0611107349395752,
          -7.363162994384766,
          0.7132703065872192,
          10.8466215133667,
          -8.624978065490723,
          9.161361694335938,
          7.4354352951049805,
          -3.77774715423584,
          -2.6121177673339844,
          -2.2181684970855713,
          -6.517909049987793,
          3.872419834136963,
          2.6866395473480225,
          -9.053537368774414,
          13.2296781539917,
          0.2935866713523865,
          -7.851752758026123,
          -7.685901641845703,
          0.5420407652854919,
          14.962977409362793,
          -5.455584526062012,
          1.060657024383545,
          -1.1687965393066406,
          13.936582565307617,
          0.12322846800088882,
          4.647910118103027,
          4.815133094787598,
          -8.773606300354004,
          -6.39182710647583,
          -3.4646668434143066,
          10.048331260681152,
          -5.789331436157227,
          -0.9700763821601868,
          10.344132423400879,
          -9.211943626403809,
          10.66157054901123,
          -5.465506076812744,
          5.094173431396484,
          -1.6329309940338135,
          -9.020322799682617,
          4.095652103424072,
          3.216099500656128,
          -3.55873703956604,
          -7.70551872253418,
          -9.708723068237305,
          0.7846097946166992,
          3.635108470916748,
          5.002684593200684,
          -7.272134304046631,
          -3.5235559940338135,
          2.9263296127319336,
          -2.3617308139801025,
          15.747907638549805,
          -4.530649662017822,
          12.88448715209961,
          -0.7508493661880493,
          13.239577293395996,
          9.735808372497559,
          -7.910923957824707,
          -5.362136363983154,
          5.542356014251709,
          0.028104467317461967,
          -9.561355590820312,
          -8.358128547668457,
          0.21324719488620758,
          -5.394608497619629,
          -3.3869388103485107,
          -3.599318742752075,
          -1.345860481262207,
          -4.457067966461182,
          -3.7149932384490967,
          -1.4977482557296753,
          4.932796955108643,
          15.07112979888916,
          5.118244171142578,
          -0.5441128015518188,
          -7.08060884475708,
          14.5354642868042,
          -0.9951781034469604,
          3.525630235671997,
          -4.696784973144531,
          13.978495597839355,
          6.016664505004883,
          4.435459613800049,
          11.491445541381836,
          -5.1617536544799805,
          -5.042769432067871,
          -3.7703278064727783,
          1.025319218635559,
          -5.101497650146484,
          -0.7709765434265137,
          8.658763885498047,
          15.466443061828613,
          -1.9441531896591187,
          -4.3470869064331055,
          -3.8946890830993652,
          -4.984415054321289,
          -7.089073657989502,
          -4.103654861450195,
          0.2680705487728119,
          -5.890800476074219,
          12.459200859069824,
          12.54483413696289,
          4.848002910614014,
          -2.0506069660186768,
          5.391569137573242,
          -1.5137248039245605,
          15.850852012634277,
          -6.554386615753174,
          0.8858231902122498
         ],
         "z": [
          1.4405373334884644,
          -5.305055141448975,
          3.174105167388916,
          -6.6527299880981445,
          2.171462297439575,
          -4.6839375495910645,
          -7.927489280700684,
          -3.401139497756958,
          -4.7299485206604,
          -10.429648399353027,
          -12.063583374023438,
          8.552695274353027,
          -6.198152542114258,
          2.6478166580200195,
          4.9337005615234375,
          3.3170292377471924,
          -6.367982387542725,
          1.008377194404602,
          3.3700945377349854,
          -4.311075210571289,
          -4.6183013916015625,
          5.933561325073242,
          -0.40720540285110474,
          -4.363048076629639,
          -2.3691444396972656,
          6.440086364746094,
          7.045616626739502,
          -5.381892681121826,
          2.6307146549224854,
          2.7983715534210205,
          -4.450991153717041,
          -5.290182590484619,
          3.005819082260132,
          4.328210353851318,
          -1.1081293821334839,
          6.798145771026611,
          -4.424494743347168,
          -5.8615546226501465,
          3.4633076190948486,
          -4.916698932647705,
          -12.178820610046387,
          1.4385309219360352,
          2.3048925399780273,
          -3.179736375808716,
          2.2189297676086426,
          3.198523998260498,
          2.9476118087768555,
          -4.332943916320801,
          8.173705101013184,
          -0.458728551864624,
          -7.522730350494385,
          3.748853921890259,
          -0.2472119927406311,
          3.1530065536499023,
          -5.271050453186035,
          -11.18890380859375,
          -6.587683200836182,
          -4.228952407836914,
          3.694077730178833,
          5.456361293792725,
          -4.2756028175354,
          1.3410204648971558,
          -4.219189643859863,
          1.1118932962417603,
          1.7034074068069458,
          3.3977413177490234,
          -4.6288323402404785,
          1.6265177726745605,
          7.181309223175049,
          -2.006657600402832,
          0.6705528497695923,
          -3.295847177505493,
          2.3320538997650146,
          -6.842110633850098,
          10.345251083374023,
          7.3441267013549805,
          6.043169021606445,
          -1.647029161453247,
          6.902409553527832,
          4.742133617401123,
          4.916742324829102,
          8.209457397460938,
          2.4042320251464844,
          1.1425132751464844,
          -5.429641246795654,
          -3.3587915897369385,
          1.60285484790802,
          -2.7089970111846924,
          1.2981363534927368,
          6.271430015563965,
          7.355315685272217,
          -10.141225814819336,
          3.459995985031128,
          -6.925906658172607,
          -8.602025032043457,
          -2.7362353801727295,
          1.6525853872299194,
          -0.8913770318031311,
          -2.551417350769043,
          5.079627513885498,
          2.708954334259033,
          -1.7771021127700806,
          -1.281479001045227,
          -0.9852027893066406,
          -4.052133083343506,
          4.308739185333252,
          2.2207789421081543,
          0.3861709237098694,
          9.879114151000977,
          -0.4460286796092987,
          7.567419052124023,
          3.9482498168945312,
          -9.88785457611084,
          5.6154093742370605,
          4.404747009277344,
          6.797202110290527,
          -9.367510795593262,
          -6.995242595672607,
          -7.210533618927002,
          -2.6939446926116943,
          6.4502387046813965,
          2.1727006435394287,
          -1.1232861280441284,
          0.7177214026451111,
          5.066184043884277,
          -3.698031425476074,
          -8.62847900390625,
          -5.428410053253174,
          -4.755694389343262,
          -2.7603204250335693,
          1.7109051942825317,
          0.9526417255401611,
          -7.2217607498168945,
          -7.317340850830078,
          -2.753217935562134,
          4.196776390075684,
          2.050175189971924,
          -5.883281707763672,
          -5.108137607574463,
          -0.8047264814376831,
          -7.671433448791504,
          7.969933032989502,
          -1.5737618207931519,
          3.471513271331787,
          -3.7873013019561768,
          3.7745866775512695,
          -1.733332872390747,
          -2.5891993045806885,
          -5.413266181945801,
          0.5894330739974976,
          7.329647064208984,
          8.378005981445312,
          3.819612979888916,
          -2.4295802116394043,
          4.709647178649902,
          1.3611199855804443,
          0.7131310105323792,
          -0.4842669665813446,
          9.718547821044922,
          -6.273648738861084,
          -9.516530990600586,
          -3.9010202884674072,
          7.215061187744141,
          5.449902057647705,
          -5.649045467376709,
          -1.458694577217102,
          -6.909066200256348,
          2.026371479034424,
          3.687532901763916,
          4.477053642272949,
          1.6996361017227173,
          -1.7455248832702637,
          -3.0514819622039795,
          2.5290188789367676,
          4.246131896972656,
          -1.8632066249847412,
          -4.852429389953613,
          2.328840732574463,
          -5.505928993225098,
          -5.8096923828125,
          3.054131269454956,
          -0.4760134220123291,
          -4.087460517883301,
          0.903059720993042,
          1.8915114402770996,
          -8.716370582580566,
          -0.5278549790382385,
          2.420222759246826,
          4.296973705291748,
          7.73009729385376,
          -2.252110242843628,
          4.172754764556885,
          -10.58895492553711,
          3.56948184967041,
          -6.426461219787598,
          -9.084848403930664,
          2.3088512420654297,
          -0.1316090077161789,
          1.7830336093902588,
          5.255442142486572,
          0.143227219581604,
          -0.1880575567483902,
          -8.425783157348633,
          3.111180543899536,
          3.3829565048217773,
          -5.594588279724121,
          3.396059036254883,
          0.5483666062355042,
          -0.877234697341919,
          -7.281879425048828,
          3.6135785579681396,
          -2.841428279876709,
          -0.3462720811367035,
          7.313854694366455,
          2.2265591621398926,
          1.9372552633285522,
          -6.603699207305908,
          -3.1717123985290527,
          -2.1638500690460205,
          -2.085228681564331,
          3.595050811767578,
          0.43011367321014404,
          3.863283395767212,
          8.911656379699707,
          -5.095091819763184,
          2.90035343170166,
          0.860990047454834,
          3.310900926589966,
          -3.0842881202697754,
          -4.031164646148682,
          -7.803892612457275,
          3.334536075592041,
          -5.491441249847412,
          -5.824571132659912,
          -5.467132091522217,
          1.0565260648727417,
          -5.016610145568848,
          7.13624382019043,
          -5.140487194061279,
          1.2557212114334106,
          0.7904120087623596,
          0.2134467512369156,
          1.5512614250183105,
          -3.642091989517212,
          -1.8986235857009888,
          -4.1801981925964355,
          5.645219802856445,
          6.9499664306640625,
          0.49803853034973145,
          0.41093409061431885,
          -3.4132745265960693,
          -2.422938108444214,
          -3.1630983352661133,
          -3.7530300617218018,
          3.6700246334075928,
          -2.6233479976654053,
          3.3551981449127197,
          -4.127713680267334,
          -4.236006259918213,
          -4.095700263977051,
          1.1704481840133667,
          -2.716648578643799,
          2.9720401763916016,
          3.691923141479492,
          -2.0288941860198975,
          -3.45317006111145,
          -5.133425235748291,
          -7.313327789306641,
          9.936699867248535,
          0.7688385844230652,
          1.491703987121582,
          -6.799282550811768,
          6.406563758850098,
          0.6040652394294739,
          -6.340516567230225,
          -4.250826358795166,
          -2.5213308334350586,
          4.345522880554199,
          0.9244174957275391,
          4.348330497741699,
          0.8640109896659851,
          0.6753581762313843,
          3.212681770324707,
          4.019833087921143,
          4.546586036682129,
          -1.2298463582992554,
          -0.7125654816627502,
          0.24347679316997528,
          -4.404776096343994,
          1.2287930250167847,
          7.198936939239502,
          0.5961737632751465,
          1.868451476097107,
          -0.8514872789382935,
          1.3084850311279297,
          -9.447925567626953,
          -2.2124149799346924,
          4.495226860046387,
          2.351412773132324,
          3.155327081680298,
          -4.352424621582031,
          -5.493063449859619,
          0.24253252148628235,
          -2.6609628200531006,
          -1.7938333749771118,
          9.098677635192871,
          0.6895430088043213,
          7.994782447814941,
          -2.0171258449554443,
          1.9673655033111572,
          1.767872929573059,
          -3.6296825408935547,
          -0.5346730947494507,
          0.987825334072113,
          1.0677688121795654,
          3.5466268062591553,
          4.278871059417725,
          -5.9255170822143555,
          8.9954833984375,
          -8.25612735748291,
          -3.6581544876098633,
          7.352497577667236,
          -4.477834701538086,
          -1.1648799180984497,
          3.9644265174865723,
          6.056818008422852,
          -4.366286277770996,
          -4.2468767166137695,
          2.1378896236419678,
          -2.4706201553344727,
          -7.44523811340332,
          -3.547537088394165,
          -4.30519437789917,
          2.4351940155029297,
          -2.1737096309661865,
          4.9195356369018555,
          -3.5492043495178223,
          4.30062198638916,
          -0.5341745018959045,
          -3.6521315574645996,
          5.0865302085876465,
          1.6375293731689453,
          -7.263118743896484,
          -3.159212589263916,
          -3.382795810699463,
          2.4206957817077637,
          -7.781327247619629,
          -3.5944981575012207,
          -5.784836292266846,
          -3.764768362045288,
          -3.1979899406433105,
          6.430958271026611,
          -4.634100437164307,
          -6.848081111907959,
          -0.7276734113693237,
          1.475593090057373,
          -0.5548666715621948,
          1.4676345586776733,
          -1.6432127952575684,
          6.600797653198242,
          -3.837904453277588,
          0.2210811823606491,
          -1.609897255897522,
          -1.397299885749817,
          -5.005007266998291,
          6.811697959899902,
          -1.127273440361023,
          -6.911862373352051,
          -4.07490873336792,
          0.6315712928771973,
          3.291064500808716,
          0.9476582407951355,
          5.80341911315918,
          2.130716562271118,
          -4.518938064575195,
          1.792427659034729,
          8.80536937713623,
          -2.3736467361450195,
          -8.139193534851074,
          7.801313877105713,
          -4.934377670288086,
          -0.18038064241409302,
          9.726391792297363,
          1.7869974374771118,
          -3.10092830657959,
          1.9093782901763916,
          1.6288853883743286,
          1.2842459678649902,
          5.106479644775391,
          4.034019470214844,
          -0.1569860875606537,
          1.9530569314956665,
          8.137824058532715,
          7.430599689483643,
          -4.569173336029053,
          -6.884258270263672,
          4.503671646118164,
          -1.9578245878219604,
          4.798728942871094,
          5.128448486328125,
          -2.4595212936401367,
          0.9071900844573975,
          -3.6954009532928467,
          -5.031576633453369,
          -1.0997785329818726,
          -7.645885467529297,
          4.467244625091553,
          0.38704046607017517,
          -6.347624778747559,
          -2.204277992248535,
          -2.3294761180877686,
          7.613214015960693,
          -2.7763688564300537,
          7.93702507019043,
          -0.002247807802632451,
          2.7905402183532715,
          -1.0767863988876343,
          -5.21926736831665,
          -4.6016011238098145,
          2.828226327896118,
          3.996659994125366,
          3.4227135181427,
          0.573582112789154,
          -4.489676475524902,
          4.216092109680176,
          -3.4636075496673584,
          -7.363449573516846,
          -2.0976128578186035,
          2.088690757751465,
          5.904270648956299,
          7.1525678634643555,
          -9.054659843444824,
          0.6612337827682495,
          -2.4914283752441406,
          0.2396581768989563,
          3.6555709838867188,
          -3.9002010822296143,
          4.907799243927002,
          9.269429206848145,
          4.176567554473877,
          4.2401251792907715,
          6.370286464691162,
          4.162050724029541,
          6.713491916656494,
          0.8974686861038208,
          -4.849495887756348,
          -0.004285650327801704,
          -3.0277843475341797,
          0.5892665386199951,
          0.09471280872821808,
          0.6281537413597107,
          2.8460772037506104,
          1.0889053344726562,
          8.720362663269043,
          -10.17983341217041,
          -8.60033130645752,
          5.9260406494140625,
          1.8430031538009644,
          7.471994876861572,
          2.567582368850708,
          -2.603628158569336,
          4.51668119430542,
          2.3940446376800537,
          0.9550961256027222,
          -2.842033863067627,
          7.388673305511475,
          10.095479965209961,
          -0.8675325512886047,
          -1.7992873191833496,
          3.318382740020752,
          5.711174011230469,
          -4.500954627990723,
          2.070758819580078,
          6.276242256164551,
          2.4551539421081543,
          -6.060981750488281,
          -8.540735244750977,
          -3.193561553955078,
          2.1373648643493652,
          -3.313575029373169,
          -1.2450907230377197,
          0.845978856086731,
          -1.046589732170105,
          5.4908576011657715,
          -9.228323936462402,
          5.735236644744873,
          3.9530065059661865,
          1.6319842338562012,
          4.087510108947754,
          1.0027008056640625,
          6.50485372543335,
          -9.996273040771484,
          -4.301097393035889,
          0.5370938181877136,
          2.2134511470794678,
          -1.293455719947815,
          -1.7191160917282104,
          -7.465112209320068,
          -2.461756944656372,
          5.538683891296387,
          -4.890506267547607,
          -4.536739349365234,
          6.735960483551025,
          1.7532336711883545,
          1.7383445501327515,
          1.0117336511611938,
          9.05359935760498,
          -4.118937015533447,
          1.6658790111541748,
          -0.09700796008110046,
          4.72457218170166,
          -1.1330939531326294,
          1.5583136081695557,
          -3.0237340927124023,
          5.729099750518799,
          -2.496654510498047,
          -3.527583122253418,
          8.36189079284668,
          -3.1184840202331543,
          0.7158701419830322,
          2.511854887008667,
          2.581082820892334,
          -3.30257248878479,
          2.2057769298553467,
          -2.841583728790283,
          -9.15137004852295,
          1.5075860023498535,
          -5.441781044006348,
          4.832817077636719,
          4.157406330108643,
          -1.0681798458099365,
          -1.121045708656311,
          -6.736310005187988,
          3.6991028785705566,
          -8.871170043945312,
          1.2464189529418945,
          -3.1279051303863525,
          4.129152774810791,
          0.1685844212770462,
          0.4718136489391327,
          -2.0862247943878174,
          -3.7908546924591064,
          -2.1353189945220947,
          -5.92345666885376,
          -3.6014602184295654,
          -8.315224647521973,
          3.82240629196167,
          -4.039007663726807,
          -1.2133996486663818,
          3.6109306812286377,
          -0.5320557951927185,
          5.284194469451904,
          5.5240631103515625,
          9.816161155700684,
          -3.727452516555786,
          -1.8754981756210327,
          -6.342341423034668,
          10.91627311706543,
          -4.510952949523926,
          -2.67519211769104,
          6.637768745422363,
          -2.2174527645111084,
          -4.046792507171631,
          -12.201047897338867,
          -1.5111501216888428,
          4.560378074645996,
          -0.4417959153652191,
          -4.09760046005249,
          -11.427789688110352,
          -10.912907600402832,
          2.0192153453826904,
          -9.877631187438965,
          -2.4610111713409424,
          -3.930830717086792,
          -4.590721130371094,
          1.7891321182250977,
          -5.0604329109191895,
          -3.598853826522827,
          4.006329536437988,
          6.813199520111084,
          3.7829809188842773,
          7.292462348937988,
          2.6039164066314697,
          -5.940279960632324,
          -1.8258987665176392,
          3.3098487854003906,
          4.2924604415893555,
          2.7233967781066895,
          -6.183404445648193,
          -1.26348876953125,
          0.7682040333747864,
          -1.4456722736358643,
          -2.004352331161499,
          -1.722266674041748,
          -4.083353042602539,
          -1.3711508512496948,
          -3.720235586166382,
          -0.23981134593486786,
          -2.2135748863220215,
          6.3535027503967285,
          -6.186155796051025,
          0.5612534880638123,
          0.2426588237285614,
          -8.208305358886719,
          -2.582505464553833,
          -5.294760704040527,
          -3.467904567718506,
          -3.2039968967437744,
          -2.4448413848876953,
          -3.4350619316101074,
          -3.326706886291504,
          6.528127193450928,
          3.357755422592163,
          5.156088352203369,
          1.7952790260314941,
          -3.487262725830078,
          3.190876007080078,
          2.1197595596313477,
          4.445883750915527,
          4.354356288909912,
          -2.2806813716888428,
          -1.411027193069458,
          -2.946002721786499,
          -3.412327766418457,
          2.6571621894836426,
          -2.0148069858551025,
          -9.044702529907227,
          4.42997932434082,
          -0.2642613649368286,
          1.064629077911377,
          -1.4994096755981445,
          -0.5423210263252258,
          9.807429313659668,
          2.506044864654541,
          5.970394134521484,
          0.26715272665023804,
          -1.1331629753112793,
          -2.5586557388305664,
          -10.4623384475708,
          -4.107545375823975,
          3.20098876953125,
          -7.42274284362793,
          -8.783151626586914,
          7.996351718902588,
          -2.513293743133545,
          7.585375785827637,
          3.3488404750823975,
          4.188597679138184,
          -1.334144115447998,
          7.461101531982422,
          0.9193893074989319,
          -0.5546730756759644,
          -0.4026746451854706,
          -6.529209613800049,
          -1.7613035440444946,
          -1.601051688194275,
          4.118265628814697,
          4.34908390045166,
          0.5641433596611023,
          -0.879878044128418,
          0.24361638724803925,
          -0.5975698232650757,
          -2.7635693550109863,
          2.5960354804992676,
          -3.682705879211426,
          -5.241311073303223,
          -4.515133857727051,
          -7.580685615539551,
          -0.012799473479390144,
          -1.3944779634475708,
          -1.1358814239501953,
          1.9539436101913452,
          -3.719231128692627,
          -2.9491569995880127,
          -5.531044960021973,
          -0.3706033527851105,
          -6.210430145263672,
          -8.774547576904297,
          -3.0980031490325928,
          -7.2631449699401855,
          3.214165687561035,
          2.006432294845581,
          5.952322959899902,
          -3.188204288482666,
          -5.758594512939453,
          -1.8966209888458252,
          4.073310375213623,
          -2.923470973968506,
          -10.912907600402832,
          1.5503507852554321,
          -1.52532958984375,
          1.1084266901016235,
          -2.1831376552581787,
          4.772037029266357,
          -9.1705904006958,
          -5.706209182739258,
          7.042807102203369,
          3.0242326259613037,
          8.662298202514648,
          -0.4692518711090088,
          3.415544033050537,
          1.8367652893066406,
          2.6427435874938965,
          2.6799654960632324,
          4.988571643829346,
          -10.167314529418945,
          -10.249135971069336,
          -7.209720611572266,
          -1.5504109859466553,
          -3.144984245300293,
          4.084561347961426,
          0.16719739139080048,
          4.523189067840576,
          6.448146820068359,
          -3.0030181407928467,
          -6.615395545959473,
          -4.680658340454102,
          2.687828779220581,
          -3.0284736156463623,
          3.7826783657073975,
          3.349994421005249,
          -9.139009475708008,
          4.363121509552002,
          3.763725519180298,
          1.1303801536560059,
          2.971954822540283,
          0.005491186399012804,
          -5.442523002624512,
          -5.582342147827148,
          -4.834103584289551,
          3.3370494842529297,
          6.767716407775879,
          -2.8986666202545166,
          -3.503554344177246,
          5.817902088165283,
          -10.975753784179688,
          7.105978488922119,
          5.048765659332275,
          5.470305919647217,
          -2.1217265129089355,
          1.0155647993087769,
          6.360652923583984,
          5.29641580581665,
          -4.8367085456848145,
          4.922884941101074,
          4.728909015655518,
          5.104063510894775,
          -9.043227195739746,
          1.9417176246643066,
          0.025964384898543358,
          -4.8029303550720215,
          5.493636608123779,
          -8.898959159851074,
          -6.479147911071777,
          -0.017196621745824814,
          2.7188496589660645,
          4.532200813293457,
          -2.9425530433654785,
          -2.8359782695770264,
          -4.102462291717529,
          0.9442247152328491,
          -3.8566172122955322,
          1.591968297958374,
          -2.5157337188720703,
          3.2052879333496094,
          -7.236262321472168,
          -7.738440990447998,
          5.166253089904785,
          -6.221494197845459,
          4.76904296875,
          4.58523416519165,
          2.3062658309936523,
          -3.1570992469787598,
          -7.543767929077148,
          5.862846374511719,
          -2.095966339111328,
          -0.2849416434764862,
          3.3250229358673096,
          9.941408157348633,
          4.4957780838012695,
          7.933328628540039,
          -7.670970439910889,
          -2.098330020904541,
          7.02977991104126,
          6.3180460929870605,
          0.726431667804718,
          -4.137402057647705,
          -5.712961196899414,
          4.912642002105713,
          2.078488349914551,
          -0.6508886814117432,
          6.201407432556152,
          -3.743490219116211,
          9.798782348632812,
          -7.1860551834106445,
          -4.360017776489258,
          -0.19039250910282135,
          1.034780740737915,
          7.681626796722412,
          -2.746479034423828,
          0.6098446249961853,
          0.23045049607753754,
          4.591788291931152,
          -5.850513458251953,
          1.7068958282470703,
          -1.7979975938796997,
          -2.938044548034668,
          -2.00434947013855,
          -8.280874252319336,
          4.261668682098389,
          4.32435941696167,
          -5.384559154510498,
          9.677021026611328,
          4.134597301483154,
          -2.568080186843872,
          0.6040423512458801,
          -0.5448822975158691,
          -1.5319699048995972,
          -4.25651216506958,
          -4.519127368927002,
          -12.300276756286621,
          0.6389577984809875,
          4.7746171951293945,
          -2.7389633655548096,
          1.8580958843231201,
          -4.857786655426025,
          -8.404495239257812,
          5.298707962036133,
          7.64301061630249,
          -1.3124608993530273,
          -1.629846215248108,
          7.068814277648926,
          -3.223686933517456,
          -4.2739458084106445,
          1.5866830348968506,
          -3.0621750354766846,
          6.868156909942627,
          3.669318914413452,
          -12.030052185058594,
          -2.774030923843384,
          7.410999774932861,
          -0.9547898769378662,
          -4.885119438171387,
          0.9464971423149109,
          -5.8459930419921875,
          -7.609598636627197,
          -1.2141071557998657,
          7.293015480041504,
          6.88487434387207,
          5.00033712387085,
          -6.281946182250977,
          3.4978249073028564,
          -2.862562656402588,
          6.911950588226318,
          4.717241287231445,
          1.0742286443710327,
          2.114119291305542,
          -9.155187606811523,
          3.8925535678863525,
          -3.9413061141967773,
          4.040257930755615,
          3.8005173206329346,
          -2.107215166091919,
          5.143013000488281,
          0.897655189037323,
          -5.761794090270996,
          -7.308699131011963,
          2.5258419513702393,
          -3.003260850906372,
          7.188621997833252,
          -11.149182319641113,
          -0.5457861423492432,
          1.4742523431777954,
          6.462344169616699,
          -8.802264213562012,
          2.7585742473602295,
          -4.720319747924805,
          1.378118634223938,
          2.6460273265838623,
          3.14131760597229,
          7.940781116485596,
          7.656937122344971,
          2.0066192150115967,
          -3.462869167327881,
          -1.918262004852295,
          -9.521574974060059,
          4.743790149688721,
          2.099552631378174,
          2.9816622734069824,
          -3.3270199298858643,
          3.9104597568511963,
          1.6792329549789429,
          3.375288486480713,
          2.7190070152282715,
          1.9874191284179688,
          7.886572360992432,
          4.722257614135742,
          -2.7625732421875,
          5.138717174530029,
          -3.524019241333008,
          0.7049497961997986,
          -2.9827663898468018,
          -1.1450082063674927,
          -1.9334886074066162,
          4.059768199920654,
          2.655541181564331,
          -2.1890974044799805,
          -6.050306797027588,
          3.0036675930023193,
          8.977564811706543,
          0.3237367868423462,
          2.867685079574585,
          3.719719648361206,
          10.40145206451416,
          -2.89460825920105,
          4.563104629516602,
          1.2887921333312988,
          -1.6299837827682495,
          -9.471466064453125,
          -10.463167190551758,
          3.2496395111083984,
          -7.243334770202637,
          -3.080040693283081,
          5.36965799331665,
          0.5569716095924377,
          7.39410400390625,
          -6.213479042053223,
          2.085012674331665,
          2.525576591491699,
          0.9856126308441162,
          4.375848293304443,
          -1.4845399856567383,
          2.2528076171875,
          -0.426916241645813,
          -2.676068067550659,
          5.42250394821167,
          1.7812535762786865,
          3.863748073577881,
          -5.206206321716309,
          -11.934391975402832,
          4.82229471206665,
          2.1878960132598877,
          6.089600086212158,
          -7.525559425354004,
          8.072611808776855,
          -2.2426843643188477,
          6.244629383087158,
          7.406859397888184,
          0.6066053509712219,
          -6.449388027191162,
          2.111577272415161,
          0.24463734030723572,
          -1.6296106576919556,
          -5.080453395843506,
          0.8807908892631531,
          -1.0439517498016357,
          -9.381607055664062,
          -0.8579851388931274,
          -4.5263566970825195,
          1.9566223621368408,
          -6.163414478302002,
          3.4075562953948975,
          2.011073350906372,
          7.856391429901123,
          4.156613826751709,
          -1.3609074354171753,
          -0.37661540508270264,
          10.483630180358887,
          -1.89667809009552,
          -3.7304799556732178,
          -1.9269967079162598,
          7.1282429695129395,
          5.373288631439209,
          4.901129245758057,
          4.555692672729492,
          -4.834780216217041,
          -3.0238425731658936,
          -2.70802640914917,
          -2.8715341091156006,
          -5.50703239440918,
          -2.803386688232422,
          2.795422077178955,
          3.759263038635254,
          -8.279359817504883,
          -2.7321062088012695,
          1.1599276065826416,
          1.305618405342102,
          -1.942750334739685,
          -10.410051345825195,
          5.970611572265625,
          -5.749383926391602,
          10.004181861877441,
          7.429744720458984,
          3.935856580734253,
          -3.089564085006714,
          3.1374480724334717,
          -2.503798484802246,
          4.789221286773682,
          -2.720837354660034,
          6.879466533660889
         ]
        }
       ],
       "layout": {
        "coloraxis": {
         "colorbar": {
          "title": {
           "text": "Label"
          }
         },
         "colorscale": [
          [
           0,
           "#0d0887"
          ],
          [
           0.1111111111111111,
           "#46039f"
          ],
          [
           0.2222222222222222,
           "#7201a8"
          ],
          [
           0.3333333333333333,
           "#9c179e"
          ],
          [
           0.4444444444444444,
           "#bd3786"
          ],
          [
           0.5555555555555556,
           "#d8576b"
          ],
          [
           0.6666666666666666,
           "#ed7953"
          ],
          [
           0.7777777777777778,
           "#fb9f3a"
          ],
          [
           0.8888888888888888,
           "#fdca26"
          ],
          [
           1,
           "#f0f921"
          ]
         ]
        },
        "height": 800,
        "legend": {
         "tracegroupgap": 0
        },
        "scene": {
         "domain": {
          "x": [
           0,
           1
          ],
          "y": [
           0,
           1
          ]
         },
         "xaxis": {
          "title": {
           "text": "0"
          }
         },
         "yaxis": {
          "title": {
           "text": "1"
          }
         },
         "zaxis": {
          "title": {
           "text": "2"
          }
         }
        },
        "template": {
         "data": {
          "bar": [
           {
            "error_x": {
             "color": "#2a3f5f"
            },
            "error_y": {
             "color": "#2a3f5f"
            },
            "marker": {
             "line": {
              "color": "#E5ECF6",
              "width": 0.5
             }
            },
            "type": "bar"
           }
          ],
          "barpolar": [
           {
            "marker": {
             "line": {
              "color": "#E5ECF6",
              "width": 0.5
             }
            },
            "type": "barpolar"
           }
          ],
          "carpet": [
           {
            "aaxis": {
             "endlinecolor": "#2a3f5f",
             "gridcolor": "white",
             "linecolor": "white",
             "minorgridcolor": "white",
             "startlinecolor": "#2a3f5f"
            },
            "baxis": {
             "endlinecolor": "#2a3f5f",
             "gridcolor": "white",
             "linecolor": "white",
             "minorgridcolor": "white",
             "startlinecolor": "#2a3f5f"
            },
            "type": "carpet"
           }
          ],
          "choropleth": [
           {
            "colorbar": {
             "outlinewidth": 0,
             "ticks": ""
            },
            "type": "choropleth"
           }
          ],
          "contour": [
           {
            "colorbar": {
             "outlinewidth": 0,
             "ticks": ""
            },
            "colorscale": [
             [
              0,
              "#0d0887"
             ],
             [
              0.1111111111111111,
              "#46039f"
             ],
             [
              0.2222222222222222,
              "#7201a8"
             ],
             [
              0.3333333333333333,
              "#9c179e"
             ],
             [
              0.4444444444444444,
              "#bd3786"
             ],
             [
              0.5555555555555556,
              "#d8576b"
             ],
             [
              0.6666666666666666,
              "#ed7953"
             ],
             [
              0.7777777777777778,
              "#fb9f3a"
             ],
             [
              0.8888888888888888,
              "#fdca26"
             ],
             [
              1,
              "#f0f921"
             ]
            ],
            "type": "contour"
           }
          ],
          "contourcarpet": [
           {
            "colorbar": {
             "outlinewidth": 0,
             "ticks": ""
            },
            "type": "contourcarpet"
           }
          ],
          "heatmap": [
           {
            "colorbar": {
             "outlinewidth": 0,
             "ticks": ""
            },
            "colorscale": [
             [
              0,
              "#0d0887"
             ],
             [
              0.1111111111111111,
              "#46039f"
             ],
             [
              0.2222222222222222,
              "#7201a8"
             ],
             [
              0.3333333333333333,
              "#9c179e"
             ],
             [
              0.4444444444444444,
              "#bd3786"
             ],
             [
              0.5555555555555556,
              "#d8576b"
             ],
             [
              0.6666666666666666,
              "#ed7953"
             ],
             [
              0.7777777777777778,
              "#fb9f3a"
             ],
             [
              0.8888888888888888,
              "#fdca26"
             ],
             [
              1,
              "#f0f921"
             ]
            ],
            "type": "heatmap"
           }
          ],
          "heatmapgl": [
           {
            "colorbar": {
             "outlinewidth": 0,
             "ticks": ""
            },
            "colorscale": [
             [
              0,
              "#0d0887"
             ],
             [
              0.1111111111111111,
              "#46039f"
             ],
             [
              0.2222222222222222,
              "#7201a8"
             ],
             [
              0.3333333333333333,
              "#9c179e"
             ],
             [
              0.4444444444444444,
              "#bd3786"
             ],
             [
              0.5555555555555556,
              "#d8576b"
             ],
             [
              0.6666666666666666,
              "#ed7953"
             ],
             [
              0.7777777777777778,
              "#fb9f3a"
             ],
             [
              0.8888888888888888,
              "#fdca26"
             ],
             [
              1,
              "#f0f921"
             ]
            ],
            "type": "heatmapgl"
           }
          ],
          "histogram": [
           {
            "marker": {
             "colorbar": {
              "outlinewidth": 0,
              "ticks": ""
             }
            },
            "type": "histogram"
           }
          ],
          "histogram2d": [
           {
            "colorbar": {
             "outlinewidth": 0,
             "ticks": ""
            },
            "colorscale": [
             [
              0,
              "#0d0887"
             ],
             [
              0.1111111111111111,
              "#46039f"
             ],
             [
              0.2222222222222222,
              "#7201a8"
             ],
             [
              0.3333333333333333,
              "#9c179e"
             ],
             [
              0.4444444444444444,
              "#bd3786"
             ],
             [
              0.5555555555555556,
              "#d8576b"
             ],
             [
              0.6666666666666666,
              "#ed7953"
             ],
             [
              0.7777777777777778,
              "#fb9f3a"
             ],
             [
              0.8888888888888888,
              "#fdca26"
             ],
             [
              1,
              "#f0f921"
             ]
            ],
            "type": "histogram2d"
           }
          ],
          "histogram2dcontour": [
           {
            "colorbar": {
             "outlinewidth": 0,
             "ticks": ""
            },
            "colorscale": [
             [
              0,
              "#0d0887"
             ],
             [
              0.1111111111111111,
              "#46039f"
             ],
             [
              0.2222222222222222,
              "#7201a8"
             ],
             [
              0.3333333333333333,
              "#9c179e"
             ],
             [
              0.4444444444444444,
              "#bd3786"
             ],
             [
              0.5555555555555556,
              "#d8576b"
             ],
             [
              0.6666666666666666,
              "#ed7953"
             ],
             [
              0.7777777777777778,
              "#fb9f3a"
             ],
             [
              0.8888888888888888,
              "#fdca26"
             ],
             [
              1,
              "#f0f921"
             ]
            ],
            "type": "histogram2dcontour"
           }
          ],
          "mesh3d": [
           {
            "colorbar": {
             "outlinewidth": 0,
             "ticks": ""
            },
            "type": "mesh3d"
           }
          ],
          "parcoords": [
           {
            "line": {
             "colorbar": {
              "outlinewidth": 0,
              "ticks": ""
             }
            },
            "type": "parcoords"
           }
          ],
          "pie": [
           {
            "automargin": true,
            "type": "pie"
           }
          ],
          "scatter": [
           {
            "marker": {
             "colorbar": {
              "outlinewidth": 0,
              "ticks": ""
             }
            },
            "type": "scatter"
           }
          ],
          "scatter3d": [
           {
            "line": {
             "colorbar": {
              "outlinewidth": 0,
              "ticks": ""
             }
            },
            "marker": {
             "colorbar": {
              "outlinewidth": 0,
              "ticks": ""
             }
            },
            "type": "scatter3d"
           }
          ],
          "scattercarpet": [
           {
            "marker": {
             "colorbar": {
              "outlinewidth": 0,
              "ticks": ""
             }
            },
            "type": "scattercarpet"
           }
          ],
          "scattergeo": [
           {
            "marker": {
             "colorbar": {
              "outlinewidth": 0,
              "ticks": ""
             }
            },
            "type": "scattergeo"
           }
          ],
          "scattergl": [
           {
            "marker": {
             "colorbar": {
              "outlinewidth": 0,
              "ticks": ""
             }
            },
            "type": "scattergl"
           }
          ],
          "scattermapbox": [
           {
            "marker": {
             "colorbar": {
              "outlinewidth": 0,
              "ticks": ""
             }
            },
            "type": "scattermapbox"
           }
          ],
          "scatterpolar": [
           {
            "marker": {
             "colorbar": {
              "outlinewidth": 0,
              "ticks": ""
             }
            },
            "type": "scatterpolar"
           }
          ],
          "scatterpolargl": [
           {
            "marker": {
             "colorbar": {
              "outlinewidth": 0,
              "ticks": ""
             }
            },
            "type": "scatterpolargl"
           }
          ],
          "scatterternary": [
           {
            "marker": {
             "colorbar": {
              "outlinewidth": 0,
              "ticks": ""
             }
            },
            "type": "scatterternary"
           }
          ],
          "surface": [
           {
            "colorbar": {
             "outlinewidth": 0,
             "ticks": ""
            },
            "colorscale": [
             [
              0,
              "#0d0887"
             ],
             [
              0.1111111111111111,
              "#46039f"
             ],
             [
              0.2222222222222222,
              "#7201a8"
             ],
             [
              0.3333333333333333,
              "#9c179e"
             ],
             [
              0.4444444444444444,
              "#bd3786"
             ],
             [
              0.5555555555555556,
              "#d8576b"
             ],
             [
              0.6666666666666666,
              "#ed7953"
             ],
             [
              0.7777777777777778,
              "#fb9f3a"
             ],
             [
              0.8888888888888888,
              "#fdca26"
             ],
             [
              1,
              "#f0f921"
             ]
            ],
            "type": "surface"
           }
          ],
          "table": [
           {
            "cells": {
             "fill": {
              "color": "#EBF0F8"
             },
             "line": {
              "color": "white"
             }
            },
            "header": {
             "fill": {
              "color": "#C8D4E3"
             },
             "line": {
              "color": "white"
             }
            },
            "type": "table"
           }
          ]
         },
         "layout": {
          "annotationdefaults": {
           "arrowcolor": "#2a3f5f",
           "arrowhead": 0,
           "arrowwidth": 1
          },
          "coloraxis": {
           "colorbar": {
            "outlinewidth": 0,
            "ticks": ""
           }
          },
          "colorscale": {
           "diverging": [
            [
             0,
             "#8e0152"
            ],
            [
             0.1,
             "#c51b7d"
            ],
            [
             0.2,
             "#de77ae"
            ],
            [
             0.3,
             "#f1b6da"
            ],
            [
             0.4,
             "#fde0ef"
            ],
            [
             0.5,
             "#f7f7f7"
            ],
            [
             0.6,
             "#e6f5d0"
            ],
            [
             0.7,
             "#b8e186"
            ],
            [
             0.8,
             "#7fbc41"
            ],
            [
             0.9,
             "#4d9221"
            ],
            [
             1,
             "#276419"
            ]
           ],
           "sequential": [
            [
             0,
             "#0d0887"
            ],
            [
             0.1111111111111111,
             "#46039f"
            ],
            [
             0.2222222222222222,
             "#7201a8"
            ],
            [
             0.3333333333333333,
             "#9c179e"
            ],
            [
             0.4444444444444444,
             "#bd3786"
            ],
            [
             0.5555555555555556,
             "#d8576b"
            ],
            [
             0.6666666666666666,
             "#ed7953"
            ],
            [
             0.7777777777777778,
             "#fb9f3a"
            ],
            [
             0.8888888888888888,
             "#fdca26"
            ],
            [
             1,
             "#f0f921"
            ]
           ],
           "sequentialminus": [
            [
             0,
             "#0d0887"
            ],
            [
             0.1111111111111111,
             "#46039f"
            ],
            [
             0.2222222222222222,
             "#7201a8"
            ],
            [
             0.3333333333333333,
             "#9c179e"
            ],
            [
             0.4444444444444444,
             "#bd3786"
            ],
            [
             0.5555555555555556,
             "#d8576b"
            ],
            [
             0.6666666666666666,
             "#ed7953"
            ],
            [
             0.7777777777777778,
             "#fb9f3a"
            ],
            [
             0.8888888888888888,
             "#fdca26"
            ],
            [
             1,
             "#f0f921"
            ]
           ]
          },
          "colorway": [
           "#636efa",
           "#EF553B",
           "#00cc96",
           "#ab63fa",
           "#FFA15A",
           "#19d3f3",
           "#FF6692",
           "#B6E880",
           "#FF97FF",
           "#FECB52"
          ],
          "font": {
           "color": "#2a3f5f"
          },
          "geo": {
           "bgcolor": "white",
           "lakecolor": "white",
           "landcolor": "#E5ECF6",
           "showlakes": true,
           "showland": true,
           "subunitcolor": "white"
          },
          "hoverlabel": {
           "align": "left"
          },
          "hovermode": "closest",
          "mapbox": {
           "style": "light"
          },
          "paper_bgcolor": "white",
          "plot_bgcolor": "#E5ECF6",
          "polar": {
           "angularaxis": {
            "gridcolor": "white",
            "linecolor": "white",
            "ticks": ""
           },
           "bgcolor": "#E5ECF6",
           "radialaxis": {
            "gridcolor": "white",
            "linecolor": "white",
            "ticks": ""
           }
          },
          "scene": {
           "xaxis": {
            "backgroundcolor": "#E5ECF6",
            "gridcolor": "white",
            "gridwidth": 2,
            "linecolor": "white",
            "showbackground": true,
            "ticks": "",
            "zerolinecolor": "white"
           },
           "yaxis": {
            "backgroundcolor": "#E5ECF6",
            "gridcolor": "white",
            "gridwidth": 2,
            "linecolor": "white",
            "showbackground": true,
            "ticks": "",
            "zerolinecolor": "white"
           },
           "zaxis": {
            "backgroundcolor": "#E5ECF6",
            "gridcolor": "white",
            "gridwidth": 2,
            "linecolor": "white",
            "showbackground": true,
            "ticks": "",
            "zerolinecolor": "white"
           }
          },
          "shapedefaults": {
           "line": {
            "color": "#2a3f5f"
           }
          },
          "ternary": {
           "aaxis": {
            "gridcolor": "white",
            "linecolor": "white",
            "ticks": ""
           },
           "baxis": {
            "gridcolor": "white",
            "linecolor": "white",
            "ticks": ""
           },
           "bgcolor": "#E5ECF6",
           "caxis": {
            "gridcolor": "white",
            "linecolor": "white",
            "ticks": ""
           }
          },
          "title": {
           "x": 0.05
          },
          "xaxis": {
           "automargin": true,
           "gridcolor": "white",
           "linecolor": "white",
           "ticks": "",
           "title": {
            "standoff": 15
           },
           "zerolinecolor": "white",
           "zerolinewidth": 2
          },
          "yaxis": {
           "automargin": true,
           "gridcolor": "white",
           "linecolor": "white",
           "ticks": "",
           "title": {
            "standoff": 15
           },
           "zerolinecolor": "white",
           "zerolinewidth": 2
          }
         }
        },
        "title": {
         "text": "3d TSNE Plot for Outliers"
        },
        "width": 900
       }
      },
      "text/html": [
       "<div>\n",
       "        \n",
       "        \n",
       "            <div id=\"4e596a1a-c6e2-473b-981e-e9a958aa336e\" class=\"plotly-graph-div\" style=\"height:800px; width:900px;\"></div>\n",
       "            <script type=\"text/javascript\">\n",
       "                require([\"plotly\"], function(Plotly) {\n",
       "                    window.PLOTLYENV=window.PLOTLYENV || {};\n",
       "                    \n",
       "                if (document.getElementById(\"4e596a1a-c6e2-473b-981e-e9a958aa336e\")) {\n",
       "                    Plotly.newPlot(\n",
       "                        '4e596a1a-c6e2-473b-981e-e9a958aa336e',\n",
       "                        [{\"customdata\": [[0.263995357], [0.546092303], [0.33671410399999996], [0.092107835], [0.325261175], [0.212464853], [0.258565714], [0.869236755], [0.197077957], [0.292984504], [0.82178316], [0.796622959], [0.045577010999999994], [0.613660351], [0.9507445659999999], [0.33634633700000005], [0.034440667], [0.741544275], [0.18443265], [0.664514943], [0.16282485800000002], [0.729838445], [0.62837389], [0.057883660999999996], [0.445534827], [0.80183695], [0.27709612], [0.228634015], [0.834860657], [0.6697665110000001], [0.532527349], [0.17045907100000002], [0.5102884679999999], [0.977561989], [0.249775993], [0.9755006820000001], [0.613701727], [0.16742036300000002], [0.537472516], [0.379899131], [0.633897303], [0.633960424], [0.5499746529999999], [0.178172988], [0.85563814], [0.321796672], [0.8174905370000001], [0.254879417], [0.344140513], [0.8061457259999999], [0.27708167100000003], [0.544328519], [0.07708393], [0.273081458], [0.390877336], [0.349621385], [0.214549744], [0.206075222], [0.86461997], [0.9817088540000001], [0.33482964600000004], [0.648387061], [0.093643561], [0.837802698], [0.7603439670000001], [0.29140417399999996], [0.3413454], [0.7611124840000001], [0.541899775], [0.684176639], [0.983535597], [0.52081245], [0.328227724], [0.09715793800000001], [0.876088593], [0.870214512], [0.656086992], [0.306791514], [0.48126734], [0.259559174], [0.326123655], [0.930568042], [0.6583894], [0.689992335], [0.315781109], [0.5669050929999999], [0.637526619], [0.687540723], [0.324300602], [0.592704906], [0.7402531259999999], [0.5940328770000001], [0.596452977], [0.27768081699999997], [0.258329663], [0.142460864], [0.435533461], [0.7024990440000001], [0.58897535], [0.653304374], [0.336968524], [0.631244736], [0.73530076], [0.050390366], [0.064264924], [0.665359476], [0.917835245], [0.44651012], [0.661938199], [0.43935985299999997], [0.6875724040000001], [0.363462248], [0.6542621820000001], [0.578553536], [0.065927945], [0.550148559], [0.13918281400000002], [0.080004635], [0.278228358], [0.560124266], [0.53639864], [0.42653190399999996], [0.789109796], [0.742900474], [0.901692589], [0.650337401], [0.114057311], [0.260812592], [0.43991232], [0.964409284], [0.184401415], [0.345145446], [0.17589458100000002], [0.312514453], [0.674131879], [0.32825045], [0.598231057], [0.09259881699999999], [0.497916521], [0.419776521], [0.31217670000000003], [0.937857107], [0.049030963], [0.47610452600000003], [0.447397526], [0.295806058], [0.737363977], [0.625896253], [0.408813429], [0.437511156], [0.691351375], [0.935555275], [0.437846654], [0.072217715], [0.67636067], [0.468883999], [0.543820644], [0.6555226470000001], [0.6935289240000001], [0.10887831199999999], [0.285463743], [0.0], [0.706495497], [0.273530633], [0.292320271], [0.673984307], [0.12612182800000002], [0.9467074590000001], [0.9363388979999999], [0.8537553640000001], [0.7060713609999999], [0.693682186], [0.508527882], [0.34717038899999997], [0.704154263], [0.658730088], [0.155841557], [0.311085435], [0.281135347], [0.094587802], [0.6832609540000001], [0.9077292509999999], [0.29151267399999997], [0.752734459], [0.93482964], [0.071413953], [0.5948963270000001], [0.404672015], [0.13837621], [0.7473384679999999], [0.530882486], [0.282649594], [0.699335734], [0.056111250999999994], [0.855234998], [0.07789512700000001], [0.891649583], [0.38674227899999997], [0.27113158], [0.958888961], [0.085120869], [0.5269022489999999], [0.066577785], [0.841506738], [0.255342095], [0.060545771], [0.073385869], [0.187493723], [0.858365688], [0.090640352], [0.7097252270000001], [0.631300647], [0.24750447399999997], [0.822843584], [0.373476759], [0.625538582], [0.292951715], [0.299730324], [0.25121407], [0.344480551], [0.293064767], [0.7628032240000001], [0.7384708040000001], [0.674883265], [0.719151612], [0.13098021599999998], [0.511328036], [0.04492903], [0.560914449], [0.7440406409999999], [0.266961634], [0.644231853], [0.038113352], [0.05715529900000001], [0.34139246100000004], [0.7204636320000001], [0.402878236], [0.635148967], [0.320729467], [0.09120969400000001], [0.23414609], [0.8902211309999999], [0.602170884], [0.633652055], [0.806240837], [0.739731184], [0.465231269], [0.7321109], [0.373874305], [0.501587947], [0.11538315800000001], [0.7319466040000001], [0.41829872799999995], [0.062259590999999996], [0.391496379], [0.35984929], [0.24523562699999998], [0.610028339], [0.43540360200000006], [0.434309675], [0.523763344], [0.17118786600000002], [0.18773430300000002], [0.945014638], [0.027851097000000002], [0.68445706], [0.178014532], [0.643427879], [0.59588355], [0.372361682], [0.586103584], [0.271658852], [0.59951107], [0.468363088], [0.314515565], [0.21893726], [0.254716562], [0.25612815], [0.602259755], [0.134381075], [0.513887424], [0.624241636], [0.160251854], [0.580708108], [0.270540486], [0.832919932], [0.93032134], [0.719157884], [0.886720033], [0.098792281], [0.787174286], [0.365592376], [0.719576193], [0.8058956], [0.7555783340000001], [0.526005909], [0.68880424], [0.22111531199999998], [0.739369477], [0.408440236], [0.348926542], [0.433713763], [0.5964966070000001], [0.6942953000000001], [0.7090309659999999], [0.867652984], [0.89332545], [0.746020922], [0.538284443], [0.8922193140000001], [0.935175765], [0.260527707], [0.956780449], [0.204932484], [0.687733351], [0.329063619], [0.632149831], [0.463744506], [0.698859621], [0.385446564], [0.47997537700000004], [0.732279108], [0.3813543], [0.459326013], [0.257401434], [0.665014804], [0.103399542], [0.425284413], [0.943529051], [0.594750236], [0.543776817], [0.18203988], [0.23584208399999998], [0.585984497], [0.762013168], [0.6849829070000001], [0.676936933], [0.290184964], [0.48106822200000005], [0.492766033], [0.22185623399999999], [0.053875998], [0.082751144], [0.385366225], [0.702513961], [0.91553156], [0.082087436], [0.251280378], [0.41672181700000005], [0.277032672], [0.579539754], [0.569363476], [0.133399703], [0.265045463], [0.936571901], [0.252618554], [0.054033081], [0.802481439], [0.528197693], [0.9515026], [0.572121173], [0.752938227], [0.143857535], [0.513484576], [0.313322389], [0.6877973959999999], [0.37705984], [0.348226142], [0.67763282], [0.24138752100000002], [0.8506501790000001], [0.22034810300000002], [0.476445464], [0.690324025], [0.364695946], [0.6492491970000001], [0.9437019209999999], [0.529645971], [0.299097002], [0.96696247], [0.272005242], [0.314161447], [0.752020991], [0.221882453], [0.7203326729999999], [0.379204782], [0.60168653], [0.582932673], [0.950809853], [0.58830141], [0.880887227], [0.467857701], [0.8799021709999999], [0.619844009], [0.359002573], [0.291511278], [0.694157143], [0.727960353], [0.617703921], [0.39581257], [0.58317282], [0.710332374], [0.253753693], [0.049412227999999996], [0.728378695], [0.432432881], [0.58612345], [0.052342373], [0.053483902], [0.518729378], [0.933040208], [0.7035542840000001], [0.268989899], [0.733006927], [0.44435246700000003], [0.5833946210000001], [0.871172692], [0.42876707799999997], [0.30046084100000003], [0.9533294590000001], [0.606443965], [0.90986815], [0.714896449], [0.49734950899999997], [0.8530974859999999], [0.721804145], [0.303467328], [0.664485096], [0.27978062], [0.569481665], [0.628628926], [0.088368123], [0.733567326], [0.537436778], [0.638593691], [0.954726948], [0.632202332], [0.642134651], [0.744653087], [0.115714007], [0.48625007299999995], [0.440356144], [0.08272289], [0.511591027], [0.394627555], [0.224394], [0.626927584], [0.290254057], [0.779008053], [0.86610579], [0.873326081], [0.49548916], [0.594297695], [0.9182015840000001], [0.5770427539999999], [0.019467671000000002], [0.6702982820000001], [0.546595316], [0.591665146], [0.42155819], [0.6856085590000001], [0.340303024], [0.675626741], [0.319067345], [0.38849966399999997], [0.706949589], [0.559409515], [0.687663508], [0.7088045540000001], [0.6818880940000001], [0.42253510899999996], [0.320004605], [0.6582813679999999], [0.634154867], [0.7773320090000001], [0.812677205], [0.074280797], [0.39600217], [0.054933913], [0.825058925], [0.382642009], [0.8687298179999999], [0.588043346], [0.891551577], [0.10920046], [0.647682781], [0.724342512], [0.07016304400000001], [0.280882054], [0.039113261], [0.579641592], [0.639000922], [0.281745925], [0.647857744], [0.6479057970000001], [0.875226264], [0.567603305], [0.262940591], [0.268026042], [0.40519133], [0.479965451], [0.33552403], [0.777165379], [0.42548796299999997], [0.237986115], [0.142522971], [0.724176488], [0.234698933], [0.07818228099999999], [0.855990155], [0.270251765], [0.435517841], [0.762697513], [0.46448725799999996], [0.396112685], [0.37638092100000003], [0.29459467699999997], [0.6944921209999999], [0.622767949], [0.8475597220000001], [0.301463054], [0.912937812], [0.500017182], [0.902587935], [0.304517943], [0.299165673], [0.092014087], [0.488548917], [0.664664437], [0.26534954899999996], [0.723657021], [0.149262385], [0.04577339], [0.69661064], [0.42181486], [0.733845785], [0.418795386], [0.677443529], [0.26128360300000003], [0.268527767], [0.5443222360000001], [0.431632036], [0.981018141], [0.21498072399999998], [0.39472999299999995], [0.122224944], [0.297496875], [0.37490443100000004], [0.68698771], [0.388549207], [0.039296071], [0.73553424], [0.37929489299999997], [0.7321233859999999], [0.33922143899999996], [0.659450594], [0.054838642], [0.640112102], [0.30714170399999996], [0.39661190700000004], [0.420439161], [0.24171497399999997], [0.065893153], [0.9105219370000001], [0.697163103], [0.072559853], [0.81825094], [0.311888815], [0.961644609], [0.816325524], [0.14647302], [0.548753945], [0.946158087], [0.293992717], [0.331479643], [0.9062200309999999], [0.525540416], [0.83301411], [0.514849806], [0.574609024], [0.46871185299999996], [0.71002775], [0.645973276], [0.229794416], [0.551783393], [0.055822990999999995], [0.331750941], [0.715520198], [0.583924357], [0.30695769100000003], [0.7914782370000001], [0.16423663900000002], [0.065711219], [0.948993132], [0.080423835], [0.052495426], [0.566346135], [0.3630266], [0.605442195], [0.6308505839999999], [0.065791238], [0.28681707100000003], [0.685462839], [0.260853706], [0.659122429], [0.44317392200000005], [0.602063986], [0.060366910999999995], [0.781903153], [0.5145798070000001], [0.48388621299999995], [0.600213807], [0.49736405200000006], [0.411145245], [0.116999171], [0.34189014100000004], [0.746950848], [0.39629274600000003], [0.6221438429999999], [0.335271141], [0.140257137], [0.081620681], [0.069837569], [0.46894000799999996], [0.9908574170000001], [0.896616832], [0.255310561], [0.22464526699999998], [0.01991825], [0.296480415], [0.155458996], [0.577916714], [0.9563030309999999], [0.813464394], [0.529675785], [0.287671353], [0.48039136], [0.28104482199999997], [0.633196521], [0.09332537699999999], [0.28447398100000004], [0.052223775], [0.051129385], [0.967405608], [0.040045727999999996], [0.9085829209999999], [0.6621174160000001], [0.42470320899999997], [0.72207806], [0.666193327], [0.509681253], [0.7513536209999999], [0.279073124], [0.074927], [0.916359535], [0.31040327], [0.716604052], [0.485587085], [0.30607518100000003], [0.477558204], [0.7119239409999999], [0.066348638], [0.27453935100000004], [0.31082252], [0.47607312700000004], [0.186795565], [0.26654207], [0.070231142], [0.26951927], [0.800004713], [0.27363366699999997], [0.14647919199999998], [0.378318951], [0.373849065], [0.242170835], [0.249796488], [0.066591188], [0.372956798], [0.501812291], [0.313097752], [0.8802021959999999], [0.51981893], [0.364138746], [0.49268289600000004], [0.285732652], [0.890114985], [0.316419561], [0.26866354], [0.771975959], [0.968888992], [0.080334377], [0.7368282209999999], [0.30055807100000004], [0.9179503929999999], [0.465815039], [0.054036682], [0.963150123], [0.08965350300000001], [0.7076932340000001], [0.636416037], [0.539521117], [0.114757161], [0.357312419], [0.67639834], [0.43482839], [0.032326387000000005], [0.711365605], [0.187486519], [0.052789653], [0.5058636129999999], [0.927431873], [0.6809842559999999], [0.882822186], [0.495705441], [0.596240398], [0.320610701], [0.3413685], [0.159681797], [0.318133669], [0.8393010479999999], [0.06435925099999999], [0.470216633], [0.7762522909999999], [0.635843383], [0.62510543], [0.52959065], [0.986900166], [0.078585688], [0.233284267], [0.363330957], [0.7167169809999999], [0.37588979200000006], [0.223316889], [0.299343986], [0.538595767], [0.730297124], [0.66033077], [0.435296009], [0.326494313], [0.854402708], [0.5734938470000001], [0.757786135], [0.704743233], [0.281575597], [0.671968208], [0.313726015], [0.364338275], [0.368216396], [0.38629520700000003], [0.655971865], [0.5660252729999999], [0.424999093], [0.090110371], [0.772350538], [0.331047258], [0.273716188], [0.23877568], [0.37307977200000003], [0.331185868], [0.256134531], [0.678373225], [0.43463833799999996], [0.654668307], [0.986681065], [0.371520495], [0.408359618], [0.40932365], [0.283412082], [0.395246531], [0.010984428000000001], [0.306013869], [0.266194806], [0.299318521], [0.318293946], [0.74282591], [0.09766432900000001], [0.079666942], [0.613258767], [0.99443072], [0.568835082], [0.7080345159999999], [0.37059271899999996], [0.669867361], [0.651295625], [0.462531569], [0.7196256190000001], [0.45377248], [0.394863946], [0.323974831], [0.146454724], [0.7790670409999999], [0.401828915], [0.601479585], [0.856423023], [0.565242962], [0.301225108], [0.282108144], [0.594378011], [0.705312368], [0.5408696279999999], [0.319249574], [0.36176613799999996], [0.625000704], [0.316287401], [0.047239021], [0.801182233], [0.508474436], [0.8178934109999999], [0.399235601], [0.9740519990000001], [0.72241535], [0.039564764], [0.908684108], [0.47301013399999997], [0.7180496279999999], [0.7634790690000001], [0.6475965370000001], [0.8949973859999999], [0.22282590100000002], [0.359012234], [0.944910252], [0.297877816], [0.172517997], [0.556586265], [0.876481735], [0.48667784299999994], [0.459496733], [0.47412637700000004], [0.70101144], [0.337597387], [0.537578886], [0.966992448], [0.056849545], [0.233249065], [0.380054711], [0.602929443], [0.303847999], [0.170194553], [0.972168554], [0.332168927], [0.6887286890000001], [0.110773401], [0.273352065], [0.572939678], [0.491457065], [0.281389999], [0.821697261], [0.6749776829999999], [0.585134549], [0.7105961159999999], [0.040488789], [0.568054311], [0.321752928], [0.611850232], [0.926096887], [0.618347428], [0.667629785], [0.39773346600000004], [0.290875487], [0.594375103], [0.508255233], [0.338571357], [0.43230234700000003], [0.302221978], [0.87619819], [0.080204492], [0.092333532], [0.09365644699999999], [0.6084523510000001], [0.732654598], [0.944158855], [0.26742308], [0.731124201], [0.661308553], [0.38776626200000003], [0.962585273], [0.322067067], [0.6340810929999999], [0.475345002], [0.35355897299999994], [0.8859363159999999], [0.876798106], [0.221581064], [0.394362449], [0.8050356759999999], [0.452898486], [0.592520516], [0.761026394], [0.245049023], [0.37213936299999995], [0.681054822], [0.7471431479999999], [0.9207395290000001], [0.097207945], [0.699302998], [0.721647006], [0.5353561139999999], [0.738293805], [0.7064675509999999], [0.67395061], [0.7112122909999999], [0.302558708], [0.080097855], [0.707010837], [0.512248622], [0.659627472], [0.657559694], [0.100645606], [0.92665363], [0.892879338], [0.839157508], [0.890959718], [0.556754471], [0.960361937], [0.631037864], [0.029838065], [0.278843351], [0.926157705], [0.551504258], [0.485942349], [0.43723469600000003], [0.25231801800000003], [0.515466972], [0.43725229600000004], [0.493724207], [0.83324725], [0.317521477], [0.28623456199999997], [0.726833965], [0.495667033], [0.028645255], [0.31967191699999997], [0.674344598], [0.7660371890000001], [0.65456992], [0.7565143809999999], [0.528253719], [0.38971949100000003], [0.355087459], [0.87015202], [0.7390833059999999], [0.305761846], [0.411587673], [0.063633094], [0.735409395], [0.605916669], [0.539395562], [0.566183532], [0.674795186], [0.070993366], [0.12526410000000002], [0.279601492], [0.952174402], [0.233806762], [0.43724742899999997], [0.925423095], [0.433498634], [0.52517902], [0.088435529], [0.447677638], [0.647000631], [0.9036033370000001], [0.265790738], [0.66419695], [0.498120658], [0.49018894399999996], [0.747084187], [0.906783648], [0.678770917], [0.348599859], [0.294839683], [0.705691827], [0.211917931], [0.063201124], [0.276699543], [0.672459395], [0.8082059490000001], [0.296538373], [0.16012686199999998], [0.439385032], [0.555951416], [0.386240112], [0.158689619], [0.214499855], [0.299579429], [0.569161656], [0.488614799], [0.8782950209999999], [0.649380949], [0.465713341], [0.16813774], [0.87529545], [0.8411323409999999], [0.33292081], [0.5130478589999999], [0.30505507800000004], [0.8126269909999999], [0.25096706], [0.5024355779999999], [0.45799074100000003]], \"hoverlabel\": {\"namelength\": 0}, \"hovertemplate\": \"0=%{x}<br>1=%{y}<br>2=%{z}<br>Feature=%{customdata[0]}<br>Label=%{marker.color}\", \"legendgroup\": \"\", \"marker\": {\"color\": [0, 0, 1, 1, 0, 0, 0, 1, 1, 0, 0, 1, 0, 0, 1, 0, 1, 0, 0, 0, 1, 0, 0, 1, 1, 1, 0, 0, 1, 1, 0, 0, 1, 1, 1, 0, 0, 0, 0, 0, 1, 0, 0, 1, 0, 0, 0, 0, 0, 0, 0, 1, 0, 1, 0, 1, 0, 0, 0, 1, 0, 0, 1, 1, 0, 0, 1, 0, 0, 1, 0, 0, 0, 0, 0, 0, 0, 0, 0, 0, 0, 0, 0, 0, 0, 0, 0, 0, 0, 0, 0, 0, 0, 0, 0, 0, 0, 0, 0, 0, 0, 0, 0, 0, 0, 0, 0, 0, 0, 0, 0, 0, 0, 0, 0, 0, 0, 0, 0, 0, 0, 0, 0, 0, 0, 0, 0, 0, 0, 0, 0, 0, 0, 0, 0, 0, 0, 0, 0, 0, 0, 0, 0, 0, 0, 0, 0, 0, 0, 0, 0, 0, 0, 0, 0, 0, 0, 0, 0, 0, 0, 0, 0, 0, 0, 0, 0, 0, 0, 0, 0, 0, 0, 0, 0, 0, 0, 0, 0, 0, 0, 0, 0, 0, 0, 0, 0, 0, 0, 0, 0, 0, 0, 0, 0, 0, 0, 0, 1, 0, 0, 0, 0, 0, 0, 0, 0, 0, 0, 0, 0, 0, 0, 0, 0, 0, 0, 0, 0, 0, 0, 0, 0, 0, 0, 0, 0, 0, 0, 0, 0, 0, 0, 0, 0, 0, 0, 0, 0, 0, 0, 0, 0, 0, 0, 0, 0, 0, 0, 0, 0, 0, 0, 0, 0, 0, 0, 0, 0, 0, 0, 0, 0, 0, 0, 0, 0, 0, 0, 0, 0, 0, 0, 0, 0, 0, 0, 0, 0, 0, 0, 0, 0, 0, 0, 0, 0, 0, 0, 0, 0, 0, 0, 0, 0, 0, 0, 0, 0, 0, 0, 0, 0, 0, 0, 0, 0, 0, 0, 0, 0, 0, 0, 0, 0, 0, 0, 0, 0, 0, 0, 0, 0, 0, 0, 0, 0, 0, 0, 0, 0, 0, 0, 0, 0, 0, 0, 0, 0, 0, 0, 0, 0, 0, 0, 0, 0, 0, 0, 0, 0, 0, 0, 0, 0, 0, 0, 0, 0, 0, 0, 0, 0, 0, 0, 0, 0, 0, 0, 0, 0, 0, 0, 0, 0, 0, 0, 0, 0, 0, 0, 0, 0, 0, 0, 0, 0, 0, 0, 0, 0, 0, 0, 0, 0, 0, 0, 0, 0, 0, 0, 0, 0, 0, 0, 0, 0, 0, 0, 0, 0, 0, 0, 0, 0, 0, 0, 0, 0, 0, 0, 0, 0, 0, 0, 0, 0, 0, 0, 0, 0, 0, 0, 0, 0, 0, 0, 0, 0, 0, 0, 0, 0, 0, 0, 0, 0, 0, 0, 0, 0, 0, 0, 0, 0, 0, 0, 0, 0, 0, 0, 0, 0, 0, 0, 0, 0, 0, 0, 0, 0, 0, 0, 0, 0, 0, 0, 0, 0, 0, 0, 0, 0, 0, 0, 0, 0, 0, 0, 0, 0, 0, 0, 0, 0, 0, 0, 0, 0, 0, 0, 0, 0, 0, 0, 0, 0, 0, 0, 0, 0, 0, 0, 0, 0, 0, 0, 0, 0, 0, 0, 0, 0, 0, 0, 0, 0, 0, 0, 0, 0, 0, 0, 0, 0, 0, 0, 0, 0, 0, 0, 0, 0, 0, 0, 1, 0, 0, 0, 0, 0, 0, 0, 0, 0, 0, 0, 0, 0, 0, 0, 0, 0, 0, 0, 0, 0, 0, 0, 0, 0, 0, 0, 0, 0, 0, 0, 1, 0, 0, 0, 0, 0, 0, 0, 0, 0, 0, 0, 0, 0, 0, 0, 0, 0, 0, 0, 0, 0, 0, 0, 0, 1, 0, 0, 0, 0, 0, 0, 0, 0, 0, 0, 0, 0, 0, 0, 0, 0, 0, 0, 0, 0, 0, 0, 0, 0, 0, 0, 0, 0, 0, 0, 0, 0, 0, 0, 0, 0, 0, 0, 0, 0, 0, 0, 0, 0, 0, 0, 0, 0, 0, 0, 0, 0, 0, 0, 0, 0, 0, 0, 0, 0, 0, 0, 0, 0, 0, 0, 0, 0, 0, 0, 0, 0, 0, 0, 0, 0, 0, 1, 0, 0, 0, 0, 0, 0, 0, 0, 0, 0, 0, 0, 0, 0, 0, 0, 0, 0, 0, 1, 1, 0, 1, 1, 0, 0, 1, 1, 0, 0, 0, 0, 1, 0, 0, 1, 1, 1, 0, 1, 0, 1, 1, 1, 0, 0, 0, 1, 0, 0, 0, 0, 0, 0, 0, 0, 0, 0, 0, 0, 0, 0, 1, 0, 0, 0, 0, 0, 0, 0, 0, 0, 0, 0, 0, 0, 0, 0, 0, 0, 0, 0, 0, 0, 0, 0, 0, 0, 0, 0, 0, 0, 0, 0, 0, 0, 0, 0, 0, 1, 0, 0, 0, 0, 0, 0, 0, 0, 0, 0, 0, 0, 0, 0, 0, 0, 0, 0, 0, 0, 0, 0, 0, 0, 0, 0, 0, 0, 0, 0, 0, 0, 0, 0, 0, 0, 0, 0, 0, 0, 0, 0, 0, 0, 0, 0, 0, 0, 0, 0, 0, 0, 0, 0, 0, 0, 0, 0, 0, 0, 0, 0, 0, 0, 0, 0, 0, 0, 0, 0, 0, 0, 0, 0, 0, 0, 0, 0, 0, 0, 0, 0, 1, 0, 0, 0, 0, 0, 0, 0, 0, 0, 0, 0, 0, 0, 0, 0, 0, 0, 0, 0, 0, 0, 0, 0, 0, 0, 0, 0, 0, 0, 0, 0, 0, 0, 0, 0, 0, 0, 0, 0, 0, 0, 0, 0, 0, 0, 0, 0, 0, 0, 0, 0, 0, 0, 0, 0, 0, 0, 1, 0, 0, 0, 0, 0, 0, 0, 0, 0, 0, 0, 0, 0, 0, 0, 0, 0, 0, 0, 0, 0, 0, 0, 0, 0, 0, 0, 0, 0, 0, 0, 0, 0, 0, 0, 0, 0, 0, 0, 0, 0, 0, 0, 0, 0, 0, 0, 0, 0, 0, 0, 0, 0, 0, 0, 0, 0, 0, 0, 0, 0, 0, 0, 0, 0, 0, 0, 0, 0, 0, 0, 0, 0, 0, 0, 0, 0, 0], \"coloraxis\": \"coloraxis\", \"opacity\": 0.7, \"symbol\": \"circle\"}, \"mode\": \"markers\", \"name\": \"\", \"scene\": \"scene\", \"showlegend\": false, \"type\": \"scatter3d\", \"x\": [-0.3892669379711151, 8.202163696289062, -12.815457344055176, -9.482439041137695, -19.194360733032227, -5.076701641082764, 8.153373718261719, -12.863519668579102, 0.4730543792247772, 10.575630187988281, -13.233685493469238, -16.292882919311523, -12.88625431060791, 0.04075916111469269, -12.480446815490723, -11.40676498413086, -12.894969940185547, 11.987245559692383, -11.242234230041504, -9.680256843566895, -4.318708896636963, -2.8777947425842285, -16.87171173095703, -0.24003595113754272, -8.111136436462402, -3.7129337787628174, -15.851436614990234, 2.2994635105133057, -17.928014755249023, -12.307084083557129, 0.5846978425979614, 3.2874841690063477, -2.679335355758667, -12.686957359313965, 5.929251670837402, -2.469658613204956, -8.886056900024414, 2.2256696224212646, -2.739284038543701, -6.656219005584717, 4.299223899841309, -11.888360977172852, 12.471967697143555, -7.370620250701904, -11.875344276428223, -11.254108428955078, -11.390377044677734, 0.17077693343162537, -16.196125030517578, 14.061318397521973, -15.102724075317383, -9.406220436096191, 7.119743347167969, -11.189274787902832, -6.288946628570557, 3.8682985305786133, -5.095556259155273, 3.96716570854187, -12.584895133972168, -12.330373764038086, 4.528807163238525, 8.993361473083496, -17.600872039794922, -11.644882202148438, 15.040545463562012, -10.664353370666504, 12.352522850036621, 12.1712064743042, -16.088172912597656, -6.908267021179199, -17.352066040039062, -12.15240478515625, -0.6297034025192261, -11.681417465209961, 3.5255422592163086, 1.9384621381759644, -15.567713737487793, -14.16672134399414, 5.380690097808838, 3.2859628200531006, 3.4109079837799072, 0.5672186613082886, -17.231033325195312, 7.847696304321289, 7.571347713470459, 4.449182987213135, 12.91428279876709, 11.772027015686035, 0.5719910860061646, -2.2619802951812744, -0.183759868144989, -13.120306968688965, 11.465201377868652, 9.41336441040039, 4.278349876403809, -17.868392944335938, 9.315858840942383, 5.126947402954102, 6.00055456161499, -15.890997886657715, -2.108147382736206, 13.39912223815918, 5.708751201629639, 9.030241012573242, -17.00025749206543, 7.69201135635376, 8.437553405761719, 6.309255123138428, 2.6318304538726807, -13.66323471069336, -1.9009487628936768, -3.815732717514038, -11.922356605529785, 2.5226454734802246, -16.70618438720703, 0.46545425057411194, 11.500886917114258, 9.586023330688477, -9.921825408935547, 7.907325267791748, 0.9792389869689941, 0.9033965468406677, 5.757108688354492, 13.732963562011719, 4.734624862670898, 6.831441402435303, 3.7548882961273193, -10.026244163513184, 7.450895309448242, 7.1713738441467285, -1.7161822319030762, 8.929106712341309, -14.951032638549805, 6.221007347106934, 13.915771484375, 3.1548612117767334, -16.86739158630371, -13.783455848693848, 6.417317867279053, 3.761655330657959, -12.171223640441895, -2.3057684898376465, 8.344331741333008, -17.968292236328125, 8.854816436767578, 5.625417709350586, -8.885149002075195, 12.570939064025879, 6.6401519775390625, 5.785317420959473, -2.7628893852233887, 2.6574158668518066, 3.0395736694335938, 8.92569351196289, -2.373502731323242, 10.238009452819824, 14.875995635986328, 14.937762260437012, 6.841150760650635, -9.081398010253906, 10.10585880279541, 4.750837802886963, 6.441571235656738, 4.749642848968506, -8.760902404785156, 14.85686206817627, -12.605509757995605, -14.42712116241455, -13.201539039611816, 5.779813766479492, 9.222464561462402, 4.713474750518799, -8.425713539123535, -15.716042518615723, 2.973588466644287, 12.670574188232422, -7.418150901794434, -14.70530891418457, 5.76436710357666, -12.747041702270508, 3.517920970916748, -8.274474143981934, 2.7771894931793213, -14.316481590270996, -14.32472038269043, 11.21436595916748, -12.041412353515625, -1.4987714290618896, 3.939544439315796, 2.2788357734680176, 12.973594665527344, -18.276199340820312, -12.764711380004883, -15.89945125579834, 13.166011810302734, 8.40553092956543, 3.4581947326660156, 4.997218608856201, -2.896569013595581, 4.624361991882324, -0.14179083704948425, 4.740627765655518, 2.3601455688476562, -17.622758865356445, -14.403718948364258, 2.7800378799438477, 2.328571081161499, -0.4697880446910858, -7.655253887176514, 4.927857875823975, 3.7161121368408203, -13.117732048034668, -15.27414321899414, -0.6422572135925293, 0.7670997381210327, 2.6604394912719727, 5.481651782989502, -14.318507194519043, -16.864620208740234, 2.254634380340576, -14.49266242980957, 7.672107696533203, -16.909841537475586, 3.00100040435791, 13.765633583068848, 3.03472900390625, 11.974310874938965, 2.9442126750946045, 14.589430809020996, -11.411487579345703, 8.519694328308105, 11.73106575012207, -12.295001029968262, -13.407187461853027, 8.44925308227539, 7.761667728424072, 4.642183303833008, 2.1851110458374023, -10.12569808959961, -14.237252235412598, -0.2809673547744751, 2.9534029960632324, -13.435023307800293, 10.01829719543457, -11.0256986618042, 13.770971298217773, 4.4293341636657715, 6.894596099853516, 11.679967880249023, -17.074024200439453, 6.023533821105957, 4.076413631439209, -11.990638732910156, 4.9709296226501465, 7.230319976806641, -0.09059061855077744, 1.4260001182556152, 11.231029510498047, -11.985116004943848, 8.370109558105469, -14.649065017700195, 5.4858832359313965, -18.06308937072754, 4.872705936431885, 6.754601955413818, 9.742712020874023, -14.905436515808105, 11.542724609375, 2.6952900886535645, 3.290483236312866, 5.828981399536133, 2.9104833602905273, 2.312718152999878, -13.92396068572998, -8.304786682128906, 9.38642692565918, -16.629777908325195, -18.294784545898438, 6.837578773498535, 4.2044806480407715, 12.579472541809082, -13.95388412475586, 5.225870609283447, 1.7842621803283691, -16.116283416748047, 7.974321365356445, 10.238536834716797, 7.385843753814697, 11.953014373779297, -2.64821195602417, -3.0353071689605713, 7.491152286529541, 8.191194534301758, 9.068571090698242, 7.859549045562744, -10.997467994689941, -8.784988403320312, 5.4375410079956055, 6.579333782196045, 0.16025066375732422, 4.435791492462158, 10.790534973144531, -15.27056884765625, -11.35623836517334, -9.597180366516113, 5.604804515838623, 5.025840759277344, 5.269097805023193, 14.75944995880127, -14.248444557189941, -13.502031326293945, 13.030137062072754, -8.714898109436035, -14.246359825134277, 1.9593273401260376, -0.0024585591163486242, 5.528508186340332, 8.598881721496582, 5.546083927154541, 2.7139029502868652, 4.438145637512207, 4.40433931350708, -12.278094291687012, 4.934365749359131, 0.39553147554397583, -0.779971182346344, -15.863739013671875, -15.065110206604004, -13.388815879821777, -9.082460403442383, 11.861870765686035, -15.113227844238281, 7.753065586090088, 9.656399726867676, 11.988155364990234, -15.113913536071777, 6.681092262268066, 3.6848220825195312, -12.116941452026367, -14.437771797180176, 3.1606197357177734, 4.615139007568359, -9.921113014221191, 9.230206489562988, -13.013566017150879, -15.185118675231934, 5.6278300285339355, 15.369729995727539, -9.95300579071045, -14.961276054382324, 3.6194193363189697, 3.160883665084839, 7.7054443359375, 3.331145763397217, 10.229313850402832, 4.252989768981934, 7.264885902404785, 7.237399101257324, -18.284320831298828, -3.160660982131958, 6.704283237457275, 5.788431644439697, 3.4809114933013916, 13.505453109741211, -11.466252326965332, 6.546490669250488, -14.565848350524902, 11.767949104309082, 11.705039978027344, 6.583673477172852, 13.656878471374512, -0.1258072704076767, -16.742778778076172, -11.947021484375, -12.224818229675293, 13.358686447143555, 3.8485774993896484, -9.947562217712402, 3.166703939437866, -2.0743768215179443, -10.459593772888184, 3.3072826862335205, 3.3448197841644287, 0.6885524392127991, 6.993638515472412, 8.74215030670166, 7.938637733459473, 6.844070911407471, 4.4930009841918945, -3.2190723419189453, 11.248888969421387, 9.428266525268555, 1.764265537261963, 2.828279972076416, 7.686616897583008, 3.0835139751434326, 7.539061546325684, -11.241762161254883, -1.5585308074951172, 5.078639507293701, 7.519505023956299, 9.981328010559082, 12.578780174255371, 2.5521252155303955, -13.418281555175781, 11.04122543334961, -13.548421859741211, 2.573760986328125, -9.584364891052246, 3.0104751586914062, 9.105602264404297, -0.7302165031433105, -17.39260482788086, 5.674635887145996, 8.020403861999512, 12.078438758850098, 12.494173049926758, 7.487215042114258, -15.124682426452637, -15.113504409790039, -3.487257480621338, 8.114611625671387, 7.933913230895996, 6.154234886169434, -13.460494995117188, 13.295475006103516, 8.570291519165039, -9.369812965393066, -0.7404769659042358, -15.41489028930664, 0.35199669003486633, 9.901442527770996, 8.20095443725586, -10.968355178833008, -17.488311767578125, 5.394103050231934, 10.30190372467041, -16.42849349975586, 3.007838010787964, -14.311864852905273, 7.019388198852539, 5.850596904754639, -15.393218994140625, -17.731491088867188, 1.9477670192718506, -8.334494590759277, -15.591259002685547, 9.920909881591797, -15.451600074768066, -7.766468524932861, 10.384392738342285, -16.789344787597656, 13.593504905700684, 5.615365505218506, -11.99255084991455, 3.8266258239746094, 2.9851114749908447, -16.201805114746094, 5.319042205810547, -0.07049034535884857, 7.1472907066345215, -14.967495918273926, 12.706847190856934, 2.6616196632385254, 0.9946771264076233, 0.02262856438755989, 2.2756404876708984, -15.800622940063477, 14.555342674255371, -13.974063873291016, 1.460457444190979, 10.369091033935547, 13.231099128723145, 3.833800792694092, 13.102740287780762, 13.025406837463379, 7.869942665100098, -9.831336975097656, 2.6070852279663086, 8.688775062561035, 14.22594928741455, 9.104525566101074, -10.341071128845215, -16.191133499145508, 11.047635078430176, -17.194210052490234, 4.058229446411133, -0.31541287899017334, 2.589539051055908, -15.326637268066406, 6.166178226470947, -11.149346351623535, -9.696573257446289, -15.848213195800781, -13.67417049407959, -9.052933692932129, 3.7663066387176514, -9.539613723754883, 8.61703109741211, -2.465618133544922, 6.3306474685668945, 2.134739398956299, -1.4694020748138428, 0.79788738489151, -0.3243798017501831, -15.178778648376465, 5.091894626617432, 14.210201263427734, -0.5642451047897339, -8.46768569946289, -18.077831268310547, 15.153879165649414, 4.104975700378418, -14.017365455627441, 4.950640678405762, 11.468603134155273, 7.449794769287109, 5.283275127410889, 3.4627604484558105, 4.544569969177246, -1.437074065208435, -16.680679321289062, -11.53210163116455, -13.29934024810791, -17.32240867614746, 12.397412300109863, 1.194765329360962, 10.93818473815918, 2.8838014602661133, 0.3313535153865814, 5.5702900886535645, -14.559233665466309, -10.750060081481934, 13.603075981140137, -10.339096069335938, -12.800091743469238, 2.761441946029663, -17.80977439880371, 2.5978496074676514, 3.6412100791931152, 2.9159610271453857, -8.196484565734863, 9.072840690612793, 6.094500541687012, 15.384897232055664, -12.487382888793945, 6.616333484649658, -9.954341888427734, -9.5077543258667, 5.77168083190918, 10.213159561157227, 1.4400749206542969, -16.023061752319336, 6.74505090713501, 9.17734432220459, 7.097421169281006, -10.27608871459961, 4.422642707824707, -15.256428718566895, -0.3092958629131317, -18.104286193847656, -17.07518768310547, 9.883283615112305, -10.847790718078613, 9.512824058532715, 2.5892021656036377, 13.12626838684082, 2.4263179302215576, -9.722926139831543, -10.63301944732666, -0.0025439374148845673, -10.746745109558105, -12.717103958129883, -15.322134971618652, 4.583184719085693, -15.502434730529785, 8.088824272155762, 11.67529296875, 1.6489336490631104, 0.7178834080696106, -2.903041362762451, 3.420391798019409, -12.132121086120605, 7.5117902755737305, 14.82287311553955, 2.0586538314819336, 0.24160605669021606, 10.059504508972168, 13.032898902893066, -14.553060531616211, 9.820112228393555, 12.504071235656738, 0.4561989903450012, -13.14951229095459, 2.6817827224731445, 7.837247848510742, -11.773533821105957, -15.277811050415039, -9.187231063842773, -17.092227935791016, -11.866009712219238, 0.5238817930221558, -8.62102222442627, 9.278830528259277, -7.581610679626465, 6.289508819580078, -15.026677131652832, -16.862472534179688, 8.408604621887207, 5.022106647491455, -10.990379333496094, -1.6574546098709106, -1.8445810079574585, 1.9084439277648926, 2.9069712162017822, 10.974149703979492, 2.2812514305114746, 0.053721390664577484, 5.02124547958374, 0.6365267634391785, 2.477426767349243, 8.015515327453613, 6.557646751403809, 2.8571319580078125, -13.021594047546387, -15.487261772155762, 10.430041313171387, -17.66063690185547, 2.346541166305542, 2.2727138996124268, 3.8515684604644775, 5.249328136444092, 4.916928291320801, -16.92217445373535, -2.4289050102233887, 2.557955026626587, 3.2211482524871826, 2.868089199066162, -11.675262451171875, 3.797593116760254, -14.188324928283691, 4.758634567260742, 8.464159965515137, -1.7989332675933838, -15.80036735534668, 7.022524833679199, -13.273064613342285, 3.600583076477051, -10.145647048950195, 2.657942295074463, 11.911989212036133, 12.561650276184082, 2.8569512367248535, -13.232072830200195, 13.177619934082031, 4.605792045593262, -16.494943618774414, 1.4047757387161255, 5.801451683044434, -13.72252368927002, -15.51790714263916, 7.813690185546875, 0.9850636124610901, 0.20397493243217468, -8.939882278442383, 4.661388874053955, -13.369925498962402, 5.889998912811279, 5.0358171463012695, 12.882875442504883, 3.051041603088379, 4.8912353515625, 7.605931758880615, 4.506524562835693, -8.406164169311523, 10.861151695251465, 4.602362632751465, -11.131698608398438, -10.075379371643066, 6.406915664672852, -12.876955032348633, 13.021272659301758, 3.5589098930358887, -8.175647735595703, 9.447441101074219, 13.026041984558105, 6.31500244140625, 15.640705108642578, -12.87399673461914, -14.733988761901855, -15.701833724975586, -12.545785903930664, -17.401357650756836, 4.33174467086792, -13.37380313873291, -10.703920364379883, -2.0697081089019775, 2.6218199729919434, 6.3212761878967285, -11.629350662231445, 0.2898651659488678, 4.423070907592773, 0.003501937724649906, -17.982969284057617, 5.887151718139648, 4.054083347320557, -14.029930114746094, -15.43706226348877, 2.1050100326538086, -8.12753963470459, -12.190759658813477, 14.544732093811035, 6.782824993133545, -3.79244327545166, 1.1302825212478638, -6.427534580230713, -4.962121963500977, -10.651766777038574, 1.1237127780914307, 9.261614799499512, -11.355342864990234, 12.98139476776123, 4.521270275115967, -9.31414794921875, -6.4080119132995605, -2.691589593887329, -8.036452293395996, -11.179545402526855, -12.015162467956543, -6.2709126472473145, 4.032128810882568, -16.31495475769043, 4.017813682556152, 6.241358757019043, 3.036038637161255, -12.042834281921387, -0.16097155213356018, 6.116507053375244, 5.403937339782715, -11.103367805480957, 5.091503620147705, 2.134552240371704, 1.523421049118042, -10.635168075561523, -1.7825746536254883, 5.568143844604492, 0.6417267918586731, -11.62637710571289, -15.925515174865723, -16.178197860717773, 7.371291160583496, -16.41337013244629, 4.655264854431152, 13.088810920715332, 13.080920219421387, -14.987329483032227, 3.344681739807129, 5.721524238586426, -14.442069053649902, 14.535030364990234, -14.400837898254395, 7.494446754455566, 10.57506275177002, 13.812515258789062, -0.23657789826393127, 11.472862243652344, 11.112163543701172, -17.89598846435547, 8.37230396270752, -19.017152786254883, 3.5326690673828125, 2.5982043743133545, 1.350730538368225, 8.474035263061523, -0.13771408796310425, 12.927515029907227, 2.5143041610717773, 1.7051362991333008, 5.01486873626709, -0.35809218883514404, 1.4919075965881348, 11.105660438537598, 4.655104160308838, -2.324392318725586, 6.8744587898254395, -15.619834899902344, 6.790836811065674, -8.122004508972168, 3.6874141693115234, 2.3906033039093018, -13.683619499206543, 3.0385868549346924, -11.285835266113281, 5.522982120513916, 12.79594612121582, 2.2844791412353516, 11.572515487670898, -15.548178672790527, 2.5688893795013428, 12.414204597473145, 1.9821735620498657, 3.7778494358062744, 2.3623597621917725, 7.335781097412109, -14.807014465332031, 14.126917839050293, 11.253716468811035, 6.821983337402344, -12.540010452270508, 13.369508743286133, -16.138118743896484, -9.868880271911621, 5.041278839111328, -3.695983648300171, 4.274263858795166, -15.238282203674316, 5.488011360168457, -14.561856269836426, -7.067098617553711, -10.610780715942383, -10.971111297607422, -14.077523231506348, 5.543055057525635, 5.021404266357422, 4.108023643493652, 10.669593811035156, -12.48729133605957, 3.2087724208831787, 0.7464276552200317, -15.347536087036133, 6.921357154846191, -1.9561313390731812, -17.25053596496582, -9.846763610839844, -16.577810287475586, -7.609597682952881, -17.3848819732666, -18.71925163269043, -10.216526985168457, 10.002470970153809, 1.7802423238754272, 8.722159385681152, -11.028100967407227, 7.383810997009277, 9.752410888671875, -9.810768127441406, 2.9184741973876953, 2.274003505706787, -1.8668384552001953, 4.778700351715088, -10.155847549438477, -2.0687875747680664, 9.418994903564453, 1.4274873733520508, 3.743898630142212, 4.098045349121094, 3.4044196605682373, -11.57595157623291, 3.686668872833252, -11.331758499145508, -2.404256582260132, 3.767660140991211, -1.1639949083328247, 0.2040690928697586, 4.519785404205322, -13.63991641998291, 10.146169662475586, 2.587751865386963, -7.721035480499268, -2.145509719848633, -9.957419395446777, 10.387441635131836, 12.851607322692871, -1.4594271183013916, 3.514401435852051, 10.282378196716309, 7.597690582275391, 1.5664252042770386, 1.8371528387069702, -13.62368392944336, -2.7219762802124023, 8.001172065734863, 4.866725921630859, -13.127132415771484, -11.490243911743164, -12.176855087280273, -0.39506086707115173, 7.499754428863525, 0.7226541042327881, -8.881099700927734, -16.887489318847656, -13.420071601867676, -13.13184928894043, 4.130749225616455, -14.296746253967285, 0.7016345858573914, 3.188615322113037, 12.911316871643066, 3.1154613494873047, 5.398107528686523, 7.386918544769287, 5.951851844787598, 12.268954277038574, -15.123176574707031, 0.2696947753429413, -17.932695388793945, -9.280698776245117, 2.87498140335083, -12.863828659057617, 3.4126946926116943, 9.830467224121094, 9.72367000579834, 11.478209495544434, 3.814838409423828, -10.503843307495117, -18.088680267333984, 2.0984339714050293, 6.333429336547852, -11.272783279418945, -12.721784591674805, -2.2346510887145996, -15.164368629455566, 6.645444869995117, 3.9496724605560303, 3.4735825061798096, -3.2883331775665283, 3.7656068801879883, 1.9146391153335571, 6.45299768447876, 4.211935043334961, -19.066085815429688, 9.701261520385742, 12.941707611083984, -15.319920539855957, -11.31353759765625, -14.82967758178711, 9.629877090454102, -13.303481101989746, 6.185640811920166, -11.30394172668457, -12.947752952575684, -1.4851069450378418, 5.295945167541504, -10.173348426818848, 5.7283124923706055, -12.411705017089844, 6.171488285064697, 4.820311546325684, 6.888659477233887, 4.596622467041016, 3.1832573413848877, 3.2436015605926514, -14.22202205657959, -12.60637378692627, 6.237621784210205, 12.433659553527832, -13.075439453125, -12.261138916015625, -9.76305866241455, 0.6274251341819763, 12.897757530212402, 8.288630485534668, -14.194777488708496, 5.511273384094238, 1.7210659980773926, 15.426170349121094, 9.049070358276367, 6.618963718414307, -10.976702690124512, 8.004274368286133, -16.307329177856445, 1.4906177520751953, 3.696099281311035, -17.794883728027344, 3.6834921836853027, 10.554945945739746, 9.146759986877441, -15.734739303588867, 3.8253252506256104, -7.77094030380249, -11.130037307739258, -2.3083202838897705, 5.201228618621826, 10.520255088806152, -15.15301513671875, 10.293539047241211, 1.1792763471603394, -8.005768775939941, -10.543655395507812, -17.64521026611328, -9.141764640808105, 5.371838569641113, 7.4433183670043945, -13.35729694366455, -12.473523139953613, 2.2707324028015137, 8.990182876586914, 3.3841164112091064, -10.076974868774414, -16.830469131469727], \"y\": [5.6916680335998535, -7.357820510864258, 6.935765743255615, -9.508967399597168, 2.7947630882263184, -8.160046577453613, -1.595324993133545, -11.701094627380371, 1.3967431783676147, -5.78125, -5.299560546875, 3.5566322803497314, -2.6819498538970947, 0.9519028067588806, -1.0696183443069458, -10.412959098815918, -2.756392002105713, -6.958095073699951, 7.5889363288879395, -11.411048889160156, -8.499298095703125, 6.393914222717285, 1.73287034034729, 1.6394379138946533, -1.8531209230422974, 2.973489284515381, 3.8637771606445312, -1.1623139381408691, -5.050682544708252, -7.295762538909912, -1.5692280530929565, -7.14998722076416, 2.2826664447784424, -3.9448206424713135, 4.159493446350098, 4.670543670654297, -12.26855182647705, -1.182824730873108, 6.570669651031494, -7.762098789215088, -3.907413959503174, -3.6726558208465576, -0.44829875230789185, 0.18920950591564178, -2.1423537731170654, -11.211509704589844, -2.743321180343628, 1.3793203830718994, 3.6250669956207275, -3.083700180053711, -3.838196277618408, 8.036116600036621, 5.133633613586426, -10.956945419311523, -3.839913845062256, -5.5501885414123535, -6.600496768951416, 5.172314167022705, -4.070671081542969, 2.7264504432678223, 2.643822193145752, -1.7181049585342407, -4.411525726318359, -4.150701522827148, 1.527318000793457, -2.711473226547241, 2.3683433532714844, -6.966330528259277, 2.8886616230010986, -4.907159328460693, -7.224609851837158, -8.405820846557617, 9.59798526763916, -5.516301155090332, 13.513912200927734, 8.455994606018066, 1.0264112949371338, -4.411210536956787, 16.207622528076172, 13.82225227355957, 13.042675971984863, 9.259597778320312, 0.22133669257164001, -2.3894572257995605, -3.325087785720825, -6.1464619636535645, -3.5519654750823975, -5.17519474029541, -4.5576090812683105, 9.504467964172363, 6.6961750984191895, -4.532423496246338, -1.0867365598678589, -1.0596158504486084, -6.080453872680664, -4.654948711395264, 4.005406379699707, -6.133286476135254, -0.305643230676651, 0.3479780852794647, 8.508347511291504, -1.9716124534606934, -5.898192405700684, 5.731040000915527, -6.040625095367432, 10.393753051757812, 0.2702637016773224, -9.858765602111816, 13.806415557861328, -4.486452102661133, 11.441750526428223, 8.651717185974121, -2.3322861194610596, 9.146023750305176, 4.676126003265381, 11.875210762023926, -3.3025546073913574, -0.7559830546379089, -7.211955547332764, -0.8945266604423523, 12.49896240234375, -2.557840347290039, -9.194332122802734, 0.20563139021396637, -0.06515464931726456, -8.11738109588623, -7.540944576263428, -8.640707969665527, -3.894916296005249, -9.166341781616211, -2.494394063949585, 4.388439655303955, -5.399349689483643, -3.0445024967193604, -2.6974222660064697, 6.66102409362793, 2.3680596351623535, -7.356569290161133, -9.168580055236816, -2.717287063598633, -6.025301933288574, 8.67183780670166, 5.734748840332031, 1.5971401929855347, -1.0855902433395386, 12.158941268920898, -8.32958984375, -0.3493640124797821, -8.004010200500488, -0.22375503182411194, 11.036361694335938, 10.364367485046387, -6.052984237670898, 6.040201187133789, 6.744442462921143, 3.5785303115844727, -1.842799186706543, -0.19890806078910828, 14.235885620117188, -4.835513114929199, -3.9522907733917236, 4.849462032318115, 11.51382827758789, 16.668638229370117, -6.783404350280762, -2.0867583751678467, -6.005618572235107, -6.092398166656494, 1.723860263824463, 1.1343820095062256, 0.490254670381546, -6.62452507019043, -3.220721483230591, 4.73284912109375, -2.2924349308013916, -4.307530879974365, -3.242164373397827, 4.806137561798096, -7.801218509674072, -8.540414810180664, -4.285585880279541, -3.761246681213379, -7.313902378082275, -9.06662368774414, -7.145284652709961, -2.2842519283294678, -2.2504289150238037, -2.2258970737457275, 11.03384017944336, 10.14885139465332, -0.8255800604820251, 2.5451433658599854, -5.411894798278809, 5.5406694412231445, -5.66820764541626, -3.752551555633545, -5.345396518707275, -10.38821792602539, 9.2793550491333, -1.0548548698425293, -2.186615467071533, -1.7440564632415771, -6.231373310089111, 0.036414407193660736, 5.837790489196777, -7.1812825202941895, 15.52145767211914, -2.7039053440093994, -4.595954418182373, -8.822660446166992, -1.8581138849258423, -1.777944803237915, -3.6653482913970947, 11.26767349243164, -2.611776351928711, -3.685349464416504, -9.08965015411377, -5.111050128936768, -5.574046611785889, -2.879241704940796, 6.550509452819824, -6.948139190673828, 0.5830851793289185, 14.939183235168457, -4.596548080444336, 14.661171913146973, 0.6962375044822693, 11.118717193603516, -2.3126378059387207, 0.9625415802001953, -3.419560194015503, -1.1220221519470215, -7.415914535522461, -7.711606502532959, 0.41050320863723755, -7.21048641204834, 0.11082004755735397, 10.072346687316895, -8.734785079956055, 5.729519844055176, -3.140702724456787, -7.191191673278809, 3.2238662242889404, -4.777944087982178, -9.633453369140625, -4.303220272064209, 9.17101001739502, 14.364171981811523, 1.2330137491226196, 1.946190595626831, 6.306321620941162, -2.6225898265838623, -7.93947172164917, 4.481128215789795, 11.057663917541504, 0.11284898966550827, 7.039292335510254, -3.2835171222686768, 0.36723655462265015, -1.3098478317260742, 3.6825122833251953, 4.173944473266602, 3.731546640396118, -3.6872034072875977, 6.947234630584717, -4.992860794067383, -7.576757907867432, -5.338430404663086, 13.489577293395996, -9.9574556350708, -8.593812942504883, -4.946325302124023, 7.089192867279053, 3.819653272628784, -6.097241401672363, 3.2381043434143066, -3.6449947357177734, 2.63407826423645, -8.646770477294922, 10.817724227905273, 0.5184430480003357, 3.4225645065307617, 10.812728881835938, 4.363565444946289, 4.201976776123047, -8.052191734313965, -1.4784841537475586, -6.866389751434326, -4.957106113433838, 8.758649826049805, 9.939650535583496, -9.795089721679688, 0.5153513550758362, -7.640561103820801, -2.5664052963256836, -5.70648717880249, -7.419234752655029, 15.603403091430664, -1.2904150485992432, 5.774460315704346, -5.496799468994141, -2.3438057899475098, -5.711994171142578, -9.94388484954834, -5.257438659667969, 11.887925148010254, -6.939087390899658, 11.3494291305542, 1.2605358362197876, -7.6323065757751465, -6.839440822601318, 0.9703065752983093, -3.0020363330841064, 5.044416427612305, -6.311767101287842, 7.271893501281738, 1.0464398860931396, -3.9055168628692627, 13.044357299804688, -5.640192985534668, -6.184139728546143, 8.748607635498047, -8.938542366027832, -4.264501571655273, 13.311431884765625, 6.1214823722839355, -6.589535713195801, -8.465715408325195, -0.07639193534851074, -6.185924530029297, -5.149540901184082, -3.432241678237915, 3.599649667739868, 4.596878528594971, -5.257047653198242, 0.8105213046073914, -8.82630729675293, 6.18566370010376, -2.688682794570923, -1.776421070098877, 6.201961040496826, 11.661275863647461, -6.991137981414795, 5.729473114013672, -10.89074420928955, -0.0646362379193306, -3.2669219970703125, -0.3205111622810364, -7.990943431854248, -4.028064250946045, -2.278684139251709, 6.755869388580322, -1.1384916305541992, -5.3247246742248535, -1.4462875127792358, 11.008183479309082, 3.8227198123931885, -5.590276718139648, -5.547995090484619, 5.54668664932251, -7.2007036209106445, -6.441955089569092, 1.659910798072815, 0.6891427040100098, -8.20811939239502, 11.756958961486816, -5.935033321380615, -2.1318488121032715, -3.1853883266448975, -10.457592010498047, 0.38426002860069275, -3.2408089637756348, 1.7029346227645874, 0.46644127368927, -8.905406951904297, 1.5636264085769653, 12.758723258972168, -6.214992523193359, -5.493696212768555, 7.528679847717285, -5.45267391204834, -1.028404951095581, 11.603029251098633, 10.239713668823242, -7.945737361907959, 3.5603859424591064, 0.7242200970649719, 0.11983434110879898, -2.138698101043701, 9.561796188354492, -2.272122621536255, 4.618554592132568, 6.679775238037109, 10.566556930541992, -0.1720981001853943, -5.2327752113342285, 10.017629623413086, -9.593301773071289, 5.85044002532959, 9.658008575439453, -0.8074394464492798, -3.76701283454895, 0.8927501440048218, -6.789438724517822, -9.96408748626709, -4.634308815002441, 3.3013808727264404, 0.3394083082675934, -3.5755841732025146, -8.85054874420166, -6.828099250793457, 8.739615440368652, -6.970230579376221, 12.279900550842285, -9.978676795959473, -0.8059842586517334, -5.345366477966309, -5.283000469207764, -8.251943588256836, -0.35160648822784424, 9.626389503479004, -1.7729679346084595, -7.2488694190979, -5.997927188873291, 1.1687723398208618, -3.50742769241333, -2.9463999271392822, -5.832880020141602, 8.2112398147583, 0.6456599831581116, 11.336010932922363, -2.3362531661987305, -2.2255055904388428, -6.985361576080322, -6.39977502822876, -3.600656032562256, -1.925381064414978, 1.2083004713058472, 14.203001022338867, 5.62659215927124, 10.601386070251465, 15.65050220489502, 5.324467658996582, -0.6585900187492371, -3.4498960971832275, -3.425701856613159, -6.68606424331665, 3.8760666847229004, 1.6761127710342407, -5.253718852996826, -3.057893991470337, 2.344867467880249, 0.9166157245635986, 12.139863014221191, -3.442031145095825, -7.067735195159912, -3.6211955547332764, 2.7857558727264404, 15.667387008666992, 11.224363327026367, -7.860106468200684, 3.904477834701538, -1.6158463954925537, 11.10935115814209, -1.112361192703247, 6.899419784545898, 13.742897033691406, -8.236111640930176, -2.2490646839141846, 2.044832706451416, 12.996806144714355, -0.2582949995994568, -2.7345783710479736, 8.270098686218262, 1.8461346626281738, -5.0114665031433105, -4.024470806121826, -4.275236129760742, 5.866625785827637, -5.6714863777160645, 0.7537440657615662, -2.9192330837249756, -5.66206693649292, -1.2823091745376587, -2.9757721424102783, -0.28932300209999084, -5.519526958465576, 8.898968696594238, 6.309628486633301, 6.141053676605225, 13.04633617401123, -5.127915382385254, -1.7230546474456787, -5.308176517486572, 2.9334402084350586, -8.033562660217285, -9.536002159118652, -4.341119766235352, 4.399045944213867, 10.1511812210083, -9.10071086883545, -1.2559750080108643, 6.4702301025390625, -4.239334583282471, 7.985610008239746, 5.459327220916748, 15.19322681427002, 0.19223710894584656, 9.799553871154785, -2.8577706813812256, 3.564946174621582, -0.31087106466293335, -7.1869096755981445, -2.099123239517212, 15.91413688659668, 4.80000114440918, 6.510272026062012, 15.706892967224121, -2.1405458450317383, -7.697412490844727, 10.71433162689209, -1.4220709800720215, -1.0522687435150146, -0.6177411675453186, -5.2733049392700195, -4.009220123291016, 9.553786277770996, -2.4631192684173584, -2.2724192142486572, 8.258993148803711, -5.910313129425049, -4.784040451049805, -4.96078634262085, 0.055465515702962875, -3.845364809036255, -6.668368816375732, -8.068233489990234, -0.0537438690662384, 3.8416953086853027, -10.027884483337402, -3.9649498462677, -6.144686222076416, -7.064764499664307, -7.204751968383789, -0.9109278321266174, -7.483807563781738, 11.878743171691895, -6.891448020935059, -7.578256607055664, 11.170074462890625, 4.420279026031494, 4.047468185424805, 3.0053884983062744, 14.271746635437012, 3.421757459640503, -4.318916320800781, -4.030799388885498, 12.210918426513672, -7.379459857940674, 0.00954863615334034, -0.05164112150669098, -6.051130294799805, 3.0981435775756836, -4.046965599060059, -1.2598060369491577, 16.210582733154297, -1.8473693132400513, -1.2685421705245972, -6.837325572967529, -4.670877933502197, 7.103398323059082, -3.8694732189178467, -10.593925476074219, -4.0174360275268555, -7.985013484954834, -7.076404094696045, -5.204530715942383, -5.116357803344727, 5.112205982208252, 13.353981018066406, 8.930643081665039, 13.188551902770996, 0.8730164170265198, -4.7678985595703125, 1.1836613416671753, 15.716507911682129, 7.664361953735352, 1.8809823989868164, -4.086991310119629, -5.717269420623779, -4.581299304962158, 2.5245935916900635, 0.9116533994674683, -10.088066101074219, 0.9595692157745361, 5.9483642578125, -10.026662826538086, -4.160284996032715, -4.588572025299072, -0.36949509382247925, -6.549015998840332, -1.783112645149231, -2.226398468017578, -2.280073881149292, -5.7491278648376465, -9.048894882202148, -8.960088729858398, -3.4735076427459717, -1.351900339126587, -4.757277965545654, -0.6499379873275757, 9.742891311645508, 10.772855758666992, 6.872186183929443, 10.354913711547852, 2.727996349334717, -4.812984943389893, -5.101205825805664, 0.8635010123252869, 7.980705261230469, 1.59559166431427, 4.729727745056152, 6.741942882537842, -1.7565529346466064, -0.1557839810848236, -9.479206085205078, -3.428720235824585, 4.981449127197266, -0.6091604232788086, 11.226908683776855, 4.838021755218506, -9.695531845092773, 14.826643943786621, -0.6011086106300354, 9.32865047454834, 4.06575870513916, 5.758737564086914, 1.4558525085449219, -3.7528233528137207, 1.1179975271224976, 5.946435928344727, -8.648507118225098, -3.7403578758239746, 8.312625885009766, -2.4208104610443115, 12.381640434265137, 3.0522642135620117, 8.182842254638672, -3.7085201740264893, 6.846322536468506, 0.6789717078208923, -2.102203130722046, -1.7195078134536743, -5.8215107917785645, -4.126112461090088, -4.389386177062988, 0.39811134338378906, 4.831022262573242, 0.5395064949989319, -4.6425461769104, -7.144848823547363, 4.2769598960876465, -0.7775653004646301, 6.227752208709717, -6.612375736236572, 0.12855155766010284, -6.643979549407959, -3.3722736835479736, -10.61481761932373, -3.1310064792633057, -3.120227813720703, 11.143829345703125, 6.407067775726318, 0.5276966691017151, -4.495604038238525, 3.60740327835083, -7.996057033538818, -2.822725534439087, -7.437893390655518, -2.958258867263794, 1.6481260061264038, -0.0590098574757576, 6.430030345916748, -3.318124771118164, 2.9278736114501953, -3.10129451751709, 12.861531257629395, 0.36587387323379517, -4.639791011810303, -6.567563533782959, -1.843501091003418, -6.579719543457031, -6.510497570037842, -4.733311176300049, -3.34238600730896, -4.34429931640625, 6.247961521148682, 14.310737609863281, 15.117354393005371, -1.6140958070755005, -4.485294818878174, 15.57968807220459, 0.9965556263923645, -5.05056095123291, 9.28050422668457, -5.760561466217041, -5.39356803894043, -3.273000478744507, 2.6887450218200684, -0.19464710354804993, -3.4692070484161377, 0.07161333411931992, 1.2974879741668701, 2.7596793174743652, 8.772564888000488, -5.481351375579834, -8.253795623779297, -11.261014938354492, 8.764719009399414, -0.7223135828971863, 7.554127216339111, -4.715022563934326, -6.340538024902344, 8.0554838180542, -2.084526777267456, 2.2241640090942383, -4.397429466247559, -3.7464351654052734, -9.633435249328613, -7.671921253204346, -1.977966547012329, 1.1903482675552368, 1.0238322019577026, 0.9434823393821716, -4.486388683319092, -4.074001312255859, 11.362090110778809, 13.694169998168945, 15.446732521057129, -0.03528958559036255, -0.9526954889297485, 4.551382064819336, 4.484628677368164, -0.47861921787261963, 5.857342720031738, 15.445842742919922, 13.50722599029541, -3.3933327198028564, 3.434770107269287, -7.135153293609619, -7.356938362121582, 2.428156614303589, -5.8437910079956055, -5.550334930419922, 1.507561445236206, 5.150818824768066, 13.671768188476562, 3.727449655532837, -2.306124448776245, -0.03999975323677063, -8.298022270202637, 6.499736785888672, 0.7874518632888794, -5.260098457336426, 6.987260818481445, -2.6105570793151855, -4.599302768707275, 2.3234105110168457, -3.7469847202301025, 2.718017101287842, 13.272195816040039, 5.002300262451172, 0.4117374122142792, -3.568990707397461, 5.302990436553955, 2.3238260746002197, -0.6354153156280518, -4.695298194885254, 14.69249439239502, 4.847761631011963, 11.206252098083496, -3.464151620864868, -6.469964981079102, 10.979353904724121, 14.770487785339355, -7.7256388664245605, 4.498398780822754, -5.289159297943115, 16.414390563964844, 14.283968925476074, -10.385263442993164, 10.276066780090332, 0.4681607782840729, 12.120950698852539, -4.836778163909912, -6.455634117126465, 2.6146724224090576, 2.161895513534546, 12.335186958312988, 0.4104926288127899, -3.311230421066284, 0.030288804322481155, -1.5955802202224731, -7.222243309020996, 5.838327407836914, -2.6345465183258057, 4.796824932098389, -5.133790969848633, -6.01022481918335, 0.600203275680542, 1.2850769758224487, -1.5835098028182983, 12.86368465423584, 8.809760093688965, -6.609228134155273, 1.5967459678649902, -5.306713104248047, -9.381694793701172, -3.0048601627349854, -7.324545860290527, -3.9339683055877686, 4.698925018310547, 16.361879348754883, -4.488505840301514, -6.368861675262451, -1.1131657361984253, -5.840244770050049, 14.735342979431152, 6.80809211730957, -4.539617538452148, -3.984966993331909, 6.328094482421875, -3.9088892936706543, -1.4381024837493896, 3.1794493198394775, -5.126619338989258, 0.9411501884460449, 2.6685001850128174, -4.861512660980225, 4.086821556091309, 11.966958045959473, 5.68934440612793, -7.531949520111084, -8.925244331359863, -4.118741512298584, -3.8438117504119873, -7.989725589752197, 12.555951118469238, 11.475008010864258, 0.24415969848632812, -4.306545257568359, 10.957649230957031, 5.210299491882324, 12.025196075439453, -1.8595764636993408, -8.59521484375, -3.0117948055267334, -7.05830717086792, 15.183893203735352, 0.44468849897384644, 7.507137775421143, 13.831077575683594, 0.0008989096386358142, 13.79028606414795, -7.203425407409668, -7.243319511413574, -0.7687880396842957, 14.328164100646973, -6.030322074890137, 8.865432739257812, -6.502048492431641, 4.062814235687256, -3.6026933193206787, 11.961978912353516, -4.702342510223389, 0.9405056238174438, 0.4271673858165741, -5.387382507324219, 4.1533002853393555, 4.579209804534912, 9.738805770874023, 12.269675254821777, 11.01177978515625, -7.1705002784729, -9.72004508972168, -2.8941609859466553, 5.086112976074219, -0.39767539501190186, 6.273948669433594, -0.5754407644271851, 1.0611107349395752, -7.363162994384766, 0.7132703065872192, 10.8466215133667, -8.624978065490723, 9.161361694335938, 7.4354352951049805, -3.77774715423584, -2.6121177673339844, -2.2181684970855713, -6.517909049987793, 3.872419834136963, 2.6866395473480225, -9.053537368774414, 13.2296781539917, 0.2935866713523865, -7.851752758026123, -7.685901641845703, 0.5420407652854919, 14.962977409362793, -5.455584526062012, 1.060657024383545, -1.1687965393066406, 13.936582565307617, 0.12322846800088882, 4.647910118103027, 4.815133094787598, -8.773606300354004, -6.39182710647583, -3.4646668434143066, 10.048331260681152, -5.789331436157227, -0.9700763821601868, 10.344132423400879, -9.211943626403809, 10.66157054901123, -5.465506076812744, 5.094173431396484, -1.6329309940338135, -9.020322799682617, 4.095652103424072, 3.216099500656128, -3.55873703956604, -7.70551872253418, -9.708723068237305, 0.7846097946166992, 3.635108470916748, 5.002684593200684, -7.272134304046631, -3.5235559940338135, 2.9263296127319336, -2.3617308139801025, 15.747907638549805, -4.530649662017822, 12.88448715209961, -0.7508493661880493, 13.239577293395996, 9.735808372497559, -7.910923957824707, -5.362136363983154, 5.542356014251709, 0.028104467317461967, -9.561355590820312, -8.358128547668457, 0.21324719488620758, -5.394608497619629, -3.3869388103485107, -3.599318742752075, -1.345860481262207, -4.457067966461182, -3.7149932384490967, -1.4977482557296753, 4.932796955108643, 15.07112979888916, 5.118244171142578, -0.5441128015518188, -7.08060884475708, 14.5354642868042, -0.9951781034469604, 3.525630235671997, -4.696784973144531, 13.978495597839355, 6.016664505004883, 4.435459613800049, 11.491445541381836, -5.1617536544799805, -5.042769432067871, -3.7703278064727783, 1.025319218635559, -5.101497650146484, -0.7709765434265137, 8.658763885498047, 15.466443061828613, -1.9441531896591187, -4.3470869064331055, -3.8946890830993652, -4.984415054321289, -7.089073657989502, -4.103654861450195, 0.2680705487728119, -5.890800476074219, 12.459200859069824, 12.54483413696289, 4.848002910614014, -2.0506069660186768, 5.391569137573242, -1.5137248039245605, 15.850852012634277, -6.554386615753174, 0.8858231902122498], \"z\": [1.4405373334884644, -5.305055141448975, 3.174105167388916, -6.6527299880981445, 2.171462297439575, -4.6839375495910645, -7.927489280700684, -3.401139497756958, -4.7299485206604, -10.429648399353027, -12.063583374023438, 8.552695274353027, -6.198152542114258, 2.6478166580200195, 4.9337005615234375, 3.3170292377471924, -6.367982387542725, 1.008377194404602, 3.3700945377349854, -4.311075210571289, -4.6183013916015625, 5.933561325073242, -0.40720540285110474, -4.363048076629639, -2.3691444396972656, 6.440086364746094, 7.045616626739502, -5.381892681121826, 2.6307146549224854, 2.7983715534210205, -4.450991153717041, -5.290182590484619, 3.005819082260132, 4.328210353851318, -1.1081293821334839, 6.798145771026611, -4.424494743347168, -5.8615546226501465, 3.4633076190948486, -4.916698932647705, -12.178820610046387, 1.4385309219360352, 2.3048925399780273, -3.179736375808716, 2.2189297676086426, 3.198523998260498, 2.9476118087768555, -4.332943916320801, 8.173705101013184, -0.458728551864624, -7.522730350494385, 3.748853921890259, -0.2472119927406311, 3.1530065536499023, -5.271050453186035, -11.18890380859375, -6.587683200836182, -4.228952407836914, 3.694077730178833, 5.456361293792725, -4.2756028175354, 1.3410204648971558, -4.219189643859863, 1.1118932962417603, 1.7034074068069458, 3.3977413177490234, -4.6288323402404785, 1.6265177726745605, 7.181309223175049, -2.006657600402832, 0.6705528497695923, -3.295847177505493, 2.3320538997650146, -6.842110633850098, 10.345251083374023, 7.3441267013549805, 6.043169021606445, -1.647029161453247, 6.902409553527832, 4.742133617401123, 4.916742324829102, 8.209457397460938, 2.4042320251464844, 1.1425132751464844, -5.429641246795654, -3.3587915897369385, 1.60285484790802, -2.7089970111846924, 1.2981363534927368, 6.271430015563965, 7.355315685272217, -10.141225814819336, 3.459995985031128, -6.925906658172607, -8.602025032043457, -2.7362353801727295, 1.6525853872299194, -0.8913770318031311, -2.551417350769043, 5.079627513885498, 2.708954334259033, -1.7771021127700806, -1.281479001045227, -0.9852027893066406, -4.052133083343506, 4.308739185333252, 2.2207789421081543, 0.3861709237098694, 9.879114151000977, -0.4460286796092987, 7.567419052124023, 3.9482498168945312, -9.88785457611084, 5.6154093742370605, 4.404747009277344, 6.797202110290527, -9.367510795593262, -6.995242595672607, -7.210533618927002, -2.6939446926116943, 6.4502387046813965, 2.1727006435394287, -1.1232861280441284, 0.7177214026451111, 5.066184043884277, -3.698031425476074, -8.62847900390625, -5.428410053253174, -4.755694389343262, -2.7603204250335693, 1.7109051942825317, 0.9526417255401611, -7.2217607498168945, -7.317340850830078, -2.753217935562134, 4.196776390075684, 2.050175189971924, -5.883281707763672, -5.108137607574463, -0.8047264814376831, -7.671433448791504, 7.969933032989502, -1.5737618207931519, 3.471513271331787, -3.7873013019561768, 3.7745866775512695, -1.733332872390747, -2.5891993045806885, -5.413266181945801, 0.5894330739974976, 7.329647064208984, 8.378005981445312, 3.819612979888916, -2.4295802116394043, 4.709647178649902, 1.3611199855804443, 0.7131310105323792, -0.4842669665813446, 9.718547821044922, -6.273648738861084, -9.516530990600586, -3.9010202884674072, 7.215061187744141, 5.449902057647705, -5.649045467376709, -1.458694577217102, -6.909066200256348, 2.026371479034424, 3.687532901763916, 4.477053642272949, 1.6996361017227173, -1.7455248832702637, -3.0514819622039795, 2.5290188789367676, 4.246131896972656, -1.8632066249847412, -4.852429389953613, 2.328840732574463, -5.505928993225098, -5.8096923828125, 3.054131269454956, -0.4760134220123291, -4.087460517883301, 0.903059720993042, 1.8915114402770996, -8.716370582580566, -0.5278549790382385, 2.420222759246826, 4.296973705291748, 7.73009729385376, -2.252110242843628, 4.172754764556885, -10.58895492553711, 3.56948184967041, -6.426461219787598, -9.084848403930664, 2.3088512420654297, -0.1316090077161789, 1.7830336093902588, 5.255442142486572, 0.143227219581604, -0.1880575567483902, -8.425783157348633, 3.111180543899536, 3.3829565048217773, -5.594588279724121, 3.396059036254883, 0.5483666062355042, -0.877234697341919, -7.281879425048828, 3.6135785579681396, -2.841428279876709, -0.3462720811367035, 7.313854694366455, 2.2265591621398926, 1.9372552633285522, -6.603699207305908, -3.1717123985290527, -2.1638500690460205, -2.085228681564331, 3.595050811767578, 0.43011367321014404, 3.863283395767212, 8.911656379699707, -5.095091819763184, 2.90035343170166, 0.860990047454834, 3.310900926589966, -3.0842881202697754, -4.031164646148682, -7.803892612457275, 3.334536075592041, -5.491441249847412, -5.824571132659912, -5.467132091522217, 1.0565260648727417, -5.016610145568848, 7.13624382019043, -5.140487194061279, 1.2557212114334106, 0.7904120087623596, 0.2134467512369156, 1.5512614250183105, -3.642091989517212, -1.8986235857009888, -4.1801981925964355, 5.645219802856445, 6.9499664306640625, 0.49803853034973145, 0.41093409061431885, -3.4132745265960693, -2.422938108444214, -3.1630983352661133, -3.7530300617218018, 3.6700246334075928, -2.6233479976654053, 3.3551981449127197, -4.127713680267334, -4.236006259918213, -4.095700263977051, 1.1704481840133667, -2.716648578643799, 2.9720401763916016, 3.691923141479492, -2.0288941860198975, -3.45317006111145, -5.133425235748291, -7.313327789306641, 9.936699867248535, 0.7688385844230652, 1.491703987121582, -6.799282550811768, 6.406563758850098, 0.6040652394294739, -6.340516567230225, -4.250826358795166, -2.5213308334350586, 4.345522880554199, 0.9244174957275391, 4.348330497741699, 0.8640109896659851, 0.6753581762313843, 3.212681770324707, 4.019833087921143, 4.546586036682129, -1.2298463582992554, -0.7125654816627502, 0.24347679316997528, -4.404776096343994, 1.2287930250167847, 7.198936939239502, 0.5961737632751465, 1.868451476097107, -0.8514872789382935, 1.3084850311279297, -9.447925567626953, -2.2124149799346924, 4.495226860046387, 2.351412773132324, 3.155327081680298, -4.352424621582031, -5.493063449859619, 0.24253252148628235, -2.6609628200531006, -1.7938333749771118, 9.098677635192871, 0.6895430088043213, 7.994782447814941, -2.0171258449554443, 1.9673655033111572, 1.767872929573059, -3.6296825408935547, -0.5346730947494507, 0.987825334072113, 1.0677688121795654, 3.5466268062591553, 4.278871059417725, -5.9255170822143555, 8.9954833984375, -8.25612735748291, -3.6581544876098633, 7.352497577667236, -4.477834701538086, -1.1648799180984497, 3.9644265174865723, 6.056818008422852, -4.366286277770996, -4.2468767166137695, 2.1378896236419678, -2.4706201553344727, -7.44523811340332, -3.547537088394165, -4.30519437789917, 2.4351940155029297, -2.1737096309661865, 4.9195356369018555, -3.5492043495178223, 4.30062198638916, -0.5341745018959045, -3.6521315574645996, 5.0865302085876465, 1.6375293731689453, -7.263118743896484, -3.159212589263916, -3.382795810699463, 2.4206957817077637, -7.781327247619629, -3.5944981575012207, -5.784836292266846, -3.764768362045288, -3.1979899406433105, 6.430958271026611, -4.634100437164307, -6.848081111907959, -0.7276734113693237, 1.475593090057373, -0.5548666715621948, 1.4676345586776733, -1.6432127952575684, 6.600797653198242, -3.837904453277588, 0.2210811823606491, -1.609897255897522, -1.397299885749817, -5.005007266998291, 6.811697959899902, -1.127273440361023, -6.911862373352051, -4.07490873336792, 0.6315712928771973, 3.291064500808716, 0.9476582407951355, 5.80341911315918, 2.130716562271118, -4.518938064575195, 1.792427659034729, 8.80536937713623, -2.3736467361450195, -8.139193534851074, 7.801313877105713, -4.934377670288086, -0.18038064241409302, 9.726391792297363, 1.7869974374771118, -3.10092830657959, 1.9093782901763916, 1.6288853883743286, 1.2842459678649902, 5.106479644775391, 4.034019470214844, -0.1569860875606537, 1.9530569314956665, 8.137824058532715, 7.430599689483643, -4.569173336029053, -6.884258270263672, 4.503671646118164, -1.9578245878219604, 4.798728942871094, 5.128448486328125, -2.4595212936401367, 0.9071900844573975, -3.6954009532928467, -5.031576633453369, -1.0997785329818726, -7.645885467529297, 4.467244625091553, 0.38704046607017517, -6.347624778747559, -2.204277992248535, -2.3294761180877686, 7.613214015960693, -2.7763688564300537, 7.93702507019043, -0.002247807802632451, 2.7905402183532715, -1.0767863988876343, -5.21926736831665, -4.6016011238098145, 2.828226327896118, 3.996659994125366, 3.4227135181427, 0.573582112789154, -4.489676475524902, 4.216092109680176, -3.4636075496673584, -7.363449573516846, -2.0976128578186035, 2.088690757751465, 5.904270648956299, 7.1525678634643555, -9.054659843444824, 0.6612337827682495, -2.4914283752441406, 0.2396581768989563, 3.6555709838867188, -3.9002010822296143, 4.907799243927002, 9.269429206848145, 4.176567554473877, 4.2401251792907715, 6.370286464691162, 4.162050724029541, 6.713491916656494, 0.8974686861038208, -4.849495887756348, -0.004285650327801704, -3.0277843475341797, 0.5892665386199951, 0.09471280872821808, 0.6281537413597107, 2.8460772037506104, 1.0889053344726562, 8.720362663269043, -10.17983341217041, -8.60033130645752, 5.9260406494140625, 1.8430031538009644, 7.471994876861572, 2.567582368850708, -2.603628158569336, 4.51668119430542, 2.3940446376800537, 0.9550961256027222, -2.842033863067627, 7.388673305511475, 10.095479965209961, -0.8675325512886047, -1.7992873191833496, 3.318382740020752, 5.711174011230469, -4.500954627990723, 2.070758819580078, 6.276242256164551, 2.4551539421081543, -6.060981750488281, -8.540735244750977, -3.193561553955078, 2.1373648643493652, -3.313575029373169, -1.2450907230377197, 0.845978856086731, -1.046589732170105, 5.4908576011657715, -9.228323936462402, 5.735236644744873, 3.9530065059661865, 1.6319842338562012, 4.087510108947754, 1.0027008056640625, 6.50485372543335, -9.996273040771484, -4.301097393035889, 0.5370938181877136, 2.2134511470794678, -1.293455719947815, -1.7191160917282104, -7.465112209320068, -2.461756944656372, 5.538683891296387, -4.890506267547607, -4.536739349365234, 6.735960483551025, 1.7532336711883545, 1.7383445501327515, 1.0117336511611938, 9.05359935760498, -4.118937015533447, 1.6658790111541748, -0.09700796008110046, 4.72457218170166, -1.1330939531326294, 1.5583136081695557, -3.0237340927124023, 5.729099750518799, -2.496654510498047, -3.527583122253418, 8.36189079284668, -3.1184840202331543, 0.7158701419830322, 2.511854887008667, 2.581082820892334, -3.30257248878479, 2.2057769298553467, -2.841583728790283, -9.15137004852295, 1.5075860023498535, -5.441781044006348, 4.832817077636719, 4.157406330108643, -1.0681798458099365, -1.121045708656311, -6.736310005187988, 3.6991028785705566, -8.871170043945312, 1.2464189529418945, -3.1279051303863525, 4.129152774810791, 0.1685844212770462, 0.4718136489391327, -2.0862247943878174, -3.7908546924591064, -2.1353189945220947, -5.92345666885376, -3.6014602184295654, -8.315224647521973, 3.82240629196167, -4.039007663726807, -1.2133996486663818, 3.6109306812286377, -0.5320557951927185, 5.284194469451904, 5.5240631103515625, 9.816161155700684, -3.727452516555786, -1.8754981756210327, -6.342341423034668, 10.91627311706543, -4.510952949523926, -2.67519211769104, 6.637768745422363, -2.2174527645111084, -4.046792507171631, -12.201047897338867, -1.5111501216888428, 4.560378074645996, -0.4417959153652191, -4.09760046005249, -11.427789688110352, -10.912907600402832, 2.0192153453826904, -9.877631187438965, -2.4610111713409424, -3.930830717086792, -4.590721130371094, 1.7891321182250977, -5.0604329109191895, -3.598853826522827, 4.006329536437988, 6.813199520111084, 3.7829809188842773, 7.292462348937988, 2.6039164066314697, -5.940279960632324, -1.8258987665176392, 3.3098487854003906, 4.2924604415893555, 2.7233967781066895, -6.183404445648193, -1.26348876953125, 0.7682040333747864, -1.4456722736358643, -2.004352331161499, -1.722266674041748, -4.083353042602539, -1.3711508512496948, -3.720235586166382, -0.23981134593486786, -2.2135748863220215, 6.3535027503967285, -6.186155796051025, 0.5612534880638123, 0.2426588237285614, -8.208305358886719, -2.582505464553833, -5.294760704040527, -3.467904567718506, -3.2039968967437744, -2.4448413848876953, -3.4350619316101074, -3.326706886291504, 6.528127193450928, 3.357755422592163, 5.156088352203369, 1.7952790260314941, -3.487262725830078, 3.190876007080078, 2.1197595596313477, 4.445883750915527, 4.354356288909912, -2.2806813716888428, -1.411027193069458, -2.946002721786499, -3.412327766418457, 2.6571621894836426, -2.0148069858551025, -9.044702529907227, 4.42997932434082, -0.2642613649368286, 1.064629077911377, -1.4994096755981445, -0.5423210263252258, 9.807429313659668, 2.506044864654541, 5.970394134521484, 0.26715272665023804, -1.1331629753112793, -2.5586557388305664, -10.4623384475708, -4.107545375823975, 3.20098876953125, -7.42274284362793, -8.783151626586914, 7.996351718902588, -2.513293743133545, 7.585375785827637, 3.3488404750823975, 4.188597679138184, -1.334144115447998, 7.461101531982422, 0.9193893074989319, -0.5546730756759644, -0.4026746451854706, -6.529209613800049, -1.7613035440444946, -1.601051688194275, 4.118265628814697, 4.34908390045166, 0.5641433596611023, -0.879878044128418, 0.24361638724803925, -0.5975698232650757, -2.7635693550109863, 2.5960354804992676, -3.682705879211426, -5.241311073303223, -4.515133857727051, -7.580685615539551, -0.012799473479390144, -1.3944779634475708, -1.1358814239501953, 1.9539436101913452, -3.719231128692627, -2.9491569995880127, -5.531044960021973, -0.3706033527851105, -6.210430145263672, -8.774547576904297, -3.0980031490325928, -7.2631449699401855, 3.214165687561035, 2.006432294845581, 5.952322959899902, -3.188204288482666, -5.758594512939453, -1.8966209888458252, 4.073310375213623, -2.923470973968506, -10.912907600402832, 1.5503507852554321, -1.52532958984375, 1.1084266901016235, -2.1831376552581787, 4.772037029266357, -9.1705904006958, -5.706209182739258, 7.042807102203369, 3.0242326259613037, 8.662298202514648, -0.4692518711090088, 3.415544033050537, 1.8367652893066406, 2.6427435874938965, 2.6799654960632324, 4.988571643829346, -10.167314529418945, -10.249135971069336, -7.209720611572266, -1.5504109859466553, -3.144984245300293, 4.084561347961426, 0.16719739139080048, 4.523189067840576, 6.448146820068359, -3.0030181407928467, -6.615395545959473, -4.680658340454102, 2.687828779220581, -3.0284736156463623, 3.7826783657073975, 3.349994421005249, -9.139009475708008, 4.363121509552002, 3.763725519180298, 1.1303801536560059, 2.971954822540283, 0.005491186399012804, -5.442523002624512, -5.582342147827148, -4.834103584289551, 3.3370494842529297, 6.767716407775879, -2.8986666202545166, -3.503554344177246, 5.817902088165283, -10.975753784179688, 7.105978488922119, 5.048765659332275, 5.470305919647217, -2.1217265129089355, 1.0155647993087769, 6.360652923583984, 5.29641580581665, -4.8367085456848145, 4.922884941101074, 4.728909015655518, 5.104063510894775, -9.043227195739746, 1.9417176246643066, 0.025964384898543358, -4.8029303550720215, 5.493636608123779, -8.898959159851074, -6.479147911071777, -0.017196621745824814, 2.7188496589660645, 4.532200813293457, -2.9425530433654785, -2.8359782695770264, -4.102462291717529, 0.9442247152328491, -3.8566172122955322, 1.591968297958374, -2.5157337188720703, 3.2052879333496094, -7.236262321472168, -7.738440990447998, 5.166253089904785, -6.221494197845459, 4.76904296875, 4.58523416519165, 2.3062658309936523, -3.1570992469787598, -7.543767929077148, 5.862846374511719, -2.095966339111328, -0.2849416434764862, 3.3250229358673096, 9.941408157348633, 4.4957780838012695, 7.933328628540039, -7.670970439910889, -2.098330020904541, 7.02977991104126, 6.3180460929870605, 0.726431667804718, -4.137402057647705, -5.712961196899414, 4.912642002105713, 2.078488349914551, -0.6508886814117432, 6.201407432556152, -3.743490219116211, 9.798782348632812, -7.1860551834106445, -4.360017776489258, -0.19039250910282135, 1.034780740737915, 7.681626796722412, -2.746479034423828, 0.6098446249961853, 0.23045049607753754, 4.591788291931152, -5.850513458251953, 1.7068958282470703, -1.7979975938796997, -2.938044548034668, -2.00434947013855, -8.280874252319336, 4.261668682098389, 4.32435941696167, -5.384559154510498, 9.677021026611328, 4.134597301483154, -2.568080186843872, 0.6040423512458801, -0.5448822975158691, -1.5319699048995972, -4.25651216506958, -4.519127368927002, -12.300276756286621, 0.6389577984809875, 4.7746171951293945, -2.7389633655548096, 1.8580958843231201, -4.857786655426025, -8.404495239257812, 5.298707962036133, 7.64301061630249, -1.3124608993530273, -1.629846215248108, 7.068814277648926, -3.223686933517456, -4.2739458084106445, 1.5866830348968506, -3.0621750354766846, 6.868156909942627, 3.669318914413452, -12.030052185058594, -2.774030923843384, 7.410999774932861, -0.9547898769378662, -4.885119438171387, 0.9464971423149109, -5.8459930419921875, -7.609598636627197, -1.2141071557998657, 7.293015480041504, 6.88487434387207, 5.00033712387085, -6.281946182250977, 3.4978249073028564, -2.862562656402588, 6.911950588226318, 4.717241287231445, 1.0742286443710327, 2.114119291305542, -9.155187606811523, 3.8925535678863525, -3.9413061141967773, 4.040257930755615, 3.8005173206329346, -2.107215166091919, 5.143013000488281, 0.897655189037323, -5.761794090270996, -7.308699131011963, 2.5258419513702393, -3.003260850906372, 7.188621997833252, -11.149182319641113, -0.5457861423492432, 1.4742523431777954, 6.462344169616699, -8.802264213562012, 2.7585742473602295, -4.720319747924805, 1.378118634223938, 2.6460273265838623, 3.14131760597229, 7.940781116485596, 7.656937122344971, 2.0066192150115967, -3.462869167327881, -1.918262004852295, -9.521574974060059, 4.743790149688721, 2.099552631378174, 2.9816622734069824, -3.3270199298858643, 3.9104597568511963, 1.6792329549789429, 3.375288486480713, 2.7190070152282715, 1.9874191284179688, 7.886572360992432, 4.722257614135742, -2.7625732421875, 5.138717174530029, -3.524019241333008, 0.7049497961997986, -2.9827663898468018, -1.1450082063674927, -1.9334886074066162, 4.059768199920654, 2.655541181564331, -2.1890974044799805, -6.050306797027588, 3.0036675930023193, 8.977564811706543, 0.3237367868423462, 2.867685079574585, 3.719719648361206, 10.40145206451416, -2.89460825920105, 4.563104629516602, 1.2887921333312988, -1.6299837827682495, -9.471466064453125, -10.463167190551758, 3.2496395111083984, -7.243334770202637, -3.080040693283081, 5.36965799331665, 0.5569716095924377, 7.39410400390625, -6.213479042053223, 2.085012674331665, 2.525576591491699, 0.9856126308441162, 4.375848293304443, -1.4845399856567383, 2.2528076171875, -0.426916241645813, -2.676068067550659, 5.42250394821167, 1.7812535762786865, 3.863748073577881, -5.206206321716309, -11.934391975402832, 4.82229471206665, 2.1878960132598877, 6.089600086212158, -7.525559425354004, 8.072611808776855, -2.2426843643188477, 6.244629383087158, 7.406859397888184, 0.6066053509712219, -6.449388027191162, 2.111577272415161, 0.24463734030723572, -1.6296106576919556, -5.080453395843506, 0.8807908892631531, -1.0439517498016357, -9.381607055664062, -0.8579851388931274, -4.5263566970825195, 1.9566223621368408, -6.163414478302002, 3.4075562953948975, 2.011073350906372, 7.856391429901123, 4.156613826751709, -1.3609074354171753, -0.37661540508270264, 10.483630180358887, -1.89667809009552, -3.7304799556732178, -1.9269967079162598, 7.1282429695129395, 5.373288631439209, 4.901129245758057, 4.555692672729492, -4.834780216217041, -3.0238425731658936, -2.70802640914917, -2.8715341091156006, -5.50703239440918, -2.803386688232422, 2.795422077178955, 3.759263038635254, -8.279359817504883, -2.7321062088012695, 1.1599276065826416, 1.305618405342102, -1.942750334739685, -10.410051345825195, 5.970611572265625, -5.749383926391602, 10.004181861877441, 7.429744720458984, 3.935856580734253, -3.089564085006714, 3.1374480724334717, -2.503798484802246, 4.789221286773682, -2.720837354660034, 6.879466533660889]}],\n",
       "                        {\"coloraxis\": {\"colorbar\": {\"title\": {\"text\": \"Label\"}}, \"colorscale\": [[0.0, \"#0d0887\"], [0.1111111111111111, \"#46039f\"], [0.2222222222222222, \"#7201a8\"], [0.3333333333333333, \"#9c179e\"], [0.4444444444444444, \"#bd3786\"], [0.5555555555555556, \"#d8576b\"], [0.6666666666666666, \"#ed7953\"], [0.7777777777777778, \"#fb9f3a\"], [0.8888888888888888, \"#fdca26\"], [1.0, \"#f0f921\"]]}, \"height\": 800, \"legend\": {\"tracegroupgap\": 0}, \"scene\": {\"domain\": {\"x\": [0.0, 1.0], \"y\": [0.0, 1.0]}, \"xaxis\": {\"title\": {\"text\": \"0\"}}, \"yaxis\": {\"title\": {\"text\": \"1\"}}, \"zaxis\": {\"title\": {\"text\": \"2\"}}}, \"template\": {\"data\": {\"bar\": [{\"error_x\": {\"color\": \"#2a3f5f\"}, \"error_y\": {\"color\": \"#2a3f5f\"}, \"marker\": {\"line\": {\"color\": \"#E5ECF6\", \"width\": 0.5}}, \"type\": \"bar\"}], \"barpolar\": [{\"marker\": {\"line\": {\"color\": \"#E5ECF6\", \"width\": 0.5}}, \"type\": \"barpolar\"}], \"carpet\": [{\"aaxis\": {\"endlinecolor\": \"#2a3f5f\", \"gridcolor\": \"white\", \"linecolor\": \"white\", \"minorgridcolor\": \"white\", \"startlinecolor\": \"#2a3f5f\"}, \"baxis\": {\"endlinecolor\": \"#2a3f5f\", \"gridcolor\": \"white\", \"linecolor\": \"white\", \"minorgridcolor\": \"white\", \"startlinecolor\": \"#2a3f5f\"}, \"type\": \"carpet\"}], \"choropleth\": [{\"colorbar\": {\"outlinewidth\": 0, \"ticks\": \"\"}, \"type\": \"choropleth\"}], \"contour\": [{\"colorbar\": {\"outlinewidth\": 0, \"ticks\": \"\"}, \"colorscale\": [[0.0, \"#0d0887\"], [0.1111111111111111, \"#46039f\"], [0.2222222222222222, \"#7201a8\"], [0.3333333333333333, \"#9c179e\"], [0.4444444444444444, \"#bd3786\"], [0.5555555555555556, \"#d8576b\"], [0.6666666666666666, \"#ed7953\"], [0.7777777777777778, \"#fb9f3a\"], [0.8888888888888888, \"#fdca26\"], [1.0, \"#f0f921\"]], \"type\": \"contour\"}], \"contourcarpet\": [{\"colorbar\": {\"outlinewidth\": 0, \"ticks\": \"\"}, \"type\": \"contourcarpet\"}], \"heatmap\": [{\"colorbar\": {\"outlinewidth\": 0, \"ticks\": \"\"}, \"colorscale\": [[0.0, \"#0d0887\"], [0.1111111111111111, \"#46039f\"], [0.2222222222222222, \"#7201a8\"], [0.3333333333333333, \"#9c179e\"], [0.4444444444444444, \"#bd3786\"], [0.5555555555555556, \"#d8576b\"], [0.6666666666666666, \"#ed7953\"], [0.7777777777777778, \"#fb9f3a\"], [0.8888888888888888, \"#fdca26\"], [1.0, \"#f0f921\"]], \"type\": \"heatmap\"}], \"heatmapgl\": [{\"colorbar\": {\"outlinewidth\": 0, \"ticks\": \"\"}, \"colorscale\": [[0.0, \"#0d0887\"], [0.1111111111111111, \"#46039f\"], [0.2222222222222222, \"#7201a8\"], [0.3333333333333333, \"#9c179e\"], [0.4444444444444444, \"#bd3786\"], [0.5555555555555556, \"#d8576b\"], [0.6666666666666666, \"#ed7953\"], [0.7777777777777778, \"#fb9f3a\"], [0.8888888888888888, \"#fdca26\"], [1.0, \"#f0f921\"]], \"type\": \"heatmapgl\"}], \"histogram\": [{\"marker\": {\"colorbar\": {\"outlinewidth\": 0, \"ticks\": \"\"}}, \"type\": \"histogram\"}], \"histogram2d\": [{\"colorbar\": {\"outlinewidth\": 0, \"ticks\": \"\"}, \"colorscale\": [[0.0, \"#0d0887\"], [0.1111111111111111, \"#46039f\"], [0.2222222222222222, \"#7201a8\"], [0.3333333333333333, \"#9c179e\"], [0.4444444444444444, \"#bd3786\"], [0.5555555555555556, \"#d8576b\"], [0.6666666666666666, \"#ed7953\"], [0.7777777777777778, \"#fb9f3a\"], [0.8888888888888888, \"#fdca26\"], [1.0, \"#f0f921\"]], \"type\": \"histogram2d\"}], \"histogram2dcontour\": [{\"colorbar\": {\"outlinewidth\": 0, \"ticks\": \"\"}, \"colorscale\": [[0.0, \"#0d0887\"], [0.1111111111111111, \"#46039f\"], [0.2222222222222222, \"#7201a8\"], [0.3333333333333333, \"#9c179e\"], [0.4444444444444444, \"#bd3786\"], [0.5555555555555556, \"#d8576b\"], [0.6666666666666666, \"#ed7953\"], [0.7777777777777778, \"#fb9f3a\"], [0.8888888888888888, \"#fdca26\"], [1.0, \"#f0f921\"]], \"type\": \"histogram2dcontour\"}], \"mesh3d\": [{\"colorbar\": {\"outlinewidth\": 0, \"ticks\": \"\"}, \"type\": \"mesh3d\"}], \"parcoords\": [{\"line\": {\"colorbar\": {\"outlinewidth\": 0, \"ticks\": \"\"}}, \"type\": \"parcoords\"}], \"pie\": [{\"automargin\": true, \"type\": \"pie\"}], \"scatter\": [{\"marker\": {\"colorbar\": {\"outlinewidth\": 0, \"ticks\": \"\"}}, \"type\": \"scatter\"}], \"scatter3d\": [{\"line\": {\"colorbar\": {\"outlinewidth\": 0, \"ticks\": \"\"}}, \"marker\": {\"colorbar\": {\"outlinewidth\": 0, \"ticks\": \"\"}}, \"type\": \"scatter3d\"}], \"scattercarpet\": [{\"marker\": {\"colorbar\": {\"outlinewidth\": 0, \"ticks\": \"\"}}, \"type\": \"scattercarpet\"}], \"scattergeo\": [{\"marker\": {\"colorbar\": {\"outlinewidth\": 0, \"ticks\": \"\"}}, \"type\": \"scattergeo\"}], \"scattergl\": [{\"marker\": {\"colorbar\": {\"outlinewidth\": 0, \"ticks\": \"\"}}, \"type\": \"scattergl\"}], \"scattermapbox\": [{\"marker\": {\"colorbar\": {\"outlinewidth\": 0, \"ticks\": \"\"}}, \"type\": \"scattermapbox\"}], \"scatterpolar\": [{\"marker\": {\"colorbar\": {\"outlinewidth\": 0, \"ticks\": \"\"}}, \"type\": \"scatterpolar\"}], \"scatterpolargl\": [{\"marker\": {\"colorbar\": {\"outlinewidth\": 0, \"ticks\": \"\"}}, \"type\": \"scatterpolargl\"}], \"scatterternary\": [{\"marker\": {\"colorbar\": {\"outlinewidth\": 0, \"ticks\": \"\"}}, \"type\": \"scatterternary\"}], \"surface\": [{\"colorbar\": {\"outlinewidth\": 0, \"ticks\": \"\"}, \"colorscale\": [[0.0, \"#0d0887\"], [0.1111111111111111, \"#46039f\"], [0.2222222222222222, \"#7201a8\"], [0.3333333333333333, \"#9c179e\"], [0.4444444444444444, \"#bd3786\"], [0.5555555555555556, \"#d8576b\"], [0.6666666666666666, \"#ed7953\"], [0.7777777777777778, \"#fb9f3a\"], [0.8888888888888888, \"#fdca26\"], [1.0, \"#f0f921\"]], \"type\": \"surface\"}], \"table\": [{\"cells\": {\"fill\": {\"color\": \"#EBF0F8\"}, \"line\": {\"color\": \"white\"}}, \"header\": {\"fill\": {\"color\": \"#C8D4E3\"}, \"line\": {\"color\": \"white\"}}, \"type\": \"table\"}]}, \"layout\": {\"annotationdefaults\": {\"arrowcolor\": \"#2a3f5f\", \"arrowhead\": 0, \"arrowwidth\": 1}, \"coloraxis\": {\"colorbar\": {\"outlinewidth\": 0, \"ticks\": \"\"}}, \"colorscale\": {\"diverging\": [[0, \"#8e0152\"], [0.1, \"#c51b7d\"], [0.2, \"#de77ae\"], [0.3, \"#f1b6da\"], [0.4, \"#fde0ef\"], [0.5, \"#f7f7f7\"], [0.6, \"#e6f5d0\"], [0.7, \"#b8e186\"], [0.8, \"#7fbc41\"], [0.9, \"#4d9221\"], [1, \"#276419\"]], \"sequential\": [[0.0, \"#0d0887\"], [0.1111111111111111, \"#46039f\"], [0.2222222222222222, \"#7201a8\"], [0.3333333333333333, \"#9c179e\"], [0.4444444444444444, \"#bd3786\"], [0.5555555555555556, \"#d8576b\"], [0.6666666666666666, \"#ed7953\"], [0.7777777777777778, \"#fb9f3a\"], [0.8888888888888888, \"#fdca26\"], [1.0, \"#f0f921\"]], \"sequentialminus\": [[0.0, \"#0d0887\"], [0.1111111111111111, \"#46039f\"], [0.2222222222222222, \"#7201a8\"], [0.3333333333333333, \"#9c179e\"], [0.4444444444444444, \"#bd3786\"], [0.5555555555555556, \"#d8576b\"], [0.6666666666666666, \"#ed7953\"], [0.7777777777777778, \"#fb9f3a\"], [0.8888888888888888, \"#fdca26\"], [1.0, \"#f0f921\"]]}, \"colorway\": [\"#636efa\", \"#EF553B\", \"#00cc96\", \"#ab63fa\", \"#FFA15A\", \"#19d3f3\", \"#FF6692\", \"#B6E880\", \"#FF97FF\", \"#FECB52\"], \"font\": {\"color\": \"#2a3f5f\"}, \"geo\": {\"bgcolor\": \"white\", \"lakecolor\": \"white\", \"landcolor\": \"#E5ECF6\", \"showlakes\": true, \"showland\": true, \"subunitcolor\": \"white\"}, \"hoverlabel\": {\"align\": \"left\"}, \"hovermode\": \"closest\", \"mapbox\": {\"style\": \"light\"}, \"paper_bgcolor\": \"white\", \"plot_bgcolor\": \"#E5ECF6\", \"polar\": {\"angularaxis\": {\"gridcolor\": \"white\", \"linecolor\": \"white\", \"ticks\": \"\"}, \"bgcolor\": \"#E5ECF6\", \"radialaxis\": {\"gridcolor\": \"white\", \"linecolor\": \"white\", \"ticks\": \"\"}}, \"scene\": {\"xaxis\": {\"backgroundcolor\": \"#E5ECF6\", \"gridcolor\": \"white\", \"gridwidth\": 2, \"linecolor\": \"white\", \"showbackground\": true, \"ticks\": \"\", \"zerolinecolor\": \"white\"}, \"yaxis\": {\"backgroundcolor\": \"#E5ECF6\", \"gridcolor\": \"white\", \"gridwidth\": 2, \"linecolor\": \"white\", \"showbackground\": true, \"ticks\": \"\", \"zerolinecolor\": \"white\"}, \"zaxis\": {\"backgroundcolor\": \"#E5ECF6\", \"gridcolor\": \"white\", \"gridwidth\": 2, \"linecolor\": \"white\", \"showbackground\": true, \"ticks\": \"\", \"zerolinecolor\": \"white\"}}, \"shapedefaults\": {\"line\": {\"color\": \"#2a3f5f\"}}, \"ternary\": {\"aaxis\": {\"gridcolor\": \"white\", \"linecolor\": \"white\", \"ticks\": \"\"}, \"baxis\": {\"gridcolor\": \"white\", \"linecolor\": \"white\", \"ticks\": \"\"}, \"bgcolor\": \"#E5ECF6\", \"caxis\": {\"gridcolor\": \"white\", \"linecolor\": \"white\", \"ticks\": \"\"}}, \"title\": {\"x\": 0.05}, \"xaxis\": {\"automargin\": true, \"gridcolor\": \"white\", \"linecolor\": \"white\", \"ticks\": \"\", \"title\": {\"standoff\": 15}, \"zerolinecolor\": \"white\", \"zerolinewidth\": 2}, \"yaxis\": {\"automargin\": true, \"gridcolor\": \"white\", \"linecolor\": \"white\", \"ticks\": \"\", \"title\": {\"standoff\": 15}, \"zerolinecolor\": \"white\", \"zerolinewidth\": 2}}}, \"title\": {\"text\": \"3d TSNE Plot for Outliers\"}, \"width\": 900},\n",
       "                        {\"responsive\": true}\n",
       "                    ).then(function(){\n",
       "                            \n",
       "var gd = document.getElementById('4e596a1a-c6e2-473b-981e-e9a958aa336e');\n",
       "var x = new MutationObserver(function (mutations, observer) {{\n",
       "        var display = window.getComputedStyle(gd).display;\n",
       "        if (!display || display === 'none') {{\n",
       "            console.log([gd, 'removed!']);\n",
       "            Plotly.purge(gd);\n",
       "            observer.disconnect();\n",
       "        }}\n",
       "}});\n",
       "\n",
       "// Listen for the removal of the full notebook cells\n",
       "var notebookContainer = gd.closest('#notebook-container');\n",
       "if (notebookContainer) {{\n",
       "    x.observe(notebookContainer, {childList: true});\n",
       "}}\n",
       "\n",
       "// Listen for the clearing of the current output cell\n",
       "var outputEl = gd.closest('.output');\n",
       "if (outputEl) {{\n",
       "    x.observe(outputEl, {childList: true});\n",
       "}}\n",
       "\n",
       "                        })\n",
       "                };\n",
       "                });\n",
       "            </script>\n",
       "        </div>"
      ]
     },
     "metadata": {},
     "output_type": "display_data"
    }
   ],
   "source": [
    "plot_model(iforest)"
   ]
  },
  {
   "cell_type": "code",
   "execution_count": 9,
   "metadata": {},
   "outputs": [
    {
     "data": {
      "text/html": [
       "        <script type=\"text/javascript\">\n",
       "        window.PlotlyConfig = {MathJaxConfig: 'local'};\n",
       "        if (window.MathJax) {MathJax.Hub.Config({SVG: {font: \"STIX-Web\"}});}\n",
       "        if (typeof require !== 'undefined') {\n",
       "        require.undef(\"plotly\");\n",
       "        requirejs.config({\n",
       "            paths: {\n",
       "                'plotly': ['https://cdn.plot.ly/plotly-latest.min']\n",
       "            }\n",
       "        });\n",
       "        require(['plotly'], function(Plotly) {\n",
       "            window._Plotly = Plotly;\n",
       "        });\n",
       "        }\n",
       "        </script>\n",
       "        "
      ]
     },
     "metadata": {},
     "output_type": "display_data"
    },
    {
     "data": {
      "application/vnd.plotly.v1+json": {
       "config": {
        "plotlyServerURL": "https://plot.ly"
       },
       "data": [
        {
         "customdata": [
          [
           0.263995357
          ],
          [
           0.546092303
          ],
          [
           0.33671410399999996
          ],
          [
           0.092107835
          ],
          [
           0.325261175
          ],
          [
           0.212464853
          ],
          [
           0.258565714
          ],
          [
           0.869236755
          ],
          [
           0.197077957
          ],
          [
           0.292984504
          ],
          [
           0.82178316
          ],
          [
           0.796622959
          ],
          [
           0.045577010999999994
          ],
          [
           0.613660351
          ],
          [
           0.9507445659999999
          ],
          [
           0.33634633700000005
          ],
          [
           0.034440667
          ],
          [
           0.741544275
          ],
          [
           0.18443265
          ],
          [
           0.664514943
          ],
          [
           0.16282485800000002
          ],
          [
           0.729838445
          ],
          [
           0.62837389
          ],
          [
           0.057883660999999996
          ],
          [
           0.445534827
          ],
          [
           0.80183695
          ],
          [
           0.27709612
          ],
          [
           0.228634015
          ],
          [
           0.834860657
          ],
          [
           0.6697665110000001
          ],
          [
           0.532527349
          ],
          [
           0.17045907100000002
          ],
          [
           0.5102884679999999
          ],
          [
           0.977561989
          ],
          [
           0.249775993
          ],
          [
           0.9755006820000001
          ],
          [
           0.613701727
          ],
          [
           0.16742036300000002
          ],
          [
           0.537472516
          ],
          [
           0.379899131
          ],
          [
           0.633897303
          ],
          [
           0.633960424
          ],
          [
           0.5499746529999999
          ],
          [
           0.178172988
          ],
          [
           0.85563814
          ],
          [
           0.321796672
          ],
          [
           0.8174905370000001
          ],
          [
           0.254879417
          ],
          [
           0.344140513
          ],
          [
           0.8061457259999999
          ],
          [
           0.27708167100000003
          ],
          [
           0.544328519
          ],
          [
           0.07708393
          ],
          [
           0.273081458
          ],
          [
           0.390877336
          ],
          [
           0.349621385
          ],
          [
           0.214549744
          ],
          [
           0.206075222
          ],
          [
           0.86461997
          ],
          [
           0.9817088540000001
          ],
          [
           0.33482964600000004
          ],
          [
           0.648387061
          ],
          [
           0.093643561
          ],
          [
           0.837802698
          ],
          [
           0.7603439670000001
          ],
          [
           0.29140417399999996
          ],
          [
           0.3413454
          ],
          [
           0.7611124840000001
          ],
          [
           0.541899775
          ],
          [
           0.684176639
          ],
          [
           0.983535597
          ],
          [
           0.52081245
          ],
          [
           0.328227724
          ],
          [
           0.09715793800000001
          ],
          [
           0.876088593
          ],
          [
           0.870214512
          ],
          [
           0.656086992
          ],
          [
           0.306791514
          ],
          [
           0.48126734
          ],
          [
           0.259559174
          ],
          [
           0.326123655
          ],
          [
           0.930568042
          ],
          [
           0.6583894
          ],
          [
           0.689992335
          ],
          [
           0.315781109
          ],
          [
           0.5669050929999999
          ],
          [
           0.637526619
          ],
          [
           0.687540723
          ],
          [
           0.324300602
          ],
          [
           0.592704906
          ],
          [
           0.7402531259999999
          ],
          [
           0.5940328770000001
          ],
          [
           0.596452977
          ],
          [
           0.27768081699999997
          ],
          [
           0.258329663
          ],
          [
           0.142460864
          ],
          [
           0.435533461
          ],
          [
           0.7024990440000001
          ],
          [
           0.58897535
          ],
          [
           0.653304374
          ],
          [
           0.336968524
          ],
          [
           0.631244736
          ],
          [
           0.73530076
          ],
          [
           0.050390366
          ],
          [
           0.064264924
          ],
          [
           0.665359476
          ],
          [
           0.917835245
          ],
          [
           0.44651012
          ],
          [
           0.661938199
          ],
          [
           0.43935985299999997
          ],
          [
           0.6875724040000001
          ],
          [
           0.363462248
          ],
          [
           0.6542621820000001
          ],
          [
           0.578553536
          ],
          [
           0.065927945
          ],
          [
           0.550148559
          ],
          [
           0.13918281400000002
          ],
          [
           0.080004635
          ],
          [
           0.278228358
          ],
          [
           0.560124266
          ],
          [
           0.53639864
          ],
          [
           0.42653190399999996
          ],
          [
           0.789109796
          ],
          [
           0.742900474
          ],
          [
           0.901692589
          ],
          [
           0.650337401
          ],
          [
           0.114057311
          ],
          [
           0.260812592
          ],
          [
           0.43991232
          ],
          [
           0.964409284
          ],
          [
           0.184401415
          ],
          [
           0.345145446
          ],
          [
           0.17589458100000002
          ],
          [
           0.312514453
          ],
          [
           0.674131879
          ],
          [
           0.32825045
          ],
          [
           0.598231057
          ],
          [
           0.09259881699999999
          ],
          [
           0.497916521
          ],
          [
           0.419776521
          ],
          [
           0.31217670000000003
          ],
          [
           0.937857107
          ],
          [
           0.049030963
          ],
          [
           0.47610452600000003
          ],
          [
           0.447397526
          ],
          [
           0.295806058
          ],
          [
           0.737363977
          ],
          [
           0.625896253
          ],
          [
           0.408813429
          ],
          [
           0.437511156
          ],
          [
           0.691351375
          ],
          [
           0.935555275
          ],
          [
           0.437846654
          ],
          [
           0.072217715
          ],
          [
           0.67636067
          ],
          [
           0.468883999
          ],
          [
           0.543820644
          ],
          [
           0.6555226470000001
          ],
          [
           0.6935289240000001
          ],
          [
           0.10887831199999999
          ],
          [
           0.285463743
          ],
          [
           0
          ],
          [
           0.706495497
          ],
          [
           0.273530633
          ],
          [
           0.292320271
          ],
          [
           0.673984307
          ],
          [
           0.12612182800000002
          ],
          [
           0.9467074590000001
          ],
          [
           0.9363388979999999
          ],
          [
           0.8537553640000001
          ],
          [
           0.7060713609999999
          ],
          [
           0.693682186
          ],
          [
           0.508527882
          ],
          [
           0.34717038899999997
          ],
          [
           0.704154263
          ],
          [
           0.658730088
          ],
          [
           0.155841557
          ],
          [
           0.311085435
          ],
          [
           0.281135347
          ],
          [
           0.094587802
          ],
          [
           0.6832609540000001
          ],
          [
           0.9077292509999999
          ],
          [
           0.29151267399999997
          ],
          [
           0.752734459
          ],
          [
           0.93482964
          ],
          [
           0.071413953
          ],
          [
           0.5948963270000001
          ],
          [
           0.404672015
          ],
          [
           0.13837621
          ],
          [
           0.7473384679999999
          ],
          [
           0.530882486
          ],
          [
           0.282649594
          ],
          [
           0.699335734
          ],
          [
           0.056111250999999994
          ],
          [
           0.855234998
          ],
          [
           0.07789512700000001
          ],
          [
           0.891649583
          ],
          [
           0.38674227899999997
          ],
          [
           0.27113158
          ],
          [
           0.958888961
          ],
          [
           0.085120869
          ],
          [
           0.5269022489999999
          ],
          [
           0.066577785
          ],
          [
           0.841506738
          ],
          [
           0.255342095
          ],
          [
           0.060545771
          ],
          [
           0.073385869
          ],
          [
           0.187493723
          ],
          [
           0.858365688
          ],
          [
           0.090640352
          ],
          [
           0.7097252270000001
          ],
          [
           0.631300647
          ],
          [
           0.24750447399999997
          ],
          [
           0.822843584
          ],
          [
           0.373476759
          ],
          [
           0.625538582
          ],
          [
           0.292951715
          ],
          [
           0.299730324
          ],
          [
           0.25121407
          ],
          [
           0.344480551
          ],
          [
           0.293064767
          ],
          [
           0.7628032240000001
          ],
          [
           0.7384708040000001
          ],
          [
           0.674883265
          ],
          [
           0.719151612
          ],
          [
           0.13098021599999998
          ],
          [
           0.511328036
          ],
          [
           0.04492903
          ],
          [
           0.560914449
          ],
          [
           0.7440406409999999
          ],
          [
           0.266961634
          ],
          [
           0.644231853
          ],
          [
           0.038113352
          ],
          [
           0.05715529900000001
          ],
          [
           0.34139246100000004
          ],
          [
           0.7204636320000001
          ],
          [
           0.402878236
          ],
          [
           0.635148967
          ],
          [
           0.320729467
          ],
          [
           0.09120969400000001
          ],
          [
           0.23414609
          ],
          [
           0.8902211309999999
          ],
          [
           0.602170884
          ],
          [
           0.633652055
          ],
          [
           0.806240837
          ],
          [
           0.739731184
          ],
          [
           0.465231269
          ],
          [
           0.7321109
          ],
          [
           0.373874305
          ],
          [
           0.501587947
          ],
          [
           0.11538315800000001
          ],
          [
           0.7319466040000001
          ],
          [
           0.41829872799999995
          ],
          [
           0.062259590999999996
          ],
          [
           0.391496379
          ],
          [
           0.35984929
          ],
          [
           0.24523562699999998
          ],
          [
           0.610028339
          ],
          [
           0.43540360200000006
          ],
          [
           0.434309675
          ],
          [
           0.523763344
          ],
          [
           0.17118786600000002
          ],
          [
           0.18773430300000002
          ],
          [
           0.945014638
          ],
          [
           0.027851097000000002
          ],
          [
           0.68445706
          ],
          [
           0.178014532
          ],
          [
           0.643427879
          ],
          [
           0.59588355
          ],
          [
           0.372361682
          ],
          [
           0.586103584
          ],
          [
           0.271658852
          ],
          [
           0.59951107
          ],
          [
           0.468363088
          ],
          [
           0.314515565
          ],
          [
           0.21893726
          ],
          [
           0.254716562
          ],
          [
           0.25612815
          ],
          [
           0.602259755
          ],
          [
           0.134381075
          ],
          [
           0.513887424
          ],
          [
           0.624241636
          ],
          [
           0.160251854
          ],
          [
           0.580708108
          ],
          [
           0.270540486
          ],
          [
           0.832919932
          ],
          [
           0.93032134
          ],
          [
           0.719157884
          ],
          [
           0.886720033
          ],
          [
           0.098792281
          ],
          [
           0.787174286
          ],
          [
           0.365592376
          ],
          [
           0.719576193
          ],
          [
           0.8058956
          ],
          [
           0.7555783340000001
          ],
          [
           0.526005909
          ],
          [
           0.68880424
          ],
          [
           0.22111531199999998
          ],
          [
           0.739369477
          ],
          [
           0.408440236
          ],
          [
           0.348926542
          ],
          [
           0.433713763
          ],
          [
           0.5964966070000001
          ],
          [
           0.6942953000000001
          ],
          [
           0.7090309659999999
          ],
          [
           0.867652984
          ],
          [
           0.89332545
          ],
          [
           0.746020922
          ],
          [
           0.538284443
          ],
          [
           0.8922193140000001
          ],
          [
           0.935175765
          ],
          [
           0.260527707
          ],
          [
           0.956780449
          ],
          [
           0.204932484
          ],
          [
           0.687733351
          ],
          [
           0.329063619
          ],
          [
           0.632149831
          ],
          [
           0.463744506
          ],
          [
           0.698859621
          ],
          [
           0.385446564
          ],
          [
           0.47997537700000004
          ],
          [
           0.732279108
          ],
          [
           0.3813543
          ],
          [
           0.459326013
          ],
          [
           0.257401434
          ],
          [
           0.665014804
          ],
          [
           0.103399542
          ],
          [
           0.425284413
          ],
          [
           0.943529051
          ],
          [
           0.594750236
          ],
          [
           0.543776817
          ],
          [
           0.18203988
          ],
          [
           0.23584208399999998
          ],
          [
           0.585984497
          ],
          [
           0.762013168
          ],
          [
           0.6849829070000001
          ],
          [
           0.676936933
          ],
          [
           0.290184964
          ],
          [
           0.48106822200000005
          ],
          [
           0.492766033
          ],
          [
           0.22185623399999999
          ],
          [
           0.053875998
          ],
          [
           0.082751144
          ],
          [
           0.385366225
          ],
          [
           0.702513961
          ],
          [
           0.91553156
          ],
          [
           0.082087436
          ],
          [
           0.251280378
          ],
          [
           0.41672181700000005
          ],
          [
           0.277032672
          ],
          [
           0.579539754
          ],
          [
           0.569363476
          ],
          [
           0.133399703
          ],
          [
           0.265045463
          ],
          [
           0.936571901
          ],
          [
           0.252618554
          ],
          [
           0.054033081
          ],
          [
           0.802481439
          ],
          [
           0.528197693
          ],
          [
           0.9515026
          ],
          [
           0.572121173
          ],
          [
           0.752938227
          ],
          [
           0.143857535
          ],
          [
           0.513484576
          ],
          [
           0.313322389
          ],
          [
           0.6877973959999999
          ],
          [
           0.37705984
          ],
          [
           0.348226142
          ],
          [
           0.67763282
          ],
          [
           0.24138752100000002
          ],
          [
           0.8506501790000001
          ],
          [
           0.22034810300000002
          ],
          [
           0.476445464
          ],
          [
           0.690324025
          ],
          [
           0.364695946
          ],
          [
           0.6492491970000001
          ],
          [
           0.9437019209999999
          ],
          [
           0.529645971
          ],
          [
           0.299097002
          ],
          [
           0.96696247
          ],
          [
           0.272005242
          ],
          [
           0.314161447
          ],
          [
           0.752020991
          ],
          [
           0.221882453
          ],
          [
           0.7203326729999999
          ],
          [
           0.379204782
          ],
          [
           0.60168653
          ],
          [
           0.582932673
          ],
          [
           0.950809853
          ],
          [
           0.58830141
          ],
          [
           0.880887227
          ],
          [
           0.467857701
          ],
          [
           0.8799021709999999
          ],
          [
           0.619844009
          ],
          [
           0.359002573
          ],
          [
           0.291511278
          ],
          [
           0.694157143
          ],
          [
           0.727960353
          ],
          [
           0.617703921
          ],
          [
           0.39581257
          ],
          [
           0.58317282
          ],
          [
           0.710332374
          ],
          [
           0.253753693
          ],
          [
           0.049412227999999996
          ],
          [
           0.728378695
          ],
          [
           0.432432881
          ],
          [
           0.58612345
          ],
          [
           0.052342373
          ],
          [
           0.053483902
          ],
          [
           0.518729378
          ],
          [
           0.933040208
          ],
          [
           0.7035542840000001
          ],
          [
           0.268989899
          ],
          [
           0.733006927
          ],
          [
           0.44435246700000003
          ],
          [
           0.5833946210000001
          ],
          [
           0.871172692
          ],
          [
           0.42876707799999997
          ],
          [
           0.30046084100000003
          ],
          [
           0.9533294590000001
          ],
          [
           0.606443965
          ],
          [
           0.90986815
          ],
          [
           0.714896449
          ],
          [
           0.49734950899999997
          ],
          [
           0.8530974859999999
          ],
          [
           0.721804145
          ],
          [
           0.303467328
          ],
          [
           0.664485096
          ],
          [
           0.27978062
          ],
          [
           0.569481665
          ],
          [
           0.628628926
          ],
          [
           0.088368123
          ],
          [
           0.733567326
          ],
          [
           0.537436778
          ],
          [
           0.638593691
          ],
          [
           0.954726948
          ],
          [
           0.632202332
          ],
          [
           0.642134651
          ],
          [
           0.744653087
          ],
          [
           0.115714007
          ],
          [
           0.48625007299999995
          ],
          [
           0.440356144
          ],
          [
           0.08272289
          ],
          [
           0.511591027
          ],
          [
           0.394627555
          ],
          [
           0.224394
          ],
          [
           0.626927584
          ],
          [
           0.290254057
          ],
          [
           0.779008053
          ],
          [
           0.86610579
          ],
          [
           0.873326081
          ],
          [
           0.49548916
          ],
          [
           0.594297695
          ],
          [
           0.9182015840000001
          ],
          [
           0.5770427539999999
          ],
          [
           0.019467671000000002
          ],
          [
           0.6702982820000001
          ],
          [
           0.546595316
          ],
          [
           0.591665146
          ],
          [
           0.42155819
          ],
          [
           0.6856085590000001
          ],
          [
           0.340303024
          ],
          [
           0.675626741
          ],
          [
           0.319067345
          ],
          [
           0.38849966399999997
          ],
          [
           0.706949589
          ],
          [
           0.559409515
          ],
          [
           0.687663508
          ],
          [
           0.7088045540000001
          ],
          [
           0.6818880940000001
          ],
          [
           0.42253510899999996
          ],
          [
           0.320004605
          ],
          [
           0.6582813679999999
          ],
          [
           0.634154867
          ],
          [
           0.7773320090000001
          ],
          [
           0.812677205
          ],
          [
           0.074280797
          ],
          [
           0.39600217
          ],
          [
           0.054933913
          ],
          [
           0.825058925
          ],
          [
           0.382642009
          ],
          [
           0.8687298179999999
          ],
          [
           0.588043346
          ],
          [
           0.891551577
          ],
          [
           0.10920046
          ],
          [
           0.647682781
          ],
          [
           0.724342512
          ],
          [
           0.07016304400000001
          ],
          [
           0.280882054
          ],
          [
           0.039113261
          ],
          [
           0.579641592
          ],
          [
           0.639000922
          ],
          [
           0.281745925
          ],
          [
           0.647857744
          ],
          [
           0.6479057970000001
          ],
          [
           0.875226264
          ],
          [
           0.567603305
          ],
          [
           0.262940591
          ],
          [
           0.268026042
          ],
          [
           0.40519133
          ],
          [
           0.479965451
          ],
          [
           0.33552403
          ],
          [
           0.777165379
          ],
          [
           0.42548796299999997
          ],
          [
           0.237986115
          ],
          [
           0.142522971
          ],
          [
           0.724176488
          ],
          [
           0.234698933
          ],
          [
           0.07818228099999999
          ],
          [
           0.855990155
          ],
          [
           0.270251765
          ],
          [
           0.435517841
          ],
          [
           0.762697513
          ],
          [
           0.46448725799999996
          ],
          [
           0.396112685
          ],
          [
           0.37638092100000003
          ],
          [
           0.29459467699999997
          ],
          [
           0.6944921209999999
          ],
          [
           0.622767949
          ],
          [
           0.8475597220000001
          ],
          [
           0.301463054
          ],
          [
           0.912937812
          ],
          [
           0.500017182
          ],
          [
           0.902587935
          ],
          [
           0.304517943
          ],
          [
           0.299165673
          ],
          [
           0.092014087
          ],
          [
           0.488548917
          ],
          [
           0.664664437
          ],
          [
           0.26534954899999996
          ],
          [
           0.723657021
          ],
          [
           0.149262385
          ],
          [
           0.04577339
          ],
          [
           0.69661064
          ],
          [
           0.42181486
          ],
          [
           0.733845785
          ],
          [
           0.418795386
          ],
          [
           0.677443529
          ],
          [
           0.26128360300000003
          ],
          [
           0.268527767
          ],
          [
           0.5443222360000001
          ],
          [
           0.431632036
          ],
          [
           0.981018141
          ],
          [
           0.21498072399999998
          ],
          [
           0.39472999299999995
          ],
          [
           0.122224944
          ],
          [
           0.297496875
          ],
          [
           0.37490443100000004
          ],
          [
           0.68698771
          ],
          [
           0.388549207
          ],
          [
           0.039296071
          ],
          [
           0.73553424
          ],
          [
           0.37929489299999997
          ],
          [
           0.7321233859999999
          ],
          [
           0.33922143899999996
          ],
          [
           0.659450594
          ],
          [
           0.054838642
          ],
          [
           0.640112102
          ],
          [
           0.30714170399999996
          ],
          [
           0.39661190700000004
          ],
          [
           0.420439161
          ],
          [
           0.24171497399999997
          ],
          [
           0.065893153
          ],
          [
           0.9105219370000001
          ],
          [
           0.697163103
          ],
          [
           0.072559853
          ],
          [
           0.81825094
          ],
          [
           0.311888815
          ],
          [
           0.961644609
          ],
          [
           0.816325524
          ],
          [
           0.14647302
          ],
          [
           0.548753945
          ],
          [
           0.946158087
          ],
          [
           0.293992717
          ],
          [
           0.331479643
          ],
          [
           0.9062200309999999
          ],
          [
           0.525540416
          ],
          [
           0.83301411
          ],
          [
           0.514849806
          ],
          [
           0.574609024
          ],
          [
           0.46871185299999996
          ],
          [
           0.71002775
          ],
          [
           0.645973276
          ],
          [
           0.229794416
          ],
          [
           0.551783393
          ],
          [
           0.055822990999999995
          ],
          [
           0.331750941
          ],
          [
           0.715520198
          ],
          [
           0.583924357
          ],
          [
           0.30695769100000003
          ],
          [
           0.7914782370000001
          ],
          [
           0.16423663900000002
          ],
          [
           0.065711219
          ],
          [
           0.948993132
          ],
          [
           0.080423835
          ],
          [
           0.052495426
          ],
          [
           0.566346135
          ],
          [
           0.3630266
          ],
          [
           0.605442195
          ],
          [
           0.6308505839999999
          ],
          [
           0.065791238
          ],
          [
           0.28681707100000003
          ],
          [
           0.685462839
          ],
          [
           0.260853706
          ],
          [
           0.659122429
          ],
          [
           0.44317392200000005
          ],
          [
           0.602063986
          ],
          [
           0.060366910999999995
          ],
          [
           0.781903153
          ],
          [
           0.5145798070000001
          ],
          [
           0.48388621299999995
          ],
          [
           0.600213807
          ],
          [
           0.49736405200000006
          ],
          [
           0.411145245
          ],
          [
           0.116999171
          ],
          [
           0.34189014100000004
          ],
          [
           0.746950848
          ],
          [
           0.39629274600000003
          ],
          [
           0.6221438429999999
          ],
          [
           0.335271141
          ],
          [
           0.140257137
          ],
          [
           0.081620681
          ],
          [
           0.069837569
          ],
          [
           0.46894000799999996
          ],
          [
           0.9908574170000001
          ],
          [
           0.896616832
          ],
          [
           0.255310561
          ],
          [
           0.22464526699999998
          ],
          [
           0.01991825
          ],
          [
           0.296480415
          ],
          [
           0.155458996
          ],
          [
           0.577916714
          ],
          [
           0.9563030309999999
          ],
          [
           0.813464394
          ],
          [
           0.529675785
          ],
          [
           0.287671353
          ],
          [
           0.48039136
          ],
          [
           0.28104482199999997
          ],
          [
           0.633196521
          ],
          [
           0.09332537699999999
          ],
          [
           0.28447398100000004
          ],
          [
           0.052223775
          ],
          [
           0.051129385
          ],
          [
           0.967405608
          ],
          [
           0.040045727999999996
          ],
          [
           0.9085829209999999
          ],
          [
           0.6621174160000001
          ],
          [
           0.42470320899999997
          ],
          [
           0.72207806
          ],
          [
           0.666193327
          ],
          [
           0.509681253
          ],
          [
           0.7513536209999999
          ],
          [
           0.279073124
          ],
          [
           0.074927
          ],
          [
           0.916359535
          ],
          [
           0.31040327
          ],
          [
           0.716604052
          ],
          [
           0.485587085
          ],
          [
           0.30607518100000003
          ],
          [
           0.477558204
          ],
          [
           0.7119239409999999
          ],
          [
           0.066348638
          ],
          [
           0.27453935100000004
          ],
          [
           0.31082252
          ],
          [
           0.47607312700000004
          ],
          [
           0.186795565
          ],
          [
           0.26654207
          ],
          [
           0.070231142
          ],
          [
           0.26951927
          ],
          [
           0.800004713
          ],
          [
           0.27363366699999997
          ],
          [
           0.14647919199999998
          ],
          [
           0.378318951
          ],
          [
           0.373849065
          ],
          [
           0.242170835
          ],
          [
           0.249796488
          ],
          [
           0.066591188
          ],
          [
           0.372956798
          ],
          [
           0.501812291
          ],
          [
           0.313097752
          ],
          [
           0.8802021959999999
          ],
          [
           0.51981893
          ],
          [
           0.364138746
          ],
          [
           0.49268289600000004
          ],
          [
           0.285732652
          ],
          [
           0.890114985
          ],
          [
           0.316419561
          ],
          [
           0.26866354
          ],
          [
           0.771975959
          ],
          [
           0.968888992
          ],
          [
           0.080334377
          ],
          [
           0.7368282209999999
          ],
          [
           0.30055807100000004
          ],
          [
           0.9179503929999999
          ],
          [
           0.465815039
          ],
          [
           0.054036682
          ],
          [
           0.963150123
          ],
          [
           0.08965350300000001
          ],
          [
           0.7076932340000001
          ],
          [
           0.636416037
          ],
          [
           0.539521117
          ],
          [
           0.114757161
          ],
          [
           0.357312419
          ],
          [
           0.67639834
          ],
          [
           0.43482839
          ],
          [
           0.032326387000000005
          ],
          [
           0.711365605
          ],
          [
           0.187486519
          ],
          [
           0.052789653
          ],
          [
           0.5058636129999999
          ],
          [
           0.927431873
          ],
          [
           0.6809842559999999
          ],
          [
           0.882822186
          ],
          [
           0.495705441
          ],
          [
           0.596240398
          ],
          [
           0.320610701
          ],
          [
           0.3413685
          ],
          [
           0.159681797
          ],
          [
           0.318133669
          ],
          [
           0.8393010479999999
          ],
          [
           0.06435925099999999
          ],
          [
           0.470216633
          ],
          [
           0.7762522909999999
          ],
          [
           0.635843383
          ],
          [
           0.62510543
          ],
          [
           0.52959065
          ],
          [
           0.986900166
          ],
          [
           0.078585688
          ],
          [
           0.233284267
          ],
          [
           0.363330957
          ],
          [
           0.7167169809999999
          ],
          [
           0.37588979200000006
          ],
          [
           0.223316889
          ],
          [
           0.299343986
          ],
          [
           0.538595767
          ],
          [
           0.730297124
          ],
          [
           0.66033077
          ],
          [
           0.435296009
          ],
          [
           0.326494313
          ],
          [
           0.854402708
          ],
          [
           0.5734938470000001
          ],
          [
           0.757786135
          ],
          [
           0.704743233
          ],
          [
           0.281575597
          ],
          [
           0.671968208
          ],
          [
           0.313726015
          ],
          [
           0.364338275
          ],
          [
           0.368216396
          ],
          [
           0.38629520700000003
          ],
          [
           0.655971865
          ],
          [
           0.5660252729999999
          ],
          [
           0.424999093
          ],
          [
           0.090110371
          ],
          [
           0.772350538
          ],
          [
           0.331047258
          ],
          [
           0.273716188
          ],
          [
           0.23877568
          ],
          [
           0.37307977200000003
          ],
          [
           0.331185868
          ],
          [
           0.256134531
          ],
          [
           0.678373225
          ],
          [
           0.43463833799999996
          ],
          [
           0.654668307
          ],
          [
           0.986681065
          ],
          [
           0.371520495
          ],
          [
           0.408359618
          ],
          [
           0.40932365
          ],
          [
           0.283412082
          ],
          [
           0.395246531
          ],
          [
           0.010984428000000001
          ],
          [
           0.306013869
          ],
          [
           0.266194806
          ],
          [
           0.299318521
          ],
          [
           0.318293946
          ],
          [
           0.74282591
          ],
          [
           0.09766432900000001
          ],
          [
           0.079666942
          ],
          [
           0.613258767
          ],
          [
           0.99443072
          ],
          [
           0.568835082
          ],
          [
           0.7080345159999999
          ],
          [
           0.37059271899999996
          ],
          [
           0.669867361
          ],
          [
           0.651295625
          ],
          [
           0.462531569
          ],
          [
           0.7196256190000001
          ],
          [
           0.45377248
          ],
          [
           0.394863946
          ],
          [
           0.323974831
          ],
          [
           0.146454724
          ],
          [
           0.7790670409999999
          ],
          [
           0.401828915
          ],
          [
           0.601479585
          ],
          [
           0.856423023
          ],
          [
           0.565242962
          ],
          [
           0.301225108
          ],
          [
           0.282108144
          ],
          [
           0.594378011
          ],
          [
           0.705312368
          ],
          [
           0.5408696279999999
          ],
          [
           0.319249574
          ],
          [
           0.36176613799999996
          ],
          [
           0.625000704
          ],
          [
           0.316287401
          ],
          [
           0.047239021
          ],
          [
           0.801182233
          ],
          [
           0.508474436
          ],
          [
           0.8178934109999999
          ],
          [
           0.399235601
          ],
          [
           0.9740519990000001
          ],
          [
           0.72241535
          ],
          [
           0.039564764
          ],
          [
           0.908684108
          ],
          [
           0.47301013399999997
          ],
          [
           0.7180496279999999
          ],
          [
           0.7634790690000001
          ],
          [
           0.6475965370000001
          ],
          [
           0.8949973859999999
          ],
          [
           0.22282590100000002
          ],
          [
           0.359012234
          ],
          [
           0.944910252
          ],
          [
           0.297877816
          ],
          [
           0.172517997
          ],
          [
           0.556586265
          ],
          [
           0.876481735
          ],
          [
           0.48667784299999994
          ],
          [
           0.459496733
          ],
          [
           0.47412637700000004
          ],
          [
           0.70101144
          ],
          [
           0.337597387
          ],
          [
           0.537578886
          ],
          [
           0.966992448
          ],
          [
           0.056849545
          ],
          [
           0.233249065
          ],
          [
           0.380054711
          ],
          [
           0.602929443
          ],
          [
           0.303847999
          ],
          [
           0.170194553
          ],
          [
           0.972168554
          ],
          [
           0.332168927
          ],
          [
           0.6887286890000001
          ],
          [
           0.110773401
          ],
          [
           0.273352065
          ],
          [
           0.572939678
          ],
          [
           0.491457065
          ],
          [
           0.281389999
          ],
          [
           0.821697261
          ],
          [
           0.6749776829999999
          ],
          [
           0.585134549
          ],
          [
           0.7105961159999999
          ],
          [
           0.040488789
          ],
          [
           0.568054311
          ],
          [
           0.321752928
          ],
          [
           0.611850232
          ],
          [
           0.926096887
          ],
          [
           0.618347428
          ],
          [
           0.667629785
          ],
          [
           0.39773346600000004
          ],
          [
           0.290875487
          ],
          [
           0.594375103
          ],
          [
           0.508255233
          ],
          [
           0.338571357
          ],
          [
           0.43230234700000003
          ],
          [
           0.302221978
          ],
          [
           0.87619819
          ],
          [
           0.080204492
          ],
          [
           0.092333532
          ],
          [
           0.09365644699999999
          ],
          [
           0.6084523510000001
          ],
          [
           0.732654598
          ],
          [
           0.944158855
          ],
          [
           0.26742308
          ],
          [
           0.731124201
          ],
          [
           0.661308553
          ],
          [
           0.38776626200000003
          ],
          [
           0.962585273
          ],
          [
           0.322067067
          ],
          [
           0.6340810929999999
          ],
          [
           0.475345002
          ],
          [
           0.35355897299999994
          ],
          [
           0.8859363159999999
          ],
          [
           0.876798106
          ],
          [
           0.221581064
          ],
          [
           0.394362449
          ],
          [
           0.8050356759999999
          ],
          [
           0.452898486
          ],
          [
           0.592520516
          ],
          [
           0.761026394
          ],
          [
           0.245049023
          ],
          [
           0.37213936299999995
          ],
          [
           0.681054822
          ],
          [
           0.7471431479999999
          ],
          [
           0.9207395290000001
          ],
          [
           0.097207945
          ],
          [
           0.699302998
          ],
          [
           0.721647006
          ],
          [
           0.5353561139999999
          ],
          [
           0.738293805
          ],
          [
           0.7064675509999999
          ],
          [
           0.67395061
          ],
          [
           0.7112122909999999
          ],
          [
           0.302558708
          ],
          [
           0.080097855
          ],
          [
           0.707010837
          ],
          [
           0.512248622
          ],
          [
           0.659627472
          ],
          [
           0.657559694
          ],
          [
           0.100645606
          ],
          [
           0.92665363
          ],
          [
           0.892879338
          ],
          [
           0.839157508
          ],
          [
           0.890959718
          ],
          [
           0.556754471
          ],
          [
           0.960361937
          ],
          [
           0.631037864
          ],
          [
           0.029838065
          ],
          [
           0.278843351
          ],
          [
           0.926157705
          ],
          [
           0.551504258
          ],
          [
           0.485942349
          ],
          [
           0.43723469600000003
          ],
          [
           0.25231801800000003
          ],
          [
           0.515466972
          ],
          [
           0.43725229600000004
          ],
          [
           0.493724207
          ],
          [
           0.83324725
          ],
          [
           0.317521477
          ],
          [
           0.28623456199999997
          ],
          [
           0.726833965
          ],
          [
           0.495667033
          ],
          [
           0.028645255
          ],
          [
           0.31967191699999997
          ],
          [
           0.674344598
          ],
          [
           0.7660371890000001
          ],
          [
           0.65456992
          ],
          [
           0.7565143809999999
          ],
          [
           0.528253719
          ],
          [
           0.38971949100000003
          ],
          [
           0.355087459
          ],
          [
           0.87015202
          ],
          [
           0.7390833059999999
          ],
          [
           0.305761846
          ],
          [
           0.411587673
          ],
          [
           0.063633094
          ],
          [
           0.735409395
          ],
          [
           0.605916669
          ],
          [
           0.539395562
          ],
          [
           0.566183532
          ],
          [
           0.674795186
          ],
          [
           0.070993366
          ],
          [
           0.12526410000000002
          ],
          [
           0.279601492
          ],
          [
           0.952174402
          ],
          [
           0.233806762
          ],
          [
           0.43724742899999997
          ],
          [
           0.925423095
          ],
          [
           0.433498634
          ],
          [
           0.52517902
          ],
          [
           0.088435529
          ],
          [
           0.447677638
          ],
          [
           0.647000631
          ],
          [
           0.9036033370000001
          ],
          [
           0.265790738
          ],
          [
           0.66419695
          ],
          [
           0.498120658
          ],
          [
           0.49018894399999996
          ],
          [
           0.747084187
          ],
          [
           0.906783648
          ],
          [
           0.678770917
          ],
          [
           0.348599859
          ],
          [
           0.294839683
          ],
          [
           0.705691827
          ],
          [
           0.211917931
          ],
          [
           0.063201124
          ],
          [
           0.276699543
          ],
          [
           0.672459395
          ],
          [
           0.8082059490000001
          ],
          [
           0.296538373
          ],
          [
           0.16012686199999998
          ],
          [
           0.439385032
          ],
          [
           0.555951416
          ],
          [
           0.386240112
          ],
          [
           0.158689619
          ],
          [
           0.214499855
          ],
          [
           0.299579429
          ],
          [
           0.569161656
          ],
          [
           0.488614799
          ],
          [
           0.8782950209999999
          ],
          [
           0.649380949
          ],
          [
           0.465713341
          ],
          [
           0.16813774
          ],
          [
           0.87529545
          ],
          [
           0.8411323409999999
          ],
          [
           0.33292081
          ],
          [
           0.5130478589999999
          ],
          [
           0.30505507800000004
          ],
          [
           0.8126269909999999
          ],
          [
           0.25096706
          ],
          [
           0.5024355779999999
          ],
          [
           0.45799074100000003
          ]
         ],
         "hoverlabel": {
          "namelength": 0
         },
         "hovertemplate": "0=%{x}<br>1=%{y}<br>Feature=%{customdata[0]}<br>Label=%{marker.color}",
         "legendgroup": "",
         "marker": {
          "color": [
           0,
           0,
           1,
           1,
           0,
           0,
           0,
           1,
           1,
           0,
           0,
           1,
           0,
           0,
           1,
           0,
           1,
           0,
           0,
           0,
           1,
           0,
           0,
           1,
           1,
           1,
           0,
           0,
           1,
           1,
           0,
           0,
           1,
           1,
           1,
           0,
           0,
           0,
           0,
           0,
           1,
           0,
           0,
           1,
           0,
           0,
           0,
           0,
           0,
           0,
           0,
           1,
           0,
           1,
           0,
           1,
           0,
           0,
           0,
           1,
           0,
           0,
           1,
           1,
           0,
           0,
           1,
           0,
           0,
           1,
           0,
           0,
           0,
           0,
           0,
           0,
           0,
           0,
           0,
           0,
           0,
           0,
           0,
           0,
           0,
           0,
           0,
           0,
           0,
           0,
           0,
           0,
           0,
           0,
           0,
           0,
           0,
           0,
           0,
           0,
           0,
           0,
           0,
           0,
           0,
           0,
           0,
           0,
           0,
           0,
           0,
           0,
           0,
           0,
           0,
           0,
           0,
           0,
           0,
           0,
           0,
           0,
           0,
           0,
           0,
           0,
           0,
           0,
           0,
           0,
           0,
           0,
           0,
           0,
           0,
           0,
           0,
           0,
           0,
           0,
           0,
           0,
           0,
           0,
           0,
           0,
           0,
           0,
           0,
           0,
           0,
           0,
           0,
           0,
           0,
           0,
           0,
           0,
           0,
           0,
           0,
           0,
           0,
           0,
           0,
           0,
           0,
           0,
           0,
           0,
           0,
           0,
           0,
           0,
           0,
           0,
           0,
           0,
           0,
           0,
           0,
           0,
           0,
           0,
           0,
           0,
           0,
           0,
           0,
           0,
           0,
           0,
           0,
           0,
           0,
           0,
           0,
           0,
           1,
           0,
           0,
           0,
           0,
           0,
           0,
           0,
           0,
           0,
           0,
           0,
           0,
           0,
           0,
           0,
           0,
           0,
           0,
           0,
           0,
           0,
           0,
           0,
           0,
           0,
           0,
           0,
           0,
           0,
           0,
           0,
           0,
           0,
           0,
           0,
           0,
           0,
           0,
           0,
           0,
           0,
           0,
           0,
           0,
           0,
           0,
           0,
           0,
           0,
           0,
           0,
           0,
           0,
           0,
           0,
           0,
           0,
           0,
           0,
           0,
           0,
           0,
           0,
           0,
           0,
           0,
           0,
           0,
           0,
           0,
           0,
           0,
           0,
           0,
           0,
           0,
           0,
           0,
           0,
           0,
           0,
           0,
           0,
           0,
           0,
           0,
           0,
           0,
           0,
           0,
           0,
           0,
           0,
           0,
           0,
           0,
           0,
           0,
           0,
           0,
           0,
           0,
           0,
           0,
           0,
           0,
           0,
           0,
           0,
           0,
           0,
           0,
           0,
           0,
           0,
           0,
           0,
           0,
           0,
           0,
           0,
           0,
           0,
           0,
           0,
           0,
           0,
           0,
           0,
           0,
           0,
           0,
           0,
           0,
           0,
           0,
           0,
           0,
           0,
           0,
           0,
           0,
           0,
           0,
           0,
           0,
           0,
           0,
           0,
           0,
           0,
           0,
           0,
           0,
           0,
           0,
           0,
           0,
           0,
           0,
           0,
           0,
           0,
           0,
           0,
           0,
           0,
           0,
           0,
           0,
           0,
           0,
           0,
           0,
           0,
           0,
           0,
           0,
           0,
           0,
           0,
           0,
           0,
           0,
           0,
           0,
           0,
           0,
           0,
           0,
           0,
           0,
           0,
           0,
           0,
           0,
           0,
           0,
           0,
           0,
           0,
           0,
           0,
           0,
           0,
           0,
           0,
           0,
           0,
           0,
           0,
           0,
           0,
           0,
           0,
           0,
           0,
           0,
           0,
           0,
           0,
           0,
           0,
           0,
           0,
           0,
           0,
           0,
           0,
           0,
           0,
           0,
           0,
           0,
           0,
           0,
           0,
           0,
           0,
           0,
           0,
           0,
           0,
           0,
           0,
           0,
           0,
           0,
           0,
           0,
           0,
           0,
           0,
           0,
           0,
           0,
           0,
           0,
           0,
           0,
           0,
           0,
           0,
           0,
           0,
           0,
           0,
           0,
           0,
           0,
           0,
           0,
           0,
           0,
           0,
           0,
           0,
           0,
           0,
           0,
           0,
           0,
           0,
           0,
           0,
           0,
           0,
           0,
           0,
           0,
           0,
           0,
           0,
           0,
           0,
           0,
           0,
           0,
           0,
           0,
           0,
           0,
           0,
           0,
           0,
           0,
           0,
           0,
           0,
           0,
           0,
           0,
           0,
           0,
           0,
           0,
           0,
           0,
           0,
           0,
           0,
           0,
           0,
           0,
           0,
           0,
           0,
           0,
           0,
           0,
           0,
           0,
           0,
           0,
           0,
           0,
           0,
           0,
           0,
           0,
           0,
           0,
           0,
           0,
           0,
           0,
           1,
           0,
           0,
           0,
           0,
           0,
           0,
           0,
           0,
           0,
           0,
           0,
           0,
           0,
           0,
           0,
           0,
           0,
           0,
           0,
           0,
           0,
           0,
           0,
           0,
           0,
           0,
           0,
           0,
           0,
           0,
           0,
           1,
           0,
           0,
           0,
           0,
           0,
           0,
           0,
           0,
           0,
           0,
           0,
           0,
           0,
           0,
           0,
           0,
           0,
           0,
           0,
           0,
           0,
           0,
           0,
           0,
           1,
           0,
           0,
           0,
           0,
           0,
           0,
           0,
           0,
           0,
           0,
           0,
           0,
           0,
           0,
           0,
           0,
           0,
           0,
           0,
           0,
           0,
           0,
           0,
           0,
           0,
           0,
           0,
           0,
           0,
           0,
           0,
           0,
           0,
           0,
           0,
           0,
           0,
           0,
           0,
           0,
           0,
           0,
           0,
           0,
           0,
           0,
           0,
           0,
           0,
           0,
           0,
           0,
           0,
           0,
           0,
           0,
           0,
           0,
           0,
           0,
           0,
           0,
           0,
           0,
           0,
           0,
           0,
           0,
           0,
           0,
           0,
           0,
           0,
           0,
           0,
           0,
           0,
           1,
           0,
           0,
           0,
           0,
           0,
           0,
           0,
           0,
           0,
           0,
           0,
           0,
           0,
           0,
           0,
           0,
           0,
           0,
           0,
           1,
           1,
           0,
           1,
           1,
           0,
           0,
           1,
           1,
           0,
           0,
           0,
           0,
           1,
           0,
           0,
           1,
           1,
           1,
           0,
           1,
           0,
           1,
           1,
           1,
           0,
           0,
           0,
           1,
           0,
           0,
           0,
           0,
           0,
           0,
           0,
           0,
           0,
           0,
           0,
           0,
           0,
           0,
           1,
           0,
           0,
           0,
           0,
           0,
           0,
           0,
           0,
           0,
           0,
           0,
           0,
           0,
           0,
           0,
           0,
           0,
           0,
           0,
           0,
           0,
           0,
           0,
           0,
           0,
           0,
           0,
           0,
           0,
           0,
           0,
           0,
           0,
           0,
           0,
           0,
           1,
           0,
           0,
           0,
           0,
           0,
           0,
           0,
           0,
           0,
           0,
           0,
           0,
           0,
           0,
           0,
           0,
           0,
           0,
           0,
           0,
           0,
           0,
           0,
           0,
           0,
           0,
           0,
           0,
           0,
           0,
           0,
           0,
           0,
           0,
           0,
           0,
           0,
           0,
           0,
           0,
           0,
           0,
           0,
           0,
           0,
           0,
           0,
           0,
           0,
           0,
           0,
           0,
           0,
           0,
           0,
           0,
           0,
           0,
           0,
           0,
           0,
           0,
           0,
           0,
           0,
           0,
           0,
           0,
           0,
           0,
           0,
           0,
           0,
           0,
           0,
           0,
           0,
           0,
           0,
           0,
           0,
           0,
           1,
           0,
           0,
           0,
           0,
           0,
           0,
           0,
           0,
           0,
           0,
           0,
           0,
           0,
           0,
           0,
           0,
           0,
           0,
           0,
           0,
           0,
           0,
           0,
           0,
           0,
           0,
           0,
           0,
           0,
           0,
           0,
           0,
           0,
           0,
           0,
           0,
           0,
           0,
           0,
           0,
           0,
           0,
           0,
           0,
           0,
           0,
           0,
           0,
           0,
           0,
           0,
           0,
           0,
           0,
           0,
           0,
           0,
           1,
           0,
           0,
           0,
           0,
           0,
           0,
           0,
           0,
           0,
           0,
           0,
           0,
           0,
           0,
           0,
           0,
           0,
           0,
           0,
           0,
           0,
           0,
           0,
           0,
           0,
           0,
           0,
           0,
           0,
           0,
           0,
           0,
           0,
           0,
           0,
           0,
           0,
           0,
           0,
           0,
           0,
           0,
           0,
           0,
           0,
           0,
           0,
           0,
           0,
           0,
           0,
           0,
           0,
           0,
           0,
           0,
           0,
           0,
           0,
           0,
           0,
           0,
           0,
           0,
           0,
           0,
           0,
           0,
           0,
           0,
           0,
           0,
           0,
           0,
           0,
           0,
           0,
           0
          ],
          "coloraxis": "coloraxis",
          "opacity": 0.7,
          "symbol": "circle"
         },
         "mode": "markers",
         "name": "",
         "showlegend": false,
         "type": "scatter",
         "x": [
          -1.068271517753601,
          -1.3033243417739868,
          6.547937393188477,
          6.804200172424316,
          7.748932361602783,
          5.621181011199951,
          -3.349780559539795,
          7.251926422119141,
          -1.6617133617401123,
          -3.738583564758301,
          6.399086952209473,
          8.05907917022705,
          6.146360874176025,
          -2.6708202362060547,
          7.262874126434326,
          8.173453330993652,
          6.066826343536377,
          -3.7968356609344482,
          6.0799880027771,
          7.126802444458008,
          5.4049458503723145,
          -1.95822012424469,
          7.188175678253174,
          -1.9635201692581177,
          6.127380847930908,
          -2.0646915435791016,
          8.038057327270508,
          -2.264094114303589,
          8.023494720458984,
          7.610766887664795,
          -1.7124134302139282,
          -1.807065725326538,
          -2.5848517417907715,
          7.22489070892334,
          -3.360659122467041,
          -2.0358824729919434,
          -4.249534606933594,
          -2.340036392211914,
          -1.655611276626587,
          5.697139263153076,
          -5.059518814086914,
          7.319343090057373,
          -4.421104431152344,
          5.70036506652832,
          7.003815650939941,
          8.170575141906738,
          7.007589817047119,
          -1.6248908042907715,
          8.080665588378906,
          -4.6300435066223145,
          6.7904157638549805,
          6.006831169128418,
          -3.7219083309173584,
          8.21902084350586,
          5.8061299324035645,
          5.702022552490234,
          5.242155075073242,
          -3.048529863357544,
          7.213298320770264,
          7.209584712982178,
          -3.2533586025238037,
          -3.2787835597991943,
          8.556418418884277,
          7.232125759124756,
          -4.67431116104126,
          6.9033331871032715,
          -3.69372820854187,
          -3.745678663253784,
          7.9572272300720215,
          6.119244575500488,
          7.9304609298706055,
          7.215558052062988,
          -1.5117182731628418,
          6.338610649108887,
          -2.8537988662719727,
          -2.039743661880493,
          8.084568977355957,
          7.910672664642334,
          -3.586259603500366,
          -4.054831027984619,
          -3.8656792640686035,
          -2.4511849880218506,
          7.693765640258789,
          -3.089611053466797,
          -3.041508436203003,
          -1.5299804210662842,
          -4.158096790313721,
          -4.1900248527526855,
          -2.9316418170928955,
          -2.2714202404022217,
          -2.2709646224975586,
          6.426513195037842,
          -3.9720234870910645,
          -3.6508138179779053,
          -2.4708609580993652,
          8.48084831237793,
          -4.021731376647949,
          -1.8502941131591797,
          -3.1777503490448,
          7.955036163330078,
          -1.3827413320541382,
          -4.706915378570557,
          -1.8884600400924683,
          -3.9787044525146484,
          8.408023834228516,
          -3.8572027683258057,
          -3.4819259643554688,
          -2.2765042781829834,
          -2.951414108276367,
          7.726237773895264,
          -2.5081634521484375,
          -1.4519342184066772,
          6.2313151359558105,
          -2.307072162628174,
          7.391331672668457,
          -2.92092227935791,
          -3.5060007572174072,
          -3.586118459701538,
          6.436017990112305,
          -3.4558162689208984,
          -3.091686725616455,
          -2.922584295272827,
          -2.0919644832611084,
          -4.720132827758789,
          -2.0074586868286133,
          -1.4964076280593872,
          -2.2541325092315674,
          6.853411674499512,
          -2.6605403423309326,
          -1.688529372215271,
          -2.904356002807617,
          -3.9268147945404053,
          6.963863372802734,
          -2.970707654953003,
          -4.682450294494629,
          -1.3865506649017334,
          7.360339641571045,
          7.472399711608887,
          -1.4180599451065063,
          -1.6833473443984985,
          6.599618434906006,
          -2.2586312294006348,
          -3.9613423347473145,
          7.800046920776367,
          -3.5312421321868896,
          -3.822451114654541,
          6.518831253051758,
          -4.91414737701416,
          -1.3125886917114258,
          -2.4260659217834473,
          -2.4179575443267822,
          -2.6672627925872803,
          -2.2778406143188477,
          -4.092058181762695,
          -1.9414701461791992,
          -4.119865417480469,
          -4.662736892700195,
          -4.919988632202148,
          -2.477638006210327,
          5.73743200302124,
          -3.54058575630188,
          -3.2540650367736816,
          -2.8330798149108887,
          -3.843738079071045,
          5.908799648284912,
          -4.709017753601074,
          6.845289707183838,
          7.686216354370117,
          7.1561994552612305,
          -2.0833895206451416,
          -3.6289167404174805,
          -1.6830658912658691,
          6.0283989906311035,
          6.77277946472168,
          -2.1987972259521484,
          -4.623748779296875,
          5.929051876068115,
          6.553191184997559,
          -1.398855447769165,
          7.4283623695373535,
          -2.3806865215301514,
          6.39995002746582,
          -2.105978488922119,
          7.64124870300293,
          7.566120624542236,
          -3.511561632156372,
          6.95491361618042,
          -3.2793221473693848,
          -3.789557456970215,
          -2.7465176582336426,
          -4.918244361877441,
          7.916254997253418,
          6.465137004852295,
          6.864974498748779,
          -4.076587200164795,
          -3.372521162033081,
          -2.6450908184051514,
          -2.2328717708587646,
          -1.5621029138565063,
          -2.0384764671325684,
          -2.487391471862793,
          -2.1485965251922607,
          -2.4311838150024414,
          7.857734203338623,
          6.606297016143799,
          -1.9415216445922852,
          -4.083563804626465,
          -2.6789727210998535,
          6.357558727264404,
          -1.7404741048812866,
          -2.2792749404907227,
          6.89892053604126,
          7.9685540199279785,
          -2.7144834995269775,
          -2.66260027885437,
          -2.690110921859741,
          -1.6729557514190674,
          8.054118156433105,
          8.456246376037598,
          -1.5820081233978271,
          6.6239519119262695,
          -2.6376779079437256,
          7.882077217102051,
          -3.132573366165161,
          -4.125297546386719,
          -4.1460862159729,
          -4.623394966125488,
          -3.6664485931396484,
          -4.808897972106934,
          6.30919075012207,
          -3.2957937717437744,
          -4.295592308044434,
          7.4464240074157715,
          7.447077751159668,
          -3.6293528079986572,
          -2.534231424331665,
          -1.5570428371429443,
          -2.761687994003296,
          6.9544267654418945,
          6.434765815734863,
          -2.741947650909424,
          -2.3119077682495117,
          6.730203628540039,
          -3.4211013317108154,
          7.047312259674072,
          -4.295877456665039,
          -3.2799923419952393,
          -3.229032516479492,
          -4.702602863311768,
          7.278197288513184,
          -3.7090301513671875,
          -1.8962074518203735,
          7.2013349533081055,
          -3.355165481567383,
          -3.925285816192627,
          -1.5109812021255493,
          -1.093254804611206,
          -3.7914092540740967,
          6.32666015625,
          -3.392641305923462,
          6.627697467803955,
          -3.3249645233154297,
          7.667236804962158,
          -2.336121082305908,
          -3.8034441471099854,
          -3.1588494777679443,
          7.652427673339844,
          -3.966571092605591,
          -2.965881109237671,
          -2.2139811515808105,
          -2.4352595806121826,
          -2.5184085369110107,
          -1.6394939422607422,
          6.57564115524292,
          5.73095703125,
          -4.379333972930908,
          8.433072090148926,
          7.873424530029297,
          -2.3809309005737305,
          -3.78498911857605,
          -4.738455295562744,
          6.704876899719238,
          -3.7899861335754395,
          -1.6509557962417603,
          7.384703159332275,
          -2.341083288192749,
          -3.964435338973999,
          -2.55434250831604,
          -3.984563112258911,
          -1.2398406267166138,
          -2.354273796081543,
          -2.453083038330078,
          -3.5221645832061768,
          -2.710050106048584,
          -3.13798189163208,
          6.273564338684082,
          6.411612510681152,
          -3.94606876373291,
          -2.9022152423858643,
          -1.3047536611557007,
          -1.42258882522583,
          -3.743842840194702,
          8.114519119262695,
          7.192936897277832,
          6.326513767242432,
          -2.609755516052246,
          -2.1883528232574463,
          -2.6525189876556396,
          -5.026253700256348,
          7.567389488220215,
          7.474793910980225,
          -4.979076385498047,
          6.455687046051025,
          6.481330871582031,
          -3.071535110473633,
          -1.1140390634536743,
          -2.0740296840667725,
          -3.251254081726074,
          -2.6813008785247803,
          -2.4308059215545654,
          -1.4751598834991455,
          -2.3017921447753906,
          7.233602523803711,
          -1.84516179561615,
          -3.4257442951202393,
          -1.8051013946533203,
          7.895686149597168,
          7.59205961227417,
          7.199918746948242,
          6.2564873695373535,
          -3.96048903465271,
          8.108782768249512,
          -3.6754586696624756,
          -4.012199401855469,
          -4.271178245544434,
          7.832597732543945,
          -1.6786754131317139,
          -1.3171712160110474,
          7.117794036865234,
          7.6010637283325195,
          -1.3174999952316284,
          -3.8563380241394043,
          6.265317916870117,
          -4.186847686767578,
          7.282011985778809,
          7.526878833770752,
          -2.8807413578033447,
          -5.030153751373291,
          6.8272552490234375,
          8.129765510559082,
          -1.7202363014221191,
          -1.6316980123519897,
          -3.4572181701660156,
          -2.44427752494812,
          -3.9045565128326416,
          -3.7382454872131348,
          -3.088984966278076,
          -2.012958288192749,
          8.332372665405273,
          -2.056807279586792,
          -1.3471183776855469,
          -2.17431640625,
          -1.7958412170410156,
          -4.901430606842041,
          7.146096229553223,
          -2.956204414367676,
          8.034722328186035,
          -3.6620736122131348,
          -4.065291881561279,
          -2.2653722763061523,
          -4.256402969360352,
          -2.733819007873535,
          8.045780181884766,
          7.128921031951904,
          7.341142654418945,
          -4.614292144775391,
          -2.8170063495635986,
          6.279717922210693,
          -2.5004451274871826,
          -2.1764132976531982,
          6.126492977142334,
          -2.2154319286346436,
          -2.9435224533081055,
          -1.556857705116272,
          -1.6338927745819092,
          -3.9465012550354004,
          -3.3723340034484863,
          -3.131197452545166,
          -2.173435688018799,
          -1.4993385076522827,
          -4.124656677246094,
          -3.9748735427856445,
          -2.0162131786346436,
          -2.861570358276367,
          -3.4187731742858887,
          -2.4496445655822754,
          -3.8317418098449707,
          7.11432409286499,
          -1.7704112529754639,
          -3.5935325622558594,
          -3.213693618774414,
          -3.6830530166625977,
          -4.945549011230469,
          -2.0157909393310547,
          7.448720932006836,
          -3.6153292655944824,
          7.178043365478516,
          -2.172222137451172,
          5.781313419342041,
          -2.1061480045318604,
          -2.8744232654571533,
          -2.2797038555145264,
          8.519819259643555,
          -2.723809242248535,
          -2.474684476852417,
          -4.370558261871338,
          -4.4777021408081055,
          -1.7981808185577393,
          7.619619369506836,
          7.535714626312256,
          -1.5002002716064453,
          -2.992812395095825,
          -2.676138401031494,
          -1.385880470275879,
          7.266880512237549,
          -4.3496928215026855,
          -3.321561574935913,
          6.289367198944092,
          -1.31626558303833,
          8.096660614013672,
          -2.750985622406006,
          -3.594731330871582,
          -3.227045774459839,
          6.3151445388793945,
          7.830252647399902,
          -2.8325753211975098,
          -3.7373878955841064,
          7.9091105461120605,
          -2.9890451431274414,
          6.6903862953186035,
          -3.8580400943756104,
          -3.6474857330322266,
          6.876603603363037,
          8.489599227905273,
          -3.0335240364074707,
          5.865182876586914,
          8.084976196289062,
          -4.287672996520996,
          7.15325927734375,
          6.5793328285217285,
          -3.815272808074951,
          7.448763370513916,
          -4.772306442260742,
          -2.6705336570739746,
          6.200869083404541,
          -2.297046661376953,
          -1.9746379852294922,
          7.253289699554443,
          -3.3331968784332275,
          -1.7030830383300781,
          -1.7433222532272339,
          7.257679462432861,
          -4.28737211227417,
          -3.625938653945923,
          -1.6924073696136475,
          -2.194929599761963,
          -3.057800769805908,
          8.01885986328125,
          -4.758846282958984,
          7.104813575744629,
          -3.3364574909210205,
          -3.7842020988464355,
          -4.261187553405762,
          -1.9055086374282837,
          -4.219627380371094,
          -4.04526424407959,
          -3.180987596511841,
          6.0718841552734375,
          -1.3147605657577515,
          -2.96158504486084,
          -4.976197242736816,
          -3.4462943077087402,
          6.315609931945801,
          8.12872314453125,
          -3.5541586875915527,
          8.318615913391113,
          -2.1074206829071045,
          -1.2421435117721558,
          -1.278252124786377,
          6.428044319152832,
          -3.1252777576446533,
          6.144139766693115,
          6.046219348907471,
          8.072566032409668,
          6.931394577026367,
          6.540661811828613,
          -2.221374034881592,
          5.817986011505127,
          -3.9464783668518066,
          -2.179767370223999,
          -1.4878199100494385,
          -2.028643846511841,
          -1.9964327812194824,
          -2.9348435401916504,
          -1.2507553100585938,
          6.434312343597412,
          -2.9443156719207764,
          -4.998970031738281,
          -1.420710563659668,
          6.4485859870910645,
          7.87347412109375,
          -4.9229350090026855,
          -2.3495163917541504,
          7.602952003479004,
          -3.811239719390869,
          -4.412045955657959,
          -3.8471245765686035,
          -3.0662126541137695,
          -1.8759185075759888,
          -2.234008550643921,
          -1.5284782648086548,
          7.827810287475586,
          6.398651599884033,
          7.269761085510254,
          8.480839729309082,
          -3.7825193405151367,
          -1.4001704454421997,
          -3.7311713695526123,
          -2.0361380577087402,
          -1.084341049194336,
          -1.876442551612854,
          8.019113540649414,
          5.867183208465576,
          -4.233467102050781,
          6.012932777404785,
          7.311855316162109,
          -2.143303632736206,
          7.870876789093018,
          -2.044445276260376,
          -2.06296443939209,
          -1.6168307065963745,
          6.070776462554932,
          -2.7619590759277344,
          -1.3882607221603394,
          -4.909921169281006,
          6.764402389526367,
          -3.8830151557922363,
          6.441265106201172,
          6.473134517669678,
          -3.7195730209350586,
          -4.030312538146973,
          -1.7247629165649414,
          7.757080554962158,
          -2.445873975753784,
          -4.228256702423096,
          -2.6367173194885254,
          5.836628437042236,
          -2.6815345287323,
          7.692493438720703,
          -1.4547678232192993,
          8.437240600585938,
          8.415783882141113,
          -4.3303141593933105,
          6.110848426818848,
          -3.7230875492095947,
          -4.104752063751221,
          -4.515868663787842,
          -2.0923960208892822,
          6.745293140411377,
          6.069097518920898,
          -1.0961737632751465,
          6.099399566650391,
          7.283141136169434,
          8.20226001739502,
          -1.5656013488769531,
          7.728047847747803,
          -3.0128023624420166,
          -4.030578136444092,
          -1.4834651947021484,
          -3.090440034866333,
          -1.4683548212051392,
          -3.0589163303375244,
          7.147167682647705,
          -2.822726249694824,
          -5.02028226852417,
          -3.953500986099243,
          -1.0481184720993042,
          -3.9768130779266357,
          -4.068774223327637,
          8.095544815063477,
          -3.5277276039123535,
          -4.858060836791992,
          -1.6217714548110962,
          7.340242862701416,
          -1.6073668003082275,
          -3.946428060531616,
          7.216625213623047,
          8.069396018981934,
          6.14785623550415,
          8.383904457092285,
          6.89095401763916,
          -2.8570666313171387,
          6.409724235534668,
          -3.585557222366333,
          6.1456804275512695,
          -1.480798602104187,
          7.521095275878906,
          8.35924243927002,
          -3.3740835189819336,
          -1.462686538696289,
          6.2624125480651855,
          -2.467378616333008,
          -1.6424005031585693,
          -1.287178635597229,
          -3.6222333908081055,
          -4.440374851226807,
          -2.5778393745422363,
          -2.8949592113494873,
          -2.0406105518341064,
          -1.047906756401062,
          -1.6694358587265015,
          -3.677353620529175,
          -3.815725326538086,
          -1.7595462799072266,
          7.211206436157227,
          7.537223815917969,
          -3.5263261795043945,
          7.5669331550598145,
          -2.3921611309051514,
          -3.6329474449157715,
          -3.250945806503296,
          -2.1980199813842773,
          -2.890537977218628,
          7.74976110458374,
          -2.172389030456543,
          -2.0932068824768066,
          -2.4805996417999268,
          -1.710953712463379,
          6.171486854553223,
          -1.791319489479065,
          6.572722911834717,
          -1.864656686782837,
          -3.3718199729919434,
          -2.2089505195617676,
          7.839824676513672,
          -2.872840404510498,
          7.00853157043457,
          -1.8499187231063843,
          6.672700881958008,
          -1.7506779432296753,
          -4.613913536071777,
          -4.538276672363281,
          -2.3439388275146484,
          7.006319999694824,
          -4.595056533813477,
          -1.8451954126358032,
          7.86728048324585,
          -1.6328035593032837,
          -2.689162015914917,
          7.808111190795898,
          7.940304756164551,
          -3.679086685180664,
          -1.702803611755371,
          -1.1313320398330688,
          6.385018348693848,
          -1.7370775938034058,
          7.470270156860352,
          -2.902873992919922,
          -2.104414939880371,
          -4.705400466918945,
          -1.659834861755371,
          -3.801959276199341,
          -3.8118512630462646,
          -1.8308454751968384,
          5.724780559539795,
          -4.3285813331604,
          -1.6949833631515503,
          6.149190902709961,
          6.518592834472656,
          -2.9858760833740234,
          7.138449668884277,
          -4.509407997131348,
          -1.4097378253936768,
          5.99876594543457,
          -4.419527053833008,
          -4.624385833740234,
          -3.931919574737549,
          -5.092860221862793,
          6.330015659332275,
          7.722787857055664,
          7.301973342895508,
          6.910400390625,
          8.473775863647461,
          -2.3738677501678467,
          6.467750549316406,
          5.873236656188965,
          -2.03058123588562,
          -4.087769031524658,
          -2.4838690757751465,
          6.835793972015381,
          -2.8130950927734375,
          -4.255349636077881,
          -2.639876127243042,
          8.055845260620117,
          -3.6311891078948975,
          -2.586643934249878,
          6.614276885986328,
          7.461068153381348,
          -1.6909613609313965,
          5.9332404136657715,
          7.080329418182373,
          -4.881344795227051,
          -2.2358391284942627,
          -2.276236057281494,
          -3.148233652114868,
          5.583409309387207,
          5.5263237953186035,
          8.132928848266602,
          -2.9981377124786377,
          -3.483490228652954,
          6.216498851776123,
          -3.8868296146392822,
          -2.1945738792419434,
          6.031008243560791,
          -2.2309083938598633,
          -2.61299729347229,
          6.495080947875977,
          5.993220806121826,
          7.301995277404785,
          5.651506423950195,
          -2.285956621170044,
          8.217750549316406,
          -1.7859488725662231,
          -1.9285105466842651,
          -1.9745649099349976,
          6.221482276916504,
          -2.755944013595581,
          -3.697403907775879,
          -3.7965166568756104,
          6.358532428741455,
          -2.3688652515411377,
          -1.6584489345550537,
          -1.6421951055526733,
          6.102543354034424,
          -1.9281940460205078,
          -3.8898327350616455,
          -3.276102304458618,
          6.255996227264404,
          7.033344268798828,
          8.082540512084961,
          -1.3003758192062378,
          7.951014995574951,
          -2.785871982574463,
          -4.10643196105957,
          -4.7768235206604,
          6.655076026916504,
          -3.9702916145324707,
          -3.3746933937072754,
          7.639224052429199,
          -4.987285137176514,
          7.675317764282227,
          -3.7544655799865723,
          -4.251206398010254,
          -4.332991123199463,
          -1.1451698541641235,
          -3.6578235626220703,
          -3.6493473052978516,
          7.932036876678467,
          -3.210745096206665,
          7.8574299812316895,
          -3.973031759262085,
          -1.4107346534729004,
          -1.5683881044387817,
          -3.3496909141540527,
          -1.7510387897491455,
          -4.973867893218994,
          -2.385554313659668,
          -2.749340057373047,
          -2.770596742630005,
          -1.81571626663208,
          -2.7857282161712646,
          -3.5134711265563965,
          -1.6593639850616455,
          -2.5272061824798584,
          -3.407717227935791,
          7.864805698394775,
          -3.5119833946228027,
          5.789585113525391,
          -4.0829877853393555,
          -4.11477518081665,
          7.458632469177246,
          -3.257244825363159,
          6.339125156402588,
          -2.5622305870056152,
          -3.928704261779785,
          -2.0233094692230225,
          -4.558030605316162,
          7.124986171722412,
          -2.9163520336151123,
          -4.89059591293335,
          -3.054443120956421,
          -2.2516725063323975,
          -1.9822977781295776,
          -1.2212632894515991,
          6.453248500823975,
          -4.686855316162109,
          -4.37223482131958,
          -2.033539056777954,
          6.711788654327393,
          -4.147823810577393,
          7.928093433380127,
          5.972944736480713,
          -2.6423697471618652,
          -1.5586024522781372,
          -1.7251192331314087,
          7.04801082611084,
          -1.9590109586715698,
          7.530838966369629,
          5.991855621337891,
          6.876794338226318,
          6.083487510681152,
          6.539340972900391,
          -3.9005134105682373,
          -1.6896119117736816,
          -2.5573618412017822,
          -3.7387635707855225,
          6.596221446990967,
          -4.009278297424316,
          -2.203521251678467,
          8.136271476745605,
          -2.416839838027954,
          -2.0038554668426514,
          8.521623611450195,
          6.10719633102417,
          7.14256477355957,
          6.055315017700195,
          8.36046028137207,
          7.805686950683594,
          6.094694137573242,
          -4.293338775634766,
          -2.927339553833008,
          -3.9471640586853027,
          6.957383155822754,
          -2.4706220626831055,
          -3.4499881267547607,
          5.84581184387207,
          -1.9831478595733643,
          -2.997285842895508,
          -2.637058973312378,
          -2.0500097274780273,
          5.792689323425293,
          -1.6391706466674805,
          -4.2079596519470215,
          -2.9965741634368896,
          -2.0803921222686768,
          -2.2390425205230713,
          -2.420466423034668,
          6.5856122970581055,
          -4.16459321975708,
          6.27103328704834,
          -1.568145751953125,
          -3.9964993000030518,
          -1.6043281555175781,
          -3.256235122680664,
          -2.2703442573547363,
          7.473352909088135,
          -3.57196044921875,
          -4.114099025726318,
          6.108100414276123,
          -2.3511874675750732,
          6.557825088500977,
          -4.103455543518066,
          -4.1559367179870605,
          -2.606595516204834,
          -2.8190150260925293,
          -3.9776132106781006,
          -3.5298421382904053,
          -3.0028128623962402,
          -1.5219379663467407,
          6.647498607635498,
          -2.4037694931030273,
          -2.725306510925293,
          -3.825117349624634,
          7.433588027954102,
          7.131613254547119,
          6.252410411834717,
          -1.8596696853637695,
          -3.3602983951568604,
          -1.147444486618042,
          6.047657489776611,
          7.869974136352539,
          7.568045139312744,
          7.199111461639404,
          -3.725879430770874,
          7.612205982208252,
          -2.4319512844085693,
          -1.5714753866195679,
          -4.49989128112793,
          -2.1197521686553955,
          -1.9454466104507446,
          -2.4480319023132324,
          -3.498028516769409,
          -4.674510478973389,
          7.611325740814209,
          -3.316443920135498,
          7.778010368347168,
          6.537871837615967,
          -1.7934755086898804,
          7.19002628326416,
          -2.9812493324279785,
          -3.0517797470092773,
          -3.8947229385375977,
          -4.189757823944092,
          -2.909742593765259,
          6.330716609954834,
          7.671041965484619,
          -1.60649836063385,
          -1.875133991241455,
          6.5046820640563965,
          6.269217014312744,
          -1.5500301122665405,
          6.948821544647217,
          -3.2006545066833496,
          -3.566096782684326,
          -2.1856110095977783,
          -2.43684458732605,
          -2.4483916759490967,
          -1.3756567239761353,
          -2.812854528427124,
          -2.226533889770508,
          7.865231037139893,
          -3.8333017826080322,
          -4.0916361808776855,
          7.947603702545166,
          7.139118194580078,
          7.831383228302002,
          -3.9972434043884277,
          6.646180152893066,
          -1.319141149520874,
          6.1304779052734375,
          7.211558818817139,
          -3.029993772506714,
          -3.7304253578186035,
          5.817047119140625,
          -2.7594079971313477,
          6.641942024230957,
          -3.2288384437561035,
          -2.5797832012176514,
          -2.413468599319458,
          -2.6791749000549316,
          -1.2824019193649292,
          -2.2692785263061523,
          7.536979675292969,
          7.373753070831299,
          -2.5915374755859375,
          -4.470900535583496,
          6.3023834228515625,
          7.240445137023926,
          6.006515026092529,
          -2.8655734062194824,
          -3.945763111114502,
          -3.3902692794799805,
          6.559659957885742,
          -3.1664211750030518,
          -1.5060211420059204,
          -4.96272611618042,
          -2.6814982891082764,
          -2.3456614017486572,
          6.380515098571777,
          -3.82694673538208,
          8.366586685180664,
          -3.167893171310425,
          -1.363196611404419,
          7.698293685913086,
          -3.782726287841797,
          -3.6458611488342285,
          -3.157033681869507,
          8.200358390808105,
          -1.775567650794983,
          5.788241863250732,
          6.351873874664307,
          -1.3644214868545532,
          -3.923624038696289,
          -3.6291251182556152,
          8.144545555114746,
          -3.60581374168396,
          -2.9665169715881348,
          6.349856853485107,
          6.077477931976318,
          8.31107234954834,
          5.682406902313232,
          -2.6089155673980713,
          -2.9196972846984863,
          6.580704212188721,
          6.8145318031311035,
          -1.303885579109192,
          -3.5337717533111572,
          -4.087277412414551,
          6.349003314971924,
          8.309761047363281
         ],
         "xaxis": "x",
         "y": [
          -1.7090609073638916,
          4.088976860046387,
          0.5023947358131409,
          4.598155975341797,
          0.18964461982250214,
          3.9150936603546143,
          4.73126745223999,
          4.388995170593262,
          1.8558902740478516,
          -2.1469857692718506,
          5.702834606170654,
          0.8845970034599304,
          4.600345134735107,
          1.4219210147857666,
          1.407194972038269,
          3.7131104469299316,
          4.728028774261475,
          3.3782122135162354,
          1.4264929294586182,
          3.9662985801696777,
          3.8799796104431152,
          -1.2570528984069824,
          0.8943061232566833,
          1.82125985622406,
          3.170341730117798,
          -0.8982876539230347,
          1.0885448455810547,
          1.9176920652389526,
          2.4044549465179443,
          2.8775711059570312,
          1.9847087860107422,
          4.888646125793457,
          0.8028042912483215,
          2.3529093265533447,
          1.413112759590149,
          -1.12641441822052,
          3.0507307052612305,
          1.8585125207901,
          -1.26560640335083,
          4.0085768699646,
          3.3100974559783936,
          3.0115818977355957,
          2.6908133029937744,
          3.0809922218322754,
          2.3075239658355713,
          3.812486171722412,
          2.2966177463531494,
          1.905091404914856,
          1.0683543682098389,
          3.62170147895813,
          5.197076320648193,
          1.6076630353927612,
          1.4925016164779663,
          3.7907400131225586,
          3.820470094680786,
          1.8459888696670532,
          4.069156646728516,
          1.188199758529663,
          2.452085256576538,
          0.8880994319915771,
          1.3110439777374268,
          2.894768714904785,
          3.455061912536621,
          3.10937762260437,
          2.655719757080078,
          2.0623135566711426,
          1.9644606113433838,
          3.0523204803466797,
          0.8635725975036621,
          3.8932511806488037,
          2.594639301300049,
          4.572808265686035,
          -1.3436635732650757,
          4.929971218109131,
          -3.775789499282837,
          -2.279217481613159,
          0.793829619884491,
          3.2987561225891113,
          -3.636366605758667,
          -2.9053761959075928,
          -2.98848819732666,
          -2.201357126235962,
          0.7875210642814636,
          2.862555503845215,
          4.5356669425964355,
          3.5977277755737305,
          3.426311492919922,
          4.1560139656066895,
          1.968793511390686,
          -1.2536773681640625,
          -2.5923049449920654,
          5.5056352615356445,
          2.5185813903808594,
          4.474308967590332,
          5.104794979095459,
          3.2834155559539795,
          1.9897211790084839,
          3.5506129264831543,
          3.025083541870117,
          0.891459047794342,
          -1.202654242515564,
          3.6772332191467285,
          3.5028958320617676,
          1.3638198375701904,
          3.659857988357544,
          -2.0448484420776367,
          2.4768168926239014,
          4.359915733337402,
          -3.7207770347595215,
          3.201563835144043,
          -1.742271900177002,
          -1.058518648147583,
          5.703783988952637,
          -2.203754186630249,
          0.17466677725315094,
          -2.3020706176757812,
          5.185769557952881,
          4.547273635864258,
          4.874683380126953,
          3.3654325008392334,
          -2.5164854526519775,
          1.699916958808899,
          3.9683921337127686,
          2.8614909648895264,
          0.5972159504890442,
          4.093894958496094,
          4.774576663970947,
          4.6363444328308105,
          4.34820556640625,
          4.015781879425049,
          1.710291862487793,
          1.708948016166687,
          5.098021984100342,
          4.742733001708984,
          3.859327554702759,
          -2.425220012664795,
          0.5336308479309082,
          4.934538841247559,
          4.231246471405029,
          2.7230823040008545,
          5.159345626831055,
          -1.2160398960113525,
          1.2591618299484253,
          0.374235600233078,
          3.4806487560272217,
          -2.4711790084838867,
          4.504173755645752,
          3.6451427936553955,
          4.260344505310059,
          1.8052611351013184,
          -1.4989292621612549,
          -2.5683817863464355,
          2.7443196773529053,
          1.2938318252563477,
          -1.2292886972427368,
          2.2578415870666504,
          2.70784854888916,
          3.2338902950286865,
          -3.1912124156951904,
          4.483868598937988,
          5.186098575592041,
          1.2735052108764648,
          -3.046260356903076,
          -3.5410430431365967,
          4.419548034667969,
          3.6318118572235107,
          5.087366104125977,
          2.521843194961548,
          1.0923705101013184,
          0.7024144530296326,
          2.4423160552978516,
          3.4236690998077393,
          3.4249558448791504,
          0.47077611088752747,
          2.53831148147583,
          3.970123529434204,
          3.720052480697632,
          0.3862153887748718,
          4.468815326690674,
          4.823936462402344,
          2.613360643386841,
          3.570838689804077,
          5.009097576141357,
          2.8349831104278564,
          2.6617908477783203,
          5.115115165710449,
          2.9966254234313965,
          1.6535701751708984,
          -2.405207395553589,
          -2.5468356609344482,
          3.5324718952178955,
          0.1652834564447403,
          5.539520263671875,
          0.30168992280960083,
          4.6838154792785645,
          4.973814487457275,
          2.732090473175049,
          4.153282165527344,
          -1.1355116367340088,
          0.5810096859931946,
          1.7740392684936523,
          2.0505430698394775,
          4.993917942047119,
          0.7073827385902405,
          0.4831775724887848,
          4.9531073570251465,
          -3.0417678356170654,
          1.846806287765503,
          3.842956304550171,
          4.658247947692871,
          2.4228274822235107,
          3.0871431827545166,
          3.110705614089966,
          -1.9857494831085205,
          1.7950561046600342,
          2.3695526123046875,
          4.525781154632568,
          3.647115707397461,
          3.249749183654785,
          2.4524497985839844,
          0.47568026185035706,
          3.9225234985351562,
          0.7230486273765564,
          -3.7419304847717285,
          4.501721382141113,
          -2.965622663497925,
          2.5474066734313965,
          -2.493051767349243,
          3.8813905715942383,
          2.9487202167510986,
          4.826016426086426,
          2.608243942260742,
          4.850009918212891,
          4.891608238220215,
          3.8680977821350098,
          3.9976301193237305,
          3.8769567012786865,
          -2.4676241874694824,
          4.5403032302856445,
          0.3083234131336212,
          1.9175056219100952,
          3.3853187561035156,
          0.6270636320114136,
          4.190734386444092,
          4.119832992553711,
          4.091073989868164,
          -2.269160270690918,
          -3.3891732692718506,
          2.5198872089385986,
          0.77162104845047,
          1.0736817121505737,
          2.6682605743408203,
          4.634407043457031,
          1.3322235345840454,
          -1.9991205930709839,
          2.0660243034362793,
          -1.9743152856826782,
          4.249434947967529,
          2.938222646713257,
          3.610560655593872,
          0.4320434629917145,
          1.3401098251342773,
          0.14619754254817963,
          2.635868549346924,
          1.1416573524475098,
          4.12257194519043,
          4.743268013000488,
          4.89902400970459,
          -3.6307168006896973,
          3.8620407581329346,
          4.188069820404053,
          5.1331987380981445,
          -2.5359272956848145,
          0.36050447821617126,
          4.424306869506836,
          1.6484580039978027,
          3.30480694770813,
          0.21209105849266052,
          4.258569717407227,
          -2.407655715942383,
          2.682384967803955,
          0.5342778563499451,
          -2.3372128009796143,
          -2.0768227577209473,
          0.26015371084213257,
          3.834510087966919,
          3.0904059410095215,
          3.9880480766296387,
          4.393272399902344,
          -1.4501343965530396,
          -1.311995029449463,
          4.446972370147705,
          2.40548038482666,
          3.8273065090179443,
          2.9524569511413574,
          5.314508438110352,
          4.335024356842041,
          -3.3920490741729736,
          2.367227792739868,
          -1.9646449089050293,
          3.745011329650879,
          4.28213357925415,
          2.7507596015930176,
          4.190009117126465,
          3.9555089473724365,
          -3.3880395889282227,
          3.585444211959839,
          -3.0898211002349854,
          3.3395636081695557,
          2.653298854827881,
          2.6443099975585938,
          3.4932303428649902,
          3.29805850982666,
          0.3109269142150879,
          2.6237664222717285,
          -1.7497684955596924,
          0.8225178122520447,
          4.500068664550781,
          -3.5123133659362793,
          4.962557315826416,
          3.6608738899230957,
          -2.6760313510894775,
          4.629828929901123,
          3.4802684783935547,
          -2.822202682495117,
          -1.8856594562530518,
          4.574186325073242,
          4.6297993659973145,
          1.3845282793045044,
          4.115262508392334,
          4.852738380432129,
          3.583432912826538,
          1.2291674613952637,
          1.958414912223816,
          4.063746929168701,
          0.8720560073852539,
          4.154139041900635,
          -2.395402431488037,
          3.0920989513397217,
          3.325725793838501,
          -2.4484355449676514,
          -2.533491373062134,
          4.7530341148376465,
          1.3493549823760986,
          4.308785438537598,
          1.0315189361572266,
          4.756562232971191,
          3.6095540523529053,
          4.579380989074707,
          3.5751163959503174,
          2.6049065589904785,
          -2.5744006633758545,
          3.5860049724578857,
          5.07334566116333,
          3.1484787464141846,
          -2.472648859024048,
          1.4832152128219604,
          3.676971673965454,
          3.042466878890991,
          -0.9089094996452332,
          4.056447505950928,
          3.624337911605835,
          1.3480674028396606,
          3.1164188385009766,
          4.685116767883301,
          -3.105994701385498,
          3.1120827198028564,
          4.659980297088623,
          4.202247619628906,
          4.416478157043457,
          2.8038504123687744,
          1.8510706424713135,
          0.5429840087890625,
          1.4599581956863403,
          4.6953935623168945,
          2.617560863494873,
          -3.3866400718688965,
          4.115504741668701,
          5.100629806518555,
          -1.446374773979187,
          4.548274040222168,
          1.5615273714065552,
          -3.5336499214172363,
          -1.6173644065856934,
          4.092350959777832,
          1.957304835319519,
          2.3468239307403564,
          2.2079555988311768,
          2.5734639167785645,
          -1.0776443481445312,
          3.141535758972168,
          2.0102264881134033,
          -2.5827090740203857,
          -2.5524330139160156,
          3.6794490814208984,
          5.118791580200195,
          -1.9185121059417725,
          4.165865421295166,
          -1.6307482719421387,
          -2.347301721572876,
          3.1774585247039795,
          2.535071611404419,
          3.551159143447876,
          5.018074989318848,
          4.150634288787842,
          5.066572189331055,
          0.679284930229187,
          1.3856871128082275,
          4.699860572814941,
          4.222343921661377,
          4.008395671844482,
          -1.7230887413024902,
          3.235685348510742,
          -3.3116965293884277,
          4.348699569702148,
          2.656994342803955,
          4.016177177429199,
          4.278704643249512,
          4.840793132781982,
          1.220501184463501,
          -1.0440071821212769,
          2.9989514350891113,
          3.9147324562072754,
          3.9449522495269775,
          1.1938456296920776,
          4.124545097351074,
          4.716403484344482,
          4.086202621459961,
          -1.3943041563034058,
          0.7768197059631348,
          -2.285658359527588,
          5.102585792541504,
          2.884084463119507,
          4.162609100341797,
          2.4622771739959717,
          2.7627923488616943,
          3.8824961185455322,
          0.7264573574066162,
          -3.712329626083374,
          0.5152407884597778,
          -2.103304624557495,
          -3.5579001903533936,
          0.31202730536460876,
          0.6551411747932434,
          1.8818020820617676,
          3.6413609981536865,
          2.635352849960327,
          1.5794271230697632,
          0.8023064732551575,
          3.829702854156494,
          2.754640579223633,
          0.5016701817512512,
          2.6610238552093506,
          -3.386564016342163,
          5.665544509887695,
          4.967552185058594,
          2.3221538066864014,
          0.5173543095588684,
          -3.6247940063476562,
          -1.6074010133743286,
          4.080038070678711,
          0.4284614026546478,
          3.068603038787842,
          -3.1472361087799072,
          2.1136534214019775,
          -2.617527484893799,
          -3.592867374420166,
          2.8466734886169434,
          3.708505392074585,
          0.9616625905036926,
          -2.7316207885742188,
          3.249894857406616,
          3.379258632659912,
          -2.4708664417266846,
          2.7010715007781982,
          4.6135969161987305,
          4.877864837646484,
          3.7446725368499756,
          -1.9732054471969604,
          4.028597831726074,
          3.1863484382629395,
          2.828045129776001,
          3.921738386154175,
          0.8277927041053772,
          5.186478614807129,
          0.6623954176902771,
          2.972510576248169,
          -1.4340548515319824,
          -2.356156587600708,
          0.34721747040748596,
          -3.2101147174835205,
          5.4800825119018555,
          3.1847939491271973,
          2.631016969680786,
          0.7402361631393433,
          4.344058990478516,
          4.155387878417969,
          4.780815601348877,
          1.4458931684494019,
          -1.2154778242111206,
          4.326389312744141,
          1.908355712890625,
          -1.507491111755371,
          1.9662472009658813,
          -1.4871225357055664,
          0.3291955292224884,
          -3.687115430831909,
          3.545048475265503,
          -1.418492078781128,
          3.417961835861206,
          0.13716968894004822,
          3.337160348892212,
          3.4835169315338135,
          3.409000873565674,
          -3.4467811584472656,
          1.7874239683151245,
          1.1252562999725342,
          -3.688523769378662,
          2.5481925010681152,
          3.703890562057495,
          -1.1409833431243896,
          1.5505235195159912,
          2.989166736602783,
          1.380326271057129,
          3.3299543857574463,
          5.053492546081543,
          -1.6135696172714233,
          4.393089771270752,
          2.511763572692871,
          -1.6248708963394165,
          3.4125592708587646,
          3.1844043731689453,
          4.739954471588135,
          2.7274463176727295,
          5.401740074157715,
          2.86369252204895,
          4.746932506561279,
          0.6237897872924805,
          0.09394954890012741,
          4.062038421630859,
          3.1005027294158936,
          4.14232063293457,
          3.9521484375,
          4.3480048179626465,
          3.850855588912964,
          5.109926223754883,
          -2.2977707386016846,
          4.388012886047363,
          4.198644638061523,
          -2.2953150272369385,
          1.4687299728393555,
          -2.3103582859039307,
          0.6161150932312012,
          -3.220282793045044,
          1.5496587753295898,
          3.737506151199341,
          4.668915748596191,
          -3.47261905670166,
          4.618195533752441,
          2.3198351860046387,
          0.6453023552894592,
          3.195443630218506,
          1.6271557807922363,
          5.218721389770508,
          3.2212982177734375,
          -3.089127779006958,
          3.3952529430389404,
          1.84443199634552,
          4.41668176651001,
          5.394404411315918,
          -1.6700725555419922,
          5.498737335205078,
          4.18257999420166,
          3.5401432514190674,
          4.39666223526001,
          2.631239652633667,
          4.274051189422607,
          4.347939491271973,
          -2.151156425476074,
          -2.5548291206359863,
          -1.1169742345809937,
          -3.007167100906372,
          1.227383017539978,
          4.481917381286621,
          3.289271116256714,
          -3.028369426727295,
          -1.82370126247406,
          2.5625932216644287,
          4.639782428741455,
          3.112532138824463,
          2.6752326488494873,
          2.5449161529541016,
          1.9329144954681396,
          4.143654823303223,
          1.8544366359710693,
          1.3531405925750732,
          4.36067008972168,
          3.031491994857788,
          3.826444387435913,
          0.6320233345031738,
          4.944920063018799,
          1.6851881742477417,
          3.3377890586853027,
          4.910793304443359,
          4.084569931030273,
          4.385525703430176,
          4.411716461181641,
          3.431586265563965,
          3.306243658065796,
          3.64784836769104,
          2.947901725769043,
          -1.3660517930984497,
          -1.165083408355713,
          -2.305211305618286,
          -2.5068130493164062,
          1.7342638969421387,
          2.436793565750122,
          2.0430517196655273,
          0.6449574828147888,
          -1.7677974700927734,
          1.524674892425537,
          1.4569066762924194,
          1.074454665184021,
          2.267244577407837,
          1.421126365661621,
          4.160728931427002,
          5.233397483825684,
          0.15336920320987701,
          1.487558126449585,
          -3.1693456172943115,
          0.6757507920265198,
          4.0877485275268555,
          -3.777284622192383,
          1.0987813472747803,
          -1.1615737676620483,
          -0.14858116209506989,
          -1.312182903289795,
          1.621224045753479,
          5.659910202026367,
          1.6141300201416016,
          0.5100935697555542,
          4.666393280029297,
          4.904965877532959,
          -1.3939650058746338,
          3.4958629608154297,
          -3.210608959197998,
          0.8522630929946899,
          -2.5129566192626953,
          2.7648913860321045,
          -2.6083931922912598,
          2.539649724960327,
          3.4528820514678955,
          1.657913327217102,
          4.971255302429199,
          3.9477081298828125,
          4.611765384674072,
          0.7283430099487305,
          -2.1412503719329834,
          1.6631489992141724,
          3.202974796295166,
          2.6710000038146973,
          1.451860785484314,
          1.9731945991516113,
          -1.7572801113128662,
          4.334963798522949,
          4.2067179679870605,
          4.8520588874816895,
          4.758662700653076,
          4.254305362701416,
          3.788815498352051,
          2.7159876823425293,
          -2.4310224056243896,
          1.1308132410049438,
          1.6245040893554688,
          4.375877857208252,
          1.841970682144165,
          4.652989387512207,
          5.569888114929199,
          4.258825778961182,
          4.741458415985107,
          1.1200464963912964,
          2.723736047744751,
          -2.5350167751312256,
          3.5145020484924316,
          1.6387358903884888,
          3.8394718170166016,
          -2.6358087062835693,
          3.41131854057312,
          5.633345127105713,
          2.6284098625183105,
          3.347818374633789,
          3.0369856357574463,
          3.1586389541625977,
          2.700068950653076,
          5.662458896636963,
          4.633636474609375,
          -1.3840595483779907,
          -2.9010162353515625,
          -3.133394479751587,
          2.684166669845581,
          2.004601240158081,
          -2.8843448162078857,
          1.365614891052246,
          2.4096832275390625,
          -2.2564618587493896,
          5.182096481323242,
          5.477360248565674,
          3.374311923980713,
          1.4143325090408325,
          2.9980006217956543,
          2.255618095397949,
          3.068081855773926,
          0.9211519956588745,
          3.0854592323303223,
          2.278583288192749,
          4.392727851867676,
          3.9097073078155518,
          3.9070088863372803,
          2.5082268714904785,
          2.563633680343628,
          1.2249244451522827,
          4.995061874389648,
          2.981333017349243,
          1.88753342628479,
          2.725752115249634,
          0.7750762701034546,
          3.657205104827881,
          4.5608696937561035,
          4.705446243286133,
          3.87151837348938,
          2.573093891143799,
          0.5939284563064575,
          1.5469613075256348,
          1.1871148347854614,
          2.269411325454712,
          5.598636627197266,
          -2.1824147701263428,
          -3.137256383895874,
          -3.3940045833587646,
          2.8952994346618652,
          1.770806074142456,
          -2.148033618927002,
          -2.2465171813964844,
          3.092742443084717,
          -1.4902206659317017,
          -3.4502384662628174,
          -2.7459893226623535,
          5.637111186981201,
          0.466662734746933,
          2.7223806381225586,
          4.1063055992126465,
          0.5353538990020752,
          5.188213348388672,
          4.634538173675537,
          2.6379780769348145,
          0.44220373034477234,
          -2.8331968784332275,
          1.3490755558013916,
          3.370906352996826,
          3.5878236293792725,
          2.749610424041748,
          1.1073980331420898,
          2.55812406539917,
          3.9226934909820557,
          -1.7377204895019531,
          4.884940147399902,
          5.069477081298828,
          0.24680829048156738,
          4.596676826477051,
          0.1495739370584488,
          -2.7915899753570557,
          -1.980535864830017,
          1.889359474182129,
          4.810580730438232,
          -1.9857573509216309,
          3.019059658050537,
          1.5060899257659912,
          2.079622745513916,
          -3.6885030269622803,
          -2.217355728149414,
          -2.4584908485412598,
          5.125073432922363,
          3.451760768890381,
          -1.544629693031311,
          -3.4341440200805664,
          2.7241265773773193,
          1.4118565320968628,
          4.350605010986328,
          -3.3211252689361572,
          -2.8734095096588135,
          4.215954303741455,
          -2.355602979660034,
          2.922407388687134,
          -3.44062876701355,
          4.813056468963623,
          4.957431793212891,
          2.4030814170837402,
          0.7810359001159668,
          -2.7704694271087646,
          3.435108184814453,
          1.816535472869873,
          1.4061164855957031,
          2.4524474143981934,
          4.275906085968018,
          0.3200964033603668,
          3.7847228050231934,
          1.7257412672042847,
          3.573723316192627,
          5.217464447021484,
          2.742500066757202,
          0.7256594300270081,
          3.2646644115448,
          -3.5166707038879395,
          -1.060938835144043,
          3.485147476196289,
          1.0183809995651245,
          3.4946720600128174,
          4.1040191650390625,
          3.5255661010742188,
          4.667200088500977,
          5.238887310028076,
          0.3605441451072693,
          -3.4502813816070557,
          3.4323184490203857,
          3.235821485519409,
          3.8640811443328857,
          5.319789886474609,
          -3.07790207862854,
          -2.70682692527771,
          3.1508142948150635,
          3.683670997619629,
          -1.3983193635940552,
          3.4051456451416016,
          3.1273815631866455,
          0.46245092153549194,
          3.958936929702759,
          0.5563765168190002,
          0.15438847243785858,
          5.191851615905762,
          1.5121575593948364,
          -2.5883631706237793,
          1.4189444780349731,
          4.660399436950684,
          4.244425296783447,
          4.556708812713623,
          4.800395965576172,
          3.7596514225006104,
          -2.7195584774017334,
          -1.6215401887893677,
          0.6136932969093323,
          4.682173728942871,
          -1.2450429201126099,
          1.4138820171356201,
          -2.5299057960510254,
          2.442640781402588,
          3.822409152984619,
          2.4613819122314453,
          5.14453125,
          -3.1119437217712402,
          2.9614498615264893,
          -1.1825023889541626,
          -2.828336000442505,
          2.2936911582946777,
          -2.6583428382873535,
          3.55672287940979,
          4.921834468841553,
          4.692115783691406,
          -2.934722423553467,
          4.24200963973999,
          -1.2677006721496582,
          4.613931179046631,
          1.5849248170852661,
          3.5610721111297607,
          -1.7428632974624634,
          5.144332408905029,
          2.6102066040039062,
          1.5859185457229614,
          2.2702178955078125,
          -2.0124452114105225,
          0.612205982208252,
          -1.3867048025131226,
          -2.920377492904663,
          -2.410306215286255,
          4.6257147789001465,
          4.14113712310791,
          5.67207670211792,
          -2.181279420852661,
          2.504462242126465,
          -1.9165717363357544,
          3.0488059520721436,
          0.6493009924888611,
          2.7303688526153564,
          1.2474347352981567,
          -2.3698949813842773,
          2.8447105884552,
          -2.2469406127929688,
          -2.455153465270996,
          4.037659168243408,
          2.511765241622925,
          3.1238155364990234,
          3.9944992065429688,
          1.353827714920044,
          2.3667211532592773,
          4.09700870513916,
          -2.9247021675109863,
          0.7194957137107849,
          4.292804718017578,
          4.756897449493408,
          1.2610664367675781,
          -3.7490715980529785,
          3.6169722080230713,
          2.695307493209839,
          2.502412796020508,
          -3.7031049728393555,
          2.9615626335144043,
          0.067662313580513,
          -1.563294529914856,
          3.9105260372161865,
          5.232316017150879,
          5.662517547607422,
          -1.1612743139266968,
          4.966850280761719,
          3.310446262359619,
          -2.4081218242645264,
          3.9728972911834717,
          -1.505979061126709,
          5.099143028259277,
          -1.9193161725997925,
          2.615656852722168,
          3.9498767852783203,
          0.09331581741571426,
          1.6325987577438354,
          3.370821237564087,
          2.644538164138794,
          4.232956886291504,
          0.9303210973739624,
          2.138641357421875,
          0.6959586143493652,
          4.2191290855407715,
          5.398228168487549,
          0.868336021900177,
          1.650925636291504,
          -3.5198633670806885,
          4.850536346435547,
          -3.364541530609131,
          2.971820116043091,
          -3.2161355018615723,
          -2.707442283630371,
          4.109260559082031,
          5.12643575668335,
          -1.9650073051452637,
          1.4706737995147705,
          4.098132610321045,
          4.761509418487549,
          1.7146189212799072,
          3.948460578918457,
          5.68271017074585,
          3.26436185836792,
          3.107276201248169,
          2.056156873703003,
          4.647945880889893,
          2.7165095806121826,
          0.40119946002960205,
          -3.6053717136383057,
          -2.1573028564453125,
          3.4646830558776855,
          3.8146989345550537,
          -3.1481316089630127,
          2.956024169921875,
          1.4463738203048706,
          3.2909297943115234,
          -2.667386531829834,
          -2.4588494300842285,
          0.08123428374528885,
          -2.532313823699951,
          4.3512864112854,
          3.9982681274414062,
          3.4646809101104736,
          1.5333446264266968,
          4.368559837341309,
          2.9891529083251953,
          -1.2403874397277832,
          -3.249976396560669,
          4.974157810211182,
          3.4823076725006104,
          2.2057619094848633,
          2.0452044010162354,
          4.290257453918457,
          5.364407539367676,
          0.5871268510818481,
          4.5116143226623535,
          -3.5206964015960693,
          -3.1627185344696045,
          0.705548882484436,
          3.221740245819092,
          -2.063028573989868,
          3.452571392059326,
          -3.1999008655548096,
          4.176295757293701,
          0.5882179737091064
         ],
         "yaxis": "y"
        }
       ],
       "layout": {
        "coloraxis": {
         "colorbar": {
          "title": {
           "text": "Label"
          }
         },
         "colorscale": [
          [
           0,
           "#0d0887"
          ],
          [
           0.1111111111111111,
           "#46039f"
          ],
          [
           0.2222222222222222,
           "#7201a8"
          ],
          [
           0.3333333333333333,
           "#9c179e"
          ],
          [
           0.4444444444444444,
           "#bd3786"
          ],
          [
           0.5555555555555556,
           "#d8576b"
          ],
          [
           0.6666666666666666,
           "#ed7953"
          ],
          [
           0.7777777777777778,
           "#fb9f3a"
          ],
          [
           0.8888888888888888,
           "#fdca26"
          ],
          [
           1,
           "#f0f921"
          ]
         ]
        },
        "height": 800,
        "legend": {
         "tracegroupgap": 0
        },
        "template": {
         "data": {
          "bar": [
           {
            "error_x": {
             "color": "#2a3f5f"
            },
            "error_y": {
             "color": "#2a3f5f"
            },
            "marker": {
             "line": {
              "color": "#E5ECF6",
              "width": 0.5
             }
            },
            "type": "bar"
           }
          ],
          "barpolar": [
           {
            "marker": {
             "line": {
              "color": "#E5ECF6",
              "width": 0.5
             }
            },
            "type": "barpolar"
           }
          ],
          "carpet": [
           {
            "aaxis": {
             "endlinecolor": "#2a3f5f",
             "gridcolor": "white",
             "linecolor": "white",
             "minorgridcolor": "white",
             "startlinecolor": "#2a3f5f"
            },
            "baxis": {
             "endlinecolor": "#2a3f5f",
             "gridcolor": "white",
             "linecolor": "white",
             "minorgridcolor": "white",
             "startlinecolor": "#2a3f5f"
            },
            "type": "carpet"
           }
          ],
          "choropleth": [
           {
            "colorbar": {
             "outlinewidth": 0,
             "ticks": ""
            },
            "type": "choropleth"
           }
          ],
          "contour": [
           {
            "colorbar": {
             "outlinewidth": 0,
             "ticks": ""
            },
            "colorscale": [
             [
              0,
              "#0d0887"
             ],
             [
              0.1111111111111111,
              "#46039f"
             ],
             [
              0.2222222222222222,
              "#7201a8"
             ],
             [
              0.3333333333333333,
              "#9c179e"
             ],
             [
              0.4444444444444444,
              "#bd3786"
             ],
             [
              0.5555555555555556,
              "#d8576b"
             ],
             [
              0.6666666666666666,
              "#ed7953"
             ],
             [
              0.7777777777777778,
              "#fb9f3a"
             ],
             [
              0.8888888888888888,
              "#fdca26"
             ],
             [
              1,
              "#f0f921"
             ]
            ],
            "type": "contour"
           }
          ],
          "contourcarpet": [
           {
            "colorbar": {
             "outlinewidth": 0,
             "ticks": ""
            },
            "type": "contourcarpet"
           }
          ],
          "heatmap": [
           {
            "colorbar": {
             "outlinewidth": 0,
             "ticks": ""
            },
            "colorscale": [
             [
              0,
              "#0d0887"
             ],
             [
              0.1111111111111111,
              "#46039f"
             ],
             [
              0.2222222222222222,
              "#7201a8"
             ],
             [
              0.3333333333333333,
              "#9c179e"
             ],
             [
              0.4444444444444444,
              "#bd3786"
             ],
             [
              0.5555555555555556,
              "#d8576b"
             ],
             [
              0.6666666666666666,
              "#ed7953"
             ],
             [
              0.7777777777777778,
              "#fb9f3a"
             ],
             [
              0.8888888888888888,
              "#fdca26"
             ],
             [
              1,
              "#f0f921"
             ]
            ],
            "type": "heatmap"
           }
          ],
          "heatmapgl": [
           {
            "colorbar": {
             "outlinewidth": 0,
             "ticks": ""
            },
            "colorscale": [
             [
              0,
              "#0d0887"
             ],
             [
              0.1111111111111111,
              "#46039f"
             ],
             [
              0.2222222222222222,
              "#7201a8"
             ],
             [
              0.3333333333333333,
              "#9c179e"
             ],
             [
              0.4444444444444444,
              "#bd3786"
             ],
             [
              0.5555555555555556,
              "#d8576b"
             ],
             [
              0.6666666666666666,
              "#ed7953"
             ],
             [
              0.7777777777777778,
              "#fb9f3a"
             ],
             [
              0.8888888888888888,
              "#fdca26"
             ],
             [
              1,
              "#f0f921"
             ]
            ],
            "type": "heatmapgl"
           }
          ],
          "histogram": [
           {
            "marker": {
             "colorbar": {
              "outlinewidth": 0,
              "ticks": ""
             }
            },
            "type": "histogram"
           }
          ],
          "histogram2d": [
           {
            "colorbar": {
             "outlinewidth": 0,
             "ticks": ""
            },
            "colorscale": [
             [
              0,
              "#0d0887"
             ],
             [
              0.1111111111111111,
              "#46039f"
             ],
             [
              0.2222222222222222,
              "#7201a8"
             ],
             [
              0.3333333333333333,
              "#9c179e"
             ],
             [
              0.4444444444444444,
              "#bd3786"
             ],
             [
              0.5555555555555556,
              "#d8576b"
             ],
             [
              0.6666666666666666,
              "#ed7953"
             ],
             [
              0.7777777777777778,
              "#fb9f3a"
             ],
             [
              0.8888888888888888,
              "#fdca26"
             ],
             [
              1,
              "#f0f921"
             ]
            ],
            "type": "histogram2d"
           }
          ],
          "histogram2dcontour": [
           {
            "colorbar": {
             "outlinewidth": 0,
             "ticks": ""
            },
            "colorscale": [
             [
              0,
              "#0d0887"
             ],
             [
              0.1111111111111111,
              "#46039f"
             ],
             [
              0.2222222222222222,
              "#7201a8"
             ],
             [
              0.3333333333333333,
              "#9c179e"
             ],
             [
              0.4444444444444444,
              "#bd3786"
             ],
             [
              0.5555555555555556,
              "#d8576b"
             ],
             [
              0.6666666666666666,
              "#ed7953"
             ],
             [
              0.7777777777777778,
              "#fb9f3a"
             ],
             [
              0.8888888888888888,
              "#fdca26"
             ],
             [
              1,
              "#f0f921"
             ]
            ],
            "type": "histogram2dcontour"
           }
          ],
          "mesh3d": [
           {
            "colorbar": {
             "outlinewidth": 0,
             "ticks": ""
            },
            "type": "mesh3d"
           }
          ],
          "parcoords": [
           {
            "line": {
             "colorbar": {
              "outlinewidth": 0,
              "ticks": ""
             }
            },
            "type": "parcoords"
           }
          ],
          "pie": [
           {
            "automargin": true,
            "type": "pie"
           }
          ],
          "scatter": [
           {
            "marker": {
             "colorbar": {
              "outlinewidth": 0,
              "ticks": ""
             }
            },
            "type": "scatter"
           }
          ],
          "scatter3d": [
           {
            "line": {
             "colorbar": {
              "outlinewidth": 0,
              "ticks": ""
             }
            },
            "marker": {
             "colorbar": {
              "outlinewidth": 0,
              "ticks": ""
             }
            },
            "type": "scatter3d"
           }
          ],
          "scattercarpet": [
           {
            "marker": {
             "colorbar": {
              "outlinewidth": 0,
              "ticks": ""
             }
            },
            "type": "scattercarpet"
           }
          ],
          "scattergeo": [
           {
            "marker": {
             "colorbar": {
              "outlinewidth": 0,
              "ticks": ""
             }
            },
            "type": "scattergeo"
           }
          ],
          "scattergl": [
           {
            "marker": {
             "colorbar": {
              "outlinewidth": 0,
              "ticks": ""
             }
            },
            "type": "scattergl"
           }
          ],
          "scattermapbox": [
           {
            "marker": {
             "colorbar": {
              "outlinewidth": 0,
              "ticks": ""
             }
            },
            "type": "scattermapbox"
           }
          ],
          "scatterpolar": [
           {
            "marker": {
             "colorbar": {
              "outlinewidth": 0,
              "ticks": ""
             }
            },
            "type": "scatterpolar"
           }
          ],
          "scatterpolargl": [
           {
            "marker": {
             "colorbar": {
              "outlinewidth": 0,
              "ticks": ""
             }
            },
            "type": "scatterpolargl"
           }
          ],
          "scatterternary": [
           {
            "marker": {
             "colorbar": {
              "outlinewidth": 0,
              "ticks": ""
             }
            },
            "type": "scatterternary"
           }
          ],
          "surface": [
           {
            "colorbar": {
             "outlinewidth": 0,
             "ticks": ""
            },
            "colorscale": [
             [
              0,
              "#0d0887"
             ],
             [
              0.1111111111111111,
              "#46039f"
             ],
             [
              0.2222222222222222,
              "#7201a8"
             ],
             [
              0.3333333333333333,
              "#9c179e"
             ],
             [
              0.4444444444444444,
              "#bd3786"
             ],
             [
              0.5555555555555556,
              "#d8576b"
             ],
             [
              0.6666666666666666,
              "#ed7953"
             ],
             [
              0.7777777777777778,
              "#fb9f3a"
             ],
             [
              0.8888888888888888,
              "#fdca26"
             ],
             [
              1,
              "#f0f921"
             ]
            ],
            "type": "surface"
           }
          ],
          "table": [
           {
            "cells": {
             "fill": {
              "color": "#EBF0F8"
             },
             "line": {
              "color": "white"
             }
            },
            "header": {
             "fill": {
              "color": "#C8D4E3"
             },
             "line": {
              "color": "white"
             }
            },
            "type": "table"
           }
          ]
         },
         "layout": {
          "annotationdefaults": {
           "arrowcolor": "#2a3f5f",
           "arrowhead": 0,
           "arrowwidth": 1
          },
          "coloraxis": {
           "colorbar": {
            "outlinewidth": 0,
            "ticks": ""
           }
          },
          "colorscale": {
           "diverging": [
            [
             0,
             "#8e0152"
            ],
            [
             0.1,
             "#c51b7d"
            ],
            [
             0.2,
             "#de77ae"
            ],
            [
             0.3,
             "#f1b6da"
            ],
            [
             0.4,
             "#fde0ef"
            ],
            [
             0.5,
             "#f7f7f7"
            ],
            [
             0.6,
             "#e6f5d0"
            ],
            [
             0.7,
             "#b8e186"
            ],
            [
             0.8,
             "#7fbc41"
            ],
            [
             0.9,
             "#4d9221"
            ],
            [
             1,
             "#276419"
            ]
           ],
           "sequential": [
            [
             0,
             "#0d0887"
            ],
            [
             0.1111111111111111,
             "#46039f"
            ],
            [
             0.2222222222222222,
             "#7201a8"
            ],
            [
             0.3333333333333333,
             "#9c179e"
            ],
            [
             0.4444444444444444,
             "#bd3786"
            ],
            [
             0.5555555555555556,
             "#d8576b"
            ],
            [
             0.6666666666666666,
             "#ed7953"
            ],
            [
             0.7777777777777778,
             "#fb9f3a"
            ],
            [
             0.8888888888888888,
             "#fdca26"
            ],
            [
             1,
             "#f0f921"
            ]
           ],
           "sequentialminus": [
            [
             0,
             "#0d0887"
            ],
            [
             0.1111111111111111,
             "#46039f"
            ],
            [
             0.2222222222222222,
             "#7201a8"
            ],
            [
             0.3333333333333333,
             "#9c179e"
            ],
            [
             0.4444444444444444,
             "#bd3786"
            ],
            [
             0.5555555555555556,
             "#d8576b"
            ],
            [
             0.6666666666666666,
             "#ed7953"
            ],
            [
             0.7777777777777778,
             "#fb9f3a"
            ],
            [
             0.8888888888888888,
             "#fdca26"
            ],
            [
             1,
             "#f0f921"
            ]
           ]
          },
          "colorway": [
           "#636efa",
           "#EF553B",
           "#00cc96",
           "#ab63fa",
           "#FFA15A",
           "#19d3f3",
           "#FF6692",
           "#B6E880",
           "#FF97FF",
           "#FECB52"
          ],
          "font": {
           "color": "#2a3f5f"
          },
          "geo": {
           "bgcolor": "white",
           "lakecolor": "white",
           "landcolor": "#E5ECF6",
           "showlakes": true,
           "showland": true,
           "subunitcolor": "white"
          },
          "hoverlabel": {
           "align": "left"
          },
          "hovermode": "closest",
          "mapbox": {
           "style": "light"
          },
          "paper_bgcolor": "white",
          "plot_bgcolor": "#E5ECF6",
          "polar": {
           "angularaxis": {
            "gridcolor": "white",
            "linecolor": "white",
            "ticks": ""
           },
           "bgcolor": "#E5ECF6",
           "radialaxis": {
            "gridcolor": "white",
            "linecolor": "white",
            "ticks": ""
           }
          },
          "scene": {
           "xaxis": {
            "backgroundcolor": "#E5ECF6",
            "gridcolor": "white",
            "gridwidth": 2,
            "linecolor": "white",
            "showbackground": true,
            "ticks": "",
            "zerolinecolor": "white"
           },
           "yaxis": {
            "backgroundcolor": "#E5ECF6",
            "gridcolor": "white",
            "gridwidth": 2,
            "linecolor": "white",
            "showbackground": true,
            "ticks": "",
            "zerolinecolor": "white"
           },
           "zaxis": {
            "backgroundcolor": "#E5ECF6",
            "gridcolor": "white",
            "gridwidth": 2,
            "linecolor": "white",
            "showbackground": true,
            "ticks": "",
            "zerolinecolor": "white"
           }
          },
          "shapedefaults": {
           "line": {
            "color": "#2a3f5f"
           }
          },
          "ternary": {
           "aaxis": {
            "gridcolor": "white",
            "linecolor": "white",
            "ticks": ""
           },
           "baxis": {
            "gridcolor": "white",
            "linecolor": "white",
            "ticks": ""
           },
           "bgcolor": "#E5ECF6",
           "caxis": {
            "gridcolor": "white",
            "linecolor": "white",
            "ticks": ""
           }
          },
          "title": {
           "x": 0.05
          },
          "xaxis": {
           "automargin": true,
           "gridcolor": "white",
           "linecolor": "white",
           "ticks": "",
           "title": {
            "standoff": 15
           },
           "zerolinecolor": "white",
           "zerolinewidth": 2
          },
          "yaxis": {
           "automargin": true,
           "gridcolor": "white",
           "linecolor": "white",
           "ticks": "",
           "title": {
            "standoff": 15
           },
           "zerolinecolor": "white",
           "zerolinewidth": 2
          }
         }
        },
        "title": {
         "text": "uMAP Plot for Outliers"
        },
        "width": 900,
        "xaxis": {
         "anchor": "y",
         "domain": [
          0,
          1
         ],
         "title": {
          "text": "0"
         }
        },
        "yaxis": {
         "anchor": "x",
         "domain": [
          0,
          1
         ],
         "title": {
          "text": "1"
         }
        }
       }
      },
      "text/html": [
       "<div>\n",
       "        \n",
       "        \n",
       "            <div id=\"67e4907b-0b4c-469f-9246-ce1f14567f1c\" class=\"plotly-graph-div\" style=\"height:800px; width:900px;\"></div>\n",
       "            <script type=\"text/javascript\">\n",
       "                require([\"plotly\"], function(Plotly) {\n",
       "                    window.PLOTLYENV=window.PLOTLYENV || {};\n",
       "                    \n",
       "                if (document.getElementById(\"67e4907b-0b4c-469f-9246-ce1f14567f1c\")) {\n",
       "                    Plotly.newPlot(\n",
       "                        '67e4907b-0b4c-469f-9246-ce1f14567f1c',\n",
       "                        [{\"customdata\": [[0.263995357], [0.546092303], [0.33671410399999996], [0.092107835], [0.325261175], [0.212464853], [0.258565714], [0.869236755], [0.197077957], [0.292984504], [0.82178316], [0.796622959], [0.045577010999999994], [0.613660351], [0.9507445659999999], [0.33634633700000005], [0.034440667], [0.741544275], [0.18443265], [0.664514943], [0.16282485800000002], [0.729838445], [0.62837389], [0.057883660999999996], [0.445534827], [0.80183695], [0.27709612], [0.228634015], [0.834860657], [0.6697665110000001], [0.532527349], [0.17045907100000002], [0.5102884679999999], [0.977561989], [0.249775993], [0.9755006820000001], [0.613701727], [0.16742036300000002], [0.537472516], [0.379899131], [0.633897303], [0.633960424], [0.5499746529999999], [0.178172988], [0.85563814], [0.321796672], [0.8174905370000001], [0.254879417], [0.344140513], [0.8061457259999999], [0.27708167100000003], [0.544328519], [0.07708393], [0.273081458], [0.390877336], [0.349621385], [0.214549744], [0.206075222], [0.86461997], [0.9817088540000001], [0.33482964600000004], [0.648387061], [0.093643561], [0.837802698], [0.7603439670000001], [0.29140417399999996], [0.3413454], [0.7611124840000001], [0.541899775], [0.684176639], [0.983535597], [0.52081245], [0.328227724], [0.09715793800000001], [0.876088593], [0.870214512], [0.656086992], [0.306791514], [0.48126734], [0.259559174], [0.326123655], [0.930568042], [0.6583894], [0.689992335], [0.315781109], [0.5669050929999999], [0.637526619], [0.687540723], [0.324300602], [0.592704906], [0.7402531259999999], [0.5940328770000001], [0.596452977], [0.27768081699999997], [0.258329663], [0.142460864], [0.435533461], [0.7024990440000001], [0.58897535], [0.653304374], [0.336968524], [0.631244736], [0.73530076], [0.050390366], [0.064264924], [0.665359476], [0.917835245], [0.44651012], [0.661938199], [0.43935985299999997], [0.6875724040000001], [0.363462248], [0.6542621820000001], [0.578553536], [0.065927945], [0.550148559], [0.13918281400000002], [0.080004635], [0.278228358], [0.560124266], [0.53639864], [0.42653190399999996], [0.789109796], [0.742900474], [0.901692589], [0.650337401], [0.114057311], [0.260812592], [0.43991232], [0.964409284], [0.184401415], [0.345145446], [0.17589458100000002], [0.312514453], [0.674131879], [0.32825045], [0.598231057], [0.09259881699999999], [0.497916521], [0.419776521], [0.31217670000000003], [0.937857107], [0.049030963], [0.47610452600000003], [0.447397526], [0.295806058], [0.737363977], [0.625896253], [0.408813429], [0.437511156], [0.691351375], [0.935555275], [0.437846654], [0.072217715], [0.67636067], [0.468883999], [0.543820644], [0.6555226470000001], [0.6935289240000001], [0.10887831199999999], [0.285463743], [0.0], [0.706495497], [0.273530633], [0.292320271], [0.673984307], [0.12612182800000002], [0.9467074590000001], [0.9363388979999999], [0.8537553640000001], [0.7060713609999999], [0.693682186], [0.508527882], [0.34717038899999997], [0.704154263], [0.658730088], [0.155841557], [0.311085435], [0.281135347], [0.094587802], [0.6832609540000001], [0.9077292509999999], [0.29151267399999997], [0.752734459], [0.93482964], [0.071413953], [0.5948963270000001], [0.404672015], [0.13837621], [0.7473384679999999], [0.530882486], [0.282649594], [0.699335734], [0.056111250999999994], [0.855234998], [0.07789512700000001], [0.891649583], [0.38674227899999997], [0.27113158], [0.958888961], [0.085120869], [0.5269022489999999], [0.066577785], [0.841506738], [0.255342095], [0.060545771], [0.073385869], [0.187493723], [0.858365688], [0.090640352], [0.7097252270000001], [0.631300647], [0.24750447399999997], [0.822843584], [0.373476759], [0.625538582], [0.292951715], [0.299730324], [0.25121407], [0.344480551], [0.293064767], [0.7628032240000001], [0.7384708040000001], [0.674883265], [0.719151612], [0.13098021599999998], [0.511328036], [0.04492903], [0.560914449], [0.7440406409999999], [0.266961634], [0.644231853], [0.038113352], [0.05715529900000001], [0.34139246100000004], [0.7204636320000001], [0.402878236], [0.635148967], [0.320729467], [0.09120969400000001], [0.23414609], [0.8902211309999999], [0.602170884], [0.633652055], [0.806240837], [0.739731184], [0.465231269], [0.7321109], [0.373874305], [0.501587947], [0.11538315800000001], [0.7319466040000001], [0.41829872799999995], [0.062259590999999996], [0.391496379], [0.35984929], [0.24523562699999998], [0.610028339], [0.43540360200000006], [0.434309675], [0.523763344], [0.17118786600000002], [0.18773430300000002], [0.945014638], [0.027851097000000002], [0.68445706], [0.178014532], [0.643427879], [0.59588355], [0.372361682], [0.586103584], [0.271658852], [0.59951107], [0.468363088], [0.314515565], [0.21893726], [0.254716562], [0.25612815], [0.602259755], [0.134381075], [0.513887424], [0.624241636], [0.160251854], [0.580708108], [0.270540486], [0.832919932], [0.93032134], [0.719157884], [0.886720033], [0.098792281], [0.787174286], [0.365592376], [0.719576193], [0.8058956], [0.7555783340000001], [0.526005909], [0.68880424], [0.22111531199999998], [0.739369477], [0.408440236], [0.348926542], [0.433713763], [0.5964966070000001], [0.6942953000000001], [0.7090309659999999], [0.867652984], [0.89332545], [0.746020922], [0.538284443], [0.8922193140000001], [0.935175765], [0.260527707], [0.956780449], [0.204932484], [0.687733351], [0.329063619], [0.632149831], [0.463744506], [0.698859621], [0.385446564], [0.47997537700000004], [0.732279108], [0.3813543], [0.459326013], [0.257401434], [0.665014804], [0.103399542], [0.425284413], [0.943529051], [0.594750236], [0.543776817], [0.18203988], [0.23584208399999998], [0.585984497], [0.762013168], [0.6849829070000001], [0.676936933], [0.290184964], [0.48106822200000005], [0.492766033], [0.22185623399999999], [0.053875998], [0.082751144], [0.385366225], [0.702513961], [0.91553156], [0.082087436], [0.251280378], [0.41672181700000005], [0.277032672], [0.579539754], [0.569363476], [0.133399703], [0.265045463], [0.936571901], [0.252618554], [0.054033081], [0.802481439], [0.528197693], [0.9515026], [0.572121173], [0.752938227], [0.143857535], [0.513484576], [0.313322389], [0.6877973959999999], [0.37705984], [0.348226142], [0.67763282], [0.24138752100000002], [0.8506501790000001], [0.22034810300000002], [0.476445464], [0.690324025], [0.364695946], [0.6492491970000001], [0.9437019209999999], [0.529645971], [0.299097002], [0.96696247], [0.272005242], [0.314161447], [0.752020991], [0.221882453], [0.7203326729999999], [0.379204782], [0.60168653], [0.582932673], [0.950809853], [0.58830141], [0.880887227], [0.467857701], [0.8799021709999999], [0.619844009], [0.359002573], [0.291511278], [0.694157143], [0.727960353], [0.617703921], [0.39581257], [0.58317282], [0.710332374], [0.253753693], [0.049412227999999996], [0.728378695], [0.432432881], [0.58612345], [0.052342373], [0.053483902], [0.518729378], [0.933040208], [0.7035542840000001], [0.268989899], [0.733006927], [0.44435246700000003], [0.5833946210000001], [0.871172692], [0.42876707799999997], [0.30046084100000003], [0.9533294590000001], [0.606443965], [0.90986815], [0.714896449], [0.49734950899999997], [0.8530974859999999], [0.721804145], [0.303467328], [0.664485096], [0.27978062], [0.569481665], [0.628628926], [0.088368123], [0.733567326], [0.537436778], [0.638593691], [0.954726948], [0.632202332], [0.642134651], [0.744653087], [0.115714007], [0.48625007299999995], [0.440356144], [0.08272289], [0.511591027], [0.394627555], [0.224394], [0.626927584], [0.290254057], [0.779008053], [0.86610579], [0.873326081], [0.49548916], [0.594297695], [0.9182015840000001], [0.5770427539999999], [0.019467671000000002], [0.6702982820000001], [0.546595316], [0.591665146], [0.42155819], [0.6856085590000001], [0.340303024], [0.675626741], [0.319067345], [0.38849966399999997], [0.706949589], [0.559409515], [0.687663508], [0.7088045540000001], [0.6818880940000001], [0.42253510899999996], [0.320004605], [0.6582813679999999], [0.634154867], [0.7773320090000001], [0.812677205], [0.074280797], [0.39600217], [0.054933913], [0.825058925], [0.382642009], [0.8687298179999999], [0.588043346], [0.891551577], [0.10920046], [0.647682781], [0.724342512], [0.07016304400000001], [0.280882054], [0.039113261], [0.579641592], [0.639000922], [0.281745925], [0.647857744], [0.6479057970000001], [0.875226264], [0.567603305], [0.262940591], [0.268026042], [0.40519133], [0.479965451], [0.33552403], [0.777165379], [0.42548796299999997], [0.237986115], [0.142522971], [0.724176488], [0.234698933], [0.07818228099999999], [0.855990155], [0.270251765], [0.435517841], [0.762697513], [0.46448725799999996], [0.396112685], [0.37638092100000003], [0.29459467699999997], [0.6944921209999999], [0.622767949], [0.8475597220000001], [0.301463054], [0.912937812], [0.500017182], [0.902587935], [0.304517943], [0.299165673], [0.092014087], [0.488548917], [0.664664437], [0.26534954899999996], [0.723657021], [0.149262385], [0.04577339], [0.69661064], [0.42181486], [0.733845785], [0.418795386], [0.677443529], [0.26128360300000003], [0.268527767], [0.5443222360000001], [0.431632036], [0.981018141], [0.21498072399999998], [0.39472999299999995], [0.122224944], [0.297496875], [0.37490443100000004], [0.68698771], [0.388549207], [0.039296071], [0.73553424], [0.37929489299999997], [0.7321233859999999], [0.33922143899999996], [0.659450594], [0.054838642], [0.640112102], [0.30714170399999996], [0.39661190700000004], [0.420439161], [0.24171497399999997], [0.065893153], [0.9105219370000001], [0.697163103], [0.072559853], [0.81825094], [0.311888815], [0.961644609], [0.816325524], [0.14647302], [0.548753945], [0.946158087], [0.293992717], [0.331479643], [0.9062200309999999], [0.525540416], [0.83301411], [0.514849806], [0.574609024], [0.46871185299999996], [0.71002775], [0.645973276], [0.229794416], [0.551783393], [0.055822990999999995], [0.331750941], [0.715520198], [0.583924357], [0.30695769100000003], [0.7914782370000001], [0.16423663900000002], [0.065711219], [0.948993132], [0.080423835], [0.052495426], [0.566346135], [0.3630266], [0.605442195], [0.6308505839999999], [0.065791238], [0.28681707100000003], [0.685462839], [0.260853706], [0.659122429], [0.44317392200000005], [0.602063986], [0.060366910999999995], [0.781903153], [0.5145798070000001], [0.48388621299999995], [0.600213807], [0.49736405200000006], [0.411145245], [0.116999171], [0.34189014100000004], [0.746950848], [0.39629274600000003], [0.6221438429999999], [0.335271141], [0.140257137], [0.081620681], [0.069837569], [0.46894000799999996], [0.9908574170000001], [0.896616832], [0.255310561], [0.22464526699999998], [0.01991825], [0.296480415], [0.155458996], [0.577916714], [0.9563030309999999], [0.813464394], [0.529675785], [0.287671353], [0.48039136], [0.28104482199999997], [0.633196521], [0.09332537699999999], [0.28447398100000004], [0.052223775], [0.051129385], [0.967405608], [0.040045727999999996], [0.9085829209999999], [0.6621174160000001], [0.42470320899999997], [0.72207806], [0.666193327], [0.509681253], [0.7513536209999999], [0.279073124], [0.074927], [0.916359535], [0.31040327], [0.716604052], [0.485587085], [0.30607518100000003], [0.477558204], [0.7119239409999999], [0.066348638], [0.27453935100000004], [0.31082252], [0.47607312700000004], [0.186795565], [0.26654207], [0.070231142], [0.26951927], [0.800004713], [0.27363366699999997], [0.14647919199999998], [0.378318951], [0.373849065], [0.242170835], [0.249796488], [0.066591188], [0.372956798], [0.501812291], [0.313097752], [0.8802021959999999], [0.51981893], [0.364138746], [0.49268289600000004], [0.285732652], [0.890114985], [0.316419561], [0.26866354], [0.771975959], [0.968888992], [0.080334377], [0.7368282209999999], [0.30055807100000004], [0.9179503929999999], [0.465815039], [0.054036682], [0.963150123], [0.08965350300000001], [0.7076932340000001], [0.636416037], [0.539521117], [0.114757161], [0.357312419], [0.67639834], [0.43482839], [0.032326387000000005], [0.711365605], [0.187486519], [0.052789653], [0.5058636129999999], [0.927431873], [0.6809842559999999], [0.882822186], [0.495705441], [0.596240398], [0.320610701], [0.3413685], [0.159681797], [0.318133669], [0.8393010479999999], [0.06435925099999999], [0.470216633], [0.7762522909999999], [0.635843383], [0.62510543], [0.52959065], [0.986900166], [0.078585688], [0.233284267], [0.363330957], [0.7167169809999999], [0.37588979200000006], [0.223316889], [0.299343986], [0.538595767], [0.730297124], [0.66033077], [0.435296009], [0.326494313], [0.854402708], [0.5734938470000001], [0.757786135], [0.704743233], [0.281575597], [0.671968208], [0.313726015], [0.364338275], [0.368216396], [0.38629520700000003], [0.655971865], [0.5660252729999999], [0.424999093], [0.090110371], [0.772350538], [0.331047258], [0.273716188], [0.23877568], [0.37307977200000003], [0.331185868], [0.256134531], [0.678373225], [0.43463833799999996], [0.654668307], [0.986681065], [0.371520495], [0.408359618], [0.40932365], [0.283412082], [0.395246531], [0.010984428000000001], [0.306013869], [0.266194806], [0.299318521], [0.318293946], [0.74282591], [0.09766432900000001], [0.079666942], [0.613258767], [0.99443072], [0.568835082], [0.7080345159999999], [0.37059271899999996], [0.669867361], [0.651295625], [0.462531569], [0.7196256190000001], [0.45377248], [0.394863946], [0.323974831], [0.146454724], [0.7790670409999999], [0.401828915], [0.601479585], [0.856423023], [0.565242962], [0.301225108], [0.282108144], [0.594378011], [0.705312368], [0.5408696279999999], [0.319249574], [0.36176613799999996], [0.625000704], [0.316287401], [0.047239021], [0.801182233], [0.508474436], [0.8178934109999999], [0.399235601], [0.9740519990000001], [0.72241535], [0.039564764], [0.908684108], [0.47301013399999997], [0.7180496279999999], [0.7634790690000001], [0.6475965370000001], [0.8949973859999999], [0.22282590100000002], [0.359012234], [0.944910252], [0.297877816], [0.172517997], [0.556586265], [0.876481735], [0.48667784299999994], [0.459496733], [0.47412637700000004], [0.70101144], [0.337597387], [0.537578886], [0.966992448], [0.056849545], [0.233249065], [0.380054711], [0.602929443], [0.303847999], [0.170194553], [0.972168554], [0.332168927], [0.6887286890000001], [0.110773401], [0.273352065], [0.572939678], [0.491457065], [0.281389999], [0.821697261], [0.6749776829999999], [0.585134549], [0.7105961159999999], [0.040488789], [0.568054311], [0.321752928], [0.611850232], [0.926096887], [0.618347428], [0.667629785], [0.39773346600000004], [0.290875487], [0.594375103], [0.508255233], [0.338571357], [0.43230234700000003], [0.302221978], [0.87619819], [0.080204492], [0.092333532], [0.09365644699999999], [0.6084523510000001], [0.732654598], [0.944158855], [0.26742308], [0.731124201], [0.661308553], [0.38776626200000003], [0.962585273], [0.322067067], [0.6340810929999999], [0.475345002], [0.35355897299999994], [0.8859363159999999], [0.876798106], [0.221581064], [0.394362449], [0.8050356759999999], [0.452898486], [0.592520516], [0.761026394], [0.245049023], [0.37213936299999995], [0.681054822], [0.7471431479999999], [0.9207395290000001], [0.097207945], [0.699302998], [0.721647006], [0.5353561139999999], [0.738293805], [0.7064675509999999], [0.67395061], [0.7112122909999999], [0.302558708], [0.080097855], [0.707010837], [0.512248622], [0.659627472], [0.657559694], [0.100645606], [0.92665363], [0.892879338], [0.839157508], [0.890959718], [0.556754471], [0.960361937], [0.631037864], [0.029838065], [0.278843351], [0.926157705], [0.551504258], [0.485942349], [0.43723469600000003], [0.25231801800000003], [0.515466972], [0.43725229600000004], [0.493724207], [0.83324725], [0.317521477], [0.28623456199999997], [0.726833965], [0.495667033], [0.028645255], [0.31967191699999997], [0.674344598], [0.7660371890000001], [0.65456992], [0.7565143809999999], [0.528253719], [0.38971949100000003], [0.355087459], [0.87015202], [0.7390833059999999], [0.305761846], [0.411587673], [0.063633094], [0.735409395], [0.605916669], [0.539395562], [0.566183532], [0.674795186], [0.070993366], [0.12526410000000002], [0.279601492], [0.952174402], [0.233806762], [0.43724742899999997], [0.925423095], [0.433498634], [0.52517902], [0.088435529], [0.447677638], [0.647000631], [0.9036033370000001], [0.265790738], [0.66419695], [0.498120658], [0.49018894399999996], [0.747084187], [0.906783648], [0.678770917], [0.348599859], [0.294839683], [0.705691827], [0.211917931], [0.063201124], [0.276699543], [0.672459395], [0.8082059490000001], [0.296538373], [0.16012686199999998], [0.439385032], [0.555951416], [0.386240112], [0.158689619], [0.214499855], [0.299579429], [0.569161656], [0.488614799], [0.8782950209999999], [0.649380949], [0.465713341], [0.16813774], [0.87529545], [0.8411323409999999], [0.33292081], [0.5130478589999999], [0.30505507800000004], [0.8126269909999999], [0.25096706], [0.5024355779999999], [0.45799074100000003]], \"hoverlabel\": {\"namelength\": 0}, \"hovertemplate\": \"0=%{x}<br>1=%{y}<br>Feature=%{customdata[0]}<br>Label=%{marker.color}\", \"legendgroup\": \"\", \"marker\": {\"color\": [0, 0, 1, 1, 0, 0, 0, 1, 1, 0, 0, 1, 0, 0, 1, 0, 1, 0, 0, 0, 1, 0, 0, 1, 1, 1, 0, 0, 1, 1, 0, 0, 1, 1, 1, 0, 0, 0, 0, 0, 1, 0, 0, 1, 0, 0, 0, 0, 0, 0, 0, 1, 0, 1, 0, 1, 0, 0, 0, 1, 0, 0, 1, 1, 0, 0, 1, 0, 0, 1, 0, 0, 0, 0, 0, 0, 0, 0, 0, 0, 0, 0, 0, 0, 0, 0, 0, 0, 0, 0, 0, 0, 0, 0, 0, 0, 0, 0, 0, 0, 0, 0, 0, 0, 0, 0, 0, 0, 0, 0, 0, 0, 0, 0, 0, 0, 0, 0, 0, 0, 0, 0, 0, 0, 0, 0, 0, 0, 0, 0, 0, 0, 0, 0, 0, 0, 0, 0, 0, 0, 0, 0, 0, 0, 0, 0, 0, 0, 0, 0, 0, 0, 0, 0, 0, 0, 0, 0, 0, 0, 0, 0, 0, 0, 0, 0, 0, 0, 0, 0, 0, 0, 0, 0, 0, 0, 0, 0, 0, 0, 0, 0, 0, 0, 0, 0, 0, 0, 0, 0, 0, 0, 0, 0, 0, 0, 0, 0, 1, 0, 0, 0, 0, 0, 0, 0, 0, 0, 0, 0, 0, 0, 0, 0, 0, 0, 0, 0, 0, 0, 0, 0, 0, 0, 0, 0, 0, 0, 0, 0, 0, 0, 0, 0, 0, 0, 0, 0, 0, 0, 0, 0, 0, 0, 0, 0, 0, 0, 0, 0, 0, 0, 0, 0, 0, 0, 0, 0, 0, 0, 0, 0, 0, 0, 0, 0, 0, 0, 0, 0, 0, 0, 0, 0, 0, 0, 0, 0, 0, 0, 0, 0, 0, 0, 0, 0, 0, 0, 0, 0, 0, 0, 0, 0, 0, 0, 0, 0, 0, 0, 0, 0, 0, 0, 0, 0, 0, 0, 0, 0, 0, 0, 0, 0, 0, 0, 0, 0, 0, 0, 0, 0, 0, 0, 0, 0, 0, 0, 0, 0, 0, 0, 0, 0, 0, 0, 0, 0, 0, 0, 0, 0, 0, 0, 0, 0, 0, 0, 0, 0, 0, 0, 0, 0, 0, 0, 0, 0, 0, 0, 0, 0, 0, 0, 0, 0, 0, 0, 0, 0, 0, 0, 0, 0, 0, 0, 0, 0, 0, 0, 0, 0, 0, 0, 0, 0, 0, 0, 0, 0, 0, 0, 0, 0, 0, 0, 0, 0, 0, 0, 0, 0, 0, 0, 0, 0, 0, 0, 0, 0, 0, 0, 0, 0, 0, 0, 0, 0, 0, 0, 0, 0, 0, 0, 0, 0, 0, 0, 0, 0, 0, 0, 0, 0, 0, 0, 0, 0, 0, 0, 0, 0, 0, 0, 0, 0, 0, 0, 0, 0, 0, 0, 0, 0, 0, 0, 0, 0, 0, 0, 0, 0, 0, 0, 0, 0, 0, 0, 0, 0, 0, 0, 0, 0, 0, 0, 0, 0, 0, 0, 0, 0, 0, 0, 0, 0, 0, 0, 0, 0, 0, 0, 0, 0, 0, 0, 0, 0, 0, 0, 0, 0, 0, 0, 0, 0, 0, 0, 0, 0, 0, 0, 0, 0, 0, 0, 0, 0, 0, 0, 0, 0, 0, 0, 0, 0, 0, 0, 0, 0, 0, 0, 0, 0, 0, 0, 0, 0, 0, 0, 0, 0, 0, 0, 0, 1, 0, 0, 0, 0, 0, 0, 0, 0, 0, 0, 0, 0, 0, 0, 0, 0, 0, 0, 0, 0, 0, 0, 0, 0, 0, 0, 0, 0, 0, 0, 0, 1, 0, 0, 0, 0, 0, 0, 0, 0, 0, 0, 0, 0, 0, 0, 0, 0, 0, 0, 0, 0, 0, 0, 0, 0, 1, 0, 0, 0, 0, 0, 0, 0, 0, 0, 0, 0, 0, 0, 0, 0, 0, 0, 0, 0, 0, 0, 0, 0, 0, 0, 0, 0, 0, 0, 0, 0, 0, 0, 0, 0, 0, 0, 0, 0, 0, 0, 0, 0, 0, 0, 0, 0, 0, 0, 0, 0, 0, 0, 0, 0, 0, 0, 0, 0, 0, 0, 0, 0, 0, 0, 0, 0, 0, 0, 0, 0, 0, 0, 0, 0, 0, 0, 1, 0, 0, 0, 0, 0, 0, 0, 0, 0, 0, 0, 0, 0, 0, 0, 0, 0, 0, 0, 1, 1, 0, 1, 1, 0, 0, 1, 1, 0, 0, 0, 0, 1, 0, 0, 1, 1, 1, 0, 1, 0, 1, 1, 1, 0, 0, 0, 1, 0, 0, 0, 0, 0, 0, 0, 0, 0, 0, 0, 0, 0, 0, 1, 0, 0, 0, 0, 0, 0, 0, 0, 0, 0, 0, 0, 0, 0, 0, 0, 0, 0, 0, 0, 0, 0, 0, 0, 0, 0, 0, 0, 0, 0, 0, 0, 0, 0, 0, 0, 1, 0, 0, 0, 0, 0, 0, 0, 0, 0, 0, 0, 0, 0, 0, 0, 0, 0, 0, 0, 0, 0, 0, 0, 0, 0, 0, 0, 0, 0, 0, 0, 0, 0, 0, 0, 0, 0, 0, 0, 0, 0, 0, 0, 0, 0, 0, 0, 0, 0, 0, 0, 0, 0, 0, 0, 0, 0, 0, 0, 0, 0, 0, 0, 0, 0, 0, 0, 0, 0, 0, 0, 0, 0, 0, 0, 0, 0, 0, 0, 0, 0, 0, 1, 0, 0, 0, 0, 0, 0, 0, 0, 0, 0, 0, 0, 0, 0, 0, 0, 0, 0, 0, 0, 0, 0, 0, 0, 0, 0, 0, 0, 0, 0, 0, 0, 0, 0, 0, 0, 0, 0, 0, 0, 0, 0, 0, 0, 0, 0, 0, 0, 0, 0, 0, 0, 0, 0, 0, 0, 0, 1, 0, 0, 0, 0, 0, 0, 0, 0, 0, 0, 0, 0, 0, 0, 0, 0, 0, 0, 0, 0, 0, 0, 0, 0, 0, 0, 0, 0, 0, 0, 0, 0, 0, 0, 0, 0, 0, 0, 0, 0, 0, 0, 0, 0, 0, 0, 0, 0, 0, 0, 0, 0, 0, 0, 0, 0, 0, 0, 0, 0, 0, 0, 0, 0, 0, 0, 0, 0, 0, 0, 0, 0, 0, 0, 0, 0, 0, 0], \"coloraxis\": \"coloraxis\", \"opacity\": 0.7, \"symbol\": \"circle\"}, \"mode\": \"markers\", \"name\": \"\", \"showlegend\": false, \"type\": \"scatter\", \"x\": [-1.068271517753601, -1.3033243417739868, 6.547937393188477, 6.804200172424316, 7.748932361602783, 5.621181011199951, -3.349780559539795, 7.251926422119141, -1.6617133617401123, -3.738583564758301, 6.399086952209473, 8.05907917022705, 6.146360874176025, -2.6708202362060547, 7.262874126434326, 8.173453330993652, 6.066826343536377, -3.7968356609344482, 6.0799880027771, 7.126802444458008, 5.4049458503723145, -1.95822012424469, 7.188175678253174, -1.9635201692581177, 6.127380847930908, -2.0646915435791016, 8.038057327270508, -2.264094114303589, 8.023494720458984, 7.610766887664795, -1.7124134302139282, -1.807065725326538, -2.5848517417907715, 7.22489070892334, -3.360659122467041, -2.0358824729919434, -4.249534606933594, -2.340036392211914, -1.655611276626587, 5.697139263153076, -5.059518814086914, 7.319343090057373, -4.421104431152344, 5.70036506652832, 7.003815650939941, 8.170575141906738, 7.007589817047119, -1.6248908042907715, 8.080665588378906, -4.6300435066223145, 6.7904157638549805, 6.006831169128418, -3.7219083309173584, 8.21902084350586, 5.8061299324035645, 5.702022552490234, 5.242155075073242, -3.048529863357544, 7.213298320770264, 7.209584712982178, -3.2533586025238037, -3.2787835597991943, 8.556418418884277, 7.232125759124756, -4.67431116104126, 6.9033331871032715, -3.69372820854187, -3.745678663253784, 7.9572272300720215, 6.119244575500488, 7.9304609298706055, 7.215558052062988, -1.5117182731628418, 6.338610649108887, -2.8537988662719727, -2.039743661880493, 8.084568977355957, 7.910672664642334, -3.586259603500366, -4.054831027984619, -3.8656792640686035, -2.4511849880218506, 7.693765640258789, -3.089611053466797, -3.041508436203003, -1.5299804210662842, -4.158096790313721, -4.1900248527526855, -2.9316418170928955, -2.2714202404022217, -2.2709646224975586, 6.426513195037842, -3.9720234870910645, -3.6508138179779053, -2.4708609580993652, 8.48084831237793, -4.021731376647949, -1.8502941131591797, -3.1777503490448, 7.955036163330078, -1.3827413320541382, -4.706915378570557, -1.8884600400924683, -3.9787044525146484, 8.408023834228516, -3.8572027683258057, -3.4819259643554688, -2.2765042781829834, -2.951414108276367, 7.726237773895264, -2.5081634521484375, -1.4519342184066772, 6.2313151359558105, -2.307072162628174, 7.391331672668457, -2.92092227935791, -3.5060007572174072, -3.586118459701538, 6.436017990112305, -3.4558162689208984, -3.091686725616455, -2.922584295272827, -2.0919644832611084, -4.720132827758789, -2.0074586868286133, -1.4964076280593872, -2.2541325092315674, 6.853411674499512, -2.6605403423309326, -1.688529372215271, -2.904356002807617, -3.9268147945404053, 6.963863372802734, -2.970707654953003, -4.682450294494629, -1.3865506649017334, 7.360339641571045, 7.472399711608887, -1.4180599451065063, -1.6833473443984985, 6.599618434906006, -2.2586312294006348, -3.9613423347473145, 7.800046920776367, -3.5312421321868896, -3.822451114654541, 6.518831253051758, -4.91414737701416, -1.3125886917114258, -2.4260659217834473, -2.4179575443267822, -2.6672627925872803, -2.2778406143188477, -4.092058181762695, -1.9414701461791992, -4.119865417480469, -4.662736892700195, -4.919988632202148, -2.477638006210327, 5.73743200302124, -3.54058575630188, -3.2540650367736816, -2.8330798149108887, -3.843738079071045, 5.908799648284912, -4.709017753601074, 6.845289707183838, 7.686216354370117, 7.1561994552612305, -2.0833895206451416, -3.6289167404174805, -1.6830658912658691, 6.0283989906311035, 6.77277946472168, -2.1987972259521484, -4.623748779296875, 5.929051876068115, 6.553191184997559, -1.398855447769165, 7.4283623695373535, -2.3806865215301514, 6.39995002746582, -2.105978488922119, 7.64124870300293, 7.566120624542236, -3.511561632156372, 6.95491361618042, -3.2793221473693848, -3.789557456970215, -2.7465176582336426, -4.918244361877441, 7.916254997253418, 6.465137004852295, 6.864974498748779, -4.076587200164795, -3.372521162033081, -2.6450908184051514, -2.2328717708587646, -1.5621029138565063, -2.0384764671325684, -2.487391471862793, -2.1485965251922607, -2.4311838150024414, 7.857734203338623, 6.606297016143799, -1.9415216445922852, -4.083563804626465, -2.6789727210998535, 6.357558727264404, -1.7404741048812866, -2.2792749404907227, 6.89892053604126, 7.9685540199279785, -2.7144834995269775, -2.66260027885437, -2.690110921859741, -1.6729557514190674, 8.054118156433105, 8.456246376037598, -1.5820081233978271, 6.6239519119262695, -2.6376779079437256, 7.882077217102051, -3.132573366165161, -4.125297546386719, -4.1460862159729, -4.623394966125488, -3.6664485931396484, -4.808897972106934, 6.30919075012207, -3.2957937717437744, -4.295592308044434, 7.4464240074157715, 7.447077751159668, -3.6293528079986572, -2.534231424331665, -1.5570428371429443, -2.761687994003296, 6.9544267654418945, 6.434765815734863, -2.741947650909424, -2.3119077682495117, 6.730203628540039, -3.4211013317108154, 7.047312259674072, -4.295877456665039, -3.2799923419952393, -3.229032516479492, -4.702602863311768, 7.278197288513184, -3.7090301513671875, -1.8962074518203735, 7.2013349533081055, -3.355165481567383, -3.925285816192627, -1.5109812021255493, -1.093254804611206, -3.7914092540740967, 6.32666015625, -3.392641305923462, 6.627697467803955, -3.3249645233154297, 7.667236804962158, -2.336121082305908, -3.8034441471099854, -3.1588494777679443, 7.652427673339844, -3.966571092605591, -2.965881109237671, -2.2139811515808105, -2.4352595806121826, -2.5184085369110107, -1.6394939422607422, 6.57564115524292, 5.73095703125, -4.379333972930908, 8.433072090148926, 7.873424530029297, -2.3809309005737305, -3.78498911857605, -4.738455295562744, 6.704876899719238, -3.7899861335754395, -1.6509557962417603, 7.384703159332275, -2.341083288192749, -3.964435338973999, -2.55434250831604, -3.984563112258911, -1.2398406267166138, -2.354273796081543, -2.453083038330078, -3.5221645832061768, -2.710050106048584, -3.13798189163208, 6.273564338684082, 6.411612510681152, -3.94606876373291, -2.9022152423858643, -1.3047536611557007, -1.42258882522583, -3.743842840194702, 8.114519119262695, 7.192936897277832, 6.326513767242432, -2.609755516052246, -2.1883528232574463, -2.6525189876556396, -5.026253700256348, 7.567389488220215, 7.474793910980225, -4.979076385498047, 6.455687046051025, 6.481330871582031, -3.071535110473633, -1.1140390634536743, -2.0740296840667725, -3.251254081726074, -2.6813008785247803, -2.4308059215545654, -1.4751598834991455, -2.3017921447753906, 7.233602523803711, -1.84516179561615, -3.4257442951202393, -1.8051013946533203, 7.895686149597168, 7.59205961227417, 7.199918746948242, 6.2564873695373535, -3.96048903465271, 8.108782768249512, -3.6754586696624756, -4.012199401855469, -4.271178245544434, 7.832597732543945, -1.6786754131317139, -1.3171712160110474, 7.117794036865234, 7.6010637283325195, -1.3174999952316284, -3.8563380241394043, 6.265317916870117, -4.186847686767578, 7.282011985778809, 7.526878833770752, -2.8807413578033447, -5.030153751373291, 6.8272552490234375, 8.129765510559082, -1.7202363014221191, -1.6316980123519897, -3.4572181701660156, -2.44427752494812, -3.9045565128326416, -3.7382454872131348, -3.088984966278076, -2.012958288192749, 8.332372665405273, -2.056807279586792, -1.3471183776855469, -2.17431640625, -1.7958412170410156, -4.901430606842041, 7.146096229553223, -2.956204414367676, 8.034722328186035, -3.6620736122131348, -4.065291881561279, -2.2653722763061523, -4.256402969360352, -2.733819007873535, 8.045780181884766, 7.128921031951904, 7.341142654418945, -4.614292144775391, -2.8170063495635986, 6.279717922210693, -2.5004451274871826, -2.1764132976531982, 6.126492977142334, -2.2154319286346436, -2.9435224533081055, -1.556857705116272, -1.6338927745819092, -3.9465012550354004, -3.3723340034484863, -3.131197452545166, -2.173435688018799, -1.4993385076522827, -4.124656677246094, -3.9748735427856445, -2.0162131786346436, -2.861570358276367, -3.4187731742858887, -2.4496445655822754, -3.8317418098449707, 7.11432409286499, -1.7704112529754639, -3.5935325622558594, -3.213693618774414, -3.6830530166625977, -4.945549011230469, -2.0157909393310547, 7.448720932006836, -3.6153292655944824, 7.178043365478516, -2.172222137451172, 5.781313419342041, -2.1061480045318604, -2.8744232654571533, -2.2797038555145264, 8.519819259643555, -2.723809242248535, -2.474684476852417, -4.370558261871338, -4.4777021408081055, -1.7981808185577393, 7.619619369506836, 7.535714626312256, -1.5002002716064453, -2.992812395095825, -2.676138401031494, -1.385880470275879, 7.266880512237549, -4.3496928215026855, -3.321561574935913, 6.289367198944092, -1.31626558303833, 8.096660614013672, -2.750985622406006, -3.594731330871582, -3.227045774459839, 6.3151445388793945, 7.830252647399902, -2.8325753211975098, -3.7373878955841064, 7.9091105461120605, -2.9890451431274414, 6.6903862953186035, -3.8580400943756104, -3.6474857330322266, 6.876603603363037, 8.489599227905273, -3.0335240364074707, 5.865182876586914, 8.084976196289062, -4.287672996520996, 7.15325927734375, 6.5793328285217285, -3.815272808074951, 7.448763370513916, -4.772306442260742, -2.6705336570739746, 6.200869083404541, -2.297046661376953, -1.9746379852294922, 7.253289699554443, -3.3331968784332275, -1.7030830383300781, -1.7433222532272339, 7.257679462432861, -4.28737211227417, -3.625938653945923, -1.6924073696136475, -2.194929599761963, -3.057800769805908, 8.01885986328125, -4.758846282958984, 7.104813575744629, -3.3364574909210205, -3.7842020988464355, -4.261187553405762, -1.9055086374282837, -4.219627380371094, -4.04526424407959, -3.180987596511841, 6.0718841552734375, -1.3147605657577515, -2.96158504486084, -4.976197242736816, -3.4462943077087402, 6.315609931945801, 8.12872314453125, -3.5541586875915527, 8.318615913391113, -2.1074206829071045, -1.2421435117721558, -1.278252124786377, 6.428044319152832, -3.1252777576446533, 6.144139766693115, 6.046219348907471, 8.072566032409668, 6.931394577026367, 6.540661811828613, -2.221374034881592, 5.817986011505127, -3.9464783668518066, -2.179767370223999, -1.4878199100494385, -2.028643846511841, -1.9964327812194824, -2.9348435401916504, -1.2507553100585938, 6.434312343597412, -2.9443156719207764, -4.998970031738281, -1.420710563659668, 6.4485859870910645, 7.87347412109375, -4.9229350090026855, -2.3495163917541504, 7.602952003479004, -3.811239719390869, -4.412045955657959, -3.8471245765686035, -3.0662126541137695, -1.8759185075759888, -2.234008550643921, -1.5284782648086548, 7.827810287475586, 6.398651599884033, 7.269761085510254, 8.480839729309082, -3.7825193405151367, -1.4001704454421997, -3.7311713695526123, -2.0361380577087402, -1.084341049194336, -1.876442551612854, 8.019113540649414, 5.867183208465576, -4.233467102050781, 6.012932777404785, 7.311855316162109, -2.143303632736206, 7.870876789093018, -2.044445276260376, -2.06296443939209, -1.6168307065963745, 6.070776462554932, -2.7619590759277344, -1.3882607221603394, -4.909921169281006, 6.764402389526367, -3.8830151557922363, 6.441265106201172, 6.473134517669678, -3.7195730209350586, -4.030312538146973, -1.7247629165649414, 7.757080554962158, -2.445873975753784, -4.228256702423096, -2.6367173194885254, 5.836628437042236, -2.6815345287323, 7.692493438720703, -1.4547678232192993, 8.437240600585938, 8.415783882141113, -4.3303141593933105, 6.110848426818848, -3.7230875492095947, -4.104752063751221, -4.515868663787842, -2.0923960208892822, 6.745293140411377, 6.069097518920898, -1.0961737632751465, 6.099399566650391, 7.283141136169434, 8.20226001739502, -1.5656013488769531, 7.728047847747803, -3.0128023624420166, -4.030578136444092, -1.4834651947021484, -3.090440034866333, -1.4683548212051392, -3.0589163303375244, 7.147167682647705, -2.822726249694824, -5.02028226852417, -3.953500986099243, -1.0481184720993042, -3.9768130779266357, -4.068774223327637, 8.095544815063477, -3.5277276039123535, -4.858060836791992, -1.6217714548110962, 7.340242862701416, -1.6073668003082275, -3.946428060531616, 7.216625213623047, 8.069396018981934, 6.14785623550415, 8.383904457092285, 6.89095401763916, -2.8570666313171387, 6.409724235534668, -3.585557222366333, 6.1456804275512695, -1.480798602104187, 7.521095275878906, 8.35924243927002, -3.3740835189819336, -1.462686538696289, 6.2624125480651855, -2.467378616333008, -1.6424005031585693, -1.287178635597229, -3.6222333908081055, -4.440374851226807, -2.5778393745422363, -2.8949592113494873, -2.0406105518341064, -1.047906756401062, -1.6694358587265015, -3.677353620529175, -3.815725326538086, -1.7595462799072266, 7.211206436157227, 7.537223815917969, -3.5263261795043945, 7.5669331550598145, -2.3921611309051514, -3.6329474449157715, -3.250945806503296, -2.1980199813842773, -2.890537977218628, 7.74976110458374, -2.172389030456543, -2.0932068824768066, -2.4805996417999268, -1.710953712463379, 6.171486854553223, -1.791319489479065, 6.572722911834717, -1.864656686782837, -3.3718199729919434, -2.2089505195617676, 7.839824676513672, -2.872840404510498, 7.00853157043457, -1.8499187231063843, 6.672700881958008, -1.7506779432296753, -4.613913536071777, -4.538276672363281, -2.3439388275146484, 7.006319999694824, -4.595056533813477, -1.8451954126358032, 7.86728048324585, -1.6328035593032837, -2.689162015914917, 7.808111190795898, 7.940304756164551, -3.679086685180664, -1.702803611755371, -1.1313320398330688, 6.385018348693848, -1.7370775938034058, 7.470270156860352, -2.902873992919922, -2.104414939880371, -4.705400466918945, -1.659834861755371, -3.801959276199341, -3.8118512630462646, -1.8308454751968384, 5.724780559539795, -4.3285813331604, -1.6949833631515503, 6.149190902709961, 6.518592834472656, -2.9858760833740234, 7.138449668884277, -4.509407997131348, -1.4097378253936768, 5.99876594543457, -4.419527053833008, -4.624385833740234, -3.931919574737549, -5.092860221862793, 6.330015659332275, 7.722787857055664, 7.301973342895508, 6.910400390625, 8.473775863647461, -2.3738677501678467, 6.467750549316406, 5.873236656188965, -2.03058123588562, -4.087769031524658, -2.4838690757751465, 6.835793972015381, -2.8130950927734375, -4.255349636077881, -2.639876127243042, 8.055845260620117, -3.6311891078948975, -2.586643934249878, 6.614276885986328, 7.461068153381348, -1.6909613609313965, 5.9332404136657715, 7.080329418182373, -4.881344795227051, -2.2358391284942627, -2.276236057281494, -3.148233652114868, 5.583409309387207, 5.5263237953186035, 8.132928848266602, -2.9981377124786377, -3.483490228652954, 6.216498851776123, -3.8868296146392822, -2.1945738792419434, 6.031008243560791, -2.2309083938598633, -2.61299729347229, 6.495080947875977, 5.993220806121826, 7.301995277404785, 5.651506423950195, -2.285956621170044, 8.217750549316406, -1.7859488725662231, -1.9285105466842651, -1.9745649099349976, 6.221482276916504, -2.755944013595581, -3.697403907775879, -3.7965166568756104, 6.358532428741455, -2.3688652515411377, -1.6584489345550537, -1.6421951055526733, 6.102543354034424, -1.9281940460205078, -3.8898327350616455, -3.276102304458618, 6.255996227264404, 7.033344268798828, 8.082540512084961, -1.3003758192062378, 7.951014995574951, -2.785871982574463, -4.10643196105957, -4.7768235206604, 6.655076026916504, -3.9702916145324707, -3.3746933937072754, 7.639224052429199, -4.987285137176514, 7.675317764282227, -3.7544655799865723, -4.251206398010254, -4.332991123199463, -1.1451698541641235, -3.6578235626220703, -3.6493473052978516, 7.932036876678467, -3.210745096206665, 7.8574299812316895, -3.973031759262085, -1.4107346534729004, -1.5683881044387817, -3.3496909141540527, -1.7510387897491455, -4.973867893218994, -2.385554313659668, -2.749340057373047, -2.770596742630005, -1.81571626663208, -2.7857282161712646, -3.5134711265563965, -1.6593639850616455, -2.5272061824798584, -3.407717227935791, 7.864805698394775, -3.5119833946228027, 5.789585113525391, -4.0829877853393555, -4.11477518081665, 7.458632469177246, -3.257244825363159, 6.339125156402588, -2.5622305870056152, -3.928704261779785, -2.0233094692230225, -4.558030605316162, 7.124986171722412, -2.9163520336151123, -4.89059591293335, -3.054443120956421, -2.2516725063323975, -1.9822977781295776, -1.2212632894515991, 6.453248500823975, -4.686855316162109, -4.37223482131958, -2.033539056777954, 6.711788654327393, -4.147823810577393, 7.928093433380127, 5.972944736480713, -2.6423697471618652, -1.5586024522781372, -1.7251192331314087, 7.04801082611084, -1.9590109586715698, 7.530838966369629, 5.991855621337891, 6.876794338226318, 6.083487510681152, 6.539340972900391, -3.9005134105682373, -1.6896119117736816, -2.5573618412017822, -3.7387635707855225, 6.596221446990967, -4.009278297424316, -2.203521251678467, 8.136271476745605, -2.416839838027954, -2.0038554668426514, 8.521623611450195, 6.10719633102417, 7.14256477355957, 6.055315017700195, 8.36046028137207, 7.805686950683594, 6.094694137573242, -4.293338775634766, -2.927339553833008, -3.9471640586853027, 6.957383155822754, -2.4706220626831055, -3.4499881267547607, 5.84581184387207, -1.9831478595733643, -2.997285842895508, -2.637058973312378, -2.0500097274780273, 5.792689323425293, -1.6391706466674805, -4.2079596519470215, -2.9965741634368896, -2.0803921222686768, -2.2390425205230713, -2.420466423034668, 6.5856122970581055, -4.16459321975708, 6.27103328704834, -1.568145751953125, -3.9964993000030518, -1.6043281555175781, -3.256235122680664, -2.2703442573547363, 7.473352909088135, -3.57196044921875, -4.114099025726318, 6.108100414276123, -2.3511874675750732, 6.557825088500977, -4.103455543518066, -4.1559367179870605, -2.606595516204834, -2.8190150260925293, -3.9776132106781006, -3.5298421382904053, -3.0028128623962402, -1.5219379663467407, 6.647498607635498, -2.4037694931030273, -2.725306510925293, -3.825117349624634, 7.433588027954102, 7.131613254547119, 6.252410411834717, -1.8596696853637695, -3.3602983951568604, -1.147444486618042, 6.047657489776611, 7.869974136352539, 7.568045139312744, 7.199111461639404, -3.725879430770874, 7.612205982208252, -2.4319512844085693, -1.5714753866195679, -4.49989128112793, -2.1197521686553955, -1.9454466104507446, -2.4480319023132324, -3.498028516769409, -4.674510478973389, 7.611325740814209, -3.316443920135498, 7.778010368347168, 6.537871837615967, -1.7934755086898804, 7.19002628326416, -2.9812493324279785, -3.0517797470092773, -3.8947229385375977, -4.189757823944092, -2.909742593765259, 6.330716609954834, 7.671041965484619, -1.60649836063385, -1.875133991241455, 6.5046820640563965, 6.269217014312744, -1.5500301122665405, 6.948821544647217, -3.2006545066833496, -3.566096782684326, -2.1856110095977783, -2.43684458732605, -2.4483916759490967, -1.3756567239761353, -2.812854528427124, -2.226533889770508, 7.865231037139893, -3.8333017826080322, -4.0916361808776855, 7.947603702545166, 7.139118194580078, 7.831383228302002, -3.9972434043884277, 6.646180152893066, -1.319141149520874, 6.1304779052734375, 7.211558818817139, -3.029993772506714, -3.7304253578186035, 5.817047119140625, -2.7594079971313477, 6.641942024230957, -3.2288384437561035, -2.5797832012176514, -2.413468599319458, -2.6791749000549316, -1.2824019193649292, -2.2692785263061523, 7.536979675292969, 7.373753070831299, -2.5915374755859375, -4.470900535583496, 6.3023834228515625, 7.240445137023926, 6.006515026092529, -2.8655734062194824, -3.945763111114502, -3.3902692794799805, 6.559659957885742, -3.1664211750030518, -1.5060211420059204, -4.96272611618042, -2.6814982891082764, -2.3456614017486572, 6.380515098571777, -3.82694673538208, 8.366586685180664, -3.167893171310425, -1.363196611404419, 7.698293685913086, -3.782726287841797, -3.6458611488342285, -3.157033681869507, 8.200358390808105, -1.775567650794983, 5.788241863250732, 6.351873874664307, -1.3644214868545532, -3.923624038696289, -3.6291251182556152, 8.144545555114746, -3.60581374168396, -2.9665169715881348, 6.349856853485107, 6.077477931976318, 8.31107234954834, 5.682406902313232, -2.6089155673980713, -2.9196972846984863, 6.580704212188721, 6.8145318031311035, -1.303885579109192, -3.5337717533111572, -4.087277412414551, 6.349003314971924, 8.309761047363281], \"xaxis\": \"x\", \"y\": [-1.7090609073638916, 4.088976860046387, 0.5023947358131409, 4.598155975341797, 0.18964461982250214, 3.9150936603546143, 4.73126745223999, 4.388995170593262, 1.8558902740478516, -2.1469857692718506, 5.702834606170654, 0.8845970034599304, 4.600345134735107, 1.4219210147857666, 1.407194972038269, 3.7131104469299316, 4.728028774261475, 3.3782122135162354, 1.4264929294586182, 3.9662985801696777, 3.8799796104431152, -1.2570528984069824, 0.8943061232566833, 1.82125985622406, 3.170341730117798, -0.8982876539230347, 1.0885448455810547, 1.9176920652389526, 2.4044549465179443, 2.8775711059570312, 1.9847087860107422, 4.888646125793457, 0.8028042912483215, 2.3529093265533447, 1.413112759590149, -1.12641441822052, 3.0507307052612305, 1.8585125207901, -1.26560640335083, 4.0085768699646, 3.3100974559783936, 3.0115818977355957, 2.6908133029937744, 3.0809922218322754, 2.3075239658355713, 3.812486171722412, 2.2966177463531494, 1.905091404914856, 1.0683543682098389, 3.62170147895813, 5.197076320648193, 1.6076630353927612, 1.4925016164779663, 3.7907400131225586, 3.820470094680786, 1.8459888696670532, 4.069156646728516, 1.188199758529663, 2.452085256576538, 0.8880994319915771, 1.3110439777374268, 2.894768714904785, 3.455061912536621, 3.10937762260437, 2.655719757080078, 2.0623135566711426, 1.9644606113433838, 3.0523204803466797, 0.8635725975036621, 3.8932511806488037, 2.594639301300049, 4.572808265686035, -1.3436635732650757, 4.929971218109131, -3.775789499282837, -2.279217481613159, 0.793829619884491, 3.2987561225891113, -3.636366605758667, -2.9053761959075928, -2.98848819732666, -2.201357126235962, 0.7875210642814636, 2.862555503845215, 4.5356669425964355, 3.5977277755737305, 3.426311492919922, 4.1560139656066895, 1.968793511390686, -1.2536773681640625, -2.5923049449920654, 5.5056352615356445, 2.5185813903808594, 4.474308967590332, 5.104794979095459, 3.2834155559539795, 1.9897211790084839, 3.5506129264831543, 3.025083541870117, 0.891459047794342, -1.202654242515564, 3.6772332191467285, 3.5028958320617676, 1.3638198375701904, 3.659857988357544, -2.0448484420776367, 2.4768168926239014, 4.359915733337402, -3.7207770347595215, 3.201563835144043, -1.742271900177002, -1.058518648147583, 5.703783988952637, -2.203754186630249, 0.17466677725315094, -2.3020706176757812, 5.185769557952881, 4.547273635864258, 4.874683380126953, 3.3654325008392334, -2.5164854526519775, 1.699916958808899, 3.9683921337127686, 2.8614909648895264, 0.5972159504890442, 4.093894958496094, 4.774576663970947, 4.6363444328308105, 4.34820556640625, 4.015781879425049, 1.710291862487793, 1.708948016166687, 5.098021984100342, 4.742733001708984, 3.859327554702759, -2.425220012664795, 0.5336308479309082, 4.934538841247559, 4.231246471405029, 2.7230823040008545, 5.159345626831055, -1.2160398960113525, 1.2591618299484253, 0.374235600233078, 3.4806487560272217, -2.4711790084838867, 4.504173755645752, 3.6451427936553955, 4.260344505310059, 1.8052611351013184, -1.4989292621612549, -2.5683817863464355, 2.7443196773529053, 1.2938318252563477, -1.2292886972427368, 2.2578415870666504, 2.70784854888916, 3.2338902950286865, -3.1912124156951904, 4.483868598937988, 5.186098575592041, 1.2735052108764648, -3.046260356903076, -3.5410430431365967, 4.419548034667969, 3.6318118572235107, 5.087366104125977, 2.521843194961548, 1.0923705101013184, 0.7024144530296326, 2.4423160552978516, 3.4236690998077393, 3.4249558448791504, 0.47077611088752747, 2.53831148147583, 3.970123529434204, 3.720052480697632, 0.3862153887748718, 4.468815326690674, 4.823936462402344, 2.613360643386841, 3.570838689804077, 5.009097576141357, 2.8349831104278564, 2.6617908477783203, 5.115115165710449, 2.9966254234313965, 1.6535701751708984, -2.405207395553589, -2.5468356609344482, 3.5324718952178955, 0.1652834564447403, 5.539520263671875, 0.30168992280960083, 4.6838154792785645, 4.973814487457275, 2.732090473175049, 4.153282165527344, -1.1355116367340088, 0.5810096859931946, 1.7740392684936523, 2.0505430698394775, 4.993917942047119, 0.7073827385902405, 0.4831775724887848, 4.9531073570251465, -3.0417678356170654, 1.846806287765503, 3.842956304550171, 4.658247947692871, 2.4228274822235107, 3.0871431827545166, 3.110705614089966, -1.9857494831085205, 1.7950561046600342, 2.3695526123046875, 4.525781154632568, 3.647115707397461, 3.249749183654785, 2.4524497985839844, 0.47568026185035706, 3.9225234985351562, 0.7230486273765564, -3.7419304847717285, 4.501721382141113, -2.965622663497925, 2.5474066734313965, -2.493051767349243, 3.8813905715942383, 2.9487202167510986, 4.826016426086426, 2.608243942260742, 4.850009918212891, 4.891608238220215, 3.8680977821350098, 3.9976301193237305, 3.8769567012786865, -2.4676241874694824, 4.5403032302856445, 0.3083234131336212, 1.9175056219100952, 3.3853187561035156, 0.6270636320114136, 4.190734386444092, 4.119832992553711, 4.091073989868164, -2.269160270690918, -3.3891732692718506, 2.5198872089385986, 0.77162104845047, 1.0736817121505737, 2.6682605743408203, 4.634407043457031, 1.3322235345840454, -1.9991205930709839, 2.0660243034362793, -1.9743152856826782, 4.249434947967529, 2.938222646713257, 3.610560655593872, 0.4320434629917145, 1.3401098251342773, 0.14619754254817963, 2.635868549346924, 1.1416573524475098, 4.12257194519043, 4.743268013000488, 4.89902400970459, -3.6307168006896973, 3.8620407581329346, 4.188069820404053, 5.1331987380981445, -2.5359272956848145, 0.36050447821617126, 4.424306869506836, 1.6484580039978027, 3.30480694770813, 0.21209105849266052, 4.258569717407227, -2.407655715942383, 2.682384967803955, 0.5342778563499451, -2.3372128009796143, -2.0768227577209473, 0.26015371084213257, 3.834510087966919, 3.0904059410095215, 3.9880480766296387, 4.393272399902344, -1.4501343965530396, -1.311995029449463, 4.446972370147705, 2.40548038482666, 3.8273065090179443, 2.9524569511413574, 5.314508438110352, 4.335024356842041, -3.3920490741729736, 2.367227792739868, -1.9646449089050293, 3.745011329650879, 4.28213357925415, 2.7507596015930176, 4.190009117126465, 3.9555089473724365, -3.3880395889282227, 3.585444211959839, -3.0898211002349854, 3.3395636081695557, 2.653298854827881, 2.6443099975585938, 3.4932303428649902, 3.29805850982666, 0.3109269142150879, 2.6237664222717285, -1.7497684955596924, 0.8225178122520447, 4.500068664550781, -3.5123133659362793, 4.962557315826416, 3.6608738899230957, -2.6760313510894775, 4.629828929901123, 3.4802684783935547, -2.822202682495117, -1.8856594562530518, 4.574186325073242, 4.6297993659973145, 1.3845282793045044, 4.115262508392334, 4.852738380432129, 3.583432912826538, 1.2291674613952637, 1.958414912223816, 4.063746929168701, 0.8720560073852539, 4.154139041900635, -2.395402431488037, 3.0920989513397217, 3.325725793838501, -2.4484355449676514, -2.533491373062134, 4.7530341148376465, 1.3493549823760986, 4.308785438537598, 1.0315189361572266, 4.756562232971191, 3.6095540523529053, 4.579380989074707, 3.5751163959503174, 2.6049065589904785, -2.5744006633758545, 3.5860049724578857, 5.07334566116333, 3.1484787464141846, -2.472648859024048, 1.4832152128219604, 3.676971673965454, 3.042466878890991, -0.9089094996452332, 4.056447505950928, 3.624337911605835, 1.3480674028396606, 3.1164188385009766, 4.685116767883301, -3.105994701385498, 3.1120827198028564, 4.659980297088623, 4.202247619628906, 4.416478157043457, 2.8038504123687744, 1.8510706424713135, 0.5429840087890625, 1.4599581956863403, 4.6953935623168945, 2.617560863494873, -3.3866400718688965, 4.115504741668701, 5.100629806518555, -1.446374773979187, 4.548274040222168, 1.5615273714065552, -3.5336499214172363, -1.6173644065856934, 4.092350959777832, 1.957304835319519, 2.3468239307403564, 2.2079555988311768, 2.5734639167785645, -1.0776443481445312, 3.141535758972168, 2.0102264881134033, -2.5827090740203857, -2.5524330139160156, 3.6794490814208984, 5.118791580200195, -1.9185121059417725, 4.165865421295166, -1.6307482719421387, -2.347301721572876, 3.1774585247039795, 2.535071611404419, 3.551159143447876, 5.018074989318848, 4.150634288787842, 5.066572189331055, 0.679284930229187, 1.3856871128082275, 4.699860572814941, 4.222343921661377, 4.008395671844482, -1.7230887413024902, 3.235685348510742, -3.3116965293884277, 4.348699569702148, 2.656994342803955, 4.016177177429199, 4.278704643249512, 4.840793132781982, 1.220501184463501, -1.0440071821212769, 2.9989514350891113, 3.9147324562072754, 3.9449522495269775, 1.1938456296920776, 4.124545097351074, 4.716403484344482, 4.086202621459961, -1.3943041563034058, 0.7768197059631348, -2.285658359527588, 5.102585792541504, 2.884084463119507, 4.162609100341797, 2.4622771739959717, 2.7627923488616943, 3.8824961185455322, 0.7264573574066162, -3.712329626083374, 0.5152407884597778, -2.103304624557495, -3.5579001903533936, 0.31202730536460876, 0.6551411747932434, 1.8818020820617676, 3.6413609981536865, 2.635352849960327, 1.5794271230697632, 0.8023064732551575, 3.829702854156494, 2.754640579223633, 0.5016701817512512, 2.6610238552093506, -3.386564016342163, 5.665544509887695, 4.967552185058594, 2.3221538066864014, 0.5173543095588684, -3.6247940063476562, -1.6074010133743286, 4.080038070678711, 0.4284614026546478, 3.068603038787842, -3.1472361087799072, 2.1136534214019775, -2.617527484893799, -3.592867374420166, 2.8466734886169434, 3.708505392074585, 0.9616625905036926, -2.7316207885742188, 3.249894857406616, 3.379258632659912, -2.4708664417266846, 2.7010715007781982, 4.6135969161987305, 4.877864837646484, 3.7446725368499756, -1.9732054471969604, 4.028597831726074, 3.1863484382629395, 2.828045129776001, 3.921738386154175, 0.8277927041053772, 5.186478614807129, 0.6623954176902771, 2.972510576248169, -1.4340548515319824, -2.356156587600708, 0.34721747040748596, -3.2101147174835205, 5.4800825119018555, 3.1847939491271973, 2.631016969680786, 0.7402361631393433, 4.344058990478516, 4.155387878417969, 4.780815601348877, 1.4458931684494019, -1.2154778242111206, 4.326389312744141, 1.908355712890625, -1.507491111755371, 1.9662472009658813, -1.4871225357055664, 0.3291955292224884, -3.687115430831909, 3.545048475265503, -1.418492078781128, 3.417961835861206, 0.13716968894004822, 3.337160348892212, 3.4835169315338135, 3.409000873565674, -3.4467811584472656, 1.7874239683151245, 1.1252562999725342, -3.688523769378662, 2.5481925010681152, 3.703890562057495, -1.1409833431243896, 1.5505235195159912, 2.989166736602783, 1.380326271057129, 3.3299543857574463, 5.053492546081543, -1.6135696172714233, 4.393089771270752, 2.511763572692871, -1.6248708963394165, 3.4125592708587646, 3.1844043731689453, 4.739954471588135, 2.7274463176727295, 5.401740074157715, 2.86369252204895, 4.746932506561279, 0.6237897872924805, 0.09394954890012741, 4.062038421630859, 3.1005027294158936, 4.14232063293457, 3.9521484375, 4.3480048179626465, 3.850855588912964, 5.109926223754883, -2.2977707386016846, 4.388012886047363, 4.198644638061523, -2.2953150272369385, 1.4687299728393555, -2.3103582859039307, 0.6161150932312012, -3.220282793045044, 1.5496587753295898, 3.737506151199341, 4.668915748596191, -3.47261905670166, 4.618195533752441, 2.3198351860046387, 0.6453023552894592, 3.195443630218506, 1.6271557807922363, 5.218721389770508, 3.2212982177734375, -3.089127779006958, 3.3952529430389404, 1.84443199634552, 4.41668176651001, 5.394404411315918, -1.6700725555419922, 5.498737335205078, 4.18257999420166, 3.5401432514190674, 4.39666223526001, 2.631239652633667, 4.274051189422607, 4.347939491271973, -2.151156425476074, -2.5548291206359863, -1.1169742345809937, -3.007167100906372, 1.227383017539978, 4.481917381286621, 3.289271116256714, -3.028369426727295, -1.82370126247406, 2.5625932216644287, 4.639782428741455, 3.112532138824463, 2.6752326488494873, 2.5449161529541016, 1.9329144954681396, 4.143654823303223, 1.8544366359710693, 1.3531405925750732, 4.36067008972168, 3.031491994857788, 3.826444387435913, 0.6320233345031738, 4.944920063018799, 1.6851881742477417, 3.3377890586853027, 4.910793304443359, 4.084569931030273, 4.385525703430176, 4.411716461181641, 3.431586265563965, 3.306243658065796, 3.64784836769104, 2.947901725769043, -1.3660517930984497, -1.165083408355713, -2.305211305618286, -2.5068130493164062, 1.7342638969421387, 2.436793565750122, 2.0430517196655273, 0.6449574828147888, -1.7677974700927734, 1.524674892425537, 1.4569066762924194, 1.074454665184021, 2.267244577407837, 1.421126365661621, 4.160728931427002, 5.233397483825684, 0.15336920320987701, 1.487558126449585, -3.1693456172943115, 0.6757507920265198, 4.0877485275268555, -3.777284622192383, 1.0987813472747803, -1.1615737676620483, -0.14858116209506989, -1.312182903289795, 1.621224045753479, 5.659910202026367, 1.6141300201416016, 0.5100935697555542, 4.666393280029297, 4.904965877532959, -1.3939650058746338, 3.4958629608154297, -3.210608959197998, 0.8522630929946899, -2.5129566192626953, 2.7648913860321045, -2.6083931922912598, 2.539649724960327, 3.4528820514678955, 1.657913327217102, 4.971255302429199, 3.9477081298828125, 4.611765384674072, 0.7283430099487305, -2.1412503719329834, 1.6631489992141724, 3.202974796295166, 2.6710000038146973, 1.451860785484314, 1.9731945991516113, -1.7572801113128662, 4.334963798522949, 4.2067179679870605, 4.8520588874816895, 4.758662700653076, 4.254305362701416, 3.788815498352051, 2.7159876823425293, -2.4310224056243896, 1.1308132410049438, 1.6245040893554688, 4.375877857208252, 1.841970682144165, 4.652989387512207, 5.569888114929199, 4.258825778961182, 4.741458415985107, 1.1200464963912964, 2.723736047744751, -2.5350167751312256, 3.5145020484924316, 1.6387358903884888, 3.8394718170166016, -2.6358087062835693, 3.41131854057312, 5.633345127105713, 2.6284098625183105, 3.347818374633789, 3.0369856357574463, 3.1586389541625977, 2.700068950653076, 5.662458896636963, 4.633636474609375, -1.3840595483779907, -2.9010162353515625, -3.133394479751587, 2.684166669845581, 2.004601240158081, -2.8843448162078857, 1.365614891052246, 2.4096832275390625, -2.2564618587493896, 5.182096481323242, 5.477360248565674, 3.374311923980713, 1.4143325090408325, 2.9980006217956543, 2.255618095397949, 3.068081855773926, 0.9211519956588745, 3.0854592323303223, 2.278583288192749, 4.392727851867676, 3.9097073078155518, 3.9070088863372803, 2.5082268714904785, 2.563633680343628, 1.2249244451522827, 4.995061874389648, 2.981333017349243, 1.88753342628479, 2.725752115249634, 0.7750762701034546, 3.657205104827881, 4.5608696937561035, 4.705446243286133, 3.87151837348938, 2.573093891143799, 0.5939284563064575, 1.5469613075256348, 1.1871148347854614, 2.269411325454712, 5.598636627197266, -2.1824147701263428, -3.137256383895874, -3.3940045833587646, 2.8952994346618652, 1.770806074142456, -2.148033618927002, -2.2465171813964844, 3.092742443084717, -1.4902206659317017, -3.4502384662628174, -2.7459893226623535, 5.637111186981201, 0.466662734746933, 2.7223806381225586, 4.1063055992126465, 0.5353538990020752, 5.188213348388672, 4.634538173675537, 2.6379780769348145, 0.44220373034477234, -2.8331968784332275, 1.3490755558013916, 3.370906352996826, 3.5878236293792725, 2.749610424041748, 1.1073980331420898, 2.55812406539917, 3.9226934909820557, -1.7377204895019531, 4.884940147399902, 5.069477081298828, 0.24680829048156738, 4.596676826477051, 0.1495739370584488, -2.7915899753570557, -1.980535864830017, 1.889359474182129, 4.810580730438232, -1.9857573509216309, 3.019059658050537, 1.5060899257659912, 2.079622745513916, -3.6885030269622803, -2.217355728149414, -2.4584908485412598, 5.125073432922363, 3.451760768890381, -1.544629693031311, -3.4341440200805664, 2.7241265773773193, 1.4118565320968628, 4.350605010986328, -3.3211252689361572, -2.8734095096588135, 4.215954303741455, -2.355602979660034, 2.922407388687134, -3.44062876701355, 4.813056468963623, 4.957431793212891, 2.4030814170837402, 0.7810359001159668, -2.7704694271087646, 3.435108184814453, 1.816535472869873, 1.4061164855957031, 2.4524474143981934, 4.275906085968018, 0.3200964033603668, 3.7847228050231934, 1.7257412672042847, 3.573723316192627, 5.217464447021484, 2.742500066757202, 0.7256594300270081, 3.2646644115448, -3.5166707038879395, -1.060938835144043, 3.485147476196289, 1.0183809995651245, 3.4946720600128174, 4.1040191650390625, 3.5255661010742188, 4.667200088500977, 5.238887310028076, 0.3605441451072693, -3.4502813816070557, 3.4323184490203857, 3.235821485519409, 3.8640811443328857, 5.319789886474609, -3.07790207862854, -2.70682692527771, 3.1508142948150635, 3.683670997619629, -1.3983193635940552, 3.4051456451416016, 3.1273815631866455, 0.46245092153549194, 3.958936929702759, 0.5563765168190002, 0.15438847243785858, 5.191851615905762, 1.5121575593948364, -2.5883631706237793, 1.4189444780349731, 4.660399436950684, 4.244425296783447, 4.556708812713623, 4.800395965576172, 3.7596514225006104, -2.7195584774017334, -1.6215401887893677, 0.6136932969093323, 4.682173728942871, -1.2450429201126099, 1.4138820171356201, -2.5299057960510254, 2.442640781402588, 3.822409152984619, 2.4613819122314453, 5.14453125, -3.1119437217712402, 2.9614498615264893, -1.1825023889541626, -2.828336000442505, 2.2936911582946777, -2.6583428382873535, 3.55672287940979, 4.921834468841553, 4.692115783691406, -2.934722423553467, 4.24200963973999, -1.2677006721496582, 4.613931179046631, 1.5849248170852661, 3.5610721111297607, -1.7428632974624634, 5.144332408905029, 2.6102066040039062, 1.5859185457229614, 2.2702178955078125, -2.0124452114105225, 0.612205982208252, -1.3867048025131226, -2.920377492904663, -2.410306215286255, 4.6257147789001465, 4.14113712310791, 5.67207670211792, -2.181279420852661, 2.504462242126465, -1.9165717363357544, 3.0488059520721436, 0.6493009924888611, 2.7303688526153564, 1.2474347352981567, -2.3698949813842773, 2.8447105884552, -2.2469406127929688, -2.455153465270996, 4.037659168243408, 2.511765241622925, 3.1238155364990234, 3.9944992065429688, 1.353827714920044, 2.3667211532592773, 4.09700870513916, -2.9247021675109863, 0.7194957137107849, 4.292804718017578, 4.756897449493408, 1.2610664367675781, -3.7490715980529785, 3.6169722080230713, 2.695307493209839, 2.502412796020508, -3.7031049728393555, 2.9615626335144043, 0.067662313580513, -1.563294529914856, 3.9105260372161865, 5.232316017150879, 5.662517547607422, -1.1612743139266968, 4.966850280761719, 3.310446262359619, -2.4081218242645264, 3.9728972911834717, -1.505979061126709, 5.099143028259277, -1.9193161725997925, 2.615656852722168, 3.9498767852783203, 0.09331581741571426, 1.6325987577438354, 3.370821237564087, 2.644538164138794, 4.232956886291504, 0.9303210973739624, 2.138641357421875, 0.6959586143493652, 4.2191290855407715, 5.398228168487549, 0.868336021900177, 1.650925636291504, -3.5198633670806885, 4.850536346435547, -3.364541530609131, 2.971820116043091, -3.2161355018615723, -2.707442283630371, 4.109260559082031, 5.12643575668335, -1.9650073051452637, 1.4706737995147705, 4.098132610321045, 4.761509418487549, 1.7146189212799072, 3.948460578918457, 5.68271017074585, 3.26436185836792, 3.107276201248169, 2.056156873703003, 4.647945880889893, 2.7165095806121826, 0.40119946002960205, -3.6053717136383057, -2.1573028564453125, 3.4646830558776855, 3.8146989345550537, -3.1481316089630127, 2.956024169921875, 1.4463738203048706, 3.2909297943115234, -2.667386531829834, -2.4588494300842285, 0.08123428374528885, -2.532313823699951, 4.3512864112854, 3.9982681274414062, 3.4646809101104736, 1.5333446264266968, 4.368559837341309, 2.9891529083251953, -1.2403874397277832, -3.249976396560669, 4.974157810211182, 3.4823076725006104, 2.2057619094848633, 2.0452044010162354, 4.290257453918457, 5.364407539367676, 0.5871268510818481, 4.5116143226623535, -3.5206964015960693, -3.1627185344696045, 0.705548882484436, 3.221740245819092, -2.063028573989868, 3.452571392059326, -3.1999008655548096, 4.176295757293701, 0.5882179737091064], \"yaxis\": \"y\"}],\n",
       "                        {\"coloraxis\": {\"colorbar\": {\"title\": {\"text\": \"Label\"}}, \"colorscale\": [[0.0, \"#0d0887\"], [0.1111111111111111, \"#46039f\"], [0.2222222222222222, \"#7201a8\"], [0.3333333333333333, \"#9c179e\"], [0.4444444444444444, \"#bd3786\"], [0.5555555555555556, \"#d8576b\"], [0.6666666666666666, \"#ed7953\"], [0.7777777777777778, \"#fb9f3a\"], [0.8888888888888888, \"#fdca26\"], [1.0, \"#f0f921\"]]}, \"height\": 800, \"legend\": {\"tracegroupgap\": 0}, \"template\": {\"data\": {\"bar\": [{\"error_x\": {\"color\": \"#2a3f5f\"}, \"error_y\": {\"color\": \"#2a3f5f\"}, \"marker\": {\"line\": {\"color\": \"#E5ECF6\", \"width\": 0.5}}, \"type\": \"bar\"}], \"barpolar\": [{\"marker\": {\"line\": {\"color\": \"#E5ECF6\", \"width\": 0.5}}, \"type\": \"barpolar\"}], \"carpet\": [{\"aaxis\": {\"endlinecolor\": \"#2a3f5f\", \"gridcolor\": \"white\", \"linecolor\": \"white\", \"minorgridcolor\": \"white\", \"startlinecolor\": \"#2a3f5f\"}, \"baxis\": {\"endlinecolor\": \"#2a3f5f\", \"gridcolor\": \"white\", \"linecolor\": \"white\", \"minorgridcolor\": \"white\", \"startlinecolor\": \"#2a3f5f\"}, \"type\": \"carpet\"}], \"choropleth\": [{\"colorbar\": {\"outlinewidth\": 0, \"ticks\": \"\"}, \"type\": \"choropleth\"}], \"contour\": [{\"colorbar\": {\"outlinewidth\": 0, \"ticks\": \"\"}, \"colorscale\": [[0.0, \"#0d0887\"], [0.1111111111111111, \"#46039f\"], [0.2222222222222222, \"#7201a8\"], [0.3333333333333333, \"#9c179e\"], [0.4444444444444444, \"#bd3786\"], [0.5555555555555556, \"#d8576b\"], [0.6666666666666666, \"#ed7953\"], [0.7777777777777778, \"#fb9f3a\"], [0.8888888888888888, \"#fdca26\"], [1.0, \"#f0f921\"]], \"type\": \"contour\"}], \"contourcarpet\": [{\"colorbar\": {\"outlinewidth\": 0, \"ticks\": \"\"}, \"type\": \"contourcarpet\"}], \"heatmap\": [{\"colorbar\": {\"outlinewidth\": 0, \"ticks\": \"\"}, \"colorscale\": [[0.0, \"#0d0887\"], [0.1111111111111111, \"#46039f\"], [0.2222222222222222, \"#7201a8\"], [0.3333333333333333, \"#9c179e\"], [0.4444444444444444, \"#bd3786\"], [0.5555555555555556, \"#d8576b\"], [0.6666666666666666, \"#ed7953\"], [0.7777777777777778, \"#fb9f3a\"], [0.8888888888888888, \"#fdca26\"], [1.0, \"#f0f921\"]], \"type\": \"heatmap\"}], \"heatmapgl\": [{\"colorbar\": {\"outlinewidth\": 0, \"ticks\": \"\"}, \"colorscale\": [[0.0, \"#0d0887\"], [0.1111111111111111, \"#46039f\"], [0.2222222222222222, \"#7201a8\"], [0.3333333333333333, \"#9c179e\"], [0.4444444444444444, \"#bd3786\"], [0.5555555555555556, \"#d8576b\"], [0.6666666666666666, \"#ed7953\"], [0.7777777777777778, \"#fb9f3a\"], [0.8888888888888888, \"#fdca26\"], [1.0, \"#f0f921\"]], \"type\": \"heatmapgl\"}], \"histogram\": [{\"marker\": {\"colorbar\": {\"outlinewidth\": 0, \"ticks\": \"\"}}, \"type\": \"histogram\"}], \"histogram2d\": [{\"colorbar\": {\"outlinewidth\": 0, \"ticks\": \"\"}, \"colorscale\": [[0.0, \"#0d0887\"], [0.1111111111111111, \"#46039f\"], [0.2222222222222222, \"#7201a8\"], [0.3333333333333333, \"#9c179e\"], [0.4444444444444444, \"#bd3786\"], [0.5555555555555556, \"#d8576b\"], [0.6666666666666666, \"#ed7953\"], [0.7777777777777778, \"#fb9f3a\"], [0.8888888888888888, \"#fdca26\"], [1.0, \"#f0f921\"]], \"type\": \"histogram2d\"}], \"histogram2dcontour\": [{\"colorbar\": {\"outlinewidth\": 0, \"ticks\": \"\"}, \"colorscale\": [[0.0, \"#0d0887\"], [0.1111111111111111, \"#46039f\"], [0.2222222222222222, \"#7201a8\"], [0.3333333333333333, \"#9c179e\"], [0.4444444444444444, \"#bd3786\"], [0.5555555555555556, \"#d8576b\"], [0.6666666666666666, \"#ed7953\"], [0.7777777777777778, \"#fb9f3a\"], [0.8888888888888888, \"#fdca26\"], [1.0, \"#f0f921\"]], \"type\": \"histogram2dcontour\"}], \"mesh3d\": [{\"colorbar\": {\"outlinewidth\": 0, \"ticks\": \"\"}, \"type\": \"mesh3d\"}], \"parcoords\": [{\"line\": {\"colorbar\": {\"outlinewidth\": 0, \"ticks\": \"\"}}, \"type\": \"parcoords\"}], \"pie\": [{\"automargin\": true, \"type\": \"pie\"}], \"scatter\": [{\"marker\": {\"colorbar\": {\"outlinewidth\": 0, \"ticks\": \"\"}}, \"type\": \"scatter\"}], \"scatter3d\": [{\"line\": {\"colorbar\": {\"outlinewidth\": 0, \"ticks\": \"\"}}, \"marker\": {\"colorbar\": {\"outlinewidth\": 0, \"ticks\": \"\"}}, \"type\": \"scatter3d\"}], \"scattercarpet\": [{\"marker\": {\"colorbar\": {\"outlinewidth\": 0, \"ticks\": \"\"}}, \"type\": \"scattercarpet\"}], \"scattergeo\": [{\"marker\": {\"colorbar\": {\"outlinewidth\": 0, \"ticks\": \"\"}}, \"type\": \"scattergeo\"}], \"scattergl\": [{\"marker\": {\"colorbar\": {\"outlinewidth\": 0, \"ticks\": \"\"}}, \"type\": \"scattergl\"}], \"scattermapbox\": [{\"marker\": {\"colorbar\": {\"outlinewidth\": 0, \"ticks\": \"\"}}, \"type\": \"scattermapbox\"}], \"scatterpolar\": [{\"marker\": {\"colorbar\": {\"outlinewidth\": 0, \"ticks\": \"\"}}, \"type\": \"scatterpolar\"}], \"scatterpolargl\": [{\"marker\": {\"colorbar\": {\"outlinewidth\": 0, \"ticks\": \"\"}}, \"type\": \"scatterpolargl\"}], \"scatterternary\": [{\"marker\": {\"colorbar\": {\"outlinewidth\": 0, \"ticks\": \"\"}}, \"type\": \"scatterternary\"}], \"surface\": [{\"colorbar\": {\"outlinewidth\": 0, \"ticks\": \"\"}, \"colorscale\": [[0.0, \"#0d0887\"], [0.1111111111111111, \"#46039f\"], [0.2222222222222222, \"#7201a8\"], [0.3333333333333333, \"#9c179e\"], [0.4444444444444444, \"#bd3786\"], [0.5555555555555556, \"#d8576b\"], [0.6666666666666666, \"#ed7953\"], [0.7777777777777778, \"#fb9f3a\"], [0.8888888888888888, \"#fdca26\"], [1.0, \"#f0f921\"]], \"type\": \"surface\"}], \"table\": [{\"cells\": {\"fill\": {\"color\": \"#EBF0F8\"}, \"line\": {\"color\": \"white\"}}, \"header\": {\"fill\": {\"color\": \"#C8D4E3\"}, \"line\": {\"color\": \"white\"}}, \"type\": \"table\"}]}, \"layout\": {\"annotationdefaults\": {\"arrowcolor\": \"#2a3f5f\", \"arrowhead\": 0, \"arrowwidth\": 1}, \"coloraxis\": {\"colorbar\": {\"outlinewidth\": 0, \"ticks\": \"\"}}, \"colorscale\": {\"diverging\": [[0, \"#8e0152\"], [0.1, \"#c51b7d\"], [0.2, \"#de77ae\"], [0.3, \"#f1b6da\"], [0.4, \"#fde0ef\"], [0.5, \"#f7f7f7\"], [0.6, \"#e6f5d0\"], [0.7, \"#b8e186\"], [0.8, \"#7fbc41\"], [0.9, \"#4d9221\"], [1, \"#276419\"]], \"sequential\": [[0.0, \"#0d0887\"], [0.1111111111111111, \"#46039f\"], [0.2222222222222222, \"#7201a8\"], [0.3333333333333333, \"#9c179e\"], [0.4444444444444444, \"#bd3786\"], [0.5555555555555556, \"#d8576b\"], [0.6666666666666666, \"#ed7953\"], [0.7777777777777778, \"#fb9f3a\"], [0.8888888888888888, \"#fdca26\"], [1.0, \"#f0f921\"]], \"sequentialminus\": [[0.0, \"#0d0887\"], [0.1111111111111111, \"#46039f\"], [0.2222222222222222, \"#7201a8\"], [0.3333333333333333, \"#9c179e\"], [0.4444444444444444, \"#bd3786\"], [0.5555555555555556, \"#d8576b\"], [0.6666666666666666, \"#ed7953\"], [0.7777777777777778, \"#fb9f3a\"], [0.8888888888888888, \"#fdca26\"], [1.0, \"#f0f921\"]]}, \"colorway\": [\"#636efa\", \"#EF553B\", \"#00cc96\", \"#ab63fa\", \"#FFA15A\", \"#19d3f3\", \"#FF6692\", \"#B6E880\", \"#FF97FF\", \"#FECB52\"], \"font\": {\"color\": \"#2a3f5f\"}, \"geo\": {\"bgcolor\": \"white\", \"lakecolor\": \"white\", \"landcolor\": \"#E5ECF6\", \"showlakes\": true, \"showland\": true, \"subunitcolor\": \"white\"}, \"hoverlabel\": {\"align\": \"left\"}, \"hovermode\": \"closest\", \"mapbox\": {\"style\": \"light\"}, \"paper_bgcolor\": \"white\", \"plot_bgcolor\": \"#E5ECF6\", \"polar\": {\"angularaxis\": {\"gridcolor\": \"white\", \"linecolor\": \"white\", \"ticks\": \"\"}, \"bgcolor\": \"#E5ECF6\", \"radialaxis\": {\"gridcolor\": \"white\", \"linecolor\": \"white\", \"ticks\": \"\"}}, \"scene\": {\"xaxis\": {\"backgroundcolor\": \"#E5ECF6\", \"gridcolor\": \"white\", \"gridwidth\": 2, \"linecolor\": \"white\", \"showbackground\": true, \"ticks\": \"\", \"zerolinecolor\": \"white\"}, \"yaxis\": {\"backgroundcolor\": \"#E5ECF6\", \"gridcolor\": \"white\", \"gridwidth\": 2, \"linecolor\": \"white\", \"showbackground\": true, \"ticks\": \"\", \"zerolinecolor\": \"white\"}, \"zaxis\": {\"backgroundcolor\": \"#E5ECF6\", \"gridcolor\": \"white\", \"gridwidth\": 2, \"linecolor\": \"white\", \"showbackground\": true, \"ticks\": \"\", \"zerolinecolor\": \"white\"}}, \"shapedefaults\": {\"line\": {\"color\": \"#2a3f5f\"}}, \"ternary\": {\"aaxis\": {\"gridcolor\": \"white\", \"linecolor\": \"white\", \"ticks\": \"\"}, \"baxis\": {\"gridcolor\": \"white\", \"linecolor\": \"white\", \"ticks\": \"\"}, \"bgcolor\": \"#E5ECF6\", \"caxis\": {\"gridcolor\": \"white\", \"linecolor\": \"white\", \"ticks\": \"\"}}, \"title\": {\"x\": 0.05}, \"xaxis\": {\"automargin\": true, \"gridcolor\": \"white\", \"linecolor\": \"white\", \"ticks\": \"\", \"title\": {\"standoff\": 15}, \"zerolinecolor\": \"white\", \"zerolinewidth\": 2}, \"yaxis\": {\"automargin\": true, \"gridcolor\": \"white\", \"linecolor\": \"white\", \"ticks\": \"\", \"title\": {\"standoff\": 15}, \"zerolinecolor\": \"white\", \"zerolinewidth\": 2}}}, \"title\": {\"text\": \"uMAP Plot for Outliers\"}, \"width\": 900, \"xaxis\": {\"anchor\": \"y\", \"domain\": [0.0, 1.0], \"title\": {\"text\": \"0\"}}, \"yaxis\": {\"anchor\": \"x\", \"domain\": [0.0, 1.0], \"title\": {\"text\": \"1\"}}},\n",
       "                        {\"responsive\": true}\n",
       "                    ).then(function(){\n",
       "                            \n",
       "var gd = document.getElementById('67e4907b-0b4c-469f-9246-ce1f14567f1c');\n",
       "var x = new MutationObserver(function (mutations, observer) {{\n",
       "        var display = window.getComputedStyle(gd).display;\n",
       "        if (!display || display === 'none') {{\n",
       "            console.log([gd, 'removed!']);\n",
       "            Plotly.purge(gd);\n",
       "            observer.disconnect();\n",
       "        }}\n",
       "}});\n",
       "\n",
       "// Listen for the removal of the full notebook cells\n",
       "var notebookContainer = gd.closest('#notebook-container');\n",
       "if (notebookContainer) {{\n",
       "    x.observe(notebookContainer, {childList: true});\n",
       "}}\n",
       "\n",
       "// Listen for the clearing of the current output cell\n",
       "var outputEl = gd.closest('.output');\n",
       "if (outputEl) {{\n",
       "    x.observe(outputEl, {childList: true});\n",
       "}}\n",
       "\n",
       "                        })\n",
       "                };\n",
       "                });\n",
       "            </script>\n",
       "        </div>"
      ]
     },
     "metadata": {},
     "output_type": "display_data"
    }
   ],
   "source": [
    "plot_model(iforest, plot = 'umap')"
   ]
  },
  {
   "cell_type": "markdown",
   "metadata": {},
   "source": [
    "# 6. Predict Model"
   ]
  },
  {
   "cell_type": "code",
   "execution_count": 10,
   "metadata": {},
   "outputs": [
    {
     "data": {
      "text/html": [
       "<div>\n",
       "<style scoped>\n",
       "    .dataframe tbody tr th:only-of-type {\n",
       "        vertical-align: middle;\n",
       "    }\n",
       "\n",
       "    .dataframe tbody tr th {\n",
       "        vertical-align: top;\n",
       "    }\n",
       "\n",
       "    .dataframe thead th {\n",
       "        text-align: right;\n",
       "    }\n",
       "</style>\n",
       "<table border=\"1\" class=\"dataframe\">\n",
       "  <thead>\n",
       "    <tr style=\"text-align: right;\">\n",
       "      <th></th>\n",
       "      <th>Col1</th>\n",
       "      <th>Col2</th>\n",
       "      <th>Col3</th>\n",
       "      <th>Col4</th>\n",
       "      <th>Col5</th>\n",
       "      <th>Col6</th>\n",
       "      <th>Col7</th>\n",
       "      <th>Col8</th>\n",
       "      <th>Col9</th>\n",
       "      <th>Col10</th>\n",
       "      <th>Label</th>\n",
       "      <th>Score</th>\n",
       "    </tr>\n",
       "  </thead>\n",
       "  <tbody>\n",
       "    <tr>\n",
       "      <th>0</th>\n",
       "      <td>0.263995</td>\n",
       "      <td>0.764929</td>\n",
       "      <td>0.138424</td>\n",
       "      <td>0.935242</td>\n",
       "      <td>0.605867</td>\n",
       "      <td>0.518790</td>\n",
       "      <td>0.912225</td>\n",
       "      <td>0.608234</td>\n",
       "      <td>0.723782</td>\n",
       "      <td>0.733591</td>\n",
       "      <td>0</td>\n",
       "      <td>-0.035865</td>\n",
       "    </tr>\n",
       "    <tr>\n",
       "      <th>1</th>\n",
       "      <td>0.546092</td>\n",
       "      <td>0.653975</td>\n",
       "      <td>0.065575</td>\n",
       "      <td>0.227772</td>\n",
       "      <td>0.845269</td>\n",
       "      <td>0.837066</td>\n",
       "      <td>0.272379</td>\n",
       "      <td>0.331679</td>\n",
       "      <td>0.429297</td>\n",
       "      <td>0.367422</td>\n",
       "      <td>0</td>\n",
       "      <td>-0.084927</td>\n",
       "    </tr>\n",
       "    <tr>\n",
       "      <th>2</th>\n",
       "      <td>0.336714</td>\n",
       "      <td>0.538842</td>\n",
       "      <td>0.192801</td>\n",
       "      <td>0.553563</td>\n",
       "      <td>0.074515</td>\n",
       "      <td>0.332993</td>\n",
       "      <td>0.365792</td>\n",
       "      <td>0.861309</td>\n",
       "      <td>0.899017</td>\n",
       "      <td>0.088600</td>\n",
       "      <td>1</td>\n",
       "      <td>0.025356</td>\n",
       "    </tr>\n",
       "    <tr>\n",
       "      <th>3</th>\n",
       "      <td>0.092108</td>\n",
       "      <td>0.995017</td>\n",
       "      <td>0.014465</td>\n",
       "      <td>0.176371</td>\n",
       "      <td>0.241530</td>\n",
       "      <td>0.514724</td>\n",
       "      <td>0.562208</td>\n",
       "      <td>0.158963</td>\n",
       "      <td>0.073715</td>\n",
       "      <td>0.208463</td>\n",
       "      <td>1</td>\n",
       "      <td>0.042415</td>\n",
       "    </tr>\n",
       "    <tr>\n",
       "      <th>4</th>\n",
       "      <td>0.325261</td>\n",
       "      <td>0.805968</td>\n",
       "      <td>0.957033</td>\n",
       "      <td>0.331665</td>\n",
       "      <td>0.307923</td>\n",
       "      <td>0.355315</td>\n",
       "      <td>0.501899</td>\n",
       "      <td>0.558449</td>\n",
       "      <td>0.885169</td>\n",
       "      <td>0.182754</td>\n",
       "      <td>0</td>\n",
       "      <td>-0.023408</td>\n",
       "    </tr>\n",
       "  </tbody>\n",
       "</table>\n",
       "</div>"
      ],
      "text/plain": [
       "       Col1      Col2      Col3      Col4      Col5      Col6      Col7  \\\n",
       "0  0.263995  0.764929  0.138424  0.935242  0.605867  0.518790  0.912225   \n",
       "1  0.546092  0.653975  0.065575  0.227772  0.845269  0.837066  0.272379   \n",
       "2  0.336714  0.538842  0.192801  0.553563  0.074515  0.332993  0.365792   \n",
       "3  0.092108  0.995017  0.014465  0.176371  0.241530  0.514724  0.562208   \n",
       "4  0.325261  0.805968  0.957033  0.331665  0.307923  0.355315  0.501899   \n",
       "\n",
       "       Col8      Col9     Col10  Label     Score  \n",
       "0  0.608234  0.723782  0.733591      0 -0.035865  \n",
       "1  0.331679  0.429297  0.367422      0 -0.084927  \n",
       "2  0.861309  0.899017  0.088600      1  0.025356  \n",
       "3  0.158963  0.073715  0.208463      1  0.042415  \n",
       "4  0.558449  0.885169  0.182754      0 -0.023408  "
      ]
     },
     "execution_count": 10,
     "metadata": {},
     "output_type": "execute_result"
    }
   ],
   "source": [
    "pred_new = predict_model(iforest, data=data)\n",
    "pred_new.head()"
   ]
  },
  {
   "cell_type": "markdown",
   "metadata": {},
   "source": [
    "# 7. Save / Load Model"
   ]
  },
  {
   "cell_type": "code",
   "execution_count": 11,
   "metadata": {},
   "outputs": [
    {
     "name": "stdout",
     "output_type": "stream",
     "text": [
      "Transformation Pipeline and Model Succesfully Saved\n"
     ]
    }
   ],
   "source": [
    "save_model(iforest, model_name='iforest')"
   ]
  },
  {
   "cell_type": "code",
   "execution_count": 12,
   "metadata": {},
   "outputs": [
    {
     "name": "stdout",
     "output_type": "stream",
     "text": [
      "Transformation Pipeline and Model Sucessfully Loaded\n",
      "[Pipeline(memory=None,\n",
      "         steps=[('dtypes',\n",
      "                 DataTypes_Auto_infer(categorical_features=[],\n",
      "                                      display_types=True, features_todrop=[],\n",
      "                                      ml_usecase='regression',\n",
      "                                      numerical_features=[],\n",
      "                                      target='dummy_target',\n",
      "                                      time_features=[])),\n",
      "                ('imputer',\n",
      "                 Simple_Imputer(categorical_strategy='not_available',\n",
      "                                numeric_strategy='mean',\n",
      "                                target_variable=None)),\n",
      "                ('new_levels1',\n",
      "                 New_Catagorical_L...\n",
      "                                                    target='dummy_target')),\n",
      "                ('feature_time',\n",
      "                 Make_Time_Features(list_of_features=None, time_feature=[])),\n",
      "                ('group', Empty()), ('scaling', Empty()),\n",
      "                ('P_transform', Empty()), ('binn', Empty()),\n",
      "                ('fix_perfect', Empty()), ('rem_outliers', Empty()),\n",
      "                ('dummy', Dummify(target='dummy_target')),\n",
      "                ('clean_names', Clean_Colum_Names()), ('fix_multi', Empty()),\n",
      "                ('pca', Empty())],\n",
      "         verbose=False), IForest(behaviour='new', bootstrap=False, contamination=0.05,\n",
      "    max_features=1.0, max_samples='auto', n_estimators=100, n_jobs=1,\n",
      "    random_state=123, verbose=0)]\n"
     ]
    }
   ],
   "source": [
    "loaded_iforest = load_model('iforest')\n",
    "print(loaded_iforest)"
   ]
  },
  {
   "cell_type": "code",
   "execution_count": 13,
   "metadata": {},
   "outputs": [
    {
     "data": {
      "text/html": [
       "<style>div.sk-top-container {color: black;background-color: white;}div.sk-toggleable {background-color: white;}label.sk-toggleable__label {cursor: pointer;display: block;width: 100%;margin-bottom: 0;padding: 0.2em 0.3em;box-sizing: border-box;text-align: center;}div.sk-toggleable__content {max-height: 0;max-width: 0;overflow: hidden;text-align: left;background-color: #f0f8ff;}div.sk-toggleable__content pre {margin: 0.2em;color: black;border-radius: 0.25em;background-color: #f0f8ff;}input.sk-toggleable__control:checked~div.sk-toggleable__content {max-height: 200px;max-width: 100%;overflow: auto;}div.sk-estimator input.sk-toggleable__control:checked~label.sk-toggleable__label {background-color: #d4ebff;}div.sk-label input.sk-toggleable__control:checked~label.sk-toggleable__label {background-color: #d4ebff;}input.sk-hidden--visually {border: 0;clip: rect(1px 1px 1px 1px);clip: rect(1px, 1px, 1px, 1px);height: 1px;margin: -1px;overflow: hidden;padding: 0;position: absolute;width: 1px;}div.sk-estimator {font-family: monospace;background-color: #f0f8ff;margin: 0.25em 0.25em;border: 1px dotted black;border-radius: 0.25em;box-sizing: border-box;}div.sk-estimator:hover {background-color: #d4ebff;}div.sk-parallel-item::after {content: \"\";width: 100%;border-bottom: 1px solid gray;flex-grow: 1;}div.sk-label:hover label.sk-toggleable__label {background-color: #d4ebff;}div.sk-serial::before {content: \"\";position: absolute;border-left: 1px solid gray;box-sizing: border-box;top: 2em;bottom: 0;left: 50%;}div.sk-serial {display: flex;flex-direction: column;align-items: center;background-color: white;}div.sk-item {z-index: 1;}div.sk-parallel {display: flex;align-items: stretch;justify-content: center;background-color: white;}div.sk-parallel-item {display: flex;flex-direction: column;position: relative;background-color: white;}div.sk-parallel-item:first-child::after {align-self: flex-end;width: 50%;}div.sk-parallel-item:last-child::after {align-self: flex-start;width: 50%;}div.sk-parallel-item:only-child::after {width: 0;}div.sk-dashed-wrapped {border: 1px dashed gray;margin: 0.2em;box-sizing: border-box;padding-bottom: 0.1em;background-color: white;position: relative;}div.sk-label label {font-family: monospace;font-weight: bold;background-color: white;display: inline-block;line-height: 1.2em;}div.sk-label-container {position: relative;z-index: 2;text-align: center;}div.sk-container {display: inline-block;position: relative;}</style><div class=\"sk-top-container\"><div class=\"sk-container\"><div class=\"sk-item sk-dashed-wrapped\"><div class=\"sk-label-container\"><div class=\"sk-label sk-toggleable\"><input class=\"sk-toggleable__control sk-hidden--visually\" id=\"094b4c73-e34a-42f0-af06-3cb0a0f293d6\" type=\"checkbox\" ><label class=\"sk-toggleable__label\" for=\"094b4c73-e34a-42f0-af06-3cb0a0f293d6\">Pipeline</label><div class=\"sk-toggleable__content\"><pre>Pipeline(memory=None,\n",
       "         steps=[('dtypes',\n",
       "                 DataTypes_Auto_infer(categorical_features=[],\n",
       "                                      display_types=True, features_todrop=[],\n",
       "                                      ml_usecase='regression',\n",
       "                                      numerical_features=[],\n",
       "                                      target='dummy_target',\n",
       "                                      time_features=[])),\n",
       "                ('imputer',\n",
       "                 Simple_Imputer(categorical_strategy='not_available',\n",
       "                                numeric_strategy='mean',\n",
       "                                target_variable=None)),\n",
       "                ('new_levels1',\n",
       "                 New_Catagorical_L...\n",
       "                                                    target='dummy_target')),\n",
       "                ('feature_time',\n",
       "                 Make_Time_Features(list_of_features=None, time_feature=[])),\n",
       "                ('group', Empty()), ('scaling', Empty()),\n",
       "                ('P_transform', Empty()), ('binn', Empty()),\n",
       "                ('fix_perfect', Empty()), ('rem_outliers', Empty()),\n",
       "                ('dummy', Dummify(target='dummy_target')),\n",
       "                ('clean_names', Clean_Colum_Names()), ('fix_multi', Empty()),\n",
       "                ('pca', Empty())],\n",
       "         verbose=False)</pre></div></div></div><div class=\"sk-serial\"><div class=\"sk-item\"><div class=\"sk-estimator sk-toggleable\"><input class=\"sk-toggleable__control sk-hidden--visually\" id=\"cb66d144-4568-4e6f-ac78-2db3b4993802\" type=\"checkbox\" ><label class=\"sk-toggleable__label\" for=\"cb66d144-4568-4e6f-ac78-2db3b4993802\">DataTypes_Auto_infer</label><div class=\"sk-toggleable__content\"><pre>DataTypes_Auto_infer(ml_usecase='regression', target='dummy_target')</pre></div></div></div><div class=\"sk-item\"><div class=\"sk-estimator sk-toggleable\"><input class=\"sk-toggleable__control sk-hidden--visually\" id=\"f6a278b6-a5f0-4938-a0c9-3258a90a77ce\" type=\"checkbox\" ><label class=\"sk-toggleable__label\" for=\"f6a278b6-a5f0-4938-a0c9-3258a90a77ce\">Simple_Imputer</label><div class=\"sk-toggleable__content\"><pre>Simple_Imputer(categorical_strategy='not_available', numeric_strategy='mean',\n",
       "               target_variable=None)</pre></div></div></div><div class=\"sk-item\"><div class=\"sk-estimator sk-toggleable\"><input class=\"sk-toggleable__control sk-hidden--visually\" id=\"093cad93-1c05-4fc8-a5eb-b773df998402\" type=\"checkbox\" ><label class=\"sk-toggleable__label\" for=\"093cad93-1c05-4fc8-a5eb-b773df998402\">New_Catagorical_Levels_in_TestData</label><div class=\"sk-toggleable__content\"><pre>New_Catagorical_Levels_in_TestData(replacement_strategy='least frequent',\n",
       "                                   target='dummy_target')</pre></div></div></div><div class=\"sk-item\"><div class=\"sk-estimator sk-toggleable\"><input class=\"sk-toggleable__control sk-hidden--visually\" id=\"92f67d76-bc38-4cf5-a35a-650df307b980\" type=\"checkbox\" ><label class=\"sk-toggleable__label\" for=\"92f67d76-bc38-4cf5-a35a-650df307b980\">Empty</label><div class=\"sk-toggleable__content\"><pre>Empty()</pre></div></div></div><div class=\"sk-item\"><div class=\"sk-estimator sk-toggleable\"><input class=\"sk-toggleable__control sk-hidden--visually\" id=\"f343c346-95b3-478e-869b-a5a737764859\" type=\"checkbox\" ><label class=\"sk-toggleable__label\" for=\"f343c346-95b3-478e-869b-a5a737764859\">Empty</label><div class=\"sk-toggleable__content\"><pre>Empty()</pre></div></div></div><div class=\"sk-item\"><div class=\"sk-estimator sk-toggleable\"><input class=\"sk-toggleable__control sk-hidden--visually\" id=\"b2578b44-ad01-46ae-82db-00d8a9d040c0\" type=\"checkbox\" ><label class=\"sk-toggleable__label\" for=\"b2578b44-ad01-46ae-82db-00d8a9d040c0\">Empty</label><div class=\"sk-toggleable__content\"><pre>Empty()</pre></div></div></div><div class=\"sk-item\"><div class=\"sk-estimator sk-toggleable\"><input class=\"sk-toggleable__control sk-hidden--visually\" id=\"9cbacab7-32bd-4aab-b6a8-ef476ed9337e\" type=\"checkbox\" ><label class=\"sk-toggleable__label\" for=\"9cbacab7-32bd-4aab-b6a8-ef476ed9337e\">Empty</label><div class=\"sk-toggleable__content\"><pre>Empty()</pre></div></div></div><div class=\"sk-item\"><div class=\"sk-estimator sk-toggleable\"><input class=\"sk-toggleable__control sk-hidden--visually\" id=\"add2e689-f380-48e1-8147-12dda9744738\" type=\"checkbox\" ><label class=\"sk-toggleable__label\" for=\"add2e689-f380-48e1-8147-12dda9744738\">New_Catagorical_Levels_in_TestData</label><div class=\"sk-toggleable__content\"><pre>New_Catagorical_Levels_in_TestData(replacement_strategy='least frequent',\n",
       "                                   target='dummy_target')</pre></div></div></div><div class=\"sk-item\"><div class=\"sk-estimator sk-toggleable\"><input class=\"sk-toggleable__control sk-hidden--visually\" id=\"b5baff3d-09ab-4af7-92b3-ba534a1d39d6\" type=\"checkbox\" ><label class=\"sk-toggleable__label\" for=\"b5baff3d-09ab-4af7-92b3-ba534a1d39d6\">Make_Time_Features</label><div class=\"sk-toggleable__content\"><pre>Make_Time_Features(list_of_features=None)</pre></div></div></div><div class=\"sk-item\"><div class=\"sk-estimator sk-toggleable\"><input class=\"sk-toggleable__control sk-hidden--visually\" id=\"34f3c33b-8f62-446d-9d1d-2d4912d49bdf\" type=\"checkbox\" ><label class=\"sk-toggleable__label\" for=\"34f3c33b-8f62-446d-9d1d-2d4912d49bdf\">Empty</label><div class=\"sk-toggleable__content\"><pre>Empty()</pre></div></div></div><div class=\"sk-item\"><div class=\"sk-estimator sk-toggleable\"><input class=\"sk-toggleable__control sk-hidden--visually\" id=\"93b68bb6-2322-4b42-9bba-5d91ed2aeac7\" type=\"checkbox\" ><label class=\"sk-toggleable__label\" for=\"93b68bb6-2322-4b42-9bba-5d91ed2aeac7\">Empty</label><div class=\"sk-toggleable__content\"><pre>Empty()</pre></div></div></div><div class=\"sk-item\"><div class=\"sk-estimator sk-toggleable\"><input class=\"sk-toggleable__control sk-hidden--visually\" id=\"b0979e18-1315-4709-9ae9-bdd3e49613a5\" type=\"checkbox\" ><label class=\"sk-toggleable__label\" for=\"b0979e18-1315-4709-9ae9-bdd3e49613a5\">Empty</label><div class=\"sk-toggleable__content\"><pre>Empty()</pre></div></div></div><div class=\"sk-item\"><div class=\"sk-estimator sk-toggleable\"><input class=\"sk-toggleable__control sk-hidden--visually\" id=\"e3794ee1-0698-4e25-a211-7faeded9c30e\" type=\"checkbox\" ><label class=\"sk-toggleable__label\" for=\"e3794ee1-0698-4e25-a211-7faeded9c30e\">Empty</label><div class=\"sk-toggleable__content\"><pre>Empty()</pre></div></div></div><div class=\"sk-item\"><div class=\"sk-estimator sk-toggleable\"><input class=\"sk-toggleable__control sk-hidden--visually\" id=\"92deacf1-2fac-46ca-be62-7aa291acc74e\" type=\"checkbox\" ><label class=\"sk-toggleable__label\" for=\"92deacf1-2fac-46ca-be62-7aa291acc74e\">Empty</label><div class=\"sk-toggleable__content\"><pre>Empty()</pre></div></div></div><div class=\"sk-item\"><div class=\"sk-estimator sk-toggleable\"><input class=\"sk-toggleable__control sk-hidden--visually\" id=\"5f6385bb-537f-4bbf-aa9b-429e3796fbbd\" type=\"checkbox\" ><label class=\"sk-toggleable__label\" for=\"5f6385bb-537f-4bbf-aa9b-429e3796fbbd\">Empty</label><div class=\"sk-toggleable__content\"><pre>Empty()</pre></div></div></div><div class=\"sk-item\"><div class=\"sk-estimator sk-toggleable\"><input class=\"sk-toggleable__control sk-hidden--visually\" id=\"06579249-8b38-4e36-aae9-9b42ef1e437a\" type=\"checkbox\" ><label class=\"sk-toggleable__label\" for=\"06579249-8b38-4e36-aae9-9b42ef1e437a\">Dummify</label><div class=\"sk-toggleable__content\"><pre>Dummify(target='dummy_target')</pre></div></div></div><div class=\"sk-item\"><div class=\"sk-estimator sk-toggleable\"><input class=\"sk-toggleable__control sk-hidden--visually\" id=\"c277bb0a-7349-402c-bbd3-c7ed9e5b054b\" type=\"checkbox\" ><label class=\"sk-toggleable__label\" for=\"c277bb0a-7349-402c-bbd3-c7ed9e5b054b\">Clean_Colum_Names</label><div class=\"sk-toggleable__content\"><pre>Clean_Colum_Names()</pre></div></div></div><div class=\"sk-item\"><div class=\"sk-estimator sk-toggleable\"><input class=\"sk-toggleable__control sk-hidden--visually\" id=\"084f3f5c-e282-4f32-b2a4-687d2e3ff357\" type=\"checkbox\" ><label class=\"sk-toggleable__label\" for=\"084f3f5c-e282-4f32-b2a4-687d2e3ff357\">Empty</label><div class=\"sk-toggleable__content\"><pre>Empty()</pre></div></div></div><div class=\"sk-item\"><div class=\"sk-estimator sk-toggleable\"><input class=\"sk-toggleable__control sk-hidden--visually\" id=\"d7116d59-ac58-4d24-b4cc-703ccb556607\" type=\"checkbox\" ><label class=\"sk-toggleable__label\" for=\"d7116d59-ac58-4d24-b4cc-703ccb556607\">Empty</label><div class=\"sk-toggleable__content\"><pre>Empty()</pre></div></div></div></div></div></div></div>"
      ],
      "text/plain": [
       "Pipeline(memory=None,\n",
       "         steps=[('dtypes',\n",
       "                 DataTypes_Auto_infer(categorical_features=[],\n",
       "                                      display_types=True, features_todrop=[],\n",
       "                                      ml_usecase='regression',\n",
       "                                      numerical_features=[],\n",
       "                                      target='dummy_target',\n",
       "                                      time_features=[])),\n",
       "                ('imputer',\n",
       "                 Simple_Imputer(categorical_strategy='not_available',\n",
       "                                numeric_strategy='mean',\n",
       "                                target_variable=None)),\n",
       "                ('new_levels1',\n",
       "                 New_Catagorical_L...\n",
       "                                                    target='dummy_target')),\n",
       "                ('feature_time',\n",
       "                 Make_Time_Features(list_of_features=None, time_feature=[])),\n",
       "                ('group', Empty()), ('scaling', Empty()),\n",
       "                ('P_transform', Empty()), ('binn', Empty()),\n",
       "                ('fix_perfect', Empty()), ('rem_outliers', Empty()),\n",
       "                ('dummy', Dummify(target='dummy_target')),\n",
       "                ('clean_names', Clean_Colum_Names()), ('fix_multi', Empty()),\n",
       "                ('pca', Empty())],\n",
       "         verbose=False)"
      ]
     },
     "execution_count": 13,
     "metadata": {},
     "output_type": "execute_result"
    }
   ],
   "source": [
    "from sklearn import set_config\n",
    "set_config(display='diagram')\n",
    "loaded_iforest[0]"
   ]
  },
  {
   "cell_type": "code",
   "execution_count": 14,
   "metadata": {},
   "outputs": [],
   "source": [
    "from sklearn import set_config\n",
    "set_config(display='text')"
   ]
  },
  {
   "cell_type": "markdown",
   "metadata": {},
   "source": [
    "# 8. Deploy Model"
   ]
  },
  {
   "cell_type": "code",
   "execution_count": 15,
   "metadata": {},
   "outputs": [
    {
     "name": "stdout",
     "output_type": "stream",
     "text": [
      "Model Succesfully Deployed on AWS S3\n"
     ]
    }
   ],
   "source": [
    "deploy_model(iforest, model_name = 'iforest-aws', authentication = {'bucket' : 'pycaret-test'})"
   ]
  },
  {
   "cell_type": "markdown",
   "metadata": {},
   "source": [
    "# 9. Get Config / Set Config"
   ]
  },
  {
   "cell_type": "code",
   "execution_count": 16,
   "metadata": {},
   "outputs": [
    {
     "data": {
      "text/html": [
       "<div>\n",
       "<style scoped>\n",
       "    .dataframe tbody tr th:only-of-type {\n",
       "        vertical-align: middle;\n",
       "    }\n",
       "\n",
       "    .dataframe tbody tr th {\n",
       "        vertical-align: top;\n",
       "    }\n",
       "\n",
       "    .dataframe thead th {\n",
       "        text-align: right;\n",
       "    }\n",
       "</style>\n",
       "<table border=\"1\" class=\"dataframe\">\n",
       "  <thead>\n",
       "    <tr style=\"text-align: right;\">\n",
       "      <th></th>\n",
       "      <th>Col1</th>\n",
       "      <th>Col2</th>\n",
       "      <th>Col3</th>\n",
       "      <th>Col4</th>\n",
       "      <th>Col5</th>\n",
       "      <th>Col6</th>\n",
       "      <th>Col7</th>\n",
       "      <th>Col8</th>\n",
       "      <th>Col9</th>\n",
       "      <th>Col10</th>\n",
       "    </tr>\n",
       "  </thead>\n",
       "  <tbody>\n",
       "    <tr>\n",
       "      <th>0</th>\n",
       "      <td>0.263995</td>\n",
       "      <td>0.764929</td>\n",
       "      <td>0.138424</td>\n",
       "      <td>0.935242</td>\n",
       "      <td>0.605867</td>\n",
       "      <td>0.518790</td>\n",
       "      <td>0.912225</td>\n",
       "      <td>0.608234</td>\n",
       "      <td>0.723782</td>\n",
       "      <td>0.733591</td>\n",
       "    </tr>\n",
       "    <tr>\n",
       "      <th>1</th>\n",
       "      <td>0.546092</td>\n",
       "      <td>0.653975</td>\n",
       "      <td>0.065575</td>\n",
       "      <td>0.227772</td>\n",
       "      <td>0.845269</td>\n",
       "      <td>0.837066</td>\n",
       "      <td>0.272379</td>\n",
       "      <td>0.331679</td>\n",
       "      <td>0.429297</td>\n",
       "      <td>0.367422</td>\n",
       "    </tr>\n",
       "    <tr>\n",
       "      <th>2</th>\n",
       "      <td>0.336714</td>\n",
       "      <td>0.538842</td>\n",
       "      <td>0.192801</td>\n",
       "      <td>0.553563</td>\n",
       "      <td>0.074515</td>\n",
       "      <td>0.332993</td>\n",
       "      <td>0.365792</td>\n",
       "      <td>0.861309</td>\n",
       "      <td>0.899017</td>\n",
       "      <td>0.088600</td>\n",
       "    </tr>\n",
       "    <tr>\n",
       "      <th>3</th>\n",
       "      <td>0.092108</td>\n",
       "      <td>0.995017</td>\n",
       "      <td>0.014465</td>\n",
       "      <td>0.176371</td>\n",
       "      <td>0.241530</td>\n",
       "      <td>0.514724</td>\n",
       "      <td>0.562208</td>\n",
       "      <td>0.158963</td>\n",
       "      <td>0.073715</td>\n",
       "      <td>0.208463</td>\n",
       "    </tr>\n",
       "    <tr>\n",
       "      <th>4</th>\n",
       "      <td>0.325261</td>\n",
       "      <td>0.805968</td>\n",
       "      <td>0.957033</td>\n",
       "      <td>0.331665</td>\n",
       "      <td>0.307923</td>\n",
       "      <td>0.355315</td>\n",
       "      <td>0.501899</td>\n",
       "      <td>0.558449</td>\n",
       "      <td>0.885169</td>\n",
       "      <td>0.182754</td>\n",
       "    </tr>\n",
       "  </tbody>\n",
       "</table>\n",
       "</div>"
      ],
      "text/plain": [
       "       Col1      Col2      Col3      Col4      Col5      Col6      Col7  \\\n",
       "0  0.263995  0.764929  0.138424  0.935242  0.605867  0.518790  0.912225   \n",
       "1  0.546092  0.653975  0.065575  0.227772  0.845269  0.837066  0.272379   \n",
       "2  0.336714  0.538842  0.192801  0.553563  0.074515  0.332993  0.365792   \n",
       "3  0.092108  0.995017  0.014465  0.176371  0.241530  0.514724  0.562208   \n",
       "4  0.325261  0.805968  0.957033  0.331665  0.307923  0.355315  0.501899   \n",
       "\n",
       "       Col8      Col9     Col10  \n",
       "0  0.608234  0.723782  0.733591  \n",
       "1  0.331679  0.429297  0.367422  \n",
       "2  0.861309  0.899017  0.088600  \n",
       "3  0.158963  0.073715  0.208463  \n",
       "4  0.558449  0.885169  0.182754  "
      ]
     },
     "execution_count": 16,
     "metadata": {},
     "output_type": "execute_result"
    }
   ],
   "source": [
    "X = get_config('X')\n",
    "X.head()"
   ]
  },
  {
   "cell_type": "code",
   "execution_count": 17,
   "metadata": {},
   "outputs": [
    {
     "data": {
      "text/plain": [
       "123"
      ]
     },
     "execution_count": 17,
     "metadata": {},
     "output_type": "execute_result"
    }
   ],
   "source": [
    "get_config('seed')"
   ]
  },
  {
   "cell_type": "code",
   "execution_count": 18,
   "metadata": {},
   "outputs": [],
   "source": [
    "from pycaret.anomaly import set_config\n",
    "set_config('seed', 999)"
   ]
  },
  {
   "cell_type": "code",
   "execution_count": 19,
   "metadata": {},
   "outputs": [
    {
     "data": {
      "text/plain": [
       "999"
      ]
     },
     "execution_count": 19,
     "metadata": {},
     "output_type": "execute_result"
    }
   ],
   "source": [
    "get_config('seed')"
   ]
  },
  {
   "cell_type": "markdown",
   "metadata": {},
   "source": [
    "# 10. MLFlow UI"
   ]
  },
  {
   "cell_type": "code",
   "execution_count": null,
   "metadata": {},
   "outputs": [],
   "source": [
    "!mlflow ui"
   ]
  },
  {
   "cell_type": "markdown",
   "metadata": {},
   "source": [
    "# End\n",
    "Thank you. For more information / tutorials on PyCaret, please visit https://www.pycaret.org"
   ]
  }
 ],
 "metadata": {
  "kernelspec": {
   "display_name": "Python 3",
   "language": "python",
   "name": "python3"
  },
  "language_info": {
   "codemirror_mode": {
    "name": "ipython",
    "version": 3
   },
   "file_extension": ".py",
   "mimetype": "text/x-python",
   "name": "python",
   "nbconvert_exporter": "python",
   "pygments_lexer": "ipython3",
   "version": "3.7.4"
  }
 },
 "nbformat": 4,
 "nbformat_minor": 2
}
