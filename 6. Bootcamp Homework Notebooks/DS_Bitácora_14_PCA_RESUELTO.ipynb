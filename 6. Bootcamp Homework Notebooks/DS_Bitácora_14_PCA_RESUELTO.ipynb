{
 "cells": [
  {
   "cell_type": "markdown",
   "metadata": {
    "id": "MBXp0usMK8Xk"
   },
   "source": [
    "### Importar librerias "
   ]
  },
  {
   "cell_type": "code",
   "execution_count": null,
   "metadata": {
    "id": "hQmTNHCkIETW"
   },
   "outputs": [],
   "source": [
    "import seaborn as sns\n",
    "from sklearn.decomposition import PCA\n",
    "import numpy as np\n",
    "import pandas as pd\n",
    "import matplotlib.pyplot as plt\n",
    "sns.set_style(\"whitegrid\")"
   ]
  },
  {
   "cell_type": "markdown",
   "metadata": {
    "id": "v4cW66E6LEkZ"
   },
   "source": [
    "### Definimos unos vectores de prueba"
   ]
  },
  {
   "cell_type": "code",
   "execution_count": null,
   "metadata": {
    "colab": {
     "base_uri": "https://localhost:8080/",
     "height": 203
    },
    "id": "3IanN293RYBk",
    "outputId": "ba60f62c-de25-413c-e132-6e3885523e81"
   },
   "outputs": [
    {
     "data": {
      "text/html": [
       "<div>\n",
       "<style scoped>\n",
       "    .dataframe tbody tr th:only-of-type {\n",
       "        vertical-align: middle;\n",
       "    }\n",
       "\n",
       "    .dataframe tbody tr th {\n",
       "        vertical-align: top;\n",
       "    }\n",
       "\n",
       "    .dataframe thead th {\n",
       "        text-align: right;\n",
       "    }\n",
       "</style>\n",
       "<table border=\"1\" class=\"dataframe\">\n",
       "  <thead>\n",
       "    <tr style=\"text-align: right;\">\n",
       "      <th></th>\n",
       "      <th>0</th>\n",
       "      <th>1</th>\n",
       "    </tr>\n",
       "  </thead>\n",
       "  <tbody>\n",
       "    <tr>\n",
       "      <th>0</th>\n",
       "      <td>1.0</td>\n",
       "      <td>2.0</td>\n",
       "    </tr>\n",
       "    <tr>\n",
       "      <th>1</th>\n",
       "      <td>2.0</td>\n",
       "      <td>1.0</td>\n",
       "    </tr>\n",
       "    <tr>\n",
       "      <th>2</th>\n",
       "      <td>3.0</td>\n",
       "      <td>1.0</td>\n",
       "    </tr>\n",
       "    <tr>\n",
       "      <th>3</th>\n",
       "      <td>1.3</td>\n",
       "      <td>-1.0</td>\n",
       "    </tr>\n",
       "    <tr>\n",
       "      <th>4</th>\n",
       "      <td>3.2</td>\n",
       "      <td>4.5</td>\n",
       "    </tr>\n",
       "  </tbody>\n",
       "</table>\n",
       "</div>"
      ],
      "text/plain": [
       "     0    1\n",
       "0  1.0  2.0\n",
       "1  2.0  1.0\n",
       "2  3.0  1.0\n",
       "3  1.3 -1.0\n",
       "4  3.2  4.5"
      ]
     },
     "execution_count": 101,
     "metadata": {
      "tags": []
     },
     "output_type": "execute_result"
    }
   ],
   "source": [
    "vectores = np.array([[1,2],\n",
    "                     [2,1],\n",
    "                     [3,1],\n",
    "                     [1.3,-1],\n",
    "                     [3.2,4.5]\n",
    "                     ])\n",
    "\n",
    "vectores2 = np.array([[2,2],\n",
    "                     [3,1.5],\n",
    "                     [3,1.2],\n",
    "                     [1.3,-1.1],\n",
    "                     [3.6,4]\n",
    "                     ])\n",
    "\n",
    "vectores_unitarios = np.array([\n",
    "                               [1,0],\n",
    "                               [0,1]\n",
    "])\n",
    "\n",
    "df = pd.DataFrame(vectores)\n",
    "df"
   ]
  },
  {
   "cell_type": "markdown",
   "metadata": {
    "id": "Ad7uBQcmLelO"
   },
   "source": [
    "### Graficamos los vectores"
   ]
  },
  {
   "cell_type": "code",
   "execution_count": null,
   "metadata": {
    "colab": {
     "base_uri": "https://localhost:8080/",
     "height": 694
    },
    "id": "DZQOjdc5IWko",
    "outputId": "9bbab900-e894-4b21-9924-ed84610682a8"
   },
   "outputs": [
    {
     "name": "stderr",
     "output_type": "stream",
     "text": [
      "/usr/local/lib/python3.7/dist-packages/seaborn/_decorators.py:43: FutureWarning: Pass the following variables as keyword args: x, y. From version 0.12, the only valid positional argument will be `data`, and passing other arguments without an explicit keyword will result in an error or misinterpretation.\n",
      "  FutureWarning\n",
      "/usr/local/lib/python3.7/dist-packages/seaborn/_decorators.py:43: FutureWarning: Pass the following variables as keyword args: x, y. From version 0.12, the only valid positional argument will be `data`, and passing other arguments without an explicit keyword will result in an error or misinterpretation.\n",
      "  FutureWarning\n"
     ]
    },
    {
     "data": {
      "image/png": "[encoded data removed]",
      "text/plain": [
       "<Figure size 720x720 with 1 Axes>"
      ]
     },
     "metadata": {
      "needs_background": "light",
      "tags": []
     },
     "output_type": "display_data"
    }
   ],
   "source": [
    "plt.figure(figsize=(10,10))\n",
    "sns.scatterplot([-10,10],[-10,10])\n",
    "###---------------------------------\n",
    "\n",
    "sns.scatterplot(df[0],df[1])\n",
    "\n",
    "for x,y in vectores_unitarios:\n",
    "  plt.arrow(0,0,x,y, head_width=0.2, width=0.1, fc=\"b\")\n"
   ]
  },
  {
   "cell_type": "markdown",
   "metadata": {
    "id": "bFNwZiTIMFMP"
   },
   "source": [
    "### Centrar los datos"
   ]
  },
  {
   "cell_type": "code",
   "execution_count": null,
   "metadata": {
    "id": "vPIfXWohHGHv"
   },
   "outputs": [],
   "source": [
    "df[0] = df[0] - df[0].mean()\n",
    "df[1] = df[1] - df[1].mean()"
   ]
  },
  {
   "cell_type": "markdown",
   "metadata": {
    "id": "Z57Y3Y8GMH1-"
   },
   "source": [
    "### Calcular covarianza"
   ]
  },
  {
   "cell_type": "code",
   "execution_count": null,
   "metadata": {
    "colab": {
     "base_uri": "https://localhost:8080/"
    },
    "id": "puyqzIiuD_02",
    "outputId": "89c993fa-8b1a-42ef-e87a-3621e4d14819"
   },
   "outputs": [
    {
     "data": {
      "text/plain": [
       "array([[0.97  , 1.0875],\n",
       "       [1.0875, 4.    ]])"
      ]
     },
     "execution_count": 86,
     "metadata": {
      "tags": []
     },
     "output_type": "execute_result"
    }
   ],
   "source": [
    "cov = np.cov(df.values.T)\n",
    "cov"
   ]
  },
  {
   "cell_type": "code",
   "execution_count": null,
   "metadata": {
    "colab": {
     "base_uri": "https://localhost:8080/",
     "height": 694
    },
    "id": "L-JQlSDF8_bL",
    "outputId": "3f30504c-c5a0-44df-f9ae-84824b23733f"
   },
   "outputs": [
    {
     "name": "stderr",
     "output_type": "stream",
     "text": [
      "/usr/local/lib/python3.7/dist-packages/seaborn/_decorators.py:43: FutureWarning: Pass the following variables as keyword args: x, y. From version 0.12, the only valid positional argument will be `data`, and passing other arguments without an explicit keyword will result in an error or misinterpretation.\n",
      "  FutureWarning\n",
      "/usr/local/lib/python3.7/dist-packages/seaborn/_decorators.py:43: FutureWarning: Pass the following variables as keyword args: x, y. From version 0.12, the only valid positional argument will be `data`, and passing other arguments without an explicit keyword will result in an error or misinterpretation.\n",
      "  FutureWarning\n"
     ]
    },
    {
     "data": {
      "image/png": "[encoded data removed]",
      "text/plain": [
       "<Figure size 720x720 with 1 Axes>"
      ]
     },
     "metadata": {
      "needs_background": "light",
      "tags": []
     },
     "output_type": "display_data"
    }
   ],
   "source": [
    "plt.figure(figsize=(10,10))\n",
    "sns.scatterplot([-10,10],[-10,10])\n",
    "###---------------------------------\n",
    "\n",
    "sns.scatterplot(df[0],df[1])\n",
    "\n",
    "for x,y in cov:\n",
    "  plt.arrow(0,0,x,y, head_width=0.2, width=0.1, fc=\"b\")\n",
    "\n",
    "# for x,y in df.values.dot(cov):\n",
    "#   plt.arrow(0,0,x,y, head_width=0.2, width=0.1, fc=\"r\")\n"
   ]
  },
  {
   "cell_type": "markdown",
   "metadata": {
    "id": "P5moNqUKMmVX"
   },
   "source": [
    "### Multiplicamos vectores por la matrix de covarianza, vemos que pasa"
   ]
  },
  {
   "cell_type": "code",
   "execution_count": null,
   "metadata": {
    "colab": {
     "base_uri": "https://localhost:8080/",
     "height": 646
    },
    "id": "Vp4UHHDMMtwp",
    "outputId": "f917c887-d38e-4129-eae4-17fe8d369474"
   },
   "outputs": [
    {
     "name": "stderr",
     "output_type": "stream",
     "text": [
      "/usr/local/lib/python3.7/dist-packages/seaborn/_decorators.py:43: FutureWarning: Pass the following variables as keyword args: x, y. From version 0.12, the only valid positional argument will be `data`, and passing other arguments without an explicit keyword will result in an error or misinterpretation.\n",
      "  FutureWarning\n"
     ]
    },
    {
     "data": {
      "image/png": "[encoded data removed]",
      "text/plain": [
       "<Figure size 720x720 with 1 Axes>"
      ]
     },
     "metadata": {
      "needs_background": "light",
      "tags": []
     },
     "output_type": "display_data"
    }
   ],
   "source": [
    "plt.figure(figsize=(10,10))\n",
    "sns.scatterplot([-10,10],[-10,10])\n",
    "###---------------------------------\n",
    "\n",
    "for x,y in vectores2.dot(cov):\n",
    "  plt.arrow(0,0,x,y, head_width=0.2, width=0.1, fc=\"b\")"
   ]
  },
  {
   "cell_type": "markdown",
   "metadata": {
    "id": "KyKZhxe0Nyfy"
   },
   "source": [
    "### Calcular eigenvectors"
   ]
  },
  {
   "cell_type": "code",
   "execution_count": null,
   "metadata": {
    "id": "jv3zF_7nF4hh"
   },
   "outputs": [],
   "source": [
    "eigenvals, eigenvec = np.linalg.eigh(cov)"
   ]
  },
  {
   "cell_type": "code",
   "execution_count": null,
   "metadata": {
    "colab": {
     "base_uri": "https://localhost:8080/",
     "height": 646
    },
    "id": "vkSkbW9SNKzO",
    "outputId": "09392585-8e95-4ddb-edc8-7e03ed382034"
   },
   "outputs": [
    {
     "name": "stderr",
     "output_type": "stream",
     "text": [
      "/usr/local/lib/python3.7/dist-packages/seaborn/_decorators.py:43: FutureWarning: Pass the following variables as keyword args: x, y. From version 0.12, the only valid positional argument will be `data`, and passing other arguments without an explicit keyword will result in an error or misinterpretation.\n",
      "  FutureWarning\n"
     ]
    },
    {
     "data": {
      "image/png": "[encoded data removed]",
      "text/plain": [
       "<Figure size 720x720 with 1 Axes>"
      ]
     },
     "metadata": {
      "needs_background": "light",
      "tags": []
     },
     "output_type": "display_data"
    }
   ],
   "source": [
    "plt.figure(figsize=(10,10))\n",
    "sns.scatterplot([-10,10],[-10,10])\n",
    "###---------------------------------\n",
    "for x,y in eigenvec:\n",
    "  plt.arrow(0,0,x,y, head_width=0.2, width=0.1, fc=\"r\")\n",
    "\n",
    "for x,y in eigenvec.dot(cov):\n",
    "  plt.arrow(0,0,x,y, head_width=0.2, width=0.1, fc=\"b\")"
   ]
  },
  {
   "cell_type": "markdown",
   "metadata": {
    "id": "U7J6HTw3OgD1"
   },
   "source": [
    "### PCA con sklearn"
   ]
  },
  {
   "cell_type": "code",
   "execution_count": null,
   "metadata": {
    "id": "g32xFrrn9RUa"
   },
   "outputs": [],
   "source": [
    "pca = PCA(n_components=2)"
   ]
  },
  {
   "cell_type": "code",
   "execution_count": null,
   "metadata": {
    "id": "dePI6rsgErh0"
   },
   "outputs": [],
   "source": [
    "pca.fit(df)\n",
    "nuevos = pca.transform(df)"
   ]
  },
  {
   "cell_type": "code",
   "execution_count": null,
   "metadata": {
    "id": "zwl2p0nLQJIW"
   },
   "outputs": [],
   "source": []
  },
  {
   "cell_type": "code",
   "execution_count": null,
   "metadata": {
    "id": "Ehfc0-4mDoe4"
   },
   "outputs": [],
   "source": [
    "nuevos = df.values"
   ]
  },
  {
   "cell_type": "code",
   "execution_count": null,
   "metadata": {
    "colab": {
     "base_uri": "https://localhost:8080/",
     "height": 679
    },
    "id": "WqC1t_PhBzYG",
    "outputId": "22def96d-3827-4606-c5da-c75643ab7e28"
   },
   "outputs": [
    {
     "name": "stderr",
     "output_type": "stream",
     "text": [
      "/usr/local/lib/python3.7/dist-packages/seaborn/_decorators.py:43: FutureWarning: Pass the following variables as keyword args: x, y. From version 0.12, the only valid positional argument will be `data`, and passing other arguments without an explicit keyword will result in an error or misinterpretation.\n",
      "  FutureWarning\n",
      "/usr/local/lib/python3.7/dist-packages/seaborn/_decorators.py:43: FutureWarning: Pass the following variables as keyword args: x, y. From version 0.12, the only valid positional argument will be `data`, and passing other arguments without an explicit keyword will result in an error or misinterpretation.\n",
      "  FutureWarning\n"
     ]
    },
    {
     "data": {
      "image/png": "[encoded data removed]",
      "text/plain": [
       "<Figure size 720x720 with 1 Axes>"
      ]
     },
     "metadata": {
      "needs_background": "light",
      "tags": []
     },
     "output_type": "display_data"
    }
   ],
   "source": [
    "plt.figure(figsize=(10,10))\n",
    "sns.scatterplot([-10,10],[-10,10])\n",
    "###---------------------------------\n",
    "sns.scatterplot(nuevos[:,0],nuevos[:,1])\n",
    "\n",
    "for x,y in pca.components_:\n",
    "  plt.arrow(0,0,x,y, head_width=0.2, width=0.1, fc=\"b\")"
   ]
  },
  {
   "cell_type": "code",
   "execution_count": null,
   "metadata": {
    "colab": {
     "base_uri": "https://localhost:8080/"
    },
    "id": "7YrE4ZIiF9Qt",
    "outputId": "7a996258-1a76-41bf-c1dd-7438eb57ce96"
   },
   "outputs": [
    {
     "data": {
      "text/plain": [
       "array([[-1.1,  0.5],\n",
       "       [-0.1, -0.5],\n",
       "       [ 0.9, -0.5],\n",
       "       [-0.8, -2.5],\n",
       "       [ 1.1,  3. ]])"
      ]
     },
     "execution_count": 34,
     "metadata": {
      "tags": []
     },
     "output_type": "execute_result"
    }
   ],
   "source": [
    "df.values"
   ]
  },
  {
   "cell_type": "code",
   "execution_count": null,
   "metadata": {
    "id": "JZYVJ7IC5Cwt"
   },
   "outputs": [],
   "source": [
    "nuevos = pca.inverse_transform(nuevas_proyecciones)"
   ]
  },
  {
   "cell_type": "code",
   "execution_count": null,
   "metadata": {
    "colab": {
     "base_uri": "https://localhost:8080/"
    },
    "id": "hl5jY7YeGNYQ",
    "outputId": "b01339bc-c1f1-4c1b-dd1c-6c8c2129d5cd"
   },
   "outputs": [
    {
     "data": {
      "text/plain": [
       "array([0.87523297, 0.12476703])"
      ]
     },
     "execution_count": 35,
     "metadata": {
      "tags": []
     },
     "output_type": "execute_result"
    }
   ],
   "source": [
    "pca.explained_variance_ratio_"
   ]
  }
 ],
 "metadata": {
  "colab": {
   "collapsed_sections": [],
   "name": "PCA.ipynb",
   "provenance": []
  },
  "kernelspec": {
   "display_name": "Python 3",
   "language": "python",
   "name": "python3"
  },
  "language_info": {
   "codemirror_mode": {
    "name": "ipython",
    "version": 3
   },
   "file_extension": ".py",
   "mimetype": "text/x-python",
   "name": "python",
   "nbconvert_exporter": "python",
   "pygments_lexer": "ipython3",
   "version": "3.8.5"
  }
 },
 "nbformat": 4,
 "nbformat_minor": 1
}
