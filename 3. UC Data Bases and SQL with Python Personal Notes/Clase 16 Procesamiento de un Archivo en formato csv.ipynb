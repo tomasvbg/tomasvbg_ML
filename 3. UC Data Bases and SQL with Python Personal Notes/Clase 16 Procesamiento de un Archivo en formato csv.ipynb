{
 "cells": [
  {
   "cell_type": "markdown",
   "metadata": {},
   "source": [
    "### Procesamiento de un Archivo en formato csv"
   ]
  },
  {
   "cell_type": "markdown",
   "metadata": {},
   "source": [
    "### Leer un archivo de texto y tranformarlo en csv, para luego insertarlo en la BDD."
   ]
  },
  {
   "cell_type": "markdown",
   "metadata": {},
   "source": [
    "**1. Importamos los módulos necesarios**\n",
    "\n",
    "import csv \n",
    "\n",
    "import mysql.connector as db\n",
    "\n",
    "***\n",
    "\n",
    "**2. Creamos la conexión**\n",
    "\n",
    "import  connector as db\n",
    "\n",
    "mydb = db.connect(\n",
    " \n",
    "    host ) \"localhost\",\n",
    "    \n",
    "    user = \"root\",\n",
    "    \n",
    "    passwd = \"DCConline2019\",\n",
    "    \n",
    "    database = \"PersonasComunas\"\n",
    ")\n",
    "\n",
    "***\n",
    "\n",
    "**3. Leemos el archivo  CSV**\n",
    "\n",
    "with open(\"data/comunas2.csv\") as csvfile: #with open nos facilita mucho el trabajo si es que no resulta..as crea un alias\n",
    "    readCSV = csv.reader(csvfile, delimiter=\";\")\n",
    "    \n",
    "    \n",
    "    filas = []\n",
    "   \n",
    "    first = next(readCSV) #cada vez qu ehacemos un next, se lee la primera fila y se avanza a la siguiente (acá lo hacemos para que no considere los encabezados)\n",
    "   \n",
    "    for row in readCSV: #para cada fila:\n",
    "   \n",
    "        print(\"Fila a agregar\")\n",
    "        \n",
    "        print(row)\n",
    "        \n",
    "        filas.append(tuple([int(row[0]), row[1], row[2])) #convertimos una lista de columnas es una tupla, para poder insertar las filas en la bdd (acepta tuplas no filas)\n",
    "\n",
    "***\n",
    "                            \n",
    "**4. Creo el cursor**\n",
    "                            \n",
    "miCursor = mydb.cursor()\n",
    "                            \n",
    "***\n",
    "                            \n",
    "**5. Creo la sentencia SQL**\n",
    "                            \n",
    "sqlSentence = \"INSERT INTO table(at1,at2,at3) VALUES (%s,%s,%s,)\"\n",
    "        "
   ]
  },
  {
   "cell_type": "markdown",
   "metadata": {},
   "source": [
    "### 6. Ejecuto la sentencia SQL \n",
    "\n",
    "mydb.executemany(sqlSentence, filas)\n",
    "\n",
    "mydb.commit()"
   ]
  },
  {
   "cell_type": "code",
   "execution_count": 6,
   "metadata": {},
   "outputs": [
    {
     "data": {
      "text/html": [
       "<div>\n",
       "<style scoped>\n",
       "    .dataframe tbody tr th:only-of-type {\n",
       "        vertical-align: middle;\n",
       "    }\n",
       "\n",
       "    .dataframe tbody tr th {\n",
       "        vertical-align: top;\n",
       "    }\n",
       "\n",
       "    .dataframe thead th {\n",
       "        text-align: right;\n",
       "    }\n",
       "</style>\n",
       "<table border=\"1\" class=\"dataframe\">\n",
       "  <thead>\n",
       "    <tr style=\"text-align: right;\">\n",
       "      <th></th>\n",
       "      <th>Pasos</th>\n",
       "    </tr>\n",
       "  </thead>\n",
       "  <tbody>\n",
       "    <tr>\n",
       "      <th>1ro</th>\n",
       "      <td>Importar módulos csv</td>\n",
       "    </tr>\n",
       "    <tr>\n",
       "      <th>2do</th>\n",
       "      <td>Usar un open dentro de un with para abrir el a...</td>\n",
       "    </tr>\n",
       "    <tr>\n",
       "      <th>3ro</th>\n",
       "      <td>Usar un csv.reader para leer las líneas</td>\n",
       "    </tr>\n",
       "    <tr>\n",
       "      <th>4to</th>\n",
       "      <td>Preparar una lista vacía</td>\n",
       "    </tr>\n",
       "    <tr>\n",
       "      <th>5to</th>\n",
       "      <td>Desechar la primera línea con next</td>\n",
       "    </tr>\n",
       "    <tr>\n",
       "      <th>6to</th>\n",
       "      <td>Extraer las componentes de cada línea restante</td>\n",
       "    </tr>\n",
       "    <tr>\n",
       "      <th>7mo</th>\n",
       "      <td>Convertir la línea en una tupla y agregarlo a ...</td>\n",
       "    </tr>\n",
       "    <tr>\n",
       "      <th>8vo</th>\n",
       "      <td>Usar una instrucción SQL INSERT para insertar ...</td>\n",
       "    </tr>\n",
       "  </tbody>\n",
       "</table>\n",
       "</div>"
      ],
      "text/plain": [
       "                                                 Pasos\n",
       "1ro                               Importar módulos csv\n",
       "2do  Usar un open dentro de un with para abrir el a...\n",
       "3ro            Usar un csv.reader para leer las líneas\n",
       "4to                           Preparar una lista vacía\n",
       "5to                 Desechar la primera línea con next\n",
       "6to     Extraer las componentes de cada línea restante\n",
       "7mo  Convertir la línea en una tupla y agregarlo a ...\n",
       "8vo  Usar una instrucción SQL INSERT para insertar ..."
      ]
     },
     "execution_count": 6,
     "metadata": {},
     "output_type": "execute_result"
    }
   ],
   "source": [
    "import pandas as pd\n",
    "pasos = [\"Importar módulos csv\",\"Usar un open dentro de un with para abrir el archivo deseado\", \"Usar un csv.reader para leer las líneas\", \"Preparar una lista vacía\", \"Desechar la primera línea con next\", \"Extraer las componentes de cada línea restante\", \"Convertir la línea en una tupla y agregarlo a una lista de tuplas\", \"Usar una instrucción SQL INSERT para insertar una lista de tuplas\"]\n",
    "indice2 = [\"1ro\",\"2do\",\"3ro\",\"4to\",\"5to\",\"6to\",\"7mo\",\"8vo\"]\n",
    "pd.DataFrame(pasos, columns=[\"Pasos\"], index=indice2)"
   ]
  }
 ],
 "metadata": {
  "kernelspec": {
   "display_name": "Python 3",
   "language": "python",
   "name": "python3"
  },
  "language_info": {
   "codemirror_mode": {
    "name": "ipython",
    "version": 3
   },
   "file_extension": ".py",
   "mimetype": "text/x-python",
   "name": "python",
   "nbconvert_exporter": "python",
   "pygments_lexer": "ipython3",
   "version": "3.8.3"
  }
 },
 "nbformat": 4,
 "nbformat_minor": 4
}
