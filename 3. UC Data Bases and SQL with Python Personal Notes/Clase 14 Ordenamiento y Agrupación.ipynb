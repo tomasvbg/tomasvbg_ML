{
 "cells": [
  {
   "cell_type": "markdown",
   "metadata": {},
   "source": [
    "# Ordenamiento y Agrupación"
   ]
  },
  {
   "cell_type": "markdown",
   "metadata": {},
   "source": [
    "### Índice"
   ]
  },
  {
   "cell_type": "markdown",
   "metadata": {},
   "source": [
    "- Agrupación de filas de una tabla con GROUP BY\n",
    "\n",
    "- Ordenamiento del resultado con ORDER BY\n",
    "\n",
    "***"
   ]
  },
  {
   "cell_type": "markdown",
   "metadata": {},
   "source": [
    "#### 1. ORDER BY and GROUP BY"
   ]
  },
  {
   "cell_type": "markdown",
   "metadata": {},
   "source": [
    "##### 1.1 GROUP BY\n",
    "\n",
    "**Esta clausula resume combinaciones únicas de valores dentro de las columnas.**\n",
    "\n",
    "-Devuelve los valores únicos dentro de la columna (agrupa).\n",
    "\n",
    "- Resulta útil para posteriormente aplicar operaciones como suma o promedios de valores sobre esos valores.\n",
    "\n",
    "**Ejemplo:**\n",
    "\n",
    "SELECT   SalesOrderID,\n",
    "\n",
    "         SUM(OrderQty* UnitPrice) As TotalPrice\n",
    "\n",
    "FROM     Sales.SalesOrderDetail\n",
    "\n",
    "**GROUP BY SalesOrderID**\n",
    "\n",
    "***"
   ]
  },
  {
   "cell_type": "markdown",
   "metadata": {},
   "source": [
    "##### 1.2 ORDER BY\n",
    "\n",
    "**Esta clausula ordena de menor a mayor, en base a una columna, el resultado de una query.**\n",
    "\n",
    "**Ejemplo:**\n",
    "\n",
    "SELECT   SalesOrderID,\n",
    "         ProductID,\n",
    "         OrderQty* UnitPrice As ExtendedPrice\n",
    "\n",
    "FROM     Sales.SalesOrderDetail\n",
    "\n",
    "**ORDER BY SalesOrderID will sort the value, according to SalesOrderID.**\n",
    "\n",
    "- Every row in the table is included in the result.  \n",
    "\n",
    "- The values are sorted in ascending order according to the SalesOrderID\n",
    "\n",
    "***"
   ]
  },
  {
   "cell_type": "markdown",
   "metadata": {},
   "source": [
    "### 1.3 Ejemplo aplicado:"
   ]
  },
  {
   "cell_type": "markdown",
   "metadata": {},
   "source": [
    "##### - 1.3.1 Importamos el conector, y creamos el cursor."
   ]
  },
  {
   "cell_type": "markdown",
   "metadata": {},
   "source": [
    "import mysql.connector as db\n",
    "\n",
    "mydb = db.connect(\n",
    "    host = \"localhost\"\n",
    "    user = \"root\"\n",
    "    passwd = \"\"\n",
    "    database = \"Energía\"\n",
    ")\n",
    "\n",
    "***\n",
    "\n",
    "miCursor = mydb.cursor()\n",
    "\n",
    "***"
   ]
  },
  {
   "cell_type": "markdown",
   "metadata": {},
   "source": [
    "##### - 1.3.2 Creamos las sentencias de ordenamiento y Agrupación."
   ]
  },
  {
   "cell_type": "markdown",
   "metadata": {},
   "source": [
    "**Selecciona todas las filas desde table1**\n",
    "\n",
    "#sqlSentece = \"SELECT * FROM table1\"\n",
    "\n",
    "***\n",
    "\n",
    "**Selecciona el atributo1 y la suma del atributo2, desde la tabla1, agrupados por el atributo1**\n",
    "\n",
    "#sqlSentence = \"SELECT atributo1,SUM(atributo2)\\ \n",
    "                \n",
    "                FROM table1\\ \n",
    "                \n",
    "                **GROUP BY atributo**1\"\n",
    "                \n",
    "***\n",
    "\n",
    "**Selecciona el atributo1 y la suma del atributo2, desde la tabla1, ordenados de manera ascendente por el atributo2**\n",
    "\n",
    "#sqlSentence = \"SELECT atributo1,SUM(atributo2)\\\n",
    "                \n",
    "                FROM table1\\ \n",
    "                \n",
    "                **GROUP BY atributo1**\\\n",
    "                \n",
    "                **ORDER BY atributo2**\"\n",
    "\n",
    "***\n"
   ]
  },
  {
   "cell_type": "markdown",
   "metadata": {},
   "source": [
    "##### - 1.3.3 Visualizamos los resultados"
   ]
  },
  {
   "cell_type": "markdown",
   "metadata": {},
   "source": [
    "***\n",
    "\n",
    "miCursor.execute(sqlSentence)\n",
    "\n",
    "***\n",
    "\n",
    "rows = miCursor.fetchall()\n",
    "for row in rows:\n",
    "    \n",
    "    print(row)\n"
   ]
  },
  {
   "cell_type": "markdown",
   "metadata": {},
   "source": [
    "### 2. WHERE and HAVING clauses"
   ]
  },
  {
   "cell_type": "markdown",
   "metadata": {},
   "source": [
    "**The main difference between WHERE and HAVING clause comes when used together with GROUP BY clause.**\n",
    "\n",
    "**2.1 WHERE** is used to filter rows before grouping.\n",
    "\n",
    "**2.2 HAVING** is used to exclude records after grouping. \n",
    "\n"
   ]
  },
  {
   "cell_type": "markdown",
   "metadata": {},
   "source": [
    "### 2.3 Ejemplo aplicado:"
   ]
  },
  {
   "cell_type": "markdown",
   "metadata": {},
   "source": [
    "##### - 2.3.1 Importamos el conector, y creamos el cursor."
   ]
  },
  {
   "cell_type": "markdown",
   "metadata": {},
   "source": [
    "import mysql.connector as db\n",
    "\n",
    "mydb = db.connect(\n",
    "    host = \"localhost\"\n",
    "    user = \"root\"\n",
    "    passwd = \"\"\n",
    "    database = \"Energía\"\n",
    ")\n",
    "\n",
    "***\n",
    "\n",
    "miCursor = mydb.cursor()\n",
    "\n",
    "***"
   ]
  },
  {
   "cell_type": "markdown",
   "metadata": {},
   "source": [
    "##### - 2.3.2 Creamos las sentencias de ordenamiento y agrupación con WHERE y HAVING"
   ]
  },
  {
   "cell_type": "markdown",
   "metadata": {},
   "source": [
    "**Selecciona el atributo1 y la suma del atributo2 como total, desde la tabla1, agrupándo  aquellos atributo1 en donde el total sea mayor a 3000; luego, ordénalos por la suma del atributo1 de manera ascendente**\n",
    "\n",
    "#sqlSentence = \"SELECT atributo1,SUM(atributo2) as a total\\ \n",
    "                \n",
    "                FROM table1\\\n",
    "\n",
    "                GROUP BY atributo1 **HAVING total > 3000**\\\n",
    "                \n",
    "                **ORDER BY SUM(atributo1) ASC**\" \n",
    "\n",
    "***\n",
    "\n",
    "**Selecciona el atributo1 y la suma del atributo2 como total, desde table1, en donde el atributo3 sea mayor a 2015, y agrupalos por los atributo1 que tengan un total mayor a 3000; finalmente ordenalos por la suma del atributo2, de manera ascendente.**\n",
    "\n",
    "#sqlSentence = \"SELECT atributo1, SUM(atributo2) as total\\ \n",
    "                \n",
    "                FROM table1\\\n",
    "                \n",
    "                **WHERE atributo3 > 2015**\\\n",
    "            \n",
    "                GROUP BY atributo1 **HAVING total > 3000**\\ \n",
    "                \n",
    "                ORDER BY SUM(atributo2) ASC\""
   ]
  },
  {
   "cell_type": "markdown",
   "metadata": {},
   "source": [
    "##### - 2.3.3 Visualizamos los resultados"
   ]
  },
  {
   "cell_type": "markdown",
   "metadata": {},
   "source": [
    "***\n",
    "\n",
    "miCursor.execute(sqlSentence)\n",
    "\n",
    "***\n",
    "\n",
    "rows = miCursor.fetchall()\n",
    "for row in rows:\n",
    "    \n",
    "    print(row)\n"
   ]
  }
 ],
 "metadata": {
  "kernelspec": {
   "display_name": "Python 3",
   "language": "python",
   "name": "python3"
  },
  "language_info": {
   "codemirror_mode": {
    "name": "ipython",
    "version": 3
   },
   "file_extension": ".py",
   "mimetype": "text/x-python",
   "name": "python",
   "nbconvert_exporter": "python",
   "pygments_lexer": "ipython3",
   "version": "3.8.3"
  }
 },
 "nbformat": 4,
 "nbformat_minor": 4
}
