{
 "cells": [
  {
   "cell_type": "markdown",
   "metadata": {},
   "source": [
    "# Carga de contenido csv desde una Api Web"
   ]
  },
  {
   "cell_type": "markdown",
   "metadata": {},
   "source": [
    "### Índice\n"
   ]
  },
  {
   "cell_type": "markdown",
   "metadata": {},
   "source": [
    "- Obtención del contenido desde la API\n",
    "\n",
    "- Procesamiento de la respuesta"
   ]
  },
  {
   "cell_type": "markdown",
   "metadata": {},
   "source": [
    "### Ejemplo"
   ]
  },
  {
   "cell_type": "markdown",
   "metadata": {},
   "source": [
    "**1. importamos los módulos correspondientes**\n",
    "\n",
    "import requests #librería básica que nos permite conectar mediante get con la web.\n",
    "\n",
    "import csv #nos permite procesar información en formato csv.\n",
    "\n",
    "***\n",
    "\n",
    "**2. Guardamos la url y le aplicamos el método get**\n",
    "\n",
    "url = \"https://datahub.io/core/population/r/population.csv\" #guaramos el endpoint de la API. la dirección donde está el archivo csv (texto plano)\n",
    "\n",
    "response = requests.get(url,headers = {\"User-Agent\": \"AppleWebKit/605-1-15\"}) aplicamos el método get sobre la librería request, y guardamos el resultado en la varible response.  #algunas APIs requerien que especifiquemos los headers.\n",
    "\n",
    "***\n",
    "\n",
    "**3. Vemos si el get fue exitoso**\n",
    "Será exitoso si se devuelve un código 200\n",
    "\n",
    "if response.status_code != 200:\n",
    "\n",
    "    print(\"Failed to get data: ''\", response.status_code)\n",
    "\n",
    "else: \n",
    "    wrapper = csv.reader(response.text.strip().split(\"\\n\")) #reader, procesa la lectura del archivo de texto. El response.text representa la respuesta de texto(que es lo que queremos), al cual le aplicamos strip(que elimina los blancos del comienzo y el final), y finalmente separa el texto línea a línea, separado por un newline \"\\n\".\n",
    "    \n",
    "    first = next(wrapper) #avanzamos al siguiente (para no conseguir los encabezados)\n",
    "    \n",
    "    for record in wrapper: #solo desde ahi hago un loop\n",
    "    \n",
    "        country = record[0] #primera columna\n",
    "    \n",
    "        year = int(record[2]) #tercera columna\n",
    "        \n",
    "        population = record[3] #cuarta columna\n",
    "        \n",
    "        print(year, country, population)\n",
    "        \n",
    "        #if (year > 2010 and country == 'Chile')\n",
    "            #print(country, year, population)"
   ]
  },
  {
   "cell_type": "markdown",
   "metadata": {},
   "source": [
    "### Estructura del código"
   ]
  },
  {
   "cell_type": "code",
   "execution_count": 6,
   "metadata": {},
   "outputs": [
    {
     "data": {
      "text/html": [
       "<div>\n",
       "<style scoped>\n",
       "    .dataframe tbody tr th:only-of-type {\n",
       "        vertical-align: middle;\n",
       "    }\n",
       "\n",
       "    .dataframe tbody tr th {\n",
       "        vertical-align: top;\n",
       "    }\n",
       "\n",
       "    .dataframe thead th {\n",
       "        text-align: right;\n",
       "    }\n",
       "</style>\n",
       "<table border=\"1\" class=\"dataframe\">\n",
       "  <thead>\n",
       "    <tr style=\"text-align: right;\">\n",
       "      <th></th>\n",
       "      <th>Pasos</th>\n",
       "    </tr>\n",
       "  </thead>\n",
       "  <tbody>\n",
       "    <tr>\n",
       "      <th>Primero</th>\n",
       "      <td>Importar módulo requests(Web) y módulo csv</td>\n",
       "    </tr>\n",
       "    <tr>\n",
       "      <th>Segundo</th>\n",
       "      <td>Invocar método get sobre requests pasando como...</td>\n",
       "    </tr>\n",
       "    <tr>\n",
       "      <th>Tercero</th>\n",
       "      <td>Separar la respuestas en líneas</td>\n",
       "    </tr>\n",
       "    <tr>\n",
       "      <th>Cuarto</th>\n",
       "      <td>Usar un reader sobre csv para leer las líneas</td>\n",
       "    </tr>\n",
       "    <tr>\n",
       "      <th>Quinto</th>\n",
       "      <td>Desechar la primera línea con next</td>\n",
       "    </tr>\n",
       "    <tr>\n",
       "      <th>Sexto</th>\n",
       "      <td>Extrater las componentes de cada línea restante</td>\n",
       "    </tr>\n",
       "  </tbody>\n",
       "</table>\n",
       "</div>"
      ],
      "text/plain": [
       "                                                     Pasos\n",
       "Primero         Importar módulo requests(Web) y módulo csv\n",
       "Segundo  Invocar método get sobre requests pasando como...\n",
       "Tercero                    Separar la respuestas en líneas\n",
       "Cuarto       Usar un reader sobre csv para leer las líneas\n",
       "Quinto                  Desechar la primera línea con next\n",
       "Sexto      Extrater las componentes de cada línea restante"
      ]
     },
     "execution_count": 6,
     "metadata": {},
     "output_type": "execute_result"
    }
   ],
   "source": [
    "import pandas as pd\n",
    "pasos = [\"Importar módulo requests(Web) y módulo csv\", \"Invocar método get sobre requests pasando como parámetro la url\", \"Separar la respuestas en líneas\", \"Usar un reader sobre csv para leer las líneas\", \"Desechar la primera línea con next\", \"Extrater las componentes de cada línea restante\"]\n",
    "indice1=[\"Primero\", \"Segundo\", \"Tercero\", \"Cuarto\", \"Quinto\", \"Sexto\"]\n",
    "pd.DataFrame(pasos,columns=[\"Pasos\"], index=indice1)"
   ]
  }
 ],
 "metadata": {
  "kernelspec": {
   "display_name": "Python 3",
   "language": "python",
   "name": "python3"
  },
  "language_info": {
   "codemirror_mode": {
    "name": "ipython",
    "version": 3
   },
   "file_extension": ".py",
   "mimetype": "text/x-python",
   "name": "python",
   "nbconvert_exporter": "python",
   "pygments_lexer": "ipython3",
   "version": "3.8.3"
  }
 },
 "nbformat": 4,
 "nbformat_minor": 4
}
