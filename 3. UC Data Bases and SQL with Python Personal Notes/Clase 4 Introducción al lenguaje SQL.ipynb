{
 "cells": [
  {
   "cell_type": "markdown",
   "metadata": {},
   "source": [
    "### Clase 4 Introducción al lenguaje SQL"
   ]
  },
  {
   "cell_type": "markdown",
   "metadata": {},
   "source": [
    "### 0. Índice\n",
    "\n",
    "- Características de lenguaje SQL\n",
    "\n",
    "- Creación de bases de datos y tablas\n",
    "\n",
    "- Agregando información a la base de datos\n",
    "\n",
    "- Consultando información de la base de datos\n"
   ]
  },
  {
   "cell_type": "markdown",
   "metadata": {},
   "source": [
    "### 1. Caracterísitcas del lenguaje SQL\n",
    "\n",
    "- No procedural: no requiere programación en la que explícitamente se representa el algoritmo para entender el resultado.\n",
    "\n",
    "- **Se escribe el objetivo, pero no lo necesario para lograrlo.**\n"
   ]
  },
  {
   "cell_type": "markdown",
   "metadata": {},
   "source": [
    "### 2. SQL como navaja suiza\n",
    "\n",
    "El mismo lenguaje para:\n",
    "    - Crear bdd\n",
    "    - Crear tablas\n",
    "    - Modificar tablas\n",
    "    - Agregar información\n",
    "    - Modificar información\n",
    "    - Eliminar información\n",
    "    - Crear índices\n",
    "    - Modificar índices\n",
    "    - Eliminar índices\n",
    "    - Consultar valores\n",
    "    "
   ]
  },
  {
   "cell_type": "markdown",
   "metadata": {},
   "source": [
    "### 3. Creación de Bases de Datos y Tablas"
   ]
  },
  {
   "cell_type": "markdown",
   "metadata": {},
   "source": [
    "##### 3.1 Creación de BDD -CREATE DATABASE-"
   ]
  },
  {
   "cell_type": "code",
   "execution_count": null,
   "metadata": {},
   "outputs": [],
   "source": [
    "CREATE DATABASE nombreBasededatos;"
   ]
  },
  {
   "cell_type": "markdown",
   "metadata": {},
   "source": [
    "##### 3.2 Creación de tablas -CREATE TABLE-"
   ]
  },
  {
   "cell_type": "markdown",
   "metadata": {},
   "source": [
    "CREATE TABLE NombreTabla(\n",
    "\n",
    "atributo1 VARCHART(12)PRIMARY KEY,\n",
    "\n",
    "atribut2 VARCHART(20),\n",
    "\n",
    "atributo3 INT,\n",
    "\n",
    "FOREIGN KEY (atributo3) REFERENCES NombreTabla2(atributo3));\n"
   ]
  },
  {
   "cell_type": "markdown",
   "metadata": {},
   "source": [
    "### 4. Elementos que pueden acompañar a los atributos"
   ]
  },
  {
   "cell_type": "markdown",
   "metadata": {},
   "source": [
    "##### 4.1 Tipo de Dato\n",
    "\n",
    "VARCHAR(n)\n",
    "\n",
    "CHAR(n)INT\n",
    "\n",
    "FLOAT\n",
    "\n",
    "DATE\n",
    "\n",
    "TIME"
   ]
  },
  {
   "cell_type": "markdown",
   "metadata": {},
   "source": [
    "##### 4.2 Claves\n",
    "\n",
    "PRIMARY KEY\n",
    "\n",
    "FOREIGN KEY REFERENCES"
   ]
  },
  {
   "cell_type": "markdown",
   "metadata": {},
   "source": [
    "##### 4.3 Otras\n",
    "\n",
    "NOT NULL\n",
    "\n",
    "AUTO_INCREMENT\n",
    "\n",
    "DEFAULT"
   ]
  },
  {
   "cell_type": "markdown",
   "metadata": {},
   "source": [
    "### 5. Agregar tuplas (filas) a una tabla -INSERT-\n",
    "\n",
    "Se utiliza la instrucción **INSERT**\n",
    "\n",
    "1. **INSERT**  #instrucción.\n",
    "\n",
    "\n",
    "2. **INTO NombreTabla**(atr1,atr2,atr3)  #nombre de la tabla y atributos.\n",
    "\n",
    "\n",
    "3. **VALUES**(val1, val2, val3) # # valores de los atributos;\n",
    "\n",
    "(todo seguido)\n",
    "\n",
    "Es posible cambiar el orden de los atributos y omitir elemento (omitiendo un valor correspondientemente)."
   ]
  },
  {
   "cell_type": "markdown",
   "metadata": {},
   "source": [
    "### 6. Consultando información en la Base de Datos -SELECT-"
   ]
  },
  {
   "cell_type": "markdown",
   "metadata": {},
   "source": [
    "##### 6.1 La sentencia **SELECT permite consultar información de la BDD y admite muchísimas variaciones.\n",
    "\n",
    "**SELECT** atributo1, atributo2, \n",
    "\n",
    "**FROM** tabla1, tabla2,..\n",
    "\n",
    "**WHERE** condición;\n"
   ]
  },
  {
   "cell_type": "markdown",
   "metadata": {},
   "source": [
    "##### 6.2 Seleccionar todos los atributos\n",
    "\n",
    "**SELECT * FROM** table;\n"
   ]
  },
  {
   "cell_type": "markdown",
   "metadata": {},
   "source": [
    "##### 6.3 Cambiar los encabezados de las columnas (se pueden usar alias)\n",
    "\n",
    "Estos cambios no alteran la BDD original"
   ]
  },
  {
   "cell_type": "markdown",
   "metadata": {},
   "source": [
    "SELECT atr2, atr5 **AS** alias, atr7 **AS** alias \n",
    "\n",
    "FROM NombreTabla;\n"
   ]
  },
  {
   "cell_type": "markdown",
   "metadata": {},
   "source": [
    "### 7. Atributos calificados con el nombre de la tabla\n",
    "\n",
    "**Es posible que trabajemos al mismo tiempo con dos tablas que tengan un atributo con el mismo nombre.**\n",
    "\n",
    "Ejemplo:\n",
    "\n",
    "Dos tablas\n",
    "    \n",
    "    Personas(rut, nombre, email, teléfono)\n",
    "    \n",
    "    Productos(código, nombre, descripción)\n",
    "    \n",
    "##### Para calificar un atributo, se precede con el nombre de la tabla:\n",
    "\n",
    "SELECT **Tabla.atributo**\n",
    "\n",
    "**Ejemplo**:\n",
    "\n",
    "SELECT *\n",
    "\n",
    "FROM Personas.productos\n",
    "\n",
    "WHERE Personas.nombre = \"Jaime\" AND Productos.nombre =\"iPhone\";\n",
    "\n",
    "\n",
    "\n",
    "\n",
    "\n"
   ]
  },
  {
   "cell_type": "markdown",
   "metadata": {},
   "source": [
    "### 8. Uso de Comodines\n",
    "\n",
    "Elementos que nos permiten indicar no en forma concreta algunos caractéres, sino que dejarlos flexibles.\n",
    "\n",
    "¿Por qué ? \n",
    "\n",
    "- a veces no recuerdo bien los caracteres\n",
    "- a veces quiero ver todos los caracteres que comiencen con una letra.\n",
    "\n",
    "##### 8.1 El comodin \"%\""
   ]
  },
  {
   "cell_type": "markdown",
   "metadata": {},
   "source": [
    "SELECT \n",
    "\n",
    "FROM Table\n",
    "\n",
    "WHERE atributo **LIKE \"Bio%\"**;  \n",
    "\n",
    "Acá estamos indicanto que el valor del atributo **debe ser similar a algo que comienza con Bio**, y después no importa lo que venga (señalado por el sómbolo \"%\")"
   ]
  },
  {
   "cell_type": "markdown",
   "metadata": {},
   "source": [
    "###### 8.2 El comodin \"_\"\n",
    "\n",
    "SELECT  \n",
    "\n",
    "FROM Table \n",
    "\n",
    "WHERE atributo **LIKE \"_iog_s\"**; \n",
    "\n",
    "En este caso indicamos que el valor del atributo debe ser similar al string indicado, en donde **en algún punto de éste deben haber una iog**, sin importar la letra anterior ni la posterior, y luego una s()indicado esto por el \"_\")"
   ]
  },
  {
   "cell_type": "markdown",
   "metadata": {},
   "source": [
    "### 9. Uso de alias para los nombres de las tablas\n",
    "\n",
    "A veces, en una consulta, es necesario y/o conveniente referirse a las tablas por nombres alternativos.\n",
    "\n",
    "Estos son válidos son el contexto de la consulta y se denominan alias.\n",
    "\n",
    "Cuando los nombres de las tablas son muy largos, simplifican las expresiones.\n",
    "\n",
    "\n",
    "\n",
    "**Ejemplo Alias**:\n",
    "\n",
    "SELECT e.año, e.energético, e.cod_región, e.teracalorías\n",
    "\n",
    "FROM Energía as e # **en esta línea indicamos el alias**\n",
    "\n",
    "WHERE e.cod_region = 9;\n",
    "\n"
   ]
  },
  {
   "cell_type": "markdown",
   "metadata": {},
   "source": [
    "### 10. Síntesis\n",
    "\n",
    "- SQL es un lenguaje estándar de alto nivel no procedural.\n",
    "\n",
    "\n",
    "- Permite crear la BDD con sus tablas, agregar o eliminar información y también hacer consultas.\n",
    "\n",
    "\n",
    "- **CREATE se usa para crear (BDD; tablas, y otros)**\n",
    "\n",
    "\n",
    "- **INSERT se usa para agregar tuplas a una tabla.**\n",
    "\n",
    "\n",
    "- **SELECT se usa para consultar información de la BDD.**"
   ]
  },
  {
   "cell_type": "code",
   "execution_count": null,
   "metadata": {},
   "outputs": [],
   "source": []
  }
 ],
 "metadata": {
  "kernelspec": {
   "display_name": "Python 3",
   "language": "python",
   "name": "python3"
  },
  "language_info": {
   "codemirror_mode": {
    "name": "ipython",
    "version": 3
   },
   "file_extension": ".py",
   "mimetype": "text/x-python",
   "name": "python",
   "nbconvert_exporter": "python",
   "pygments_lexer": "ipython3",
   "version": "3.8.5"
  }
 },
 "nbformat": 4,
 "nbformat_minor": 4
}
