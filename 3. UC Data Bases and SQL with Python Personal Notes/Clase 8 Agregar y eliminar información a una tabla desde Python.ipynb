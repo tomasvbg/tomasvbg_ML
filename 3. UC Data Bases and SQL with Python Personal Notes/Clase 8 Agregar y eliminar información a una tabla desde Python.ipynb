{
 "cells": [
  {
   "cell_type": "markdown",
   "metadata": {},
   "source": [
    "### Agregar y eliminar información a una tabla desde Python"
   ]
  },
  {
   "cell_type": "markdown",
   "metadata": {},
   "source": [
    "### 0. Índice\n",
    "\n",
    "- Escribir un programa Python que permita agregar filas, ya sea de a una en una, o en grupos, en la base de datos.\n",
    "\n",
    "\n",
    "- La necesidad de **commit()**\n",
    "\n",
    "\n",
    "- Procesamiento del resultado de un SELECT desde un programa de Python.\n"
   ]
  },
  {
   "cell_type": "markdown",
   "metadata": {},
   "source": [
    "### 1. Insertar Tupla"
   ]
  },
  {
   "cell_type": "markdown",
   "metadata": {},
   "source": [
    "##### 1.1 Como vimos, debemos conectar el motor con la bdd.\n",
    "\n",
    "import mysql.connector as db\n",
    "\n",
    "mydb = db.connect(\n",
    "    \n",
    "    host = \"localhost\",\n",
    "    \n",
    "    user = \"root\",\n",
    "    \n",
    "    passwd= \"DCConline2019\"\n",
    "    \n",
    "    database = \"newDateabase\"\n",
    ")\n"
   ]
  },
  {
   "cell_type": "markdown",
   "metadata": {},
   "source": [
    "##### 1.2.1 INSERTANDO UNA TUPLA MEDIANTE UN PROGRAMA PYTHON\n",
    "\n",
    "miCursor = mydb.cursor()\n",
    "\n",
    "**sqlSentence = \"INSERT INTO users(name, email, age) VALUES(%s,%s,%s)\"**\n",
    "\n",
    "**fila = (\"Pepe\", \"pepe@gmail.com\", 25)**\n",
    "\n",
    "miCursor.execute(sqlSentence, fila) **#le pasamos como parámetro la senecia SQL y la tupla.**\n",
    "\n",
    "**mydb.commit()** # This method sends a COMMIT statement to the MySQL server, committing the current transaction. Since by default Connector/Python does not autocommit, it is important to call this method after every transaction that modifies data for tables that use transactional storage engines."
   ]
  },
  {
   "cell_type": "markdown",
   "metadata": {},
   "source": [
    "##### 1.2.2 Insertar más de una tupla, de una sola vez."
   ]
  },
  {
   "cell_type": "markdown",
   "metadata": {},
   "source": [
    "**Funciona de la misma forma, pero en vez de una tupla, le pasamos una lista de tuplas.**\n",
    "\n",
    "miCursor = mydb.cursor()\n",
    "\n",
    "sqlSentence = \"INSERT INTO users(name, email, age) VALUES(%s,%s,%s)\"\n",
    "\n",
    "**filas = [(\"Pepe\", \"pepe@gmail.com\",25), (\"Paco\", \"paco@gmail.com\", 26), (\"Luis\", luis@gmail.com)]**\n",
    "\n",
    "miCursor.executemany(sqlSentence, fila) # le pasamos como parámetro la senecia SQL y una lista de tupla.\n",
    "\n",
    "mydb.commit() #"
   ]
  },
  {
   "cell_type": "markdown",
   "metadata": {},
   "source": [
    "**En resumen..**"
   ]
  },
  {
   "cell_type": "markdown",
   "metadata": {},
   "source": [
    "1. Importar el conector de Python con MySQL\n",
    "\n",
    "2. Con el conector crear un objeto de conexión.\n",
    "\n",
    "3. COn la conexión, crear un objeto cursor.\n",
    "\n",
    "4. Invocar la operación **execute** sobre el objeto cursor, pasando como parámetros la sentencia **INSERT** que queremos ejecutar y **la fila/s** a insertar."
   ]
  },
  {
   "cell_type": "markdown",
   "metadata": {},
   "source": [
    "### 2. Seleccionar una fila"
   ]
  },
  {
   "cell_type": "markdown",
   "metadata": {},
   "source": [
    "**2.1 Programa**\n",
    "\n",
    "miCursor = mydb.cursor()\n",
    "\n",
    "**sqlSentence = \"SELECT * FROM users\"**\n",
    "\n",
    "miCursor.execute(sqlSentence)\n",
    "\n",
    "**rows = miCursor.fetchall() # extrae todo el contenido guardado en el cursor (en este caso la lista de tuplas)**\n",
    "\n",
    "for row in rows:\n",
    "    \n",
    "    print(row)\n",
    "\n",
    "***\n",
    "\n",
    "**Si quisiera solo un elemento dentro de la tupla, señalo su posición:**\n",
    "\n",
    "for row in rows:\n",
    "    \n",
    "    print(row[0])"
   ]
  },
  {
   "cell_type": "markdown",
   "metadata": {},
   "source": [
    "**2.2 fetch Methods**\n",
    "\n",
    "rows = miCursor.fetchall() # extrae todo el contenido guardado en el cursor (en este caso la lista de tuplas)\n",
    "\n",
    "rows = miCursor.fetchone() # extrae la primera tupla en el cursor-\n",
    "\n",
    "rows = miCursor.fetchmany(2) # extrae todo las dos primeras tuplas guardado en el cursor (en este caso la lista de tuplas)"
   ]
  },
  {
   "cell_type": "markdown",
   "metadata": {},
   "source": [
    "**En resumen**\n",
    "\n",
    "1. Invocar la operación execute sobre el objeto cursor, pasando como parámetro la sentencia SELECT que queremos ejecutar..\n",
    "\n",
    "2. El objeto cursor recibe el resultado del SELECT.\n",
    "\n",
    "3. Invocar una de estas operaciones: fecthone(); fecthmany(n); fetchall()\n",
    "    \n",
    "4. Devuelve una tupla **(fetchone)** o una lista de tuplas Python**(fetchmany y fetchall)**\n"
   ]
  },
  {
   "cell_type": "code",
   "execution_count": null,
   "metadata": {},
   "outputs": [],
   "source": []
  }
 ],
 "metadata": {
  "kernelspec": {
   "display_name": "Python 3",
   "language": "python",
   "name": "python3"
  },
  "language_info": {
   "codemirror_mode": {
    "name": "ipython",
    "version": 3
   },
   "file_extension": ".py",
   "mimetype": "text/x-python",
   "name": "python",
   "nbconvert_exporter": "python",
   "pygments_lexer": "ipython3",
   "version": "3.8.3"
  }
 },
 "nbformat": 4,
 "nbformat_minor": 4
}
