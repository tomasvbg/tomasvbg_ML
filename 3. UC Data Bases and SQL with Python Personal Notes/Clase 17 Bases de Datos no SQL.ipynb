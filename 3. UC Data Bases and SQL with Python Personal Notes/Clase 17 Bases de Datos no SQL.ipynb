{
 "cells": [
  {
   "cell_type": "markdown",
   "metadata": {},
   "source": [
    "Índice\n",
    "\n",
    "- ¿Por qué bases de datos NoSQL?\n",
    "\n",
    "- Tipos de motores NoSQL\n",
    "\n",
    "- Modelo de grafos\n",
    "\n",
    "- Modelo de Documentos"
   ]
  },
  {
   "cell_type": "markdown",
   "metadata": {},
   "source": [
    "Big data ha traído nuevas demandas que requieren un nuevo modelo de datos, ligados a información no estructurada distribuida entre muchos computadores."
   ]
  },
  {
   "cell_type": "markdown",
   "metadata": {},
   "source": [
    "### El Movimiento NoSQL\n",
    "\n",
    "### Más bien no relacional\n",
    "\n",
    "- Nace como respuesta a escenarios donde la necesidad de usar una BD distribuida impacta significativamente el rendimiento de motores relacionales (facebook, twitter).\n",
    "\n",
    "- Son capaces de manejar información semiestructurada (modelo de datos más flexible).\n",
    "\n",
    "- No hay una idea fuerte de esquema.\n",
    "\n",
    "- Por lo general se relajan las exigencias sobre transacciones ACID."
   ]
  },
  {
   "cell_type": "markdown",
   "metadata": {},
   "source": [
    "### Debilidades del Modelo Relacional\n",
    "\n",
    "Necesidades simples de almacenamiento:\n",
    "    - No requieren de todas las funcionalidades de un sistema de gestiñin de bases de datos relacionales(RDBMS)\n",
    "    - Soluciones más simples tienen el potencial de un mejor desempeño.\n",
    "    \n",
    "- RDBMS son complejos de escalar cuando hay que replicar servidores (horizontal scaling), dificultando desplegar soluciones de alta disponibilidad.\n"
   ]
  },
  {
   "cell_type": "markdown",
   "metadata": {},
   "source": [
    "### Tipos de modelos NoSQL\n",
    "\n",
    "Muy distintos..\n",
    "\n",
    "Solo tienen en común que rompen el modelo de que todo es una tabla, es decir son **No Relacionales\"\".** Dentro de los más populares destacan:\n",
    "\n",
    "#### Modelo de Gráfos (nodos y arcos):\n",
    "\n",
    "- Apropiada para datos fuertemente interconectados:\n",
    "\n",
    "    - Relaciones e interacciones entre personas.\n",
    "    - Probelmas de redes y flujos.\n",
    "    - Problemas de rutas.\n",
    "    - Las web (page rank)\n",
    "\n",
    "#### Modelo de Documentos\n",
    "\n",
    "- Documentos expresandos en formatos XML o JSON.\n",
    "\n",
    "    - Es menos estructurado que una tabla:\n",
    "      - Cada documento representa un objeto completo(factura, ficha médica, ley).\n",
    "      - No requiere comprometerse a priori con un esquema.\n",
    "      \n",
    "   - La búsqueda se basa en una **clave primaria** o **atributos escogidos**.\n",
    "   \n",
    "   - Dentro de los motores más usados destacan:\n",
    "       - CouchDB\n",
    "       \n",
    "       - MongoDB\n",
    "\n",
    "**Ventajas**\n",
    "\n",
    "- El mundo funciona con documentos, como rentas, formularios de impuestos, cartas, memos.\n",
    "\n",
    "- Un mismo tipo de documentos no implica exactamente las misma estructura:\n",
    "    - Ficha clínica.\n",
    "    - Ley de la república.\n",
    "\n",
    "- No es necesario dividir las entidades para ser almacenadas eficientemente:\n",
    "    - Factura en lugar de encabezados y detalle.\n",
    "    - Toda la información ed un empleado en un solo documento.\n",
    "    \n",
    "    \n",
    "\n",
    "\n",
    "\n"
   ]
  },
  {
   "cell_type": "markdown",
   "metadata": {},
   "source": [
    "### Síntesis\n",
    "\n",
    "- El movimiento NoSQL surge como respuesta a nuevos escenarios:\n",
    "    - Necesidad de manejar enormes volúmenes de datos.\n",
    "    - Necesidad de manejar información semiestrecturada.\n",
    "    "
   ]
  },
  {
   "cell_type": "markdown",
   "metadata": {},
   "source": [
    "- No existe un único tipo de modelo, dentro de los más populares destacan de grafos, documentos, llave/valor de columnas anchas.\n",
    "\n",
    "- Existen motores de BD que soportan estos modelos.\n",
    "\n",
    "- El modelo de documentos implementado en el motor MongoDB es el más popular de este tipo.\n",
    "\n",
    "- Los documentos en MongoDB pueden reflejar fielmente los documentos reales.\n"
   ]
  },
  {
   "cell_type": "code",
   "execution_count": null,
   "metadata": {},
   "outputs": [],
   "source": []
  },
  {
   "cell_type": "code",
   "execution_count": null,
   "metadata": {},
   "outputs": [],
   "source": []
  }
 ],
 "metadata": {
  "kernelspec": {
   "display_name": "Python 3",
   "language": "python",
   "name": "python3"
  },
  "language_info": {
   "codemirror_mode": {
    "name": "ipython",
    "version": 3
   },
   "file_extension": ".py",
   "mimetype": "text/x-python",
   "name": "python",
   "nbconvert_exporter": "python",
   "pygments_lexer": "ipython3",
   "version": "3.8.3"
  }
 },
 "nbformat": 4,
 "nbformat_minor": 4
}
