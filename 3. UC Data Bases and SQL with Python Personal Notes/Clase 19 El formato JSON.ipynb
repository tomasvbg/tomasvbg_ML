{
 "cells": [
  {
   "cell_type": "markdown",
   "metadata": {},
   "source": [
    "# El Formato JSON"
   ]
  },
  {
   "cell_type": "markdown",
   "metadata": {},
   "source": [
    "### Índice\n",
    "\n",
    "- ¿Qué es JSON?\n",
    "\n",
    "- Metadata\n",
    "\n",
    "- Sintáxis de JSON\n",
    "\n",
    "- Acceso"
   ]
  },
  {
   "cell_type": "markdown",
   "metadata": {},
   "source": [
    "### ¿Qué es JSON?\n",
    "Java Script Object Notation.\n",
    "\n",
    "La sintáxis corresponde a la usada en JavaScript para presentar objetos:\n",
    "    - Conjunto de pares **propiedad:valor**, delimitados por un {}-\n",
    "    \n",
    "    - Los valores pueden ser:\n",
    "        - Tipo simple: number, string, boolean, null.\n",
    "        - Arreglos: lista de tipo [\"a\",\"b\",\"c\",...]\n",
    "        - Otros objetos\n",
    "        \n",
    "    \n",
    "Mediante esta notación se pueden anidar estructuras complejas, por ejemplo:"
   ]
  },
  {
   "cell_type": "code",
   "execution_count": null,
   "metadata": {},
   "outputs": [],
   "source": [
    "{\"menu\":{\n",
    "\"id\":\"File\",\n",
    "\"popup\":{\n",
    "    \"menuitem\":[\n",
    "        {\"value\":\"New\", \"onclick\",\"Create()\"},\n",
    "        {\"value\":\"Close\",\"onclick\",\"Close()\"}\n",
    "               ]\n",
    "        }    \n",
    "        }\n",
    "}"
   ]
  },
  {
   "cell_type": "markdown",
   "metadata": {},
   "source": [
    "### Metadata\n",
    "\n",
    "Información sobre los datos (data sobre la data)\n",
    "\n",
    "**Modelo Relacional**\n",
    "- El esquema de una tabla almacena la metadata.\n",
    "\n",
    "- Cada fila de la tabla adscribe a la misma metadata.\n",
    "\n",
    "**Modelo de documentos**\n",
    "- Cada documento guarda su propia metadata.\n",
    "\n",
    "- Permite que podamos tener distintos documentos en una misma colección.\n",
    "\n",
    "\n"
   ]
  },
  {
   "cell_type": "markdown",
   "metadata": {},
   "source": [
    "### Sintáxis de JSON\n",
    "\n",
    "Reglas muy sencillas\n",
    "\n",
    "**Estructura**\n",
    "Los datos tienen la estructura de pares **nombre/valor**.\n",
    "\n",
    "\"Nombre del campo\":\"valor del campo\"\n",
    "\n",
    "**Valores**\n",
    "Pueden ser **strings, números, arrays u objetos.**\n",
    "\n",
    "**Formato**\n",
    "Los **datos** se separan mediante **comas**.\n",
    "\n",
    "Las llaves **{}** se usan para **objetos**.\n",
    "\n",
    "Los corchetes **[]** se usan para arrays.\n",
    "\n",
    "\n",
    "##### Ejemplo:"
   ]
  },
  {
   "cell_type": "code",
   "execution_count": null,
   "metadata": {},
   "outputs": [],
   "source": [
    "{\"empleados\":[\n",
    "    {\"nombre\":\"Juan\", \"apellido\":\"Flores\"}\n",
    "    {\"nombre\":\"Ana\", \"apellido\":\"Frank\"}\n",
    "    {\"nombre\":\"Alexis\", \"apellido\":\"Sanchez\"}\n",
    "             ]\n",
    "}"
   ]
  },
  {
   "cell_type": "markdown",
   "metadata": {},
   "source": [
    "### Acceso al contenido\n",
    "\n",
    "Un documento puede tener mucha información anidada, de manera que puede tener muchas páginas.\n",
    "\n",
    "**¿Cómo accedo entonces al contenido?**\n",
    "\n",
    "En el siguiente ejemplo, la variable persona contiene un objeto con nombre y apellido:\n",
    "    \n",
    "persona = {\"nombre\":\"Juan\", \"apellido\":\"Flores\"}\n",
    "\n",
    "Para acceder al apellido de ese objeto, se puede hacer de dos formas:\n",
    "    \n",
    "    persona.apellido\n",
    "    \n",
    "    persona[apellido]\n",
    "    "
   ]
  },
  {
   "cell_type": "markdown",
   "metadata": {},
   "source": [
    "### Síntesis:\n",
    "\n",
    "- JSON es un formato estándar muy simple y extremadamente flexible.\n",
    "\n",
    "- Un objeto JSON permite representar lo que podría ser una fila de una tabla.\n",
    "\n",
    "- Permite también, representar objetos complejos que contienen estructuras o arreglos.\n",
    "\n",
    "- Cada documento JSON tiene su propia metadata.\n"
   ]
  }
 ],
 "metadata": {
  "kernelspec": {
   "display_name": "Python 3",
   "language": "python",
   "name": "python3"
  },
  "language_info": {
   "codemirror_mode": {
    "name": "ipython",
    "version": 3
   },
   "file_extension": ".py",
   "mimetype": "text/x-python",
   "name": "python",
   "nbconvert_exporter": "python",
   "pygments_lexer": "ipython3",
   "version": "3.8.3"
  }
 },
 "nbformat": 4,
 "nbformat_minor": 4
}
