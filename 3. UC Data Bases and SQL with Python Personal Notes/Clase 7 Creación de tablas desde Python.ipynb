{
 "cells": [
  {
   "cell_type": "markdown",
   "metadata": {},
   "source": [
    "### Creación de tablas desde Python"
   ]
  },
  {
   "cell_type": "markdown",
   "metadata": {},
   "source": [
    "### 0. Índice\n",
    "\n",
    "- Estructura general de un programa Python que debe interactuar con MySQL\n",
    "\n",
    "\n",
    "- Escribir un programa Python que permita crear una nueva base de datos."
   ]
  },
  {
   "cell_type": "markdown",
   "metadata": {},
   "source": [
    "import mysql.connector as db\n",
    "\n",
    "mydb = db.connect(\n",
    "    \n",
    "    host = \"localhost\",\n",
    "    \n",
    "    user = \"root\",\n",
    "    \n",
    "    passwd =\"DCConline2019\",\n",
    "    \n",
    "    database = \"newDatabase\"\n",
    ")\n",
    "\n",
    "miCursor = mydb.cursor()\n",
    "\n",
    "sqlSentence = \"CREATE TABLE users(name VARCHAR(45), email VARCHAR(45), age INTEGER(10), user_id INTEGER AUTO_INCREMENT PRIMARY KEY\" \n",
    "\n",
    "miCursor.execute(sqlSentence)"
   ]
  },
  {
   "cell_type": "markdown",
   "metadata": {},
   "source": [
    "### Estructura General del Programa"
   ]
  },
  {
   "cell_type": "markdown",
   "metadata": {},
   "source": [
    "1. Importar el conector de Python con MySQL\n",
    "\n",
    "2. Con el conector, crear un objeto conexión.\n",
    "\n",
    "3. Con la conexión, crear un objeto cursor.\n",
    "\n",
    "4. Invocar la operación execute sobre el objeto cursor, pasando como parámetro la sentencia **SQL** que queremos ejecutar sobre la base de datos."
   ]
  }
 ],
 "metadata": {
  "kernelspec": {
   "display_name": "Python 3",
   "language": "python",
   "name": "python3"
  },
  "language_info": {
   "codemirror_mode": {
    "name": "ipython",
    "version": 3
   },
   "file_extension": ".py",
   "mimetype": "text/x-python",
   "name": "python",
   "nbconvert_exporter": "python",
   "pygments_lexer": "ipython3",
   "version": "3.8.5"
  }
 },
 "nbformat": 4,
 "nbformat_minor": 4
}
