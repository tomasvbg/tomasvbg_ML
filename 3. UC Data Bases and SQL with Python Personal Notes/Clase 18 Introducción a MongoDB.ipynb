{
 "cells": [
  {
   "cell_type": "markdown",
   "metadata": {},
   "source": [
    "### Índice\n",
    "\n",
    "- Principales características del Motor\n",
    "\n",
    "- Interacción con Mongo DB\n",
    "\n",
    "- Buscando información en MongoDB\n"
   ]
  },
  {
   "cell_type": "markdown",
   "metadata": {},
   "source": [
    "- Motivación\n",
    "\n",
    "- Popularidad del modelo de documentos\n",
    "\n",
    "- Liderazfo de MongoDB\n",
    "\n",
    "- Tipo de escenarios en que es interesante"
   ]
  },
  {
   "cell_type": "markdown",
   "metadata": {},
   "source": [
    "### Soporta el Modelo de Documentos\n",
    "\n",
    "- BSON es un formato binario de los documentos JSON.\n",
    "\n",
    "- Se diferencia en que los documentos son almacenados en forma binaria, lo que lo hace más rápido y eficiente.\n",
    "\n",
    "**Para todos los efectos funciona igualk que si estuviésemo manejando JSON**.\n",
    "\n",
    "- Objetos como secuencias de pares nombre/valor.\n",
    "- Los valores pueden:\n",
    "    - Ser otros objetos.\n",
    "    - Ser arrays.\n",
    "    - Combinar objetos y arrays.\n",
    "    "
   ]
  },
  {
   "cell_type": "markdown",
   "metadata": {},
   "source": [
    "### No hay soporte de transacciones\n",
    "\n",
    "- Compromiso usual en motores NoSQL para lograr escalamiento horizontal.\n",
    "\n",
    "- MySQL no tuvo siporte de transacciones por un largo tiempo “¡(an es defaullt)\n",
    "\n",
    "- Asegura durabilidad (la D de ACID), incluso al erstaer operando con varias rèplicas.\n",
    "\n"
   ]
  },
  {
   "cell_type": "markdown",
   "metadata": {},
   "source": [
    "### Objetos y colecciones que reemplazan a las filas y tablas\n",
    "\n",
    "**- En MongoDB un documento es una unidad de almacenamiento**:\n",
    "    - Equivalente a la fila de una tabla, pero ahora puede ser de complejidad arbitraria.\n",
    "    - Cada documento tiene un identificadore único llamado _id.\n",
    "    - Una colección es una caja de documentos con una etiqueta.\n",
    "    - Es equivalente a una tabla, pero los documentos no tienen por qué ser todos iguales.\n",
    "    \n",
    "    Una base de dagos en MongoDB es un conjunto de colecciones.\n",
    "    "
   ]
  },
  {
   "cell_type": "markdown",
   "metadata": {},
   "source": [
    "##### Varias formas posibles\n",
    "\n",
    "- Directamente desd ela línea de comandos de la shell.\n",
    "\n",
    "- Usando la interfaz gráfica provista, llamada Compass.\n",
    "\n",
    "- Desde un programa Python.\n"
   ]
  },
  {
   "cell_type": "markdown",
   "metadata": {},
   "source": [
    "### Línea de comando\n",
    "\n",
    "**Una vez instalado, lo más simple y directo es interactuar desde una línea de comando:**\n",
    "    \n",
    "- Se invoca el interprete de comandos al ejecutar Mongo.\n",
    "\n",
    "- Indica que está listo para recibir comandos mediante el símbolo >.\n",
    "\n",
    "- Algunos comandos:\n",
    "    \n",
    "    -show dbs\n",
    "    \n",
    "    -use database\n",
    "    \n",
    "    -show collection"
   ]
  },
  {
   "cell_type": "markdown",
   "metadata": {},
   "source": [
    "### Agregando documentos a una colección\n",
    "\n",
    "- insertOne\n",
    "\n",
    "- insertMany\n"
   ]
  },
  {
   "cell_type": "markdown",
   "metadata": {},
   "source": [
    "#### Usando MongoDB Compass\n",
    "\n",
    "- Interfaz gráfica de usuario (GUI) para MongoDB que permite interactuar con el motor en forma fácil y conveniente.\n",
    "\n",
    "- Similar al rol que juega MySQL Workbench con el motor MySQL."
   ]
  },
  {
   "cell_type": "markdown",
   "metadata": {},
   "source": [
    "### Buscando información en una bdd\n",
    "\n",
    "La operación para buscar es find()\n",
    "\n",
    "- find() sobre una colección extrae todos los documentos de ella:\n",
    "    \n",
    "**db.alumnos.find()- todos los documentos en la colección**\n",
    "\n",
    "- Puede acotarse a los documentos que cumplen con ciertas características, incluyendo un parámetor:\n",
    "\n",
    "**db.alunos.find({name;\"Jaime\"}) -solo el documento con nombre = \"Jaime\".**\n",
    "    \n",
    "- También es posible extraer solo algunos atributos de los documentos:\n",
    "\n",
    "**db.alumnos.find({name:\"Jaime\"}.{notas:1})-solo las notas del documento que tiene nombre = \"Jaime\".**\n",
    "\n",
    "- Para extraer  solo un documento se usa findOne\n",
    "\n",
    "**db.alumnos.findOne() -un solo documento**\n",
    "\n"
   ]
  },
  {
   "cell_type": "markdown",
   "metadata": {},
   "source": [
    "### Contando Documentos\n",
    "\n",
    "**- count()** devuelve el número de documentos.\n",
    "\n",
    "**- distinct()** permite eliminar repetidos."
   ]
  },
  {
   "cell_type": "markdown",
   "metadata": {},
   "source": [
    "### Usando operadores\n",
    "\n",
    "$gt : greater than.\n",
    "\n",
    "$gte : greater than or equal.\n",
    "\n",
    "$lt : less than.\n",
    "\n",
    "$lte : less than or equal.\n",
    "\n",
    "$ne : not equal.\n",
    "\n",
    "$ : in array-\n",
    "\n",
    "$nin : not in array."
   ]
  },
  {
   "cell_type": "markdown",
   "metadata": {},
   "source": [
    "### Uso de expresiones regulares\n",
    "\n",
    "- En SQL vimos la útildad ee los comodines %y_para especificar en forma parcial una secuencia de caracteres.\n",
    "\n",
    "- En mongoDB se potencia enormemente al permitir usar exporesiones regulares(regex).\n",
    "\n",
    "- Ejemplo:\n",
    "    - La regex **/^jai/i** especifica cualquier secuencia que comienza con las letras \"jai\" sin importar si son mayúscilas o minúsculas.\n",
    "    \n",
    "    - **/^[AE]/** una secuencia que comienza con A o con E\n",
    "    \n",
    "    - **/Jo\\qn\\w/** una secuencia en que aparexca una secuencia del tipo Jo_n_\n",
    "\n",
    "    "
   ]
  },
  {
   "cell_type": "markdown",
   "metadata": {},
   "source": [
    "### Síntesis\n",
    "\n",
    "- MongoDB es un motor de BD que implementa eficientemente el modelo de documentos.\n",
    "\n",
    "- El formato de los documentos es BSON, una forma binaria de JSON.\n",
    "\n",
    "- Se puede interactuar con el motor desde la lína de comando, desde la GUI o desde un programa.\n",
    "\n",
    "- Hay poderosas formas de buscar elementos almacenados en la base de datos."
   ]
  }
 ],
 "metadata": {
  "kernelspec": {
   "display_name": "Python 3",
   "language": "python",
   "name": "python3"
  },
  "language_info": {
   "codemirror_mode": {
    "name": "ipython",
    "version": 3
   },
   "file_extension": ".py",
   "mimetype": "text/x-python",
   "name": "python",
   "nbconvert_exporter": "python",
   "pygments_lexer": "ipython3",
   "version": "3.8.3"
  }
 },
 "nbformat": 4,
 "nbformat_minor": 4
}
