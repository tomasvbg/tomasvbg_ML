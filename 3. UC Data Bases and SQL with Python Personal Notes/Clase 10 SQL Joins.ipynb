{
 "cells": [
  {
   "cell_type": "markdown",
   "metadata": {},
   "source": [
    "### Índice\n",
    "\n",
    "- Introducción\n",
    "\n",
    "- El operador JOIN\n",
    "\n",
    "- JOIN clásico o implícito\n",
    "\n",
    "- JOIN explícito o JOIN natural\n",
    "\n",
    "- Encadenamiento de JOINS\n",
    "\n",
    "- JOIN externos\n",
    "\n"
   ]
  },
  {
   "cell_type": "markdown",
   "metadata": {},
   "source": [
    "### 1. Introducción"
   ]
  },
  {
   "cell_type": "markdown",
   "metadata": {},
   "source": [
    "- JOIN nos permite unir tablas que están relacionadas en conjunto.\n",
    "\n",
    "- El resultado es una nueva tabla con las columnas de la primera y la segunda (en principio).\n",
    "\n",
    "- La vinculación entre las dos tablas se da mediante una columna común, generalmente PRIMARY KEY y FOREIGN KEY.\n",
    "\n",
    "- Las consultas hechas con SELECT se hacen más complejas de procesar.\n"
   ]
  },
  {
   "cell_type": "markdown",
   "metadata": {},
   "source": [
    "###  2. El JOIN clásico (basic JOIN)\n",
    "\n",
    "- También llamado JOIN implícito.\n",
    "- Une mediante una condición en el WHERE.\n",
    "\n",
    "Ejemplo:\n",
    "    \n",
    "SELECT atr1, atr2, atr3 \n",
    "\n",
    "FROM tabla1 as t1, tabla2 as t2\n",
    "\n",
    "WHERE t1.atr2 = \"value\" AND tab1.atr4 = tab2.atr4;"
   ]
  },
  {
   "cell_type": "markdown",
   "metadata": {},
   "source": [
    "### 3. Uso de Join Natural"
   ]
  },
  {
   "cell_type": "markdown",
   "metadata": {},
   "source": [
    "Si quisiéramos los títulos de los libros que escrubió Downey:\n",
    "    \n",
    "SELECT atr1,atr2,atr3\n",
    "\n",
    "FROM table1 as t1 JOIN table2 as t2 USING (atr1)\n",
    "        \n",
    "JOIN tab3 as t3 USING(isbn)\n",
    "\n",
    "WHERE t1.atr2 = \"Value\""
   ]
  },
  {
   "cell_type": "markdown",
   "metadata": {},
   "source": [
    "### 4. JOIN internos y JOIN externos"
   ]
  },
  {
   "cell_type": "markdown",
   "metadata": {},
   "source": [
    "##### Qué hacer con las tuplas que no tienen pareja?"
   ]
  },
  {
   "cell_type": "markdown",
   "metadata": {},
   "source": [
    "- Todos los JOINS que hemos visto son en realidad internos.\n",
    "\n",
    "- Podríamos haber usado **INNER JOIN** en lugar de **JOIN**.\n",
    "\n",
    "- En el caso de un JOIN interno, las tuplas sin oareha no aparecen en el resultado.\n",
    "\n",
    "- En el caso de un JOIN externo, (OUTER JOIN) sí van a aparecer.\n",
    "\n",
    "- **LEFT OUTER JOIN**- considera las sin pareja de la izquierda.\n",
    "\n",
    "- **RIGHT OUTER JOIN**- considera las sin pareja de la derecha.\n",
    "\n",
    "- Al aparecer la palabra **LEFT** o **RIGHT** se asume OUTER (no es necesaria)"
   ]
  },
  {
   "cell_type": "markdown",
   "metadata": {},
   "source": [
    "**Ejemplos:**\n",
    "    \n",
    "SELECT atr1, atr2, atr3\n",
    "\n",
    "FROM table1 as t1 LEFT JOIN table2 as t2\n",
    "\n",
    "    USING(atr2)\n",
    "\n",
    "**\n",
    "\n",
    "SELECT atr1, atr2, atr3\n",
    "\n",
    "FROM table1 as t1 RIGHT JOIN table2 as t2\n",
    "\n",
    "    USING(atr2)"
   ]
  },
  {
   "cell_type": "markdown",
   "metadata": {},
   "source": [
    "### 5. Síntesis\n",
    "\n",
    "- La operación que permite unir dos tablas relacionadas se llama **JOIN**\n",
    "\n",
    "- El **JOIN** implícito es el más antiguo y los atributos relacionados se indican en el **WHERE** del **SELECT**.\n",
    "\n",
    "- En el **JOIN** explícito (moderno) se usa la palabra **JOIN** y los atributos se indican en el **ON**-m\n",
    "\n",
    "- Es posible encandenar **JOINS** involucrando más de dos tablas."
   ]
  },
  {
   "cell_type": "code",
   "execution_count": null,
   "metadata": {},
   "outputs": [],
   "source": []
  }
 ],
 "metadata": {
  "kernelspec": {
   "display_name": "Python 3",
   "language": "python",
   "name": "python3"
  },
  "language_info": {
   "codemirror_mode": {
    "name": "ipython",
    "version": 3
   },
   "file_extension": ".py",
   "mimetype": "text/x-python",
   "name": "python",
   "nbconvert_exporter": "python",
   "pygments_lexer": "ipython3",
   "version": "3.8.3"
  }
 },
 "nbformat": 4,
 "nbformat_minor": 4
}
