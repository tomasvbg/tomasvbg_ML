{
 "cells": [
  {
   "cell_type": "markdown",
   "metadata": {},
   "source": [
    "### Índice\n",
    "\n",
    "- Introducción a Pandas\n",
    "\n",
    "- Conceptos sobre DataFrames\n",
    "\n",
    "- Trabajo práctico en Python con DataFrames\n"
   ]
  },
  {
   "cell_type": "markdown",
   "metadata": {},
   "source": [
    "### 1. Introducción a Pandas\n",
    "\n",
    "- Es una librería de Python (más famosas son Numpy y Pandas)\n",
    "\n",
    "- Entre las funcionalidades destaca: \n",
    "    - **DataFrame** cp,p estructura general para el manejo de datos.\n",
    "    - Herramientas para leer archivos en distintos formatos.\n",
    "    - Herramientas para recortar(slicing) los dataframes de las más variadas maneras.\n",
    "    - Inserción y eliminación de columnas."
   ]
  },
  {
   "cell_type": "markdown",
   "metadata": {},
   "source": [
    "### 2. Conceptos sobre DataFrames\n",
    "\n",
    "- Estructura similar a una tabla:\n",
    "     - Cada fila tiene un índice\n",
    "     - El índice también podría tener un nombre\n",
    "     - Puede crearse a partir de un archivo csv o de un diccionario Python\n",
    "        "
   ]
  },
  {
   "cell_type": "markdown",
   "metadata": {},
   "source": [
    "import pandas as pd\n",
    "\n",
    "data = {\"hombres\": [46,67,68], \"mujeres\":[32,45,67]}\n",
    "\n",
    "miDataframe = pd.DataFrame(data)\n",
    "\n",
    "miDataframe = pd.DataFrame(data, index = [\"mat121\", \"fis101\", \"bio101\"])\n",
    "\n",
    "miDataframe "
   ]
  },
  {
   "cell_type": "markdown",
   "metadata": {},
   "source": [
    "### 3. Referenciando datos específicos en el Dataframe\n",
    "\n",
    "Operadores fundamentales (consulta el índice 0):\n",
    "    - loc\n",
    "    - iloc\n"
   ]
  },
  {
   "cell_type": "markdown",
   "metadata": {},
   "source": [
    "miDataframe.loc[\"fis101\"] #label\n",
    "\n",
    "miDataframe.iloc[1] #position"
   ]
  },
  {
   "cell_type": "markdown",
   "metadata": {},
   "source": [
    "df = miDataframe \n",
    "df"
   ]
  },
  {
   "cell_type": "markdown",
   "metadata": {},
   "source": [
    "### 4. Recortando el Dataframe (slicing)\n",
    "\n",
    "Selecciona columans d eun df para generar uno nuevo\n",
    "df[[\"hombres\",\"mujeres\"]]\n",
    "\n",
    "Selecciona la primera fila completa\n",
    "df.iloc[0,:]\n",
    "\n",
    "Selecciona la segunda columna completa\n",
    "df.iloc[:,1]\n",
    "\n",
    "Seleccionar las primeras dos filas\n",
    "df.iloc[:,1]\n",
    "\n"
   ]
  },
  {
   "cell_type": "markdown",
   "metadata": {},
   "source": [
    "***"
   ]
  },
  {
   "cell_type": "markdown",
   "metadata": {},
   "source": [
    "### 5. Pandas and SQL\n",
    "\n",
    "Esto debiese estar escrito en un archivo python en algún editor, para hacerlos correr en MySQL."
   ]
  },
  {
   "cell_type": "markdown",
   "metadata": {},
   "source": [
    "### 5.1 Hacer la conexión entre mySQL y la base de datos.\n",
    "\n",
    "import pandas as pd\n",
    "\n",
    "import mysql.connector as db\n",
    "\n",
    "mydb = db.connect(\n",
    "  \n",
    "      host = \"localhost\"\n",
    "  \n",
    "      user = \"root\"\n",
    "  \n",
    "      passwd = \"\"\n",
    "  \n",
    "      database = \"Energia\"\n",
    ")"
   ]
  },
  {
   "cell_type": "markdown",
   "metadata": {},
   "source": [
    "### 5.2 Leer directamente el archivo csv hacia un dataframe\n",
    "\n",
    "df1 = pd.read_csv(\"data/personas3.csv\", sep=\";\")\n",
    "\n",
    "df2 = df1[[\"nombre\", \"rut\", fecha_nac]]\n",
    "\n",
    "print(df1)\n",
    "\n",
    "print(df2)\n"
   ]
  },
  {
   "cell_type": "markdown",
   "metadata": {},
   "source": [
    "### 5.3 Hacer Slicing sobre el dataframe\n",
    "\n",
    "print(df2.iloc[0:4,0:1])\n",
    "\n",
    "print(df2.loc[5:7], [[\"rut\", \"nombre\"]])\n"
   ]
  },
  {
   "cell_type": "markdown",
   "metadata": {},
   "source": [
    "### 5.4 Leer una base de datos desde MySQL y convertirlo en un Dataframe\n",
    "\n",
    "De manera de poder ejecutar operaciones de pandas sobre la base de datos."
   ]
  },
  {
   "cell_type": "markdown",
   "metadata": {},
   "source": [
    "miCursor = mydb.cursor()\n",
    "\n",
    "sqlSentence = \"SELECT * FROM Tabla WHERE atributo > 800 AND atributo < 900\"\n",
    "\n",
    "miCursor.execute(sqlSentence)\n",
    "\n",
    "rows = miCursor.fetchall()\n",
    "\n",
    "lista = []\n",
    "\n",
    "for row in rows:\n",
    "    lista.append(row)\n",
    "    \n",
    "df3 = pd.DataFrame(lista, columns= [\"colname1\", \"colname2\", \"colname3\", \"colname4\"])\n"
   ]
  },
  {
   "cell_type": "markdown",
   "metadata": {},
   "source": [
    "### 5.5 Insertar un DataFrame en la base de datos mediante MySQL\n",
    "\n",
    "La sentencia INSERT debe tener una lista de tuplas.\n",
    "\n",
    "Es decir, el dataframe, debo convertirlo en una lista de tuplas.\n",
    "\n",
    "Para luego insertarlas."
   ]
  },
  {
   "cell_type": "markdown",
   "metadata": {},
   "source": [
    "print(df3.loc[:, [\"colname1\", \"colname2\", \"colname4\"]]) #imprimo los valores del data frame, son pasados a una lista.\n",
    "\n",
    "tuple_list = [tuple(l) for l in df3.values.tolist()] #para cada elemento en la lista, conviértalos en una tupla.\n",
    "\n",
    "MiCursor.execute(\"DELETE FROM Table\")\n",
    "\n",
    "mydb.commit()\n",
    "\n",
    "sqlSentence = \"INSERT INTO table('atr1','atr2','atr3','atr4','atr5') VALUES ('val1','val2','val3','val4','val5')\"\n",
    "\n",
    "miCursor.executemany(sqlSentence, tuple_list)\n",
    "\n",
    "mydb.commit()\n"
   ]
  },
  {
   "cell_type": "markdown",
   "metadata": {},
   "source": [
    "### 6. Síntesis\n",
    "\n",
    "Convertir datos de la bdd a un dataframe, nos permite hacer todas las operaciones que esta librería nos ofrece, y luego volver a ingresarlos.\n",
    "\n"
   ]
  }
 ],
 "metadata": {
  "kernelspec": {
   "display_name": "Python 3",
   "language": "python",
   "name": "python3"
  },
  "language_info": {
   "codemirror_mode": {
    "name": "ipython",
    "version": 3
   },
   "file_extension": ".py",
   "mimetype": "text/x-python",
   "name": "python",
   "nbconvert_exporter": "python",
   "pygments_lexer": "ipython3",
   "version": "3.8.3"
  }
 },
 "nbformat": 4,
 "nbformat_minor": 4
}
