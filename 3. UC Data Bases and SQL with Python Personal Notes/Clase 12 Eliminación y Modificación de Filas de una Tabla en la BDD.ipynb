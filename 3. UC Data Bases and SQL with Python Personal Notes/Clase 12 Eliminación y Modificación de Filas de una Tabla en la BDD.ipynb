{
 "cells": [
  {
   "cell_type": "markdown",
   "metadata": {},
   "source": [
    "# Eliminación y Modificación de Filas de una Tabla"
   ]
  },
  {
   "cell_type": "markdown",
   "metadata": {},
   "source": [
    "### Índice\n",
    "\n",
    "- Eliminación de una o más filas\n",
    "\n",
    "- Modificación de la información de una o más filas"
   ]
  },
  {
   "cell_type": "markdown",
   "metadata": {},
   "source": [
    "### 1. Ejemplo Eliminación"
   ]
  },
  {
   "cell_type": "markdown",
   "metadata": {},
   "source": [
    "**1.1 Crearemos una bdd para posteriormente eliminar filas de una de sus tablas.**"
   ]
  },
  {
   "cell_type": "markdown",
   "metadata": {},
   "source": [
    "import mysql.connector as db\n",
    "\n",
    "mydb = db.connect(\n",
    "        \n",
    "        host = \"localhost\",\n",
    "        \n",
    "        user = \"root\",\n",
    "        \n",
    "        passwd = \"\",\n",
    "        \n",
    "        database = \"newDatabase\")\n",
    "\n",
    "***\n",
    "\n",
    "miCursor = mydb.cursor()\n",
    "\n",
    "insertSentence = \"INSERT INTO table(at1,at2,at3) VALUES(%s,%s,%s)\"\n",
    "\n",
    "filas = [(\"hugo\", \"hugo@gmail.com\", 25),(\"Paco\", \"paco@gmail.com\", 36), (\"Luis\",\"luis@gmail.com\", 27)]\n",
    "\n",
    "miCursor.executemany(insertSentence,filas)\n",
    "mydb.commit()\n",
    "\n",
    "***\n"
   ]
  },
  {
   "cell_type": "markdown",
   "metadata": {},
   "source": [
    "**1.2 Consultamos la bdd para ver que haya sido creada oportunamente**"
   ]
  },
  {
   "cell_type": "markdown",
   "metadata": {},
   "source": [
    "consultSentence = \"SELECT * FROM USERS\"\n",
    "\n",
    "miCursor.execute(consultSentence)\n",
    "\n",
    "rows = miCursor.fetchall()\n",
    "\n",
    "print(\"=== Agregadas las tuplas===\")\n",
    "\n",
    "for row in rows:\n",
    "    \n",
    "    print(row)"
   ]
  },
  {
   "cell_type": "markdown",
   "metadata": {},
   "source": [
    "##### 1.3 Creamos y aplicamos la sentencia de eliminación"
   ]
  },
  {
   "cell_type": "markdown",
   "metadata": {},
   "source": [
    "delete_sentence = \"DELETE FROM table WHERE at1 LIKE '%o'\"\" # debe terminar en \"o\".\n",
    "\n",
    "#delete_sentence2 = \"DELETE FROM table WHERE at2 < 25\"\n",
    "\n",
    "miCursor.execute(delete_sentence)\n",
    "\n",
    "mydb.commit()\n",
    "\n",
    "***\n"
   ]
  },
  {
   "cell_type": "markdown",
   "metadata": {},
   "source": [
    "##### 1.4 Visualizamos la eliminación hecha"
   ]
  },
  {
   "cell_type": "markdown",
   "metadata": {},
   "source": [
    "consultSentence = \"SELECT * FROM USERS\"\n",
    "\n",
    "miCursor.execute(consultSentence)\n",
    "\n",
    "rows = miCursor.fetchall()\n",
    "\n",
    "print(\"=== Después de Eliminar ===\")\n",
    "\n",
    "for row in rows:\n",
    "    \n",
    "    print(row)"
   ]
  },
  {
   "cell_type": "markdown",
   "metadata": {},
   "source": [
    "##### 1.5. Revisión del código de eliminar.py"
   ]
  },
  {
   "cell_type": "code",
   "execution_count": 27,
   "metadata": {},
   "outputs": [
    {
     "data": {
      "text/html": [
       "<div>\n",
       "<style scoped>\n",
       "    .dataframe tbody tr th:only-of-type {\n",
       "        vertical-align: middle;\n",
       "    }\n",
       "\n",
       "    .dataframe tbody tr th {\n",
       "        vertical-align: top;\n",
       "    }\n",
       "\n",
       "    .dataframe thead th {\n",
       "        text-align: right;\n",
       "    }\n",
       "</style>\n",
       "<table border=\"1\" class=\"dataframe\">\n",
       "  <thead>\n",
       "    <tr style=\"text-align: right;\">\n",
       "      <th></th>\n",
       "      <th>Pasos</th>\n",
       "    </tr>\n",
       "  </thead>\n",
       "  <tbody>\n",
       "    <tr>\n",
       "      <th>Primero</th>\n",
       "      <td>Importar el conector de Python con MySQL.</td>\n",
       "    </tr>\n",
       "    <tr>\n",
       "      <th>Segundo</th>\n",
       "      <td>Con el conector crear un objeto conexión y con la conexión crear un cursor.</td>\n",
       "    </tr>\n",
       "    <tr>\n",
       "      <th>Tercero</th>\n",
       "      <td>Insertar tres tuplas con executemany.</td>\n",
       "    </tr>\n",
       "    <tr>\n",
       "      <th>Cuarto</th>\n",
       "      <td>Imprimir todas las tuplas de la tabla.</td>\n",
       "    </tr>\n",
       "    <tr>\n",
       "      <th>Quinto</th>\n",
       "      <td>Eliminar las tuplas en que el nombre de usuario termina en 'o'.</td>\n",
       "    </tr>\n",
       "    <tr>\n",
       "      <th>Sexto</th>\n",
       "      <td>Imprimir todas las tuplas de la tabla.</td>\n",
       "    </tr>\n",
       "  </tbody>\n",
       "</table>\n",
       "</div>"
      ],
      "text/plain": [
       "                                                                               Pasos\n",
       "Primero                                    Importar el conector de Python con MySQL.\n",
       "Segundo  Con el conector crear un objeto conexión y con la conexión crear un cursor.\n",
       "Tercero                                        Insertar tres tuplas con executemany.\n",
       "Cuarto                                        Imprimir todas las tuplas de la tabla.\n",
       "Quinto               Eliminar las tuplas en que el nombre de usuario termina en 'o'.\n",
       "Sexto                                         Imprimir todas las tuplas de la tabla."
      ]
     },
     "execution_count": 27,
     "metadata": {},
     "output_type": "execute_result"
    }
   ],
   "source": [
    "import pandas as pd\n",
    "pd.options.display.max_colwidth = 100\n",
    "index_labels=[\"Primero\", \"Segundo\", \"Tercero\", \"Cuarto\", \"Quinto\", \"Sexto\"]\n",
    "filas = [[\"Importar el conector de Python con MySQL.\"],[\"Con el conector crear un objeto conexión y con la conexión crear un cursor.\"], [\"Insertar tres tuplas con executemany.\"],[\"Imprimir todas las tuplas de la tabla.\"], [\"Eliminar las tuplas en que el nombre de usuario termina en 'o'.\"],[\"Imprimir todas las tuplas de la tabla.\"]]\n",
    "pd.DataFrame(filas, columns=[\"Pasos\"], index=index_labels)"
   ]
  },
  {
   "cell_type": "markdown",
   "metadata": {},
   "source": [
    "### 2. Ejemplo Modificación"
   ]
  },
  {
   "cell_type": "markdown",
   "metadata": {},
   "source": [
    "**2.1 Crearemos una bdd para posteriormente modificar filas de una de sus tablas.**"
   ]
  },
  {
   "cell_type": "markdown",
   "metadata": {},
   "source": [
    "import mysql.connector as db\n",
    "\n",
    "mydb = db.connect(\n",
    "        \n",
    "        host = \"localhost\",\n",
    "        \n",
    "        user = \"root\",\n",
    "        \n",
    "        passwd = \"\",\n",
    "        \n",
    "        database = \"newDatabase\")\n",
    "\n",
    "***\n",
    "\n",
    "miCursor = mydb.cursor()\n",
    "\n",
    "insertSentence = \"INSERT INTO table(at1,at2,at3) VALUES(%s,%s,%s)\"\n",
    "\n",
    "filas = [(\"hugo\", \"hugo@gmail.com\", 25),(\"Paco\", \"paco@gmail.com\", 36), (\"Luis\",\"luis@gmail.com\", 27)]\n",
    "\n",
    "miCursor.executemany(insertSentence,filas)\n",
    "\n",
    "mydb.commit()"
   ]
  },
  {
   "cell_type": "markdown",
   "metadata": {},
   "source": [
    "**2.2 Consultamos la bdd para ver que haya sido creada oportunamente**"
   ]
  },
  {
   "cell_type": "markdown",
   "metadata": {},
   "source": [
    "consultSentence = \"SELECT * FROM USERS\"\n",
    "\n",
    "miCursor.execute(consultSentence)\n",
    "\n",
    "rows = miCursor.fetchall()\n",
    "\n",
    "print(\"=== Agregadas las tuplas===\")\n",
    "\n",
    "for row in rows:\n",
    "    \n",
    "    print(row)"
   ]
  },
  {
   "cell_type": "markdown",
   "metadata": {},
   "source": [
    "**2.3 Creamos y aplicamos la sentencia de modificación**"
   ]
  },
  {
   "cell_type": "markdown",
   "metadata": {},
   "source": [
    "updateSentence = \"UPDATE table SET at1 =18 WHERE at2 ='value'\"\n",
    "\n",
    "#updateSentence = \"UPDATE table SET at2 = 'value' WHERE at3 = 'value'\"\n",
    "\n",
    "#updateSentence = \"UPDATE table SET at2 = 'value' WHERE at1 = 'value'\"\n",
    "\n",
    "#updateSentence = \"UPDATE table SET at3 = at3 + 10\" ##\n",
    "\n",
    "\n",
    "miCursor.execute(updateSentence)\n",
    "\n",
    "mydb.commit()\n"
   ]
  },
  {
   "cell_type": "markdown",
   "metadata": {},
   "source": [
    "##### 2.4 Consultamos la bdd para ver las modificaciones"
   ]
  },
  {
   "cell_type": "markdown",
   "metadata": {},
   "source": [
    "consultSentence = \"SELECT * FROM table\"\n",
    "\n",
    "miCursor.execute(consultSentence)\n",
    "\n",
    "rows = miCursor.fetchall()\n",
    "\n",
    "print(\"=== Después de Actualizar===\")\n",
    "\n",
    "for row in rows:\n",
    "\n",
    "    print(row)"
   ]
  },
  {
   "cell_type": "markdown",
   "metadata": {},
   "source": [
    "##### 2.5 Revisión del código de actualizar"
   ]
  },
  {
   "cell_type": "code",
   "execution_count": 28,
   "metadata": {},
   "outputs": [
    {
     "data": {
      "text/html": [
       "<div>\n",
       "<style scoped>\n",
       "    .dataframe tbody tr th:only-of-type {\n",
       "        vertical-align: middle;\n",
       "    }\n",
       "\n",
       "    .dataframe tbody tr th {\n",
       "        vertical-align: top;\n",
       "    }\n",
       "\n",
       "    .dataframe thead th {\n",
       "        text-align: right;\n",
       "    }\n",
       "</style>\n",
       "<table border=\"1\" class=\"dataframe\">\n",
       "  <thead>\n",
       "    <tr style=\"text-align: right;\">\n",
       "      <th></th>\n",
       "      <th>Pasos</th>\n",
       "    </tr>\n",
       "  </thead>\n",
       "  <tbody>\n",
       "    <tr>\n",
       "      <th>Primero</th>\n",
       "      <td>Importar el conector de Python con MySQL.</td>\n",
       "    </tr>\n",
       "    <tr>\n",
       "      <th>Segundo</th>\n",
       "      <td>Con el conector crear un objeto conexión y con la conexión crear un cursor.</td>\n",
       "    </tr>\n",
       "    <tr>\n",
       "      <th>Tercero</th>\n",
       "      <td>Insertar tres tuplas con executemany.</td>\n",
       "    </tr>\n",
       "    <tr>\n",
       "      <th>Cuarto</th>\n",
       "      <td>Imprimir todas las tuplas de la tabla.</td>\n",
       "    </tr>\n",
       "    <tr>\n",
       "      <th>Quinto</th>\n",
       "      <td>Modificar las tuplas</td>\n",
       "    </tr>\n",
       "    <tr>\n",
       "      <th>Sexto</th>\n",
       "      <td>Imprimir todas las tuplas de la tabla.</td>\n",
       "    </tr>\n",
       "  </tbody>\n",
       "</table>\n",
       "</div>"
      ],
      "text/plain": [
       "                                                                               Pasos\n",
       "Primero                                    Importar el conector de Python con MySQL.\n",
       "Segundo  Con el conector crear un objeto conexión y con la conexión crear un cursor.\n",
       "Tercero                                        Insertar tres tuplas con executemany.\n",
       "Cuarto                                        Imprimir todas las tuplas de la tabla.\n",
       "Quinto                                                          Modificar las tuplas\n",
       "Sexto                                         Imprimir todas las tuplas de la tabla."
      ]
     },
     "execution_count": 28,
     "metadata": {},
     "output_type": "execute_result"
    }
   ],
   "source": [
    "import pandas as pd\n",
    "pd.options.display.max_colwidth = 100\n",
    "index_labels=[\"Primero\", \"Segundo\", \"Tercero\", \"Cuarto\", \"Quinto\", \"Sexto\"]\n",
    "filas = [[\"Importar el conector de Python con MySQL.\"],[\"Con el conector crear un objeto conexión y con la conexión crear un cursor.\"], [\"Insertar tres tuplas con executemany.\"],[\"Imprimir todas las tuplas de la tabla.\"], [\"Modificar las tuplas\"],[\"Imprimir todas las tuplas de la tabla.\"]]\n",
    "pd.DataFrame(filas, columns=[\"Pasos\"], index=index_labels)"
   ]
  }
 ],
 "metadata": {
  "kernelspec": {
   "display_name": "Python 3",
   "language": "python",
   "name": "python3"
  },
  "language_info": {
   "codemirror_mode": {
    "name": "ipython",
    "version": 3
   },
   "file_extension": ".py",
   "mimetype": "text/x-python",
   "name": "python",
   "nbconvert_exporter": "python",
   "pygments_lexer": "ipython3",
   "version": "3.8.3"
  }
 },
 "nbformat": 4,
 "nbformat_minor": 4
}
