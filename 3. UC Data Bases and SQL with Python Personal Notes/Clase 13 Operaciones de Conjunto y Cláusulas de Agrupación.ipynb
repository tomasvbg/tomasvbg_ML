{
 "cells": [
  {
   "cell_type": "markdown",
   "metadata": {},
   "source": [
    "### Operaciones de Conjunto y Cláusulas de Agrupación"
   ]
  },
  {
   "cell_type": "markdown",
   "metadata": {},
   "source": [
    "### Índice\n",
    "\n",
    "- Operadores estadísticos\n",
    "\n",
    "- Cláusulas de agrupación\n",
    "\n",
    "- Agrupación selectiva\n",
    "\n",
    "- Orden final\n"
   ]
  },
  {
   "cell_type": "markdown",
   "metadata": {},
   "source": [
    "### Introducción\n",
    "\n",
    "- Motivación\n",
    "\n",
    "- El poder expresivo de SQL\n",
    "\n",
    "- Conjuntos\n",
    "\n",
    "- Agrupaciones"
   ]
  },
  {
   "cell_type": "markdown",
   "metadata": {},
   "source": [
    "### SQL Operadores de Conjunto\n",
    "\n",
    "- Una tabla puede ser vista como un conjunto de tuplas. No hay elementos repetidos.\n",
    "\n",
    "- Es posible usar operadores de conjuntos entre dos tablas o entre los resultados de dos **SELECT**.\n",
    "\n",
    "- SQL standard define: **UNION, INTERSECT, EXCEPT**,sin embargo el motor MySQL solo soporta el operador UNION, siendo posible simular las otras dos mediante recursos de **SELECT**.\n",
    "\n"
   ]
  },
  {
   "cell_type": "markdown",
   "metadata": {},
   "source": [
    "### Ejemplo de UNION\n",
    "\n",
    "Libros que comeinzan con \"B\" o terminan con \"S\"\n",
    "\n",
    "SELECT titulo\n",
    "\n",
    "FROM Libros\n",
    "\n",
    "WHERE titulo LIKE \"B%\"\n",
    "\n",
    "**UNION**\n",
    "\n",
    "SELECT titulo\n",
    "\n",
    "FROM Libros\n",
    "\n",
    "WHERE titulo LIKE \"%S\""
   ]
  },
  {
   "cell_type": "markdown",
   "metadata": {},
   "source": [
    "### Operadores Estadísticos en SQL"
   ]
  },
  {
   "cell_type": "markdown",
   "metadata": {},
   "source": [
    "Los operadores más comines son:\n",
    "    \n",
    "- **AVG** - promedio\n",
    "\n",
    "- **SUM** - la sumatoria\n",
    "\n",
    "- **MIN** - el menor valor\n",
    "\n",
    "- **MAX** - el mayor valor\n",
    "\n",
    "- **COUNT** - el N"
   ]
  },
  {
   "cell_type": "markdown",
   "metadata": {},
   "source": [
    "### Ejemplo Operadores Estadísticos SQL"
   ]
  },
  {
   "cell_type": "markdown",
   "metadata": {},
   "source": [
    "SELECT MIN(sueldo), MAX(sueldo)\n",
    " FROM Personal;\n",
    "\n",
    "SELECT AVG(sueldo)AS Promedio, SUM(Sueldo) AS Total\n",
    " FROM Personal\n",
    "\n",
    "SELECT COUNT (*)AS Empleados\n",
    " FROM Personal"
   ]
  },
  {
   "cell_type": "markdown",
   "metadata": {},
   "source": [
    "### SQL Clausula de Agrupación"
   ]
  },
  {
   "cell_type": "markdown",
   "metadata": {},
   "source": [
    "En ocasiones uno desea efectuar operaciones estadísticas solo sobre grupos de filas.\n",
    "\n",
    "Ejemplo: Tabla con información de epleados que además tiene el cargo como atributo.\n",
    "    \n",
    "Sería interesante entonces, agrupar por cargo:\n",
    "    \n",
    "    - ¿Cuál es el sueldo promedio de un Junior?\n",
    "    \n",
    "    - ¿Cuál es el sueldo promedio de un Ingeniero?\n",
    "    \n",
    "    - ¿Cuántos Junior hay?\n",
    "    \n",
    "    - ¿Cuál es el mayor sueldo para un junior?\n",
    "    \n",
    "    "
   ]
  },
  {
   "cell_type": "markdown",
   "metadata": {},
   "source": [
    "**Ejemplo1:**\n",
    "\n",
    "SELECT cargo,AVG(sueldo)AS Sueldo_Promedio\n",
    "\n",
    "FROM Personal\n",
    "\n",
    "**GROUP BY** cargo; # los operadores de agregación van a operar para el grupo que tome un determinado cargo.\n",
    "\n",
    "***\n",
    "\n",
    "**Ejemplo2:**\n",
    "\n",
    "SELECT cargo,MIN(sueldo) AS Sueldo_Minimo\n",
    "\n",
    "MAX(sueldo)AS Sueldo_Maximo\n",
    "\n",
    "FROM Personal\n",
    "\n",
    "**GROUP BY** cargo; \n"
   ]
  },
  {
   "cell_type": "markdown",
   "metadata": {},
   "source": [
    "### HAVING\n",
    "\n",
    "¿Y si no queremos que aparezcan todas las categorías?\n",
    "\n",
    "Por ejemplo, solo estafetas y juniors o solo los cargos con sieldo promedio sobre 700.000. Para ello se agrega una clausula **HAVING** que discrimina por grupo:"
   ]
  },
  {
   "cell_type": "markdown",
   "metadata": {},
   "source": [
    "**Ejemplo1:**\n",
    "\n",
    "SELECT cargo, AVG(sueldo)AS Sueldo_Promedio\n",
    "\n",
    "FROM Personal\n",
    "\n",
    "GROUPBY cargo\n",
    "\n",
    "**HAVING** cargo = \"estafeta\" OR cargo=\"junior\";\n",
    "\n",
    "***\n",
    "\n",
    "**Ejemplo2:**\n",
    "\n",
    "SELECT cargo,AVG(sueldo)AS Sueldo_Promedio\n",
    "\n",
    "FROM Personal\n",
    "\n",
    "GROUP BY cargo\n",
    "\n",
    "HAVING AVG(sueldo)>700.000;"
   ]
  },
  {
   "cell_type": "markdown",
   "metadata": {},
   "source": [
    "### HAVING no es lo mismo que WHERE\n",
    "\n",
    "WHERE: hace un filtrado de tuplas antes de ser seleccionadas.\n",
    "\n",
    "HAVING: hace una tupla de grupos. Una vez que ya tenemos agrupados los grupos, se define cuáles van a salir y cuaés no."
   ]
  },
  {
   "cell_type": "markdown",
   "metadata": {},
   "source": [
    "### Ordenando el Resultado"
   ]
  },
  {
   "cell_type": "markdown",
   "metadata": {},
   "source": [
    "##### ORDER BY\n",
    "\n",
    "Para que el resultado de una consulta se entregue ordenando de acuerdo a algún atributo, se agrega al final del SELECT la cláusula **ORDER BY**.\n",
    "\n",
    "Se debe especificar el o los atributos usados como criterio, opcionalmente se puede agregar **DESC** si se requiere un ordenamiento descendente."
   ]
  },
  {
   "cell_type": "markdown",
   "metadata": {},
   "source": [
    "**Ejemplo:**\n",
    "\n",
    "SELECT apellido,nombre\n",
    "\n",
    "FROM Personal\n",
    "\n",
    "**ORDER BY** apellido ASC, nombre ASC;"
   ]
  },
  {
   "cell_type": "markdown",
   "metadata": {},
   "source": [
    "### Síntesis\n",
    "\n",
    "- El estándar SQL incluye operaciones de conjunto, unión, intersección y diferencia.\n",
    "\n",
    "- MySQL solo soporta UNION (los otros pueden ser construidos).\n",
    "\n",
    "- Los operadores estadísticos actúan sobre todos los valores de una columna.\n",
    "\n",
    "- Pueden contarse, sumarse, promediarse, o buscar los menores y mayores valores."
   ]
  }
 ],
 "metadata": {
  "kernelspec": {
   "display_name": "Python 3",
   "language": "python",
   "name": "python3"
  },
  "language_info": {
   "codemirror_mode": {
    "name": "ipython",
    "version": 3
   },
   "file_extension": ".py",
   "mimetype": "text/x-python",
   "name": "python",
   "nbconvert_exporter": "python",
   "pygments_lexer": "ipython3",
   "version": "3.8.3"
  }
 },
 "nbformat": 4,
 "nbformat_minor": 4
}
