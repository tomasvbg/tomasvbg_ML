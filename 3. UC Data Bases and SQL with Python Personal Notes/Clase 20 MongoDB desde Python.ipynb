{
 "cells": [
  {
   "cell_type": "markdown",
   "metadata": {},
   "source": [
    "### Índice\n",
    "\n",
    "- Conexión con el motor MongoDB\n",
    "\n",
    "- Agregando información\n",
    "\n",
    "- Buscando información\n",
    "\n",
    "- Sacando información desde una API\n"
   ]
  },
  {
   "cell_type": "markdown",
   "metadata": {},
   "source": [
    "### Conectando con MongoDB\n",
    "\n",
    "- 1. Importar el módulo pymongo (debe estar disponible en su ambiente anaconda)\n",
    "\n",
    "\n",
    "- 2. Generar un objeto cliente invocando el método MongoClient de pymongo.\n",
    "\n",
    "    - Se debe pasar como parámetro el string de conexión, por ejemplo: \"mongodb://localhost:27017\"\n",
    "        \n",
    "    - Se puede obtener una lista de las bases de datos en el motor con cliente.list_database_names()\n",
    "\n",
    "\n",
    "- 3. Obtener una referencia a la base de datos que nos interesa usar con cliente[base_de_datos]\n",
    "\n",
    "\n",
    "- 4. Desde allí se puede hacer todo tipo de cosas con la base de datos, por ejemplo, listar todas las colecciones disponibles con bd.list_collection_names\n",
    "    \n",
    "    "
   ]
  },
  {
   "cell_type": "markdown",
   "metadata": {},
   "source": [
    "##### Ejemplo:\n",
    "\n",
    "import pymongo\n",
    "\n",
    "client = pymongo.MongoClient(\"mongodb://localhost:27017/\")\n",
    "\n",
    "print(client.list_database_names())\n",
    "\n",
    "mydb = client[\"mydatabase\"]\n",
    "\n",
    "print(mydb.list_collection_names)\n"
   ]
  },
  {
   "cell_type": "markdown",
   "metadata": {},
   "source": [
    "### Agregando Informaicón a la Base de Datos\n",
    "\n",
    "#### Crear bdd\n",
    "La referencia al cliente y la referncia a la base de datos operan como diccionarios:\n",
    "miDB = cliente[\"Alguna_Base_de_Datos\"]\n",
    "Si \"Alguna_base_de_Datos\" no existe, se creará (solo cuando agreguemos algo realmente se hará efecrtivo).\n",
    "\n",
    "#### Crear nueva colección \n",
    "\n",
    "Si \"Nueva_Colección\" no existe, se creará “solo cuando agreguemos algo, realmente se hará efectivo.\n",
    "\n",
    "micColeccion = miDB[\"Nueva_Colección\"]\n",
    "\n",
    "#### Insertar un nuevo documento\n",
    "\n",
    "Para insertar un nuevo documento en una colección, se invoca insert_onte() o insert_many() sobre la referencia a la colección.\n",
    "\n",
    "En el primer caso, se le pasa un objeto JSOn, en el segundo una lista de objetos JSON."
   ]
  },
  {
   "cell_type": "markdown",
   "metadata": {},
   "source": [
    "### Find es Select de MongoDB\n",
    "\n",
    "find_one() - devuelve el primer documento de la colección.\n",
    "\n",
    "find() - devuelve todos los documentos de la colección (SELECT*)\n",
    "\n",
    "find puede tomar dos parámetros\n",
    "\n",
    "    - una consulta(query object)\n",
    "    - la estructura de la respuesta (response object)\n",
    "\n",
    "El objeto respuesta es JSON con pares llave valor, en que las llaves corresponden a las de los documentos de la colección y los valores, son 0 y 1 dependiendo si uno quiere que aparezcan o no:\n",
    "    \n",
    "col.find_one({},{_id:0, \"marca\":1})=>{\"marca\":\"toyota\", \",modelo\":\"Yaris\"} \n",
    "\n",
    "col.find_one({},{\"_id\":0,\"marca\":1,\"modelo\":1}) => {\"marca\":\"Toyota\",\"modelo\":\"Yaris\"}\n"
   ]
  },
  {
   "cell_type": "markdown",
   "metadata": {},
   "source": [
    "### Seleccionando documentos en el find\n",
    "\n",
    "El primer argumento del find se interpreta como la consulta.\n",
    "\n",
    "Pueden aparecer pares llave:valor.\n",
    "    \n",
    "**En valor pueden aparecer:**\n",
    "    \n",
    "- Constantes\n",
    "\n",
    "find_one({\"marca\":Mazda},{\"_id\":0})\n",
    "\n",
    "***\n",
    "- Operadores de coparación\n",
    "\n",
    "find_one({\"marca\":{$gt:\"P\"}},{\"_id\":0})\n",
    "    \n",
    "***\n",
    "- Una expresión regular\n",
    "\n",
    "print(col.find_one({\"marca\":{\"$regex\":\\w*z\\w*}},{\"_id\":0}))\n",
    "\n",
    "    "
   ]
  },
  {
   "cell_type": "markdown",
   "metadata": {},
   "source": [
    "### Consultas que entregan más de un documento\n",
    "\n",
    "**Un find puede devolver muchos docuementos por lo que deben ser extraídos con una estructura for:**\n",
    "    \n",
    "**Un find:**\n",
    "\n",
    "for x in col.find({},{\"_id:0\",\"modelo\":0}):\n",
    "    print()\n",
    "\n",
    "**Puede usarse limit(n) para limitar el número de documentos**\n",
    "\n",
    "for x in col.find({\"_id\":0,\"modelo\":0}).skip(2):\n",
    "    print(x)\n",
    "    \n",
    "Puede usarse limit(n) para limitar el número de documentos.\n",
    "\n",
    "for x in col.find({},{\"_id\":0,\"modelo\":0}).limit(2)\n",
    "print(x)\n"
   ]
  },
  {
   "cell_type": "markdown",
   "metadata": {},
   "source": [
    "### Extracción desde una API JSON\n",
    "\n",
    "**Los objetos JSON que entrega la API pueden ser insertados directamente en una colección de Mongo.**\n",
    "\n",
    "- Además de pypongo, se debe importar requests(ya la hemos usado para APIs csv):\n",
    "\n",
    "response = get(\"http://...\")\n",
    "\n",
    "- Junto con ello, se debe importar json:\n",
    "\n",
    "docs = json.loads(response.text)\n",
    "\n",
    "- Los docs recibidos simplemente se insertan en la colección deseada:\n",
    "\n",
    "for documento in docs:\n",
    "    docCol.insert_one(documento)\n"
   ]
  },
  {
   "cell_type": "markdown",
   "metadata": {},
   "source": [
    "### Síntesis\n",
    "\n",
    "- Para conectar un programa Python con un motor de BD, Mongo DB, se debe generar primero un cliente por medio del módulo pymongo.\n",
    "\n",
    "- Con el cliente, se puede crear una nueva BD o conectarse a una existente.\n",
    "\n",
    "- Los objetos JSON se agregan a colecciones determinadas mediante insert_one o insert_many.\n",
    "\n",
    "- Para consultar información se usa la podersa operación find() o find_one().\n",
    "\n",
    "- find() lleva dos parámetros, de los cuales el primero, sirve para especificar el filtro, y el segundo para especificar qué partes de los documentos nos interesan.\n",
    "\n"
   ]
  },
  {
   "cell_type": "code",
   "execution_count": null,
   "metadata": {},
   "outputs": [],
   "source": []
  }
 ],
 "metadata": {
  "kernelspec": {
   "display_name": "Python 3",
   "language": "python",
   "name": "python3"
  },
  "language_info": {
   "codemirror_mode": {
    "name": "ipython",
    "version": 3
   },
   "file_extension": ".py",
   "mimetype": "text/x-python",
   "name": "python",
   "nbconvert_exporter": "python",
   "pygments_lexer": "ipython3",
   "version": "3.8.5"
  }
 },
 "nbformat": 4,
 "nbformat_minor": 4
}
