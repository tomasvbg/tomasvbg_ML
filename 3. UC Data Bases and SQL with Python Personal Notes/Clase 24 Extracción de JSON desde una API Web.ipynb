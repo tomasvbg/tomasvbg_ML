{
 "cells": [
  {
   "cell_type": "markdown",
   "metadata": {},
   "source": [
    "## Extracción de JSON desde una API Web"
   ]
  },
  {
   "cell_type": "markdown",
   "metadata": {},
   "source": [
    "### Índice\n",
    "\n",
    "- Envío de una solicitud HTTP GET\n",
    "\n",
    "- Procesamiento de la respuesta de la API"
   ]
  },
  {
   "cell_type": "markdown",
   "metadata": {},
   "source": [
    "### Ajustes de rutina"
   ]
  },
  {
   "cell_type": "code",
   "execution_count": null,
   "metadata": {},
   "outputs": [],
   "source": [
    "import pymongo\n",
    "import requests #nos permite conectarnos con un sitio web, en este caso con una API web. Lanza método gete para obtener la información desde la API.\n",
    "import json\n",
    "\n",
    "#***Conecto clente y accedo bdd\n",
    "client = pymongo.MongoClient(\"mongodb://localhost:27017/\")\n",
    "mydb = client[\"mydatabase\"]"
   ]
  },
  {
   "cell_type": "markdown",
   "metadata": {},
   "source": [
    "### Envío de una solicitud HTTP GET y Procesamiento de la respuesta de la API\n",
    "\n",
    "requests.get(\"https://jsonplaceholder.typecode.com/todos\")\n",
    "\n",
    "responseJSON = json.loads(response.text) \n",
    "\n",
    "# Visualizo respuesta API y JSON\n",
    "print(reponse.text) #respuesta API.\n",
    "print(responseJSON)#respuesta JSON.\n",
    "\n",
    "#Visualizo solo el título de cada elemento.\n",
    "for t in repsonseJSON:\n",
    "    print(t[\"title\"]) # de cada elemento, quiero el título\n",
    "    "
   ]
  },
  {
   "cell_type": "code",
   "execution_count": null,
   "metadata": {},
   "outputs": [],
   "source": [
    "# Insertamo la respuesta JSON en nuestra BDD\n",
    "laColeccion = mydb[\"todos\"]\n",
    "laColeccion.insert_many(responseJSON) #incorporo en la bdd, todo lo que obtuvimos de la API"
   ]
  },
  {
   "cell_type": "code",
   "execution_count": null,
   "metadata": {},
   "outputs": [],
   "source": [
    "#\n",
    "reponse = requests.get(\"http://raw.githubusercontent.com/bahamas10/css-color.names/master/css\") #nos conectamos con la API y obtenemos el texto.\n",
    "responseJSON =json.loads(reponse.text) #Cargamos el objeto JSON.\n",
    "print(response.text) # Visualizamos lo que nos devuelve la API.\n",
    "print(responseJSON) # Visualizamos el objeto JSON\n",
    "laColeccion = mydb[\"colores]\" # Creamo la colección \"colores\"\n"
   ]
  },
  {
   "cell_type": "code",
   "execution_count": 4,
   "metadata": {},
   "outputs": [
    {
     "data": {
      "text/html": [
       "<div>\n",
       "<style scoped>\n",
       "    .dataframe tbody tr th:only-of-type {\n",
       "        vertical-align: middle;\n",
       "    }\n",
       "\n",
       "    .dataframe tbody tr th {\n",
       "        vertical-align: top;\n",
       "    }\n",
       "\n",
       "    .dataframe thead th {\n",
       "        text-align: right;\n",
       "    }\n",
       "</style>\n",
       "<table border=\"1\" class=\"dataframe\">\n",
       "  <thead>\n",
       "    <tr style=\"text-align: right;\">\n",
       "      <th></th>\n",
       "      <th>Descripción</th>\n",
       "    </tr>\n",
       "  </thead>\n",
       "  <tbody>\n",
       "    <tr>\n",
       "      <th>1</th>\n",
       "      <td>Importar las libre´rias pymongo, json y requests</td>\n",
       "    </tr>\n",
       "    <tr>\n",
       "      <th>2</th>\n",
       "      <td>Usar pymongo para genera un cliente a través d...</td>\n",
       "    </tr>\n",
       "    <tr>\n",
       "      <th>3</th>\n",
       "      <td>Procesamiento de response.txt</td>\n",
       "    </tr>\n",
       "    <tr>\n",
       "      <th>4</th>\n",
       "      <td>Preparación de para ingresar a la BD</td>\n",
       "    </tr>\n",
       "    <tr>\n",
       "      <th>5</th>\n",
       "      <td>Agregar información a la BD</td>\n",
       "    </tr>\n",
       "  </tbody>\n",
       "</table>\n",
       "</div>"
      ],
      "text/plain": [
       "                                         Descripción\n",
       "1   Importar las libre´rias pymongo, json y requests\n",
       "2  Usar pymongo para genera un cliente a través d...\n",
       "3                      Procesamiento de response.txt\n",
       "4               Preparación de para ingresar a la BD\n",
       "5                        Agregar información a la BD"
      ]
     },
     "execution_count": 4,
     "metadata": {},
     "output_type": "execute_result"
    }
   ],
   "source": [
    "dict1= {\"Descripción\":[\"Importar las libre´rias pymongo, json y requests\",\"Usar pymongo para genera un cliente a través de MongoClient\",\"Procesamiento de response.txt\", \"Preparación de para ingresar a la BD\",\"Agregar información a la BD\"]}\n",
    "import pandas as pd\n",
    "pd.DataFrame(dict1, index=[1,2,3,4,5])"
   ]
  },
  {
   "cell_type": "markdown",
   "metadata": {},
   "source": [
    "### Comentario\n",
    "\n",
    "Hay que tener cuidando en saber qué está devolviendo la API, un objeto, una lista de objetos, o qué.."
   ]
  },
  {
   "cell_type": "code",
   "execution_count": null,
   "metadata": {},
   "outputs": [],
   "source": []
  }
 ],
 "metadata": {
  "kernelspec": {
   "display_name": "Python 3",
   "language": "python",
   "name": "python3"
  },
  "language_info": {
   "codemirror_mode": {
    "name": "ipython",
    "version": 3
   },
   "file_extension": ".py",
   "mimetype": "text/x-python",
   "name": "python",
   "nbconvert_exporter": "python",
   "pygments_lexer": "ipython3",
   "version": "3.8.3"
  }
 },
 "nbformat": 4,
 "nbformat_minor": 4
}
