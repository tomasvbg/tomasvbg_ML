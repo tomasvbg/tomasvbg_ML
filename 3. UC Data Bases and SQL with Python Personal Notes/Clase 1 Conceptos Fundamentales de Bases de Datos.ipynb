{
 "cells": [
  {
   "cell_type": "markdown",
   "metadata": {},
   "source": [
    "### Clase 1 Conceptos Fundamentales de Bases de Datos"
   ]
  },
  {
   "cell_type": "markdown",
   "metadata": {},
   "source": [
    "### Índice\n",
    "\n",
    "- Set de Datos\n",
    "- Base de Datos\n",
    "- Motor de Base de Datos\n",
    "\n",
    "\n",
    "- Modelo de datos genéricos:\n",
    "    - Modelo relacional\n",
    "    - Modelo de documentos\n",
    "    \n",
    "    \n",
    "- ¿Qué es una base de datos y qué la diferencia con un set de datos?\n",
    "- ¿Por qué es importante saber cómo interactuar con ellas?\n",
    "- ¿Qué es un modelo de datos y cómo estos nos ayudan a entender la complejidad?\n",
    "- ¿Qué es y cómo funciona el modelo relacional? el modelo de datos más usado en la actualidad."
   ]
  },
  {
   "cell_type": "markdown",
   "metadata": {},
   "source": [
    "### Set de datos (Data Set)\n"
   ]
  },
  {
   "cell_type": "markdown",
   "metadata": {},
   "source": [
    "- Conjunto **Estático** de datos, almacenados en uno o más archivos simples.\n",
    "- Puede ser más de un archivo o documento."
   ]
  },
  {
   "cell_type": "markdown",
   "metadata": {},
   "source": [
    "### Base de Datos y Motor de Base de Datos"
   ]
  },
  {
   "cell_type": "markdown",
   "metadata": {},
   "source": [
    "**Una base de datos es dinámica**:\n",
    "    - Pueden agregarse o eliminarse datos muy rápidamente.\n",
    "    \n",
    "    - Puede modificarse la información.\n",
    "    \n",
    "    - Puede hacerse consultas complejas sobre la información en ella.\n",
    "\n",
    "**Todas estas acciones se realizan gracias al Motor de Base de Datos**\n",
    "    - Un software que regula el acceso, y permite consultar o modificar los datos."
   ]
  },
  {
   "cell_type": "markdown",
   "metadata": {},
   "source": [
    "### El Motor intermedia entre el usuario y la Base de Datos\n",
    "\n",
    "**Un usuario con autorización, usando un programa o lenguaje de consultas, puede:**\n",
    "    - Crear una base de datos  (código binario) y cargarla con información inicial.\n",
    "    \n",
    "    - Hacer consultas sobre la información almacenada.\n",
    "    \n",
    "    - Agregar nueva información.\n",
    "    \n",
    "    - Modificar o almacenar la información almacenada.\n",
    "    "
   ]
  },
  {
   "cell_type": "markdown",
   "metadata": {},
   "source": [
    "### Modelos de Datos\n",
    "\n",
    "- Un modelo de datos es una abstracción de alto nivel.\n",
    "\n",
    "- Una representación de lo datos que permiten razonar de forma más sencilla.\n",
    "\n",
    "- Un modelo genérico es una suerte de paradigma:\n",
    "    - Modelo Relacional - todo es una tabla.\n",
    "    - Modelo de documentos - todo es un documento.\n",
    "    "
   ]
  },
  {
   "cell_type": "markdown",
   "metadata": {},
   "source": [
    "### Ejemplo Modelo Relacional\n",
    "\n",
    "- Utiliza dos tablas para evitar la redundancia.\n",
    "\n",
    "- La **clave primaria** permite identificar en forma única una fila.\n",
    "\n",
    "- La **clave primaria** relaciona un atributo de una tabla con la clave primaria de otra.\n"
   ]
  },
  {
   "cell_type": "markdown",
   "metadata": {},
   "source": [
    "Ejemplo de Modelo de Documentos\n",
    "\n",
    "- Un documento es más flexible que una tabla.\n",
    "\n",
    "- No todos los documentos deben tener la misma estructura, cada uno tiene un atributo (id) que lo identifica, pudiendo ser complejos y estructuras de varios elementos.\n"
   ]
  },
  {
   "cell_type": "markdown",
   "metadata": {},
   "source": [
    "### Síntesis\n",
    "\n",
    "- Data set es uno o más archivos con información tabulada.\n",
    "- Una base de datos es un conjunto de datos que cambia dinámicamente, gestionada por una pieza de software que llamamos \"motor\".\n",
    "- Los datos se conceptualizan en forma de modelos genéricos.\n",
    "- Los modelos más usados son el relacional (todo es una tabla) y el de documentos (todo es un documento).\n",
    "- Cada motor implementa un determinado modelo genérico."
   ]
  }
 ],
 "metadata": {
  "kernelspec": {
   "display_name": "Python 3",
   "language": "python",
   "name": "python3"
  },
  "language_info": {
   "codemirror_mode": {
    "name": "ipython",
    "version": 3
   },
   "file_extension": ".py",
   "mimetype": "text/x-python",
   "name": "python",
   "nbconvert_exporter": "python",
   "pygments_lexer": "ipython3",
   "version": "3.8.5"
  }
 },
 "nbformat": 4,
 "nbformat_minor": 4
}
