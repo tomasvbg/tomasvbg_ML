{
 "cells": [
  {
   "cell_type": "markdown",
   "metadata": {},
   "source": [
    "### Clase 5 Creación de una base de datos desde Python\n",
    "\n"
   ]
  },
  {
   "cell_type": "markdown",
   "metadata": {},
   "source": [
    "##### Proceso 1: conectarse a la base de datos mediante el motor\n",
    "\n",
    "El primero proceso tiene como finalidad conectar, mediante instrucciones de python el motor de bases de datos, con la base de datos. Para esto:\n",
    "\n",
    "1. Importamos un conector que nos permita accesar la base de datos.\n",
    "\n",
    "2. Creamos una conexión al mismo tiempo que la accesamos con el conector.\n",
    "\n",
    "3. Una vez que hemos accedido a la bdd, creamos un cursor que nos permitirá interactuar con la bdd, mediante el lenguaje SQL.\n",
    "\n",
    "*** Este proceso debemos realizarlo obligatoriamente antes de poder comenzar a escribir cualquier tipo de query. De otra forma estaríamos escribiendo queries sin interactuar con la bdd.***"
   ]
  },
  {
   "cell_type": "markdown",
   "metadata": {},
   "source": [
    "\n",
    "\n",
    "##### 1.1 Importar el conector\n",
    "\n",
    "- Un **conector** es un estándar de acceso a las bases de datos desarrollado por SQL Access Group en 1992. \n",
    "\n",
    "- El propósito de esta capa es traducir las consultas de datos de la aplicación en comandos que el motor de base de datos entienda.\n",
    "\n",
    "import mysql.connector as db"
   ]
  },
  {
   "cell_type": "markdown",
   "metadata": {},
   "source": [
    "##### 2.2 Crear la conexión\n",
    "\n",
    "mydb = db.connect(\n",
    "\n",
    "host = \"localhost\",\n",
    "\n",
    "user = \"root\",\n",
    "\n",
    "password = \"password\",\n",
    "\n",
    "database = \" \"\n"
   ]
  },
  {
   "cell_type": "markdown",
   "metadata": {},
   "source": [
    "##### 1.3 Crear cursor\n",
    "\n",
    "Objeto python que permite interactuar con el motor.\n",
    "\n",
    "my_cursor = mydb.cursor() "
   ]
  },
  {
   "cell_type": "markdown",
   "metadata": {},
   "source": [
    "###  2. Creación de la sentencia SQL que quiero ejecutar"
   ]
  },
  {
   "cell_type": "markdown",
   "metadata": {},
   "source": [
    "sqlsentence = \"CREATE DATABASE newDatabase\"\n",
    "\n",
    "my_cursor.execute(sqlsentence)"
   ]
  },
  {
   "cell_type": "markdown",
   "metadata": {},
   "source": [
    "##### Síntesis: Estructura general del programa:"
   ]
  },
  {
   "cell_type": "markdown",
   "metadata": {},
   "source": [
    "1. Importamos el conector de python con MySQL.\n",
    "\n",
    "2. Con el conector, creamos un objeto conexión.\n",
    "\n",
    "3. Con la conexión, creamos un objeto cursor.\n",
    "\n",
    "4. Invocamos la operación execute sobre el objeto cursor, pasando como parámetro la sentencia SQL, que queremos ejecutar sobre la bdd."
   ]
  },
  {
   "cell_type": "code",
   "execution_count": null,
   "metadata": {},
   "outputs": [],
   "source": []
  }
 ],
 "metadata": {
  "kernelspec": {
   "display_name": "Python 3",
   "language": "python",
   "name": "python3"
  },
  "language_info": {
   "codemirror_mode": {
    "name": "ipython",
    "version": 3
   },
   "file_extension": ".py",
   "mimetype": "text/x-python",
   "name": "python",
   "nbconvert_exporter": "python",
   "pygments_lexer": "ipython3",
   "version": "3.8.5"
  }
 },
 "nbformat": 4,
 "nbformat_minor": 4
}
