{
 "cells": [
  {
   "cell_type": "markdown",
   "metadata": {},
   "source": [
    "### Procesamiento de JSON desde Python"
   ]
  },
  {
   "cell_type": "code",
   "execution_count": null,
   "metadata": {},
   "outputs": [],
   "source": [
    "import json #librería que nos ayuda a procesar contenido json\n",
    "import pymongo #motor bdd no relacional"
   ]
  },
  {
   "cell_type": "code",
   "execution_count": null,
   "metadata": {},
   "outputs": [],
   "source": [
    "client = pymongo.MongoClient(\"mongodb://localhost:27017\") # obtenemos el cliente de mongo\n",
    "mydb = client[\"mydatabase\"] # indicamos la bdd con la que trabajaremos\n",
    "line=\"--------------------------------------------------\""
   ]
  },
  {
   "cell_type": "code",
   "execution_count": null,
   "metadata": {},
   "outputs": [],
   "source": [
    "eltexto = '{\"name\":{\"first\":\"Jaime\", \"last:\"Lopez}, \"age\":30, \"city\":[\"New York\", \"Chicago\"]}'\n",
    "\n",
    "# Métodos de la librería json\n",
    "elString = json.dumps(elTexto) #tira el texto como un string\n",
    "elJason = json.loads(elTexto) #carga como JSON un texto\n",
    "print(elString)\n",
    "print(elJason)\n",
    "\n",
    "# Una vez cargado el texto como json, lo puedo referir\n",
    "print(elJason[\"name\"][\"first\"])\n",
    "print(elJason[\"age\"])\n",
    "print(line)"
   ]
  },
  {
   "cell_type": "markdown",
   "metadata": {},
   "source": [
    "### Cómo se trabaja la respuesta desde una api?"
   ]
  },
  {
   "cell_type": "code",
   "execution_count": null,
   "metadata": {},
   "outputs": [],
   "source": [
    "# Una Api devuelve un texto. Primero siempre dirá \"status\":\"succes\". No puedo consultar directamente la Api.\n",
    "\n",
    "elJason = json.loads(ApiResponse) #\n",
    "print(elJason)\n",
    "print(elJason[\"data\"]) # la lista que nos interesa, se encuentra en la llave \"data\"."
   ]
  },
  {
   "cell_type": "code",
   "execution_count": null,
   "metadata": {},
   "outputs": [],
   "source": [
    "col = mydb[\"empleados\"] #hago la referencia a la colección que me interesa \"empleados\".\n",
    "ret = col.insert_many(elJason[\"data\"]) #hago un insert many, pasándole la lista de objetod en col.\n",
    "\n",
    "for x in col.find({\"id\":0,\"id\":0}): #para asegurarnos de que la operación se realizó, imprimimos la selección.\n",
    "    print(x)"
   ]
  },
  {
   "cell_type": "code",
   "execution_count": 21,
   "metadata": {},
   "outputs": [
    {
     "data": {
      "text/html": [
       "<div>\n",
       "<style scoped>\n",
       "    .dataframe tbody tr th:only-of-type {\n",
       "        vertical-align: middle;\n",
       "    }\n",
       "\n",
       "    .dataframe tbody tr th {\n",
       "        vertical-align: top;\n",
       "    }\n",
       "\n",
       "    .dataframe thead th {\n",
       "        text-align: right;\n",
       "    }\n",
       "</style>\n",
       "<table border=\"1\" class=\"dataframe\">\n",
       "  <thead>\n",
       "    <tr style=\"text-align: right;\">\n",
       "      <th></th>\n",
       "      <th>Descripción</th>\n",
       "    </tr>\n",
       "    <tr>\n",
       "      <th>Pasos</th>\n",
       "      <th></th>\n",
       "    </tr>\n",
       "  </thead>\n",
       "  <tbody>\n",
       "    <tr>\n",
       "      <th>1</th>\n",
       "      <td>Importar las librerías pymongo y json</td>\n",
       "    </tr>\n",
       "    <tr>\n",
       "      <th>2</th>\n",
       "      <td>Usar pymongo para generar un cliente a través ...</td>\n",
       "    </tr>\n",
       "    <tr>\n",
       "      <th>3</th>\n",
       "      <td>Uso de json.dumps y de json.loads</td>\n",
       "    </tr>\n",
       "    <tr>\n",
       "      <th>4</th>\n",
       "      <td>Procesamiento de respuesta de API JSON</td>\n",
       "    </tr>\n",
       "    <tr>\n",
       "      <th>5</th>\n",
       "      <td>Preparación para ingresar JSON a la BD</td>\n",
       "    </tr>\n",
       "    <tr>\n",
       "      <th>6</th>\n",
       "      <td>Agregar información a la BD</td>\n",
       "    </tr>\n",
       "  </tbody>\n",
       "</table>\n",
       "</div>"
      ],
      "text/plain": [
       "                                             Descripción\n",
       "Pasos                                                   \n",
       "1                  Importar las librerías pymongo y json\n",
       "2      Usar pymongo para generar un cliente a través ...\n",
       "3                      Uso de json.dumps y de json.loads\n",
       "4                 Procesamiento de respuesta de API JSON\n",
       "5                 Preparación para ingresar JSON a la BD\n",
       "6                            Agregar información a la BD"
      ]
     },
     "execution_count": 21,
     "metadata": {},
     "output_type": "execute_result"
    }
   ],
   "source": [
    "import pandas as pd\n",
    "col1 = [\"Importar las librerías pymongo y json\", \"Usar pymongo para generar un cliente a través de MongoClient()\", \"Uso de json.dumps y de json.loads\", \"Procesamiento de respuesta de API JSON\", \"Preparación para ingresar JSON a la BD\",\"Agregar información a la BD\"]\n",
    "index1 = [1,2,3,4,5,6]\n",
    "df = pd.DataFrame(col1, index=index1)\n",
    "df.index.name = 'Pasos'\n",
    "df.rename(columns={0: 'Descripción'})"
   ]
  }
 ],
 "metadata": {
  "kernelspec": {
   "display_name": "Python 3",
   "language": "python",
   "name": "python3"
  },
  "language_info": {
   "codemirror_mode": {
    "name": "ipython",
    "version": 3
   },
   "file_extension": ".py",
   "mimetype": "text/x-python",
   "name": "python",
   "nbconvert_exporter": "python",
   "pygments_lexer": "ipython3",
   "version": "3.8.3"
  }
 },
 "nbformat": 4,
 "nbformat_minor": 4
}
