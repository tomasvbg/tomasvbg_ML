{
 "cells": [
  {
   "cell_type": "markdown",
   "metadata": {},
   "source": [
    "# Transacciones en Bases de Datos"
   ]
  },
  {
   "cell_type": "markdown",
   "metadata": {},
   "source": [
    "### 1. Introducción\n",
    "\n",
    "- La necesidad de transacciones\n",
    "\n",
    "- Escenarios de acceso concurrente\n",
    "\n",
    "- Propiedades \"ácidas\"\n",
    "\n",
    "- Soporte en SQL y en los motores"
   ]
  },
  {
   "cell_type": "markdown",
   "metadata": {},
   "source": [
    "### 2. Problemas en escenario de acceso concurrente a la Base de Datos\n",
    "\n",
    "- Las acciones que un usuario realiza no debiesen interferir con aquellas que otro usuario realiza sobre la misma base de datos.\n",
    "\n",
    "- En ocasiones es necesario asegurar que un grupo de acciones sobre la base de datos se ejecuten en forma completa o total.\n",
    "\n",
    "- La idea de transacción, es un grupo de acciones sobre la bdd que ejecuta como un todo, sin interferir en accionas de otros usuarios."
   ]
  },
  {
   "cell_type": "markdown",
   "metadata": {},
   "source": [
    "### 3. Propiedades \"ácidas\" de la transacción (ACID)"
   ]
  },
  {
   "cell_type": "markdown",
   "metadata": {},
   "source": [
    "A. Atómic: unidad indivisible. No se puede ejecutar parte de una transacción.\n",
    "    \n",
    "C. Consistent: lleva la bdd de un estado consistente a otro.\n",
    "    \n",
    "I. Isolated: de lo que hacen otros simultáneamente. Que no se interfiera con otro usuario.\n",
    "    \n",
    "D. Durable: los cambios realizados son definitivos.\n",
    "    "
   ]
  },
  {
   "cell_type": "markdown",
   "metadata": {},
   "source": [
    "### 4. Implementación de Idea de Transacción"
   ]
  },
  {
   "cell_type": "markdown",
   "metadata": {},
   "source": [
    "##### Commit y Rollback\n",
    "\n",
    "**Para implementar transacciones atómicas es necesario que el motor de base de datos sea capaz de deshacer acciones, indicar el comienzo de una transacción y el momento en que queremos que los cambios sean definitivos.**\n",
    "\n",
    "- **Start Transaction**: inicio de la unidad atómica.\n",
    "    \n",
    "- **Rollback**: todo lo que se ha hecho debe ser deshecho.\n",
    "    \n",
    "- **Commit**: todo lo que de ha hecho queda en forma definitiva en la bdd."
   ]
  },
  {
   "cell_type": "markdown",
   "metadata": {},
   "source": [
    "**Ejemplo1:**\n",
    "    \n",
    "START TRANSACTION;\n",
    "\n",
    "INSERT INTO table1 VALUES(val1,val2);\n",
    "\n",
    "INSERT INTO table1 VALUES(val3,val4);\n",
    "\n",
    "COMMIT; #hacemos definitiva la transacción.\n",
    "  \n",
    "  \n",
    "**Ejemplo2:**\n",
    "\n",
    "START TRANSACTION;\n",
    "\n",
    "INSERT INTO table1 VALUES(val5,val6);\n",
    "\n",
    "INSERT INTO table1 VALUES(val7,val8);\n",
    "\n",
    "ROLLBACK; #reculamos la transacción. ROLLBACK deshace todo lo hecho desde START TRANSACTION."
   ]
  },
  {
   "cell_type": "markdown",
   "metadata": {},
   "source": [
    "### 5. Automatic Commits\n",
    "\n",
    "Hay instrucciones SQL que generan automáticamente un commit(implícito), entre ellas:\n",
    "    \n",
    "    - ALTER/DROP TABLE\n",
    "    - CREATE/DROP INDEX\n",
    "    - RENAME TABLE\n",
    "    - TRUNCATE TABLE\n",
    "    - START TRANSACTION"
   ]
  },
  {
   "cell_type": "markdown",
   "metadata": {},
   "source": [
    "### 6. El Modo Autocommit\n",
    "\n",
    "**Autocommit on**\n",
    "\n",
    "Cada sentencia SQL hace un commit automático.\n",
    "\n",
    "SET AUTOCOMMIT = 1\n",
    "\n",
    "**Autocommit off**\n",
    "\n",
    "Ser requiere iniciar con START TRANSACTION y terminar con COMMIT:\n",
    "\n",
    "SET AUTOCOMMIT = 0\n"
   ]
  },
  {
   "cell_type": "markdown",
   "metadata": {},
   "source": [
    "### 7. Controlando el nivel de aislación\n",
    "\n",
    "- El nivel de aislación máximo es equivalente a un usuario trabajando solo.\n",
    "\n",
    "- Si yo hago que no exista ninguna posibilidad que se moleste un usuario con otro, va a ocurrir que muchas acciones de un usuario quedarán detenidas hasta que el otro termine. \n",
    "\n",
    "- No siempre es necesario un nivel total de aislación, es posible admitir flexibilidad.\n",
    "\n",
    "- El grado de aislación influye en el nivel de concurrencia.\n",
    "\n",
    "- No es absolutamente necesario que una transacción opere como si fuese la única que lo hace(el más alto grado).\n",
    "\n",
    "**El nivel de aislación queda definido por el tipo de problema o anomalía de ocurrencia que permito o evita**\n",
    "    \n",
    "    - Problema de Lecturas Sucias: lecturas de información que no está consolidada (puede haber un rollback de parte de alguno de los usuarios que afecte una transacción de otro usuario).\n",
    "    \n",
    "    - Problema de Lecturas No repetibles: un usuario consulta un valor dos veces, intermediadas estas consultas por cambios de otro usuario, guardados con commit.\n",
    "    \n",
    "    - Problema de Lecturas Fantasmas: consultas que al repetirse entregan tuplas que no existían antes.\n"
   ]
  },
  {
   "cell_type": "markdown",
   "metadata": {},
   "source": [
    "### 8. Nivel de islación\n",
    "\n",
    "SET TRANSACTION ISOLATION LEVEL {nivel deseado}\n",
    "\n",
    "- A mayor nivel de aislación, menor es la concurrencia."
   ]
  },
  {
   "cell_type": "code",
   "execution_count": 15,
   "metadata": {},
   "outputs": [
    {
     "data": {
      "text/html": [
       "<div>\n",
       "<style scoped>\n",
       "    .dataframe tbody tr th:only-of-type {\n",
       "        vertical-align: middle;\n",
       "    }\n",
       "\n",
       "    .dataframe tbody tr th {\n",
       "        vertical-align: top;\n",
       "    }\n",
       "\n",
       "    .dataframe thead th {\n",
       "        text-align: right;\n",
       "    }\n",
       "</style>\n",
       "<table border=\"1\" class=\"dataframe\">\n",
       "  <thead>\n",
       "    <tr style=\"text-align: right;\">\n",
       "      <th></th>\n",
       "      <th>Lectura sucia</th>\n",
       "      <th>Lectura no repetible</th>\n",
       "      <th>Lectura Fantasma</th>\n",
       "    </tr>\n",
       "  </thead>\n",
       "  <tbody>\n",
       "    <tr>\n",
       "      <th>Read UNCOMMITTED</th>\n",
       "      <td>si</td>\n",
       "      <td>si</td>\n",
       "      <td>si</td>\n",
       "    </tr>\n",
       "    <tr>\n",
       "      <th>READ COMMITED</th>\n",
       "      <td>no</td>\n",
       "      <td>si</td>\n",
       "      <td>si</td>\n",
       "    </tr>\n",
       "    <tr>\n",
       "      <th>REPEATABLE READ</th>\n",
       "      <td>no</td>\n",
       "      <td>no</td>\n",
       "      <td>si</td>\n",
       "    </tr>\n",
       "    <tr>\n",
       "      <th>SERIALIZABLE</th>\n",
       "      <td>no</td>\n",
       "      <td>no</td>\n",
       "      <td>no</td>\n",
       "    </tr>\n",
       "  </tbody>\n",
       "</table>\n",
       "</div>"
      ],
      "text/plain": [
       "                 Lectura sucia Lectura no repetible Lectura Fantasma\n",
       "Read UNCOMMITTED            si                   si               si\n",
       "READ COMMITED               no                   si               si\n",
       "REPEATABLE READ             no                   no               si\n",
       "SERIALIZABLE                no                   no               no"
      ]
     },
     "execution_count": 15,
     "metadata": {},
     "output_type": "execute_result"
    }
   ],
   "source": [
    "import pandas as pd\n",
    "\n",
    "index_list = [\"Read UNCOMMITTED\", \"READ COMMITED\", \"REPEATABLE READ\", \"SERIALIZABLE\"]\n",
    "\n",
    "listoflist = [[\"si\", \"si\" ,\"si\"],[\"no\",\"si\",\"si\"],[\"no\",\"no\",\"si\"],[\"no\",\"no\",\"no\"]]\n",
    "df = pd.DataFrame(listoflist,columns=[\"Lectura sucia\", \"Lectura no repetible\", \"Lectura Fantasma\"],index=index_list,)\n",
    "df"
   ]
  },
  {
   "cell_type": "markdown",
   "metadata": {},
   "source": [
    "### 9. Síntesis\n",
    "\n",
    "- Una transacción es una unidad de trabajo atómica indivisible.\n",
    "\n",
    "- La transacción lleva a la base de datos de un estado consistente a otro.\n",
    "\n",
    "- Se caracteriza por propiedades **ACID**.\n",
    "\n",
    "- Implementación en la base de operaciones **COMMIT y ROLLBACK**"
   ]
  }
 ],
 "metadata": {
  "kernelspec": {
   "display_name": "Python 3",
   "language": "python",
   "name": "python3"
  },
  "language_info": {
   "codemirror_mode": {
    "name": "ipython",
    "version": 3
   },
   "file_extension": ".py",
   "mimetype": "text/x-python",
   "name": "python",
   "nbconvert_exporter": "python",
   "pygments_lexer": "ipython3",
   "version": "3.8.3"
  }
 },
 "nbformat": 4,
 "nbformat_minor": 4
}
