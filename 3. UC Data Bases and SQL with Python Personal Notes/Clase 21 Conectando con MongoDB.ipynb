{
 "cells": [
  {
   "cell_type": "markdown",
   "metadata": {},
   "source": [
    "# Conectando con MongoDB"
   ]
  },
  {
   "cell_type": "markdown",
   "metadata": {},
   "source": [
    "### Índice\n",
    "\n",
    "- Establecer una conexión con el motor MongoDB\n",
    "\n",
    "- Seleccionar una base de datos\n",
    "\n",
    "- Seleccionar una colección de la base de datos"
   ]
  },
  {
   "cell_type": "code",
   "execution_count": null,
   "metadata": {},
   "outputs": [],
   "source": [
    "# importamos el módulo\n",
    "import pymongo\n",
    "\n",
    "# creamos un cliente que interactuará con el motor\n",
    "client = pymongo.MongoClient(\"monodb://localhost:27017/\") #le pasamos un puerto standard\n",
    "\n",
    "# consultamos las bases de datos\n",
    "print(client.list_database_names()) # le pedimos al cliente que imprima una lista con todas la bases de datos\n",
    "\n",
    "# consultamos una colección dentro de una bdd\n",
    "mydb = cliente[\"mydatabase\"] # le pedimos al cliente la base de datos que queremos (como si fuese un diccionario)\n",
    "print(mydb.list_collection_names) # le pedimos al cliente que imprima una lista con la colección de la base de datos\n",
    "\n",
    "\n",
    "# Creación de bdd y colección\n",
    "mydb = client[\"curso\"] # esta bdd no existe, por lo que MongoDB la crea (aparece recién al recibir elementos)\n",
    "colec = mydb[\"miColeccion\"] # esta colección no existe, por lo que MongoDB la crea la crea\n",
    "\n",
    "# Una vez que ya tengo la colección creada, puedo generar operaciones sobre ésta\n",
    "#ejemplos:\n",
    "colec.insert_one({\"x\":10, \"y\":20}) #inserto un documento (x e y son coordenadas)\n",
    "colec.insert_one({\"x\":35, \"y\":80})\n",
    "\n",
    "\n",
    "# bdd, colección, documentos"
   ]
  },
  {
   "cell_type": "code",
   "execution_count": 10,
   "metadata": {},
   "outputs": [
    {
     "data": {
      "text/html": [
       "<div>\n",
       "<style scoped>\n",
       "    .dataframe tbody tr th:only-of-type {\n",
       "        vertical-align: middle;\n",
       "    }\n",
       "\n",
       "    .dataframe tbody tr th {\n",
       "        vertical-align: top;\n",
       "    }\n",
       "\n",
       "    .dataframe thead th {\n",
       "        text-align: right;\n",
       "    }\n",
       "</style>\n",
       "<table border=\"1\" class=\"dataframe\">\n",
       "  <thead>\n",
       "    <tr style=\"text-align: right;\">\n",
       "      <th></th>\n",
       "      <th>Pasos</th>\n",
       "    </tr>\n",
       "  </thead>\n",
       "  <tbody>\n",
       "    <tr>\n",
       "      <th>1</th>\n",
       "      <td>Importar la librería pymongo</td>\n",
       "    </tr>\n",
       "    <tr>\n",
       "      <th>2</th>\n",
       "      <td>Usar pymongo para generar un cliente a travñes...</td>\n",
       "    </tr>\n",
       "    <tr>\n",
       "      <th>3</th>\n",
       "      <td>Seleccionar la BD con que nos interesa operar</td>\n",
       "    </tr>\n",
       "    <tr>\n",
       "      <th>4</th>\n",
       "      <td>Invocar operaciones sobre la colección</td>\n",
       "    </tr>\n",
       "  </tbody>\n",
       "</table>\n",
       "</div>"
      ],
      "text/plain": [
       "                                               Pasos\n",
       "1                       Importar la librería pymongo\n",
       "2  Usar pymongo para generar un cliente a travñes...\n",
       "3      Seleccionar la BD con que nos interesa operar\n",
       "4             Invocar operaciones sobre la colección"
      ]
     },
     "execution_count": 10,
     "metadata": {},
     "output_type": "execute_result"
    }
   ],
   "source": [
    "import pandas as pd\n",
    "columnas = {\"Pasos\":[\"Importar la librería pymongo\",\"Usar pymongo para generar un cliente a travñes de MOngoClient()\",\"Seleccionar la BD con que nos interesa operar\",\"Invocar operaciones sobre la colección\"]}\n",
    "pd.DataFrame(columnas,index=[1,2,3,4])"
   ]
  }
 ],
 "metadata": {
  "kernelspec": {
   "display_name": "Python 3",
   "language": "python",
   "name": "python3"
  },
  "language_info": {
   "codemirror_mode": {
    "name": "ipython",
    "version": 3
   },
   "file_extension": ".py",
   "mimetype": "text/x-python",
   "name": "python",
   "nbconvert_exporter": "python",
   "pygments_lexer": "ipython3",
   "version": "3.8.3"
  }
 },
 "nbformat": 4,
 "nbformat_minor": 4
}
