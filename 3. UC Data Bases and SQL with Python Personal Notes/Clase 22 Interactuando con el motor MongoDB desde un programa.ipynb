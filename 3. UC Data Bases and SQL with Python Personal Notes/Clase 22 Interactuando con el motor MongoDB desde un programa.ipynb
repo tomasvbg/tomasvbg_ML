{
 "cells": [
  {
   "cell_type": "markdown",
   "metadata": {},
   "source": [
    "# Índice\n",
    "\n",
    "- Cómo agregar información a una colección de la base de datos.\n",
    "\n",
    "- Cómo extraer información seleccionada desde una colección."
   ]
  },
  {
   "cell_type": "markdown",
   "metadata": {},
   "source": [
    "### 1. Conectamos el cliente y la bdd, creamos una colección"
   ]
  },
  {
   "cell_type": "code",
   "execution_count": null,
   "metadata": {},
   "outputs": [],
   "source": [
    "import pymongo\n",
    "\n",
    "client = pymongo.MongoClient(\"mongodb//localhost:27017/\")\n",
    "print(client.list_database_names())\n",
    "mydb = client[\"mydatabase\"]\n",
    "col = mydb[\"cars\"]\n",
    "print(mydb.list_collection_names())\n",
    "line =\"-------------------------------------------------------\"\n"
   ]
  },
  {
   "cell_type": "markdown",
   "metadata": {},
   "source": [
    "### 2. Insertar un documento"
   ]
  },
  {
   "cell_type": "code",
   "execution_count": null,
   "metadata": {},
   "outputs": [],
   "source": [
    "mycar = {\"_id\":1, \"marca\":\"Toyota\", \"modelo\": \"Corolla\", \"agno\":\"2011\"}\n",
    "col.insert_one(mycar)]"
   ]
  },
  {
   "cell_type": "markdown",
   "metadata": {},
   "source": [
    "### 3.Insertar más de un documento "
   ]
  },
  {
   "cell_type": "code",
   "execution_count": null,
   "metadata": {},
   "outputs": [],
   "source": [
    "morecars = [{\"_id\":2, \"marca\":\"Toyota\", \"modelo\":\"Yaris\", \"agno\":2014},\\\n",
    "           {\"_id\":3}, \"marca\":\"Mazda\", \"modelo\":\"3\", \"agno\":\"2019\",\\\n",
    "           {\"_id\":4}, \"marca\":\"Suzuki\", \"modelo\":\"Swift\", \"agno\":\"2017\",\\\n",
    "\n",
    "col.insert_many(morecars)"
   ]
  },
  {
   "cell_type": "markdown",
   "metadata": {},
   "source": [
    "### 4. Extraer información de la BD con find_one\n",
    "\n",
    "find_one entrega el primer elemento que encuentra sobre la colección indicada.\n",
    "\n",
    "Como parámetros, find_one recibe: primero, un filtro; segundo, especificaciones de omisión (con cero).\n"
   ]
  },
  {
   "cell_type": "code",
   "execution_count": null,
   "metadata": {},
   "outputs": [],
   "source": [
    "print(line)\n",
    "print(col.find_one({\"marca\":\"Mazda\"},{\"id\":0, \"modelo\":0})) \n",
    "\n",
    "\n",
    "print(line)\n",
    "print(col.find_one({\"marca\":{\"$sgt\":\"P\"}}, {\"_id\":0}))\n",
    "# en este caso la condición aplica un comparador de comparacón (greater than P); luego las omisiones\n",
    "\n",
    "print(line)\n",
    "print(col.find_one({\"marca\":{\"$regex\":\"\\w*z\\w*\"}},{\"_id\":0}))\n",
    "# en este caso, el primer argumento es una expresión regular(una especie de comodin)donde: \\w* es equivalente al % SQL, en este caso cualquiera que tenga un z. Luego las omisiones.\n",
    "\n"
   ]
  },
  {
   "cell_type": "code",
   "execution_count": null,
   "metadata": {},
   "outputs": [],
   "source": [
    "### 4. Extraer información de la BD con find\n",
    "\n",
    "**Como parámetros, find recibe:**\n",
    "\n",
    "**Primero**: el criterio de selección:\n",
    "Ejempo:\n",
    "    {\"marca\":\"Mazda\"}\n",
    "    o\n",
    "    {}\n",
    "    o\n",
    "    {\"año\":{\"$gt:2018\"}}\n",
    "    o\n",
    "    {\"marca\":{\"$regex\":M\\w*}}\n",
    "\n",
    "    \n",
    "**Segundo**: lo deseado del o los documento(s)\n",
    "Ejemplo:\n",
    "    {\"_id\":\"0\"}\n",
    "    o\n",
    "    {\"marca\":1,\"modelo\":\"1\"} # quiero que aparezca\n",
    "    o\n",
    "    {\"marca\":0, \"modelo\":0} # no quiero que aparezca\n",
    "    o\n",
    "    {\"_id\":1,\"marca\":1, \"modelo\":1}\n",
    "    "
   ]
  },
  {
   "cell_type": "code",
   "execution_count": null,
   "metadata": {},
   "outputs": [],
   "source": [
    "#recorre todos (sin filtro) los documentos (diccionarios), salvo las omisiones señaladas, e imprime los valores de las llaves requeridas.\n",
    "for x in col.find({},{\"_id\":0,\"modelo\":0}): # lo que obtengo es una lista iterable\n",
    "    print(\"El vehículo es un \" + x[\"marca\"] + \" del año \" + x[\"agno\"])\n",
    "\n",
    "#limit: coloca un límite de documentos a obtener\n",
    "x in col.find({},{\"_id\":0,\"modelo\":0}).limit(2):\n",
    "    print(\"El vehículo es un \" + x[\"marca\"] + \" del año \" + x[\"agno\"])\n",
    "\n",
    "#skip: salta dos y luego entrega todo lo que viene (no interesan los primeros dos)\n",
    "x in col.find({},{\"_id\":0,\"modelo\":0}).skip(2):\n",
    "    print(\"El vehículo es un \" + x[\"marca\"] + \" del año \" + x[\"agno\"])\n",
    "\n",
    "x in col.find({},{\"_id\":0,\"modelo\":0}).:\n",
    "    print(\"El vehículo es un \" + x[\"marca\"] + \" del año \" + x[\"agno\"])\n",
    "    "
   ]
  },
  {
   "cell_type": "code",
   "execution_count": 2,
   "metadata": {},
   "outputs": [
    {
     "data": {
      "text/html": [
       "<div>\n",
       "<style scoped>\n",
       "    .dataframe tbody tr th:only-of-type {\n",
       "        vertical-align: middle;\n",
       "    }\n",
       "\n",
       "    .dataframe tbody tr th {\n",
       "        vertical-align: top;\n",
       "    }\n",
       "\n",
       "    .dataframe thead th {\n",
       "        text-align: right;\n",
       "    }\n",
       "</style>\n",
       "<table border=\"1\" class=\"dataframe\">\n",
       "  <thead>\n",
       "    <tr style=\"text-align: right;\">\n",
       "      <th></th>\n",
       "      <th>Pasos</th>\n",
       "    </tr>\n",
       "  </thead>\n",
       "  <tbody>\n",
       "    <tr>\n",
       "      <th>1</th>\n",
       "      <td>Importar la librería pymongo</td>\n",
       "    </tr>\n",
       "    <tr>\n",
       "      <th>2</th>\n",
       "      <td>Usar pymongo para generar un cliente a través ...</td>\n",
       "    </tr>\n",
       "    <tr>\n",
       "      <th>3</th>\n",
       "      <td>Insertar un elemento con insert_one</td>\n",
       "    </tr>\n",
       "    <tr>\n",
       "      <th>4</th>\n",
       "      <td>Insertar un grupo de autos con isert_many()</td>\n",
       "    </tr>\n",
       "    <tr>\n",
       "      <th>5</th>\n",
       "      <td>Ejecutar varias búsquedas con find_one()</td>\n",
       "    </tr>\n",
       "    <tr>\n",
       "      <th>6</th>\n",
       "      <td>Ejecutar varias búsquedas con find()</td>\n",
       "    </tr>\n",
       "  </tbody>\n",
       "</table>\n",
       "</div>"
      ],
      "text/plain": [
       "                                               Pasos\n",
       "1                       Importar la librería pymongo\n",
       "2  Usar pymongo para generar un cliente a través ...\n",
       "3                Insertar un elemento con insert_one\n",
       "4        Insertar un grupo de autos con isert_many()\n",
       "5           Ejecutar varias búsquedas con find_one()\n",
       "6               Ejecutar varias búsquedas con find()"
      ]
     },
     "execution_count": 2,
     "metadata": {},
     "output_type": "execute_result"
    }
   ],
   "source": [
    "import pandas as pd\n",
    "columna = {\"Pasos\": [\"Importar la librería pymongo\", \"Usar pymongo para generar un cliente a través de MongoClient()\", \"Insertar un elemento con insert_one\", \"Insertar un grupo de autos con isert_many()\", \"Ejecutar varias búsquedas con find_one()\", \"Ejecutar varias búsquedas con find()\"]}\n",
    "pd.DataFrame(columna, index=[1,2,3,4,5,6])"
   ]
  },
  {
   "cell_type": "code",
   "execution_count": null,
   "metadata": {},
   "outputs": [],
   "source": []
  }
 ],
 "metadata": {
  "kernelspec": {
   "display_name": "Python 3",
   "language": "python",
   "name": "python3"
  },
  "language_info": {
   "codemirror_mode": {
    "name": "ipython",
    "version": 3
   },
   "file_extension": ".py",
   "mimetype": "text/x-python",
   "name": "python",
   "nbconvert_exporter": "python",
   "pygments_lexer": "ipython3",
   "version": "3.8.5"
  }
 },
 "nbformat": 4,
 "nbformat_minor": 4
}
