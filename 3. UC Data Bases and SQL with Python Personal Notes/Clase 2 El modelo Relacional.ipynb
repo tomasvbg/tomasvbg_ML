{
 "cells": [
  {
   "cell_type": "markdown",
   "metadata": {},
   "source": [
    "### Índice\n",
    "\n",
    "- Tablas y esquemas\n",
    "- Filas, columnas, tuplas y atributos.\n",
    "- Claves primarias y claves foráneas.\n",
    "- Índices secundarios.\n"
   ]
  },
  {
   "cell_type": "markdown",
   "metadata": {},
   "source": [
    "### El esquema de una tabla es la estructura o plantilla\n",
    "\n",
    "- Contiene los datos\n",
    "- Pueden haber varias tablas que siguen el mismo esquema\n",
    "- El esquema **incluye los nombres de todos los atributos, la clave primaria y las claves foráneas.**\n"
   ]
  },
  {
   "cell_type": "markdown",
   "metadata": {},
   "source": [
    "### Una tabla y su esquema"
   ]
  },
  {
   "cell_type": "markdown",
   "metadata": {},
   "source": [
    "- Cada fila representa una tupla."
   ]
  },
  {
   "cell_type": "markdown",
   "metadata": {},
   "source": [
    "**Clave Primaria**\n",
    "- Atributo que ha sido definido para identificar en forma única a una tupla.\n",
    "- Podría incluso ser un conjunto de atributos.\n",
    "- Lo importante es que solo exista una tupla con ese valor.\n",
    "- Es obligatorio que cada tabla tenga su clave primaria."
   ]
  },
  {
   "cell_type": "markdown",
   "metadata": {},
   "source": [
    "**Clave Foránea**\n",
    "- Complementa la información entre atributos de distintas tablas. \n",
    "- Permite asociar un ítem de una tabla con un ítem de otra tabla.\n",
    "- Puede haber más de una clave foránea.\n",
    "\n",
    "- Permite asociar los atributos de una tabla con los atributos de otra tabla, mediante un atributo en particular."
   ]
  },
  {
   "cell_type": "markdown",
   "metadata": {},
   "source": [
    "**Esquema de Tabla**\n",
    "- Título (Clave Primaria, atributo1, atributo2, atributo3..)\n"
   ]
  },
  {
   "cell_type": "markdown",
   "metadata": {},
   "source": [
    "### Índices Secundarios\n",
    "\n",
    "- Al declarar un atributo como clave primaria de una tabla, hacemos que el motor construya una **estructura de acceso eficiente** para rescatar ítems de acuerdo a estos valores.\n",
    "\n",
    "- Resulta conveniente tener otros atributos desde los cuales llegar directamente al ítem, pudiendo declarase  como índice **secundario**. Esto permite acelerar la consulta.\n"
   ]
  },
  {
   "cell_type": "markdown",
   "metadata": {},
   "source": [
    "### ¿Por qué no declarar cada atributo como índice secundario?\n",
    "\n",
    "- Las operaciones de agregar nueva información o actualizar la tabla implica mayor costo.\n",
    "\n",
    "- El motor de búsqueda mantiene una estructura de acceso por cada índice que se haya definido.\n",
    "\n",
    "\n",
    "**Casos en que puede ser conveniente**:\n",
    "\n",
    "- Muy baja volatilidad de la información.\n",
    "- Nueva clave foránea como índice secundario\n",
    "- Atributo usado muy frecuentemente en consultas.\n"
   ]
  },
  {
   "cell_type": "markdown",
   "metadata": {},
   "source": [
    "### Síntesis\n",
    "\n",
    "- Bajo un **modelo relacional, la información está contenida solamente en tablas**.\n",
    "\n",
    "\n",
    "- Cada tabla contiene un número de **filas denominadas tuplas, siendo todas diferentes**.\n",
    "\n",
    "\n",
    "- Cada tupla contiene distintos aspectos de información respecto a una instancia o ítem, los cuales corresponden a un **atributo** que nos interesa del ítem.\n",
    "\n",
    "\n",
    "- **El motor construye una estructura de acceso** que permite llegar rápidamente a la tupla que contiene una determinada clave.\n",
    "\n",
    "\n",
    "- Un atributo cuyos valores permiten identificar por sí solos a la tupla que lo contiene, se conoce como **clave primaria**.\n",
    "\n",
    "\n",
    "- **La clave primaria puede ser también un conjunto de atributos**."
   ]
  }
 ],
 "metadata": {
  "kernelspec": {
   "display_name": "Python 3",
   "language": "python",
   "name": "python3"
  },
  "language_info": {
   "codemirror_mode": {
    "name": "ipython",
    "version": 3
   },
   "file_extension": ".py",
   "mimetype": "text/x-python",
   "name": "python",
   "nbconvert_exporter": "python",
   "pygments_lexer": "ipython3",
   "version": "3.8.3"
  }
 },
 "nbformat": 4,
 "nbformat_minor": 4
}
