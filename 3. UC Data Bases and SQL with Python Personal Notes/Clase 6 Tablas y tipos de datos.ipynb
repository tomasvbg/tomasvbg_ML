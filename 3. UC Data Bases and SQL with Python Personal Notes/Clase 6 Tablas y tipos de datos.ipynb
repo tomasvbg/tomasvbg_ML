{
 "cells": [
  {
   "cell_type": "markdown",
   "metadata": {},
   "source": [
    "### Clase 6 Tablas y tipos de datos"
   ]
  },
  {
   "cell_type": "markdown",
   "metadata": {},
   "source": [
    "###  0. Índice\n",
    "\n",
    "- Grandes clases de tipos de dato\n",
    "\n",
    "- Tipos de datos en MySQL\n",
    "\n",
    "- Claves primarias foráneas"
   ]
  },
  {
   "cell_type": "markdown",
   "metadata": {},
   "source": [
    "### 1. Introducción\n",
    "\n",
    "- Al crear una tabla, todos los datos en una columna deben ser del mismo tipo.\n",
    "\n",
    "- Los más comunes son secuencias de caracteres, números o fechas, siendo necesario especificarlo en cada columna.\n",
    "\n",
    "- A continuación se abordarán los tipos de dato de MySQL."
   ]
  },
  {
   "cell_type": "markdown",
   "metadata": {},
   "source": [
    "### 2. Grandes clases de tipos de datos\n",
    "\n",
    "- Cadena de caracteres (STR)\n",
    "- Números exactos y aproximados (INT, FLOAT)\n",
    "- Fecha y hora (TIME, DATE, DATETIME)\n",
    "- Otros tipos de datos"
   ]
  },
  {
   "cell_type": "markdown",
   "metadata": {},
   "source": [
    "### 3.Tipos de datos en MySQL"
   ]
  },
  {
   "cell_type": "markdown",
   "metadata": {},
   "source": [
    "\n",
    "\n",
    "##### 3.1 Cadena de caracteres*\n",
    "\n",
    "- **CHAR(n)**\n",
    "\n",
    "Secuencia de máximo n caracteres (máximo255) en la que los **n siempre son utilzados**.\n",
    "Nota: CHAR es más rápido que VARCHAR pero puede malgastar espacio. Recomendado si se conoce la lóngitud.\n",
    "    \n",
    "- **VARCHAR(n)**\n",
    "\n",
    "Secuencia de máximo n caracteres (máximo 255), **solo se ocupan los necesarios**\n",
    "Nota: VARCHAR es más lento pero **no malgasta el espacio. Si no se tiene clara la longitud es más recomendable.\n"
   ]
  },
  {
   "cell_type": "markdown",
   "metadata": {},
   "source": [
    "###### 3.2 Números\n",
    "\n",
    " - **Enteros**\n",
    "\n",
    "**INT**: un número entero grande (desde -2**31 a+2**31)\n",
    "\n",
    "**SMALLINT**: un entero pequeño (desde -32.768 a 32.768)\n",
    "\n",
    "**TINYINT**: un entero más pequeño (desde -127 a +127)\n",
    "\n",
    "\n",
    " - **Con décimales**\n",
    "\n",
    "**FLOAT**: un número de punto flotante (no exacto)\n",
    "    \n",
    "**DOUBLE**: un número de punto flotante de doble precisión.\n",
    "    \n",
    "**DECIMAL**: también NUMERIC, FIXED, DECIMAL, es un número decimal exacto (se indica el largo y los decimales)\n",
    "\n",
    "\n",
    "\n",
    "******************\n",
    "\n",
    "**Ejemplo**:\n",
    "\n",
    "CREATE TABLE Catalog(\n",
    "\n",
    "ProductID SMALLINT,\n",
    "\n",
    "Price DECIMAL (7,2),\n",
    "\n",
    "Weight FLOAT (8,4)"
   ]
  },
  {
   "cell_type": "markdown",
   "metadata": {},
   "source": [
    "##### 3.3 Fechas y tiempos\n",
    "\n",
    "Date, Time, DateTime, Timestamp\n",
    "\n",
    "**DATE**: Fecha en formato AAAA-MM-DD (2019-11-10)\n",
    "\n",
    "**TIME**: Hora de formato HH:MM:SS (21:20:00)\n",
    "\n",
    "**DATETIME**: Fecha y hora AAAA-MM-DD HH:MM:SS\n",
    "\n",
    "**TIMESTAMP**: Fecha y hora insertada automáticamente por el motor cuando se actualiza la fila.\n",
    "\n",
    "\n",
    "******************\n",
    "\n",
    "Ejemplo:\n",
    "\n",
    "CREATE TABLE BookOrders(\n",
    "\n",
    "OrderID SMALLINT,\n",
    "\n",
    "BookID SMALLINT,\n",
    "\n",
    "Edition DATE,\n",
    "\n",
    "OrderDate TIMESTAMP);"
   ]
  },
  {
   "cell_type": "markdown",
   "metadata": {},
   "source": [
    "##### 4. Otros tipos de datos\n",
    "\n",
    "**BLOB*: Binario de hasta 65.535 bytes.\n",
    "\n",
    "**LOGNBLOB**: Binario de hasya 2**32 bytes.\n",
    "\n",
    "**BOOL**: Boolean, cero es falso y otro valor es verdadero.\n",
    "\n",
    "**BINARY**: Como CHAR pero con strings binarios.\n",
    "\n",
    "**VARIABINARY**: Como VARCHAR pero con strings binarios.\n",
    "\n",
    "**YEAR**: Solo el año."
   ]
  },
  {
   "cell_type": "markdown",
   "metadata": {},
   "source": [
    "##### 5. Tipo de dato AutoIncrementado\n",
    "\n",
    "Se usa, principalmente, **para atributos que son claves primarias**:\n",
    "    \n",
    "    - Solo puede usarse con tipos de datos enteros (INT, SMALLINT)\n",
    "    \n",
    "    - Debe ser del tipo NOT NULL, PRIMARY KEY o UNIQUE\n",
    "    \n",
    "    - No puede haber DEFAULT\n",
    "    \n",
    "    - Solo se permite uno por tabla\n",
    "    "
   ]
  },
  {
   "cell_type": "markdown",
   "metadata": {},
   "source": [
    "##### 6. Valores Nulos y Valores Repetidos\n",
    "\n",
    "Es posible **especificar para un atributo si se acepta que una determinada fila no tenga valor para ese atributo(null)**\n",
    "\n",
    "- Es similar a un N/A en una tabla Excel.\n",
    "\n",
    "- Un valor null es tratado en forma especial, no es cero ni un string vacío.\n",
    "\n",
    "- Si se quiere prohibir que filas tengan valores nulos para un atributo, debe agregarse NOT NULL al crear la tabla.\n",
    "\n",
    "- **Un atributo puede permitir reptidos en la columna, en caso de queno se deseen, debe especificarse UNIQUE**.\n",
    "\n",
    "****\n",
    "\n",
    "\n",
    "Ejemplo:\n",
    "\n",
    "CREATE TABLE amigos(\n",
    "\n",
    "nombre VARCHAR(20),\n",
    "\n",
    "email VARCHAR(30) **NOT NULL UNIQUE**,\n",
    "\n",
    "celular CHAR (10),\n",
    "\n",
    "fecha_nacimiento DATE NOT NULL); #no aceptará un insert que no tenga el campo especificado\n",
    "\n",
    "\n",
    "\n"
   ]
  },
  {
   "cell_type": "markdown",
   "metadata": {},
   "source": [
    "##### 7. Valores por defecto\n",
    "\n",
    "Es posibe especificar para un atributo, un valor \"por defecto\", lo que significa que si no se incluye valor para ese atributo en la  tupla, se le asigna ese valor,\n",
    "\n",
    "- Es una alternativa a insertar valores nulos.\n",
    "\n",
    "- Obviamente, no se puede declarar el atributo como UNIQUE.\n",
    "\n",
    "*******\n",
    "\n",
    "CREATE TABLE amigos(\n",
    "\n",
    "nombre VARCHAR(20),\n",
    "\n",
    "email VARCHAR(30) NOT NULL UNIQUE,\n",
    "\n",
    "celular CHAR(10) **DEFAULT \"N/A\"**,\n",
    "\n",
    "fecha_nacimiento DATE NOT NULL);\n"
   ]
  },
  {
   "cell_type": "markdown",
   "metadata": {},
   "source": [
    "### 7. Claves primarias y claves foráneas"
   ]
  },
  {
   "cell_type": "markdown",
   "metadata": {},
   "source": [
    "##### 7.1 Clave Primaria\n",
    "\n",
    "Hay dos formas de señalarlas:\n",
    "    \n",
    "   **- Inline: junto a la definición del atributo.**\n",
    "    \n",
    "*******\n",
    "\n",
    "Ejemplo:\n",
    "\n",
    "CREATE TABLE Ordenes(\n",
    "\n",
    "OrdenID SMALLINT NOTNULL **PRIMARY KEY**,\n",
    "\n",
    "ProdID SMALLINT NOT NULL,\n",
    "\n",
    "ProdDescrip VARCHAR(40),\n",
    "\n",
    "PRIMARY KEY(OrdenID));\n",
    "\n",
    "*****\n",
    "\n",
    "\n",
    "   **- Al final, cuando terminan de indicarse los atributos de la tabla:**\n",
    "\n",
    "CREATE TABLE Ordenes(\n",
    "\n",
    "OrdenID SMALLINT NOT NULL,\n",
    "\n",
    "ProID SMALLINT NOT NULL,\n",
    "\n",
    "ProdDescrip VARCHAR(40),\n",
    "\n",
    "**PRIMARY KEY (OrdenID))**;\n",
    "\n",
    "***\n",
    "\n",
    "**- Si la clave es compuesta por más de un atributo, no se puede usar la forma de inline.**\n",
    "\n",
    "CREATE Ordenes(\n",
    "\n",
    "OrdenID SMALLINT NOTNULL,\n",
    "\n",
    "ProID SMALLINT NOT NULL,\n",
    "\n",
    "ProDescrip VARCHAR(40),\n",
    "\n",
    "PRIMARY KEY(OrdenID, ProductID));"
   ]
  },
  {
   "cell_type": "markdown",
   "metadata": {},
   "source": [
    "##### 7.1 CLAVE FORÁNEA\n",
    "\n",
    "   **- Inline, juto a la definición del atributo**\n",
    "\n",
    "CREATE TABLE Ordenes(\n",
    "\n",
    "OrdenID SMALLINT NOT NULL PRIMARY KEY,\n",
    "\n",
    "**ProdID SMALL INT NOT NULL REFERENCES Productos(id)**,\n",
    "\n",
    "ProdDescrip VARCHAR(40));\n",
    "\n",
    "\n",
    "    2. Al final, cuando terminan de indicarse los atributos de la tabla.\n",
    "\n",
    "CREATE TABLE ordenes(\n",
    "\n",
    "OrdenID SMALLINT NOT NULL PRIMARY KEY,\n",
    "\n",
    "ProdID SMALLINT NOT NULL,\n",
    "\n",
    "ProdDescrip VARCHAR(40),\n",
    "\n",
    "**FOREIGN KEY(ProdID) REFERENCES Productos(id));**\n"
   ]
  },
  {
   "cell_type": "markdown",
   "metadata": {},
   "source": [
    "### Síntesis\n",
    "\n",
    "- Cada atributo de una tabla tiene asociado un tipo de dato.\n",
    "\n",
    "- Hay tres grandes categorías: secuencias de caracteres, números y fechas.\n",
    "\n",
    "- Cada categoría define tipos especializados.\n",
    "\n",
    "- Hay tipos especiales para manejar binarios y otras aplicaciones.\n",
    "\n",
    "- El tipo autoincrementado es muy útil para claves primarias."
   ]
  },
  {
   "cell_type": "code",
   "execution_count": null,
   "metadata": {},
   "outputs": [],
   "source": []
  }
 ],
 "metadata": {
  "kernelspec": {
   "display_name": "Python 3",
   "language": "python",
   "name": "python3"
  },
  "language_info": {
   "codemirror_mode": {
    "name": "ipython",
    "version": 3
   },
   "file_extension": ".py",
   "mimetype": "text/x-python",
   "name": "python",
   "nbconvert_exporter": "python",
   "pygments_lexer": "ipython3",
   "version": "3.8.5"
  }
 },
 "nbformat": 4,
 "nbformat_minor": 4
}
