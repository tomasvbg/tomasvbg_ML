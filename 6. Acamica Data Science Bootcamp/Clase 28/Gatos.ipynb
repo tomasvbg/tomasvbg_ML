{
 "cells": [
  {
   "cell_type": "markdown",
   "metadata": {},
   "source": [
    "# Es un gato??\n",
    "Esto es un dataset que contiene dos tipos de imagenes: gatos y no-gatos.\n",
    "La idea es que entrenen un clasificador sobre las imágenes que pueda determinar a que calse pertenecen las mismas.\n",
    "El notebook tiene implementada toda la parte de adecuación de las imágenes (las deja hechas una matriz con las que estamos acostumbrados a trabajar), les queda a ustedes trabajar libremente sobre la parte de implementación de un clasificador."
   ]
  },
  {
   "cell_type": "markdown",
   "metadata": {},
   "source": [
    "## 1 - Librerias necesarias ##\n",
    "- [numpy](www.numpy.org) is the fundamental package for scientific computing with Python.\n",
    "- [h5py](http://www.h5py.org) is a common package to interact with a dataset that is stored on an H5 file.\n",
    "- [matplotlib](http://matplotlib.org) is a famous library to plot graphs in Python.\n",
    "- [PIL](http://www.pythonware.com/products/pil/) and [scipy](https://www.scipy.org/) are used here to test your model with your own picture at the end."
   ]
  },
  {
   "cell_type": "code",
   "execution_count": 2,
   "metadata": {},
   "outputs": [
    {
     "name": "stdout",
     "output_type": "stream",
     "text": [
      "Collecting package metadata: done\n",
      "Solving environment: done\n",
      "\n",
      "## Package Plan ##\n",
      "\n",
      "  environment location: /home/usuario/anaconda3/envs/acamica\n",
      "\n",
      "  added / updated specs:\n",
      "    - h5py\n",
      "\n",
      "\n",
      "The following packages will be downloaded:\n",
      "\n",
      "    package                    |            build\n",
      "    ---------------------------|-----------------\n",
      "    blas-1.0                   |              mkl           6 KB\n",
      "    h5py-2.7.1                 |np114py36_intel_0         3.7 MB  intel\n",
      "    libedit-3.1.20181209       |       hc058e9b_0         188 KB\n",
      "    libgfortran-ng-7.3.0       |       hdf63c60_0         1.3 MB\n",
      "    mkl-2018.0.3               |          intel_1       198.7 MB  intel\n",
      "    notebook-5.2.2             |     py36_intel_0         6.1 MB  intel\n",
      "    numpy-base-1.15.0          |   py36h1793315_0         4.2 MB\n",
      "    sqlite-3.30.1              |       h7b6447c_0         1.9 MB\n",
      "    terminado-0.8.1            |     py36_intel_0          20 KB  intel\n",
      "    widgetsnbextension-3.2.0   |           py36_0         1.7 MB  intel\n",
      "    xz-5.2.4                   |       h14c3975_4         366 KB\n",
      "    ------------------------------------------------------------\n",
      "                                           Total:       218.0 MB\n",
      "\n",
      "The following NEW packages will be INSTALLED:\n",
      "\n",
      "  blas               pkgs/main/linux-64::blas-1.0-mkl\n",
      "  h5py               intel/linux-64::h5py-2.7.1-np114py36_intel_0\n",
      "  hdf5               intel/linux-64::hdf5-1.10.1-intel_0\n",
      "  libedit            pkgs/main/linux-64::libedit-3.1.20181209-hc058e9b_0\n",
      "  libgfortran-ng     pkgs/main/linux-64::libgfortran-ng-7.3.0-hdf63c60_0\n",
      "  openmp             intel/linux-64::openmp-2018.0.3-intel_0\n",
      "\n",
      "The following packages will be UPDATED:\n",
      "\n",
      "  sqlite                             intel::sqlite-3.28.0-0 --> pkgs/main::sqlite-3.30.1-h7b6447c_0\n",
      "\n",
      "The following packages will be SUPERSEDED by a higher-priority channel:\n",
      "\n",
      "  numpy-base               intel::numpy-base-1.17.0-py36_13 --> pkgs/main::numpy-base-1.15.0-py36h1793315_0\n",
      "  xz                             intel::xz-5.2.4-h14c3975_7 --> pkgs/main::xz-5.2.4-h14c3975_4\n",
      "\n",
      "The following packages will be DOWNGRADED:\n",
      "\n",
      "  backcall                                     0.1.0-py36_2 --> 0.1.0-py36_intel_0\n",
      "  backports                                      1.0-py36_9 --> 1.0-py36_intel_6\n",
      "  bleach                                       2.1.3-py36_2 --> 2.1.3-py36_intel_0\n",
      "  bzip2                                             1.0.8-0 --> 1.0.6-intel_14\n",
      "  certifi                                  2018.1.18-py36_2 --> 2018.1.18-py36_intel_0\n",
      "  cycler                                      0.10.0-py36_7 --> 0.10.0-py36_intel_5\n",
      "  decorator                                    4.3.0-py36_3 --> 4.3.0-py36_intel_0\n",
      "  entrypoints                                  0.2.3-py36_2 --> 0.2.3-py36_intel_0\n",
      "  freetype                                            2.9-4 --> 2.9-intel_1\n",
      "  get_terminal_size                            1.0.0-py36_7 --> 1.0.0-py36_intel_5\n",
      "  html5lib                                     1.0.1-py36_4 --> 1.0.1-py36_intel_1\n",
      "  icc_rt                                   2020.0-intel_166 --> 2018.0.3-intel_0\n",
      "  intelpython                                      2020.0-1 --> 2018.0.3-0\n",
      "  ipykernel                                    4.6.1-py36_2 --> 4.6.1-py36_intel_0\n",
      "  ipython                                      6.3.1-py36_3 --> 6.3.1-py36_intel_1\n",
      "  ipython_genutils                             0.2.0-py36_2 --> 0.2.0-py36_intel_0\n",
      "  ipywidgets                                   7.0.0-py36_2 --> 7.0.0-py36_intel_0\n",
      "  jedi                                        0.12.0-py36_2 --> 0.12.0-py36_intel_0\n",
      "  jinja2                                       2.9.6-py36_2 --> 2.9.6-py36_intel_0\n",
      "  jsonschema                                   2.6.0-py36_2 --> 2.6.0-py36_intel_0\n",
      "  jupyter                                      1.0.0-py36_7 --> 1.0.0-py36_intel_5\n",
      "  jupyter_client                               5.1.0-py36_5 --> 5.1.0-py36_intel_0\n",
      "  jupyter_console                              5.1.0-py36_2 --> 5.1.0-py36_intel_0\n",
      "  jupyter_core                                 4.4.0-py36_6 --> 4.4.0-py36_intel_1\n",
      "  kiwisolver                                   1.0.1-py36_2 --> 1.0.1-py36_1\n",
      "  libffi                                           3.2.1-11 --> 3.2.1-intel_8\n",
      "  libpng                                           1.6.36-2 --> 1.6.34-intel_1\n",
      "  libsodium                                        1.0.16-3 --> 1.0.16-intel_1\n",
      "  markupsafe                                     1.0-py36_3 --> 1.0-py36_intel_0\n",
      "  matplotlib                                   3.1.1-py36_2 --> 2.2.2-np114py36_intel_1\n",
      "  mistune                                      0.8.3-py36_2 --> 0.7.4-py36_intel_1\n",
      "  mkl                                      2020.0-intel_166 --> 2018.0.3-intel_1\n",
      "  mkl_fft                             1.0.14-py36ha68da19_1 --> 1.0.2-np114py36_intel_0\n",
      "  mkl_random                           1.0.4-py36ha68da19_2 --> 1.0.1-np114py36_intel_0\n",
      "  nbconvert                                    5.2.1-py36_2 --> 5.2.1-py36_intel_0\n",
      "  nbformat                                     4.4.0-py36_2 --> 4.4.0-py36_intel_0\n",
      "  notebook                                     5.2.2-py36_1 --> 5.2.2-py36_intel_0\n",
      "  numpy                              1.17.0-py36ha68da19_13 --> 1.14.3-py36_intel_0\n",
      "  pandocfilters                                1.4.1-py36_2 --> 1.4.1-py36_intel_0\n",
      "  parso                                        0.2.0-py36_2 --> 0.2.0-py36_intel_0\n",
      "  path.py                                     11.0.1-py36_2 --> 11.0.1-py36_intel_0\n",
      "  pexpect                                      4.2.1-py36_4 --> 4.2.1-py36_intel_1\n",
      "  pickleshare                                  0.7.4-py36_3 --> 0.7.4-py36_intel_1\n",
      "  pip                                         19.1.1-py36_0 --> 9.0.1-py36_intel_0\n",
      "  prompt_toolkit                              1.0.15-py36_2 --> 1.0.15-py36_intel_0\n",
      "  ptyprocess                                   0.5.2-py36_2 --> 0.5.2-py36_intel_0\n",
      "  pygments                                     2.2.0-py36_5 --> 2.2.0-py36_intel_1\n",
      "  pyparsing                                    2.2.0-py36_2 --> 2.2.0-py36_intel_0\n",
      "  python-dateutil                              2.8.0-py36_0 --> 2.6.0-py36_intel_3\n",
      "  pytz                                        2019.1-py36_0 --> 2018.4-py36_intel_0\n",
      "  pyzmq                                       16.0.2-py36_6 --> 16.0.2-py36_intel_4\n",
      "  setuptools                                  41.0.1-py36_0 --> 27.2.0-py36_intel_0\n",
      "  simplegeneric                                0.8.1-py36_7 --> 0.8.1-py36_intel_5\n",
      "  six                                         1.12.0-py36_0 --> 1.10.0-py36_intel_8\n",
      "  tcl                                              8.6.4-24 --> 8.6.4-intel_19\n",
      "  terminado                                    0.8.1-py36_2 --> 0.8.1-py36_intel_0\n",
      "  testpath                                     0.3.1-py36_2 --> 0.3.1-py36_intel_0\n",
      "  tornado                                      4.5.2-py36_5 --> 4.5.2-py36_intel_0\n",
      "  traitlets                                    4.3.2-py36_3 --> 4.3.2-py36_intel_1\n",
      "  wcwidth                                      0.1.7-py36_6 --> 0.1.7-py36_intel_5\n",
      "  wheel                                       0.31.0-py36_3 --> 0.31.0-py36_intel_0\n",
      "  widgetsnbextension                           3.2.0-py36_1 --> 3.2.0-py36_0\n",
      "  zeromq                                            4.2.3-2 --> 4.2.3-intel_0\n",
      "  zlib                                    1.2.11-h14c3975_7 --> 1.2.11-intel_3\n",
      "\n",
      "\n",
      "\n",
      "Downloading and Extracting Packages\n",
      "h5py-2.7.1           | 3.7 MB    | ##################################### | 100% \n",
      "xz-5.2.4             | 366 KB    | ##################################### | 100% \n",
      "mkl-2018.0.3         | 198.7 MB  | ##################################### | 100% \n",
      "widgetsnbextension-3 | 1.7 MB    | ##################################### | 100% \n",
      "terminado-0.8.1      | 20 KB     | ##################################### | 100% \n",
      "blas-1.0             | 6 KB      | ##################################### | 100% \n",
      "libgfortran-ng-7.3.0 | 1.3 MB    | ##################################### | 100% \n",
      "sqlite-3.30.1        | 1.9 MB    | ##################################### | 100% \n",
      "notebook-5.2.2       | 6.1 MB    | ##################################### | 100% \n"
     ]
    },
    {
     "name": "stdout",
     "output_type": "stream",
     "text": [
      "numpy-base-1.15.0    | 4.2 MB    | ##################################### | 100% \n",
      "libedit-3.1.20181209 | 188 KB    | ##################################### | 100% \n",
      "Preparing transaction: done\n",
      "Verifying transaction: done\n",
      "Executing transaction: done\n"
     ]
    }
   ],
   "source": [
    "!conda install h5py -y\n",
    "!conda install scipy -y\n",
    "!conda install pillow -y"
   ]
  },
  {
   "cell_type": "code",
   "execution_count": 5,
   "metadata": {},
   "outputs": [
    {
     "name": "stderr",
     "output_type": "stream",
     "text": [
      "/home/usuario/anaconda3/envs/acamica/lib/python3.6/site-packages/h5py/__init__.py:36: FutureWarning: Conversion of the second argument of issubdtype from `float` to `np.floating` is deprecated. In future, it will be treated as `np.float64 == np.dtype(float).type`.\n",
      "  from ._conv import register_converters as _register_converters\n"
     ]
    }
   ],
   "source": [
    "import numpy as np\n",
    "import matplotlib.pyplot as plt\n",
    "import h5py\n",
    "import scipy\n",
    "from PIL import Image\n",
    "from scipy import ndimage\n",
    "from lr_utils import load_dataset\n",
    "\n",
    "%matplotlib inline"
   ]
  },
  {
   "cell_type": "markdown",
   "metadata": {},
   "source": [
    "## 2 - Explorando el Dataset ##\n",
    "\n",
    "Tenemos un dataset (\"data.h5\") que contiene:\n",
    "    - a training set of m_train images labeled as cat (y=1) or non-cat (y=0)\n",
    "    - a test set of m_test images labeled as cat or non-cat\n",
    "    - each image is of shape (num_px, num_px, 3) where 3 is for the 3 channels (RGB). Thus, each image is square (height = num_px) and (width = num_px).\n",
    "\n",
    "Veamos alguna de las imagenes"
   ]
  },
  {
   "cell_type": "code",
   "execution_count": 6,
   "metadata": {},
   "outputs": [],
   "source": [
    "# Loading the data (cat/non-cat)\n",
    "train_set_x_orig, train_set_y, test_set_x_orig, test_set_y, classes = load_dataset()"
   ]
  },
  {
   "cell_type": "markdown",
   "metadata": {},
   "source": [
    "Le agregamos el _orig a los nombres de las variables para diferencia estas imagenes que levantamos de los datos, respecto al train_set_x que quedará luego del preprocesamiento\n",
    "\n",
    "Cada linea del dataset representa uan imagen, Se peude vizualizar la imagen con indice 'index' meidante el siguiente código:"
   ]
  },
  {
   "cell_type": "code",
   "execution_count": 7,
   "metadata": {},
   "outputs": [
    {
     "name": "stdout",
     "output_type": "stream",
     "text": [
      "y = [1], it's a 'cat' picture.\n"
     ]
    },
    {
     "data": {
      "image/png": "[encoded data removed]",
      "text/plain": [
       "<Figure size 432x288 with 1 Axes>"
      ]
     },
     "metadata": {},
     "output_type": "display_data"
    }
   ],
   "source": [
    "# Example of a picture\n",
    "index = 50\n",
    "plt.imshow(train_set_x_orig[index])\n",
    "print (\"y = \" + str(train_set_y[:, index]) + \", it's a '\" + classes[np.squeeze(train_set_y[:, index])].decode(\"utf-8\") +  \"' picture.\")"
   ]
  },
  {
   "cell_type": "markdown",
   "metadata": {},
   "source": [
    "Many software bugs in deep learning come from having matrix/vector dimensions that don't fit. If you can keep your matrix/vector dimensions straight you will go a long way toward eliminating many bugs. \n",
    "\n",
    "Definimos las siguietnes cantidades que nos serán de interés:\n",
    "    - m_train (number of training examples)\n",
    "    - m_test (number of test examples)\n",
    "    - num_px (= height = width of a training image)\n",
    "\n",
    "Recuerden que `train_set_x_orig` es un array de numpy con dimensiones: (m_train, num_px, num_px, 3)."
   ]
  },
  {
   "cell_type": "code",
   "execution_count": 37,
   "metadata": {
    "scrolled": true
   },
   "outputs": [
    {
     "name": "stdout",
     "output_type": "stream",
     "text": [
      "Number of training examples: m_train = 209\n",
      "Number of testing examples: m_test = 50\n",
      "Height/Width of each image: num_px = 64\n",
      "Each image is of size: (64, 64, 3)\n",
      "train_set_x shape: (209, 64, 64, 3)\n",
      "train_set_y shape: (1, 209)\n",
      "test_set_x shape: (50, 64, 64, 3)\n",
      "test_set_y shape: (1, 50)\n"
     ]
    }
   ],
   "source": [
    "m_train = len(train_set_x_orig)\n",
    "m_test = len(test_set_x_orig)\n",
    "num_px = test_set_x_orig.shape[1]\n",
    "\n",
    "\n",
    "print (\"Number of training examples: m_train = \" + str(m_train))\n",
    "print (\"Number of testing examples: m_test = \" + str(m_test))\n",
    "print (\"Height/Width of each image: num_px = \" + str(num_px))\n",
    "print (\"Each image is of size: (\" + str(num_px) + \", \" + str(num_px) + \", 3)\")\n",
    "print (\"train_set_x shape: \" + str(train_set_x_orig.shape))\n",
    "print (\"train_set_y shape: \" + str(train_set_y.shape))\n",
    "print (\"test_set_x shape: \" + str(test_set_x_orig.shape))\n",
    "print (\"test_set_y shape: \" + str(test_set_y.shape))"
   ]
  },
  {
   "cell_type": "markdown",
   "metadata": {},
   "source": [
    "La ùltima dimensiòn de las imàgenes corresponde a los 3 colores (R,G,B). Para trabajar con un dataset de menores dimensiones, vamos a transformar las imágenes a escala de grises con el siquiente codigo:"
   ]
  },
  {
   "cell_type": "code",
   "execution_count": 14,
   "metadata": {},
   "outputs": [],
   "source": [
    "# Transformamos el Training set\n",
    "grey_train_set_x_orig =  np.zeros([m_train,num_px,num_px])\n",
    "for l in range(m_train):\n",
    "    for i in range(64):\n",
    "        for j in range(64):\n",
    "            R = train_set_x_orig[l,i,j,0]\n",
    "            G = train_set_x_orig[l,i,j,1]\n",
    "            B = train_set_x_orig[l,i,j,2]\n",
    "            grey_train_set_x_orig[l,i,j] = 0.2989*R + 0.5870*G + 0.1140*B"
   ]
  },
  {
   "cell_type": "code",
   "execution_count": 16,
   "metadata": {},
   "outputs": [],
   "source": [
    "# Transformamos el Test set\n",
    "grey_test_set_x_orig =  np.zeros([m_test,num_px,num_px])\n",
    "for l in range(m_test):\n",
    "    for i in range(64):\n",
    "        for j in range(64):\n",
    "            R = test_set_x_orig[l,i,j,0]\n",
    "            G = test_set_x_orig[l,i,j,1]\n",
    "            B = test_set_x_orig[l,i,j,2]\n",
    "            grey_test_set_x_orig[l,i,j] = 0.2989*R + 0.5870*G + 0.1140*B"
   ]
  },
  {
   "cell_type": "markdown",
   "metadata": {},
   "source": [
    "Luego hacemos un reshape, esto quiere decir que vamos a transformar las imagenes de las cuadricluas de 64 x 64 en las cuales vienen , a un vector unidimensional de 4096 posiciones. Es decir, representamos la imagen como una \"tira\" de numeros en lugar de un \"cuadrado\" de numeros:"
   ]
  },
  {
   "cell_type": "code",
   "execution_count": 23,
   "metadata": {},
   "outputs": [
    {
     "data": {
      "text/plain": [
       "(209, 4096)"
      ]
     },
     "execution_count": 23,
     "metadata": {},
     "output_type": "execute_result"
    }
   ],
   "source": [
    "train_set_x_flatten = grey_train_set_x_orig.reshape(train_set_x_orig.shape[0],-1)\n",
    "train_set_x_flatten.shape"
   ]
  },
  {
   "cell_type": "code",
   "execution_count": 24,
   "metadata": {},
   "outputs": [
    {
     "data": {
      "text/plain": [
       "(50, 4096)"
      ]
     },
     "execution_count": 24,
     "metadata": {},
     "output_type": "execute_result"
    }
   ],
   "source": [
    "test_set_x_flatten = grey_test_set_x_orig.reshape(test_set_x_orig.shape[0],-1)\n",
    "test_set_x_flatten.shape"
   ]
  },
  {
   "cell_type": "code",
   "execution_count": 27,
   "metadata": {},
   "outputs": [],
   "source": [
    "train_set_x = train_set_x_flatten/255.\n",
    "test_set_x = test_set_x_flatten/255."
   ]
  },
  {
   "cell_type": "code",
   "execution_count": 34,
   "metadata": {},
   "outputs": [
    {
     "name": "stdout",
     "output_type": "stream",
     "text": [
      "train_set_x_flatten shape: (209, 4096)\n",
      "train_set_y shape: (1, 209)\n",
      "test_set_x_flatten shape: (50, 4096)\n",
      "test_set_y shape: (1, 50)\n"
     ]
    }
   ],
   "source": [
    "print (\"train_set_x_flatten shape: \" + str(train_set_x.shape))\n",
    "print (\"train_set_y shape: \" + str(train_set_y.shape))\n",
    "print (\"test_set_x_flatten shape: \" + str(test_set_x.shape))\n",
    "print (\"test_set_y shape: \" + str(test_set_y.shape))"
   ]
  },
  {
   "cell_type": "code",
   "execution_count": null,
   "metadata": {},
   "outputs": [],
   "source": []
  },
  {
   "cell_type": "code",
   "execution_count": null,
   "metadata": {},
   "outputs": [],
   "source": [
    "## ACA CODEAN USTEDES CON TODO LO QUE FUIMOS APRENDIENDO HASTA AHORA"
   ]
  },
  {
   "cell_type": "code",
   "execution_count": null,
   "metadata": {},
   "outputs": [],
   "source": []
  },
  {
   "cell_type": "markdown",
   "metadata": {},
   "source": [
    "Luego peuden chequear las predicciones de su modelo sobre imagenes del test_set en particualar utilizando el siguiente codigo que reproduce una imagen determinada del test_set:"
   ]
  },
  {
   "cell_type": "code",
   "execution_count": 38,
   "metadata": {},
   "outputs": [
    {
     "ename": "IndexError",
     "evalue": "index 166 is out of bounds for axis 0 with size 2",
     "output_type": "error",
     "traceback": [
      "\u001b[0;31m---------------------------------------------------------------------------\u001b[0m",
      "\u001b[0;31mIndexError\u001b[0m                                Traceback (most recent call last)",
      "\u001b[0;32m<ipython-input-38-77d84c1841ed>\u001b[0m in \u001b[0;36m<module>\u001b[0;34m()\u001b[0m\n\u001b[1;32m      2\u001b[0m \u001b[0mindex\u001b[0m \u001b[0;34m=\u001b[0m \u001b[0;36m30\u001b[0m\u001b[0;34m\u001b[0m\u001b[0;34m\u001b[0m\u001b[0m\n\u001b[1;32m      3\u001b[0m \u001b[0mplt\u001b[0m\u001b[0;34m.\u001b[0m\u001b[0mimshow\u001b[0m\u001b[0;34m(\u001b[0m\u001b[0mtest_set_x_orig\u001b[0m\u001b[0;34m[\u001b[0m\u001b[0mindex\u001b[0m\u001b[0;34m]\u001b[0m\u001b[0;34m)\u001b[0m\u001b[0;34m\u001b[0m\u001b[0;34m\u001b[0m\u001b[0m\n\u001b[0;32m----> 4\u001b[0;31m \u001b[0mprint\u001b[0m \u001b[0;34m(\u001b[0m\u001b[0;34m\"y = \"\u001b[0m \u001b[0;34m+\u001b[0m \u001b[0mstr\u001b[0m\u001b[0;34m(\u001b[0m\u001b[0mtest_set_y\u001b[0m\u001b[0;34m[\u001b[0m\u001b[0;34m:\u001b[0m\u001b[0;34m,\u001b[0m \u001b[0mindex\u001b[0m\u001b[0;34m]\u001b[0m\u001b[0;34m)\u001b[0m \u001b[0;34m+\u001b[0m \u001b[0;34m\", it's a '\"\u001b[0m \u001b[0;34m+\u001b[0m \u001b[0mclasses\u001b[0m\u001b[0;34m[\u001b[0m\u001b[0mnp\u001b[0m\u001b[0;34m.\u001b[0m\u001b[0msqueeze\u001b[0m\u001b[0;34m(\u001b[0m\u001b[0mtest_set_x_orig\u001b[0m\u001b[0;34m[\u001b[0m\u001b[0;34m:\u001b[0m\u001b[0;34m,\u001b[0m \u001b[0mindex\u001b[0m\u001b[0;34m]\u001b[0m\u001b[0;34m)\u001b[0m\u001b[0;34m]\u001b[0m\u001b[0;34m.\u001b[0m\u001b[0mdecode\u001b[0m\u001b[0;34m(\u001b[0m\u001b[0;34m\"utf-8\"\u001b[0m\u001b[0;34m)\u001b[0m \u001b[0;34m+\u001b[0m  \u001b[0;34m\"' picture.\"\u001b[0m\u001b[0;34m)\u001b[0m\u001b[0;34m\u001b[0m\u001b[0;34m\u001b[0m\u001b[0m\n\u001b[0m",
      "\u001b[0;31mIndexError\u001b[0m: index 166 is out of bounds for axis 0 with size 2"
     ]
    },
    {
     "data": {
      "image/png": "[encoded data removed]",
      "text/plain": [
       "<Figure size 432x288 with 1 Axes>"
      ]
     },
     "metadata": {},
     "output_type": "display_data"
    }
   ],
   "source": [
    "# Example of a picture\n",
    "index = 30\n",
    "plt.imshow(test_set_x_orig[index])\n",
    "print (\"y = \" + str(test_set_y[:, index]) + \", it's a '\" + classes[np.squeeze(test_set_x_orig[:, index])].decode(\"utf-8\") +  \"' picture.\")"
   ]
  }
 ],
 "metadata": {
  "anaconda-cloud": {},
  "coursera": {
   "course_slug": "neural-networks-deep-learning",
   "graded_item_id": "XaIWT",
   "launcher_item_id": "zAgPl"
  },
  "kernelspec": {
   "display_name": "Python 3",
   "language": "python",
   "name": "python3"
  },
  "language_info": {
   "codemirror_mode": {
    "name": "ipython",
    "version": 3
   },
   "file_extension": ".py",
   "mimetype": "text/x-python",
   "name": "python",
   "nbconvert_exporter": "python",
   "pygments_lexer": "ipython3",
   "version": "3.6.8"
  }
 },
 "nbformat": 4,
 "nbformat_minor": 2
}
