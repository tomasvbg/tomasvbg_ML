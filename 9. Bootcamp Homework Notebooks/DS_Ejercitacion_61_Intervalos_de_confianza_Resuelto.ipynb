{
 "cells": [
  {
   "cell_type": "code",
   "execution_count": 32,
   "metadata": {
    "id": "5l7yz3MZXMC4"
   },
   "outputs": [],
   "source": [
    "import numpy as np\n",
    "import pylab as plt"
   ]
  },
  {
   "cell_type": "markdown",
   "metadata": {
    "id": "LM9bOzs0XOg-"
   },
   "source": [
    "En el toolbox estudiaste el ejemplo de intentar analizar datos y realizar intervalos de confianza para una muestra particular de datos. Continuemos con el ejemplo de las horas de TV que ve una persona. Por simplicidad, simulemos los datos, suponiendo que son el resultado de una encuesta hecha a mil personas. Para eso usaremos una distribución normal con valor medio $\\mu$ y desvío estándar $\\sigma$"
   ]
  },
  {
   "cell_type": "code",
   "execution_count": 48,
   "metadata": {
    "id": "nfdmvjn4Xzue"
   },
   "outputs": [],
   "source": [
    "mu, sigma = 4, 1\n",
    "n = 1000\n",
    "\n",
    "datos = np.random.normal(mu, sigma, n)"
   ]
  },
  {
   "cell_type": "markdown",
   "metadata": {
    "id": "ZT-PqpmuYbXY"
   },
   "source": [
    "Hagamos un [histograma](https://es.wikipedia.org/wiki/Histograma)"
   ]
  },
  {
   "cell_type": "code",
   "execution_count": 49,
   "metadata": {
    "colab": {
     "base_uri": "https://localhost:8080/",
     "height": 297
    },
    "id": "kyRCIya6YZ-t",
    "outputId": "e931c7bb-0c7c-4036-fac0-e356c29ad3bd"
   },
   "outputs": [
    {
     "data": {
      "text/plain": [
       "Text(0, 0.5, 'cantidad de personas')"
      ]
     },
     "execution_count": 49,
     "metadata": {},
     "output_type": "execute_result"
    },
    {
     "data": {
      "image/png": "[encoded data removed]",
      "text/plain": [
       "<Figure size 432x288 with 1 Axes>"
      ]
     },
     "metadata": {
      "needs_background": "light"
     },
     "output_type": "display_data"
    }
   ],
   "source": [
    "plt.hist(datos)\n",
    "plt.xlabel('cantidad de horas')\n",
    "plt.ylabel('cantidad de personas')"
   ]
  },
  {
   "cell_type": "markdown",
   "metadata": {
    "id": "0-JOnPNMZPGC"
   },
   "source": [
    "Y ahora calculemos el promedio de los datos medidos. La idea es generar un intervalo de confianza, para poder decidir si el $\\mu_{muestra}$ se parece al de la distribución original, que valía $\\mu =4$  "
   ]
  },
  {
   "cell_type": "code",
   "execution_count": 50,
   "metadata": {
    "colab": {
     "base_uri": "https://localhost:8080/"
    },
    "id": "EmaFxQrDZOYW",
    "outputId": "37dd9e0b-6b49-4f1b-96b1-6bc2d8c25ac4"
   },
   "outputs": [
    {
     "name": "stdout",
     "output_type": "stream",
     "text": [
      "3.983048408245153\n",
      "0.9502588550931197\n"
     ]
    }
   ],
   "source": [
    "mu_muestra=np.mean(datos)\n",
    "sigma_muestra=np.std(datos)\n",
    "print(mu_muestra)\n",
    "print(sigma_muestra)"
   ]
  },
  {
   "cell_type": "markdown",
   "metadata": {
    "id": "fMXC9LxPbpyk"
   },
   "source": [
    "Ahora generemos el intervalo de confianza.  Primero hay que elegir $\\alpha$, el error que estamos dispuestas/os a cometer. En este caso tomaremos $\\alpha=0.05$, que implica que toleraremos hasta un 5% de error.\n",
    "\n",
    "Una vez establecido alpha, podemos armar el intervalo de confianza para saber con un 95% un intervalo donde se encuentra el promedio $\\mu$ de toda la población, usando una submuestra de esta. Para el caso de una gaussiana, se hace aplicando la fórmula.\n",
    "\n",
    "$\\mu_{poblacion}$ está en el intervalo $(\\mu_{datos}-z_{\\alpha} {{\\sigma}\\over{ \\sqrt{n}}},\\mu_{datos}+z_{\\alpha} {{\\sigma}\\over{ \\sqrt{n}}})$, donde $ n$ es el tamaño de la población y  $z_{\\alpha}$ es el \"valor crítico de la distribución\" y depende únicamente del **tipo** de distribución que tenemos y de $\\alpha$. Para distribuciones normales está tabulado, [acá](\n",
    "https://www.superprof.es/diccionario/matematicas/estadistica/valores-criticos.html) tienen algunos ejemplos. En este caso si $\\alpha=0.05$, corresponde $z_{aplha}=1.96$.\n",
    "\n",
    "\n"
   ]
  },
  {
   "cell_type": "code",
   "execution_count": 51,
   "metadata": {},
   "outputs": [],
   "source": [
    "# 90%\n",
    "z = 1.645\n",
    "# 95%\n",
    "z = 1.96\n",
    "# 99%\n",
    "z = 2.565"
   ]
  },
  {
   "cell_type": "code",
   "execution_count": 52,
   "metadata": {
    "colab": {
     "base_uri": "https://localhost:8080/"
    },
    "id": "wO352rqCRaU0",
    "outputId": "a2e27ca8-b09e-48ca-f3b5-75771ca8fd23"
   },
   "outputs": [],
   "source": [
    "todos = list()\n",
    "for z in (1.645, 1.96, 2.565):\n",
    "    todos.append([\n",
    "    mu_muestra - z * sigma_muestra / np.sqrt(n),\n",
    "    mu_muestra + z * sigma_muestra / np.sqrt(n)\n",
    "    ])"
   ]
  },
  {
   "cell_type": "code",
   "execution_count": 53,
   "metadata": {},
   "outputs": [
    {
     "data": {
      "text/plain": [
       "[[3.9336164486067653, 4.03248036788354],\n",
       " [3.924150754207925, 4.04194606228238],\n",
       " [3.9059706109974544, 4.0601262054928515]]"
      ]
     },
     "execution_count": 53,
     "metadata": {},
     "output_type": "execute_result"
    }
   ],
   "source": [
    "todos"
   ]
  },
  {
   "cell_type": "code",
   "execution_count": 54,
   "metadata": {},
   "outputs": [
    {
     "data": {
      "text/plain": [
       "[0.09886391927677485, 0.11779530807445537, 0.15415559449539717]"
      ]
     },
     "execution_count": 54,
     "metadata": {},
     "output_type": "execute_result"
    }
   ],
   "source": [
    "list(map(lambda x: x[1]-x[0], todos))"
   ]
  },
  {
   "cell_type": "markdown",
   "metadata": {
    "id": "bmmCq4saSbcr"
   },
   "source": [
    "Bueno, ahora ahondemos un poco más en cómo funciona esto. Veamos de qué variables dependen. Para eso generen intervalos de confianza para dos submuestras de la que tenemos. A continuación están definidas las dos submuestras \"datos_100\" y \"datos_500\" para que realicen este ejercicio.\n",
    "\n",
    "¿Cómo son los intervalos de confianza? ¿Variaron? ¿Por qué?"
   ]
  },
  {
   "cell_type": "code",
   "execution_count": 55,
   "metadata": {
    "colab": {
     "base_uri": "https://localhost:8080/",
     "height": 356
    },
    "id": "iX8Vbc0GRvmR",
    "outputId": "2e8f7d44-0ef1-44b0-ee57-5f205afb14bd"
   },
   "outputs": [],
   "source": [
    "datos_100=datos[0:100]\n",
    "datos_500=datos[200:700]"
   ]
  },
  {
   "cell_type": "code",
   "execution_count": 56,
   "metadata": {},
   "outputs": [
    {
     "data": {
      "text/plain": [
       "(array([ 4., 15., 17., 23., 18., 14.,  5.,  3.,  0.,  1.]),\n",
       " array([2.0965126 , 2.58211987, 3.06772715, 3.55333442, 4.0389417 ,\n",
       "        4.52454897, 5.01015624, 5.49576352, 5.98137079, 6.46697806,\n",
       "        6.95258534]),\n",
       " <BarContainer object of 10 artists>)"
      ]
     },
     "execution_count": 56,
     "metadata": {},
     "output_type": "execute_result"
    },
    {
     "data": {
      "image/png": "[encoded data removed]",
      "text/plain": [
       "<Figure size 432x288 with 1 Axes>"
      ]
     },
     "metadata": {
      "needs_background": "light"
     },
     "output_type": "display_data"
    }
   ],
   "source": [
    "plt.hist(datos_100)"
   ]
  },
  {
   "cell_type": "code",
   "execution_count": 57,
   "metadata": {
    "colab": {
     "base_uri": "https://localhost:8080/",
     "height": 356
    },
    "id": "6bhmkV9bTBJY",
    "outputId": "66168cc8-0fe6-4056-9c18-e4aa5d32186e"
   },
   "outputs": [
    {
     "data": {
      "text/plain": [
       "(array([  1.,   2.,  23.,  83., 108., 127.,  98.,  42.,  14.,   2.]),\n",
       " array([0.62538776, 1.26443801, 1.90348825, 2.5425385 , 3.18158875,\n",
       "        3.820639  , 4.45968925, 5.09873949, 5.73778974, 6.37683999,\n",
       "        7.01589024]),\n",
       " <BarContainer object of 10 artists>)"
      ]
     },
     "execution_count": 57,
     "metadata": {},
     "output_type": "execute_result"
    },
    {
     "data": {
      "image/png": "[encoded data removed]",
      "text/plain": [
       "<Figure size 432x288 with 1 Axes>"
      ]
     },
     "metadata": {
      "needs_background": "light"
     },
     "output_type": "display_data"
    }
   ],
   "source": [
    "plt.hist(datos_500)"
   ]
  },
  {
   "cell_type": "code",
   "execution_count": 61,
   "metadata": {
    "colab": {
     "base_uri": "https://localhost:8080/"
    },
    "id": "tCOVGPVdTJNI",
    "outputId": "a30934b5-07be-4d16-c008-0f77b9338149"
   },
   "outputs": [
    {
     "name": "stdout",
     "output_type": "stream",
     "text": [
      "int_conf=[3.7360753550674293, 4.079561085950852]\n",
      "0.3434857308834225\n"
     ]
    }
   ],
   "source": [
    "#resuelto\n",
    "mu_muestra100=np.mean(datos_100)\n",
    "sigma_muestra100=np.std(datos_100)\n",
    "z=1.96\n",
    "n100=len(datos_100)\n",
    "int_conf=[mu_muestra100-z*sigma_muestra100/np.sqrt(n100),mu_muestra100+z*sigma_muestra100/np.sqrt(n100)]\n",
    "print(f\"{int_conf=}\")\n",
    "print(f\"{(int_conf[1] - int_conf[0])}\")"
   ]
  },
  {
   "cell_type": "code",
   "execution_count": 62,
   "metadata": {
    "colab": {
     "base_uri": "https://localhost:8080/"
    },
    "id": "rXDlR2jqaLY3",
    "outputId": "f65e3166-ae21-43e0-afdf-fe8d8c0d2a75"
   },
   "outputs": [
    {
     "name": "stdout",
     "output_type": "stream",
     "text": [
      "int_conf=[3.9059037601834006, 4.068584666873968]\n",
      "0.16268090669056745\n"
     ]
    }
   ],
   "source": [
    "#resuelto\n",
    "mu_muestra500=np.mean(datos_500)\n",
    "sigma_muestra500=np.std(datos_500)\n",
    "z=1.96\n",
    "n500=len(datos_500)\n",
    "int_conf=[mu_muestra500-z*sigma_muestra500/np.sqrt(n500),mu_muestra500+z*sigma_muestra500/np.sqrt(n500)]\n",
    "print(f\"{int_conf=}\")\n",
    "print(f\"{(int_conf[1] - int_conf[0])}\")"
   ]
  },
  {
   "cell_type": "markdown",
   "metadata": {
    "id": "JHTXLpM7Tk9F"
   },
   "source": [
    "Ahora vamos a aprender a usar el método de Bootstrap, un método alternativo para estimar algún parámetro con su desvío estándar. Es muy útil porque sirve para estimar un parámetro y su error asociado incluso cuando no tenemos idea de cómo es la distribución.\n",
    "\n",
    "La idea de bootstrap es generar remuestreos a partir de una muestra dada, para cada re-muestra podemos calcular la magnitud de interés, en este caso el promedio $\\mu$, que en cada caso será distinto, y luego podemos hacer estadística con eso, por ejemplo calcular el valor medio y desviación estándar de la magnitud de interés. Vendría a ser como generar una \"muestra de magnitudes\"\n",
    "\n",
    "A continuación les dejamos una función donde sea hace una remuestra y se calcula el nuevo promedio. Ustedes deben \n",
    "\n",
    "\n",
    "1.   Hacer N remuestras (elijan ustedes la cantidad)\n",
    "2.   Calcular $\\mu$ para cada remuestra. Así se generan una distribución de $\\mu$\n",
    "3. Calcular el promedio y la desviación estándar de la distribución de $\\mu$ que generaron\n",
    "\n",
    "¿Cómo generarían un intervalo de confianza a partir de lo que hicieron con bootstrap?\n",
    "\n"
   ]
  },
  {
   "cell_type": "code",
   "execution_count": 64,
   "metadata": {},
   "outputs": [
    {
     "data": {
      "text/plain": [
       "1000"
      ]
     },
     "execution_count": 64,
     "metadata": {},
     "output_type": "execute_result"
    }
   ],
   "source": [
    "len(datos)"
   ]
  },
  {
   "cell_type": "code",
   "execution_count": 88,
   "metadata": {},
   "outputs": [
    {
     "data": {
      "text/plain": [
       "1000"
      ]
     },
     "execution_count": 88,
     "metadata": {},
     "output_type": "execute_result"
    }
   ],
   "source": [
    "n"
   ]
  },
  {
   "cell_type": "code",
   "execution_count": 122,
   "metadata": {},
   "outputs": [],
   "source": [
    "def bootstrap_sample(dataset):\n",
    "    n = len(dataset)\n",
    "    #indices = list()\n",
    "    muestra_bootstrap = list()\n",
    "    for _ in range(n):\n",
    "        indice = np.random.randint(n)\n",
    "        #indices.append(indice)\n",
    "        muestra_bootstrap.append(dataset[indice])\n",
    "    #indices = np.array(indices)\n",
    "    return np.array(muestra_bootstrap)"
   ]
  },
  {
   "cell_type": "code",
   "execution_count": 124,
   "metadata": {},
   "outputs": [],
   "source": [
    "def bootstrap(dataset, B=100):\n",
    "    boots = list()\n",
    "    for _ in range(B):\n",
    "        boots.append(bootstrap_sample(dataset))\n",
    "    return np.array(boots)"
   ]
  },
  {
   "cell_type": "code",
   "execution_count": 132,
   "metadata": {},
   "outputs": [],
   "source": [
    "datos_prime = np.random.choice(datos, size=len(datos)*5)"
   ]
  },
  {
   "cell_type": "code",
   "execution_count": 133,
   "metadata": {},
   "outputs": [
    {
     "data": {
      "text/plain": [
       "5000"
      ]
     },
     "execution_count": 133,
     "metadata": {},
     "output_type": "execute_result"
    }
   ],
   "source": [
    "datos_prime.size"
   ]
  },
  {
   "cell_type": "code",
   "execution_count": 134,
   "metadata": {},
   "outputs": [],
   "source": [
    "unicos, repeticiones = np.unique(datos_prime, return_counts=True)"
   ]
  },
  {
   "cell_type": "code",
   "execution_count": 135,
   "metadata": {},
   "outputs": [
    {
     "data": {
      "text/plain": [
       "992"
      ]
     },
     "execution_count": 135,
     "metadata": {},
     "output_type": "execute_result"
    }
   ],
   "source": [
    "unicos.size"
   ]
  },
  {
   "cell_type": "code",
   "execution_count": 115,
   "metadata": {},
   "outputs": [],
   "source": [
    "unicos, repeticiones = np.unique(indices, return_counts=True)"
   ]
  },
  {
   "cell_type": "code",
   "execution_count": 116,
   "metadata": {},
   "outputs": [
    {
     "data": {
      "text/plain": [
       "323"
      ]
     },
     "execution_count": 116,
     "metadata": {},
     "output_type": "execute_result"
    }
   ],
   "source": [
    "repeticiones.argmax()"
   ]
  },
  {
   "cell_type": "code",
   "execution_count": 117,
   "metadata": {},
   "outputs": [
    {
     "data": {
      "text/plain": [
       "499"
      ]
     },
     "execution_count": 117,
     "metadata": {},
     "output_type": "execute_result"
    }
   ],
   "source": [
    "unicos[323]"
   ]
  },
  {
   "cell_type": "code",
   "execution_count": 140,
   "metadata": {},
   "outputs": [],
   "source": [
    "def bootstrap_simplificado(dataset, B=100):\n",
    "    boots = list()\n",
    "    for _ in range(B):\n",
    "        boots.append(np.random.choice(dataset, size=len(dataset)))\n",
    "    return np.array(boots)"
   ]
  },
  {
   "cell_type": "code",
   "execution_count": 141,
   "metadata": {},
   "outputs": [],
   "source": [
    "datos_boots = bootstrap_simplificado(datos, 400)"
   ]
  },
  {
   "cell_type": "code",
   "execution_count": 145,
   "metadata": {},
   "outputs": [
    {
     "data": {
      "text/plain": [
       "(400, 1000)"
      ]
     },
     "execution_count": 145,
     "metadata": {},
     "output_type": "execute_result"
    }
   ],
   "source": [
    "datos_boots.shape"
   ]
  },
  {
   "cell_type": "code",
   "execution_count": 146,
   "metadata": {
    "colab": {
     "base_uri": "https://localhost:8080/",
     "height": 356
    },
    "id": "dprzklb7gfAW",
    "outputId": "0dc67d34-2b3b-447f-c80c-8f05d27b4449"
   },
   "outputs": [
    {
     "data": {
      "text/plain": [
       "(array([  7.,  14.,  54., 172., 216., 257., 173.,  78.,  24.,   5.]),\n",
       " array([0.84823724, 1.46500254, 2.08176784, 2.69853314, 3.31529844,\n",
       "        3.93206374, 4.54882904, 5.16559434, 5.78235964, 6.39912494,\n",
       "        7.01589024]),\n",
       " <BarContainer object of 10 artists>)"
      ]
     },
     "execution_count": 146,
     "metadata": {},
     "output_type": "execute_result"
    },
    {
     "data": {
      "image/png": "[encoded data removed]",
      "text/plain": [
       "<Figure size 432x288 with 1 Axes>"
      ]
     },
     "metadata": {
      "needs_background": "light"
     },
     "output_type": "display_data"
    }
   ],
   "source": [
    "datos_rem = bootstrap_sample(datos)\n",
    "plt.hist(datos_rem)"
   ]
  },
  {
   "cell_type": "code",
   "execution_count": 262,
   "metadata": {},
   "outputs": [],
   "source": [
    "alpha = 1"
   ]
  },
  {
   "cell_type": "code",
   "execution_count": 263,
   "metadata": {},
   "outputs": [
    {
     "data": {
      "text/plain": [
       "0.5"
      ]
     },
     "execution_count": 263,
     "metadata": {},
     "output_type": "execute_result"
    }
   ],
   "source": [
    "alpha/2"
   ]
  },
  {
   "cell_type": "code",
   "execution_count": 264,
   "metadata": {},
   "outputs": [
    {
     "data": {
      "text/plain": [
       "99.5"
      ]
     },
     "execution_count": 264,
     "metadata": {},
     "output_type": "execute_result"
    }
   ],
   "source": [
    "100 - alpha/2"
   ]
  },
  {
   "cell_type": "markdown",
   "metadata": {},
   "source": [
    "### Forma 1"
   ]
  },
  {
   "cell_type": "code",
   "execution_count": 214,
   "metadata": {},
   "outputs": [],
   "source": [
    "medias = np.apply_along_axis(np.mean, 1, datos_boots)"
   ]
  },
  {
   "cell_type": "code",
   "execution_count": 215,
   "metadata": {},
   "outputs": [],
   "source": [
    "medias.sort()"
   ]
  },
  {
   "cell_type": "code",
   "execution_count": 216,
   "metadata": {},
   "outputs": [],
   "source": [
    "inferior = np.percentile(medias, alpha/2)"
   ]
  },
  {
   "cell_type": "code",
   "execution_count": 217,
   "metadata": {},
   "outputs": [],
   "source": [
    "superior = np.percentile(medias, (100-alpha/2))"
   ]
  },
  {
   "cell_type": "code",
   "execution_count": 218,
   "metadata": {},
   "outputs": [],
   "source": [
    "intervalo_confianza = [inferior, superior]"
   ]
  },
  {
   "cell_type": "code",
   "execution_count": 255,
   "metadata": {},
   "outputs": [
    {
     "data": {
      "text/plain": [
       "[3.9171231901604013, 4.054009919590003]"
      ]
     },
     "execution_count": 255,
     "metadata": {},
     "output_type": "execute_result"
    }
   ],
   "source": [
    "intervalo_confianza"
   ]
  },
  {
   "cell_type": "markdown",
   "metadata": {},
   "source": [
    "### Forma 2"
   ]
  },
  {
   "cell_type": "code",
   "execution_count": 247,
   "metadata": {},
   "outputs": [],
   "source": [
    "media_muestral = np.mean(datos)"
   ]
  },
  {
   "cell_type": "code",
   "execution_count": 248,
   "metadata": {},
   "outputs": [],
   "source": [
    "medias_centradas = np.apply_along_axis(lambda x: np.mean(x) - media_muestral, 1, datos_boots)"
   ]
  },
  {
   "cell_type": "code",
   "execution_count": 249,
   "metadata": {},
   "outputs": [],
   "source": [
    "medias_centradas.sort()"
   ]
  },
  {
   "cell_type": "code",
   "execution_count": 250,
   "metadata": {},
   "outputs": [],
   "source": [
    "inferior = np.percentile(medias_centradas, alpha/2)"
   ]
  },
  {
   "cell_type": "code",
   "execution_count": 251,
   "metadata": {},
   "outputs": [],
   "source": [
    "superior = np.percentile(medias_centradas, (100-alpha/2))"
   ]
  },
  {
   "cell_type": "code",
   "execution_count": 252,
   "metadata": {},
   "outputs": [],
   "source": [
    "intervalo_confianza = [media_muestral + inferior, media_muestral + superior]"
   ]
  },
  {
   "cell_type": "code",
   "execution_count": 253,
   "metadata": {},
   "outputs": [
    {
     "data": {
      "text/plain": [
       "[3.9171231901604013, 4.054009919590003]"
      ]
     },
     "execution_count": 253,
     "metadata": {},
     "output_type": "execute_result"
    }
   ],
   "source": [
    "intervalo_confianza"
   ]
  },
  {
   "cell_type": "code",
   "execution_count": null,
   "metadata": {},
   "outputs": [],
   "source": []
  },
  {
   "cell_type": "code",
   "execution_count": null,
   "metadata": {},
   "outputs": [],
   "source": []
  }
 ],
 "metadata": {
  "colab": {
   "name": "Copy of Ejercitación 61: Intervalos de confianza Resuelto.ipynb",
   "provenance": []
  },
  "kernelspec": {
   "display_name": "Python 3",
   "language": "python",
   "name": "python3"
  },
  "language_info": {
   "codemirror_mode": {
    "name": "ipython",
    "version": 3
   },
   "file_extension": ".py",
   "mimetype": "text/x-python",
   "name": "python",
   "nbconvert_exporter": "python",
   "pygments_lexer": "ipython3",
   "version": "3.9.1"
  }
 },
 "nbformat": 4,
 "nbformat_minor": 1
}
