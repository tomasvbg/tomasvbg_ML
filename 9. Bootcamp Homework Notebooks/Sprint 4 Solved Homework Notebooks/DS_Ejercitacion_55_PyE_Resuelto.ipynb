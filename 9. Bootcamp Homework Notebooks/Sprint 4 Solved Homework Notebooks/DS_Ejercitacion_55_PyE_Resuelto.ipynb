{
 "cells": [
  {
   "cell_type": "markdown",
   "metadata": {
    "id": "Rax-OnX5OIiX"
   },
   "source": [
    "## Clase"
   ]
  },
  {
   "cell_type": "code",
   "execution_count": 1,
   "metadata": {},
   "outputs": [],
   "source": [
    "numero = 123456"
   ]
  },
  {
   "cell_type": "code",
   "execution_count": 2,
   "metadata": {},
   "outputs": [
    {
     "data": {
      "text/plain": [
       "4"
      ]
     },
     "execution_count": 2,
     "metadata": {},
     "output_type": "execute_result"
    }
   ],
   "source": [
    "int(str(numero)[3])"
   ]
  },
  {
   "cell_type": "code",
   "execution_count": 3,
   "metadata": {},
   "outputs": [],
   "source": [
    "import pandas as pd\n",
    "df = pd.DataFrame([{'numero':123456}, {'numero':6789}])"
   ]
  },
  {
   "cell_type": "code",
   "execution_count": 4,
   "metadata": {},
   "outputs": [
    {
     "data": {
      "text/plain": [
       "2"
      ]
     },
     "execution_count": 4,
     "metadata": {},
     "output_type": "execute_result"
    }
   ],
   "source": [
    "df['numero'].nunique()"
   ]
  },
  {
   "cell_type": "code",
   "execution_count": 5,
   "metadata": {},
   "outputs": [
    {
     "data": {
      "text/plain": [
       "array([123456,   6789])"
      ]
     },
     "execution_count": 5,
     "metadata": {},
     "output_type": "execute_result"
    }
   ],
   "source": [
    "df['numero'].unique()"
   ]
  },
  {
   "cell_type": "code",
   "execution_count": 6,
   "metadata": {},
   "outputs": [
    {
     "data": {
      "text/plain": [
       "123456    1\n",
       "6789      1\n",
       "Name: numero, dtype: int64"
      ]
     },
     "execution_count": 6,
     "metadata": {},
     "output_type": "execute_result"
    }
   ],
   "source": [
    "df['numero'].value_counts()"
   ]
  },
  {
   "cell_type": "code",
   "execution_count": 7,
   "metadata": {},
   "outputs": [
    {
     "data": {
      "text/html": [
       "<div>\n",
       "<style scoped>\n",
       "    .dataframe tbody tr th:only-of-type {\n",
       "        vertical-align: middle;\n",
       "    }\n",
       "\n",
       "    .dataframe tbody tr th {\n",
       "        vertical-align: top;\n",
       "    }\n",
       "\n",
       "    .dataframe thead th {\n",
       "        text-align: right;\n",
       "    }\n",
       "</style>\n",
       "<table border=\"1\" class=\"dataframe\">\n",
       "  <thead>\n",
       "    <tr style=\"text-align: right;\">\n",
       "      <th></th>\n",
       "      <th>numero</th>\n",
       "      <th>primer_numero</th>\n",
       "    </tr>\n",
       "  </thead>\n",
       "  <tbody>\n",
       "    <tr>\n",
       "      <th>0</th>\n",
       "      <td>123456</td>\n",
       "      <td>1</td>\n",
       "    </tr>\n",
       "    <tr>\n",
       "      <th>1</th>\n",
       "      <td>6789</td>\n",
       "      <td>6</td>\n",
       "    </tr>\n",
       "  </tbody>\n",
       "</table>\n",
       "</div>"
      ],
      "text/plain": [
       "   numero  primer_numero\n",
       "0  123456              1\n",
       "1    6789              6"
      ]
     },
     "execution_count": 7,
     "metadata": {},
     "output_type": "execute_result"
    }
   ],
   "source": [
    "df['primer_numero'] = df.apply(lambda x: int(str(x['numero'])[0]), axis=1)\n",
    "df"
   ]
  },
  {
   "cell_type": "code",
   "execution_count": null,
   "metadata": {},
   "outputs": [],
   "source": []
  },
  {
   "cell_type": "code",
   "execution_count": 8,
   "metadata": {},
   "outputs": [],
   "source": [
    "import numpy as np\n",
    "datos1 = np.array([10,0,10,0,0])\n",
    "datos2 = np.array([4,4,4,4,4])\n",
    "datos3 = np.array([10,0,10,0,0] * 1000)\n",
    "datos4 = np.array([1000,0,1000,0,1000])"
   ]
  },
  {
   "cell_type": "code",
   "execution_count": 9,
   "metadata": {},
   "outputs": [
    {
     "name": "stdout",
     "output_type": "stream",
     "text": [
      "np.mean(datos1)=4.0\n",
      "np.mean(datos2)=4.0\n",
      "np.mean(datos3)=4.0\n",
      "np.mean(datos4)=600.0\n"
     ]
    }
   ],
   "source": [
    "print(f'{np.mean(datos1)=}')\n",
    "print(f'{np.mean(datos2)=}')\n",
    "print(f'{np.mean(datos3)=}')\n",
    "print(f'{np.mean(datos4)=}')"
   ]
  },
  {
   "cell_type": "code",
   "execution_count": 10,
   "metadata": {},
   "outputs": [
    {
     "name": "stdout",
     "output_type": "stream",
     "text": [
      "np.std(datos1)=4.898979485566356\n",
      "np.std(datos2)=0.0\n",
      "np.std(datos3)=4.898979485566356\n",
      "np.std(datos4)=489.89794855663564\n"
     ]
    }
   ],
   "source": [
    "print(f'{np.std(datos1)=}')\n",
    "print(f'{np.std(datos2)=}')\n",
    "print(f'{np.std(datos3)=}')\n",
    "print(f'{np.std(datos4)=}')"
   ]
  },
  {
   "cell_type": "code",
   "execution_count": 12,
   "metadata": {},
   "outputs": [
    {
     "name": "stdout",
     "output_type": "stream",
     "text": [
      "np.std(datos1)/np.mean(datos1)=1.224744871391589\n",
      "np.std(datos2)/np.mean(datos2)=0.0\n",
      "np.std(datos3)/np.mean(datos3)=1.224744871391589\n",
      "np.std(datos4)/np.mean(datos4)=0.816496580927726\n"
     ]
    }
   ],
   "source": [
    "print(f'{np.std(datos1)/np.mean(datos1)=}')\n",
    "print(f'{np.std(datos2)/np.mean(datos2)=}')\n",
    "print(f'{np.std(datos3)/np.mean(datos3)=}')\n",
    "print(f'{np.std(datos4)/np.mean(datos4)=}')"
   ]
  },
  {
   "cell_type": "code",
   "execution_count": 13,
   "metadata": {},
   "outputs": [
    {
     "data": {
      "text/plain": [
       "array([10. , 10.2, 10.1,  9.9, 10.1, 10. ])"
      ]
     },
     "execution_count": 13,
     "metadata": {},
     "output_type": "execute_result"
    }
   ],
   "source": [
    "mediciones = np.array([10.0, 10.2, 10.1, 9.9, 10.1, 10.0])\n",
    "mediciones"
   ]
  },
  {
   "cell_type": "code",
   "execution_count": 14,
   "metadata": {},
   "outputs": [
    {
     "data": {
      "text/plain": [
       "10.049999999999999"
      ]
     },
     "execution_count": 14,
     "metadata": {},
     "output_type": "execute_result"
    }
   ],
   "source": [
    "medicion_promedio = np.mean(mediciones)\n",
    "medicion_promedio"
   ]
  },
  {
   "cell_type": "code",
   "execution_count": 15,
   "metadata": {},
   "outputs": [
    {
     "data": {
      "text/plain": [
       "0.09574271077563347"
      ]
     },
     "execution_count": 15,
     "metadata": {},
     "output_type": "execute_result"
    }
   ],
   "source": [
    "incertidumbre = np.std(mediciones)\n",
    "incertidumbre"
   ]
  },
  {
   "cell_type": "code",
   "execution_count": 16,
   "metadata": {},
   "outputs": [
    {
     "data": {
      "text/plain": [
       "[9.954257289224365, 10.145742710775632]"
      ]
     },
     "execution_count": 16,
     "metadata": {},
     "output_type": "execute_result"
    }
   ],
   "source": [
    "intervalo_confianza = [medicion_promedio - incertidumbre, medicion_promedio + incertidumbre]\n",
    "intervalo_confianza"
   ]
  },
  {
   "cell_type": "code",
   "execution_count": null,
   "metadata": {},
   "outputs": [],
   "source": []
  },
  {
   "cell_type": "markdown",
   "metadata": {
    "id": "rckjzpxyODEG"
   },
   "source": [
    "# El poder de las simulaciones\n",
    "\n",
    "Varios de los problemas que se presentan en PyE pueden resolverse analíticamente, pero muchos más pueden resolverse computacionalmente. Vamos a ver qué podemos hacer con un ejemplo.\n",
    "\n",
    "**Nota:** si todavía no viste [este video](https://www.youtube.com/watch?v=e1KqyG_1BsI&t=197s) sobre la ley de Benford, hazlo ahora. También será útil que consultes su [página de Wikipedia](https://es.wikipedia.org/wiki/Ley_de_Benford).\n",
    "\n",
    "La Ley de Benford es una observación sobre la distribución de frecuencia de los dígitos iniciales en muchos conjuntos de datos numéricos de la vida real. La formulación matemática de la Ley de Benford tiene la forma\n",
    "\n",
    "$P(d) = \\log_{10} (1 + 1/d)$\n",
    "\n",
    "donde *d* refiere al primer dígito del dato.\n",
    "\n",
    "\n",
    "## 1. Explorando la Ley de Benford\n",
    "\n",
    "**Ejercicios**\n",
    "\n",
    "1. Grafica la distribución de la Ley de Benford.\n",
    "1. ¿Los valores de la distribución suman 1?\n",
    "1. Genera muestras de distinto tamaño de esta ley. Puedes usar la función `np.random.choice`.\n",
    "1. **Desafío:** intenta generar un rango de valores esperados para cada dígito utilizando la Ley de Benford. Durante el encuentro te mostraremos cómo se hace.\n",
    "\n",
    "## 2. ¿Cumplen la Ley de Benford?\n",
    "\n",
    "Toma el conjunto de datos que trajiste y analiza visualmente si cumple la Ley de Benford. Piensa cómo sería un análisis cuantitativo (ten en cuenta los intervalos de confianza que viste durante el encuentro)."
   ]
  },
  {
   "cell_type": "code",
   "execution_count": 2,
   "metadata": {
    "id": "lyrPeT5vOJBu"
   },
   "outputs": [],
   "source": [
    "#Ejercicio 1\n",
    "import numpy as np\n",
    "import matplotlib.pyplot as plt\n",
    "#creo función ley de benford\n",
    "def benford(d):\n",
    "    P=np.log10(1+1/d)\n",
    "    return P\n",
    "\n",
    "benford=np.vectorize(benford) "
   ]
  },
  {
   "cell_type": "code",
   "execution_count": 18,
   "metadata": {},
   "outputs": [
    {
     "data": {
      "text/plain": [
       "array([1, 2, 3, 4, 5, 6, 7, 8, 9])"
      ]
     },
     "execution_count": 18,
     "metadata": {},
     "output_type": "execute_result"
    }
   ],
   "source": [
    "dd"
   ]
  },
  {
   "cell_type": "code",
   "execution_count": 19,
   "metadata": {},
   "outputs": [
    {
     "data": {
      "text/plain": [
       "array([0.30103   , 0.17609126, 0.12493874, 0.09691001, 0.07918125,\n",
       "       0.06694679, 0.05799195, 0.05115252, 0.04575749])"
      ]
     },
     "execution_count": 19,
     "metadata": {},
     "output_type": "execute_result"
    }
   ],
   "source": [
    "dist"
   ]
  },
  {
   "cell_type": "code",
   "execution_count": 3,
   "metadata": {
    "colab": {
     "base_uri": "https://localhost:8080/",
     "height": 297
    },
    "id": "6hzIebrNPL4c",
    "outputId": "30477e4d-7c29-4550-a81d-a9655c6f943e"
   },
   "outputs": [
    {
     "data": {
      "text/plain": [
       "Text(0, 0.5, 'P')"
      ]
     },
     "execution_count": 3,
     "metadata": {},
     "output_type": "execute_result"
    },
    {
     "data": {
      "image/png": "[encoded data removed]",
      "text/plain": [
       "<Figure size 432x288 with 1 Axes>"
      ]
     },
     "metadata": {
      "needs_background": "light"
     },
     "output_type": "display_data"
    }
   ],
   "source": [
    "#1.1\n",
    "dd=np.arange(1,10)\n",
    "dist=benford(dd)\n",
    "plt.plot(dd,dist,'.')\n",
    "plt.xlabel('d')\n",
    "plt.ylabel('P')\n"
   ]
  },
  {
   "cell_type": "code",
   "execution_count": 21,
   "metadata": {},
   "outputs": [
    {
     "data": {
      "text/plain": [
       "array([0.30103   , 0.17609126, 0.12493874, 0.09691001, 0.07918125,\n",
       "       0.06694679, 0.05799195, 0.05115252, 0.04575749])"
      ]
     },
     "execution_count": 21,
     "metadata": {},
     "output_type": "execute_result"
    }
   ],
   "source": [
    "dist"
   ]
  },
  {
   "cell_type": "code",
   "execution_count": 20,
   "metadata": {
    "colab": {
     "base_uri": "https://localhost:8080/"
    },
    "id": "5Pcme9loPP9b",
    "outputId": "375f9bc6-630a-45fd-a25d-e2c568cf9483"
   },
   "outputs": [
    {
     "name": "stdout",
     "output_type": "stream",
     "text": [
      "1.0\n"
     ]
    }
   ],
   "source": [
    "#1.2\n",
    "print(sum(dist))"
   ]
  },
  {
   "cell_type": "code",
   "execution_count": 31,
   "metadata": {},
   "outputs": [
    {
     "data": {
      "text/plain": [
       "array([1, 2, 3, 4, 5, 6, 7, 8, 9])"
      ]
     },
     "execution_count": 31,
     "metadata": {},
     "output_type": "execute_result"
    }
   ],
   "source": [
    "dd"
   ]
  },
  {
   "cell_type": "code",
   "execution_count": 23,
   "metadata": {
    "id": "695gWppNPSzw"
   },
   "outputs": [],
   "source": [
    "#1.3\n",
    "#con random choice podemos asignar probabilidades a una tira de números a mano. Generamos una función que genera muestras de tamaño N con esa distribución de probabilidad\n",
    "\n",
    "def muestra_ben(N):\n",
    "    muestra=np.zeros(N)\n",
    "    for i in range(N):\n",
    "        muestra[i]=np.random.choice(dd,p=dist)\n",
    "    return(muestra)"
   ]
  },
  {
   "cell_type": "code",
   "execution_count": 42,
   "metadata": {
    "colab": {
     "base_uri": "https://localhost:8080/",
     "height": 320
    },
    "id": "3GQtLdFJQGD-",
    "outputId": "6e19f59c-578f-46e4-930d-af0574a99d96"
   },
   "outputs": [
    {
     "data": {
      "text/plain": [
       "(array([1., 1., 1., 2., 0., 2., 1., 0., 1., 1.]),\n",
       " array([1. , 1.8, 2.6, 3.4, 4.2, 5. , 5.8, 6.6, 7.4, 8.2, 9. ]),\n",
       " <BarContainer object of 10 artists>)"
      ]
     },
     "execution_count": 42,
     "metadata": {},
     "output_type": "execute_result"
    },
    {
     "data": {
      "image/png": "[encoded data removed]",
      "text/plain": [
       "<Figure size 432x288 with 2 Axes>"
      ]
     },
     "metadata": {
      "needs_background": "light"
     },
     "output_type": "display_data"
    }
   ],
   "source": [
    "#genero muestra de N=1000\n",
    "m1000=muestra_ben(10)\n",
    "\n",
    "#grafico muestra e histograma\n",
    "plt.figure()\n",
    "plt.subplot(121)\n",
    "plt.plot(m1000,'.',markersize=1)\n",
    "plt.subplot(122)\n",
    "plt.hist(m1000)"
   ]
  },
  {
   "cell_type": "code",
   "execution_count": 7,
   "metadata": {
    "colab": {
     "base_uri": "https://localhost:8080/"
    },
    "id": "GcoIiYDAZG0f",
    "outputId": "7c758e3b-4bce-443d-a284-9acbaa5a6aa1"
   },
   "outputs": [
    {
     "name": "stdout",
     "output_type": "stream",
     "text": [
      "[1.0, 8.0]\n"
     ]
    }
   ],
   "source": [
    "#1.4\n",
    "#una opcion es ver que valores caen entre los percentiles 5, 95. Lo que esté entre esos valores serán los datos más esperables. \n",
    "p5=np.percentile(m1000, 5)\n",
    "p95=np.percentile(m1000, 95)\n",
    "rango=[p5,p95]\n",
    "print(rango)"
   ]
  },
  {
   "cell_type": "code",
   "execution_count": 43,
   "metadata": {},
   "outputs": [
    {
     "data": {
      "text/plain": [
       "array([5., 3., 4., 6., 4., 9., 5., 1., 2., 8.])"
      ]
     },
     "execution_count": 43,
     "metadata": {},
     "output_type": "execute_result"
    }
   ],
   "source": [
    "m1000"
   ]
  },
  {
   "cell_type": "code",
   "execution_count": 44,
   "metadata": {
    "scrolled": true
   },
   "outputs": [
    {
     "data": {
      "text/plain": [
       "1.9"
      ]
     },
     "execution_count": 44,
     "metadata": {},
     "output_type": "execute_result"
    }
   ],
   "source": [
    "np.percentile(m1000, 10)"
   ]
  },
  {
   "cell_type": "code",
   "execution_count": 9,
   "metadata": {
    "id": "JCcS625DQK_J"
   },
   "outputs": [],
   "source": [
    "#Ejercicio 2\n",
    "# poblacion municipios amba en 2010, fuente: http://www.estadistica.ec.gba.gov.ar/dpe/index.php/poblacion/dinamica/115-metodologia-dinamica/134-cuadros-estadisticos-dinamica\n",
    "poblacion=[17072,\n",
    "12047,\n",
    "10654,\n",
    "552902,\n",
    "29044,\n",
    "342677,\n",
    "20337,\n",
    "65280,\n",
    "301572,\n",
    "43823,\n",
    "32761,\n",
    "20239,\n",
    "324244,\n",
    "88470,\n",
    "34190,\n",
    "41336,\n",
    "26367,\n",
    "94461,\n",
    "51892,\n",
    "14494,\n",
    "22237,\n",
    "11570,\n",
    "14692,\n",
    "8205,\n",
    "48703,\n",
    "42277,\n",
    "64185,\n",
    "24890,\n",
    "62152,\n",
    "15825,\n",
    "22933,\n",
    "38320,\n",
    "16889,\n",
    "27042,\n",
    "56729,\n",
    "213619,\n",
    "300959,\n",
    "29805,\n",
    "163722,\n",
    "426005,\n",
    "8869,\n",
    "39594,\n",
    "11130,\n",
    "14903,\n",
    "17365,\n",
    "2816,\n",
    "19747,\n",
    "10783,\n",
    "14889,\n",
    "3700,\n",
    "11202,\n",
    "11261,\n",
    "618989,\n",
    "87185,\n",
    "414196,\n",
    "18078,\n",
    "30864,\n",
    "11826,\n",
    "9585,\n",
    "181241,\n",
    "167824,\n",
    "265981,\n",
    "90305,\n",
    "69633,\n",
    "1775816,\n",
    "654324,\n",
    "459263,\n",
    "10210,\n",
    "23871,\n",
    "16799,\n",
    "41808,\n",
    "17523,\n",
    "36172,\n",
    "616279,\n",
    "106273,\n",
    "19301,\n",
    "10188,\n",
    "322375,\n",
    "21279,\n",
    "54181,\n",
    "63284,\n",
    "528494,\n",
    "21034,\n",
    "6499,\n",
    "452505,\n",
    "321109,\n",
    "17054,\n",
    "92933,\n",
    "47722,\n",
    "111708,\n",
    "30207,\n",
    "39776,\n",
    "5887,\n",
    "104590,\n",
    "3640,\n",
    "299077,\n",
    "25728,\n",
    "81141,\n",
    "15743,\n",
    "9888,\n",
    "582943,\n",
    "33042,\n",
    "15176,\n",
    "17143,\n",
    "23432,\n",
    "12513,\n",
    "20749,\n",
    "32103,\n",
    "8644,\n",
    "32653,\n",
    "23027,\n",
    "23138,\n",
    "8399,\n",
    "163240,\n",
    "292878,\n",
    "276190,\n",
    "145857,\n",
    "59036,\n",
    "59478,\n",
    "10081,\n",
    "123871,\n",
    "9178,\n",
    "376381,\n",
    "1764,\n",
    "12723,\n",
    "43021,\n",
    "57110,\n",
    "340071,\n",
    "8700,\n",
    "35842,\n",
    "269420,\n",
    "31730,\n",
    "31014,\n",
    "114269,\n",
    "15625084]\n"
   ]
  },
  {
   "cell_type": "code",
   "execution_count": 45,
   "metadata": {},
   "outputs": [
    {
     "data": {
      "text/plain": [
       "135"
      ]
     },
     "execution_count": 45,
     "metadata": {},
     "output_type": "execute_result"
    }
   ],
   "source": [
    "len(poblacion)"
   ]
  },
  {
   "cell_type": "code",
   "execution_count": 10,
   "metadata": {
    "colab": {
     "base_uri": "https://localhost:8080/"
    },
    "id": "QIuI2T_3Fm9T",
    "outputId": "836892ef-accd-4d74-fe7f-1fbbd85aed85"
   },
   "outputs": [
    {
     "name": "stdout",
     "output_type": "stream",
     "text": [
      "[1. 1. 1. 5. 2. 3. 2. 6. 3. 4. 3. 2. 3. 8. 3. 4. 2. 9. 5. 1. 2. 1. 1. 8.\n",
      " 4. 4. 6. 2. 6. 1. 2. 3. 1. 2. 5. 2. 3. 2. 1. 4. 8. 3. 1. 1. 1. 2. 1. 1.\n",
      " 1. 3. 1. 1. 6. 8. 4. 1. 3. 1. 9. 1. 1. 2. 9. 6. 1. 6. 4. 1. 2. 1. 4. 1.\n",
      " 3. 6. 1. 1. 1. 3. 2. 5. 6. 5. 2. 6. 4. 3. 1. 9. 4. 1. 3. 3. 5. 1. 3. 2.\n",
      " 2. 8. 1. 9. 5. 3. 1. 1. 2. 1. 2. 3. 8. 3. 2. 2. 8. 1. 2. 2. 1. 5. 5. 1.\n",
      " 1. 9. 3. 1. 1. 4. 5. 3. 8. 3. 2. 3. 3. 1. 1.]\n"
     ]
    }
   ],
   "source": [
    "#genero una tira de vectores que sea el primer digito de cada dato de poblacion\n",
    "primer_digito=np.zeros(len(poblacion))\n",
    "for i in range(len(poblacion)):\n",
    "    numero=poblacion[i]\n",
    "    primer_digito[i]=int(str(numero)[:1])\n",
    "print(primer_digito)"
   ]
  },
  {
   "cell_type": "code",
   "execution_count": 50,
   "metadata": {
    "colab": {
     "base_uri": "https://localhost:8080/",
     "height": 320
    },
    "id": "K41e3XRhXRIk",
    "outputId": "ca578956-9f89-4f25-f4dd-8141dc99016c"
   },
   "outputs": [
    {
     "data": {
      "text/plain": [
       "(array([43., 24., 24., 11., 10.,  9.,  0.,  8.,  6.]),\n",
       " array([1.        , 1.88888889, 2.77777778, 3.66666667, 4.55555556,\n",
       "        5.44444444, 6.33333333, 7.22222222, 8.11111111, 9.        ]),\n",
       " <BarContainer object of 9 artists>)"
      ]
     },
     "execution_count": 50,
     "metadata": {},
     "output_type": "execute_result"
    },
    {
     "data": {
      "image/png": "[encoded data removed]",
      "text/plain": [
       "<Figure size 432x288 with 1 Axes>"
      ]
     },
     "metadata": {
      "needs_background": "light"
     },
     "output_type": "display_data"
    }
   ],
   "source": [
    "#grafico el histograma\n",
    "plt.hist(primer_digito, bins=9)"
   ]
  },
  {
   "cell_type": "code",
   "execution_count": 51,
   "metadata": {
    "id": "72qaTn2SX7KZ"
   },
   "outputs": [],
   "source": [
    "unique, counts = np.unique(primer_digito, return_counts=True)"
   ]
  },
  {
   "cell_type": "code",
   "execution_count": 52,
   "metadata": {},
   "outputs": [
    {
     "data": {
      "text/plain": [
       "array([1., 2., 3., 4., 5., 6., 8., 9.])"
      ]
     },
     "execution_count": 52,
     "metadata": {},
     "output_type": "execute_result"
    }
   ],
   "source": [
    "unique"
   ]
  },
  {
   "cell_type": "code",
   "execution_count": 53,
   "metadata": {},
   "outputs": [
    {
     "data": {
      "text/plain": [
       "array([43, 24, 24, 11, 10,  9,  8,  6])"
      ]
     },
     "execution_count": 53,
     "metadata": {},
     "output_type": "execute_result"
    }
   ],
   "source": [
    "counts"
   ]
  },
  {
   "cell_type": "code",
   "execution_count": 16,
   "metadata": {},
   "outputs": [
    {
     "data": {
      "text/plain": [
       "array([0.31851852, 0.17777778, 0.17777778, 0.08148148, 0.07407407,\n",
       "       0.06666667, 0.05925926, 0.04444444])"
      ]
     },
     "execution_count": 16,
     "metadata": {},
     "output_type": "execute_result"
    }
   ],
   "source": [
    "counts/counts.sum()"
   ]
  },
  {
   "cell_type": "markdown",
   "metadata": {},
   "source": [
    "<img src=\"benford_probability.png\" width=\"480\">"
   ]
  },
  {
   "cell_type": "code",
   "execution_count": null,
   "metadata": {},
   "outputs": [],
   "source": []
  }
 ],
 "metadata": {
  "colab": {
   "name": "DS - Ejercitación 55: PyE_Resuelto.ipynb",
   "provenance": []
  },
  "kernelspec": {
   "display_name": "Python 3",
   "language": "python",
   "name": "python3"
  },
  "language_info": {
   "codemirror_mode": {
    "name": "ipython",
    "version": 3
   },
   "file_extension": ".py",
   "mimetype": "text/x-python",
   "name": "python",
   "nbconvert_exporter": "python",
   "pygments_lexer": "ipython3",
   "version": "3.9.1"
  }
 },
 "nbformat": 4,
 "nbformat_minor": 1
}
