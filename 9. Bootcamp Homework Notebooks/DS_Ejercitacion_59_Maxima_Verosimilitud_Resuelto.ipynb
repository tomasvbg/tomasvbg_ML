{
 "cells": [
  {
   "cell_type": "markdown",
   "metadata": {
    "id": "ZTTCNhbC6avP"
   },
   "source": [
    "# Máxima Verosimilitud\n",
    "\n",
    "Como mencionamos en la Toolbox, es posible darle un enfoque iterativo al método de Máxima Verosimilitud. En linea con este bloque y para seguir poniendo en práctica el enfoque coputacional, trabajarás el Notebook de esa manera.\n",
    "\n",
    "### Problema de las manzanas\n",
    "\n",
    "Estás trabajando en una fábrica agroindustrial y necesitas conocer la distribución del peso de las manzanas que cosechan. Sabes que estas tienen una distribución Normal y cuentas con una muestra de 100 manzanas. Con esta, deberás definir los parámetros de su distribución.\n",
    "\n",
    "Recordemos que la función Normal cuenta con dos parámetros: mu y sigma. \n",
    "\n"
   ]
  },
  {
   "cell_type": "code",
   "execution_count": 105,
   "metadata": {
    "id": "YvnL5pnY4teE"
   },
   "outputs": [],
   "source": [
    "#importamos las librerías que vamos a usar\n",
    "import numpy as np\n",
    "import pandas as pd\n",
    "from scipy.stats import norm\n",
    "import matplotlib.pyplot as plt"
   ]
  },
  {
   "cell_type": "markdown",
   "metadata": {
    "id": "yLSQDE_BG-Bw"
   },
   "source": [
    "Generamos una muestra de 100 manzanas. Como nosotros definimos la función, conocemos los parámetros de la Distribución. Pero generalmente no sabemos esta información: es de la población."
   ]
  },
  {
   "cell_type": "code",
   "execution_count": 146,
   "metadata": {
    "id": "BZcqLMb4B0zu"
   },
   "outputs": [],
   "source": [
    "mu_teo = 250\n",
    "sigma_teo = 20\n",
    "n = 100\n",
    "muestra = np.random.normal(mu_teo, sigma_teo, n) "
   ]
  },
  {
   "cell_type": "markdown",
   "metadata": {
    "id": "1qSyJ0ueIHFs"
   },
   "source": [
    "Exploramos la muestra:"
   ]
  },
  {
   "cell_type": "code",
   "execution_count": 147,
   "metadata": {
    "colab": {
     "base_uri": "https://localhost:8080/",
     "height": 295
    },
    "id": "fmcwFcT5B8Cp",
    "outputId": "e66e6ddc-2884-45f8-b91e-5765ba101a78"
   },
   "outputs": [
    {
     "data": {
      "image/png": "[encoded data removed]",
      "text/plain": [
       "<Figure size 432x288 with 1 Axes>"
      ]
     },
     "metadata": {
      "needs_background": "light"
     },
     "output_type": "display_data"
    }
   ],
   "source": [
    "#Hacemos un histograma con la distribución de la muestra\n",
    "plt.hist(muestra, bins=30, alpha=0.5)\n",
    "plt.title('Distribución de la  peso de las manzanas')\n",
    "plt.xlabel('Peso de las manzanas')\n",
    "plt.ylabel('Cantidad')\n",
    "\n",
    "plt.show()"
   ]
  },
  {
   "cell_type": "code",
   "execution_count": 148,
   "metadata": {
    "colab": {
     "base_uri": "https://localhost:8080/"
    },
    "id": "NJbC0v8NIQZm",
    "outputId": "edbccba8-d601-4517-82c7-1abaa71ffb26"
   },
   "outputs": [
    {
     "name": "stdout",
     "output_type": "stream",
     "text": [
      "mu=251.2282256764417\n",
      "std=19.241307348972313\n"
     ]
    }
   ],
   "source": [
    "#averiguamos el promedio y la desviación estandar de la muestra\n",
    "mu = muestra.mean()\n",
    "std = muestra.std()\n",
    "\n",
    "print(f\"{mu=}\")\n",
    "print(f\"{std=}\")"
   ]
  },
  {
   "cell_type": "code",
   "execution_count": 149,
   "metadata": {},
   "outputs": [
    {
     "data": {
      "text/plain": [
       "array([254.12093518, 242.38596977, 243.77080649, 254.86770557,\n",
       "       241.31646511, 222.79923998, 220.97362459, 261.15877103,\n",
       "       266.74101361, 262.87500261, 248.76017902, 244.86349774,\n",
       "       287.52489761, 253.17967695, 254.6240692 , 237.77143919,\n",
       "       227.64465455, 247.9787601 , 279.53065248, 271.57295176,\n",
       "       279.99481883, 230.17324829, 251.43056229, 256.42276794,\n",
       "       254.31221875, 263.56020549, 239.73948996, 237.00349844,\n",
       "       281.55636465, 276.34828089, 249.23468702, 239.0377807 ,\n",
       "       240.55560109, 224.76661867, 254.89331242, 233.21895384,\n",
       "       231.57829141, 288.69397791, 255.55605163, 251.64925149,\n",
       "       257.92862106, 230.15520579, 250.4957875 , 268.15054978,\n",
       "       234.50042205, 274.51954791, 231.786516  , 277.40118673,\n",
       "       237.38910001, 238.84907845, 251.67191328, 222.95855391,\n",
       "       271.14901781, 271.11773957, 253.55216458, 259.39594593,\n",
       "       264.05923149, 252.88333837, 236.2877947 , 230.0162506 ,\n",
       "       233.24699872, 268.62554033, 262.35636353, 256.63147133,\n",
       "       243.88868384, 238.81031036, 288.64469326, 253.07582944,\n",
       "       243.44132204, 210.33925238, 274.20020218, 264.22116306,\n",
       "       291.57619362, 237.35231569, 257.32521125, 252.85258219,\n",
       "       229.21237029, 290.28751685, 237.33417867, 255.37516672,\n",
       "       241.9982829 , 237.01352319, 260.89990269, 263.52936858,\n",
       "       266.54504039, 223.94408375, 210.8568759 , 240.59795831,\n",
       "       229.78637177, 269.15500242, 212.2091333 , 252.61631325,\n",
       "       254.07882042, 278.33099874, 238.694171  , 225.91811863,\n",
       "       306.71567603, 247.57630789, 239.1627021 , 255.94229084])"
      ]
     },
     "execution_count": 149,
     "metadata": {},
     "output_type": "execute_result"
    }
   ],
   "source": [
    "muestra"
   ]
  },
  {
   "cell_type": "markdown",
   "metadata": {
    "id": "VY4-GFWy4Tm4"
   },
   "source": [
    "Notemos que los valores de mu y sigma de la muestra, es decir, los datos, son parecidos pero no iguales a los de la función distribución con la que los generamos. El método de máxima verosimilitud sirve para estimar los parámetros de la función generadora (que en este caso los conocemos \"de casualidad\") a partir de lo medido.\n",
    "\n",
    "Vuelvan a las primeras celdas y generen nuevamente los datos y calculen mu y sigma y repítanlo dos o tres veces. ¿son iguales los valores cada vez? ¿por qué piensan que pasa esto, si fueron generados con la misma función?"
   ]
  },
  {
   "cell_type": "code",
   "execution_count": 150,
   "metadata": {
    "colab": {
     "base_uri": "https://localhost:8080/"
    },
    "id": "fQAQQLiDKt7Q",
    "outputId": "19ff396e-4cfa-4d03-f4d5-bf5e1ab8bd60"
   },
   "outputs": [
    {
     "data": {
      "text/plain": [
       "1.9241307348972314"
      ]
     },
     "execution_count": 150,
     "metadata": {},
     "output_type": "execute_result"
    }
   ],
   "source": [
    "error_estandar = np.std(muestra) / np.sqrt(n)\n",
    "error_estandar"
   ]
  },
  {
   "cell_type": "code",
   "execution_count": 151,
   "metadata": {
    "colab": {
     "base_uri": "https://localhost:8080/"
    },
    "id": "ksIQ34rrI2D9",
    "outputId": "ebab3cfc-1b0b-4bc2-d1c7-7484eee13ea6"
   },
   "outputs": [
    {
     "data": {
      "text/plain": [
       "(251.2282256764417, 19.241307348972313)"
      ]
     },
     "execution_count": 151,
     "metadata": {},
     "output_type": "execute_result"
    }
   ],
   "source": [
    "#también podemos usar la función normal de la liberería Scipy para generar los parámetros\n",
    "norm.fit(muestra)"
   ]
  },
  {
   "cell_type": "markdown",
   "metadata": {
    "id": "cTdf5uvMJYRs"
   },
   "source": [
    "**Ya nos hemos aproximado a los dos parámetros que necesitábamos para la función de densidad.**\n",
    "\n",
    "¿Entonces? ¿Y todo lo que aprendimos? Te propongo que repasemos lo que acaba de pasar:\n",
    "\n",
    "1. Generamos una muestra con: distribución Normal, *mu* 250 y desviación estandar 20. Repetimos, estos parámetros nunca los conocemos en la vida real. \n",
    "2. Hicimos un histograma para ver su forma.\n",
    "3. Obtuvimos mu y la desviación estandar de la muestra. Con eso ya tuvimos los parámetros que buscábamos. Te podrás preguntar: ¿y el método de Maxima Verosimilitud? ¿Y la iteración?. Pocas veces los parámetros de las funciones tienen un estadístico que permite calcularlos, por lo que hay que recurrir a Máxima Verosimilitud. En este caso, elegimos la Normal para poder calcular analíticamente los parámetros y despues realizar una demostración iterativa. \n",
    "4. Calculamos el error estandar de la muestra.\n",
    "5. Calculamos los parámetros con la función Normal de SciPy.\n",
    "6. Al repetir la generación de la muestra, obtuvimos distintos valores de mu y sigma de la muestra. La diferencia entre muestra y función distribución es que en la primera contamos con datos \"reales\" y calculamos parámetros a partir de los mismos. La segunda nos sirve para hacer predicciones de lo que puede llegar a pasar con el sistema que genera los datos. El método de máxima verosimilitud sirve para obtener información de la función distribución a partir de una muestra.\n",
    "\n",
    "A continuación aplicaremos el método de máxima verosimilitud con un enfoque iterativo del mismo problema:"
   ]
  },
  {
   "cell_type": "markdown",
   "metadata": {
    "id": "0YijJ2lvQGbR"
   },
   "source": [
    "# Problema de las manzanas: enfoque iterativo"
   ]
  },
  {
   "cell_type": "code",
   "execution_count": 152,
   "metadata": {},
   "outputs": [
    {
     "data": {
      "text/plain": [
       "210.33925238298795"
      ]
     },
     "execution_count": 152,
     "metadata": {},
     "output_type": "execute_result"
    }
   ],
   "source": [
    "np.amin(muestra)"
   ]
  },
  {
   "cell_type": "code",
   "execution_count": 153,
   "metadata": {},
   "outputs": [
    {
     "data": {
      "text/plain": [
       "306.7156760288477"
      ]
     },
     "execution_count": 153,
     "metadata": {},
     "output_type": "execute_result"
    }
   ],
   "source": [
    "np.amax(muestra)"
   ]
  },
  {
   "cell_type": "code",
   "execution_count": 154,
   "metadata": {},
   "outputs": [
    {
     "data": {
      "text/plain": [
       "19.241307348972313"
      ]
     },
     "execution_count": 154,
     "metadata": {},
     "output_type": "execute_result"
    }
   ],
   "source": [
    "np.std(muestra)"
   ]
  },
  {
   "cell_type": "code",
   "execution_count": 188,
   "metadata": {
    "id": "quWdu3DMTEd-"
   },
   "outputs": [],
   "source": [
    "#armamos dos listas con posibles valores de mu y sigma:\n",
    "posibles_mu = np.linspace(np.amin(muestra), np.amax(muestra), 1000)\n",
    "posibles_sigmas = np.linspace(np.std(muestra)*0.5, np.std(muestra)*1.5, 300)"
   ]
  },
  {
   "cell_type": "code",
   "execution_count": 178,
   "metadata": {},
   "outputs": [
    {
     "data": {
      "text/plain": [
       "9.620653674486157"
      ]
     },
     "execution_count": 178,
     "metadata": {},
     "output_type": "execute_result"
    }
   ],
   "source": [
    "np.std(muestra)*0.5"
   ]
  },
  {
   "cell_type": "code",
   "execution_count": 179,
   "metadata": {},
   "outputs": [
    {
     "data": {
      "text/plain": [
       "28.86196102345847"
      ]
     },
     "execution_count": 179,
     "metadata": {},
     "output_type": "execute_result"
    }
   ],
   "source": [
    "np.std(muestra)*1.5"
   ]
  },
  {
   "cell_type": "markdown",
   "metadata": {
    "id": "d3TsHZ_oQPYE"
   },
   "source": [
    "Primero vamos a definir una función que calcula la probabilidad conjunta en función de mu, sigma y la muestra, que es lo que queremos maximizar -recordemos que la función de probabilidad conjunta es la de Verosimilitud-. Luego evaluaremos su valor para todos los posibles mu y sigma. Nos quedaremos con los valores que maximicen esta función."
   ]
  },
  {
   "cell_type": "code",
   "execution_count": 180,
   "metadata": {
    "id": "b1lNoDdaXECV"
   },
   "outputs": [],
   "source": [
    "def prob_conjunta(mu,sigma,muestra): #la función depende del mu y sigma que se nos ocurran y de la muestra\n",
    "    pconj=1\n",
    "  \n",
    "    for i in range(len(muestra)): #armamos un for que calcula la probabilidad conjunta\n",
    "        prob_sola=(1/sigma*np.sqrt(2*np.pi))*(np.e**-(((muestra[i]-mu)**2)/(2*sigma**2))) #calculamos la probabilidad de medir la muestra iésima, notemos que acá ponemos la información de que los datos fueron generados con una distribución normal\n",
    "        pconj*=prob_sola #calculamos la probabilidad conjunta multiplicando el dato iésimo con el anterior.\n",
    "\n",
    "    return pconj"
   ]
  },
  {
   "cell_type": "code",
   "execution_count": 181,
   "metadata": {},
   "outputs": [
    {
     "data": {
      "text/plain": [
       "(219.89006914068577, 11.486867430740997)"
      ]
     },
     "execution_count": 181,
     "metadata": {},
     "output_type": "execute_result"
    }
   ],
   "source": [
    "posibles_mu[i],posibles_sigmas[j]"
   ]
  },
  {
   "cell_type": "code",
   "execution_count": 182,
   "metadata": {},
   "outputs": [],
   "source": [
    "#prob_conjunta(250,20,muestra)"
   ]
  },
  {
   "cell_type": "markdown",
   "metadata": {
    "id": "2FVT4NB_QuL6"
   },
   "source": [
    "Ahora recorremos esto para todos los mu y sigma posbles. Para eso creamos una matriz vacía del tamaño de Nmu x Nsigma y la vamos llenando con el valor de la probabilidad conjunta. Luego miramos para qué celda de la matriz esta es más grande y nos quedamos con ese mu y ese sigma.\n"
   ]
  },
  {
   "cell_type": "code",
   "execution_count": 183,
   "metadata": {
    "id": "Zz3V7oNzZwmS"
   },
   "outputs": [],
   "source": [
    "#creamos la matriz de ceros\n",
    "probabilidades_conjuntas=np.zeros([len(posibles_mu),len(posibles_sigmas)])\n",
    "\n",
    "#ahora vamos rellenando calculando la probabilidad conjunta para cada mu y cada sigma\n",
    "\n",
    "for i in range (len(posibles_mu)):\n",
    "    for j in range (len(posibles_sigmas)):\n",
    "        probabilidades_conjuntas[i,j]=prob_conjunta(posibles_mu[i],posibles_sigmas[j],muestra)"
   ]
  },
  {
   "cell_type": "code",
   "execution_count": 184,
   "metadata": {
    "colab": {
     "base_uri": "https://localhost:8080/"
    },
    "id": "vcG1-TmP_poK",
    "outputId": "18b1a3fa-c0ea-4e77-a330-9b4ae4ea2947"
   },
   "outputs": [
    {
     "data": {
      "text/plain": [
       "array([[0.00000000e+000, 0.00000000e+000, 0.00000000e+000, ...,\n",
       "        2.28433936e-160, 3.17239508e-160, 4.39165953e-160],\n",
       "       [0.00000000e+000, 0.00000000e+000, 0.00000000e+000, ...,\n",
       "        3.68145646e-160, 5.10177206e-160, 7.04763440e-160],\n",
       "       [0.00000000e+000, 0.00000000e+000, 0.00000000e+000, ...,\n",
       "        5.92637505e-160, 8.19534873e-160, 1.12972527e-159],\n",
       "       ...,\n",
       "       [0.00000000e+000, 0.00000000e+000, 0.00000000e+000, ...,\n",
       "        8.23644669e-197, 1.66363631e-196, 3.34121648e-196],\n",
       "       [0.00000000e+000, 0.00000000e+000, 0.00000000e+000, ...,\n",
       "        4.31405727e-197, 8.73892911e-197, 1.76015078e-196],\n",
       "       [0.00000000e+000, 0.00000000e+000, 0.00000000e+000, ...,\n",
       "        2.25705602e-197, 4.58533052e-197, 9.26210942e-197]])"
      ]
     },
     "execution_count": 184,
     "metadata": {},
     "output_type": "execute_result"
    }
   ],
   "source": [
    "#veamos cómo quedó la matriz de probabilidades conjuntas. En general los números son bastante chicos porque es el producto de cosas muy chicas\n",
    "probabilidades_conjuntas"
   ]
  },
  {
   "cell_type": "code",
   "execution_count": 189,
   "metadata": {
    "colab": {
     "base_uri": "https://localhost:8080/",
     "height": 301
    },
    "id": "FIw9UvQZMG61",
    "outputId": "3f40ffed-c7c6-43a1-d721-65fe45eb9a68"
   },
   "outputs": [
    {
     "data": {
      "text/plain": [
       "Text(0, 0.5, 'mu')"
      ]
     },
     "execution_count": 189,
     "metadata": {},
     "output_type": "execute_result"
    },
    {
     "data": {
      "image/png": "[encoded data removed]",
      "text/plain": [
       "<Figure size 432x288 with 1 Axes>"
      ]
     },
     "metadata": {
      "needs_background": "light"
     },
     "output_type": "display_data"
    }
   ],
   "source": [
    "#podemos graficar la superficie de todos los resultados de las probabilidades conjuntas para ver dónde cae el máximo\n",
    "\n",
    "plt.contourf(posibles_sigmas,posibles_mu,probabilidades_conjuntas,levels=50)\n",
    "plt.xlabel('sigma')\n",
    "plt.ylabel('mu')"
   ]
  },
  {
   "cell_type": "code",
   "execution_count": 190,
   "metadata": {
    "colab": {
     "base_uri": "https://localhost:8080/"
    },
    "id": "F-JwNmZn8lZd",
    "outputId": "22e3b18e-acff-44be-acf5-e37abf63967d"
   },
   "outputs": [
    {
     "name": "stdout",
     "output_type": "stream",
     "text": [
      "(array([424]), array([150]))\n"
     ]
    }
   ],
   "source": [
    "#podemos ver que hay un máximo que corresponde a los valores de mu y sigma con amarillo más fuerte. Ese es el valor máximo\n",
    "#de la probabilidad conjunta que hallamos con este método. Encontrar los índices de este valor máximo es muy fácil\n",
    "maximos=np.where(probabilidades_conjuntas==np.amax(probabilidades_conjuntas))\n",
    "print(maximos)"
   ]
  },
  {
   "cell_type": "code",
   "execution_count": 176,
   "metadata": {
    "colab": {
     "base_uri": "https://localhost:8080/"
    },
    "id": "qyS4PjLvGNaL",
    "outputId": "65dc1d21-8c2e-4971-d634-ee626b9954e0"
   },
   "outputs": [
    {
     "name": "stdout",
     "output_type": "stream",
     "text": [
      "mu=[251.22621999]\n",
      "sigma=[19.57305403]\n"
     ]
    }
   ],
   "source": [
    "#La primer coordenda de \"maximos\" corresponde al índice de posibles mu y la segunda al de posibles sigmas. Entonces\n",
    "mu_estimado=posibles_mu[maximos[0]]\n",
    "sigma_estimado=posibles_sigmas[maximos[1]]\n",
    "print('mu='+str(mu_estimado))\n",
    "print('sigma='+str(sigma_estimado))"
   ]
  },
  {
   "cell_type": "code",
   "execution_count": 191,
   "metadata": {},
   "outputs": [
    {
     "name": "stdout",
     "output_type": "stream",
     "text": [
      "mu=[251.24376052]\n",
      "sigma=[19.27348345]\n"
     ]
    }
   ],
   "source": [
    "#La primer coordenda de \"maximos\" corresponde al índice de posibles mu y la segunda al de posibles sigmas. Entonces\n",
    "mu_estimado=posibles_mu[maximos[0]]\n",
    "sigma_estimado=posibles_sigmas[maximos[1]]\n",
    "print('mu='+str(mu_estimado))\n",
    "print('sigma='+str(sigma_estimado))"
   ]
  },
  {
   "cell_type": "markdown",
   "metadata": {
    "id": "N_5YtoNmTQTn"
   },
   "source": [
    "# Problema 2\n",
    "\n",
    "Trabajas en el equipo de datos de un aeropuerto y, para eficientizar el trabajo y la coordinación de todo el personal, debes calcular la distribución del tráfico aereo. Para eso, empezaras por calcular la distribución de la llegada de aviones. Utilizarás una muestra que indica la cantidad de aviones que llegan por hora. Asumes que tiene una distribución Poisson.\n",
    "\n",
    "\n",
    "1. A través del método de máxima verosimilitud encuentra la Función de probabilidad de la distribución. **Atención**: hazlo a través de la simulación computacional. Para esto necesitaras formular una grilla con posibles valores de los parámetros y encontrar qué parametros maximizan la función de verosimilitud. Ten en cuenta que la función \"prob_conjunta\" de más arriba fue creada suponiendo que los datos siguen una distribución gaussiana... Debes crear una nueva que sirva para datos hecho a partir de una poissoniana.\n",
    "2. Puedes comparar el resultado que te dió, calculando los parámetros con la libería Scipy."
   ]
  },
  {
   "cell_type": "code",
   "execution_count": 71,
   "metadata": {
    "id": "Ubs1Y4doGLTd"
   },
   "outputs": [],
   "source": [
    "n = 100\n",
    "lambda_teo = 6"
   ]
  },
  {
   "cell_type": "code",
   "execution_count": 72,
   "metadata": {
    "id": "-AluVkO9Z75w"
   },
   "outputs": [],
   "source": [
    "#muestra de la cantidad de aviones por hora\n",
    "muestra_aviones = np.random.poisson(lambda_teo, n)\n"
   ]
  },
  {
   "cell_type": "code",
   "execution_count": 73,
   "metadata": {
    "colab": {
     "base_uri": "https://localhost:8080/"
    },
    "id": "_HtPr_HBYD9N",
    "outputId": "9ec8de85-f490-4850-f488-f955659a0869"
   },
   "outputs": [
    {
     "name": "stdout",
     "output_type": "stream",
     "text": [
      "[ 7  6  6  9  7  4  8  4  7 11  6  8  4  8  3 10  9  8  6  9 10  4  7 10\n",
      "  5 12  6  1  6  7  5  5 10  7  3  6  6  5  9  6  7  4  3  6  7  8  7  3\n",
      "  7  6  3  8  8 13  8  9  5  8  6  5  2  6  8  6  3  3  3  4  7 10  3  4\n",
      "  5  8  2  3  6  5  8  5  7  6  7  4  7  6  4  4  4  6  4  5  5 10  6  4\n",
      "  9  4  2  7]\n"
     ]
    }
   ],
   "source": [
    "print(muestra_aviones)"
   ]
  },
  {
   "cell_type": "code",
   "execution_count": 74,
   "metadata": {
    "colab": {
     "base_uri": "https://localhost:8080/",
     "height": 320
    },
    "id": "VBZC9tN8IB2U",
    "outputId": "30cba52f-0910-4448-aeea-e64e97d64599"
   },
   "outputs": [
    {
     "data": {
      "text/plain": [
       "(array([ 4., 10., 14., 11., 19., 27.,  6.,  6.,  1.,  2.]),\n",
       " array([ 1. ,  2.2,  3.4,  4.6,  5.8,  7. ,  8.2,  9.4, 10.6, 11.8, 13. ]),\n",
       " <BarContainer object of 10 artists>)"
      ]
     },
     "execution_count": 74,
     "metadata": {},
     "output_type": "execute_result"
    },
    {
     "data": {
      "image/png": "[encoded data removed]",
      "text/plain": [
       "<Figure size 432x288 with 1 Axes>"
      ]
     },
     "metadata": {
      "needs_background": "light"
     },
     "output_type": "display_data"
    }
   ],
   "source": [
    "plt.hist(muestra_aviones)"
   ]
  },
  {
   "cell_type": "code",
   "execution_count": 75,
   "metadata": {
    "id": "9D43iroMKFet"
   },
   "outputs": [],
   "source": [
    "#1. ahora el único parámetro es lambda (L), generamos función que calcula prob. conjunta"
   ]
  },
  {
   "cell_type": "code",
   "execution_count": 76,
   "metadata": {
    "id": "7tQ4PNHHKG3z"
   },
   "outputs": [],
   "source": [
    "def prob_conj(L,muestra): #la función depende del parámetro lambda y de la muestra\n",
    "    pconj=1\n",
    "    k=muestra\n",
    "    for i in range(len(muestra)): #armamos un for que calcula la probabilidad conjunta\n",
    "        prob_sola=np.exp(-L)*(L**k[i])/np.math.factorial(k[i]) #calculamos la probabilidad de medir la muestra iésima, notemos que acá ponemos la información de que los datos fueron generados con una distribución normal\n",
    "        pconj*=prob_sola #calculamos la probabilidad conjunta multiplicando el dato iésimo con el anterior.\n",
    "\n",
    "    return pconj"
   ]
  },
  {
   "cell_type": "code",
   "execution_count": 77,
   "metadata": {
    "id": "l8a5qNzEWaqr"
   },
   "outputs": [],
   "source": [
    "#generamos de L\n",
    "\n",
    "L=np.arange(0,150)"
   ]
  },
  {
   "cell_type": "code",
   "execution_count": 78,
   "metadata": {
    "id": "ypWMlKvlWupq"
   },
   "outputs": [],
   "source": [
    "#calculamos la prob conjunta\n",
    "\n",
    "probabilidades_conjuntas=np.zeros(len(L))\n",
    "\n",
    "#ahora vamos rellenando calculando la probabilidad conjunta para cada mu y cada sigma\n",
    "\n",
    "for i in range (len(L)):\n",
    "    probabilidades_conjuntas[i]=prob_conj(L[i],muestra_aviones)"
   ]
  },
  {
   "cell_type": "code",
   "execution_count": 79,
   "metadata": {
    "colab": {
     "base_uri": "https://localhost:8080/",
     "height": 297
    },
    "id": "zxz--dYzXC4o",
    "outputId": "1f4bc6d3-c264-4d41-d2ed-909fff48ee2c"
   },
   "outputs": [
    {
     "data": {
      "text/plain": [
       "Text(0, 0.5, 'pconj')"
      ]
     },
     "execution_count": 79,
     "metadata": {},
     "output_type": "execute_result"
    },
    {
     "data": {
      "image/png": "[encoded data removed]",
      "text/plain": [
       "<Figure size 432x288 with 1 Axes>"
      ]
     },
     "metadata": {
      "needs_background": "light"
     },
     "output_type": "display_data"
    }
   ],
   "source": [
    "#grafico a ver como da\n",
    "plt.semilogy(L,probabilidades_conjuntas) \n",
    "plt.xlabel('L')\n",
    "plt.ylabel('pconj')"
   ]
  },
  {
   "cell_type": "code",
   "execution_count": 80,
   "metadata": {
    "colab": {
     "base_uri": "https://localhost:8080/"
    },
    "id": "G2F6oqHzXNM_",
    "outputId": "b77b5d8f-45ad-4182-dc27-199e27f9e94d"
   },
   "outputs": [
    {
     "name": "stdout",
     "output_type": "stream",
     "text": [
      "(array([6]),)\n"
     ]
    }
   ],
   "source": [
    "maximos=np.where(probabilidades_conjuntas==np.max(probabilidades_conjuntas))\n",
    "print(maximos)"
   ]
  },
  {
   "cell_type": "code",
   "execution_count": 81,
   "metadata": {
    "colab": {
     "base_uri": "https://localhost:8080/"
    },
    "id": "JjBNfsblZIBn",
    "outputId": "a517701e-8690-41af-9920-905d48c14ce0"
   },
   "outputs": [
    {
     "data": {
      "text/plain": [
       "array([6])"
      ]
     },
     "execution_count": 81,
     "metadata": {},
     "output_type": "execute_result"
    }
   ],
   "source": [
    "L[maximos]"
   ]
  },
  {
   "cell_type": "code",
   "execution_count": 82,
   "metadata": {
    "id": "hQJhWj9sbZur"
   },
   "outputs": [],
   "source": [
    "import scipy\n",
    "from scipy.optimize import curve_fit"
   ]
  },
  {
   "cell_type": "code",
   "execution_count": 83,
   "metadata": {
    "id": "TQZMwELAaQB7"
   },
   "outputs": [],
   "source": [
    "#2\n",
    "#genero funcion a fitear y lo hago a mano, no existe rutina de scipy que haga esto. Otra opción es calcular el promedio.\n",
    "def Poisson(x,L):\n",
    "\n",
    "    P=np.zeros(len(x))\n",
    "\n",
    "    for i in range(len(x)):\n",
    "\n",
    "        P[i]=np.exp(-L)*(L**x[i])/np.math.factorial(x[i])\n",
    "    return P\n",
    "\n",
    " "
   ]
  },
  {
   "cell_type": "code",
   "execution_count": 84,
   "metadata": {
    "id": "PEmQk8F4cfls"
   },
   "outputs": [],
   "source": [
    "kmax=np.max(muestra_aviones)\n",
    "x=np.arange(0,kmax)\n",
    "y=np.zeros(len(x))\n",
    "\n",
    "for i in range(len(x)):\n",
    "    xx=x[i]\n",
    "    y[i]=np.sum(np.where(muestra_aviones==xx))/len(muestra_aviones)"
   ]
  },
  {
   "cell_type": "code",
   "execution_count": 85,
   "metadata": {
    "colab": {
     "base_uri": "https://localhost:8080/",
     "height": 283
    },
    "id": "ZRWuZadoiDnR",
    "outputId": "f84c5708-34bd-4d06-b6cd-8d98892490ac"
   },
   "outputs": [
    {
     "data": {
      "text/plain": [
       "[<matplotlib.lines.Line2D at 0x7fe40a249700>]"
      ]
     },
     "execution_count": 85,
     "metadata": {},
     "output_type": "execute_result"
    },
    {
     "data": {
      "image/png": "[encoded data removed]",
      "text/plain": [
       "<Figure size 432x288 with 1 Axes>"
      ]
     },
     "metadata": {
      "needs_background": "light"
     },
     "output_type": "display_data"
    }
   ],
   "source": [
    "plt.plot(x,y)"
   ]
  },
  {
   "cell_type": "code",
   "execution_count": 86,
   "metadata": {
    "id": "HNxoOxFYam1Q"
   },
   "outputs": [
    {
     "name": "stderr",
     "output_type": "stream",
     "text": [
      "<ipython-input-83-2be61617352d>:9: DeprecationWarning: Using factorial() with floats is deprecated\n",
      "  P[i]=np.exp(-L)*(L**x[i])/np.math.factorial(x[i])\n"
     ]
    }
   ],
   "source": [
    "pop, pcov = curve_fit(Poisson, x, y)"
   ]
  },
  {
   "cell_type": "code",
   "execution_count": 87,
   "metadata": {
    "colab": {
     "base_uri": "https://localhost:8080/"
    },
    "id": "Di-46GY3dBoN",
    "outputId": "648b4229-c536-4c55-e6bb-2b6cb2b86178"
   },
   "outputs": [
    {
     "data": {
      "text/plain": [
       "array([5.26374318])"
      ]
     },
     "execution_count": 87,
     "metadata": {},
     "output_type": "execute_result"
    }
   ],
   "source": [
    "pop\n"
   ]
  },
  {
   "cell_type": "markdown",
   "metadata": {},
   "source": [
    "$$\\frac{d}{dx} log_a(x) = \\frac{1}{x\\ln(a)}$$"
   ]
  },
  {
   "cell_type": "markdown",
   "metadata": {},
   "source": [
    "$$\\frac{d}{dx} log_{10}(x) = \\frac{1}{x\\ln(10)} = \\frac{1}{2.302 x}$$"
   ]
  },
  {
   "cell_type": "markdown",
   "metadata": {},
   "source": [
    "Si $a = e$ entonces:\n",
    "$$\\frac{d}{dx} log_e(x) = \\frac{1}{x\\ln(e)}$$\n",
    "Pero $\\ln(e) = 1$ entonces:\n",
    "$$\\frac{d}{dx} log_e(x) = \\frac{d}{dx}\\ln(x) = \\frac{1}{x}$$"
   ]
  },
  {
   "cell_type": "markdown",
   "metadata": {},
   "source": [
    "$log_a(x) = \\ln(x)$"
   ]
  },
  {
   "cell_type": "markdown",
   "metadata": {},
   "source": [
    "$$\\frac{d}{dx} e^x = e^x$$"
   ]
  },
  {
   "cell_type": "code",
   "execution_count": 91,
   "metadata": {},
   "outputs": [],
   "source": [
    "def factorial(x):\n",
    "    respuesta = 1\n",
    "    for i in range(x,0,-1):\n",
    "        respuesta *= i\n",
    "    return respuesta"
   ]
  },
  {
   "cell_type": "code",
   "execution_count": 92,
   "metadata": {},
   "outputs": [
    {
     "data": {
      "text/plain": [
       "1"
      ]
     },
     "execution_count": 92,
     "metadata": {},
     "output_type": "execute_result"
    }
   ],
   "source": [
    "factorial(1)"
   ]
  },
  {
   "cell_type": "code",
   "execution_count": 93,
   "metadata": {},
   "outputs": [
    {
     "data": {
      "text/plain": [
       "2"
      ]
     },
     "execution_count": 93,
     "metadata": {},
     "output_type": "execute_result"
    }
   ],
   "source": [
    "factorial(2)"
   ]
  },
  {
   "cell_type": "code",
   "execution_count": 94,
   "metadata": {},
   "outputs": [
    {
     "data": {
      "text/plain": [
       "6"
      ]
     },
     "execution_count": 94,
     "metadata": {},
     "output_type": "execute_result"
    }
   ],
   "source": [
    "factorial(3)"
   ]
  },
  {
   "cell_type": "code",
   "execution_count": 95,
   "metadata": {},
   "outputs": [
    {
     "data": {
      "text/plain": [
       "24"
      ]
     },
     "execution_count": 95,
     "metadata": {},
     "output_type": "execute_result"
    }
   ],
   "source": [
    "factorial(4)"
   ]
  },
  {
   "cell_type": "code",
   "execution_count": 97,
   "metadata": {},
   "outputs": [
    {
     "data": {
      "text/plain": [
       "120"
      ]
     },
     "execution_count": 97,
     "metadata": {},
     "output_type": "execute_result"
    }
   ],
   "source": [
    "factorial(5)"
   ]
  },
  {
   "cell_type": "code",
   "execution_count": 99,
   "metadata": {},
   "outputs": [],
   "source": [
    "def multiplica(x, a=10):\n",
    "    return a * x"
   ]
  },
  {
   "cell_type": "code",
   "execution_count": 100,
   "metadata": {},
   "outputs": [
    {
     "data": {
      "text/plain": [
       "100"
      ]
     },
     "execution_count": 100,
     "metadata": {},
     "output_type": "execute_result"
    }
   ],
   "source": [
    "multiplica(10)"
   ]
  },
  {
   "cell_type": "code",
   "execution_count": 101,
   "metadata": {},
   "outputs": [
    {
     "data": {
      "text/plain": [
       "20"
      ]
     },
     "execution_count": 101,
     "metadata": {},
     "output_type": "execute_result"
    }
   ],
   "source": [
    "multiplica(2)"
   ]
  },
  {
   "cell_type": "code",
   "execution_count": 103,
   "metadata": {},
   "outputs": [],
   "source": [
    "def multiplica_2(a, x=5):\n",
    "    return a * x"
   ]
  },
  {
   "cell_type": "code",
   "execution_count": 104,
   "metadata": {},
   "outputs": [
    {
     "data": {
      "text/plain": [
       "25"
      ]
     },
     "execution_count": 104,
     "metadata": {},
     "output_type": "execute_result"
    }
   ],
   "source": [
    "multiplica_2(5)"
   ]
  },
  {
   "cell_type": "markdown",
   "metadata": {},
   "source": [
    "$$f(\\lambda) = \\frac{e^{-2\\lambda}\\lambda^4}{6}$$"
   ]
  },
  {
   "cell_type": "markdown",
   "metadata": {},
   "source": [
    "$$\\frac{d}{d\\lambda} \\frac{e^{-2\\lambda}\\lambda^4}{6} = \\frac{1}{6} e^{-2\\lambda}\\lambda^4$$"
   ]
  },
  {
   "cell_type": "code",
   "execution_count": null,
   "metadata": {},
   "outputs": [],
   "source": []
  }
 ],
 "metadata": {
  "colab": {
   "collapsed_sections": [],
   "name": " Ejercitación 59: Máxima Verosimilitud Resuelto.ipynb",
   "provenance": []
  },
  "kernelspec": {
   "display_name": "Python 3",
   "language": "python",
   "name": "python3"
  },
  "language_info": {
   "codemirror_mode": {
    "name": "ipython",
    "version": 3
   },
   "file_extension": ".py",
   "mimetype": "text/x-python",
   "name": "python",
   "nbconvert_exporter": "python",
   "pygments_lexer": "ipython3",
   "version": "3.9.1"
  }
 },
 "nbformat": 4,
 "nbformat_minor": 1
}
