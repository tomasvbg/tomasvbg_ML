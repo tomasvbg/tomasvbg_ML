{
 "cells": [
  {
   "cell_type": "markdown",
   "metadata": {
    "id": "jehAYorbf3s2"
   },
   "source": [
    "### Importar librerias y montar drive"
   ]
  },
  {
   "cell_type": "code",
   "execution_count": 1,
   "metadata": {
    "id": "43dFFIUZm6r7"
   },
   "outputs": [],
   "source": [
    "import pandas as pd\n",
    "import numpy as np\n",
    "import seaborn as sns\n",
    "import matplotlib.pyplot as plt"
   ]
  },
  {
   "cell_type": "markdown",
   "metadata": {
    "id": "V0KfgM9P9Emu"
   },
   "source": [
    "#### Cargar Dataset"
   ]
  },
  {
   "cell_type": "code",
   "execution_count": 2,
   "metadata": {
    "id": "1d9UlyoboR2B"
   },
   "outputs": [],
   "source": [
    "df = pd.read_csv(\"https://storage.googleapis.com/properati-data-public/ar_properties.csv.gz\")"
   ]
  },
  {
   "cell_type": "code",
   "execution_count": 3,
   "metadata": {
    "colab": {
     "base_uri": "https://localhost:8080/",
     "height": 492
    },
    "id": "lde40L19Yi75",
    "outputId": "31b7afde-30fb-4977-c28d-08eade90c9e5"
   },
   "outputs": [
    {
     "data": {
      "text/html": [
       "<div>\n",
       "<style scoped>\n",
       "    .dataframe tbody tr th:only-of-type {\n",
       "        vertical-align: middle;\n",
       "    }\n",
       "\n",
       "    .dataframe tbody tr th {\n",
       "        vertical-align: top;\n",
       "    }\n",
       "\n",
       "    .dataframe thead th {\n",
       "        text-align: right;\n",
       "    }\n",
       "</style>\n",
       "<table border=\"1\" class=\"dataframe\">\n",
       "  <thead>\n",
       "    <tr style=\"text-align: right;\">\n",
       "      <th></th>\n",
       "      <th>id</th>\n",
       "      <th>ad_type</th>\n",
       "      <th>start_date</th>\n",
       "      <th>end_date</th>\n",
       "      <th>created_on</th>\n",
       "      <th>lat</th>\n",
       "      <th>lon</th>\n",
       "      <th>l1</th>\n",
       "      <th>l2</th>\n",
       "      <th>l3</th>\n",
       "      <th>...</th>\n",
       "      <th>bathrooms</th>\n",
       "      <th>surface_total</th>\n",
       "      <th>surface_covered</th>\n",
       "      <th>price</th>\n",
       "      <th>currency</th>\n",
       "      <th>price_period</th>\n",
       "      <th>title</th>\n",
       "      <th>description</th>\n",
       "      <th>property_type</th>\n",
       "      <th>operation_type</th>\n",
       "    </tr>\n",
       "  </thead>\n",
       "  <tbody>\n",
       "    <tr>\n",
       "      <th>0</th>\n",
       "      <td>r3Gg9UVZRDb4T8lzeUe7nA==</td>\n",
       "      <td>Propiedad</td>\n",
       "      <td>2020-07-12</td>\n",
       "      <td>2020-09-13</td>\n",
       "      <td>2020-07-12</td>\n",
       "      <td>-24.258253</td>\n",
       "      <td>-65.392041</td>\n",
       "      <td>Argentina</td>\n",
       "      <td>Jujuy</td>\n",
       "      <td>San Salvador de Jujuy</td>\n",
       "      <td>...</td>\n",
       "      <td>NaN</td>\n",
       "      <td>1884.0</td>\n",
       "      <td>NaN</td>\n",
       "      <td>2000000.0</td>\n",
       "      <td>ARS</td>\n",
       "      <td>NaN</td>\n",
       "      <td>RE/MAX NOA II VENDE TERRENO EN LA ALMONA</td>\n",
       "      <td>Contacto: Maria Jose Zubillaga - MLS ID # 4208...</td>\n",
       "      <td>Lote</td>\n",
       "      <td>Venta</td>\n",
       "    </tr>\n",
       "    <tr>\n",
       "      <th>1</th>\n",
       "      <td>47di/O4g7X9isz32zgzg/Q==</td>\n",
       "      <td>Propiedad</td>\n",
       "      <td>2020-07-12</td>\n",
       "      <td>2020-07-19</td>\n",
       "      <td>2020-07-12</td>\n",
       "      <td>NaN</td>\n",
       "      <td>NaN</td>\n",
       "      <td>Argentina</td>\n",
       "      <td>Jujuy</td>\n",
       "      <td>San Lucas</td>\n",
       "      <td>...</td>\n",
       "      <td>NaN</td>\n",
       "      <td>NaN</td>\n",
       "      <td>NaN</td>\n",
       "      <td>41000.0</td>\n",
       "      <td>USD</td>\n",
       "      <td>NaN</td>\n",
       "      <td>Lote en Venta en San lucas ,  countries/b.cerr...</td>\n",
       "      <td>LOTE EN CLUB DE CAMPO SAN LUCAS  SE ENCUENTRA ...</td>\n",
       "      <td>Lote</td>\n",
       "      <td>Venta</td>\n",
       "    </tr>\n",
       "    <tr>\n",
       "      <th>2</th>\n",
       "      <td>KbbvsBN90bV2ye+/t5N5SA==</td>\n",
       "      <td>Propiedad</td>\n",
       "      <td>2020-07-12</td>\n",
       "      <td>2020-10-13</td>\n",
       "      <td>2020-07-12</td>\n",
       "      <td>-24.774667</td>\n",
       "      <td>-65.426313</td>\n",
       "      <td>Argentina</td>\n",
       "      <td>Salta</td>\n",
       "      <td>Salta</td>\n",
       "      <td>...</td>\n",
       "      <td>NaN</td>\n",
       "      <td>525.0</td>\n",
       "      <td>30.0</td>\n",
       "      <td>125000.0</td>\n",
       "      <td>USD</td>\n",
       "      <td>NaN</td>\n",
       "      <td>VENTA + TERRENO + MACRO CENTRO + APTO EDIFICIO</td>\n",
       "      <td>Corredor Responsable: Pablo Castañeda - C.U.C....</td>\n",
       "      <td>Casa</td>\n",
       "      <td>Venta</td>\n",
       "    </tr>\n",
       "    <tr>\n",
       "      <th>3</th>\n",
       "      <td>dpkMxRzt/6kDG6+RhzDShQ==</td>\n",
       "      <td>Propiedad</td>\n",
       "      <td>2020-07-12</td>\n",
       "      <td>2020-08-17</td>\n",
       "      <td>2020-07-12</td>\n",
       "      <td>-24.841623</td>\n",
       "      <td>-65.371510</td>\n",
       "      <td>Argentina</td>\n",
       "      <td>Salta</td>\n",
       "      <td>Salta</td>\n",
       "      <td>...</td>\n",
       "      <td>NaN</td>\n",
       "      <td>NaN</td>\n",
       "      <td>NaN</td>\n",
       "      <td>750000.0</td>\n",
       "      <td>ARS</td>\n",
       "      <td>NaN</td>\n",
       "      <td>Lindo terreno en venta en la nueva urbanizació...</td>\n",
       "      <td>EN VENTA-Terreno en zona de La Pedrera, sobre ...</td>\n",
       "      <td>Lote</td>\n",
       "      <td>Venta</td>\n",
       "    </tr>\n",
       "    <tr>\n",
       "      <th>4</th>\n",
       "      <td>7AnL9PQy/y+Wwffwq2PQVQ==</td>\n",
       "      <td>Propiedad</td>\n",
       "      <td>2020-07-12</td>\n",
       "      <td>2021-04-09</td>\n",
       "      <td>2020-07-12</td>\n",
       "      <td>-24.786705</td>\n",
       "      <td>-65.412460</td>\n",
       "      <td>Argentina</td>\n",
       "      <td>Salta</td>\n",
       "      <td>Salta</td>\n",
       "      <td>...</td>\n",
       "      <td>1.0</td>\n",
       "      <td>41.0</td>\n",
       "      <td>41.0</td>\n",
       "      <td>74000.0</td>\n",
       "      <td>USD</td>\n",
       "      <td>NaN</td>\n",
       "      <td>Av Gral Manuel Belgrano  1900 - U$D 74.000 - D...</td>\n",
       "      <td>HERMOSO EDIFICIO EN CONSTRUCCION, PROXIMO A EN...</td>\n",
       "      <td>Departamento</td>\n",
       "      <td>Venta</td>\n",
       "    </tr>\n",
       "  </tbody>\n",
       "</table>\n",
       "<p>5 rows × 25 columns</p>\n",
       "</div>"
      ],
      "text/plain": [
       "                         id    ad_type  start_date    end_date  created_on  \\\n",
       "0  r3Gg9UVZRDb4T8lzeUe7nA==  Propiedad  2020-07-12  2020-09-13  2020-07-12   \n",
       "1  47di/O4g7X9isz32zgzg/Q==  Propiedad  2020-07-12  2020-07-19  2020-07-12   \n",
       "2  KbbvsBN90bV2ye+/t5N5SA==  Propiedad  2020-07-12  2020-10-13  2020-07-12   \n",
       "3  dpkMxRzt/6kDG6+RhzDShQ==  Propiedad  2020-07-12  2020-08-17  2020-07-12   \n",
       "4  7AnL9PQy/y+Wwffwq2PQVQ==  Propiedad  2020-07-12  2021-04-09  2020-07-12   \n",
       "\n",
       "         lat        lon         l1     l2                     l3  ...  \\\n",
       "0 -24.258253 -65.392041  Argentina  Jujuy  San Salvador de Jujuy  ...   \n",
       "1        NaN        NaN  Argentina  Jujuy              San Lucas  ...   \n",
       "2 -24.774667 -65.426313  Argentina  Salta                  Salta  ...   \n",
       "3 -24.841623 -65.371510  Argentina  Salta                  Salta  ...   \n",
       "4 -24.786705 -65.412460  Argentina  Salta                  Salta  ...   \n",
       "\n",
       "  bathrooms surface_total  surface_covered      price  currency  price_period  \\\n",
       "0       NaN        1884.0              NaN  2000000.0       ARS           NaN   \n",
       "1       NaN           NaN              NaN    41000.0       USD           NaN   \n",
       "2       NaN         525.0             30.0   125000.0       USD           NaN   \n",
       "3       NaN           NaN              NaN   750000.0       ARS           NaN   \n",
       "4       1.0          41.0             41.0    74000.0       USD           NaN   \n",
       "\n",
       "                                               title  \\\n",
       "0           RE/MAX NOA II VENDE TERRENO EN LA ALMONA   \n",
       "1  Lote en Venta en San lucas ,  countries/b.cerr...   \n",
       "2     VENTA + TERRENO + MACRO CENTRO + APTO EDIFICIO   \n",
       "3  Lindo terreno en venta en la nueva urbanizació...   \n",
       "4  Av Gral Manuel Belgrano  1900 - U$D 74.000 - D...   \n",
       "\n",
       "                                         description  property_type  \\\n",
       "0  Contacto: Maria Jose Zubillaga - MLS ID # 4208...           Lote   \n",
       "1  LOTE EN CLUB DE CAMPO SAN LUCAS  SE ENCUENTRA ...           Lote   \n",
       "2  Corredor Responsable: Pablo Castañeda - C.U.C....           Casa   \n",
       "3  EN VENTA-Terreno en zona de La Pedrera, sobre ...           Lote   \n",
       "4  HERMOSO EDIFICIO EN CONSTRUCCION, PROXIMO A EN...   Departamento   \n",
       "\n",
       "  operation_type  \n",
       "0          Venta  \n",
       "1          Venta  \n",
       "2          Venta  \n",
       "3          Venta  \n",
       "4          Venta  \n",
       "\n",
       "[5 rows x 25 columns]"
      ]
     },
     "execution_count": 3,
     "metadata": {},
     "output_type": "execute_result"
    }
   ],
   "source": [
    "df.head()"
   ]
  },
  {
   "cell_type": "markdown",
   "metadata": {
    "id": "wzLDB2Xjfwl1"
   },
   "source": [
    "### \"Analisis Exploratorio\""
   ]
  },
  {
   "cell_type": "code",
   "execution_count": 4,
   "metadata": {
    "colab": {
     "base_uri": "https://localhost:8080/"
    },
    "id": "3kBYkO1joXwM",
    "outputId": "a1e5bf3d-5b49-4133-dc1d-918392b1417a"
   },
   "outputs": [
    {
     "name": "stdout",
     "output_type": "stream",
     "text": [
      "(1000000, 25)\n"
     ]
    },
    {
     "data": {
      "text/plain": [
       "array(['Lote', 'Casa', 'Departamento', 'Otro', 'PH', 'Oficina',\n",
       "       'Local comercial', 'Casa de campo', 'Cochera', 'Depósito'],\n",
       "      dtype=object)"
      ]
     },
     "execution_count": 4,
     "metadata": {},
     "output_type": "execute_result"
    }
   ],
   "source": [
    "print(df.shape)\n",
    "df.property_type.unique()"
   ]
  },
  {
   "cell_type": "markdown",
   "metadata": {
    "id": "HKZBUEfTSRwV"
   },
   "source": [
    "### Filtrar varias categorias"
   ]
  },
  {
   "cell_type": "code",
   "execution_count": 5,
   "metadata": {
    "id": "IHY97SHtv1jd"
   },
   "outputs": [],
   "source": [
    "lista = ['Casa', 'Departamento', 'PH']\n",
    "df = df[df.property_type.isin(lista)]"
   ]
  },
  {
   "cell_type": "markdown",
   "metadata": {
    "id": "iHT_B6-Uktwe"
   },
   "source": [
    "#### Filtrar por currency y operation_type"
   ]
  },
  {
   "cell_type": "code",
   "execution_count": 6,
   "metadata": {
    "id": "POUnjITfHTFW"
   },
   "outputs": [],
   "source": [
    "df = df[(df.operation_type==\"Venta\") & (df.currency==\"USD\")]"
   ]
  },
  {
   "cell_type": "markdown",
   "metadata": {
    "id": "noEa0iOghTX0"
   },
   "source": [
    "#### Eliminar columnas innecesarias"
   ]
  },
  {
   "cell_type": "code",
   "execution_count": 7,
   "metadata": {
    "id": "fQspmzeihY3E"
   },
   "outputs": [],
   "source": [
    "df = df.drop(columns=[\"id\",\"created_on\", \"l1\", \"l6\",\"end_date\", \"start_date\", \"price_period\", \"currency\", \"description\", \"operation_type\", \"title\", \"ad_type\"])"
   ]
  },
  {
   "cell_type": "code",
   "execution_count": 8,
   "metadata": {
    "colab": {
     "base_uri": "https://localhost:8080/",
     "height": 203
    },
    "id": "DmvsoQGQov5i",
    "outputId": "b6df7928-b0f3-43da-babb-e74f71e9ec8c"
   },
   "outputs": [
    {
     "data": {
      "text/html": [
       "<div>\n",
       "<style scoped>\n",
       "    .dataframe tbody tr th:only-of-type {\n",
       "        vertical-align: middle;\n",
       "    }\n",
       "\n",
       "    .dataframe tbody tr th {\n",
       "        vertical-align: top;\n",
       "    }\n",
       "\n",
       "    .dataframe thead th {\n",
       "        text-align: right;\n",
       "    }\n",
       "</style>\n",
       "<table border=\"1\" class=\"dataframe\">\n",
       "  <thead>\n",
       "    <tr style=\"text-align: right;\">\n",
       "      <th></th>\n",
       "      <th>lat</th>\n",
       "      <th>lon</th>\n",
       "      <th>l2</th>\n",
       "      <th>l3</th>\n",
       "      <th>l4</th>\n",
       "      <th>l5</th>\n",
       "      <th>rooms</th>\n",
       "      <th>bedrooms</th>\n",
       "      <th>bathrooms</th>\n",
       "      <th>surface_total</th>\n",
       "      <th>surface_covered</th>\n",
       "      <th>price</th>\n",
       "      <th>property_type</th>\n",
       "    </tr>\n",
       "  </thead>\n",
       "  <tbody>\n",
       "    <tr>\n",
       "      <th>2</th>\n",
       "      <td>-24.774667</td>\n",
       "      <td>-65.426313</td>\n",
       "      <td>Salta</td>\n",
       "      <td>Salta</td>\n",
       "      <td>NaN</td>\n",
       "      <td>NaN</td>\n",
       "      <td>NaN</td>\n",
       "      <td>NaN</td>\n",
       "      <td>NaN</td>\n",
       "      <td>525.0</td>\n",
       "      <td>30.0</td>\n",
       "      <td>125000.0</td>\n",
       "      <td>Casa</td>\n",
       "    </tr>\n",
       "    <tr>\n",
       "      <th>4</th>\n",
       "      <td>-24.786705</td>\n",
       "      <td>-65.412460</td>\n",
       "      <td>Salta</td>\n",
       "      <td>Salta</td>\n",
       "      <td>NaN</td>\n",
       "      <td>NaN</td>\n",
       "      <td>NaN</td>\n",
       "      <td>NaN</td>\n",
       "      <td>1.0</td>\n",
       "      <td>41.0</td>\n",
       "      <td>41.0</td>\n",
       "      <td>74000.0</td>\n",
       "      <td>Departamento</td>\n",
       "    </tr>\n",
       "    <tr>\n",
       "      <th>5</th>\n",
       "      <td>-24.774957</td>\n",
       "      <td>-65.426648</td>\n",
       "      <td>Salta</td>\n",
       "      <td>Salta</td>\n",
       "      <td>NaN</td>\n",
       "      <td>NaN</td>\n",
       "      <td>8.0</td>\n",
       "      <td>4.0</td>\n",
       "      <td>1.0</td>\n",
       "      <td>169.0</td>\n",
       "      <td>139.0</td>\n",
       "      <td>53000.0</td>\n",
       "      <td>Casa</td>\n",
       "    </tr>\n",
       "    <tr>\n",
       "      <th>9</th>\n",
       "      <td>25.943197</td>\n",
       "      <td>-80.120613</td>\n",
       "      <td>Florida</td>\n",
       "      <td>NaN</td>\n",
       "      <td>NaN</td>\n",
       "      <td>NaN</td>\n",
       "      <td>1.0</td>\n",
       "      <td>NaN</td>\n",
       "      <td>1.0</td>\n",
       "      <td>51.0</td>\n",
       "      <td>51.0</td>\n",
       "      <td>355000.0</td>\n",
       "      <td>Departamento</td>\n",
       "    </tr>\n",
       "    <tr>\n",
       "      <th>10</th>\n",
       "      <td>37.090240</td>\n",
       "      <td>-95.712891</td>\n",
       "      <td>Florida</td>\n",
       "      <td>NaN</td>\n",
       "      <td>NaN</td>\n",
       "      <td>NaN</td>\n",
       "      <td>2.0</td>\n",
       "      <td>1.0</td>\n",
       "      <td>1.0</td>\n",
       "      <td>58.0</td>\n",
       "      <td>58.0</td>\n",
       "      <td>360000.0</td>\n",
       "      <td>Departamento</td>\n",
       "    </tr>\n",
       "  </tbody>\n",
       "</table>\n",
       "</div>"
      ],
      "text/plain": [
       "          lat        lon       l2     l3   l4   l5  rooms  bedrooms  \\\n",
       "2  -24.774667 -65.426313    Salta  Salta  NaN  NaN    NaN       NaN   \n",
       "4  -24.786705 -65.412460    Salta  Salta  NaN  NaN    NaN       NaN   \n",
       "5  -24.774957 -65.426648    Salta  Salta  NaN  NaN    8.0       4.0   \n",
       "9   25.943197 -80.120613  Florida    NaN  NaN  NaN    1.0       NaN   \n",
       "10  37.090240 -95.712891  Florida    NaN  NaN  NaN    2.0       1.0   \n",
       "\n",
       "    bathrooms  surface_total  surface_covered     price property_type  \n",
       "2         NaN          525.0             30.0  125000.0          Casa  \n",
       "4         1.0           41.0             41.0   74000.0  Departamento  \n",
       "5         1.0          169.0            139.0   53000.0          Casa  \n",
       "9         1.0           51.0             51.0  355000.0  Departamento  \n",
       "10        1.0           58.0             58.0  360000.0  Departamento  "
      ]
     },
     "execution_count": 8,
     "metadata": {},
     "output_type": "execute_result"
    }
   ],
   "source": [
    "df.head()"
   ]
  },
  {
   "cell_type": "markdown",
   "metadata": {
    "id": "Ub9boZqCHjef"
   },
   "source": [
    "#### Contar Cantidad de Nulos"
   ]
  },
  {
   "cell_type": "code",
   "execution_count": 9,
   "metadata": {
    "colab": {
     "base_uri": "https://localhost:8080/"
    },
    "id": "T0105p7chUmU",
    "outputId": "fa25eebe-9dee-485c-cd40-691f73530fc1"
   },
   "outputs": [
    {
     "data": {
      "text/plain": [
       "lat                 9.214936\n",
       "lon                 9.233641\n",
       "l2                  0.000000\n",
       "l3                  3.556338\n",
       "l4                 69.714816\n",
       "l5                 99.406949\n",
       "rooms              15.669191\n",
       "bedrooms           16.355965\n",
       "bathrooms           7.350329\n",
       "surface_total      51.761236\n",
       "surface_covered    47.482683\n",
       "price               0.000000\n",
       "property_type       0.000000\n",
       "dtype: float64"
      ]
     },
     "execution_count": 9,
     "metadata": {},
     "output_type": "execute_result"
    }
   ],
   "source": [
    "df.isna().sum() * 100 / df.isna().count()"
   ]
  },
  {
   "cell_type": "markdown",
   "metadata": {
    "id": "WjtNGJqj1irr"
   },
   "source": [
    "#### Renombrar columnas"
   ]
  },
  {
   "cell_type": "markdown",
   "metadata": {
    "id": "BvcC1ul_REBB"
   },
   "source": [
    "#### Eliminar columnas y filas faltantes\n"
   ]
  },
  {
   "cell_type": "code",
   "execution_count": 10,
   "metadata": {
    "id": "zBdqNw5eRG2C"
   },
   "outputs": [],
   "source": [
    "df.drop(columns=[\"l4\", \"l5\"], inplace=True)"
   ]
  },
  {
   "cell_type": "code",
   "execution_count": 11,
   "metadata": {
    "id": "XHTW9PujRWag"
   },
   "outputs": [],
   "source": [
    "df.dropna(subset=[\"l3\"], inplace=True)"
   ]
  },
  {
   "cell_type": "code",
   "execution_count": 12,
   "metadata": {
    "colab": {
     "base_uri": "https://localhost:8080/",
     "height": 203
    },
    "id": "eZAU4WNYRhJi",
    "outputId": "8df7b9c7-2364-459d-cc1d-d7356886d7d8"
   },
   "outputs": [
    {
     "data": {
      "text/html": [
       "<div>\n",
       "<style scoped>\n",
       "    .dataframe tbody tr th:only-of-type {\n",
       "        vertical-align: middle;\n",
       "    }\n",
       "\n",
       "    .dataframe tbody tr th {\n",
       "        vertical-align: top;\n",
       "    }\n",
       "\n",
       "    .dataframe thead th {\n",
       "        text-align: right;\n",
       "    }\n",
       "</style>\n",
       "<table border=\"1\" class=\"dataframe\">\n",
       "  <thead>\n",
       "    <tr style=\"text-align: right;\">\n",
       "      <th></th>\n",
       "      <th>lat</th>\n",
       "      <th>lon</th>\n",
       "      <th>l2</th>\n",
       "      <th>l3</th>\n",
       "      <th>rooms</th>\n",
       "      <th>bedrooms</th>\n",
       "      <th>bathrooms</th>\n",
       "      <th>surface_total</th>\n",
       "      <th>surface_covered</th>\n",
       "      <th>price</th>\n",
       "      <th>property_type</th>\n",
       "    </tr>\n",
       "  </thead>\n",
       "  <tbody>\n",
       "    <tr>\n",
       "      <th>2</th>\n",
       "      <td>-24.774667</td>\n",
       "      <td>-65.426313</td>\n",
       "      <td>Salta</td>\n",
       "      <td>Salta</td>\n",
       "      <td>NaN</td>\n",
       "      <td>NaN</td>\n",
       "      <td>NaN</td>\n",
       "      <td>525.0</td>\n",
       "      <td>30.0</td>\n",
       "      <td>125000.0</td>\n",
       "      <td>Casa</td>\n",
       "    </tr>\n",
       "    <tr>\n",
       "      <th>4</th>\n",
       "      <td>-24.786705</td>\n",
       "      <td>-65.412460</td>\n",
       "      <td>Salta</td>\n",
       "      <td>Salta</td>\n",
       "      <td>NaN</td>\n",
       "      <td>NaN</td>\n",
       "      <td>1.0</td>\n",
       "      <td>41.0</td>\n",
       "      <td>41.0</td>\n",
       "      <td>74000.0</td>\n",
       "      <td>Departamento</td>\n",
       "    </tr>\n",
       "    <tr>\n",
       "      <th>5</th>\n",
       "      <td>-24.774957</td>\n",
       "      <td>-65.426648</td>\n",
       "      <td>Salta</td>\n",
       "      <td>Salta</td>\n",
       "      <td>8.0</td>\n",
       "      <td>4.0</td>\n",
       "      <td>1.0</td>\n",
       "      <td>169.0</td>\n",
       "      <td>139.0</td>\n",
       "      <td>53000.0</td>\n",
       "      <td>Casa</td>\n",
       "    </tr>\n",
       "    <tr>\n",
       "      <th>14</th>\n",
       "      <td>-32.910133</td>\n",
       "      <td>-68.873787</td>\n",
       "      <td>Mendoza</td>\n",
       "      <td>Godoy Cruz</td>\n",
       "      <td>3.0</td>\n",
       "      <td>NaN</td>\n",
       "      <td>1.0</td>\n",
       "      <td>150.0</td>\n",
       "      <td>NaN</td>\n",
       "      <td>40000.0</td>\n",
       "      <td>Casa</td>\n",
       "    </tr>\n",
       "    <tr>\n",
       "      <th>23</th>\n",
       "      <td>-32.928382</td>\n",
       "      <td>-68.849922</td>\n",
       "      <td>Mendoza</td>\n",
       "      <td>Godoy Cruz</td>\n",
       "      <td>5.0</td>\n",
       "      <td>3.0</td>\n",
       "      <td>1.0</td>\n",
       "      <td>100.0</td>\n",
       "      <td>76.0</td>\n",
       "      <td>75000.0</td>\n",
       "      <td>Departamento</td>\n",
       "    </tr>\n",
       "  </tbody>\n",
       "</table>\n",
       "</div>"
      ],
      "text/plain": [
       "          lat        lon       l2          l3  rooms  bedrooms  bathrooms  \\\n",
       "2  -24.774667 -65.426313    Salta       Salta    NaN       NaN        NaN   \n",
       "4  -24.786705 -65.412460    Salta       Salta    NaN       NaN        1.0   \n",
       "5  -24.774957 -65.426648    Salta       Salta    8.0       4.0        1.0   \n",
       "14 -32.910133 -68.873787  Mendoza  Godoy Cruz    3.0       NaN        1.0   \n",
       "23 -32.928382 -68.849922  Mendoza  Godoy Cruz    5.0       3.0        1.0   \n",
       "\n",
       "    surface_total  surface_covered     price property_type  \n",
       "2           525.0             30.0  125000.0          Casa  \n",
       "4            41.0             41.0   74000.0  Departamento  \n",
       "5           169.0            139.0   53000.0          Casa  \n",
       "14          150.0              NaN   40000.0          Casa  \n",
       "23          100.0             76.0   75000.0  Departamento  "
      ]
     },
     "execution_count": 12,
     "metadata": {},
     "output_type": "execute_result"
    }
   ],
   "source": [
    "df.head()"
   ]
  },
  {
   "cell_type": "code",
   "execution_count": null,
   "metadata": {
    "id": "6RKD8mwGp4Ud"
   },
   "outputs": [],
   "source": [
    "df.rename({\"l2\": \"departamento\",\"l3\": \"ciudad\", \"l4\": \"comuna\", \"l5\": \"barrio\"}, axis=1, inplace=True)"
   ]
  },
  {
   "cell_type": "code",
   "execution_count": null,
   "metadata": {
    "colab": {
     "base_uri": "https://localhost:8080/",
     "height": 237
    },
    "id": "daVD3Xi8bOY0",
    "outputId": "1db73a56-c4cf-4c66-8060-84a5defa2e34"
   },
   "outputs": [
    {
     "data": {
      "text/html": [
       "<div>\n",
       "<style scoped>\n",
       "    .dataframe tbody tr th:only-of-type {\n",
       "        vertical-align: middle;\n",
       "    }\n",
       "\n",
       "    .dataframe tbody tr th {\n",
       "        vertical-align: top;\n",
       "    }\n",
       "\n",
       "    .dataframe thead th {\n",
       "        text-align: right;\n",
       "    }\n",
       "</style>\n",
       "<table border=\"1\" class=\"dataframe\">\n",
       "  <thead>\n",
       "    <tr style=\"text-align: right;\">\n",
       "      <th></th>\n",
       "      <th>lat</th>\n",
       "      <th>lon</th>\n",
       "      <th>departamento</th>\n",
       "      <th>ciudad</th>\n",
       "      <th>rooms</th>\n",
       "      <th>bedrooms</th>\n",
       "      <th>bathrooms</th>\n",
       "      <th>surface_total</th>\n",
       "      <th>surface_covered</th>\n",
       "      <th>price</th>\n",
       "      <th>property_type</th>\n",
       "    </tr>\n",
       "  </thead>\n",
       "  <tbody>\n",
       "    <tr>\n",
       "      <th>2</th>\n",
       "      <td>-24.774667</td>\n",
       "      <td>-65.426313</td>\n",
       "      <td>Salta</td>\n",
       "      <td>Salta</td>\n",
       "      <td>NaN</td>\n",
       "      <td>NaN</td>\n",
       "      <td>NaN</td>\n",
       "      <td>525.0</td>\n",
       "      <td>30.0</td>\n",
       "      <td>125000.0</td>\n",
       "      <td>Casa</td>\n",
       "    </tr>\n",
       "    <tr>\n",
       "      <th>4</th>\n",
       "      <td>-24.786705</td>\n",
       "      <td>-65.412460</td>\n",
       "      <td>Salta</td>\n",
       "      <td>Salta</td>\n",
       "      <td>NaN</td>\n",
       "      <td>NaN</td>\n",
       "      <td>1.0</td>\n",
       "      <td>41.0</td>\n",
       "      <td>41.0</td>\n",
       "      <td>74000.0</td>\n",
       "      <td>Departamento</td>\n",
       "    </tr>\n",
       "    <tr>\n",
       "      <th>5</th>\n",
       "      <td>-24.774957</td>\n",
       "      <td>-65.426648</td>\n",
       "      <td>Salta</td>\n",
       "      <td>Salta</td>\n",
       "      <td>8.0</td>\n",
       "      <td>4.0</td>\n",
       "      <td>1.0</td>\n",
       "      <td>169.0</td>\n",
       "      <td>139.0</td>\n",
       "      <td>53000.0</td>\n",
       "      <td>Casa</td>\n",
       "    </tr>\n",
       "    <tr>\n",
       "      <th>14</th>\n",
       "      <td>-32.910133</td>\n",
       "      <td>-68.873787</td>\n",
       "      <td>Mendoza</td>\n",
       "      <td>Godoy Cruz</td>\n",
       "      <td>3.0</td>\n",
       "      <td>NaN</td>\n",
       "      <td>1.0</td>\n",
       "      <td>150.0</td>\n",
       "      <td>NaN</td>\n",
       "      <td>40000.0</td>\n",
       "      <td>Casa</td>\n",
       "    </tr>\n",
       "    <tr>\n",
       "      <th>23</th>\n",
       "      <td>-32.928382</td>\n",
       "      <td>-68.849922</td>\n",
       "      <td>Mendoza</td>\n",
       "      <td>Godoy Cruz</td>\n",
       "      <td>5.0</td>\n",
       "      <td>3.0</td>\n",
       "      <td>1.0</td>\n",
       "      <td>100.0</td>\n",
       "      <td>76.0</td>\n",
       "      <td>75000.0</td>\n",
       "      <td>Departamento</td>\n",
       "    </tr>\n",
       "  </tbody>\n",
       "</table>\n",
       "</div>"
      ],
      "text/plain": [
       "          lat        lon departamento  ... surface_covered     price  property_type\n",
       "2  -24.774667 -65.426313        Salta  ...            30.0  125000.0           Casa\n",
       "4  -24.786705 -65.412460        Salta  ...            41.0   74000.0   Departamento\n",
       "5  -24.774957 -65.426648        Salta  ...           139.0   53000.0           Casa\n",
       "14 -32.910133 -68.873787      Mendoza  ...             NaN   40000.0           Casa\n",
       "23 -32.928382 -68.849922      Mendoza  ...            76.0   75000.0   Departamento\n",
       "\n",
       "[5 rows x 11 columns]"
      ]
     },
     "execution_count": 117,
     "metadata": {
      "tags": []
     },
     "output_type": "execute_result"
    }
   ],
   "source": [
    "df.head()"
   ]
  },
  {
   "cell_type": "markdown",
   "metadata": {
    "id": "ZwLk_lloNeJZ"
   },
   "source": [
    "### Outlayers"
   ]
  },
  {
   "cell_type": "code",
   "execution_count": null,
   "metadata": {
    "colab": {
     "base_uri": "https://localhost:8080/",
     "height": 295
    },
    "id": "MrScEkvTSVHV",
    "outputId": "055639b2-4cd3-4091-93cf-78b0fe520ddc"
   },
   "outputs": [
    {
     "data": {
      "text/html": [
       "<div>\n",
       "<style scoped>\n",
       "    .dataframe tbody tr th:only-of-type {\n",
       "        vertical-align: middle;\n",
       "    }\n",
       "\n",
       "    .dataframe tbody tr th {\n",
       "        vertical-align: top;\n",
       "    }\n",
       "\n",
       "    .dataframe thead th {\n",
       "        text-align: right;\n",
       "    }\n",
       "</style>\n",
       "<table border=\"1\" class=\"dataframe\">\n",
       "  <thead>\n",
       "    <tr style=\"text-align: right;\">\n",
       "      <th></th>\n",
       "      <th>lat</th>\n",
       "      <th>lon</th>\n",
       "      <th>rooms</th>\n",
       "      <th>bedrooms</th>\n",
       "      <th>bathrooms</th>\n",
       "      <th>surface_total</th>\n",
       "      <th>surface_covered</th>\n",
       "      <th>price</th>\n",
       "    </tr>\n",
       "  </thead>\n",
       "  <tbody>\n",
       "    <tr>\n",
       "      <th>count</th>\n",
       "      <td>435689.000000</td>\n",
       "      <td>435607.000000</td>\n",
       "      <td>423430.000000</td>\n",
       "      <td>398182.000000</td>\n",
       "      <td>445137.000000</td>\n",
       "      <td>237853.000000</td>\n",
       "      <td>2.594030e+05</td>\n",
       "      <td>4.818320e+05</td>\n",
       "    </tr>\n",
       "    <tr>\n",
       "      <th>mean</th>\n",
       "      <td>-34.546479</td>\n",
       "      <td>-59.110282</td>\n",
       "      <td>3.069487</td>\n",
       "      <td>2.222464</td>\n",
       "      <td>1.738157</td>\n",
       "      <td>222.350864</td>\n",
       "      <td>6.518108e+02</td>\n",
       "      <td>2.286020e+05</td>\n",
       "    </tr>\n",
       "    <tr>\n",
       "      <th>std</th>\n",
       "      <td>2.677459</td>\n",
       "      <td>2.231958</td>\n",
       "      <td>1.593329</td>\n",
       "      <td>1.932040</td>\n",
       "      <td>1.041819</td>\n",
       "      <td>1855.322763</td>\n",
       "      <td>2.201299e+05</td>\n",
       "      <td>4.212510e+05</td>\n",
       "    </tr>\n",
       "    <tr>\n",
       "      <th>min</th>\n",
       "      <td>-54.831793</td>\n",
       "      <td>-122.453172</td>\n",
       "      <td>1.000000</td>\n",
       "      <td>-16.000000</td>\n",
       "      <td>1.000000</td>\n",
       "      <td>10.000000</td>\n",
       "      <td>-5.000000e+00</td>\n",
       "      <td>0.000000e+00</td>\n",
       "    </tr>\n",
       "    <tr>\n",
       "      <th>25%</th>\n",
       "      <td>-34.727779</td>\n",
       "      <td>-58.678495</td>\n",
       "      <td>2.000000</td>\n",
       "      <td>1.000000</td>\n",
       "      <td>1.000000</td>\n",
       "      <td>52.000000</td>\n",
       "      <td>4.700000e+01</td>\n",
       "      <td>8.650000e+04</td>\n",
       "    </tr>\n",
       "    <tr>\n",
       "      <th>50%</th>\n",
       "      <td>-34.599850</td>\n",
       "      <td>-58.474419</td>\n",
       "      <td>3.000000</td>\n",
       "      <td>2.000000</td>\n",
       "      <td>1.000000</td>\n",
       "      <td>87.000000</td>\n",
       "      <td>7.700000e+01</td>\n",
       "      <td>1.400000e+05</td>\n",
       "    </tr>\n",
       "    <tr>\n",
       "      <th>75%</th>\n",
       "      <td>-34.475418</td>\n",
       "      <td>-58.398140</td>\n",
       "      <td>4.000000</td>\n",
       "      <td>3.000000</td>\n",
       "      <td>2.000000</td>\n",
       "      <td>187.000000</td>\n",
       "      <td>1.500000e+02</td>\n",
       "      <td>2.500000e+05</td>\n",
       "    </tr>\n",
       "    <tr>\n",
       "      <th>max</th>\n",
       "      <td>49.633731</td>\n",
       "      <td>-0.034332</td>\n",
       "      <td>40.000000</td>\n",
       "      <td>900.000000</td>\n",
       "      <td>20.000000</td>\n",
       "      <td>200000.000000</td>\n",
       "      <td>1.111111e+08</td>\n",
       "      <td>1.111111e+08</td>\n",
       "    </tr>\n",
       "  </tbody>\n",
       "</table>\n",
       "</div>"
      ],
      "text/plain": [
       "                 lat            lon  ...  surface_covered         price\n",
       "count  435689.000000  435607.000000  ...     2.594030e+05  4.818320e+05\n",
       "mean      -34.546479     -59.110282  ...     6.518108e+02  2.286020e+05\n",
       "std         2.677459       2.231958  ...     2.201299e+05  4.212510e+05\n",
       "min       -54.831793    -122.453172  ...    -5.000000e+00  0.000000e+00\n",
       "25%       -34.727779     -58.678495  ...     4.700000e+01  8.650000e+04\n",
       "50%       -34.599850     -58.474419  ...     7.700000e+01  1.400000e+05\n",
       "75%       -34.475418     -58.398140  ...     1.500000e+02  2.500000e+05\n",
       "max        49.633731      -0.034332  ...     1.111111e+08  1.111111e+08\n",
       "\n",
       "[8 rows x 8 columns]"
      ]
     },
     "execution_count": 118,
     "metadata": {
      "tags": []
     },
     "output_type": "execute_result"
    }
   ],
   "source": [
    "df.describe()"
   ]
  },
  {
   "cell_type": "code",
   "execution_count": null,
   "metadata": {
    "id": "nwy596nXSewQ"
   },
   "outputs": [],
   "source": [
    "for col in ['rooms',\t'bedrooms',\t'bathrooms',\t'surface_total',\t'surface_covered']:\n",
    "  media = df[col].mean()\n",
    "  std = df[col].std()\n",
    "  res = (df[col] > (media + (2.5*std))) | (df[col] < (media - (2.5*std)))\n",
    "  df.loc[res, col] = np.nan"
   ]
  },
  {
   "cell_type": "code",
   "execution_count": null,
   "metadata": {
    "colab": {
     "base_uri": "https://localhost:8080/",
     "height": 295
    },
    "id": "MxRNr7gVTerA",
    "outputId": "73da0135-fce4-4569-d472-c1648f70acee"
   },
   "outputs": [
    {
     "data": {
      "text/html": [
       "<div>\n",
       "<style scoped>\n",
       "    .dataframe tbody tr th:only-of-type {\n",
       "        vertical-align: middle;\n",
       "    }\n",
       "\n",
       "    .dataframe tbody tr th {\n",
       "        vertical-align: top;\n",
       "    }\n",
       "\n",
       "    .dataframe thead th {\n",
       "        text-align: right;\n",
       "    }\n",
       "</style>\n",
       "<table border=\"1\" class=\"dataframe\">\n",
       "  <thead>\n",
       "    <tr style=\"text-align: right;\">\n",
       "      <th></th>\n",
       "      <th>lat</th>\n",
       "      <th>lon</th>\n",
       "      <th>rooms</th>\n",
       "      <th>bedrooms</th>\n",
       "      <th>bathrooms</th>\n",
       "      <th>surface_total</th>\n",
       "      <th>surface_covered</th>\n",
       "      <th>price</th>\n",
       "    </tr>\n",
       "  </thead>\n",
       "  <tbody>\n",
       "    <tr>\n",
       "      <th>count</th>\n",
       "      <td>435689.000000</td>\n",
       "      <td>435607.000000</td>\n",
       "      <td>417304.000000</td>\n",
       "      <td>397338.000000</td>\n",
       "      <td>435546.000000</td>\n",
       "      <td>237378.000000</td>\n",
       "      <td>259400.000000</td>\n",
       "      <td>4.818320e+05</td>\n",
       "    </tr>\n",
       "    <tr>\n",
       "      <th>mean</th>\n",
       "      <td>-34.546479</td>\n",
       "      <td>-59.110282</td>\n",
       "      <td>2.978021</td>\n",
       "      <td>2.201906</td>\n",
       "      <td>1.653465</td>\n",
       "      <td>172.071447</td>\n",
       "      <td>142.095054</td>\n",
       "      <td>2.286020e+05</td>\n",
       "    </tr>\n",
       "    <tr>\n",
       "      <th>std</th>\n",
       "      <td>2.677459</td>\n",
       "      <td>2.231958</td>\n",
       "      <td>1.382171</td>\n",
       "      <td>1.176487</td>\n",
       "      <td>0.864532</td>\n",
       "      <td>272.961866</td>\n",
       "      <td>1814.141465</td>\n",
       "      <td>4.212510e+05</td>\n",
       "    </tr>\n",
       "    <tr>\n",
       "      <th>min</th>\n",
       "      <td>-54.831793</td>\n",
       "      <td>-122.453172</td>\n",
       "      <td>1.000000</td>\n",
       "      <td>-1.000000</td>\n",
       "      <td>1.000000</td>\n",
       "      <td>10.000000</td>\n",
       "      <td>-5.000000</td>\n",
       "      <td>0.000000e+00</td>\n",
       "    </tr>\n",
       "    <tr>\n",
       "      <th>25%</th>\n",
       "      <td>-34.727779</td>\n",
       "      <td>-58.678495</td>\n",
       "      <td>2.000000</td>\n",
       "      <td>1.000000</td>\n",
       "      <td>1.000000</td>\n",
       "      <td>52.000000</td>\n",
       "      <td>47.000000</td>\n",
       "      <td>8.650000e+04</td>\n",
       "    </tr>\n",
       "    <tr>\n",
       "      <th>50%</th>\n",
       "      <td>-34.599850</td>\n",
       "      <td>-58.474419</td>\n",
       "      <td>3.000000</td>\n",
       "      <td>2.000000</td>\n",
       "      <td>1.000000</td>\n",
       "      <td>86.000000</td>\n",
       "      <td>77.000000</td>\n",
       "      <td>1.400000e+05</td>\n",
       "    </tr>\n",
       "    <tr>\n",
       "      <th>75%</th>\n",
       "      <td>-34.475418</td>\n",
       "      <td>-58.398140</td>\n",
       "      <td>4.000000</td>\n",
       "      <td>3.000000</td>\n",
       "      <td>2.000000</td>\n",
       "      <td>185.000000</td>\n",
       "      <td>150.000000</td>\n",
       "      <td>2.500000e+05</td>\n",
       "    </tr>\n",
       "    <tr>\n",
       "      <th>max</th>\n",
       "      <td>49.633731</td>\n",
       "      <td>-0.034332</td>\n",
       "      <td>7.000000</td>\n",
       "      <td>7.000000</td>\n",
       "      <td>4.000000</td>\n",
       "      <td>4836.000000</td>\n",
       "      <td>398830.000000</td>\n",
       "      <td>1.111111e+08</td>\n",
       "    </tr>\n",
       "  </tbody>\n",
       "</table>\n",
       "</div>"
      ],
      "text/plain": [
       "                 lat            lon  ...  surface_covered         price\n",
       "count  435689.000000  435607.000000  ...    259400.000000  4.818320e+05\n",
       "mean      -34.546479     -59.110282  ...       142.095054  2.286020e+05\n",
       "std         2.677459       2.231958  ...      1814.141465  4.212510e+05\n",
       "min       -54.831793    -122.453172  ...        -5.000000  0.000000e+00\n",
       "25%       -34.727779     -58.678495  ...        47.000000  8.650000e+04\n",
       "50%       -34.599850     -58.474419  ...        77.000000  1.400000e+05\n",
       "75%       -34.475418     -58.398140  ...       150.000000  2.500000e+05\n",
       "max        49.633731      -0.034332  ...    398830.000000  1.111111e+08\n",
       "\n",
       "[8 rows x 8 columns]"
      ]
     },
     "execution_count": 120,
     "metadata": {
      "tags": []
     },
     "output_type": "execute_result"
    }
   ],
   "source": [
    "df.describe()"
   ]
  },
  {
   "cell_type": "code",
   "execution_count": null,
   "metadata": {
    "colab": {
     "base_uri": "https://localhost:8080/",
     "height": 588
    },
    "id": "xFIJ0Z56UNxO",
    "outputId": "935de383-f70c-4274-fcf3-ea0426f91ab9"
   },
   "outputs": [
    {
     "data": {
      "text/html": [
       "<div>\n",
       "<style scoped>\n",
       "    .dataframe tbody tr th:only-of-type {\n",
       "        vertical-align: middle;\n",
       "    }\n",
       "\n",
       "    .dataframe tbody tr th {\n",
       "        vertical-align: top;\n",
       "    }\n",
       "\n",
       "    .dataframe thead th {\n",
       "        text-align: right;\n",
       "    }\n",
       "</style>\n",
       "<table border=\"1\" class=\"dataframe\">\n",
       "  <thead>\n",
       "    <tr style=\"text-align: right;\">\n",
       "      <th></th>\n",
       "      <th>lat</th>\n",
       "      <th>lon</th>\n",
       "      <th>departamento</th>\n",
       "      <th>ciudad</th>\n",
       "      <th>rooms</th>\n",
       "      <th>bedrooms</th>\n",
       "      <th>bathrooms</th>\n",
       "      <th>surface_total</th>\n",
       "      <th>surface_covered</th>\n",
       "      <th>price</th>\n",
       "      <th>property_type</th>\n",
       "    </tr>\n",
       "  </thead>\n",
       "  <tbody>\n",
       "    <tr>\n",
       "      <th>316</th>\n",
       "      <td>-34.587428</td>\n",
       "      <td>-58.450489</td>\n",
       "      <td>Capital Federal</td>\n",
       "      <td>Chacarita</td>\n",
       "      <td>3.0</td>\n",
       "      <td>2.0</td>\n",
       "      <td>2.0</td>\n",
       "      <td>81.0</td>\n",
       "      <td>7120.0</td>\n",
       "      <td>228600.0</td>\n",
       "      <td>Departamento</td>\n",
       "    </tr>\n",
       "    <tr>\n",
       "      <th>6436</th>\n",
       "      <td>-34.918206</td>\n",
       "      <td>-57.981956</td>\n",
       "      <td>Bs.As. G.B.A. Zona Sur</td>\n",
       "      <td>La Plata</td>\n",
       "      <td>5.0</td>\n",
       "      <td>3.0</td>\n",
       "      <td>1.0</td>\n",
       "      <td>NaN</td>\n",
       "      <td>13376.0</td>\n",
       "      <td>175000.0</td>\n",
       "      <td>Casa</td>\n",
       "    </tr>\n",
       "    <tr>\n",
       "      <th>8030</th>\n",
       "      <td>-34.436859</td>\n",
       "      <td>-58.644891</td>\n",
       "      <td>Bs.As. G.B.A. Zona Norte</td>\n",
       "      <td>Tigre</td>\n",
       "      <td>4.0</td>\n",
       "      <td>3.0</td>\n",
       "      <td>3.0</td>\n",
       "      <td>NaN</td>\n",
       "      <td>11940.0</td>\n",
       "      <td>260000.0</td>\n",
       "      <td>Departamento</td>\n",
       "    </tr>\n",
       "    <tr>\n",
       "      <th>8114</th>\n",
       "      <td>-34.436859</td>\n",
       "      <td>-58.644891</td>\n",
       "      <td>Bs.As. G.B.A. Zona Norte</td>\n",
       "      <td>Tigre</td>\n",
       "      <td>5.0</td>\n",
       "      <td>4.0</td>\n",
       "      <td>3.0</td>\n",
       "      <td>NaN</td>\n",
       "      <td>11940.0</td>\n",
       "      <td>283000.0</td>\n",
       "      <td>Departamento</td>\n",
       "    </tr>\n",
       "    <tr>\n",
       "      <th>13394</th>\n",
       "      <td>-34.812859</td>\n",
       "      <td>-58.476293</td>\n",
       "      <td>Bs.As. G.B.A. Zona Sur</td>\n",
       "      <td>Esteban Echeverría</td>\n",
       "      <td>5.0</td>\n",
       "      <td>3.0</td>\n",
       "      <td>2.0</td>\n",
       "      <td>NaN</td>\n",
       "      <td>9999.0</td>\n",
       "      <td>155000.0</td>\n",
       "      <td>Casa</td>\n",
       "    </tr>\n",
       "    <tr>\n",
       "      <th>...</th>\n",
       "      <td>...</td>\n",
       "      <td>...</td>\n",
       "      <td>...</td>\n",
       "      <td>...</td>\n",
       "      <td>...</td>\n",
       "      <td>...</td>\n",
       "      <td>...</td>\n",
       "      <td>...</td>\n",
       "      <td>...</td>\n",
       "      <td>...</td>\n",
       "      <td>...</td>\n",
       "    </tr>\n",
       "    <tr>\n",
       "      <th>960398</th>\n",
       "      <td>-31.642141</td>\n",
       "      <td>-60.705367</td>\n",
       "      <td>Santa Fe</td>\n",
       "      <td>Santa Fe</td>\n",
       "      <td>3.0</td>\n",
       "      <td>2.0</td>\n",
       "      <td>2.0</td>\n",
       "      <td>NaN</td>\n",
       "      <td>11111.0</td>\n",
       "      <td>135000.0</td>\n",
       "      <td>Departamento</td>\n",
       "    </tr>\n",
       "    <tr>\n",
       "      <th>971688</th>\n",
       "      <td>-34.912787</td>\n",
       "      <td>-57.944255</td>\n",
       "      <td>Bs.As. G.B.A. Zona Sur</td>\n",
       "      <td>La Plata</td>\n",
       "      <td>4.0</td>\n",
       "      <td>2.0</td>\n",
       "      <td>1.0</td>\n",
       "      <td>NaN</td>\n",
       "      <td>10910.0</td>\n",
       "      <td>170000.0</td>\n",
       "      <td>Departamento</td>\n",
       "    </tr>\n",
       "    <tr>\n",
       "      <th>980961</th>\n",
       "      <td>NaN</td>\n",
       "      <td>NaN</td>\n",
       "      <td>Buenos Aires Interior</td>\n",
       "      <td>General Pueyrredón</td>\n",
       "      <td>1.0</td>\n",
       "      <td>NaN</td>\n",
       "      <td>1.0</td>\n",
       "      <td>NaN</td>\n",
       "      <td>30000.0</td>\n",
       "      <td>67900.0</td>\n",
       "      <td>Departamento</td>\n",
       "    </tr>\n",
       "    <tr>\n",
       "      <th>990922</th>\n",
       "      <td>-34.576139</td>\n",
       "      <td>-58.468259</td>\n",
       "      <td>Capital Federal</td>\n",
       "      <td>Villa Ortuzar</td>\n",
       "      <td>5.0</td>\n",
       "      <td>4.0</td>\n",
       "      <td>2.0</td>\n",
       "      <td>NaN</td>\n",
       "      <td>13717.0</td>\n",
       "      <td>330000.0</td>\n",
       "      <td>Departamento</td>\n",
       "    </tr>\n",
       "    <tr>\n",
       "      <th>992440</th>\n",
       "      <td>-34.649174</td>\n",
       "      <td>-58.413106</td>\n",
       "      <td>Capital Federal</td>\n",
       "      <td>Pompeya</td>\n",
       "      <td>6.0</td>\n",
       "      <td>2.0</td>\n",
       "      <td>2.0</td>\n",
       "      <td>NaN</td>\n",
       "      <td>7454.0</td>\n",
       "      <td>125000.0</td>\n",
       "      <td>PH</td>\n",
       "    </tr>\n",
       "  </tbody>\n",
       "</table>\n",
       "<p>180 rows × 11 columns</p>\n",
       "</div>"
      ],
      "text/plain": [
       "              lat        lon  ...     price property_type\n",
       "316    -34.587428 -58.450489  ...  228600.0  Departamento\n",
       "6436   -34.918206 -57.981956  ...  175000.0          Casa\n",
       "8030   -34.436859 -58.644891  ...  260000.0  Departamento\n",
       "8114   -34.436859 -58.644891  ...  283000.0  Departamento\n",
       "13394  -34.812859 -58.476293  ...  155000.0          Casa\n",
       "...           ...        ...  ...       ...           ...\n",
       "960398 -31.642141 -60.705367  ...  135000.0  Departamento\n",
       "971688 -34.912787 -57.944255  ...  170000.0  Departamento\n",
       "980961        NaN        NaN  ...   67900.0  Departamento\n",
       "990922 -34.576139 -58.468259  ...  330000.0  Departamento\n",
       "992440 -34.649174 -58.413106  ...  125000.0            PH\n",
       "\n",
       "[180 rows x 11 columns]"
      ]
     },
     "execution_count": 121,
     "metadata": {
      "tags": []
     },
     "output_type": "execute_result"
    }
   ],
   "source": [
    "df[df.surface_covered>5000]"
   ]
  },
  {
   "cell_type": "markdown",
   "metadata": {
    "id": "b-s2Hqp2VE4V"
   },
   "source": [
    "#### Imputacion de valores con property_type"
   ]
  },
  {
   "cell_type": "code",
   "execution_count": null,
   "metadata": {
    "id": "sIfQk2R1VjNU"
   },
   "outputs": [],
   "source": [
    "media = df[[\"surface_covered\",\"property_type\"]].groupby(\"property_type\").agg(pd.Series.mean)\n",
    "media = media.to_dict()[\"surface_covered\"]"
   ]
  },
  {
   "cell_type": "code",
   "execution_count": null,
   "metadata": {
    "colab": {
     "base_uri": "https://localhost:8080/"
    },
    "id": "wPuBZ1wyXVEA",
    "outputId": "28aa503f-9deb-4db6-ef40-00722ef0c717"
   },
   "outputs": [
    {
     "data": {
      "text/plain": [
       "{'Casa': 240.59391835538625,\n",
       " 'Departamento': 86.52676967301473,\n",
       " 'PH': 128.81486739735362}"
      ]
     },
     "execution_count": 123,
     "metadata": {
      "tags": []
     },
     "output_type": "execute_result"
    }
   ],
   "source": [
    "media"
   ]
  },
  {
   "cell_type": "code",
   "execution_count": null,
   "metadata": {
    "id": "TRULHAW_XD2H"
   },
   "outputs": [],
   "source": [
    "df.set_index(\"property_type\", inplace=True)"
   ]
  },
  {
   "cell_type": "code",
   "execution_count": null,
   "metadata": {
    "id": "za0HjPgOW05D"
   },
   "outputs": [],
   "source": [
    "df.surface_covered.fillna(media, inplace=True)"
   ]
  },
  {
   "cell_type": "markdown",
   "metadata": {
    "id": "AFJrcEeVYGmc"
   },
   "source": [
    "#### Imputacion con variable numerica"
   ]
  },
  {
   "cell_type": "code",
   "execution_count": null,
   "metadata": {
    "colab": {
     "base_uri": "https://localhost:8080/"
    },
    "id": "2APJrvn6YF-1",
    "outputId": "80bda3b3-48f2-41e6-f46b-2ac1ad75d8e7"
   },
   "outputs": [
    {
     "data": {
      "text/plain": [
       "{1.0: 51.10104505502111,\n",
       " 2.0: 76.06895709670148,\n",
       " 3.0: 127.06886819079875,\n",
       " 4.0: 193.48356554537756,\n",
       " 5.0: 275.85879173469965,\n",
       " 6.0: 335.0796119085593,\n",
       " 7.0: 394.4324655436447}"
      ]
     },
     "execution_count": 126,
     "metadata": {
      "tags": []
     },
     "output_type": "execute_result"
    }
   ],
   "source": [
    "media = df[[\"surface_total\",\"rooms\"]].groupby(\"rooms\").agg(pd.Series.mean)\n",
    "media = media.to_dict()[\"surface_total\"]\n",
    "media"
   ]
  },
  {
   "cell_type": "code",
   "execution_count": null,
   "metadata": {
    "id": "Zd24Q1j9Yks3"
   },
   "outputs": [],
   "source": [
    "df.reset_index(inplace=True)\n",
    "df.set_index(\"rooms\", inplace=True)\n",
    "df.surface_total.fillna(media, inplace=True)"
   ]
  },
  {
   "cell_type": "code",
   "execution_count": null,
   "metadata": {
    "id": "SmcZu8kmZWYX"
   },
   "outputs": [],
   "source": [
    "df.reset_index(inplace=True)"
   ]
  },
  {
   "cell_type": "code",
   "execution_count": null,
   "metadata": {
    "colab": {
     "base_uri": "https://localhost:8080/",
     "height": 203
    },
    "id": "Srs5S3NXZcWm",
    "outputId": "32dab74e-526e-4f29-b95d-50f80762ba2c"
   },
   "outputs": [
    {
     "data": {
      "text/html": [
       "<div>\n",
       "<style scoped>\n",
       "    .dataframe tbody tr th:only-of-type {\n",
       "        vertical-align: middle;\n",
       "    }\n",
       "\n",
       "    .dataframe tbody tr th {\n",
       "        vertical-align: top;\n",
       "    }\n",
       "\n",
       "    .dataframe thead th {\n",
       "        text-align: right;\n",
       "    }\n",
       "</style>\n",
       "<table border=\"1\" class=\"dataframe\">\n",
       "  <thead>\n",
       "    <tr style=\"text-align: right;\">\n",
       "      <th></th>\n",
       "      <th>rooms</th>\n",
       "      <th>property_type</th>\n",
       "      <th>lat</th>\n",
       "      <th>lon</th>\n",
       "      <th>departamento</th>\n",
       "      <th>ciudad</th>\n",
       "      <th>bedrooms</th>\n",
       "      <th>bathrooms</th>\n",
       "      <th>surface_total</th>\n",
       "      <th>surface_covered</th>\n",
       "      <th>price</th>\n",
       "    </tr>\n",
       "  </thead>\n",
       "  <tbody>\n",
       "    <tr>\n",
       "      <th>0</th>\n",
       "      <td>NaN</td>\n",
       "      <td>Casa</td>\n",
       "      <td>-24.774667</td>\n",
       "      <td>-65.426313</td>\n",
       "      <td>Salta</td>\n",
       "      <td>Salta</td>\n",
       "      <td>NaN</td>\n",
       "      <td>NaN</td>\n",
       "      <td>525.0</td>\n",
       "      <td>30.000000</td>\n",
       "      <td>125000.0</td>\n",
       "    </tr>\n",
       "    <tr>\n",
       "      <th>1</th>\n",
       "      <td>NaN</td>\n",
       "      <td>Departamento</td>\n",
       "      <td>-24.786705</td>\n",
       "      <td>-65.412460</td>\n",
       "      <td>Salta</td>\n",
       "      <td>Salta</td>\n",
       "      <td>NaN</td>\n",
       "      <td>1.0</td>\n",
       "      <td>41.0</td>\n",
       "      <td>41.000000</td>\n",
       "      <td>74000.0</td>\n",
       "    </tr>\n",
       "    <tr>\n",
       "      <th>2</th>\n",
       "      <td>NaN</td>\n",
       "      <td>Casa</td>\n",
       "      <td>-24.774957</td>\n",
       "      <td>-65.426648</td>\n",
       "      <td>Salta</td>\n",
       "      <td>Salta</td>\n",
       "      <td>4.0</td>\n",
       "      <td>1.0</td>\n",
       "      <td>169.0</td>\n",
       "      <td>139.000000</td>\n",
       "      <td>53000.0</td>\n",
       "    </tr>\n",
       "    <tr>\n",
       "      <th>3</th>\n",
       "      <td>3.0</td>\n",
       "      <td>Casa</td>\n",
       "      <td>-32.910133</td>\n",
       "      <td>-68.873787</td>\n",
       "      <td>Mendoza</td>\n",
       "      <td>Godoy Cruz</td>\n",
       "      <td>NaN</td>\n",
       "      <td>1.0</td>\n",
       "      <td>150.0</td>\n",
       "      <td>240.593918</td>\n",
       "      <td>40000.0</td>\n",
       "    </tr>\n",
       "    <tr>\n",
       "      <th>4</th>\n",
       "      <td>5.0</td>\n",
       "      <td>Departamento</td>\n",
       "      <td>-32.928382</td>\n",
       "      <td>-68.849922</td>\n",
       "      <td>Mendoza</td>\n",
       "      <td>Godoy Cruz</td>\n",
       "      <td>3.0</td>\n",
       "      <td>1.0</td>\n",
       "      <td>100.0</td>\n",
       "      <td>76.000000</td>\n",
       "      <td>75000.0</td>\n",
       "    </tr>\n",
       "  </tbody>\n",
       "</table>\n",
       "</div>"
      ],
      "text/plain": [
       "   rooms property_type        lat  ...  surface_total surface_covered     price\n",
       "0    NaN          Casa -24.774667  ...          525.0       30.000000  125000.0\n",
       "1    NaN  Departamento -24.786705  ...           41.0       41.000000   74000.0\n",
       "2    NaN          Casa -24.774957  ...          169.0      139.000000   53000.0\n",
       "3    3.0          Casa -32.910133  ...          150.0      240.593918   40000.0\n",
       "4    5.0  Departamento -32.928382  ...          100.0       76.000000   75000.0\n",
       "\n",
       "[5 rows x 11 columns]"
      ]
     },
     "execution_count": 129,
     "metadata": {
      "tags": []
     },
     "output_type": "execute_result"
    }
   ],
   "source": [
    "df.head()"
   ]
  },
  {
   "cell_type": "markdown",
   "metadata": {
    "id": "ux2XCaYiZvDN"
   },
   "source": [
    "#### Imputacion bedrooms por tipo de propiedad"
   ]
  },
  {
   "cell_type": "code",
   "execution_count": null,
   "metadata": {
    "id": "Snsa8Vb-Zuem"
   },
   "outputs": [],
   "source": [
    "media = df[[\"bedrooms\",\"property_type\"]].groupby(\"property_type\").agg(pd.Series.median)\n",
    "media = media.to_dict()[\"bedrooms\"]"
   ]
  },
  {
   "cell_type": "code",
   "execution_count": null,
   "metadata": {
    "colab": {
     "base_uri": "https://localhost:8080/"
    },
    "id": "jeJEv4JZbtYa",
    "outputId": "eea9fb9c-a773-4c64-b115-3d3378fb5d35"
   },
   "outputs": [
    {
     "data": {
      "text/plain": [
       "{'Casa': 3.0, 'Departamento': 1.0, 'PH': 2.0}"
      ]
     },
     "execution_count": 134,
     "metadata": {
      "tags": []
     },
     "output_type": "execute_result"
    }
   ],
   "source": [
    "media"
   ]
  },
  {
   "cell_type": "code",
   "execution_count": null,
   "metadata": {
    "id": "AOnMUynZdY0-"
   },
   "outputs": [],
   "source": [
    "df.reset_index(inplace=True)\n",
    "df.set_index(\"property_type\", inplace=True)\n",
    "df.bedrooms.fillna(media, inplace=True)"
   ]
  },
  {
   "cell_type": "code",
   "execution_count": null,
   "metadata": {
    "colab": {
     "base_uri": "https://localhost:8080/"
    },
    "id": "qW95HSoYdEPu",
    "outputId": "f7c91584-0896-4860-dd10-19285d9f2437"
   },
   "outputs": [
    {
     "data": {
      "text/plain": [
       "index              0.0\n",
       "rooms              0.0\n",
       "lat                0.0\n",
       "lon                0.0\n",
       "departamento       0.0\n",
       "ciudad             0.0\n",
       "bedrooms           0.0\n",
       "bathrooms          0.0\n",
       "surface_total      0.0\n",
       "surface_covered    0.0\n",
       "price              0.0\n",
       "dtype: float64"
      ]
     },
     "execution_count": 138,
     "metadata": {
      "tags": []
     },
     "output_type": "execute_result"
    }
   ],
   "source": [
    "df.isna().sum() * 100 / df.isna().count()"
   ]
  },
  {
   "cell_type": "markdown",
   "metadata": {
    "id": "Aq2hG6nLds6k"
   },
   "source": [
    "#### Eliminacion de valores faltantes"
   ]
  },
  {
   "cell_type": "code",
   "execution_count": null,
   "metadata": {
    "id": "CMflJ2YpdxF-"
   },
   "outputs": [],
   "source": [
    "df.dropna(inplace=True)"
   ]
  },
  {
   "cell_type": "markdown",
   "metadata": {
    "id": "vJGWJrIWd8Dw"
   },
   "source": [
    "#### Codificacion de variables no numericas"
   ]
  },
  {
   "cell_type": "code",
   "execution_count": null,
   "metadata": {
    "colab": {
     "base_uri": "https://localhost:8080/",
     "height": 223
    },
    "id": "Qm40TA94d7EG",
    "outputId": "0d6e0d6d-3c42-41cd-ab11-3f3bf2a8d2a7"
   },
   "outputs": [
    {
     "data": {
      "text/html": [
       "<div>\n",
       "<style scoped>\n",
       "    .dataframe tbody tr th:only-of-type {\n",
       "        vertical-align: middle;\n",
       "    }\n",
       "\n",
       "    .dataframe tbody tr th {\n",
       "        vertical-align: top;\n",
       "    }\n",
       "\n",
       "    .dataframe thead th {\n",
       "        text-align: right;\n",
       "    }\n",
       "</style>\n",
       "<table border=\"1\" class=\"dataframe\">\n",
       "  <thead>\n",
       "    <tr style=\"text-align: right;\">\n",
       "      <th></th>\n",
       "      <th>property_type</th>\n",
       "      <th>index</th>\n",
       "      <th>rooms</th>\n",
       "      <th>lat</th>\n",
       "      <th>lon</th>\n",
       "      <th>departamento</th>\n",
       "      <th>ciudad</th>\n",
       "      <th>bedrooms</th>\n",
       "      <th>bathrooms</th>\n",
       "      <th>surface_total</th>\n",
       "      <th>surface_covered</th>\n",
       "      <th>price</th>\n",
       "    </tr>\n",
       "  </thead>\n",
       "  <tbody>\n",
       "    <tr>\n",
       "      <th>0</th>\n",
       "      <td>Casa</td>\n",
       "      <td>3</td>\n",
       "      <td>3.0</td>\n",
       "      <td>-32.910133</td>\n",
       "      <td>-68.873787</td>\n",
       "      <td>Mendoza</td>\n",
       "      <td>Godoy Cruz</td>\n",
       "      <td>3.0</td>\n",
       "      <td>1.0</td>\n",
       "      <td>150.000000</td>\n",
       "      <td>240.593918</td>\n",
       "      <td>40000.0</td>\n",
       "    </tr>\n",
       "    <tr>\n",
       "      <th>1</th>\n",
       "      <td>Departamento</td>\n",
       "      <td>4</td>\n",
       "      <td>5.0</td>\n",
       "      <td>-32.928382</td>\n",
       "      <td>-68.849922</td>\n",
       "      <td>Mendoza</td>\n",
       "      <td>Godoy Cruz</td>\n",
       "      <td>3.0</td>\n",
       "      <td>1.0</td>\n",
       "      <td>100.000000</td>\n",
       "      <td>76.000000</td>\n",
       "      <td>75000.0</td>\n",
       "    </tr>\n",
       "    <tr>\n",
       "      <th>2</th>\n",
       "      <td>Casa</td>\n",
       "      <td>5</td>\n",
       "      <td>4.0</td>\n",
       "      <td>-31.441220</td>\n",
       "      <td>-64.206881</td>\n",
       "      <td>Córdoba</td>\n",
       "      <td>Córdoba</td>\n",
       "      <td>3.0</td>\n",
       "      <td>3.0</td>\n",
       "      <td>193.483566</td>\n",
       "      <td>240.593918</td>\n",
       "      <td>110000.0</td>\n",
       "    </tr>\n",
       "    <tr>\n",
       "      <th>3</th>\n",
       "      <td>Casa</td>\n",
       "      <td>6</td>\n",
       "      <td>1.0</td>\n",
       "      <td>-31.134604</td>\n",
       "      <td>-64.288855</td>\n",
       "      <td>Córdoba</td>\n",
       "      <td>Salsipuedes</td>\n",
       "      <td>3.0</td>\n",
       "      <td>1.0</td>\n",
       "      <td>51.101045</td>\n",
       "      <td>74.000000</td>\n",
       "      <td>85000.0</td>\n",
       "    </tr>\n",
       "    <tr>\n",
       "      <th>4</th>\n",
       "      <td>Departamento</td>\n",
       "      <td>7</td>\n",
       "      <td>1.0</td>\n",
       "      <td>-31.429150</td>\n",
       "      <td>-64.184921</td>\n",
       "      <td>Córdoba</td>\n",
       "      <td>Córdoba</td>\n",
       "      <td>1.0</td>\n",
       "      <td>1.0</td>\n",
       "      <td>51.101045</td>\n",
       "      <td>86.526770</td>\n",
       "      <td>60000.0</td>\n",
       "    </tr>\n",
       "  </tbody>\n",
       "</table>\n",
       "</div>"
      ],
      "text/plain": [
       "  property_type  index  rooms  ...  surface_total  surface_covered     price\n",
       "0          Casa      3    3.0  ...     150.000000       240.593918   40000.0\n",
       "1  Departamento      4    5.0  ...     100.000000        76.000000   75000.0\n",
       "2          Casa      5    4.0  ...     193.483566       240.593918  110000.0\n",
       "3          Casa      6    1.0  ...      51.101045        74.000000   85000.0\n",
       "4  Departamento      7    1.0  ...      51.101045        86.526770   60000.0\n",
       "\n",
       "[5 rows x 12 columns]"
      ]
     },
     "execution_count": 140,
     "metadata": {
      "tags": []
     },
     "output_type": "execute_result"
    }
   ],
   "source": [
    "df.reset_index(inplace=True)\n",
    "df.head()"
   ]
  },
  {
   "cell_type": "code",
   "execution_count": null,
   "metadata": {
    "id": "b_s6ISGqeS6S"
   },
   "outputs": [],
   "source": [
    "dicc = {\"Casa\": 3, \"PH\": 2, \"Departamento\": 1}"
   ]
  },
  {
   "cell_type": "code",
   "execution_count": null,
   "metadata": {
    "id": "1d0r_G5DfWGF"
   },
   "outputs": [],
   "source": [
    "df.property_type = df.property_type.map(dicc)"
   ]
  },
  {
   "cell_type": "markdown",
   "metadata": {
    "id": "L5YheMpqfz6i"
   },
   "source": [
    "#### Onehot encoding"
   ]
  },
  {
   "cell_type": "code",
   "execution_count": null,
   "metadata": {
    "colab": {
     "base_uri": "https://localhost:8080/"
    },
    "id": "_Mha28WCfpVU",
    "outputId": "c7948451-ba88-4165-ecf4-c2ee65a58c53"
   },
   "outputs": [
    {
     "data": {
      "text/plain": [
       "{'Bs.As. G.B.A. Zona Norte': 54428,\n",
       " 'Bs.As. G.B.A. Zona Oeste': 33412,\n",
       " 'Bs.As. G.B.A. Zona Sur': 54105,\n",
       " 'Buenos Aires Costa Atlántica': 31180,\n",
       " 'Buenos Aires Interior': 4662,\n",
       " 'Capital Federal': 121788,\n",
       " 'Córdoba': 16022,\n",
       " 'Maldonado': 1934,\n",
       " 'Neuquén': 2303,\n",
       " 'Santa Fe': 25651}"
      ]
     },
     "execution_count": 154,
     "metadata": {
      "tags": []
     },
     "output_type": "execute_result"
    }
   ],
   "source": [
    "dicc = df.departamento.value_counts().iloc[:10].to_dict()\n",
    "dicc"
   ]
  },
  {
   "cell_type": "code",
   "execution_count": null,
   "metadata": {
    "colab": {
     "base_uri": "https://localhost:8080/"
    },
    "id": "aBkctDW8hzoE",
    "outputId": "2b932652-464e-413c-9a0d-be2527828af0"
   },
   "outputs": [
    {
     "data": {
      "text/plain": [
       "{'Bs.As. G.B.A. Zona Norte': 'Bs.As. G.B.A. Zona Norte',\n",
       " 'Bs.As. G.B.A. Zona Oeste': 'Bs.As. G.B.A. Zona Oeste',\n",
       " 'Bs.As. G.B.A. Zona Sur': 'Bs.As. G.B.A. Zona Sur',\n",
       " 'Buenos Aires Costa Atlántica': 'Buenos Aires Costa Atlántica',\n",
       " 'Buenos Aires Interior': 'Buenos Aires Interior',\n",
       " 'Capital Federal': 'Capital Federal',\n",
       " 'Córdoba': 'Córdoba',\n",
       " 'Maldonado': 'Maldonado',\n",
       " 'Neuquén': 'Neuquén',\n",
       " 'Santa Fe': 'Santa Fe'}"
      ]
     },
     "execution_count": 156,
     "metadata": {
      "tags": []
     },
     "output_type": "execute_result"
    }
   ],
   "source": [
    "dicc = { k:k for k in dicc.keys() }\n",
    "dicc"
   ]
  },
  {
   "cell_type": "code",
   "execution_count": null,
   "metadata": {
    "id": "6WOg0bWHiq2f"
   },
   "outputs": [],
   "source": [
    "df.departamento = df.departamento.map(dicc)\n",
    "df.fillna(\"Otros\", inplace=True)"
   ]
  },
  {
   "cell_type": "code",
   "execution_count": null,
   "metadata": {
    "colab": {
     "base_uri": "https://localhost:8080/",
     "height": 504
    },
    "id": "SBlH-X74i57F",
    "outputId": "59fbb36c-3697-4e62-910c-b788453caf58"
   },
   "outputs": [
    {
     "data": {
      "text/html": [
       "<div>\n",
       "<style scoped>\n",
       "    .dataframe tbody tr th:only-of-type {\n",
       "        vertical-align: middle;\n",
       "    }\n",
       "\n",
       "    .dataframe tbody tr th {\n",
       "        vertical-align: top;\n",
       "    }\n",
       "\n",
       "    .dataframe thead th {\n",
       "        text-align: right;\n",
       "    }\n",
       "</style>\n",
       "<table border=\"1\" class=\"dataframe\">\n",
       "  <thead>\n",
       "    <tr style=\"text-align: right;\">\n",
       "      <th></th>\n",
       "      <th>property_type</th>\n",
       "      <th>index</th>\n",
       "      <th>rooms</th>\n",
       "      <th>lat</th>\n",
       "      <th>lon</th>\n",
       "      <th>ciudad</th>\n",
       "      <th>bedrooms</th>\n",
       "      <th>bathrooms</th>\n",
       "      <th>surface_total</th>\n",
       "      <th>surface_covered</th>\n",
       "      <th>price</th>\n",
       "      <th>departamento_Bs.As. G.B.A. Zona Norte</th>\n",
       "      <th>departamento_Bs.As. G.B.A. Zona Oeste</th>\n",
       "      <th>departamento_Bs.As. G.B.A. Zona Sur</th>\n",
       "      <th>departamento_Buenos Aires Costa Atlántica</th>\n",
       "      <th>departamento_Buenos Aires Interior</th>\n",
       "      <th>departamento_Capital Federal</th>\n",
       "      <th>departamento_Córdoba</th>\n",
       "      <th>departamento_Maldonado</th>\n",
       "      <th>departamento_Neuquén</th>\n",
       "      <th>departamento_Otros</th>\n",
       "      <th>departamento_Santa Fe</th>\n",
       "    </tr>\n",
       "  </thead>\n",
       "  <tbody>\n",
       "    <tr>\n",
       "      <th>0</th>\n",
       "      <td>3</td>\n",
       "      <td>3</td>\n",
       "      <td>3.0</td>\n",
       "      <td>-32.910133</td>\n",
       "      <td>-68.873787</td>\n",
       "      <td>Godoy Cruz</td>\n",
       "      <td>3.0</td>\n",
       "      <td>1.0</td>\n",
       "      <td>150.000000</td>\n",
       "      <td>240.593918</td>\n",
       "      <td>40000.0</td>\n",
       "      <td>0</td>\n",
       "      <td>0</td>\n",
       "      <td>0</td>\n",
       "      <td>0</td>\n",
       "      <td>0</td>\n",
       "      <td>0</td>\n",
       "      <td>0</td>\n",
       "      <td>0</td>\n",
       "      <td>0</td>\n",
       "      <td>1</td>\n",
       "      <td>0</td>\n",
       "    </tr>\n",
       "    <tr>\n",
       "      <th>1</th>\n",
       "      <td>1</td>\n",
       "      <td>4</td>\n",
       "      <td>5.0</td>\n",
       "      <td>-32.928382</td>\n",
       "      <td>-68.849922</td>\n",
       "      <td>Godoy Cruz</td>\n",
       "      <td>3.0</td>\n",
       "      <td>1.0</td>\n",
       "      <td>100.000000</td>\n",
       "      <td>76.000000</td>\n",
       "      <td>75000.0</td>\n",
       "      <td>0</td>\n",
       "      <td>0</td>\n",
       "      <td>0</td>\n",
       "      <td>0</td>\n",
       "      <td>0</td>\n",
       "      <td>0</td>\n",
       "      <td>0</td>\n",
       "      <td>0</td>\n",
       "      <td>0</td>\n",
       "      <td>1</td>\n",
       "      <td>0</td>\n",
       "    </tr>\n",
       "    <tr>\n",
       "      <th>2</th>\n",
       "      <td>3</td>\n",
       "      <td>5</td>\n",
       "      <td>4.0</td>\n",
       "      <td>-31.441220</td>\n",
       "      <td>-64.206881</td>\n",
       "      <td>Córdoba</td>\n",
       "      <td>3.0</td>\n",
       "      <td>3.0</td>\n",
       "      <td>193.483566</td>\n",
       "      <td>240.593918</td>\n",
       "      <td>110000.0</td>\n",
       "      <td>0</td>\n",
       "      <td>0</td>\n",
       "      <td>0</td>\n",
       "      <td>0</td>\n",
       "      <td>0</td>\n",
       "      <td>0</td>\n",
       "      <td>1</td>\n",
       "      <td>0</td>\n",
       "      <td>0</td>\n",
       "      <td>0</td>\n",
       "      <td>0</td>\n",
       "    </tr>\n",
       "    <tr>\n",
       "      <th>3</th>\n",
       "      <td>3</td>\n",
       "      <td>6</td>\n",
       "      <td>1.0</td>\n",
       "      <td>-31.134604</td>\n",
       "      <td>-64.288855</td>\n",
       "      <td>Salsipuedes</td>\n",
       "      <td>3.0</td>\n",
       "      <td>1.0</td>\n",
       "      <td>51.101045</td>\n",
       "      <td>74.000000</td>\n",
       "      <td>85000.0</td>\n",
       "      <td>0</td>\n",
       "      <td>0</td>\n",
       "      <td>0</td>\n",
       "      <td>0</td>\n",
       "      <td>0</td>\n",
       "      <td>0</td>\n",
       "      <td>1</td>\n",
       "      <td>0</td>\n",
       "      <td>0</td>\n",
       "      <td>0</td>\n",
       "      <td>0</td>\n",
       "    </tr>\n",
       "    <tr>\n",
       "      <th>4</th>\n",
       "      <td>1</td>\n",
       "      <td>7</td>\n",
       "      <td>1.0</td>\n",
       "      <td>-31.429150</td>\n",
       "      <td>-64.184921</td>\n",
       "      <td>Córdoba</td>\n",
       "      <td>1.0</td>\n",
       "      <td>1.0</td>\n",
       "      <td>51.101045</td>\n",
       "      <td>86.526770</td>\n",
       "      <td>60000.0</td>\n",
       "      <td>0</td>\n",
       "      <td>0</td>\n",
       "      <td>0</td>\n",
       "      <td>0</td>\n",
       "      <td>0</td>\n",
       "      <td>0</td>\n",
       "      <td>1</td>\n",
       "      <td>0</td>\n",
       "      <td>0</td>\n",
       "      <td>0</td>\n",
       "      <td>0</td>\n",
       "    </tr>\n",
       "    <tr>\n",
       "      <th>...</th>\n",
       "      <td>...</td>\n",
       "      <td>...</td>\n",
       "      <td>...</td>\n",
       "      <td>...</td>\n",
       "      <td>...</td>\n",
       "      <td>...</td>\n",
       "      <td>...</td>\n",
       "      <td>...</td>\n",
       "      <td>...</td>\n",
       "      <td>...</td>\n",
       "      <td>...</td>\n",
       "      <td>...</td>\n",
       "      <td>...</td>\n",
       "      <td>...</td>\n",
       "      <td>...</td>\n",
       "      <td>...</td>\n",
       "      <td>...</td>\n",
       "      <td>...</td>\n",
       "      <td>...</td>\n",
       "      <td>...</td>\n",
       "      <td>...</td>\n",
       "      <td>...</td>\n",
       "    </tr>\n",
       "    <tr>\n",
       "      <th>353287</th>\n",
       "      <td>3</td>\n",
       "      <td>481826</td>\n",
       "      <td>7.0</td>\n",
       "      <td>-26.821996</td>\n",
       "      <td>-65.243809</td>\n",
       "      <td>San Miguel de Tucumán</td>\n",
       "      <td>4.0</td>\n",
       "      <td>2.0</td>\n",
       "      <td>448.000000</td>\n",
       "      <td>297.000000</td>\n",
       "      <td>180000.0</td>\n",
       "      <td>0</td>\n",
       "      <td>0</td>\n",
       "      <td>0</td>\n",
       "      <td>0</td>\n",
       "      <td>0</td>\n",
       "      <td>0</td>\n",
       "      <td>0</td>\n",
       "      <td>0</td>\n",
       "      <td>0</td>\n",
       "      <td>1</td>\n",
       "      <td>0</td>\n",
       "    </tr>\n",
       "    <tr>\n",
       "      <th>353288</th>\n",
       "      <td>1</td>\n",
       "      <td>481827</td>\n",
       "      <td>7.0</td>\n",
       "      <td>-32.965200</td>\n",
       "      <td>-60.650159</td>\n",
       "      <td>Rosario</td>\n",
       "      <td>3.0</td>\n",
       "      <td>2.0</td>\n",
       "      <td>119.000000</td>\n",
       "      <td>105.000000</td>\n",
       "      <td>210000.0</td>\n",
       "      <td>0</td>\n",
       "      <td>0</td>\n",
       "      <td>0</td>\n",
       "      <td>0</td>\n",
       "      <td>0</td>\n",
       "      <td>0</td>\n",
       "      <td>0</td>\n",
       "      <td>0</td>\n",
       "      <td>0</td>\n",
       "      <td>0</td>\n",
       "      <td>1</td>\n",
       "    </tr>\n",
       "    <tr>\n",
       "      <th>353289</th>\n",
       "      <td>1</td>\n",
       "      <td>481828</td>\n",
       "      <td>7.0</td>\n",
       "      <td>-32.904598</td>\n",
       "      <td>-60.689706</td>\n",
       "      <td>Rosario</td>\n",
       "      <td>4.0</td>\n",
       "      <td>2.0</td>\n",
       "      <td>200.000000</td>\n",
       "      <td>190.000000</td>\n",
       "      <td>145000.0</td>\n",
       "      <td>0</td>\n",
       "      <td>0</td>\n",
       "      <td>0</td>\n",
       "      <td>0</td>\n",
       "      <td>0</td>\n",
       "      <td>0</td>\n",
       "      <td>0</td>\n",
       "      <td>0</td>\n",
       "      <td>0</td>\n",
       "      <td>0</td>\n",
       "      <td>1</td>\n",
       "    </tr>\n",
       "    <tr>\n",
       "      <th>353290</th>\n",
       "      <td>1</td>\n",
       "      <td>481829</td>\n",
       "      <td>7.0</td>\n",
       "      <td>-32.989221</td>\n",
       "      <td>-60.646572</td>\n",
       "      <td>Rosario</td>\n",
       "      <td>3.0</td>\n",
       "      <td>2.0</td>\n",
       "      <td>154.000000</td>\n",
       "      <td>86.526770</td>\n",
       "      <td>160000.0</td>\n",
       "      <td>0</td>\n",
       "      <td>0</td>\n",
       "      <td>0</td>\n",
       "      <td>0</td>\n",
       "      <td>0</td>\n",
       "      <td>0</td>\n",
       "      <td>0</td>\n",
       "      <td>0</td>\n",
       "      <td>0</td>\n",
       "      <td>0</td>\n",
       "      <td>1</td>\n",
       "    </tr>\n",
       "    <tr>\n",
       "      <th>353291</th>\n",
       "      <td>1</td>\n",
       "      <td>481830</td>\n",
       "      <td>7.0</td>\n",
       "      <td>-32.932572</td>\n",
       "      <td>-60.653892</td>\n",
       "      <td>Rosario</td>\n",
       "      <td>3.0</td>\n",
       "      <td>2.0</td>\n",
       "      <td>160.000000</td>\n",
       "      <td>160.000000</td>\n",
       "      <td>450000.0</td>\n",
       "      <td>0</td>\n",
       "      <td>0</td>\n",
       "      <td>0</td>\n",
       "      <td>0</td>\n",
       "      <td>0</td>\n",
       "      <td>0</td>\n",
       "      <td>0</td>\n",
       "      <td>0</td>\n",
       "      <td>0</td>\n",
       "      <td>0</td>\n",
       "      <td>1</td>\n",
       "    </tr>\n",
       "  </tbody>\n",
       "</table>\n",
       "<p>353292 rows × 22 columns</p>\n",
       "</div>"
      ],
      "text/plain": [
       "        property_type   index  ...  departamento_Otros  departamento_Santa Fe\n",
       "0                   3       3  ...                   1                      0\n",
       "1                   1       4  ...                   1                      0\n",
       "2                   3       5  ...                   0                      0\n",
       "3                   3       6  ...                   0                      0\n",
       "4                   1       7  ...                   0                      0\n",
       "...               ...     ...  ...                 ...                    ...\n",
       "353287              3  481826  ...                   1                      0\n",
       "353288              1  481827  ...                   0                      1\n",
       "353289              1  481828  ...                   0                      1\n",
       "353290              1  481829  ...                   0                      1\n",
       "353291              1  481830  ...                   0                      1\n",
       "\n",
       "[353292 rows x 22 columns]"
      ]
     },
     "execution_count": 165,
     "metadata": {
      "tags": []
     },
     "output_type": "execute_result"
    }
   ],
   "source": [
    "pd.get_dummies(df, columns=[\"departamento\"])"
   ]
  },
  {
   "cell_type": "markdown",
   "metadata": {
    "id": "a8WjbYDej91n"
   },
   "source": [
    "#### Codificacion por m2"
   ]
  },
  {
   "cell_type": "code",
   "execution_count": null,
   "metadata": {
    "id": "Rrace9d1kQBN"
   },
   "outputs": [],
   "source": [
    "df[\"m2\"]  = df.price / df.surface_total"
   ]
  },
  {
   "cell_type": "code",
   "execution_count": null,
   "metadata": {
    "colab": {
     "base_uri": "https://localhost:8080/",
     "height": 223
    },
    "id": "lcSqCKuEkV9K",
    "outputId": "a925d18f-c0e1-48ab-dd5b-23116dc33e2a"
   },
   "outputs": [
    {
     "data": {
      "text/html": [
       "<div>\n",
       "<style scoped>\n",
       "    .dataframe tbody tr th:only-of-type {\n",
       "        vertical-align: middle;\n",
       "    }\n",
       "\n",
       "    .dataframe tbody tr th {\n",
       "        vertical-align: top;\n",
       "    }\n",
       "\n",
       "    .dataframe thead th {\n",
       "        text-align: right;\n",
       "    }\n",
       "</style>\n",
       "<table border=\"1\" class=\"dataframe\">\n",
       "  <thead>\n",
       "    <tr style=\"text-align: right;\">\n",
       "      <th></th>\n",
       "      <th>property_type</th>\n",
       "      <th>index</th>\n",
       "      <th>rooms</th>\n",
       "      <th>lat</th>\n",
       "      <th>lon</th>\n",
       "      <th>departamento</th>\n",
       "      <th>ciudad</th>\n",
       "      <th>bedrooms</th>\n",
       "      <th>bathrooms</th>\n",
       "      <th>surface_total</th>\n",
       "      <th>surface_covered</th>\n",
       "      <th>price</th>\n",
       "      <th>m2</th>\n",
       "    </tr>\n",
       "  </thead>\n",
       "  <tbody>\n",
       "    <tr>\n",
       "      <th>0</th>\n",
       "      <td>3</td>\n",
       "      <td>3</td>\n",
       "      <td>3.0</td>\n",
       "      <td>-32.910133</td>\n",
       "      <td>-68.873787</td>\n",
       "      <td>Otros</td>\n",
       "      <td>Godoy Cruz</td>\n",
       "      <td>3.0</td>\n",
       "      <td>1.0</td>\n",
       "      <td>150.000000</td>\n",
       "      <td>240.593918</td>\n",
       "      <td>40000.0</td>\n",
       "      <td>266.666667</td>\n",
       "    </tr>\n",
       "    <tr>\n",
       "      <th>1</th>\n",
       "      <td>1</td>\n",
       "      <td>4</td>\n",
       "      <td>5.0</td>\n",
       "      <td>-32.928382</td>\n",
       "      <td>-68.849922</td>\n",
       "      <td>Otros</td>\n",
       "      <td>Godoy Cruz</td>\n",
       "      <td>3.0</td>\n",
       "      <td>1.0</td>\n",
       "      <td>100.000000</td>\n",
       "      <td>76.000000</td>\n",
       "      <td>75000.0</td>\n",
       "      <td>750.000000</td>\n",
       "    </tr>\n",
       "    <tr>\n",
       "      <th>2</th>\n",
       "      <td>3</td>\n",
       "      <td>5</td>\n",
       "      <td>4.0</td>\n",
       "      <td>-31.441220</td>\n",
       "      <td>-64.206881</td>\n",
       "      <td>Córdoba</td>\n",
       "      <td>Córdoba</td>\n",
       "      <td>3.0</td>\n",
       "      <td>3.0</td>\n",
       "      <td>193.483566</td>\n",
       "      <td>240.593918</td>\n",
       "      <td>110000.0</td>\n",
       "      <td>568.523738</td>\n",
       "    </tr>\n",
       "    <tr>\n",
       "      <th>3</th>\n",
       "      <td>3</td>\n",
       "      <td>6</td>\n",
       "      <td>1.0</td>\n",
       "      <td>-31.134604</td>\n",
       "      <td>-64.288855</td>\n",
       "      <td>Córdoba</td>\n",
       "      <td>Salsipuedes</td>\n",
       "      <td>3.0</td>\n",
       "      <td>1.0</td>\n",
       "      <td>51.101045</td>\n",
       "      <td>74.000000</td>\n",
       "      <td>85000.0</td>\n",
       "      <td>1663.371070</td>\n",
       "    </tr>\n",
       "    <tr>\n",
       "      <th>4</th>\n",
       "      <td>1</td>\n",
       "      <td>7</td>\n",
       "      <td>1.0</td>\n",
       "      <td>-31.429150</td>\n",
       "      <td>-64.184921</td>\n",
       "      <td>Córdoba</td>\n",
       "      <td>Córdoba</td>\n",
       "      <td>1.0</td>\n",
       "      <td>1.0</td>\n",
       "      <td>51.101045</td>\n",
       "      <td>86.526770</td>\n",
       "      <td>60000.0</td>\n",
       "      <td>1174.144285</td>\n",
       "    </tr>\n",
       "  </tbody>\n",
       "</table>\n",
       "</div>"
      ],
      "text/plain": [
       "   property_type  index  rooms  ...  surface_covered     price           m2\n",
       "0              3      3    3.0  ...       240.593918   40000.0   266.666667\n",
       "1              1      4    5.0  ...        76.000000   75000.0   750.000000\n",
       "2              3      5    4.0  ...       240.593918  110000.0   568.523738\n",
       "3              3      6    1.0  ...        74.000000   85000.0  1663.371070\n",
       "4              1      7    1.0  ...        86.526770   60000.0  1174.144285\n",
       "\n",
       "[5 rows x 13 columns]"
      ]
     },
     "execution_count": 167,
     "metadata": {
      "tags": []
     },
     "output_type": "execute_result"
    }
   ],
   "source": [
    "df.head()"
   ]
  },
  {
   "cell_type": "code",
   "execution_count": null,
   "metadata": {
    "id": "ioigdZ-Lj8LD"
   },
   "outputs": [],
   "source": [
    "media = df[[\"bedrooms\",\"property_type\"]].groupby(\"property_type\").agg(pd.Series.median)\n",
    "media = media.to_dict()[\"bedrooms\"]"
   ]
  }
 ],
 "metadata": {
  "colab": {
   "name": "Properati PROYECTO.ipynb",
   "provenance": []
  },
  "kernelspec": {
   "display_name": "Python 3",
   "language": "python",
   "name": "python3"
  },
  "language_info": {
   "codemirror_mode": {
    "name": "ipython",
    "version": 3
   },
   "file_extension": ".py",
   "mimetype": "text/x-python",
   "name": "python",
   "nbconvert_exporter": "python",
   "pygments_lexer": "ipython3",
   "version": "3.8.5"
  }
 },
 "nbformat": 4,
 "nbformat_minor": 1
}
