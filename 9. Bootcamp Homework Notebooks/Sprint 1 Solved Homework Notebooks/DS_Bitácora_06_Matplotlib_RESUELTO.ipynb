{
 "cells": [
  {
   "cell_type": "markdown",
   "metadata": {
    "id": "os73t0AUdq9E"
   },
   "source": [
    "# Visualización con Matplotlib\n",
    "\n",
    "Matplotlib es la librería fundamental de visualización en Python. Es una librería de bajo nivel, con muchísima flexibilidad, de sintaxis compleja pero muy bien [documentada](https://matplotlib.org/users/index.html).\n",
    "\n",
    "Pero antes, para no perder la costumbre de hacer un poco de programación, dejamos el siguiente ejercicio:\n",
    "\n",
    "**Ejercicio - Challenge**: dadas las listas\n",
    "```python\n",
    "a = [12,3,5,12,8,9,25,12,1,3,4,5,17,15]\n",
    "b = [3,5,7,8,45,8,9,16,1,11,30,41,2,3,15,1,29,22]\n",
    "```\n",
    "\n",
    "Armar una nueva lista `c` con:\n",
    "\n",
    "1. Con todos los elementos de *a* y *b*\n",
    "1. Con todos los elementos de *a* y *b*, ordenados de menor a mayor\n",
    "1. Con todos los elementos de *a* y *b*, ordenados de mayor a menor\n",
    "1. Con todos los elementos de *a* y *b*, ordenados de menor a mayor y sin elementos repetidos\n",
    "1. Con todos los elementos que están en ambas listas, sin elementos repetidos. Es decir, si un elemento está sólo en una lista, no debe aparecer en `c`.\n",
    "1. Con todos los elementos que NO están en ambas listas, sin elementos repetidos. Es decir, si un elemento está en `a` y en `b`, no debe aparecer en `c`.\n",
    "\n",
    "**Pistas:** puedes resolver este ejercicio trabajando con listas, arrays o sets (¡Googlear qué son!). ¡Según el ítem, una opción o la otra es conveniente! Insistimos: ¡¡¡googlear mucho!!!"
   ]
  },
  {
   "cell_type": "code",
   "execution_count": null,
   "metadata": {
    "id": "bI87Y7MGdq9T",
    "outputId": "ddae73b1-9b68-47e0-af3f-388d553e9c5e"
   },
   "outputs": [
    {
     "name": "stdout",
     "output_type": "stream",
     "text": [
      "[12, 3, 5, 12, 8, 9, 25, 12, 1, 3, 4, 5, 17, 15, 3, 5, 7, 8, 45, 8, 9, 16, 1, 11, 30, 41, 2, 3, 15, 1, 29, 22]\n",
      "[1, 1, 1, 2, 3, 3, 3, 3, 4, 5, 5, 5, 7, 8, 8, 8, 9, 9, 11, 12, 12, 12, 15, 15, 16, 17, 22, 25, 29, 30, 41, 45]\n",
      "[45, 41, 30, 29, 25, 22, 17, 16, 15, 15, 12, 12, 12, 11, 9, 9, 8, 8, 8, 7, 5, 5, 5, 4, 3, 3, 3, 3, 2, 1, 1, 1]\n",
      "[1, 2, 3, 4, 5, 7, 8, 9, 11, 12, 15, 16, 17, 22, 25, 29, 30, 41, 45]\n",
      "[ 1  3  5  8  9 15]\n",
      "[2, 4, 7, 11, 12, 16, 17, 22, 25, 29, 30, 41, 45]\n"
     ]
    }
   ],
   "source": [
    "import numpy as np\n",
    "\n",
    "a = [12,3,5,12,8,9,25,12,1,3,4,5,17,15]\n",
    "b = [3,5,7,8,45,8,9,16,1,11,30,41,2,3,15,1,29,22]\n",
    "\n",
    "### 1.\n",
    "c = a + b\n",
    "print(c)\n",
    "\n",
    "### 2.\n",
    "c = a + b\n",
    "c.sort()\n",
    "print(c)\n",
    "\n",
    "### 3.\n",
    "c = a + b\n",
    "c.sort(reverse = True)\n",
    "print(c)\n",
    "\n",
    "### 4.\n",
    "c = list(set(a + b))\n",
    "print(c)\n",
    "\n",
    "### 5.\n",
    "a = np.array(a)\n",
    "b = np.array(b)\n",
    "c = np.intersect1d(a,b)\n",
    "print(c)\n",
    "\n",
    "### 6.\n",
    "c = list(set(a).symmetric_difference(b))\n",
    "print(c)"
   ]
  },
  {
   "cell_type": "code",
   "execution_count": null,
   "metadata": {
    "colab": {
     "base_uri": "https://localhost:8080/"
    },
    "executionInfo": {
     "elapsed": 527,
     "status": "ok",
     "timestamp": 1613776123124,
     "user": {
      "displayName": "mario puentes",
      "photoUrl": "",
      "userId": "06193586855972744289"
     },
     "user_tz": 300
    },
    "id": "tB1TRWiwdq9W",
    "outputId": "7d79d07b-4e25-486e-e877-9d15b566b5b7"
   },
   "outputs": [
    {
     "name": "stdout",
     "output_type": "stream",
     "text": [
      "[1, 2, 3, 4, 5, 7, 8, 9, 41, 11, 12, 45, 15, 16, 17, 22, 25, 29, 30]\n",
      "paso 1\n",
      "[2, 3, 4, 5, 7, 8, 9, 41, 11, 12, 45, 15, 16, 17, 22, 25, 29, 30]\n",
      "paso 3\n",
      "[2, 4, 5, 7, 8, 9, 41, 11, 12, 45, 15, 16, 17, 22, 25, 29, 30]\n",
      "paso 5\n",
      "[2, 4, 7, 8, 9, 41, 11, 12, 45, 15, 16, 17, 22, 25, 29, 30]\n",
      "paso 8\n",
      "[2, 4, 7, 9, 41, 11, 12, 45, 15, 16, 17, 22, 25, 29, 30]\n",
      "paso 41\n",
      "paso 11\n",
      "paso 12\n",
      "paso 45\n",
      "paso 15\n",
      "[2, 4, 7, 9, 41, 11, 12, 45, 16, 17, 22, 25, 29, 30]\n",
      "paso 17\n",
      "paso 22\n",
      "paso 25\n",
      "paso 29\n",
      "paso 30\n"
     ]
    }
   ],
   "source": [
    "a = [12,3,5,12,8,9,25,12,1,3,4,5,17,15]\n",
    "b = [3,5,7,8,45,8,9,16,1,11,30,41,2,3,15,1,29,22]\n",
    "c = list(set(a + b))\n",
    "print(c)\n",
    "for elemento in c:\n",
    "    print('paso', elemento)\n",
    "    if (elemento in a) and (elemento in b):\n",
    "\n",
    "        c.remove(elemento)\n",
    "        print(c)\n",
    "# print(c)\n",
    "\n",
    "# ### OTRA OPCION\n",
    "# print(set(a).symmetric_difference(b))"
   ]
  },
  {
   "cell_type": "markdown",
   "metadata": {
    "id": "XL7H1YZrdq9X"
   },
   "source": [
    "## Matplotlib\n",
    "\n",
    "Ahora sí, veamos de qué se trata Matplotlib. Pero antes, una **advertencia:** hay dos formas de utilizar Matplotlib, como se explica al comienzo de este [tutorial](https://matplotlib.org/3.1.3/tutorials/introductory/usage.html#sphx-glr-tutorials-introductory-usage-py). Una a través de los comandos `plt.`, que es la forma más rápida y sencilla, aunque un poco menos versátil. La otra consiste en crear dos objetos, llamados figuras y ejes. Si bien es un poco más difícil, es también más versátil. En general, vamos a usar la primera opción, pero es importante que conozcan ambas. Por eso, al final del notebook, dejamos algunos ejemplos de cómo hacer gráficos de la segunda manera.\n",
    "\n",
    "\n",
    "### 1. Gráficos de Líneas y Puntos\n",
    "Vamos a empezar con el gráfico más sencillo posible, una línea. Vamos a graficar una función sinusoidal de tipo: $y = sen(2 \\pi x) + 1$.\n",
    "\n",
    "La manera mas rápida de lograr un gráfico es la siguiente:"
   ]
  },
  {
   "cell_type": "code",
   "execution_count": null,
   "metadata": {
    "id": "JcGQ0OSSdq9Y"
   },
   "outputs": [],
   "source": [
    "import matplotlib.pyplot as plt\n",
    "import numpy as np"
   ]
  },
  {
   "cell_type": "code",
   "execution_count": null,
   "metadata": {
    "id": "uZn37yfAdq9Z",
    "outputId": "2c75bdd9-851b-45c2-ccad-1db89b6f094b"
   },
   "outputs": [
    {
     "data": {
      "text/plain": [
       "[<matplotlib.lines.Line2D at 0x7fbbba610128>]"
      ]
     },
     "execution_count": 3,
     "metadata": {
      "tags": []
     },
     "output_type": "execute_result"
    },
    {
     "data": {
      "image/png": "[encoded data removed]",
      "text/plain": [
       "<Figure size 432x288 with 1 Axes>"
      ]
     },
     "metadata": {
      "needs_background": "light",
      "tags": []
     },
     "output_type": "display_data"
    }
   ],
   "source": [
    "# Generamos dos vectores x e y, que nos daran las cordenadas por donde pasará la linea.\n",
    "x = np.arange(0.0, 2.0, 0.05)\n",
    "y = 1 + np.sin(2 * np.pi * x)\n",
    "\n",
    "# Simplemente le pedimos a la librería que dibuje una variable en funcion de la otra\n",
    "# En el primer lugar va la variable horizontal y en el segundo la vertical\n",
    "plt.plot(x, y)"
   ]
  },
  {
   "cell_type": "markdown",
   "metadata": {
    "id": "-al83j1Ydq9b"
   },
   "source": [
    "Si queremos pasar este gráfico a uno de puntos, es muy sencillo:"
   ]
  },
  {
   "cell_type": "code",
   "execution_count": null,
   "metadata": {
    "id": "kef4x4Hwdq9b",
    "outputId": "9f59f36f-40b5-484f-b2fa-5896540a5e55"
   },
   "outputs": [
    {
     "data": {
      "text/plain": [
       "[<matplotlib.lines.Line2D at 0x7fbbba53d7f0>]"
      ]
     },
     "execution_count": 4,
     "metadata": {
      "tags": []
     },
     "output_type": "execute_result"
    },
    {
     "data": {
      "image/png": "[encoded data removed]",
      "text/plain": [
       "<Figure size 432x288 with 1 Axes>"
      ]
     },
     "metadata": {
      "needs_background": "light",
      "tags": []
     },
     "output_type": "display_data"
    }
   ],
   "source": [
    "plt.plot(x, y, 'o')"
   ]
  },
  {
   "cell_type": "markdown",
   "metadata": {
    "id": "PNR-QDUHdq9c"
   },
   "source": [
    "O de puntos y líneas:"
   ]
  },
  {
   "cell_type": "code",
   "execution_count": null,
   "metadata": {
    "id": "-r-5Q_QCdq9d",
    "outputId": "20a36f8c-9d49-4bd8-a5c9-44e0ce95b729"
   },
   "outputs": [
    {
     "data": {
      "text/plain": [
       "[<matplotlib.lines.Line2D at 0x7fbbba4b9278>]"
      ]
     },
     "execution_count": 5,
     "metadata": {
      "tags": []
     },
     "output_type": "execute_result"
    },
    {
     "data": {
      "image/png": "[encoded data removed]",
      "text/plain": [
       "<Figure size 432x288 with 1 Axes>"
      ]
     },
     "metadata": {
      "needs_background": "light",
      "tags": []
     },
     "output_type": "display_data"
    }
   ],
   "source": [
    "plt.plot(x, y, 'o-')"
   ]
  },
  {
   "cell_type": "markdown",
   "metadata": {
    "id": "zEsi66Dydq9e"
   },
   "source": [
    "Muy parecida es la función `plt.scatter()`, que sirve para hacer gráficos de dispersión. A diferencia de `plt.plot()`, esta función no permite gráficos de líneas."
   ]
  },
  {
   "cell_type": "code",
   "execution_count": null,
   "metadata": {
    "id": "qf2i8LoOdq9g",
    "outputId": "63637b8f-e7c0-47b1-d782-87f48ef06748"
   },
   "outputs": [
    {
     "data": {
      "text/plain": [
       "<matplotlib.collections.PathCollection at 0x7fbbba4a6828>"
      ]
     },
     "execution_count": 6,
     "metadata": {
      "tags": []
     },
     "output_type": "execute_result"
    },
    {
     "data": {
      "image/png": "[encoded data removed]",
      "text/plain": [
       "<Figure size 432x288 with 1 Axes>"
      ]
     },
     "metadata": {
      "needs_background": "light",
      "tags": []
     },
     "output_type": "display_data"
    }
   ],
   "source": [
    "plt.scatter(x, y)"
   ]
  },
  {
   "cell_type": "markdown",
   "metadata": {
    "id": "wTOttSJydq9h"
   },
   "source": [
    "### 2. Agregando información al gráfico.\n",
    "\n",
    "Es muy importante que los gráficos sean entendibles. Esto puede parecer una obviedad, pero muchas veces nos lo olvidamos. Agregar información a los gráficos - cuidándonos de no saturarlos - favorece su comprensión. Algunas cosas que podemos hacer son:\n",
    "\n",
    "* Etiquetar correctamente los ejes. ¡No olvidar sus unidades!\n",
    "* Agregar un título.\n"
   ]
  },
  {
   "cell_type": "code",
   "execution_count": null,
   "metadata": {
    "id": "BC_SB5T7dq9i",
    "outputId": "7c3f1b7c-0b94-45f4-f9c8-84c574ca1f9a"
   },
   "outputs": [
    {
     "data": {
      "image/png": "[encoded data removed]",
      "text/plain": [
       "<Figure size 432x288 with 1 Axes>"
      ]
     },
     "metadata": {
      "needs_background": "light",
      "tags": []
     },
     "output_type": "display_data"
    }
   ],
   "source": [
    "x = np.arange(0.0, 24, 0.5)\n",
    "y = 20 + 5*np.sin(2*np.pi*(x - 8)/24)\n",
    "\n",
    "plt.plot(x, y, color = 'g', linewidth = 2)\n",
    "\n",
    "# Podemos agregarle etiquetas a los ejes y un titulo al gráfico\n",
    "plt.xlabel('Tiempo (horas)')\n",
    "plt.ylabel('Temperatura (°C)')\n",
    "plt.title('Temperatura de un día primaveral')\n",
    "\n",
    "plt.grid() # Este comando enciende la grilla de referencia \n",
    "plt.show() #Show muestra el gráfico. Si no lo ponemos, en general no pasa nada.¡Pero no siempre es así!"
   ]
  },
  {
   "cell_type": "markdown",
   "metadata": {
    "id": "jXXqG-xfdq9i"
   },
   "source": [
    "**Leyendas**\n",
    "\n",
    "En general, los gráficos suelen contener más de una curva. Para poder distinguirlas correctamente, usamos las leyendas, que son cuadros que se agregan dentro del gráfico que nos brindan información sobre los distintos elementos. Matplotlib se encarga de manejar muy bien las leyendas. Nosotros sólo debemos decirle el nombre de cada objeto que graficamos y avisarle que queremos que agregue la leyenda al gráfico.\n",
    "\n",
    "Veamos cómo graficar más de una curva con sus correspondientes etiquetas (`label`) y cómo crear la leyenda."
   ]
  },
  {
   "cell_type": "code",
   "execution_count": null,
   "metadata": {
    "colab": {
     "base_uri": "https://localhost:8080/",
     "height": 295
    },
    "executionInfo": {
     "elapsed": 777,
     "status": "ok",
     "timestamp": 1613776613486,
     "user": {
      "displayName": "mario puentes",
      "photoUrl": "",
      "userId": "06193586855972744289"
     },
     "user_tz": 300
    },
    "id": "EAzTODlpdq9j",
    "outputId": "8e2f70bb-00c2-4559-bf74-4e66f146eff0"
   },
   "outputs": [
    {
     "data": {
      "image/png": "[encoded data removed]",
      "text/plain": [
       "<Figure size 432x288 with 1 Axes>"
      ]
     },
     "metadata": {
      "needs_background": "light",
      "tags": []
     },
     "output_type": "display_data"
    }
   ],
   "source": [
    "x = np.arange(0.0, 24, 0.5)\n",
    "y1 = 20 + 5*np.sin(2*np.pi*(x - 8)/24)\n",
    "y2 = 5 + 5*np.sin(2*np.pi*(x - 6)/24)\n",
    "\n",
    "# Ploteamos las dos lineas, dandole un nombre a cada una mediante el parámetro 'label'.\n",
    "# Notar que para agregar una curva, simplemente debemos poner una debajo de la otra\n",
    "plt.plot(x, y1, label = 'Primavera')\n",
    "plt.plot(x, y2, label = 'invierno')\n",
    "\n",
    "plt.xlabel('Tiempo (horas)')\n",
    "plt.ylabel('Temperatura (°C)')\n",
    "plt.title('Temperatura diaria promedio')\n",
    "\n",
    "# Este comando enciende la grilla de referencia \n",
    "plt.grid()\n",
    "\n",
    "# Agregamos la leyenda al gráfico\n",
    "plt.legend()#loc='upper center', shadow=True, fontsize='x-large')\n",
    "plt.show() "
   ]
  },
  {
   "cell_type": "markdown",
   "metadata": {
    "id": "C-uQCmlAdq9k"
   },
   "source": [
    "**Probar** cambiar el orden en que graficas las curvas, los estilos, los colores, etc. También, cambiar algunos parámetros de `plt.legend()`. Siempre puedes ir a la documentación de la función.\n",
    "\n",
    "**Ejercicio - Challenge:** Para realizar este ejercicio, debes consultar la documentación de Matplotlib.\n",
    "1. Define dos listas de valores `x` e `y`, tal que los pares (x,y) cumplan una relación lineal del tipo $y = 2x + 1$. Defina la lista de valores de `x` con 100 puntos en el intervalo de valores que van desde -1 hasta 1.\n",
    "2. Grafica la curva generada por los valores (x,y) en color verde, con un ancho `linewidth = 3` y que sea una línea a trazos. Agrega al gráfico el título 'Relación Lineal'.\n",
    "3. Agrega una segunda curva de su invención.\n",
    "4. Agrega etiquetas en los ejes, leyenda y título al gráfico. ¡Puede ser lo que desees, pero tiene que tener sentido!"
   ]
  },
  {
   "cell_type": "code",
   "execution_count": null,
   "metadata": {
    "id": "zud2JGPQdq9l",
    "outputId": "326cd33b-c469-499e-bbae-102b66dff05f"
   },
   "outputs": [
    {
     "data": {
      "text/plain": [
       "Text(0.5, 1.0, 'Relación Lineal')"
      ]
     },
     "execution_count": 9,
     "metadata": {
      "tags": []
     },
     "output_type": "execute_result"
    },
    {
     "data": {
      "image/png": "[encoded data removed]",
      "text/plain": [
       "<Figure size 432x288 with 1 Axes>"
      ]
     },
     "metadata": {
      "needs_background": "light",
      "tags": []
     },
     "output_type": "display_data"
    }
   ],
   "source": [
    "x = np.linspace(-1,1,100)\n",
    "y = 2*x + 1\n",
    "\n",
    "plt.plot(x, y, color = 'green', linewidth = 3, linestyle = '--')\n",
    "plt.title('Relación Lineal')"
   ]
  },
  {
   "cell_type": "markdown",
   "metadata": {
    "id": "l0kec7YNdq9m"
   },
   "source": [
    "### 3. Histogramas\n",
    "\n",
    "Matplotlib también nos permite graficar fácilmente histogramas mediante la función `hist`, como vimos en el notebook anterior. Prestar atención a la siguiente celda, vamos a generar muestras de una distribución normal de una forma ligeramente distinta a la que usamos en ese notebook."
   ]
  },
  {
   "cell_type": "code",
   "execution_count": null,
   "metadata": {
    "colab": {
     "base_uri": "https://localhost:8080/"
    },
    "executionInfo": {
     "elapsed": 436,
     "status": "ok",
     "timestamp": 1613776732597,
     "user": {
      "displayName": "mario puentes",
      "photoUrl": "",
      "userId": "06193586855972744289"
     },
     "user_tz": 300
    },
    "id": "wnRSWQL-dq9m",
    "outputId": "49e03678-0f34-4bf2-d126-f281a935d77b"
   },
   "outputs": [
    {
     "name": "stdout",
     "output_type": "stream",
     "text": [
      "Media: 20.201395032215377\n",
      "Desvio Estandar: 3.9138541251576773\n"
     ]
    }
   ],
   "source": [
    "# Elegimos una distribución con centro en 20 y una desviación igual a 4\n",
    "mu = 20  # Media de la distribución\n",
    "sigma = 4  # Desviación Estandar\n",
    "valores = mu + sigma * np.random.randn(1000)\n",
    "\n",
    "# Imprimimos la media y la desviación de los valores generados\n",
    "print('Media:',np.mean(valores))\n",
    "print('Desvio Estandar:',np.std(valores))\n",
    "# Recuerden que cuantos mas valores sampleen, \n",
    "# mas se aproximaran estos valores a los de la distribución."
   ]
  },
  {
   "cell_type": "markdown",
   "metadata": {
    "id": "ma8dFK5bdq9n"
   },
   "source": [
    "Ahora vamos a graficar un histograma para estos valores:"
   ]
  },
  {
   "cell_type": "code",
   "execution_count": null,
   "metadata": {
    "colab": {
     "base_uri": "https://localhost:8080/",
     "height": 265
    },
    "executionInfo": {
     "elapsed": 619,
     "status": "ok",
     "timestamp": 1613776727009,
     "user": {
      "displayName": "mario puentes",
      "photoUrl": "",
      "userId": "06193586855972744289"
     },
     "user_tz": 300
    },
    "id": "L3lQhv6qdq9o",
    "outputId": "73280040-6691-421e-a4f0-4e8829f0b53c"
   },
   "outputs": [
    {
     "data": {
      "image/png": "[encoded data removed]",
      "text/plain": [
       "<Figure size 432x288 with 1 Axes>"
      ]
     },
     "metadata": {
      "needs_background": "light",
      "tags": []
     },
     "output_type": "display_data"
    }
   ],
   "source": [
    "plt.hist(valores, bins = 50)\n",
    "plt.show()"
   ]
  },
  {
   "cell_type": "markdown",
   "metadata": {
    "id": "pDTeSX88dq9p"
   },
   "source": [
    "**Ejercicio**: \n",
    "\n",
    "1. Repite el histograma anterior, pero esta vez cambiando el número de `bins`. Por ejemplo, prueba con 5, 10, 20, 50, 500 y 5000. ¿Cuál les parece la opción más adecuada? ¿De qué dependará el número de bins adecuado a seleccionar?\n",
    "2. Prueba qué sucede si no le pasan el argumento `bins` a la función. Busca en la bibliografía de la librería que es lo que hace por default la función.\n",
    "3. Averigua cuales son los argumentos de la función `hist` y modifica el color del histograma, el tamaño de las barras, etc."
   ]
  },
  {
   "cell_type": "markdown",
   "metadata": {
    "id": "q6oSM7O_dq9q"
   },
   "source": [
    "**Nota**: la función `hist` además nos devuelve dos vectores relevantes. El vector `n` donde nos especifica el número de cuentas de cada bin (columna) del histograma. Y el vector `bins`, que nos dice los límites de estos bines (donde empieza y termina cada columna. Notar que el vector 'bins' tiene un largo igual a `len(n)+1`."
   ]
  },
  {
   "cell_type": "code",
   "execution_count": null,
   "metadata": {
    "colab": {
     "base_uri": "https://localhost:8080/",
     "height": 465
    },
    "executionInfo": {
     "elapsed": 617,
     "status": "ok",
     "timestamp": 1613777054994,
     "user": {
      "displayName": "mario puentes",
      "photoUrl": "",
      "userId": "06193586855972744289"
     },
     "user_tz": 300
    },
    "id": "Rxm2PIckdq9q",
    "outputId": "a5a564da-f476-4693-dd6b-d4e3f8be7a0e"
   },
   "outputs": [
    {
     "data": {
      "image/png": "[encoded data removed]",
      "text/plain": [
       "<Figure size 432x288 with 1 Axes>"
      ]
     },
     "metadata": {
      "needs_background": "light",
      "tags": []
     },
     "output_type": "display_data"
    },
    {
     "name": "stdout",
     "output_type": "stream",
     "text": [
      "[ 2.  2.  0.  4.  3.  8.  6.  5.  5. 10. 10. 21. 32. 21. 23. 30. 36. 47.\n",
      " 42. 44. 44. 34. 51. 55. 43. 46. 47. 56. 43. 36. 27. 27. 26. 32. 19. 19.\n",
      " 12.  7.  2.  3.  9.  6.  1.  2.  1.  0.  0.  0.  0.  1.] [ 8.09780977  8.60944654  9.1210833   9.63272007 10.14435683 10.65599359\n",
      " 11.16763036 11.67926712 12.19090389 12.70254065 13.21417742 13.72581418\n",
      " 14.23745094 14.74908771 15.26072447 15.77236124 16.283998   16.79563477\n",
      " 17.30727153 17.8189083  18.33054506 18.84218182 19.35381859 19.86545535\n",
      " 20.37709212 20.88872888 21.40036565 21.91200241 22.42363917 22.93527594\n",
      " 23.4469127  23.95854947 24.47018623 24.981823   25.49345976 26.00509652\n",
      " 26.51673329 27.02837005 27.54000682 28.05164358 28.56328035 29.07491711\n",
      " 29.58655387 30.09819064 30.6098274  31.12146417 31.63310093 32.1447377\n",
      " 32.65637446 33.16801123 33.67964799]\n"
     ]
    }
   ],
   "source": [
    "#n, bins, _ = \n",
    "plt.hist(valores, bins = 50)\n",
    "plt.show()\n",
    "print(n, bins)\n"
   ]
  },
  {
   "cell_type": "markdown",
   "metadata": {
    "id": "XOdt6TXidq9r"
   },
   "source": [
    "### Ejercitación\n",
    "\n",
    "Vamos a trabajar con un dataset de reviews de vinos, 'DS_Bitácora_06_Wine_Reviews.csv'. Pueden obtener más información sobre este dataset [aquí](https://www.kaggle.com/zynicide/wine-reviews/). Recomendamos leer su descripción.\n",
    "\n",
    "**Si no puedes hacer el ejercicio 1, no te preocupes, en el ejercicio 2 te dejamos las líneas de código necesarias para que puedas continuar.**\n",
    "\n",
    "**Ejercicio 1: Exploración del Dataset** abrir el dataset con Pandas y:\n",
    "1. Imprimir sus primeras cinco instancias.\n",
    "1. ¿Cuántas columnas (features) tiene?¿Cuáles son sus nombres?¿Y cuántas filas (instancias)? Descartar la columna `'Unnamed: 0'`.\n",
    "1. ¿Qué es un valor faltante?¿Cuántos valores faltantes hay en cada columna? Pista: `isna()`, `sum()`.\n",
    "1. ¿Cuáles son el peor y el mejor vino? Imprimir en pantalla sus características y su descripción. ¿Hay un solo vino que sea el mejor o el peor?\n",
    "1. Hacer una pregunta y responderla utilizando el dataset.\n",
    "\n",
    "**Recomendación:** puede ser útil recordar qué es una máscara o filtro booleano."
   ]
  },
  {
   "cell_type": "code",
   "execution_count": 40,
   "metadata": {
    "executionInfo": {
     "elapsed": 727,
     "status": "ok",
     "timestamp": 1613786969693,
     "user": {
      "displayName": "mario puentes",
      "photoUrl": "",
      "userId": "06193586855972744289"
     },
     "user_tz": 300
    },
    "id": "ZJ9oVJxedq9s"
   },
   "outputs": [],
   "source": [
    "import pandas as pd\n",
    "import matplotlib.pyplot as plt"
   ]
  },
  {
   "cell_type": "code",
   "execution_count": 41,
   "metadata": {
    "colab": {
     "base_uri": "https://localhost:8080/",
     "height": 650
    },
    "executionInfo": {
     "elapsed": 1869,
     "status": "ok",
     "timestamp": 1613786972625,
     "user": {
      "displayName": "mario puentes",
      "photoUrl": "",
      "userId": "06193586855972744289"
     },
     "user_tz": 300
    },
    "id": "GsL0KDnkdq9t",
    "outputId": "acf1a92c-c983-4570-d010-ef5a2911c4eb"
   },
   "outputs": [
    {
     "data": {
      "text/html": [
       "<div>\n",
       "<style scoped>\n",
       "    .dataframe tbody tr th:only-of-type {\n",
       "        vertical-align: middle;\n",
       "    }\n",
       "\n",
       "    .dataframe tbody tr th {\n",
       "        vertical-align: top;\n",
       "    }\n",
       "\n",
       "    .dataframe thead th {\n",
       "        text-align: right;\n",
       "    }\n",
       "</style>\n",
       "<table border=\"1\" class=\"dataframe\">\n",
       "  <thead>\n",
       "    <tr style=\"text-align: right;\">\n",
       "      <th></th>\n",
       "      <th>Unnamed: 0</th>\n",
       "      <th>country</th>\n",
       "      <th>description</th>\n",
       "      <th>designation</th>\n",
       "      <th>points</th>\n",
       "      <th>price</th>\n",
       "      <th>province</th>\n",
       "      <th>region_1</th>\n",
       "      <th>region_2</th>\n",
       "      <th>taster_name</th>\n",
       "      <th>taster_twitter_handle</th>\n",
       "      <th>title</th>\n",
       "      <th>variety</th>\n",
       "      <th>winery</th>\n",
       "    </tr>\n",
       "  </thead>\n",
       "  <tbody>\n",
       "    <tr>\n",
       "      <th>0</th>\n",
       "      <td>0</td>\n",
       "      <td>Italy</td>\n",
       "      <td>Aromas include tropical fruit, broom, brimston...</td>\n",
       "      <td>Vulkà Bianco</td>\n",
       "      <td>87</td>\n",
       "      <td>NaN</td>\n",
       "      <td>Sicily &amp; Sardinia</td>\n",
       "      <td>Etna</td>\n",
       "      <td>NaN</td>\n",
       "      <td>Kerin O’Keefe</td>\n",
       "      <td>@kerinokeefe</td>\n",
       "      <td>Nicosia 2013 Vulkà Bianco  (Etna)</td>\n",
       "      <td>White Blend</td>\n",
       "      <td>Nicosia</td>\n",
       "    </tr>\n",
       "    <tr>\n",
       "      <th>1</th>\n",
       "      <td>1</td>\n",
       "      <td>Portugal</td>\n",
       "      <td>This is ripe and fruity, a wine that is smooth...</td>\n",
       "      <td>Avidagos</td>\n",
       "      <td>87</td>\n",
       "      <td>15.0</td>\n",
       "      <td>Douro</td>\n",
       "      <td>NaN</td>\n",
       "      <td>NaN</td>\n",
       "      <td>Roger Voss</td>\n",
       "      <td>@vossroger</td>\n",
       "      <td>Quinta dos Avidagos 2011 Avidagos Red (Douro)</td>\n",
       "      <td>Portuguese Red</td>\n",
       "      <td>Quinta dos Avidagos</td>\n",
       "    </tr>\n",
       "    <tr>\n",
       "      <th>2</th>\n",
       "      <td>2</td>\n",
       "      <td>US</td>\n",
       "      <td>Tart and snappy, the flavors of lime flesh and...</td>\n",
       "      <td>NaN</td>\n",
       "      <td>87</td>\n",
       "      <td>14.0</td>\n",
       "      <td>Oregon</td>\n",
       "      <td>Willamette Valley</td>\n",
       "      <td>Willamette Valley</td>\n",
       "      <td>Paul Gregutt</td>\n",
       "      <td>@paulgwine</td>\n",
       "      <td>Rainstorm 2013 Pinot Gris (Willamette Valley)</td>\n",
       "      <td>Pinot Gris</td>\n",
       "      <td>Rainstorm</td>\n",
       "    </tr>\n",
       "    <tr>\n",
       "      <th>3</th>\n",
       "      <td>3</td>\n",
       "      <td>US</td>\n",
       "      <td>Pineapple rind, lemon pith and orange blossom ...</td>\n",
       "      <td>Reserve Late Harvest</td>\n",
       "      <td>87</td>\n",
       "      <td>13.0</td>\n",
       "      <td>Michigan</td>\n",
       "      <td>Lake Michigan Shore</td>\n",
       "      <td>NaN</td>\n",
       "      <td>Alexander Peartree</td>\n",
       "      <td>NaN</td>\n",
       "      <td>St. Julian 2013 Reserve Late Harvest Riesling ...</td>\n",
       "      <td>Riesling</td>\n",
       "      <td>St. Julian</td>\n",
       "    </tr>\n",
       "    <tr>\n",
       "      <th>4</th>\n",
       "      <td>4</td>\n",
       "      <td>US</td>\n",
       "      <td>Much like the regular bottling from 2012, this...</td>\n",
       "      <td>Vintner's Reserve Wild Child Block</td>\n",
       "      <td>87</td>\n",
       "      <td>65.0</td>\n",
       "      <td>Oregon</td>\n",
       "      <td>Willamette Valley</td>\n",
       "      <td>Willamette Valley</td>\n",
       "      <td>Paul Gregutt</td>\n",
       "      <td>@paulgwine</td>\n",
       "      <td>Sweet Cheeks 2012 Vintner's Reserve Wild Child...</td>\n",
       "      <td>Pinot Noir</td>\n",
       "      <td>Sweet Cheeks</td>\n",
       "    </tr>\n",
       "  </tbody>\n",
       "</table>\n",
       "</div>"
      ],
      "text/plain": [
       "   Unnamed: 0   country  ...         variety               winery\n",
       "0           0     Italy  ...     White Blend              Nicosia\n",
       "1           1  Portugal  ...  Portuguese Red  Quinta dos Avidagos\n",
       "2           2        US  ...      Pinot Gris            Rainstorm\n",
       "3           3        US  ...        Riesling           St. Julian\n",
       "4           4        US  ...      Pinot Noir         Sweet Cheeks\n",
       "\n",
       "[5 rows x 14 columns]"
      ]
     },
     "execution_count": 41,
     "metadata": {
      "tags": []
     },
     "output_type": "execute_result"
    }
   ],
   "source": [
    "wine_reviews = pd.read_csv('ds_06_wine_reviews.csv')\n",
    "wine_reviews.head()"
   ]
  },
  {
   "cell_type": "markdown",
   "metadata": {
    "id": "a-S-AwQ2dq9u"
   },
   "source": [
    "2. ¿Cuántas columnas (features) tiene?¿Cuáles son sus nombres?¿Y cuántas filas (instancias)? Luego, descartar la columna `'Unnamed: 0'`."
   ]
  },
  {
   "cell_type": "code",
   "execution_count": 42,
   "metadata": {
    "colab": {
     "base_uri": "https://localhost:8080/"
    },
    "executionInfo": {
     "elapsed": 576,
     "status": "ok",
     "timestamp": 1613787408174,
     "user": {
      "displayName": "mario puentes",
      "photoUrl": "",
      "userId": "06193586855972744289"
     },
     "user_tz": 300
    },
    "id": "rYyVlI2Ydq9v",
    "outputId": "d089128c-1604-49ed-bb40-7c1c98c76929"
   },
   "outputs": [
    {
     "name": "stdout",
     "output_type": "stream",
     "text": [
      "(129971, 14)\n",
      "Index(['Unnamed: 0', 'country', 'description', 'designation', 'points',\n",
      "       'price', 'province', 'region_1', 'region_2', 'taster_name',\n",
      "       'taster_twitter_handle', 'title', 'variety', 'winery'],\n",
      "      dtype='object')\n"
     ]
    }
   ],
   "source": [
    "print(wine_reviews.shape)\n",
    "print(wine_reviews.columns)\n",
    "wine_reviews.drop(columns=['Unnamed: 0'], inplace = True)"
   ]
  },
  {
   "cell_type": "markdown",
   "metadata": {
    "id": "cYf1Xskxdq9w"
   },
   "source": [
    "3. ¿Cuántos valores faltantes hay en cada columna?"
   ]
  },
  {
   "cell_type": "code",
   "execution_count": null,
   "metadata": {
    "colab": {
     "base_uri": "https://localhost:8080/"
    },
    "executionInfo": {
     "elapsed": 520,
     "status": "ok",
     "timestamp": 1613777712185,
     "user": {
      "displayName": "mario puentes",
      "photoUrl": "",
      "userId": "06193586855972744289"
     },
     "user_tz": 300
    },
    "id": "IqPigmL7dq9x",
    "outputId": "8aae8e75-0ef4-4fa5-ba3a-5f3d034362e3"
   },
   "outputs": [
    {
     "name": "stdout",
     "output_type": "stream",
     "text": [
      "country                     63\n",
      "description                  0\n",
      "designation              37465\n",
      "points                       0\n",
      "price                     8996\n",
      "province                    63\n",
      "region_1                 21247\n",
      "region_2                 79460\n",
      "taster_name              26244\n",
      "taster_twitter_handle    31213\n",
      "title                        0\n",
      "variety                      1\n",
      "winery                       0\n",
      "dtype: int64\n"
     ]
    }
   ],
   "source": [
    "print(wine_reviews.isna().sum())"
   ]
  },
  {
   "cell_type": "markdown",
   "metadata": {
    "id": "ojhl2c2qdq9y"
   },
   "source": [
    "4. ¿Cuáles son el peor y el mejor vino? Imprimir en pantalla sus características y su descripción. ¿Hay un solo vino que sea el mejor o el peor?"
   ]
  },
  {
   "cell_type": "code",
   "execution_count": null,
   "metadata": {
    "colab": {
     "base_uri": "https://localhost:8080/"
    },
    "executionInfo": {
     "elapsed": 421,
     "status": "ok",
     "timestamp": 1613777821393,
     "user": {
      "displayName": "mario puentes",
      "photoUrl": "",
      "userId": "06193586855972744289"
     },
     "user_tz": 300
    },
    "id": "_vt3rNtodq9y",
    "outputId": "21b5a9dc-3ad4-44e7-d448-37536601468a"
   },
   "outputs": [
    {
     "data": {
      "text/plain": [
       "country                                                          Australia\n",
       "description              This wine contains some material over 100 year...\n",
       "designation                                                           Rare\n",
       "points                                                                 100\n",
       "price                                                                  350\n",
       "province                                                          Victoria\n",
       "region_1                                                        Rutherglen\n",
       "region_2                                                               NaN\n",
       "taster_name                                                 Joe Czerwinski\n",
       "taster_twitter_handle                                               @JoeCz\n",
       "title                    Chambers Rosewood Vineyards NV Rare Muscat (Ru...\n",
       "variety                                                             Muscat\n",
       "winery                                         Chambers Rosewood Vineyards\n",
       "Name: 345, dtype: object"
      ]
     },
     "execution_count": 21,
     "metadata": {
      "tags": []
     },
     "output_type": "execute_result"
    }
   ],
   "source": [
    "\n",
    "wine_reviews.loc[wine_reviews.points.idxmax()]"
   ]
  },
  {
   "cell_type": "code",
   "execution_count": null,
   "metadata": {
    "colab": {
     "base_uri": "https://localhost:8080/",
     "height": 72
    },
    "executionInfo": {
     "elapsed": 657,
     "status": "ok",
     "timestamp": 1613777882886,
     "user": {
      "displayName": "mario puentes",
      "photoUrl": "",
      "userId": "06193586855972744289"
     },
     "user_tz": 300
    },
    "id": "uZAZ7rSOdq9z",
    "outputId": "e6110d72-14e3-4622-a30c-ae55b33c154d"
   },
   "outputs": [
    {
     "data": {
      "application/vnd.google.colaboratory.intrinsic+json": {
       "type": "string"
      },
      "text/plain": [
       "\"This wine contains some material over 100 years old, but shows no signs of fragility. Instead, it's concentrated through age and should hold in the bottle indefinitely. It's dark coffee-brown in color, with delectable aromas of rancio, dried fig, molasses and black tea, yet despite enormous concentration avoids excessive weight. And it's amazingly complex and fresh on the nearly endless finish.\""
      ]
     },
     "execution_count": 22,
     "metadata": {
      "tags": []
     },
     "output_type": "execute_result"
    }
   ],
   "source": [
    "wine_reviews.loc[wine_reviews.points.idxmax()]['description']"
   ]
  },
  {
   "cell_type": "code",
   "execution_count": null,
   "metadata": {
    "colab": {
     "base_uri": "https://localhost:8080/"
    },
    "executionInfo": {
     "elapsed": 428,
     "status": "ok",
     "timestamp": 1613777885605,
     "user": {
      "displayName": "mario puentes",
      "photoUrl": "",
      "userId": "06193586855972744289"
     },
     "user_tz": 300
    },
    "id": "rEtm5v5edq9z",
    "outputId": "1fe3b2fd-ef15-4c90-f5eb-72eed7d51927"
   },
   "outputs": [
    {
     "data": {
      "text/plain": [
       "country                                                              Chile\n",
       "description              Aromas of pumpkin, squash and corn chips are s...\n",
       "designation                                                   Gran Reserva\n",
       "points                                                                  80\n",
       "price                                                                   19\n",
       "province                                                      Leyda Valley\n",
       "region_1                                                               NaN\n",
       "region_2                                                               NaN\n",
       "taster_name                                              Michael Schachner\n",
       "taster_twitter_handle                                          @wineschach\n",
       "title                    Viña Tarapacá 2015 Gran Reserva Chardonnay (Le...\n",
       "variety                                                         Chardonnay\n",
       "winery                                                       Viña Tarapacá\n",
       "Name: 344, dtype: object"
      ]
     },
     "execution_count": 23,
     "metadata": {
      "tags": []
     },
     "output_type": "execute_result"
    }
   ],
   "source": [
    "wine_reviews.loc[wine_reviews.points.idxmin()]"
   ]
  },
  {
   "cell_type": "code",
   "execution_count": null,
   "metadata": {
    "colab": {
     "base_uri": "https://localhost:8080/",
     "height": 54
    },
    "executionInfo": {
     "elapsed": 462,
     "status": "ok",
     "timestamp": 1613777890462,
     "user": {
      "displayName": "mario puentes",
      "photoUrl": "",
      "userId": "06193586855972744289"
     },
     "user_tz": 300
    },
    "id": "dnKlW9Nadq90",
    "outputId": "cd31b0f8-dd31-4e00-afc0-b4a01feeaf48"
   },
   "outputs": [
    {
     "data": {
      "application/vnd.google.colaboratory.intrinsic+json": {
       "type": "string"
      },
      "text/plain": [
       "\"Aromas of pumpkin, squash and corn chips are stale and not inviting. There's an acceptable mouthfeel to this weird, unbalanced Chardonnay along with flavors of spiced squash, mealy apple and sautéed root vegetables.\""
      ]
     },
     "execution_count": 24,
     "metadata": {
      "tags": []
     },
     "output_type": "execute_result"
    }
   ],
   "source": [
    "wine_reviews.loc[wine_reviews.points.idxmin()]['description']"
   ]
  },
  {
   "cell_type": "markdown",
   "metadata": {
    "id": "3Ojcp9kTdq90"
   },
   "source": [
    "**Ejercicio 2:** Hacer una diagrama de dispersión entre los precios (eje x) y el puntaje de los vinos (eje y). Ponerle las etiquetas correspondientes a los ejes y un título informativo. ¿Qué ocurre con la escala en el eje de los precios en este gráfico?¿Te animás a cambiarle los límites al eje x? ¿Qué conclusiones pueden sacar sobre la relación de precio y puntaje observando este gráfico?"
   ]
  },
  {
   "cell_type": "code",
   "execution_count": null,
   "metadata": {
    "colab": {
     "base_uri": "https://localhost:8080/",
     "height": 198
    },
    "executionInfo": {
     "elapsed": 889,
     "status": "ok",
     "timestamp": 1613778009285,
     "user": {
      "displayName": "mario puentes",
      "photoUrl": "",
      "userId": "06193586855972744289"
     },
     "user_tz": 300
    },
    "id": "JL_otMQbdq91",
    "outputId": "3eec6bba-8a61-4955-9186-f15d5439878d"
   },
   "outputs": [
    {
     "data": {
      "text/html": [
       "<div>\n",
       "<style scoped>\n",
       "    .dataframe tbody tr th:only-of-type {\n",
       "        vertical-align: middle;\n",
       "    }\n",
       "\n",
       "    .dataframe tbody tr th {\n",
       "        vertical-align: top;\n",
       "    }\n",
       "\n",
       "    .dataframe thead th {\n",
       "        text-align: right;\n",
       "    }\n",
       "</style>\n",
       "<table border=\"1\" class=\"dataframe\">\n",
       "  <thead>\n",
       "    <tr style=\"text-align: right;\">\n",
       "      <th></th>\n",
       "      <th>country</th>\n",
       "      <th>points</th>\n",
       "      <th>price</th>\n",
       "      <th>variety</th>\n",
       "    </tr>\n",
       "  </thead>\n",
       "  <tbody>\n",
       "    <tr>\n",
       "      <th>1</th>\n",
       "      <td>Portugal</td>\n",
       "      <td>87</td>\n",
       "      <td>15.0</td>\n",
       "      <td>Portuguese Red</td>\n",
       "    </tr>\n",
       "    <tr>\n",
       "      <th>2</th>\n",
       "      <td>US</td>\n",
       "      <td>87</td>\n",
       "      <td>14.0</td>\n",
       "      <td>Pinot Gris</td>\n",
       "    </tr>\n",
       "    <tr>\n",
       "      <th>3</th>\n",
       "      <td>US</td>\n",
       "      <td>87</td>\n",
       "      <td>13.0</td>\n",
       "      <td>Riesling</td>\n",
       "    </tr>\n",
       "    <tr>\n",
       "      <th>4</th>\n",
       "      <td>US</td>\n",
       "      <td>87</td>\n",
       "      <td>65.0</td>\n",
       "      <td>Pinot Noir</td>\n",
       "    </tr>\n",
       "    <tr>\n",
       "      <th>5</th>\n",
       "      <td>Spain</td>\n",
       "      <td>87</td>\n",
       "      <td>15.0</td>\n",
       "      <td>Tempranillo-Merlot</td>\n",
       "    </tr>\n",
       "  </tbody>\n",
       "</table>\n",
       "</div>"
      ],
      "text/plain": [
       "    country  points  price             variety\n",
       "1  Portugal      87   15.0      Portuguese Red\n",
       "2        US      87   14.0          Pinot Gris\n",
       "3        US      87   13.0            Riesling\n",
       "4        US      87   65.0          Pinot Noir\n",
       "5     Spain      87   15.0  Tempranillo-Merlot"
      ]
     },
     "execution_count": 26,
     "metadata": {
      "tags": []
     },
     "output_type": "execute_result"
    }
   ],
   "source": [
    "### En estas celdas preparamos el dataset de forma de que puedas trabajar sin inconvenientes.\n",
    "# Definimos las columnas que nos interesan\n",
    "fields = ['country', 'points','price', 'variety']\n",
    "\n",
    "# Cargamos el DataFrame solo con esas columnas\n",
    "wine_reviews = pd.read_csv('ds_06_wine_reviews.csv', usecols = fields)\n",
    "\n",
    "# Tiramos las isntancias que tienen un nan en alguno de los features.\n",
    "wine_reviews.dropna(inplace=True)\n",
    "wine_reviews.head()"
   ]
  },
  {
   "cell_type": "code",
   "execution_count": null,
   "metadata": {
    "id": "K5wh5_7ldq91"
   },
   "outputs": [],
   "source": [
    "# Tomamos como coordenadas en x los precios\n",
    "x = wine_reviews.price.values\n",
    "# Tomamos como coordenadas en y el puntaje de la review\n",
    "y = wine_reviews.points.values"
   ]
  },
  {
   "cell_type": "code",
   "execution_count": null,
   "metadata": {
    "colab": {
     "base_uri": "https://localhost:8080/",
     "height": 295
    },
    "executionInfo": {
     "elapsed": 873,
     "status": "ok",
     "timestamp": 1613778061923,
     "user": {
      "displayName": "mario puentes",
      "photoUrl": "",
      "userId": "06193586855972744289"
     },
     "user_tz": 300
    },
    "id": "os7CZKZWdq91",
    "outputId": "ca749aea-8f83-4f23-cbb9-c07e2063f100"
   },
   "outputs": [
    {
     "data": {
      "image/png": "[encoded data removed]",
      "text/plain": [
       "<Figure size 432x288 with 1 Axes>"
      ]
     },
     "metadata": {
      "needs_background": "light",
      "tags": []
     },
     "output_type": "display_data"
    }
   ],
   "source": [
    "plt.scatter(x, y)\n",
    "plt.xlabel('Precio (usd)')\n",
    "plt.ylabel('Puntaje')\n",
    "plt.title('Precio vs. puntaje en vinos')\n",
    "plt.xlim(0,1000)\n",
    "plt.show()"
   ]
  },
  {
   "cell_type": "markdown",
   "metadata": {
    "id": "7pJWpx1Odq92"
   },
   "source": [
    "**Para Pensar:** ¿Por qué crees que se forman esas líneas horizontales en el gráfico?"
   ]
  },
  {
   "cell_type": "markdown",
   "metadata": {
    "id": "hbvXGnjTdq92"
   },
   "source": [
    "**Ejercicio 3:** Selecciona solamente solamente los vinos realizados en Argentina, Italia y un país de su elección (recuerde usar máscaras) y realice nuevamente un scatter plot de precio vs puntaje para estos vinos. Distinga, utilizando una leyenda, la procedencia de cada vino. **Recomendaciones:** \n",
    "* Si no sabes bien por dónde empezar, empieza haciéndolo para un solo país y luego ve agregando al resto.\n",
    "* NO es necesario, pero puede ser útil utilizar un for-loop.\n",
    "* No te olvides de etiquetar los ejes y poner un título.\n",
    "* Si los puntos se ocultan entre sí, puede ser útil utilzar el argumento `alpha` en `plt.scatter`. También, cambiar el orden en que grafican cada país y el tamaño de la figura.\n",
    "* Hecho correctamente, el gráfico te puede indicar qué país tiene mejor relación calidad-precio en sus vinos.\n",
    "\n",
    "¡Experimenta hasta lograr un gráfico que te parezca interesante!"
   ]
  },
  {
   "cell_type": "code",
   "execution_count": null,
   "metadata": {
    "id": "U2o8qyQGdq93"
   },
   "outputs": [],
   "source": [
    "plt.figure(figsize = (10,6))\n",
    "for country in ['Italy', 'Spain', 'Argentina']:\n",
    "    country_wine_reviews = wine_reviews[wine_reviews['country']==country]\n",
    "    print(country_wine_reviews.shape)\n",
    "    x = country_wine_reviews.price.values\n",
    "    # Tomamos como coordenadas en y el puntaje de la review\n",
    "    y = country_wine_reviews.points.values\n",
    "    plt.scatter(x,y, label = country, alpha = 0.4)\n",
    "plt.legend()\n",
    "plt.xlabel('Precio (usd)')\n",
    "plt.ylabel('Puntaje')\n",
    "plt.title('Precio vs. puntaje en vinos')\n",
    "plt.xlim(0,500)\n",
    "plt.show()"
   ]
  },
  {
   "cell_type": "markdown",
   "metadata": {
    "id": "whMhugdbdq93"
   },
   "source": [
    "## Extras Uno\n",
    "\n",
    "A continuación, puedes ver cómo creamos los ejemplos para la bitácora. Prestar atención a que usamos la función `plt.subplot()`. ¿Qué te parece que hace? También, prestar atención a cómo modificar el tamaño de una figura."
   ]
  },
  {
   "cell_type": "code",
   "execution_count": null,
   "metadata": {
    "id": "5_Da2enXdq94"
   },
   "outputs": [],
   "source": [
    "import numpy as np\n",
    "import matplotlib.pyplot as plt"
   ]
  },
  {
   "cell_type": "code",
   "execution_count": null,
   "metadata": {
    "id": "84i9rXAndq95"
   },
   "outputs": [],
   "source": [
    "x = np.linspace(0,10,50)\n",
    "y = np.sin(x)"
   ]
  },
  {
   "cell_type": "code",
   "execution_count": null,
   "metadata": {
    "colab": {
     "base_uri": "https://localhost:8080/",
     "height": 293
    },
    "executionInfo": {
     "elapsed": 1095,
     "status": "ok",
     "timestamp": 1613778254836,
     "user": {
      "displayName": "mario puentes",
      "photoUrl": "",
      "userId": "06193586855972744289"
     },
     "user_tz": 300
    },
    "id": "Tq9Wjoy6dq96",
    "outputId": "967cce7c-aa12-412d-adf1-10b7e4da4731"
   },
   "outputs": [
    {
     "data": {
      "image/png": "[encoded data removed]",
      "text/plain": [
       "<Figure size 1382.4x345.6 with 3 Axes>"
      ]
     },
     "metadata": {
      "needs_background": "light",
      "tags": []
     },
     "output_type": "display_data"
    }
   ],
   "source": [
    "plt.figure(figsize = (6.4*3,4.8))\n",
    "plt.subplot(1,3,1)\n",
    "plt.scatter(x,y)\n",
    "\n",
    "plt.subplot(1,3,2)\n",
    "plt.plot(x,y)\n",
    "\n",
    "plt.subplot(1,3,3)\n",
    "plt.plot(x,y, 'o-')\n",
    "\n",
    "plt.tight_layout()\n",
    "# plt.savefig('DS_Bitacora_06_Ejemplos_puntos_y_lineas.png', dpi = 300)\n",
    "plt.show()"
   ]
  },
  {
   "cell_type": "code",
   "execution_count": null,
   "metadata": {
    "id": "kbUNRNYadq98"
   },
   "outputs": [],
   "source": [
    "x = np.linspace(0,10,200) + 0.15*np.random.randn(200)\n",
    "y = np.sin(x) + 0.15*np.random.randn(200)"
   ]
  },
  {
   "cell_type": "code",
   "execution_count": null,
   "metadata": {
    "id": "jW7ax7hadq99",
    "outputId": "accc18d1-4475-45ab-efd4-42ee5ae4cb03"
   },
   "outputs": [
    {
     "data": {
      "image/png": "[encoded data removed]",
      "text/plain": [
       "<Figure size 921.6x345.6 with 2 Axes>"
      ]
     },
     "metadata": {
      "needs_background": "light",
      "tags": []
     },
     "output_type": "display_data"
    }
   ],
   "source": [
    "plt.figure(figsize = (6.4*2,4.8))\n",
    "plt.subplot(1,2,1)\n",
    "plt.scatter(x ,y)\n",
    "\n",
    "plt.subplot(1,2,2)\n",
    "plt.plot(x,y)\n",
    "\n",
    "\n",
    "plt.tight_layout()\n",
    "# plt.savefig('DS_Bitacora_06_Ejemplos_puntos_y_lineas_malo.png', dpi = 300)\n",
    "plt.show()"
   ]
  },
  {
   "cell_type": "code",
   "execution_count": null,
   "metadata": {
    "id": "9vUxZ0u-dq9-"
   },
   "outputs": [],
   "source": [
    "muestras = np.random.normal(50,15, 5000)"
   ]
  },
  {
   "cell_type": "code",
   "execution_count": null,
   "metadata": {
    "colab": {
     "base_uri": "https://localhost:8080/",
     "height": 355
    },
    "executionInfo": {
     "elapsed": 926,
     "status": "ok",
     "timestamp": 1613778364651,
     "user": {
      "displayName": "mario puentes",
      "photoUrl": "",
      "userId": "06193586855972744289"
     },
     "user_tz": 300
    },
    "id": "ruLaosNudq9_",
    "outputId": "01f9449d-6519-4ad2-f2f0-86d5d9762092"
   },
   "outputs": [
    {
     "data": {
      "image/png": "[encoded data removed]",
      "text/plain": [
       "<Figure size 921.6x345.6 with 2 Axes>"
      ]
     },
     "metadata": {
      "needs_background": "light",
      "tags": []
     },
     "output_type": "display_data"
    }
   ],
   "source": [
    "plt.figure(figsize = (6.4*2,4.8))\n",
    "plt.subplot(1,2,1)\n",
    "plt.hist(muestras, bins = range(0,101,10), alpha = 0.75, edgecolor='black', linewidth=1.2)\n",
    "\n",
    "plt.subplot(1,2,2)\n",
    "plt.hist(muestras, bins = range(0,101,10), alpha = 0.75, edgecolor='black', linewidth=1.2, weights=np.ones_like(muestras)/len(muestras))\n",
    "\n",
    "plt.tight_layout()\n",
    "# plt.savefig('DS_Bitacora_06_Ejemplos_histograma.png', dpi = 300)\n",
    "plt.show()"
   ]
  },
  {
   "cell_type": "code",
   "execution_count": null,
   "metadata": {
    "colab": {
     "base_uri": "https://localhost:8080/",
     "height": 293
    },
    "executionInfo": {
     "elapsed": 1361,
     "status": "ok",
     "timestamp": 1613778372066,
     "user": {
      "displayName": "mario puentes",
      "photoUrl": "",
      "userId": "06193586855972744289"
     },
     "user_tz": 300
    },
    "id": "8at52pjTdq-B",
    "outputId": "9645fa97-e095-469b-eaa5-3234d9929814"
   },
   "outputs": [
    {
     "data": {
      "image/png": "[encoded data removed]",
      "text/plain": [
       "<Figure size 1382.4x345.6 with 3 Axes>"
      ]
     },
     "metadata": {
      "needs_background": "light",
      "tags": []
     },
     "output_type": "display_data"
    }
   ],
   "source": [
    "muestras = np.random.normal(50,15, 200)\n",
    "\n",
    "plt.figure(figsize = (6.4*3,4.8))\n",
    "plt.subplot(1,3,1)\n",
    "plt.hist(muestras, bins = np.linspace(0,100,6), alpha = 0.75, edgecolor='black', linewidth=1.2)\n",
    "\n",
    "plt.subplot(1,3,2)\n",
    "plt.hist(muestras, bins = np.linspace(0,100,21), alpha = 0.75, edgecolor='black', linewidth=1.2)\n",
    "\n",
    "plt.subplot(1,3,3)\n",
    "plt.hist(muestras, bins = np.linspace(0,100,101), alpha = 0.75, edgecolor='black', linewidth=1.2)\n",
    "\n",
    "plt.tight_layout()\n",
    "# plt.savefig('DS_Bitacora_06_Ejemplos_histograma_muchos_bines.png', dpi = 300)\n",
    "plt.show()"
   ]
  },
  {
   "cell_type": "markdown",
   "metadata": {
    "id": "BCg8JM5idq-C"
   },
   "source": [
    "## Extras Dos \n",
    "\n",
    "Veamos cómo hacer algunos gráficos usando los elementos `fig` y `ax`. ¡Notar que algunas instrucciones son muy parecidas!"
   ]
  },
  {
   "cell_type": "code",
   "execution_count": null,
   "metadata": {
    "colab": {
     "base_uri": "https://localhost:8080/",
     "height": 283
    },
    "executionInfo": {
     "elapsed": 634,
     "status": "ok",
     "timestamp": 1613778378916,
     "user": {
      "displayName": "mario puentes",
      "photoUrl": "",
      "userId": "06193586855972744289"
     },
     "user_tz": 300
    },
    "id": "kHb0Zegbdq-D",
    "outputId": "d59072af-5fd4-4f37-cd39-6b076593b678"
   },
   "outputs": [
    {
     "data": {
      "text/plain": [
       "[<matplotlib.lines.Line2D at 0x7ff9f897f710>]"
      ]
     },
     "execution_count": 37,
     "metadata": {
      "tags": []
     },
     "output_type": "execute_result"
    },
    {
     "data": {
      "image/png": "[encoded data removed]",
      "text/plain": [
       "<Figure size 432x288 with 1 Axes>"
      ]
     },
     "metadata": {
      "needs_background": "light",
      "tags": []
     },
     "output_type": "display_data"
    }
   ],
   "source": [
    "# Generamos las dos curvas\n",
    "x = np.arange(0.0, 2.0, 0.01)\n",
    "y = 1 + np.sin(2 * np.pi * x)\n",
    "\n",
    "x2 = np.arange(0.0, 2.0, 0.01)\n",
    "y2 = x2\n",
    "\n",
    "# Generamos la figura y los ejes\n",
    "fig = plt.figure()\n",
    "ax = plt.axes()\n",
    "\n",
    "# Ploteamos las dos lineas\n",
    "ax.plot(x, y)\n",
    "ax.plot(x2,y2)"
   ]
  },
  {
   "cell_type": "code",
   "execution_count": null,
   "metadata": {
    "colab": {
     "base_uri": "https://localhost:8080/",
     "height": 295
    },
    "executionInfo": {
     "elapsed": 816,
     "status": "ok",
     "timestamp": 1613778379120,
     "user": {
      "displayName": "mario puentes",
      "photoUrl": "",
      "userId": "06193586855972744289"
     },
     "user_tz": 300
    },
    "id": "ewtkUWPCdq-D",
    "outputId": "78255f6b-929e-4a71-8ae7-30bbcb1dcc5f"
   },
   "outputs": [
    {
     "data": {
      "image/png": "[encoded data removed]",
      "text/plain": [
       "<Figure size 432x288 with 1 Axes>"
      ]
     },
     "metadata": {
      "needs_background": "light",
      "tags": []
     },
     "output_type": "display_data"
    }
   ],
   "source": [
    "fig = plt.figure()\n",
    "ax = plt.axes()\n",
    "\n",
    "ax.plot(x, y, color = 'k', linewidth = 2, linestyle = '-')\n",
    "\n",
    "# Podemos agregarle etiquetas a los ejes y un titulo al gráfico\n",
    "ax.set(xlabel='Tiempo (s)', ylabel='Temperatura (°C)',\n",
    "       title='Valor de temperatura')\n",
    "\n",
    "# Podemos también modificar los márgenes del gráfico\n",
    "ax.set(xlim = (0,1), ylim = (0,4))\n",
    "\n",
    "# Este comando enciende la grilla de referencia \n",
    "ax.grid()\n",
    "\n",
    "# Con este comando pueden guardar la imagen en su pc\n",
    "#fig.savefig(\"test.png\")"
   ]
  }
 ],
 "metadata": {
  "colab": {
   "name": "DS_Bitácora_06_Matplotlib_RESUELTO.ipynb",
   "provenance": []
  },
  "kernelspec": {
   "display_name": "Python 3",
   "language": "python",
   "name": "python3"
  },
  "language_info": {
   "codemirror_mode": {
    "name": "ipython",
    "version": 3
   },
   "file_extension": ".py",
   "mimetype": "text/x-python",
   "name": "python",
   "nbconvert_exporter": "python",
   "pygments_lexer": "ipython3",
   "version": "3.8.5"
  }
 },
 "nbformat": 4,
 "nbformat_minor": 1
}
