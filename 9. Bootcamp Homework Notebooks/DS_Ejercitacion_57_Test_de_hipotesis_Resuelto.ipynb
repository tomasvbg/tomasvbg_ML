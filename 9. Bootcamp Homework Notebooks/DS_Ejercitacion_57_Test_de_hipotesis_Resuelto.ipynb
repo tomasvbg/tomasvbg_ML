{
 "cells": [
  {
   "cell_type": "markdown",
   "metadata": {
    "id": "rb1ZZeI-7GJt"
   },
   "source": [
    "# Test de Hipótesis\n",
    "\n",
    "Vamos a comenzar simulando el test que te contamos en el Toolbox. Recordemos de qué se trata:\n",
    "\n",
    "A raíz de una discusión entre mentores, en la cual un grupo afirmaba que los y las estudiantes de ciencia de datos tienen un IQ -una medida que pretende medir la inteligencia lógica- más alto que la media poblacional, el equipo pedagógico de Acamica decidió hacer un experimento con una muestra randomizada para testear esta hipótesis. Estos fueron los resultados:\n",
    "\n",
    "**Muestra de estudiantes de ciencia de datos**\n",
    "* IQ promedio: 105\n",
    "* Cantidad de muestras: 16\n",
    "\n",
    "**Datos de la población total (estos datos vienen dados)**\n",
    "* IQ promedio: 100\n",
    "* Desviación estándar: 15\n",
    "\n",
    "Además, se sabe que la distribución de IQ es Normal o Gaussian.\n",
    "\n",
    "El enfoque que seguiremos a continuación es parecido al de la bitácora, pero al principio puede parecer distinto. Pero vamos a ir despacio, y esperemos que al final los conceptos más difíciles hayan quedado claros. \n",
    "\n",
    "Lo primero que debemos establecer son cuáles son nuestras hipótesis:\n",
    "\n",
    "* **H0:** Las personas que estudian ciencia de datos en Acamica NO cuentan con un IQ medio más alto que la media poblacional.\n",
    "* **H1:** Las personas que estudian ciencia de datos en Acamica tienen un IQ más alto que la media poblacional.\n",
    "\n",
    "Notar que - en este caso - los datos de la población vienen dados y son conocidos: distribución normal, media 100 y desviación estándar de 15. ¿Cómo usarías esos datos para comparar con la muestra obtenida en ciencia de datos?\n",
    "\n",
    "Acá es donde entra el poder de la computadora: podemos **simular**. Podemos generar muestras de 16 elementos de una distribución normal con media 100 y desviación estándar de 15 y ver cuál es su promedio. Pero no lo hacemos una vez, sino varias, para ver la variabilidad esperada. Comencemos por eso (si te suena parecido a lo que hicimos en el encuentro anterior, es porque es exactamente lo mismo). \n",
    "\n",
    "**Muy importante:** notar que al hacer esto estamos trabajando **asumiendo que la hipótesis nula es cierta**. \n"
   ]
  },
  {
   "cell_type": "code",
   "execution_count": 13,
   "metadata": {
    "id": "jyFgQfei7GJ2"
   },
   "outputs": [],
   "source": [
    "import numpy as np\n",
    "import matplotlib.pyplot as plt\n",
    "import pandas as pd"
   ]
  },
  {
   "cell_type": "code",
   "execution_count": 37,
   "metadata": {
    "id": "JZ6FUFni7GJ4"
   },
   "outputs": [],
   "source": [
    "mu_observado = 105\n",
    "n = 16 # numero de muestras\n",
    "mu_poblacion = 100 # Media de la poblacion\n",
    "sd_poblacion = 15 # DS de la poblacion\n",
    "N = 1000000 # cantidad de veces que tomaremos una muestra\n"
   ]
  },
  {
   "cell_type": "code",
   "execution_count": 22,
   "metadata": {
    "id": "QUqKJAzn7GJ4"
   },
   "outputs": [],
   "source": [
    "medias = np.zeros(N)\n",
    "for i in range(N):\n",
    "    muestras = np.random.normal(loc = mu_poblacion, scale = sd_poblacion, size = n)\n",
    "    medias[i] = muestras.mean()"
   ]
  },
  {
   "cell_type": "code",
   "execution_count": 23,
   "metadata": {
    "colab": {
     "base_uri": "https://localhost:8080/",
     "height": 265
    },
    "id": "bzza_Fdw7GJ4",
    "outputId": "1a6902be-6c44-4f75-c8e8-5ba8a2ecc9b6"
   },
   "outputs": [
    {
     "data": {
      "image/png": "[encoded data removed]",
      "text/plain": [
       "<Figure size 432x288 with 1 Axes>"
      ]
     },
     "metadata": {
      "needs_background": "light"
     },
     "output_type": "display_data"
    }
   ],
   "source": [
    "plt.hist(medias)\n",
    "plt.axvline(mu_poblacion, c = 'r', ls = '--', label = 'Media Población')\n",
    "plt.axvline(mu_observado, c = 'g', ls = '--', label = 'Media Data Science')\n",
    "plt.legend()\n",
    "plt.show()"
   ]
  },
  {
   "cell_type": "markdown",
   "metadata": {
    "id": "rO-743lJ7GJ6"
   },
   "source": [
    "Paremos un poquito para mirar este gráfico, que en realidad contiene toda la información que necesitamos para hacer el test. Primero, repasemos exactamente qué es lo que contiene el histograma: contiene los valores medios obtenidos al muestrear `N` (por default, 100000) veces una población normal de media 100 y desviación estándar 15, utilizando un tamaño de muestra de 16. \n",
    "\n",
    "Te recomendamos que leas esta frase tantas veces como sea necesario para estar seguro que estás de acuerdo con ella.\n",
    "\n",
    "Ahora, mirando el gráfico, ¿te parece que el valor medio observado está dentro de lo esperado? Si bien está \"a la derecha\" del histograma, parece estar dentro de lo esperado. \n",
    "\n",
    "Ahora, tratemos de cuantificar cuán \"esperado\" es este valor. Una de las formas de hacerlo es la siguiente forma: contemos cuántos eventos iguales o más extremos que el valor observado hay. Si son \"muchos\", es porque nuestro valor observado no era tan extremo. Eso es, precisamente, el p-valor."
   ]
  },
  {
   "cell_type": "code",
   "execution_count": 34,
   "metadata": {
    "colab": {
     "base_uri": "https://localhost:8080/"
    },
    "id": "pdsvoeT-7GJ7",
    "outputId": "d8cf1ed4-5034-4486-d624-471503bc0e1f"
   },
   "outputs": [
    {
     "name": "stdout",
     "output_type": "stream",
     "text": [
      "Hay 8286 valores medios iguales o mayores al observado\n"
     ]
    }
   ],
   "source": [
    "eventos_mas_extremos = medias[medias >= mu_observado]\n",
    "print(f'Hay {eventos_mas_extremos.size} valores medios iguales o mayores al observado')"
   ]
  },
  {
   "cell_type": "markdown",
   "metadata": {
    "id": "OlrrUTBf7GJ7"
   },
   "source": [
    "¿Es mucho o poco? En primer lugar, deberíamos tener en cuenta la cantidad de experimentos realizados. Eso es el p-valor."
   ]
  },
  {
   "cell_type": "code",
   "execution_count": 35,
   "metadata": {
    "colab": {
     "base_uri": "https://localhost:8080/"
    },
    "id": "ajajpALT7GJ7",
    "outputId": "41ff84c5-62a6-4dce-a6a6-73a73ba904d7"
   },
   "outputs": [
    {
     "name": "stdout",
     "output_type": "stream",
     "text": [
      "El p-valor es 0.008286\n"
     ]
    }
   ],
   "source": [
    "p_valor = eventos_mas_extremos.size/N\n",
    "print(f'El p-valor es {p_valor}')"
   ]
  },
  {
   "cell_type": "markdown",
   "metadata": {
    "id": "O_RFfS6Y7GJ8"
   },
   "source": [
    "Bien, pero eso sigue sin responder si es mucho o poco. Eso, en general, lo decide el científico, y es el valor de significancia $\\alpha$. Es común utilizar $\\alpha = 0.05$, por lo que en este caso NO podemos rechazar la hipótesis nula, es decir, los y las estudiantes de ciencias de datos no parecen tener un IQ por encima de la media poblacional.\n",
    "\n",
    "Notar que el tamaño de la muestra es lo único que aparece con respecto a la muestra original, los 16 estudiantes de ciencia de datos. Aparte de ese número, lo único que importa para este caso es el valor medio obtenido. Notar que no estamos utilizando las muestras. Esto **NO** es así para todos los test, sino solamente para éste que desarrollamos, donde el estadístico que utilizamos es el valor medio. ¿Es el único estadístico válido? Para nada. Podríamos haber utilizado también otros, como la desviación estándar, el máximo de la muestra o el mínimo, etc. Cada uno de ellos conlleva unas hipótesis distintas, y al usar el valor medio estamos asumiendo un conjunto de hipótesis particular.\n",
    "\n",
    "**Para pensar:** ¿te parece suficiente este test para rechazar o no la hipótesis nula?¿Qué cosas podrían estar \"engañando\" al test? (**Pista**: ¿qué ocurre si la muestra tuviera outliers?).\n",
    "\n",
    "**Ejercicio:** en este proceso, a partir del valor observado calculamos el p-valor y luego miramos si éste es menor o mayor al nivel de significancia $\\alpha$. Pero se podría hacer de otra forma: dado un nivel de significancia, estimar el valor umbral del IQ asociado a partir del cuál rechazamos o no la hipótesis nula. Implementa las líneas de código que calculen ese umbral. ¿Qué información se pierde?"
   ]
  },
  {
   "cell_type": "code",
   "execution_count": 32,
   "metadata": {
    "colab": {
     "base_uri": "https://localhost:8080/"
    },
    "id": "AUL7R66V7GJ8",
    "outputId": "ae26795a-a144-48b9-cb3c-20014b2bfbdc"
   },
   "outputs": [
    {
     "data": {
      "text/plain": [
       "108.72447735947867"
      ]
     },
     "execution_count": 32,
     "metadata": {},
     "output_type": "execute_result"
    }
   ],
   "source": [
    "# COMPLETAR\n",
    "# Buscamos IQ en la media que cae en el percentil que queremos\n",
    "np.percentile(medias,99)"
   ]
  },
  {
   "cell_type": "markdown",
   "metadata": {
    "id": "BExoT4ks7GJ9"
   },
   "source": [
    "Pero, ¿y el Z-score?¿Y todo lo que vimos en el toolbox?\n",
    "\n",
    "Esa es la forma analítica de llegar a los resultados que llegamos simulando. Lo bueno, es que es más preciso. Lo malo, es que en general hay muchas menos formas analíticas que computacionales. Por completitud, dejamos también la forma analítica. Trata de encontrar los puntos en común con la forma simulada, y notarás que es prácticamente el mismo procedimiento.\n",
    "\n",
    "En primer lugar, debemos calcular el valor $z = \\frac{\\overline{x} - \\mu}{\\frac{\\sigma}{\\sqrt{n}}}$ para nuestra muestra."
   ]
  },
  {
   "cell_type": "code",
   "execution_count": 38,
   "metadata": {
    "colab": {
     "base_uri": "https://localhost:8080/"
    },
    "id": "_gb-ZfmK7GJ9",
    "outputId": "af38935c-6761-4671-ad03-2785157a15c4"
   },
   "outputs": [
    {
     "name": "stdout",
     "output_type": "stream",
     "text": [
      "1.3333333333333333\n"
     ]
    }
   ],
   "source": [
    "z = (mu_observado - mu_poblacion)/(sd_poblacion/np.sqrt(n))\n",
    "print(z)"
   ]
  },
  {
   "cell_type": "markdown",
   "metadata": {
    "id": "atp8RBnM7GJ_"
   },
   "source": [
    "Esto quiere decir, simplemente, que el valor observado está a 1.333 desviaciones estándar del valor medio de la población (¡Ojo!¿Medido en cuál desviación estándar: de la población o del valor medio para ese tamaño de muestra?).\n",
    "\n",
    "Ahora, es el procedimiento es el mismo que antes. Tenemos que ver si este valor es suficiente o no para rechazar la hipótesis nula. Entonces, debemos calcular el p-valor. Para ello, vamos a la tabla. La tabla nos da las probabilidades acumuladas (a la izquierda) hasta ese `z`. Para `z = 1.33`, ésta es 0.9082. Entonces, lo que queda \"a derecha\" es 1 - 0.9082 = 0.0918. ¡Éste es el p-valor! Y como es mayor que 0.05, no podemos rechazar la hipótesis nula. ¡Además, es prácticamente igual al que conseguimos simulando!\n",
    "\n",
    "Nuevamente, si queremos saber si rechazamos o no la hipótesis nula, pero sin saber el valor de p, es calcular el umbral de z a partir del cuál la rechazaríamos, que es lo que hacemos en el toolbox. En este caso, ese umbral daría aproxidamente 1.645.\n",
    "\n",
    "Todo esto puede - y suele - ser muy confuso. En particular, el mundo de test de hipótesis suele serlo. Pero la aproximación computacional suele ser más transparente e inmediata, por lo que es la que recomendamos cuando se pueda aplicar (lo cual no implica que si hay un test ya establecido para nuestro caso, no esté bueno usarlo)."
   ]
  },
  {
   "cell_type": "markdown",
   "metadata": {
    "id": "WaCGRrLqG0Lg"
   },
   "source": [
    "# Ejercitación\n",
    "\n",
    "Resuelve el problema planteado. Según los datos que cuentas, decide que test usar, implementalo y saca las conclusiones pertinentes.\n",
    "\n",
    "\n",
    "### Problema: \n",
    "\n",
    "  General Roca es una ciudad de la Patagonia argentina. Se han encontrado rastros de [metales pesados en sus ríos](https://www.lmcipolletti.com/alarmantes-niveles-materia-fecal-y-metales-pesados-el-rio-negro-n541498) y tú formas parte del comité científico interdiciplinario que va a determinar si hay contaminación. Para realizar el análisis, se recolectaron muestras de diferentes ríos de la ciudad y muestras de Bariloche, otra ciudad de Argentina que tiene condiciones similares a General Roca y se presume no tiene los ríos contaminados. Tu tarea como científico de datos es determinar si en Roca hay una mayor concentración de metales pesados que en Bariloche.\n",
    "\n",
    "Las muestras están medidas en mg por litro.\n",
    "\n",
    "### Datos de las muestras:\n",
    "\n",
    "muestras_roca = [0.4, 0.6, 0.7, 0.8, 0.3, 0.7, 0.5, 0.6, 0.4]\n",
    "\n",
    "muestras_bariloche = [0.3, 0.5, 0.5, 0.1, 0.8, 0.3, 0.4, 0.2, 0.5] \n",
    "\n"
   ]
  },
  {
   "cell_type": "markdown",
   "metadata": {
    "id": "Nvi4NtjQHuZ0"
   },
   "source": [
    "**Ayuda**: si hablas inglés [este](https://www.youtube.com/watch?v=pTmLQvMM-1M&ab_channel=BozemanScience) video te puede resultar de utilidad. En caso de que busques algo en español, puedes visitar [este](https://www.youtube.com/watch?v=4kZQ9eqLa_A&ab_channel=Tarefa) otro (ten en cuenta que estamos trabajando con dos muestras independientes y no tenemos datos de la población total).\n"
   ]
  },
  {
   "cell_type": "markdown",
   "metadata": {
    "id": "nZPTGTyYKH-P"
   },
   "source": [
    "1. Formulá la hipótesis alternativa y la hipótesis nula."
   ]
  },
  {
   "cell_type": "code",
   "execution_count": 39,
   "metadata": {
    "colab": {
     "base_uri": "https://localhost:8080/",
     "height": 316
    },
    "id": "NFPq80wC7GKA",
    "outputId": "fdfd0ff3-cf47-4084-ad02-019313427213"
   },
   "outputs": [
    {
     "data": {
      "text/plain": [
       "(array([1., 0., 2., 0., 1., 2., 0., 0., 2., 1.]),\n",
       " array([0.3 , 0.35, 0.4 , 0.45, 0.5 , 0.55, 0.6 , 0.65, 0.7 , 0.75, 0.8 ]),\n",
       " <BarContainer object of 10 artists>)"
      ]
     },
     "execution_count": 39,
     "metadata": {},
     "output_type": "execute_result"
    },
    {
     "data": {
      "image/png": "[encoded data removed]",
      "text/plain": [
       "<Figure size 432x288 with 2 Axes>"
      ]
     },
     "metadata": {
      "needs_background": "light"
     },
     "output_type": "display_data"
    }
   ],
   "source": [
    "#H0: no hay metales pesados en Gral. Roca\n",
    "#H1: may metales pesados en Gral. Roca\n",
    "import numpy as np\n",
    "import pylab as plt\n",
    "\n",
    "B=[0.3, 0.5, 0.5, 0.1, 0.8, 0.3, 0.4, 0.2, 0.5] #bariloche\n",
    "GR=[0.4, 0.6, 0.7, 0.8, 0.3, 0.7, 0.5, 0.6, 0.4] #gral roca\n",
    "\n",
    "plt.subplot(121)\n",
    "plt.hist(B)\n",
    "plt.subplot(122)\n",
    "plt.hist(GR)"
   ]
  },
  {
   "cell_type": "code",
   "execution_count": 40,
   "metadata": {
    "id": "wmvnc3oX5yao"
   },
   "outputs": [],
   "source": [
    "sB=np.std(B)\n",
    "mB=np.mean(B)\n",
    "\n",
    "sGR=np.std(GR)\n",
    "mGR=np.mean(GR)\n",
    "\n",
    "#podemos reformular hipotesis matematicamente\n",
    "#H0: mGR=mB\n",
    "#H1: mGR>mB"
   ]
  },
  {
   "cell_type": "code",
   "execution_count": 41,
   "metadata": {},
   "outputs": [
    {
     "data": {
      "text/plain": [
       "0.19436506316151003"
      ]
     },
     "execution_count": 41,
     "metadata": {},
     "output_type": "execute_result"
    }
   ],
   "source": [
    "sB"
   ]
  },
  {
   "cell_type": "code",
   "execution_count": 42,
   "metadata": {},
   "outputs": [
    {
     "data": {
      "text/plain": [
       "0.4"
      ]
     },
     "execution_count": 42,
     "metadata": {},
     "output_type": "execute_result"
    }
   ],
   "source": [
    "mB"
   ]
  },
  {
   "cell_type": "code",
   "execution_count": 43,
   "metadata": {},
   "outputs": [
    {
     "data": {
      "text/plain": [
       "0.5555555555555556"
      ]
     },
     "execution_count": 43,
     "metadata": {},
     "output_type": "execute_result"
    }
   ],
   "source": [
    "mGR"
   ]
  },
  {
   "cell_type": "markdown",
   "metadata": {
    "id": "opApy-8ZKMwE"
   },
   "source": [
    "  2. Establecé un nivel de significancia y realizá el test que mejor se adecúe al problema. \n",
    "  \n",
    "*Agrega todas las celdas que sean necesarias."
   ]
  },
  {
   "cell_type": "code",
   "execution_count": 44,
   "metadata": {
    "id": "W22rM4T-KL51"
   },
   "outputs": [],
   "source": [
    "alpha=0.05"
   ]
  },
  {
   "cell_type": "code",
   "execution_count": 46,
   "metadata": {
    "colab": {
     "base_uri": "https://localhost:8080/"
    },
    "id": "TKA6A-lDjokC",
    "outputId": "31e8272e-ef26-4388-acc8-aad9003fd46b"
   },
   "outputs": [
    {
     "data": {
      "text/plain": [
       "2.4009801919951235"
      ]
     },
     "execution_count": 46,
     "metadata": {},
     "output_type": "execute_result"
    }
   ],
   "source": [
    "#uso test z-score\n",
    "z = (mGR - mB)/(sB/np.sqrt(len(GR)))\n",
    "z"
   ]
  },
  {
   "cell_type": "code",
   "execution_count": null,
   "metadata": {},
   "outputs": [],
   "source": []
  },
  {
   "cell_type": "markdown",
   "metadata": {
    "id": "PJ2f25VclaX5"
   },
   "source": [
    "3. Saca tus propias conclusione\n",
    "\n",
    "Mirando la [tabla](http://www.z-table.com/how-to-use-z-score-table.html) del Z-score que aparece en el toolbox, se ve que el área bajo la curva es de 0.99. Eso da un p-valor de 0.01, es decir, hay un 1% de probabilidad de que H1 sea falsa. Como el nivel de significancia era de 0.05, podemos considerar que H1 es verdadera."
   ]
  },
  {
   "cell_type": "markdown",
   "metadata": {
    "id": "sFWgcsobjeB_"
   },
   "source": [
    "# **Bonus:**\n",
    "\n",
    "Una vez que hayas terminado el test, piensa cómo lo simularías con un abordaje similar al que realizamos al principio de la ejercitación. Si te animas, escribe el código."
   ]
  },
  {
   "cell_type": "code",
   "execution_count": 47,
   "metadata": {
    "id": "IgYoedU-7G41"
   },
   "outputs": [],
   "source": [
    "#implementamos metodo mostrado mas arriba\n",
    "mu_observado = mGR\n",
    "n = len(GR) # numero de muestras\n",
    "mu_poblacion = mB # Media de la poblacion\n",
    "sd_poblacion = sB # DS de la poblacion\n",
    "N = 1000000 # cantidad de veces que tomaremos una muestra"
   ]
  },
  {
   "cell_type": "code",
   "execution_count": 52,
   "metadata": {},
   "outputs": [
    {
     "data": {
      "text/plain": [
       "9"
      ]
     },
     "execution_count": 52,
     "metadata": {},
     "output_type": "execute_result"
    }
   ],
   "source": [
    "n"
   ]
  },
  {
   "cell_type": "code",
   "execution_count": 48,
   "metadata": {
    "id": "pDSGDKhG7eP8"
   },
   "outputs": [],
   "source": [
    "medias = np.zeros(N)\n",
    "for i in range(N):\n",
    "    muestras = np.random.normal(loc = mu_poblacion, scale = sd_poblacion, size = n)\n",
    "    medias[i] = muestras.mean()"
   ]
  },
  {
   "cell_type": "code",
   "execution_count": 49,
   "metadata": {
    "colab": {
     "base_uri": "https://localhost:8080/",
     "height": 265
    },
    "id": "J75xJt4a7jYu",
    "outputId": "6aef9f13-c559-469e-8c8a-004cb06b5493"
   },
   "outputs": [
    {
     "data": {
      "image/png": "[encoded data removed]",
      "text/plain": [
       "<Figure size 432x288 with 1 Axes>"
      ]
     },
     "metadata": {
      "needs_background": "light"
     },
     "output_type": "display_data"
    }
   ],
   "source": [
    "plt.hist(medias)\n",
    "plt.axvline(mu_poblacion, c = 'r', ls = '--', label = 'Media Bariloche')\n",
    "plt.axvline(mu_observado, c = 'g', ls = '--', label = 'Media Gral Roca')\n",
    "plt.legend()\n",
    "plt.show()"
   ]
  },
  {
   "cell_type": "code",
   "execution_count": 50,
   "metadata": {
    "colab": {
     "base_uri": "https://localhost:8080/"
    },
    "id": "J-UPMBhv71Qq",
    "outputId": "42dbaee8-babc-4430-e3ac-6ba53d7f98af"
   },
   "outputs": [
    {
     "name": "stdout",
     "output_type": "stream",
     "text": [
      "Hay 8086 valores medios iguales o mayores al observado\n"
     ]
    }
   ],
   "source": [
    "eventos_mas_extremos = medias[medias >= mu_observado]\n",
    "print(f'Hay {eventos_mas_extremos.size} valores medios iguales o mayores al observado')"
   ]
  },
  {
   "cell_type": "code",
   "execution_count": 51,
   "metadata": {
    "colab": {
     "base_uri": "https://localhost:8080/"
    },
    "id": "yS86ugcS7tFT",
    "outputId": "0d77181b-1775-441c-e507-50024d4fbb87"
   },
   "outputs": [
    {
     "name": "stdout",
     "output_type": "stream",
     "text": [
      "El p-valor es 0.008086\n"
     ]
    }
   ],
   "source": [
    "p_valor = eventos_mas_extremos.size/N\n",
    "print(f'El p-valor es {p_valor}')"
   ]
  },
  {
   "cell_type": "markdown",
   "metadata": {
    "id": "8cRIdP3z77QW"
   },
   "source": [
    "El p valor es menor a alpha, podemos dar por cierto H1, las meustras de Gral Roca contienen metales pesados"
   ]
  },
  {
   "cell_type": "code",
   "execution_count": null,
   "metadata": {
    "id": "1iZ9yJkTKQTL"
   },
   "outputs": [],
   "source": []
  },
  {
   "cell_type": "code",
   "execution_count": null,
   "metadata": {
    "id": "w7HbqF8LKafh"
   },
   "outputs": [],
   "source": []
  }
 ],
 "metadata": {
  "colab": {
   "name": " Ejercitación 57: Test de hipotesis_resuelto.ipynb",
   "provenance": []
  },
  "kernelspec": {
   "display_name": "Python 3",
   "language": "python",
   "name": "python3"
  },
  "language_info": {
   "codemirror_mode": {
    "name": "ipython",
    "version": 3
   },
   "file_extension": ".py",
   "mimetype": "text/x-python",
   "name": "python",
   "nbconvert_exporter": "python",
   "pygments_lexer": "ipython3",
   "version": "3.9.1"
  }
 },
 "nbformat": 4,
 "nbformat_minor": 1
}
