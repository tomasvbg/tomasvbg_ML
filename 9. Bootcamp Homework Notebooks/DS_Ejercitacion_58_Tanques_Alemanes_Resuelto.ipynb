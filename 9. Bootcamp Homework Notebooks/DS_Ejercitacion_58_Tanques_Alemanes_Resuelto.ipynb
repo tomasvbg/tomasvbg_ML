{
 "cells": [
  {
   "cell_type": "markdown",
   "metadata": {
    "id": "0TloehTxMuac"
   },
   "source": [
    "## Tanques alemanes\n",
    "\n",
    "¡Bienvenido/da! En esta oportunidad trabajaremos sobre uno de los clásicos de la estadística: el problema de los tanques alemanes. \n",
    "\n",
    "\n",
    "### Introducción\n",
    "\n",
    "El problema se da en 1941 durante la segunda guerra mundial. Los Aliados necesitaban calcular cuantos tanques tenían los alemanes para lo cual se desarrollaban complejos calculos con ese fin.\n",
    "\n",
    "Los calculos se basaban en 2 variables: la cantidad de tanques capturados y el máximo número de serie observado en esos tanques.\n",
    "\n",
    "Cuando terminó la guerra, salió a la luz el registro de los tanques fabricados mensualmente. En particular, se sabe que en junio de 1941 se fabricaron 271 tanques alemanes.\n",
    "\n",
    "Suponga que se quiere testear si había infiltrados alemanes entre los militares aliados que participaron de las batallas que tuvieron lugar durante julio de 1941 (asuma que en julio sólo se usaron los tanques fabricados en junio).\n",
    "\n",
    "\n",
    "### Problema 1\n",
    "\n",
    "1. Asumiendo que se capturan k=10 tanques y se fabricaron 271. ¿Cuál es el promedio del máximo esperado y su intervalo de confianza? Explicita qué intervalo utilizas (Desviación Estándar, 5-95 percentil, etc.). ¿Aclararías algo sobre este intervalo de confianza?\n",
    "\n",
    "1. Si en una batalla se capturaron k=10 tanques alemanes y un militar aliado informó que el mayor número de serie observado fue m=80. Diseñe un test simulado para la hipótesis de que se trataba de un infiltrado, es decir, que informó un número de serie menor al real para hacerle pensar a los aliados que los alemanes tenían menos tanques. Calcule el valor de p y saca tus conculciones.\n",
    "\n",
    "\n",
    "**Ayuda**: pueden resultarte de utilidad algunas lineas de código vistas en la ejercitación anterior.\n"
   ]
  },
  {
   "cell_type": "code",
   "execution_count": 1,
   "metadata": {
    "id": "M3nW_Jd1MsVu"
   },
   "outputs": [],
   "source": [
    "#Ho: el número que informó el soldado no es menor al real.\n",
    "#Ha: el número que informó el soldado es menor al real."
   ]
  },
  {
   "cell_type": "code",
   "execution_count": 2,
   "metadata": {
    "id": "OfrVHlQ2biTE"
   },
   "outputs": [],
   "source": [
    "import numpy as np\n",
    "import matplotlib.pyplot as plt\n",
    "import pandas as pd\n",
    "from scipy.special import comb"
   ]
  },
  {
   "cell_type": "code",
   "execution_count": 125,
   "metadata": {
    "id": "PYKvec5Zbt4q"
   },
   "outputs": [],
   "source": [
    "#1\n",
    "tanques_existentes = np.arange(1, 272)\n",
    "\n",
    "m_observado = 80\n",
    "k = 10 # numero de muestras\n",
    "#N = 1000000 # cantidad de veces que tomaremos una muestra\n",
    "N = int(2e6)"
   ]
  },
  {
   "cell_type": "code",
   "execution_count": 126,
   "metadata": {},
   "outputs": [],
   "source": [
    "#tanques_existentes += 1000"
   ]
  },
  {
   "cell_type": "code",
   "execution_count": 127,
   "metadata": {},
   "outputs": [
    {
     "data": {
      "text/plain": [
       "array([  1,   2,   3,   4,   5,   6,   7,   8,   9,  10,  11,  12,  13,\n",
       "        14,  15,  16,  17,  18,  19,  20,  21,  22,  23,  24,  25,  26,\n",
       "        27,  28,  29,  30,  31,  32,  33,  34,  35,  36,  37,  38,  39,\n",
       "        40,  41,  42,  43,  44,  45,  46,  47,  48,  49,  50,  51,  52,\n",
       "        53,  54,  55,  56,  57,  58,  59,  60,  61,  62,  63,  64,  65,\n",
       "        66,  67,  68,  69,  70,  71,  72,  73,  74,  75,  76,  77,  78,\n",
       "        79,  80,  81,  82,  83,  84,  85,  86,  87,  88,  89,  90,  91,\n",
       "        92,  93,  94,  95,  96,  97,  98,  99, 100, 101, 102, 103, 104,\n",
       "       105, 106, 107, 108, 109, 110, 111, 112, 113, 114, 115, 116, 117,\n",
       "       118, 119, 120, 121, 122, 123, 124, 125, 126, 127, 128, 129, 130,\n",
       "       131, 132, 133, 134, 135, 136, 137, 138, 139, 140, 141, 142, 143,\n",
       "       144, 145, 146, 147, 148, 149, 150, 151, 152, 153, 154, 155, 156,\n",
       "       157, 158, 159, 160, 161, 162, 163, 164, 165, 166, 167, 168, 169,\n",
       "       170, 171, 172, 173, 174, 175, 176, 177, 178, 179, 180, 181, 182,\n",
       "       183, 184, 185, 186, 187, 188, 189, 190, 191, 192, 193, 194, 195,\n",
       "       196, 197, 198, 199, 200, 201, 202, 203, 204, 205, 206, 207, 208,\n",
       "       209, 210, 211, 212, 213, 214, 215, 216, 217, 218, 219, 220, 221,\n",
       "       222, 223, 224, 225, 226, 227, 228, 229, 230, 231, 232, 233, 234,\n",
       "       235, 236, 237, 238, 239, 240, 241, 242, 243, 244, 245, 246, 247,\n",
       "       248, 249, 250, 251, 252, 253, 254, 255, 256, 257, 258, 259, 260,\n",
       "       261, 262, 263, 264, 265, 266, 267, 268, 269, 270, 271])"
      ]
     },
     "execution_count": 127,
     "metadata": {},
     "output_type": "execute_result"
    }
   ],
   "source": [
    "tanques_existentes"
   ]
  },
  {
   "cell_type": "code",
   "execution_count": 128,
   "metadata": {
    "id": "oOwN552icixQ"
   },
   "outputs": [],
   "source": [
    "maximos = np.zeros(N)\n",
    " #generamos muestras de 10 y calculamos el promedio de los maximos de esas muestras\n",
    "for i in range(N):\n",
    "    muestra = np.random.choice(tanques_existentes, k, replace=False)\n",
    "    maximos[i] = np.amax(muestra)"
   ]
  },
  {
   "cell_type": "code",
   "execution_count": 129,
   "metadata": {},
   "outputs": [],
   "source": [
    "elegidos = np.random.choice(tanques_existentes, k, replace=False)"
   ]
  },
  {
   "cell_type": "code",
   "execution_count": 130,
   "metadata": {},
   "outputs": [
    {
     "data": {
      "text/plain": [
       "array([ 13, 137, 226,  39,  96,  66, 122, 270,  88, 207])"
      ]
     },
     "execution_count": 130,
     "metadata": {},
     "output_type": "execute_result"
    }
   ],
   "source": [
    "elegidos"
   ]
  },
  {
   "cell_type": "code",
   "execution_count": 131,
   "metadata": {},
   "outputs": [
    {
     "data": {
      "text/plain": [
       "array([ 13,  39,  66,  88,  96, 122, 137, 207, 226, 270])"
      ]
     },
     "execution_count": 131,
     "metadata": {},
     "output_type": "execute_result"
    }
   ],
   "source": [
    "elegidos.sort()\n",
    "elegidos"
   ]
  },
  {
   "cell_type": "code",
   "execution_count": 132,
   "metadata": {},
   "outputs": [
    {
     "data": {
      "text/plain": [
       "array([231., 234., 238., ..., 271., 246., 204.])"
      ]
     },
     "execution_count": 132,
     "metadata": {},
     "output_type": "execute_result"
    }
   ],
   "source": [
    "maximos"
   ]
  },
  {
   "cell_type": "code",
   "execution_count": 133,
   "metadata": {},
   "outputs": [
    {
     "data": {
      "text/plain": [
       "68.0"
      ]
     },
     "execution_count": 133,
     "metadata": {},
     "output_type": "execute_result"
    }
   ],
   "source": [
    "np.amin(maximos)"
   ]
  },
  {
   "cell_type": "code",
   "execution_count": 134,
   "metadata": {},
   "outputs": [
    {
     "data": {
      "text/plain": [
       "271.0"
      ]
     },
     "execution_count": 134,
     "metadata": {},
     "output_type": "execute_result"
    }
   ],
   "source": [
    "np.amax(maximos)"
   ]
  },
  {
   "cell_type": "code",
   "execution_count": 135,
   "metadata": {
    "colab": {
     "base_uri": "https://localhost:8080/"
    },
    "id": "cG148JeDhUK1",
    "outputId": "a457be25-dac1-4c6a-efae-a605d0e1b5f3"
   },
   "outputs": [],
   "source": [
    "m_promedio = np.mean(maximos)"
   ]
  },
  {
   "cell_type": "code",
   "execution_count": 136,
   "metadata": {},
   "outputs": [
    {
     "data": {
      "text/plain": [
       "247.2849285"
      ]
     },
     "execution_count": 136,
     "metadata": {},
     "output_type": "execute_result"
    }
   ],
   "source": [
    "m_promedio"
   ]
  },
  {
   "cell_type": "code",
   "execution_count": 137,
   "metadata": {},
   "outputs": [],
   "source": [
    "desv = np.std(maximos)"
   ]
  },
  {
   "cell_type": "code",
   "execution_count": 138,
   "metadata": {},
   "outputs": [
    {
     "data": {
      "text/plain": [
       "22.113063972455013"
      ]
     },
     "execution_count": 138,
     "metadata": {},
     "output_type": "execute_result"
    }
   ],
   "source": [
    "desv"
   ]
  },
  {
   "cell_type": "code",
   "execution_count": 139,
   "metadata": {},
   "outputs": [
    {
     "data": {
      "text/plain": [
       "[225.17186452754498, 269.39799247245503]"
      ]
     },
     "execution_count": 139,
     "metadata": {},
     "output_type": "execute_result"
    }
   ],
   "source": [
    "[m_promedio - desv, m_promedio + desv]"
   ]
  },
  {
   "cell_type": "code",
   "execution_count": 140,
   "metadata": {
    "scrolled": true
   },
   "outputs": [
    {
     "name": "stdout",
     "output_type": "stream",
     "text": [
      "203.0 247.2849285 270.0\n"
     ]
    }
   ],
   "source": [
    "ic_min, ic_max = np.percentile(maximos, [5,95])\n",
    "\n",
    "print(ic_min, m_promedio, ic_max)"
   ]
  },
  {
   "cell_type": "code",
   "execution_count": 141,
   "metadata": {},
   "outputs": [
    {
     "data": {
      "text/plain": [
       "1120353"
      ]
     },
     "execution_count": 141,
     "metadata": {},
     "output_type": "execute_result"
    }
   ],
   "source": [
    "maximos[maximos > 250].size"
   ]
  },
  {
   "cell_type": "code",
   "execution_count": 142,
   "metadata": {
    "colab": {
     "base_uri": "https://localhost:8080/",
     "height": 265
    },
    "id": "pDOQwrIRdLCG",
    "outputId": "301b7bea-2f76-438c-acfc-f5f1a59bff90"
   },
   "outputs": [
    {
     "data": {
      "image/png": "[encoded data removed]",
      "text/plain": [
       "<Figure size 432x288 with 1 Axes>"
      ]
     },
     "metadata": {
      "needs_background": "light"
     },
     "output_type": "display_data"
    }
   ],
   "source": [
    "#2\n",
    "plt.hist(maximos, bins = 100)\n",
    "plt.axvline(m_promedio, c = 'r', ls = '--', label = 'Promedio máximo observado')\n",
    "plt.axvline(m_observado, c = 'g', ls = '--', label = 'Observación del soldado')\n",
    "plt.legend()\n",
    "plt.show()"
   ]
  },
  {
   "cell_type": "code",
   "execution_count": 143,
   "metadata": {
    "colab": {
     "base_uri": "https://localhost:8080/"
    },
    "id": "4Zo2yC9NfqcR",
    "outputId": "74f7561d-5635-4f2f-c9cb-7bdcfd54d082"
   },
   "outputs": [
    {
     "name": "stdout",
     "output_type": "stream",
     "text": [
      "Hay 5 valores máximos iguales o menores al observado\n"
     ]
    }
   ],
   "source": [
    "eventos_menos_extremos = maximos[maximos <= m_observado]\n",
    "print(f'Hay {eventos_menos_extremos.size} valores máximos iguales o menores al observado')"
   ]
  },
  {
   "cell_type": "code",
   "execution_count": 144,
   "metadata": {},
   "outputs": [
    {
     "data": {
      "text/plain": [
       "2000000"
      ]
     },
     "execution_count": 144,
     "metadata": {},
     "output_type": "execute_result"
    }
   ],
   "source": [
    "maximos.size"
   ]
  },
  {
   "cell_type": "code",
   "execution_count": 145,
   "metadata": {},
   "outputs": [
    {
     "data": {
      "text/plain": [
       "5"
      ]
     },
     "execution_count": 145,
     "metadata": {},
     "output_type": "execute_result"
    }
   ],
   "source": [
    "maximos[maximos <= m_observado].size"
   ]
  },
  {
   "cell_type": "code",
   "execution_count": 146,
   "metadata": {
    "colab": {
     "base_uri": "https://localhost:8080/"
    },
    "id": "K8Lhq_v3f4lj",
    "outputId": "d517fd08-9664-4b78-fd4e-ec2bc385817a"
   },
   "outputs": [
    {
     "name": "stdout",
     "output_type": "stream",
     "text": [
      "El p-valor es 2.5e-06\n"
     ]
    }
   ],
   "source": [
    "p_valor = eventos_menos_extremos.size/N\n",
    "print(f'El p-valor es {p_valor}')"
   ]
  },
  {
   "cell_type": "code",
   "execution_count": 13,
   "metadata": {
    "id": "bI6BCOegt5Z8"
   },
   "outputs": [
    {
     "data": {
      "text/plain": [
       "array([254., 261., 262., ..., 269., 199., 263.])"
      ]
     },
     "execution_count": 13,
     "metadata": {},
     "output_type": "execute_result"
    }
   ],
   "source": [
    "maximos"
   ]
  },
  {
   "cell_type": "markdown",
   "metadata": {
    "id": "c-0DVmiu1rfO"
   },
   "source": [
    "2. La hipótesis asumida es que los tanques observados en el frente de batalla en el cual participó el militar son representativos de la muestra 1-271 y tienen una distribución uniforme . ¿Si hubiese dos frentes, y se hubieran repartido mitad y mitad? Entonces, los tanques que participan en la batalla en cuestión son los que están numerados del 1 al 136. ¿Cómo modifica esto el escenario?"
   ]
  },
  {
   "cell_type": "code",
   "execution_count": 147,
   "metadata": {
    "id": "VxFks6x414R8"
   },
   "outputs": [],
   "source": [
    "#hay que modificar el tamaño de la muestras, hagamos remuestreo"
   ]
  },
  {
   "cell_type": "code",
   "execution_count": 148,
   "metadata": {
    "id": "W5A_xEOC14hE"
   },
   "outputs": [],
   "source": [
    "tanques_existentes = np.arange(1, 136)"
   ]
  },
  {
   "cell_type": "code",
   "execution_count": 149,
   "metadata": {
    "id": "GrK5gO_KQtWY"
   },
   "outputs": [],
   "source": [
    "#k,N son los mismos de antes\n",
    "\n",
    "maximos_nuevo = np.zeros(N)\n",
    " #generamos muestras de 10 y calculamos el promedio de los maximos de esas muestras\n",
    "for i in range(N):\n",
    "    muestra = np.random.choice(tanques_existentes, k, replace=False)\n",
    "    maximos_nuevo[i] = np.amax(muestra)"
   ]
  },
  {
   "cell_type": "code",
   "execution_count": 150,
   "metadata": {
    "colab": {
     "base_uri": "https://localhost:8080/"
    },
    "id": "qKHA7wuPQ2Kb",
    "outputId": "aa336312-1fd8-42ba-a510-cd5ab99066f8"
   },
   "outputs": [
    {
     "data": {
      "text/plain": [
       "123.6292545"
      ]
     },
     "execution_count": 150,
     "metadata": {},
     "output_type": "execute_result"
    }
   ],
   "source": [
    "np.mean(maximos_nuevo)"
   ]
  },
  {
   "cell_type": "code",
   "execution_count": 151,
   "metadata": {
    "colab": {
     "base_uri": "https://localhost:8080/",
     "height": 265
    },
    "id": "rzeU5_DfQ_MY",
    "outputId": "0dcc2651-3e49-409f-9999-0aea73ae2bb4"
   },
   "outputs": [
    {
     "data": {
      "image/png": "[encoded data removed]",
      "text/plain": [
       "<Figure size 432x288 with 1 Axes>"
      ]
     },
     "metadata": {
      "needs_background": "light"
     },
     "output_type": "display_data"
    }
   ],
   "source": [
    "plt.hist(maximos_nuevo, bins = 100)\n",
    "plt.axvline(np.mean(maximos_nuevo), c = 'r', ls = '--', label = 'Promedio máximo observado')\n",
    "plt.axvline(m_observado, c = 'g', ls = '--', label = 'Observación del soldado')\n",
    "plt.legend()\n",
    "plt.show()"
   ]
  },
  {
   "cell_type": "code",
   "execution_count": 152,
   "metadata": {
    "colab": {
     "base_uri": "https://localhost:8080/"
    },
    "id": "6nXQQFuhROUr",
    "outputId": "9b7fc810-b5d5-4f35-b99c-303817a65461"
   },
   "outputs": [
    {
     "name": "stdout",
     "output_type": "stream",
     "text": [
      "Hay 8302 valores máximos iguales o menores al observado\n"
     ]
    }
   ],
   "source": [
    "eventos_menos_extremos = maximos_nuevo[maximos_nuevo <= m_observado]\n",
    "print(f'Hay {eventos_menos_extremos.size} valores máximos iguales o menores al observado')"
   ]
  },
  {
   "cell_type": "code",
   "execution_count": 153,
   "metadata": {
    "colab": {
     "base_uri": "https://localhost:8080/"
    },
    "id": "4l7f-PWMRVJ3",
    "outputId": "1d7205a9-249a-43d6-807c-c81af0ca8c46"
   },
   "outputs": [
    {
     "name": "stdout",
     "output_type": "stream",
     "text": [
      "El p-valor es 0.004151\n"
     ]
    }
   ],
   "source": [
    "p_valor = eventos_menos_extremos.size/N\n",
    "print(f'El p-valor es {p_valor}')"
   ]
  },
  {
   "cell_type": "markdown",
   "metadata": {
    "id": "oGqkMcQ34DJJ"
   },
   "source": [
    "## Problema 2\n",
    "\n",
    "Avanzado el juicio, se supieron otros informes de soldados que participaron en la misma batalla. Diseñe un nuevo test que, dada esta nueva información, calcule la probabildiad de que el soldado haya dicho la verdad.\n",
    "\n",
    "**Comentario**: no hay una única forma de diseñar el test. Intenta usar algún estadístico como promedio, máximo, varianza o mínimo -o una conjunción de varios-.\n",
    "\n",
    "**Valores informados**:\n",
    "\n",
    "Soldado_1 = [2, 40, 5, 89, 93]\n",
    "\n",
    "Soldado_2 = [98, 3, 64, 40, 23]\n",
    "\n",
    "Soldado_3 = [6, 9, 24, 62, 54]\n",
    "\n",
    "Soldado_4 = [14, 52, 4, 505, 3]\n",
    "\n",
    "Soldado_5 = [23, 59, 30, 12, 24]"
   ]
  },
  {
   "cell_type": "code",
   "execution_count": 22,
   "metadata": {
    "id": "Qa36wUDo3vCe"
   },
   "outputs": [],
   "source": [
    "import scipy as sc#libreria para hacer combinatorias"
   ]
  },
  {
   "cell_type": "code",
   "execution_count": 23,
   "metadata": {
    "id": "gu-hYotb4CdL"
   },
   "outputs": [],
   "source": [
    "#generamos test que devuelva la probabilidad teórica P de que el soldado haya dicho la verdad en función de lo que reportó\n",
    "\n",
    "def calcula_proba(s): #s son las observaciones del soldado\n",
    "    n=271\n",
    "    k=len(s) #tanques observados\n",
    "    m=max(s)\n",
    "\n",
    "    P= (k-1)/k*sc.special.comb(m-1,k-1)/sc.special.comb(m,k) #tenemos todos los datos, no es necesario usar Bayes\n",
    "\n",
    "    return P"
   ]
  },
  {
   "cell_type": "code",
   "execution_count": 207,
   "metadata": {},
   "outputs": [],
   "source": [
    "def estimar_maximo(listado):\n",
    "    array = np.array(listado)\n",
    "    array.sort()\n",
    "    return np.amax(array) + np.mean((array - np.roll(array,1))[1:])"
   ]
  },
  {
   "cell_type": "code",
   "execution_count": 208,
   "metadata": {},
   "outputs": [],
   "source": [
    "Soldado_1 = [2, 40, 5, 89, 93]\n",
    "\n",
    "Soldado_2 = [98, 3, 64, 40, 23]\n",
    "\n",
    "Soldado_3 = [6, 9, 24, 62, 54]\n",
    "\n",
    "Soldado_4 = [14, 52, 4, 505, 3]\n",
    "\n",
    "Soldado_5 = [23, 59, 30, 12, 24]"
   ]
  },
  {
   "cell_type": "code",
   "execution_count": 213,
   "metadata": {},
   "outputs": [
    {
     "data": {
      "text/plain": [
       "70.75"
      ]
     },
     "execution_count": 213,
     "metadata": {},
     "output_type": "execute_result"
    }
   ],
   "source": [
    "estimar_maximo(Soldado_5)"
   ]
  },
  {
   "cell_type": "code",
   "execution_count": null,
   "metadata": {},
   "outputs": [],
   "source": [
    "np.linspace()\n",
    "np.logspace()"
   ]
  },
  {
   "cell_type": "code",
   "execution_count": 190,
   "metadata": {},
   "outputs": [],
   "source": [
    "s1 = np.array(Soldado_1)\n",
    "s1.sort()"
   ]
  },
  {
   "cell_type": "code",
   "execution_count": 191,
   "metadata": {},
   "outputs": [
    {
     "data": {
      "text/plain": [
       "array([ 2,  5, 40, 89, 93])"
      ]
     },
     "execution_count": 191,
     "metadata": {},
     "output_type": "execute_result"
    }
   ],
   "source": [
    "s1"
   ]
  },
  {
   "cell_type": "code",
   "execution_count": 192,
   "metadata": {},
   "outputs": [],
   "source": [
    "distancias = s1 - np.roll(s1,1)"
   ]
  },
  {
   "cell_type": "code",
   "execution_count": 199,
   "metadata": {},
   "outputs": [
    {
     "data": {
      "text/plain": [
       "array([ 3, 35, 49,  4])"
      ]
     },
     "execution_count": 199,
     "metadata": {},
     "output_type": "execute_result"
    }
   ],
   "source": [
    "(s1 - np.roll(s1,1))[1:]"
   ]
  },
  {
   "cell_type": "code",
   "execution_count": 196,
   "metadata": {},
   "outputs": [
    {
     "data": {
      "text/plain": [
       "array([93,  2,  5, 40, 89])"
      ]
     },
     "execution_count": 196,
     "metadata": {},
     "output_type": "execute_result"
    }
   ],
   "source": [
    "np.roll(s1,1)"
   ]
  },
  {
   "cell_type": "code",
   "execution_count": 200,
   "metadata": {
    "id": "ypLFUDd_q4jy"
   },
   "outputs": [
    {
     "data": {
      "text/plain": [
       "22.75"
      ]
     },
     "execution_count": 200,
     "metadata": {},
     "output_type": "execute_result"
    }
   ],
   "source": [
    "np.mean((s1 - np.roll(s1,1))[1:])"
   ]
  },
  {
   "cell_type": "code",
   "execution_count": 157,
   "metadata": {
    "colab": {
     "base_uri": "https://localhost:8080/"
    },
    "id": "lAq3de_iq-_Q",
    "outputId": "b50fad05-7916-402c-ded2-e0bb776a80e2"
   },
   "outputs": [
    {
     "name": "stdout",
     "output_type": "stream",
     "text": [
      "calcula_proba(Soldado_1)=0.043010752688172046\n",
      "calcula_proba(Soldado_2)=0.04081632653061224\n",
      "calcula_proba(Soldado_3)=0.06451612903225806\n",
      "calcula_proba(Soldado_4)=0.007920792079207921\n",
      "calcula_proba(Soldado_5)=0.06779661016949153\n"
     ]
    }
   ],
   "source": [
    "print(f\"{calcula_proba(Soldado_1)=}\")\n",
    "print(f\"{calcula_proba(Soldado_2)=}\")\n",
    "print(f\"{calcula_proba(Soldado_3)=}\")\n",
    "print(f\"{calcula_proba(Soldado_4)=}\")\n",
    "print(f\"{calcula_proba(Soldado_5)=}\")"
   ]
  },
  {
   "cell_type": "code",
   "execution_count": 158,
   "metadata": {
    "id": "xHKVKZnsrmbD"
   },
   "outputs": [
    {
     "name": "stdout",
     "output_type": "stream",
     "text": [
      "holas\n"
     ]
    }
   ],
   "source": [
    "print('holas')"
   ]
  },
  {
   "cell_type": "code",
   "execution_count": 159,
   "metadata": {},
   "outputs": [],
   "source": [
    "variable = 10"
   ]
  },
  {
   "cell_type": "code",
   "execution_count": 160,
   "metadata": {},
   "outputs": [
    {
     "name": "stdout",
     "output_type": "stream",
     "text": [
      "10\n"
     ]
    }
   ],
   "source": [
    "print(variable)"
   ]
  },
  {
   "cell_type": "code",
   "execution_count": 171,
   "metadata": {},
   "outputs": [],
   "source": [
    "texto = f\"hola! esta es la variable: {variable=}\""
   ]
  },
  {
   "cell_type": "code",
   "execution_count": 170,
   "metadata": {},
   "outputs": [
    {
     "data": {
      "text/plain": [
       "'hola! esta es la variable: 10'"
      ]
     },
     "execution_count": 170,
     "metadata": {},
     "output_type": "execute_result"
    }
   ],
   "source": [
    "texto"
   ]
  },
  {
   "cell_type": "code",
   "execution_count": 172,
   "metadata": {},
   "outputs": [
    {
     "data": {
      "text/plain": [
       "'hola! esta es la variable: variable=10'"
      ]
     },
     "execution_count": 172,
     "metadata": {},
     "output_type": "execute_result"
    }
   ],
   "source": [
    "texto"
   ]
  },
  {
   "cell_type": "code",
   "execution_count": 166,
   "metadata": {},
   "outputs": [
    {
     "data": {
      "text/plain": [
       "'hola! esta es la variable: 10 repe orden poniendo más texto'"
      ]
     },
     "execution_count": 166,
     "metadata": {},
     "output_type": "execute_result"
    }
   ],
   "source": [
    "\"hola! esta es la variable: %s %s %s poniendo más texto\"%(variable, 'repe', 'orden')"
   ]
  },
  {
   "cell_type": "code",
   "execution_count": null,
   "metadata": {},
   "outputs": [],
   "source": []
  },
  {
   "cell_type": "code",
   "execution_count": null,
   "metadata": {},
   "outputs": [],
   "source": []
  },
  {
   "cell_type": "code",
   "execution_count": null,
   "metadata": {},
   "outputs": [],
   "source": []
  },
  {
   "cell_type": "code",
   "execution_count": null,
   "metadata": {},
   "outputs": [],
   "source": []
  },
  {
   "cell_type": "code",
   "execution_count": 214,
   "metadata": {},
   "outputs": [],
   "source": [
    "spotify = pd.read_csv(\"top50.csv\")"
   ]
  },
  {
   "cell_type": "code",
   "execution_count": 215,
   "metadata": {},
   "outputs": [
    {
     "data": {
      "text/html": [
       "<div>\n",
       "<style scoped>\n",
       "    .dataframe tbody tr th:only-of-type {\n",
       "        vertical-align: middle;\n",
       "    }\n",
       "\n",
       "    .dataframe tbody tr th {\n",
       "        vertical-align: top;\n",
       "    }\n",
       "\n",
       "    .dataframe thead th {\n",
       "        text-align: right;\n",
       "    }\n",
       "</style>\n",
       "<table border=\"1\" class=\"dataframe\">\n",
       "  <thead>\n",
       "    <tr style=\"text-align: right;\">\n",
       "      <th></th>\n",
       "      <th>Unnamed: 0</th>\n",
       "      <th>Track.Name</th>\n",
       "      <th>Artist.Name</th>\n",
       "      <th>Genre</th>\n",
       "      <th>Beats.Per.Minute</th>\n",
       "      <th>Energy</th>\n",
       "      <th>Danceability</th>\n",
       "      <th>Loudness..dB..</th>\n",
       "      <th>Liveness</th>\n",
       "      <th>Valence.</th>\n",
       "      <th>Length.</th>\n",
       "      <th>Acousticness..</th>\n",
       "      <th>Speechiness.</th>\n",
       "      <th>Popularity</th>\n",
       "    </tr>\n",
       "  </thead>\n",
       "  <tbody>\n",
       "    <tr>\n",
       "      <th>0</th>\n",
       "      <td>1</td>\n",
       "      <td>Se�orita</td>\n",
       "      <td>Shawn Mendes</td>\n",
       "      <td>canadian pop</td>\n",
       "      <td>117</td>\n",
       "      <td>55</td>\n",
       "      <td>76</td>\n",
       "      <td>-6</td>\n",
       "      <td>8</td>\n",
       "      <td>75</td>\n",
       "      <td>191</td>\n",
       "      <td>4</td>\n",
       "      <td>3</td>\n",
       "      <td>79</td>\n",
       "    </tr>\n",
       "    <tr>\n",
       "      <th>1</th>\n",
       "      <td>2</td>\n",
       "      <td>China</td>\n",
       "      <td>Anuel AA</td>\n",
       "      <td>reggaeton flow</td>\n",
       "      <td>105</td>\n",
       "      <td>81</td>\n",
       "      <td>79</td>\n",
       "      <td>-4</td>\n",
       "      <td>8</td>\n",
       "      <td>61</td>\n",
       "      <td>302</td>\n",
       "      <td>8</td>\n",
       "      <td>9</td>\n",
       "      <td>92</td>\n",
       "    </tr>\n",
       "    <tr>\n",
       "      <th>2</th>\n",
       "      <td>3</td>\n",
       "      <td>boyfriend (with Social House)</td>\n",
       "      <td>Ariana Grande</td>\n",
       "      <td>dance pop</td>\n",
       "      <td>190</td>\n",
       "      <td>80</td>\n",
       "      <td>40</td>\n",
       "      <td>-4</td>\n",
       "      <td>16</td>\n",
       "      <td>70</td>\n",
       "      <td>186</td>\n",
       "      <td>12</td>\n",
       "      <td>46</td>\n",
       "      <td>85</td>\n",
       "    </tr>\n",
       "    <tr>\n",
       "      <th>3</th>\n",
       "      <td>4</td>\n",
       "      <td>Beautiful People (feat. Khalid)</td>\n",
       "      <td>Ed Sheeran</td>\n",
       "      <td>pop</td>\n",
       "      <td>93</td>\n",
       "      <td>65</td>\n",
       "      <td>64</td>\n",
       "      <td>-8</td>\n",
       "      <td>8</td>\n",
       "      <td>55</td>\n",
       "      <td>198</td>\n",
       "      <td>12</td>\n",
       "      <td>19</td>\n",
       "      <td>86</td>\n",
       "    </tr>\n",
       "    <tr>\n",
       "      <th>4</th>\n",
       "      <td>5</td>\n",
       "      <td>Goodbyes (Feat. Young Thug)</td>\n",
       "      <td>Post Malone</td>\n",
       "      <td>dfw rap</td>\n",
       "      <td>150</td>\n",
       "      <td>65</td>\n",
       "      <td>58</td>\n",
       "      <td>-4</td>\n",
       "      <td>11</td>\n",
       "      <td>18</td>\n",
       "      <td>175</td>\n",
       "      <td>45</td>\n",
       "      <td>7</td>\n",
       "      <td>94</td>\n",
       "    </tr>\n",
       "    <tr>\n",
       "      <th>5</th>\n",
       "      <td>6</td>\n",
       "      <td>I Don't Care (with Justin Bieber)</td>\n",
       "      <td>Ed Sheeran</td>\n",
       "      <td>pop</td>\n",
       "      <td>102</td>\n",
       "      <td>68</td>\n",
       "      <td>80</td>\n",
       "      <td>-5</td>\n",
       "      <td>9</td>\n",
       "      <td>84</td>\n",
       "      <td>220</td>\n",
       "      <td>9</td>\n",
       "      <td>4</td>\n",
       "      <td>84</td>\n",
       "    </tr>\n",
       "    <tr>\n",
       "      <th>6</th>\n",
       "      <td>7</td>\n",
       "      <td>Ransom</td>\n",
       "      <td>Lil Tecca</td>\n",
       "      <td>trap music</td>\n",
       "      <td>180</td>\n",
       "      <td>64</td>\n",
       "      <td>75</td>\n",
       "      <td>-6</td>\n",
       "      <td>7</td>\n",
       "      <td>23</td>\n",
       "      <td>131</td>\n",
       "      <td>2</td>\n",
       "      <td>29</td>\n",
       "      <td>92</td>\n",
       "    </tr>\n",
       "    <tr>\n",
       "      <th>7</th>\n",
       "      <td>8</td>\n",
       "      <td>How Do You Sleep?</td>\n",
       "      <td>Sam Smith</td>\n",
       "      <td>pop</td>\n",
       "      <td>111</td>\n",
       "      <td>68</td>\n",
       "      <td>48</td>\n",
       "      <td>-5</td>\n",
       "      <td>8</td>\n",
       "      <td>35</td>\n",
       "      <td>202</td>\n",
       "      <td>15</td>\n",
       "      <td>9</td>\n",
       "      <td>90</td>\n",
       "    </tr>\n",
       "    <tr>\n",
       "      <th>8</th>\n",
       "      <td>9</td>\n",
       "      <td>Old Town Road - Remix</td>\n",
       "      <td>Lil Nas X</td>\n",
       "      <td>country rap</td>\n",
       "      <td>136</td>\n",
       "      <td>62</td>\n",
       "      <td>88</td>\n",
       "      <td>-6</td>\n",
       "      <td>11</td>\n",
       "      <td>64</td>\n",
       "      <td>157</td>\n",
       "      <td>5</td>\n",
       "      <td>10</td>\n",
       "      <td>87</td>\n",
       "    </tr>\n",
       "    <tr>\n",
       "      <th>9</th>\n",
       "      <td>10</td>\n",
       "      <td>bad guy</td>\n",
       "      <td>Billie Eilish</td>\n",
       "      <td>electropop</td>\n",
       "      <td>135</td>\n",
       "      <td>43</td>\n",
       "      <td>70</td>\n",
       "      <td>-11</td>\n",
       "      <td>10</td>\n",
       "      <td>56</td>\n",
       "      <td>194</td>\n",
       "      <td>33</td>\n",
       "      <td>38</td>\n",
       "      <td>95</td>\n",
       "    </tr>\n",
       "    <tr>\n",
       "      <th>10</th>\n",
       "      <td>11</td>\n",
       "      <td>Callaita</td>\n",
       "      <td>Bad Bunny</td>\n",
       "      <td>reggaeton</td>\n",
       "      <td>176</td>\n",
       "      <td>62</td>\n",
       "      <td>61</td>\n",
       "      <td>-5</td>\n",
       "      <td>24</td>\n",
       "      <td>24</td>\n",
       "      <td>251</td>\n",
       "      <td>60</td>\n",
       "      <td>31</td>\n",
       "      <td>93</td>\n",
       "    </tr>\n",
       "    <tr>\n",
       "      <th>11</th>\n",
       "      <td>12</td>\n",
       "      <td>Loco Contigo (feat. J. Balvin &amp; Tyga)</td>\n",
       "      <td>DJ Snake</td>\n",
       "      <td>dance pop</td>\n",
       "      <td>96</td>\n",
       "      <td>71</td>\n",
       "      <td>82</td>\n",
       "      <td>-4</td>\n",
       "      <td>15</td>\n",
       "      <td>38</td>\n",
       "      <td>185</td>\n",
       "      <td>28</td>\n",
       "      <td>7</td>\n",
       "      <td>86</td>\n",
       "    </tr>\n",
       "    <tr>\n",
       "      <th>12</th>\n",
       "      <td>13</td>\n",
       "      <td>Someone You Loved</td>\n",
       "      <td>Lewis Capaldi</td>\n",
       "      <td>pop</td>\n",
       "      <td>110</td>\n",
       "      <td>41</td>\n",
       "      <td>50</td>\n",
       "      <td>-6</td>\n",
       "      <td>11</td>\n",
       "      <td>45</td>\n",
       "      <td>182</td>\n",
       "      <td>75</td>\n",
       "      <td>3</td>\n",
       "      <td>88</td>\n",
       "    </tr>\n",
       "    <tr>\n",
       "      <th>13</th>\n",
       "      <td>14</td>\n",
       "      <td>Otro Trago - Remix</td>\n",
       "      <td>Sech</td>\n",
       "      <td>panamanian pop</td>\n",
       "      <td>176</td>\n",
       "      <td>79</td>\n",
       "      <td>73</td>\n",
       "      <td>-2</td>\n",
       "      <td>6</td>\n",
       "      <td>76</td>\n",
       "      <td>288</td>\n",
       "      <td>7</td>\n",
       "      <td>20</td>\n",
       "      <td>87</td>\n",
       "    </tr>\n",
       "    <tr>\n",
       "      <th>14</th>\n",
       "      <td>15</td>\n",
       "      <td>Money In The Grave (Drake ft. Rick Ross)</td>\n",
       "      <td>Drake</td>\n",
       "      <td>canadian hip hop</td>\n",
       "      <td>101</td>\n",
       "      <td>50</td>\n",
       "      <td>83</td>\n",
       "      <td>-4</td>\n",
       "      <td>12</td>\n",
       "      <td>10</td>\n",
       "      <td>205</td>\n",
       "      <td>10</td>\n",
       "      <td>5</td>\n",
       "      <td>92</td>\n",
       "    </tr>\n",
       "    <tr>\n",
       "      <th>15</th>\n",
       "      <td>16</td>\n",
       "      <td>No Guidance (feat. Drake)</td>\n",
       "      <td>Chris Brown</td>\n",
       "      <td>dance pop</td>\n",
       "      <td>93</td>\n",
       "      <td>45</td>\n",
       "      <td>70</td>\n",
       "      <td>-7</td>\n",
       "      <td>16</td>\n",
       "      <td>14</td>\n",
       "      <td>261</td>\n",
       "      <td>12</td>\n",
       "      <td>15</td>\n",
       "      <td>82</td>\n",
       "    </tr>\n",
       "    <tr>\n",
       "      <th>16</th>\n",
       "      <td>17</td>\n",
       "      <td>LA CANCI�N</td>\n",
       "      <td>J Balvin</td>\n",
       "      <td>latin</td>\n",
       "      <td>176</td>\n",
       "      <td>65</td>\n",
       "      <td>75</td>\n",
       "      <td>-6</td>\n",
       "      <td>11</td>\n",
       "      <td>43</td>\n",
       "      <td>243</td>\n",
       "      <td>15</td>\n",
       "      <td>32</td>\n",
       "      <td>90</td>\n",
       "    </tr>\n",
       "    <tr>\n",
       "      <th>17</th>\n",
       "      <td>18</td>\n",
       "      <td>Sunflower - Spider-Man: Into the Spider-Verse</td>\n",
       "      <td>Post Malone</td>\n",
       "      <td>dfw rap</td>\n",
       "      <td>90</td>\n",
       "      <td>48</td>\n",
       "      <td>76</td>\n",
       "      <td>-6</td>\n",
       "      <td>7</td>\n",
       "      <td>91</td>\n",
       "      <td>158</td>\n",
       "      <td>56</td>\n",
       "      <td>5</td>\n",
       "      <td>91</td>\n",
       "    </tr>\n",
       "    <tr>\n",
       "      <th>18</th>\n",
       "      <td>19</td>\n",
       "      <td>Lalala</td>\n",
       "      <td>Y2K</td>\n",
       "      <td>canadian hip hop</td>\n",
       "      <td>130</td>\n",
       "      <td>39</td>\n",
       "      <td>84</td>\n",
       "      <td>-8</td>\n",
       "      <td>14</td>\n",
       "      <td>50</td>\n",
       "      <td>161</td>\n",
       "      <td>18</td>\n",
       "      <td>8</td>\n",
       "      <td>88</td>\n",
       "    </tr>\n",
       "    <tr>\n",
       "      <th>19</th>\n",
       "      <td>20</td>\n",
       "      <td>Truth Hurts</td>\n",
       "      <td>Lizzo</td>\n",
       "      <td>escape room</td>\n",
       "      <td>158</td>\n",
       "      <td>62</td>\n",
       "      <td>72</td>\n",
       "      <td>-3</td>\n",
       "      <td>12</td>\n",
       "      <td>41</td>\n",
       "      <td>173</td>\n",
       "      <td>11</td>\n",
       "      <td>11</td>\n",
       "      <td>91</td>\n",
       "    </tr>\n",
       "    <tr>\n",
       "      <th>20</th>\n",
       "      <td>21</td>\n",
       "      <td>Piece Of Your Heart</td>\n",
       "      <td>MEDUZA</td>\n",
       "      <td>pop house</td>\n",
       "      <td>124</td>\n",
       "      <td>74</td>\n",
       "      <td>68</td>\n",
       "      <td>-7</td>\n",
       "      <td>7</td>\n",
       "      <td>63</td>\n",
       "      <td>153</td>\n",
       "      <td>4</td>\n",
       "      <td>3</td>\n",
       "      <td>91</td>\n",
       "    </tr>\n",
       "    <tr>\n",
       "      <th>21</th>\n",
       "      <td>22</td>\n",
       "      <td>Panini</td>\n",
       "      <td>Lil Nas X</td>\n",
       "      <td>country rap</td>\n",
       "      <td>154</td>\n",
       "      <td>59</td>\n",
       "      <td>70</td>\n",
       "      <td>-6</td>\n",
       "      <td>12</td>\n",
       "      <td>48</td>\n",
       "      <td>115</td>\n",
       "      <td>34</td>\n",
       "      <td>8</td>\n",
       "      <td>91</td>\n",
       "    </tr>\n",
       "    <tr>\n",
       "      <th>22</th>\n",
       "      <td>23</td>\n",
       "      <td>No Me Conoce - Remix</td>\n",
       "      <td>Jhay Cortez</td>\n",
       "      <td>reggaeton flow</td>\n",
       "      <td>92</td>\n",
       "      <td>79</td>\n",
       "      <td>81</td>\n",
       "      <td>-4</td>\n",
       "      <td>9</td>\n",
       "      <td>58</td>\n",
       "      <td>309</td>\n",
       "      <td>14</td>\n",
       "      <td>7</td>\n",
       "      <td>83</td>\n",
       "    </tr>\n",
       "    <tr>\n",
       "      <th>23</th>\n",
       "      <td>24</td>\n",
       "      <td>Soltera - Remix</td>\n",
       "      <td>Lunay</td>\n",
       "      <td>latin</td>\n",
       "      <td>92</td>\n",
       "      <td>78</td>\n",
       "      <td>80</td>\n",
       "      <td>-4</td>\n",
       "      <td>44</td>\n",
       "      <td>80</td>\n",
       "      <td>266</td>\n",
       "      <td>36</td>\n",
       "      <td>4</td>\n",
       "      <td>91</td>\n",
       "    </tr>\n",
       "    <tr>\n",
       "      <th>24</th>\n",
       "      <td>25</td>\n",
       "      <td>bad guy (with Justin Bieber)</td>\n",
       "      <td>Billie Eilish</td>\n",
       "      <td>electropop</td>\n",
       "      <td>135</td>\n",
       "      <td>45</td>\n",
       "      <td>67</td>\n",
       "      <td>-11</td>\n",
       "      <td>12</td>\n",
       "      <td>68</td>\n",
       "      <td>195</td>\n",
       "      <td>25</td>\n",
       "      <td>30</td>\n",
       "      <td>89</td>\n",
       "    </tr>\n",
       "    <tr>\n",
       "      <th>25</th>\n",
       "      <td>26</td>\n",
       "      <td>If I Can't Have You</td>\n",
       "      <td>Shawn Mendes</td>\n",
       "      <td>canadian pop</td>\n",
       "      <td>124</td>\n",
       "      <td>82</td>\n",
       "      <td>69</td>\n",
       "      <td>-4</td>\n",
       "      <td>13</td>\n",
       "      <td>87</td>\n",
       "      <td>191</td>\n",
       "      <td>49</td>\n",
       "      <td>6</td>\n",
       "      <td>70</td>\n",
       "    </tr>\n",
       "    <tr>\n",
       "      <th>26</th>\n",
       "      <td>27</td>\n",
       "      <td>Dance Monkey</td>\n",
       "      <td>Tones and I</td>\n",
       "      <td>australian pop</td>\n",
       "      <td>98</td>\n",
       "      <td>59</td>\n",
       "      <td>82</td>\n",
       "      <td>-6</td>\n",
       "      <td>18</td>\n",
       "      <td>54</td>\n",
       "      <td>210</td>\n",
       "      <td>69</td>\n",
       "      <td>10</td>\n",
       "      <td>83</td>\n",
       "    </tr>\n",
       "    <tr>\n",
       "      <th>27</th>\n",
       "      <td>28</td>\n",
       "      <td>It's You</td>\n",
       "      <td>Ali Gatie</td>\n",
       "      <td>canadian hip hop</td>\n",
       "      <td>96</td>\n",
       "      <td>46</td>\n",
       "      <td>73</td>\n",
       "      <td>-7</td>\n",
       "      <td>19</td>\n",
       "      <td>40</td>\n",
       "      <td>213</td>\n",
       "      <td>37</td>\n",
       "      <td>3</td>\n",
       "      <td>89</td>\n",
       "    </tr>\n",
       "    <tr>\n",
       "      <th>28</th>\n",
       "      <td>29</td>\n",
       "      <td>Con Calma</td>\n",
       "      <td>Daddy Yankee</td>\n",
       "      <td>latin</td>\n",
       "      <td>94</td>\n",
       "      <td>86</td>\n",
       "      <td>74</td>\n",
       "      <td>-3</td>\n",
       "      <td>6</td>\n",
       "      <td>66</td>\n",
       "      <td>193</td>\n",
       "      <td>11</td>\n",
       "      <td>6</td>\n",
       "      <td>91</td>\n",
       "    </tr>\n",
       "    <tr>\n",
       "      <th>29</th>\n",
       "      <td>30</td>\n",
       "      <td>QUE PRETENDES</td>\n",
       "      <td>J Balvin</td>\n",
       "      <td>latin</td>\n",
       "      <td>93</td>\n",
       "      <td>79</td>\n",
       "      <td>64</td>\n",
       "      <td>-4</td>\n",
       "      <td>36</td>\n",
       "      <td>94</td>\n",
       "      <td>222</td>\n",
       "      <td>3</td>\n",
       "      <td>25</td>\n",
       "      <td>89</td>\n",
       "    </tr>\n",
       "    <tr>\n",
       "      <th>30</th>\n",
       "      <td>31</td>\n",
       "      <td>Takeaway</td>\n",
       "      <td>The Chainsmokers</td>\n",
       "      <td>edm</td>\n",
       "      <td>85</td>\n",
       "      <td>51</td>\n",
       "      <td>29</td>\n",
       "      <td>-8</td>\n",
       "      <td>10</td>\n",
       "      <td>36</td>\n",
       "      <td>210</td>\n",
       "      <td>12</td>\n",
       "      <td>4</td>\n",
       "      <td>84</td>\n",
       "    </tr>\n",
       "    <tr>\n",
       "      <th>31</th>\n",
       "      <td>32</td>\n",
       "      <td>7 rings</td>\n",
       "      <td>Ariana Grande</td>\n",
       "      <td>dance pop</td>\n",
       "      <td>140</td>\n",
       "      <td>32</td>\n",
       "      <td>78</td>\n",
       "      <td>-11</td>\n",
       "      <td>9</td>\n",
       "      <td>33</td>\n",
       "      <td>179</td>\n",
       "      <td>59</td>\n",
       "      <td>33</td>\n",
       "      <td>89</td>\n",
       "    </tr>\n",
       "    <tr>\n",
       "      <th>32</th>\n",
       "      <td>33</td>\n",
       "      <td>0.958333333333333</td>\n",
       "      <td>Maluma</td>\n",
       "      <td>reggaeton</td>\n",
       "      <td>96</td>\n",
       "      <td>71</td>\n",
       "      <td>78</td>\n",
       "      <td>-5</td>\n",
       "      <td>9</td>\n",
       "      <td>68</td>\n",
       "      <td>176</td>\n",
       "      <td>22</td>\n",
       "      <td>28</td>\n",
       "      <td>89</td>\n",
       "    </tr>\n",
       "    <tr>\n",
       "      <th>33</th>\n",
       "      <td>34</td>\n",
       "      <td>The London (feat. J. Cole &amp; Travis Scott)</td>\n",
       "      <td>Young Thug</td>\n",
       "      <td>atl hip hop</td>\n",
       "      <td>98</td>\n",
       "      <td>59</td>\n",
       "      <td>80</td>\n",
       "      <td>-7</td>\n",
       "      <td>13</td>\n",
       "      <td>18</td>\n",
       "      <td>200</td>\n",
       "      <td>2</td>\n",
       "      <td>15</td>\n",
       "      <td>89</td>\n",
       "    </tr>\n",
       "    <tr>\n",
       "      <th>34</th>\n",
       "      <td>35</td>\n",
       "      <td>Never Really Over</td>\n",
       "      <td>Katy Perry</td>\n",
       "      <td>dance pop</td>\n",
       "      <td>100</td>\n",
       "      <td>88</td>\n",
       "      <td>77</td>\n",
       "      <td>-5</td>\n",
       "      <td>32</td>\n",
       "      <td>39</td>\n",
       "      <td>224</td>\n",
       "      <td>19</td>\n",
       "      <td>6</td>\n",
       "      <td>89</td>\n",
       "    </tr>\n",
       "    <tr>\n",
       "      <th>35</th>\n",
       "      <td>36</td>\n",
       "      <td>Summer Days (feat. Macklemore &amp; Patrick Stump ...</td>\n",
       "      <td>Martin Garrix</td>\n",
       "      <td>big room</td>\n",
       "      <td>114</td>\n",
       "      <td>72</td>\n",
       "      <td>66</td>\n",
       "      <td>-7</td>\n",
       "      <td>14</td>\n",
       "      <td>32</td>\n",
       "      <td>164</td>\n",
       "      <td>18</td>\n",
       "      <td>6</td>\n",
       "      <td>89</td>\n",
       "    </tr>\n",
       "    <tr>\n",
       "      <th>36</th>\n",
       "      <td>37</td>\n",
       "      <td>Otro Trago</td>\n",
       "      <td>Sech</td>\n",
       "      <td>panamanian pop</td>\n",
       "      <td>176</td>\n",
       "      <td>70</td>\n",
       "      <td>75</td>\n",
       "      <td>-5</td>\n",
       "      <td>11</td>\n",
       "      <td>62</td>\n",
       "      <td>226</td>\n",
       "      <td>14</td>\n",
       "      <td>34</td>\n",
       "      <td>91</td>\n",
       "    </tr>\n",
       "    <tr>\n",
       "      <th>37</th>\n",
       "      <td>38</td>\n",
       "      <td>Antisocial (with Travis Scott)</td>\n",
       "      <td>Ed Sheeran</td>\n",
       "      <td>pop</td>\n",
       "      <td>152</td>\n",
       "      <td>82</td>\n",
       "      <td>72</td>\n",
       "      <td>-5</td>\n",
       "      <td>36</td>\n",
       "      <td>91</td>\n",
       "      <td>162</td>\n",
       "      <td>13</td>\n",
       "      <td>5</td>\n",
       "      <td>87</td>\n",
       "    </tr>\n",
       "    <tr>\n",
       "      <th>38</th>\n",
       "      <td>39</td>\n",
       "      <td>Sucker</td>\n",
       "      <td>Jonas Brothers</td>\n",
       "      <td>boy band</td>\n",
       "      <td>138</td>\n",
       "      <td>73</td>\n",
       "      <td>84</td>\n",
       "      <td>-5</td>\n",
       "      <td>11</td>\n",
       "      <td>95</td>\n",
       "      <td>181</td>\n",
       "      <td>4</td>\n",
       "      <td>6</td>\n",
       "      <td>80</td>\n",
       "    </tr>\n",
       "    <tr>\n",
       "      <th>39</th>\n",
       "      <td>40</td>\n",
       "      <td>fuck, i'm lonely (with Anne-Marie) - from �13 ...</td>\n",
       "      <td>Lauv</td>\n",
       "      <td>dance pop</td>\n",
       "      <td>95</td>\n",
       "      <td>56</td>\n",
       "      <td>81</td>\n",
       "      <td>-6</td>\n",
       "      <td>6</td>\n",
       "      <td>68</td>\n",
       "      <td>199</td>\n",
       "      <td>48</td>\n",
       "      <td>7</td>\n",
       "      <td>78</td>\n",
       "    </tr>\n",
       "    <tr>\n",
       "      <th>40</th>\n",
       "      <td>41</td>\n",
       "      <td>Higher Love</td>\n",
       "      <td>Kygo</td>\n",
       "      <td>edm</td>\n",
       "      <td>104</td>\n",
       "      <td>68</td>\n",
       "      <td>69</td>\n",
       "      <td>-7</td>\n",
       "      <td>10</td>\n",
       "      <td>40</td>\n",
       "      <td>228</td>\n",
       "      <td>2</td>\n",
       "      <td>3</td>\n",
       "      <td>88</td>\n",
       "    </tr>\n",
       "    <tr>\n",
       "      <th>41</th>\n",
       "      <td>42</td>\n",
       "      <td>You Need To Calm Down</td>\n",
       "      <td>Taylor Swift</td>\n",
       "      <td>dance pop</td>\n",
       "      <td>85</td>\n",
       "      <td>68</td>\n",
       "      <td>77</td>\n",
       "      <td>-6</td>\n",
       "      <td>7</td>\n",
       "      <td>73</td>\n",
       "      <td>171</td>\n",
       "      <td>1</td>\n",
       "      <td>5</td>\n",
       "      <td>90</td>\n",
       "    </tr>\n",
       "    <tr>\n",
       "      <th>42</th>\n",
       "      <td>43</td>\n",
       "      <td>Shallow</td>\n",
       "      <td>Lady Gaga</td>\n",
       "      <td>dance pop</td>\n",
       "      <td>96</td>\n",
       "      <td>39</td>\n",
       "      <td>57</td>\n",
       "      <td>-6</td>\n",
       "      <td>23</td>\n",
       "      <td>32</td>\n",
       "      <td>216</td>\n",
       "      <td>37</td>\n",
       "      <td>3</td>\n",
       "      <td>87</td>\n",
       "    </tr>\n",
       "    <tr>\n",
       "      <th>43</th>\n",
       "      <td>44</td>\n",
       "      <td>Talk</td>\n",
       "      <td>Khalid</td>\n",
       "      <td>pop</td>\n",
       "      <td>136</td>\n",
       "      <td>40</td>\n",
       "      <td>90</td>\n",
       "      <td>-9</td>\n",
       "      <td>6</td>\n",
       "      <td>35</td>\n",
       "      <td>198</td>\n",
       "      <td>5</td>\n",
       "      <td>13</td>\n",
       "      <td>84</td>\n",
       "    </tr>\n",
       "    <tr>\n",
       "      <th>44</th>\n",
       "      <td>45</td>\n",
       "      <td>Con Altura</td>\n",
       "      <td>ROSAL�A</td>\n",
       "      <td>r&amp;b en espanol</td>\n",
       "      <td>98</td>\n",
       "      <td>69</td>\n",
       "      <td>88</td>\n",
       "      <td>-4</td>\n",
       "      <td>5</td>\n",
       "      <td>75</td>\n",
       "      <td>162</td>\n",
       "      <td>39</td>\n",
       "      <td>12</td>\n",
       "      <td>88</td>\n",
       "    </tr>\n",
       "    <tr>\n",
       "      <th>45</th>\n",
       "      <td>46</td>\n",
       "      <td>One Thing Right</td>\n",
       "      <td>Marshmello</td>\n",
       "      <td>brostep</td>\n",
       "      <td>88</td>\n",
       "      <td>62</td>\n",
       "      <td>66</td>\n",
       "      <td>-2</td>\n",
       "      <td>58</td>\n",
       "      <td>44</td>\n",
       "      <td>182</td>\n",
       "      <td>7</td>\n",
       "      <td>5</td>\n",
       "      <td>88</td>\n",
       "    </tr>\n",
       "    <tr>\n",
       "      <th>46</th>\n",
       "      <td>47</td>\n",
       "      <td>Te Robar�</td>\n",
       "      <td>Nicky Jam</td>\n",
       "      <td>latin</td>\n",
       "      <td>176</td>\n",
       "      <td>75</td>\n",
       "      <td>67</td>\n",
       "      <td>-4</td>\n",
       "      <td>8</td>\n",
       "      <td>80</td>\n",
       "      <td>202</td>\n",
       "      <td>24</td>\n",
       "      <td>6</td>\n",
       "      <td>88</td>\n",
       "    </tr>\n",
       "    <tr>\n",
       "      <th>47</th>\n",
       "      <td>48</td>\n",
       "      <td>Happier</td>\n",
       "      <td>Marshmello</td>\n",
       "      <td>brostep</td>\n",
       "      <td>100</td>\n",
       "      <td>79</td>\n",
       "      <td>69</td>\n",
       "      <td>-3</td>\n",
       "      <td>17</td>\n",
       "      <td>67</td>\n",
       "      <td>214</td>\n",
       "      <td>19</td>\n",
       "      <td>5</td>\n",
       "      <td>88</td>\n",
       "    </tr>\n",
       "    <tr>\n",
       "      <th>48</th>\n",
       "      <td>49</td>\n",
       "      <td>Call You Mine</td>\n",
       "      <td>The Chainsmokers</td>\n",
       "      <td>edm</td>\n",
       "      <td>104</td>\n",
       "      <td>70</td>\n",
       "      <td>59</td>\n",
       "      <td>-6</td>\n",
       "      <td>41</td>\n",
       "      <td>50</td>\n",
       "      <td>218</td>\n",
       "      <td>23</td>\n",
       "      <td>3</td>\n",
       "      <td>88</td>\n",
       "    </tr>\n",
       "    <tr>\n",
       "      <th>49</th>\n",
       "      <td>50</td>\n",
       "      <td>Cross Me (feat. Chance the Rapper &amp; PnB Rock)</td>\n",
       "      <td>Ed Sheeran</td>\n",
       "      <td>pop</td>\n",
       "      <td>95</td>\n",
       "      <td>79</td>\n",
       "      <td>75</td>\n",
       "      <td>-6</td>\n",
       "      <td>7</td>\n",
       "      <td>61</td>\n",
       "      <td>206</td>\n",
       "      <td>21</td>\n",
       "      <td>12</td>\n",
       "      <td>82</td>\n",
       "    </tr>\n",
       "  </tbody>\n",
       "</table>\n",
       "</div>"
      ],
      "text/plain": [
       "    Unnamed: 0                                         Track.Name  \\\n",
       "0            1                                           Se�orita   \n",
       "1            2                                              China   \n",
       "2            3                      boyfriend (with Social House)   \n",
       "3            4                    Beautiful People (feat. Khalid)   \n",
       "4            5                        Goodbyes (Feat. Young Thug)   \n",
       "5            6                  I Don't Care (with Justin Bieber)   \n",
       "6            7                                             Ransom   \n",
       "7            8                                  How Do You Sleep?   \n",
       "8            9                              Old Town Road - Remix   \n",
       "9           10                                            bad guy   \n",
       "10          11                                           Callaita   \n",
       "11          12              Loco Contigo (feat. J. Balvin & Tyga)   \n",
       "12          13                                  Someone You Loved   \n",
       "13          14                                 Otro Trago - Remix   \n",
       "14          15           Money In The Grave (Drake ft. Rick Ross)   \n",
       "15          16                          No Guidance (feat. Drake)   \n",
       "16          17                                         LA CANCI�N   \n",
       "17          18      Sunflower - Spider-Man: Into the Spider-Verse   \n",
       "18          19                                             Lalala   \n",
       "19          20                                        Truth Hurts   \n",
       "20          21                                Piece Of Your Heart   \n",
       "21          22                                             Panini   \n",
       "22          23                               No Me Conoce - Remix   \n",
       "23          24                                    Soltera - Remix   \n",
       "24          25                       bad guy (with Justin Bieber)   \n",
       "25          26                                If I Can't Have You   \n",
       "26          27                                       Dance Monkey   \n",
       "27          28                                           It's You   \n",
       "28          29                                          Con Calma   \n",
       "29          30                                      QUE PRETENDES   \n",
       "30          31                                           Takeaway   \n",
       "31          32                                            7 rings   \n",
       "32          33                                  0.958333333333333   \n",
       "33          34          The London (feat. J. Cole & Travis Scott)   \n",
       "34          35                                  Never Really Over   \n",
       "35          36  Summer Days (feat. Macklemore & Patrick Stump ...   \n",
       "36          37                                         Otro Trago   \n",
       "37          38                     Antisocial (with Travis Scott)   \n",
       "38          39                                             Sucker   \n",
       "39          40  fuck, i'm lonely (with Anne-Marie) - from �13 ...   \n",
       "40          41                                        Higher Love   \n",
       "41          42                              You Need To Calm Down   \n",
       "42          43                                            Shallow   \n",
       "43          44                                               Talk   \n",
       "44          45                                         Con Altura   \n",
       "45          46                                    One Thing Right   \n",
       "46          47                                          Te Robar�   \n",
       "47          48                                            Happier   \n",
       "48          49                                      Call You Mine   \n",
       "49          50      Cross Me (feat. Chance the Rapper & PnB Rock)   \n",
       "\n",
       "         Artist.Name             Genre  Beats.Per.Minute  Energy  \\\n",
       "0       Shawn Mendes      canadian pop               117      55   \n",
       "1           Anuel AA    reggaeton flow               105      81   \n",
       "2      Ariana Grande         dance pop               190      80   \n",
       "3         Ed Sheeran               pop                93      65   \n",
       "4        Post Malone           dfw rap               150      65   \n",
       "5         Ed Sheeran               pop               102      68   \n",
       "6          Lil Tecca        trap music               180      64   \n",
       "7          Sam Smith               pop               111      68   \n",
       "8          Lil Nas X       country rap               136      62   \n",
       "9      Billie Eilish        electropop               135      43   \n",
       "10         Bad Bunny         reggaeton               176      62   \n",
       "11          DJ Snake         dance pop                96      71   \n",
       "12     Lewis Capaldi               pop               110      41   \n",
       "13              Sech    panamanian pop               176      79   \n",
       "14             Drake  canadian hip hop               101      50   \n",
       "15       Chris Brown         dance pop                93      45   \n",
       "16          J Balvin             latin               176      65   \n",
       "17       Post Malone           dfw rap                90      48   \n",
       "18               Y2K  canadian hip hop               130      39   \n",
       "19             Lizzo       escape room               158      62   \n",
       "20            MEDUZA         pop house               124      74   \n",
       "21         Lil Nas X       country rap               154      59   \n",
       "22       Jhay Cortez    reggaeton flow                92      79   \n",
       "23             Lunay             latin                92      78   \n",
       "24     Billie Eilish        electropop               135      45   \n",
       "25      Shawn Mendes      canadian pop               124      82   \n",
       "26       Tones and I    australian pop                98      59   \n",
       "27         Ali Gatie  canadian hip hop                96      46   \n",
       "28      Daddy Yankee             latin                94      86   \n",
       "29          J Balvin             latin                93      79   \n",
       "30  The Chainsmokers               edm                85      51   \n",
       "31     Ariana Grande         dance pop               140      32   \n",
       "32            Maluma         reggaeton                96      71   \n",
       "33        Young Thug       atl hip hop                98      59   \n",
       "34        Katy Perry         dance pop               100      88   \n",
       "35     Martin Garrix          big room               114      72   \n",
       "36              Sech    panamanian pop               176      70   \n",
       "37        Ed Sheeran               pop               152      82   \n",
       "38    Jonas Brothers          boy band               138      73   \n",
       "39              Lauv         dance pop                95      56   \n",
       "40              Kygo               edm               104      68   \n",
       "41      Taylor Swift         dance pop                85      68   \n",
       "42         Lady Gaga         dance pop                96      39   \n",
       "43            Khalid               pop               136      40   \n",
       "44           ROSAL�A    r&b en espanol                98      69   \n",
       "45        Marshmello           brostep                88      62   \n",
       "46         Nicky Jam             latin               176      75   \n",
       "47        Marshmello           brostep               100      79   \n",
       "48  The Chainsmokers               edm               104      70   \n",
       "49        Ed Sheeran               pop                95      79   \n",
       "\n",
       "    Danceability  Loudness..dB..  Liveness  Valence.  Length.  Acousticness..  \\\n",
       "0             76              -6         8        75      191               4   \n",
       "1             79              -4         8        61      302               8   \n",
       "2             40              -4        16        70      186              12   \n",
       "3             64              -8         8        55      198              12   \n",
       "4             58              -4        11        18      175              45   \n",
       "5             80              -5         9        84      220               9   \n",
       "6             75              -6         7        23      131               2   \n",
       "7             48              -5         8        35      202              15   \n",
       "8             88              -6        11        64      157               5   \n",
       "9             70             -11        10        56      194              33   \n",
       "10            61              -5        24        24      251              60   \n",
       "11            82              -4        15        38      185              28   \n",
       "12            50              -6        11        45      182              75   \n",
       "13            73              -2         6        76      288               7   \n",
       "14            83              -4        12        10      205              10   \n",
       "15            70              -7        16        14      261              12   \n",
       "16            75              -6        11        43      243              15   \n",
       "17            76              -6         7        91      158              56   \n",
       "18            84              -8        14        50      161              18   \n",
       "19            72              -3        12        41      173              11   \n",
       "20            68              -7         7        63      153               4   \n",
       "21            70              -6        12        48      115              34   \n",
       "22            81              -4         9        58      309              14   \n",
       "23            80              -4        44        80      266              36   \n",
       "24            67             -11        12        68      195              25   \n",
       "25            69              -4        13        87      191              49   \n",
       "26            82              -6        18        54      210              69   \n",
       "27            73              -7        19        40      213              37   \n",
       "28            74              -3         6        66      193              11   \n",
       "29            64              -4        36        94      222               3   \n",
       "30            29              -8        10        36      210              12   \n",
       "31            78             -11         9        33      179              59   \n",
       "32            78              -5         9        68      176              22   \n",
       "33            80              -7        13        18      200               2   \n",
       "34            77              -5        32        39      224              19   \n",
       "35            66              -7        14        32      164              18   \n",
       "36            75              -5        11        62      226              14   \n",
       "37            72              -5        36        91      162              13   \n",
       "38            84              -5        11        95      181               4   \n",
       "39            81              -6         6        68      199              48   \n",
       "40            69              -7        10        40      228               2   \n",
       "41            77              -6         7        73      171               1   \n",
       "42            57              -6        23        32      216              37   \n",
       "43            90              -9         6        35      198               5   \n",
       "44            88              -4         5        75      162              39   \n",
       "45            66              -2        58        44      182               7   \n",
       "46            67              -4         8        80      202              24   \n",
       "47            69              -3        17        67      214              19   \n",
       "48            59              -6        41        50      218              23   \n",
       "49            75              -6         7        61      206              21   \n",
       "\n",
       "    Speechiness.  Popularity  \n",
       "0              3          79  \n",
       "1              9          92  \n",
       "2             46          85  \n",
       "3             19          86  \n",
       "4              7          94  \n",
       "5              4          84  \n",
       "6             29          92  \n",
       "7              9          90  \n",
       "8             10          87  \n",
       "9             38          95  \n",
       "10            31          93  \n",
       "11             7          86  \n",
       "12             3          88  \n",
       "13            20          87  \n",
       "14             5          92  \n",
       "15            15          82  \n",
       "16            32          90  \n",
       "17             5          91  \n",
       "18             8          88  \n",
       "19            11          91  \n",
       "20             3          91  \n",
       "21             8          91  \n",
       "22             7          83  \n",
       "23             4          91  \n",
       "24            30          89  \n",
       "25             6          70  \n",
       "26            10          83  \n",
       "27             3          89  \n",
       "28             6          91  \n",
       "29            25          89  \n",
       "30             4          84  \n",
       "31            33          89  \n",
       "32            28          89  \n",
       "33            15          89  \n",
       "34             6          89  \n",
       "35             6          89  \n",
       "36            34          91  \n",
       "37             5          87  \n",
       "38             6          80  \n",
       "39             7          78  \n",
       "40             3          88  \n",
       "41             5          90  \n",
       "42             3          87  \n",
       "43            13          84  \n",
       "44            12          88  \n",
       "45             5          88  \n",
       "46             6          88  \n",
       "47             5          88  \n",
       "48             3          88  \n",
       "49            12          82  "
      ]
     },
     "execution_count": 215,
     "metadata": {},
     "output_type": "execute_result"
    }
   ],
   "source": [
    "spotify"
   ]
  },
  {
   "cell_type": "code",
   "execution_count": null,
   "metadata": {},
   "outputs": [],
   "source": []
  }
 ],
 "metadata": {
  "colab": {
   "name": "Ejercitacion 58: Tanques Alemanes resuelto.ipynb",
   "provenance": []
  },
  "kernelspec": {
   "display_name": "Python 3",
   "language": "python",
   "name": "python3"
  },
  "language_info": {
   "codemirror_mode": {
    "name": "ipython",
    "version": 3
   },
   "file_extension": ".py",
   "mimetype": "text/x-python",
   "name": "python",
   "nbconvert_exporter": "python",
   "pygments_lexer": "ipython3",
   "version": "3.9.1"
  }
 },
 "nbformat": 4,
 "nbformat_minor": 1
}
