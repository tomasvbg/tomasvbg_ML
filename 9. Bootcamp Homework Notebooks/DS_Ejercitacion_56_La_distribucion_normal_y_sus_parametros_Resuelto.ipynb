{
 "cells": [
  {
   "cell_type": "markdown",
   "metadata": {
    "id": "J0KcF-h3Y9yP"
   },
   "source": [
    "\n",
    "# Ley de los grandes números\n",
    "\n",
    "Haremos una pequeña prueba empírica de esta ley, creando datos ficticios con ciertos parámetros que conocemos y luego tratando de aproximar esos parámetros usando muestras de distintos tamaños, para ver cómo el tamaño de la muestra influye en el error del cálculo de la media.\n",
    "\n",
    "Primero crearemos una distribución que hará las veces de nuestra población. \n",
    "La población total consiste en 100.000 individuos. La función subyacente a la altura de estos individuos es una normal de media 1,70 mts y desvío estándar 0,10 mts. "
   ]
  },
  {
   "cell_type": "code",
   "execution_count": 1,
   "metadata": {},
   "outputs": [],
   "source": [
    "import numpy as np\n",
    "import seaborn as sns\n",
    "import matplotlib.pyplot as plt"
   ]
  },
  {
   "cell_type": "code",
   "execution_count": 2,
   "metadata": {
    "colab": {
     "base_uri": "https://localhost:8080/",
     "height": 387
    },
    "id": "QynWdJ3rdEJR",
    "outputId": "a18d4366-ed4e-4b41-cfed-79108a1d48fa"
   },
   "outputs": [
    {
     "data": {
      "text/plain": [
       "<seaborn.axisgrid.FacetGrid at 0x7fde08204400>"
      ]
     },
     "execution_count": 2,
     "metadata": {},
     "output_type": "execute_result"
    },
    {
     "data": {
      "image/png": "[encoded data removed]",
      "text/plain": [
       "<Figure size 360x360 with 1 Axes>"
      ]
     },
     "metadata": {
      "needs_background": "light"
     },
     "output_type": "display_data"
    }
   ],
   "source": [
    "np.random.seed(42)\n",
    "\n",
    "mu = 1.70\n",
    "sigma = 0.10\n",
    "N = int(1e6)\n",
    "alturas = np.random.normal(mu, sigma, N) \n",
    "\n",
    "sns.displot(alturas, kind=\"kde\")"
   ]
  },
  {
   "cell_type": "markdown",
   "metadata": {
    "id": "yyI9s1t3j2fn"
   },
   "source": [
    "Ahora imagina que desconoces la función subyacente. Como a menudo sucede en la vida real, no puedes conocer la altura de los 100.000 individuos que componen la población, y solamente puedes acceder a una muestra. \n",
    "\n",
    "¿Qué podría suceder si esta muestra es de 10 individuos?\n",
    "\n",
    "Simularemos que tomamos a 10 individuos al azar de esta distribución.\n"
   ]
  },
  {
   "cell_type": "code",
   "execution_count": 11,
   "metadata": {
    "colab": {
     "base_uri": "https://localhost:8080/"
    },
    "id": "BmUi3fLNmTcD",
    "outputId": "4f51b383-5c82-4489-87aa-268377f80d38"
   },
   "outputs": [
    {
     "name": "stdout",
     "output_type": "stream",
     "text": [
      "Los datos:  [1.67803281 1.73571126 1.8477894  1.64817298 1.61915064 1.6498243\n",
      " 1.79154021 1.73287511 1.64702398 1.75132674]\n",
      "La media de esta muestra hipotética es de 1.71\n",
      "Y su error estándar es de 0.02\n"
     ]
    }
   ],
   "source": [
    "#np.random.seed(42)\n",
    "\n",
    "n10 = 10\n",
    "muestra_10 = np.random.normal(mu, sigma, n10) \n",
    "\n",
    "# Observamos los datos\n",
    "print(\"Los datos: \", muestra_10)\n",
    "\n",
    "# Calculamos la media de la muestra\n",
    "print(f\"La media de esta muestra hipotética es de {np.mean(muestra_10):.2f}\")\n",
    "\n",
    "# Para saber cuáánto nos aproximamos a la media de la población, calculamos el error estándar\n",
    "\n",
    "error_estandar_10 = np.std(muestra_10) / np.sqrt(n10)\n",
    "\n",
    "print(f\"Y su error estándar es de {np.mean(error_estandar_10):.2f}\")"
   ]
  },
  {
   "cell_type": "markdown",
   "metadata": {
    "id": "h494VTlcpdFp"
   },
   "source": [
    "Puedes leer más acerca del cálculo del error estándar [aquí](https://es.wikipedia.org/wiki/Error_est%C3%A1ndar#Error_est%C3%A1ndar_de_la_media).\n",
    "\n",
    "Ahora vamos a ver qué pasa si aumentamos el tamaño de la muestra. La Ley de los Grandes Números (y nuestra intuición) indica que debería disminuir el error."
   ]
  },
  {
   "cell_type": "code",
   "execution_count": 29,
   "metadata": {
    "colab": {
     "base_uri": "https://localhost:8080/"
    },
    "id": "04XkmZO0mZTf",
    "outputId": "74b76849-f40d-40ad-dec7-c4569244c0cf"
   },
   "outputs": [
    {
     "name": "stdout",
     "output_type": "stream",
     "text": [
      "La media de esta muestra hipotética es de 1.71\n",
      "Y su error estándar es de 0.01\n"
     ]
    }
   ],
   "source": [
    "#np.random.seed(42)\n",
    "\n",
    "n100 = 100\n",
    "muestra_100 = np.random.normal(mu, sigma, n100) \n",
    "\n",
    "error_estandar_100 = np.std(muestra_100) / np.sqrt(n100)\n",
    "\n",
    "print(f\"La media de esta muestra hipotética es de {np.mean(muestra_100):.2f}\")\n",
    "\n",
    "print(f\"Y su error estándar es de {np.mean(error_estandar_100):.2f}\")"
   ]
  },
  {
   "cell_type": "markdown",
   "metadata": {
    "id": "A2BnS388yvU5"
   },
   "source": [
    "Por último, calculamos la media muestral sobre una muestra de 1.000 individuos y estimamos cuánto error hay con respecto a la media de la población."
   ]
  },
  {
   "cell_type": "code",
   "execution_count": 41,
   "metadata": {
    "colab": {
     "base_uri": "https://localhost:8080/"
    },
    "id": "2Ayw-53IrF43",
    "outputId": "1b430c0f-edc8-4142-c574-9c6ecdc5d35e"
   },
   "outputs": [
    {
     "name": "stdout",
     "output_type": "stream",
     "text": [
      "La media de esta muestra hipotética es de 1.70\n",
      "Y su error estándar es de 0.00\n"
     ]
    }
   ],
   "source": [
    "#np.random.seed(42)\n",
    "\n",
    "n1000 = 1000\n",
    "muestra_1000 = np.random.normal(mu, sigma, n1000) \n",
    "\n",
    "error_estandar_1000 = np.std(muestra_100) / np.sqrt(n1000)\n",
    "\n",
    "print(f\"La media de esta muestra hipotética es de {np.mean(muestra_1000):.2f}\")\n",
    "\n",
    "print(f\"Y su error estándar es de {np.mean(error_estandar_1000):.2f}\")"
   ]
  },
  {
   "cell_type": "markdown",
   "metadata": {
    "id": "tLjZicHOzMbn"
   },
   "source": [
    "Nuevamente observamos que se reduce el error. Veamos algunos decimales más de este resultado para comprobar que no llegamos a calcular perfectamente la media poblacional aunque nos hayamos acercado bastante.\n"
   ]
  },
  {
   "cell_type": "code",
   "execution_count": 6,
   "metadata": {
    "colab": {
     "base_uri": "https://localhost:8080/"
    },
    "id": "FrwIemxASyKP",
    "outputId": "4acc5b63-b490-499a-b3d2-9c0c90d04f91"
   },
   "outputs": [
    {
     "name": "stdout",
     "output_type": "stream",
     "text": [
      "La media de esta muestra hipotética es de 1.70193\n",
      "Y su error estándar es de 0.00286\n"
     ]
    }
   ],
   "source": [
    "# Observamos el mismo resultado que antes, mostrando más posiciones decimales\n",
    "\n",
    "print(f\"La media de esta muestra hipotética es de {np.mean(muestra_1000):.5f}\")\n",
    "\n",
    "print(f\"Y su error estándar es de {np.mean(error_estandar_1000):.5f}\")"
   ]
  },
  {
   "cell_type": "code",
   "execution_count": 74,
   "metadata": {},
   "outputs": [],
   "source": [
    "ns = np.logspace(1,3.5,30)\n",
    "medias = list()\n",
    "muestras = list()\n",
    "for n in ns:\n",
    "    muestra = np.random.normal(mu, sigma, int(n))\n",
    "    muestras.append(muestra)\n",
    "    medias.append(np.mean(muestra))"
   ]
  },
  {
   "cell_type": "code",
   "execution_count": 75,
   "metadata": {},
   "outputs": [
    {
     "data": {
      "text/plain": [
       "<matplotlib.collections.PathCollection at 0x7fde0ebbe670>"
      ]
     },
     "execution_count": 75,
     "metadata": {},
     "output_type": "execute_result"
    },
    {
     "data": {
      "image/png": "[encoded data removed]",
      "text/plain": [
       "<Figure size 432x288 with 1 Axes>"
      ]
     },
     "metadata": {
      "needs_background": "light"
     },
     "output_type": "display_data"
    }
   ],
   "source": [
    "plt.scatter(ns, medias)"
   ]
  },
  {
   "cell_type": "code",
   "execution_count": 89,
   "metadata": {},
   "outputs": [
    {
     "name": "stdout",
     "output_type": "stream",
     "text": [
      "media=1.6850, std_media=0.0508, std=0.0856, std_error=0.0271, datos=10\n",
      "media=1.6544, std_media=0.0427, std=0.0706, std_error=0.0204, datos=12\n",
      "media=1.6929, std_media=0.0443, std=0.0751, std_error=0.0201, datos=14\n",
      "media=1.7175, std_media=0.0516, std=0.0886, std_error=0.0209, datos=18\n",
      "media=1.6979, std_media=0.0568, std=0.0964, std_error=0.0206, datos=22\n",
      "media=1.7250, std_media=0.0614, std=0.1059, std_error=0.0208, datos=26\n",
      "media=1.7008, std_media=0.0693, std=0.1178, std_error=0.0208, datos=32\n",
      "media=1.6948, std_media=0.0675, std=0.1144, std_error=0.0181, datos=40\n",
      "media=1.7053, std_media=0.0573, std=0.0977, std_error=0.0141, datos=48\n",
      "media=1.7112, std_media=0.0692, std=0.1185, std_error=0.0154, datos=59\n",
      "media=1.7160, std_media=0.0604, std=0.1036, std_error=0.0122, datos=72\n",
      "media=1.7069, std_media=0.0620, std=0.1058, std_error=0.0113, datos=88\n",
      "media=1.7164, std_media=0.0532, std=0.0913, std_error=0.0088, datos=108\n",
      "media=1.7124, std_media=0.0562, std=0.0962, std_error=0.0084, datos=132\n",
      "media=1.6936, std_media=0.0557, std=0.0944, std_error=0.0074, datos=161\n",
      "media=1.7007, std_media=0.0627, std=0.1066, std_error=0.0076, datos=196\n",
      "media=1.7092, std_media=0.0589, std=0.1007, std_error=0.0065, datos=239\n",
      "media=1.6937, std_media=0.0568, std=0.0961, std_error=0.0056, datos=292\n",
      "media=1.6994, std_media=0.0558, std=0.0949, std_error=0.0050, datos=356\n",
      "media=1.7033, std_media=0.0576, std=0.0982, std_error=0.0047, datos=434\n",
      "media=1.6970, std_media=0.0573, std=0.0972, std_error=0.0042, datos=529\n",
      "media=1.7054, std_media=0.0608, std=0.1037, std_error=0.0041, datos=646\n",
      "media=1.6973, std_media=0.0578, std=0.0981, std_error=0.0035, datos=788\n",
      "media=1.7006, std_media=0.0576, std=0.0979, std_error=0.0032, datos=961\n",
      "media=1.7007, std_media=0.0578, std=0.0983, std_error=0.0029, datos=1172\n",
      "media=1.6999, std_media=0.0576, std=0.0979, std_error=0.0026, datos=1429\n",
      "media=1.6991, std_media=0.0595, std=0.1011, std_error=0.0024, datos=1743\n",
      "media=1.6982, std_media=0.0576, std=0.0979, std_error=0.0021, datos=2126\n",
      "media=1.6993, std_media=0.0586, std=0.0996, std_error=0.0020, datos=2592\n",
      "media=1.6995, std_media=0.0591, std=0.1004, std_error=0.0018, datos=3162\n"
     ]
    }
   ],
   "source": [
    "for muestra in muestras:\n",
    "    std = np.std(muestra)\n",
    "    datos = len(muestra)\n",
    "    std_error = std / np.sqrt(datos)\n",
    "    media = np.mean(muestra)\n",
    "    std_media = std / media\n",
    "    print(f'{media=:.4f}, {std_media=:.4f}, {std=:.4f}, {std_error=:.4f}, {datos=}')"
   ]
  },
  {
   "cell_type": "markdown",
   "metadata": {
    "id": "t7YiGAaUTF-o"
   },
   "source": [
    "# Ejercicio 1\n",
    "\n",
    "1. Escribe una función que simule el resultado de tirar un dado de 6 caras\n",
    "2. La media de infinitas tiradas de dado es *(1 + 2 + 3 + 4 + 5 + 6)/6*. Almacena el resultado en una variable llamada media_teorica.\n",
    "3. Ahora simula tirar el dado y calcular la media sobre el conjunto de las muestras que obtuvimos cada vez que agregamos una observación. La primera vez que arrojas el dado, calcula la media de esa observación. La segunda vez, calcula la media de las dos tiradas. Y así hasta llegar a 1.000 observaciones. Guárdalas en una variable llamada media_observada\n",
    "4. En un mismo gráfico, grafica la media_teorica y la media_observada. La media_teorica será constante mientras que la media_observada tomará distintos valores a medida que aumentan los ensayos. Observa su cambio."
   ]
  },
  {
   "cell_type": "code",
   "execution_count": 90,
   "metadata": {
    "colab": {
     "base_uri": "https://localhost:8080/"
    },
    "id": "TwAH7-HlWWaH",
    "outputId": "f08768e8-206a-455d-b639-e0156fed794f"
   },
   "outputs": [
    {
     "name": "stdout",
     "output_type": "stream",
     "text": [
      "3\n"
     ]
    }
   ],
   "source": [
    "# 1. Es una funcion que devuelve nros del 1 al 6 de forma equiprobable, se puede hacer con una variable\n",
    "\n",
    "dado=np.random.choice([1,2,3,4,5,6])\n",
    "print(dado)\n"
   ]
  },
  {
   "cell_type": "code",
   "execution_count": 91,
   "metadata": {
    "colab": {
     "base_uri": "https://localhost:8080/"
    },
    "id": "XNr6Cdp5l_k3",
    "outputId": "d4d6adaf-a875-4d91-e693-13aa725a80a3"
   },
   "outputs": [
    {
     "name": "stdout",
     "output_type": "stream",
     "text": [
      "3.5\n"
     ]
    }
   ],
   "source": [
    "#2.\n",
    "media_teorica=(1+2+3+4+5+6)/6\n",
    "print(media_teorica)"
   ]
  },
  {
   "cell_type": "code",
   "execution_count": 92,
   "metadata": {
    "id": "xrO8oFeUqtzw"
   },
   "outputs": [],
   "source": [
    "#3. armo funcion que tira el dado N veces. Por simplicidad, calculo la media para distintos N\n",
    "\n",
    "def dado(N):\n",
    "    tirada=np.zeros(N)\n",
    "\n",
    "    for i in range(N):\n",
    "        tirada[i]=np.random.choice([1,2,3,4,5,6])\n",
    "\n",
    "    return tirada  \n"
   ]
  },
  {
   "cell_type": "code",
   "execution_count": 96,
   "metadata": {
    "colab": {
     "base_uri": "https://localhost:8080/",
     "height": 350
    },
    "id": "wjNElPHzrP5Q",
    "outputId": "4edcb1c7-516f-4b69-94e7-38ea627f15fb"
   },
   "outputs": [
    {
     "name": "stdout",
     "output_type": "stream",
     "text": [
      "3.5\n",
      "3.4839\n"
     ]
    },
    {
     "data": {
      "text/plain": [
       "(array([1678., 1658., 1714., 1670., 1657., 1623.]),\n",
       " array([1.        , 1.83333333, 2.66666667, 3.5       , 4.33333333,\n",
       "        5.16666667, 6.        ]),\n",
       " <BarContainer object of 6 artists>)"
      ]
     },
     "execution_count": 96,
     "metadata": {},
     "output_type": "execute_result"
    },
    {
     "data": {
      "image/png": "[encoded data removed]",
      "text/plain": [
       "<Figure size 432x288 with 1 Axes>"
      ]
     },
     "metadata": {
      "needs_background": "light"
     },
     "output_type": "display_data"
    }
   ],
   "source": [
    "t10=dado(10)\n",
    "m10=np.mean(t10)\n",
    "\n",
    "t1000=dado(10000)\n",
    "m1000=np.mean(t1000)\n",
    "\n",
    "print(m10)\n",
    "print(m1000)\n",
    "\n",
    "plt.hist(t1000, bins=6)"
   ]
  },
  {
   "cell_type": "code",
   "execution_count": 97,
   "metadata": {
    "id": "fz8RBZfCv5Sd"
   },
   "outputs": [],
   "source": [
    "#4 armo funcion que calcula la media a medida que hace cada observacion\n",
    "\n",
    "def evolucion_media(datos):\n",
    "    medias=np.zeros(len(datos))\n",
    "\n",
    "    for i in range(len(datos)):\n",
    "        di=datos[0:i]\n",
    "        medias[i]=np.mean(di)\n",
    "\n",
    "    return medias   "
   ]
  },
  {
   "cell_type": "code",
   "execution_count": 98,
   "metadata": {
    "colab": {
     "base_uri": "https://localhost:8080/",
     "height": 364
    },
    "id": "MIYixLJUwb1s",
    "outputId": "33662b16-9f3c-4ac1-983e-3a47e6033efc"
   },
   "outputs": [
    {
     "name": "stderr",
     "output_type": "stream",
     "text": [
      "/Library/Frameworks/Python.framework/Versions/3.9/lib/python3.9/site-packages/numpy/core/fromnumeric.py:3419: RuntimeWarning: Mean of empty slice.\n",
      "  return _methods._mean(a, axis=axis, dtype=dtype,\n",
      "/Library/Frameworks/Python.framework/Versions/3.9/lib/python3.9/site-packages/numpy/core/_methods.py:188: RuntimeWarning: invalid value encountered in double_scalars\n",
      "  ret = ret.dtype.type(ret / rcount)\n"
     ]
    },
    {
     "data": {
      "text/plain": [
       "Text(0, 0.5, 'promedio')"
      ]
     },
     "execution_count": 98,
     "metadata": {},
     "output_type": "execute_result"
    },
    {
     "data": {
      "image/png": "[encoded data removed]",
      "text/plain": [
       "<Figure size 432x288 with 1 Axes>"
      ]
     },
     "metadata": {
      "needs_background": "light"
     },
     "output_type": "display_data"
    }
   ],
   "source": [
    "medias=evolucion_media(t1000)\n",
    "media_teo=media_teorica*np.ones(len(medias))\n",
    "plt.plot(medias,label='observada')\n",
    "plt.plot(media_teo,'--',label='teorica')\n",
    "plt.legend()\n",
    "plt.xlabel('tirada')\n",
    "plt.ylabel('promedio')"
   ]
  },
  {
   "cell_type": "markdown",
   "metadata": {
    "id": "tgwb5J4fvMke"
   },
   "source": [
    "# Ejercicio 2\n",
    "\n",
    "1. Genera datos sintéticos que simulen el resultado de realizar 5,000 mediciones de PH sobre una variable normal de media 5,75 y desvío estándar 0,75. \n",
    "2. Transforma los puntajes a puntajes Z.\n",
    "3. Grafica los puntajes Z utilizando el parámetro kde de la función displot de seaborn.\n"
   ]
  },
  {
   "cell_type": "code",
   "execution_count": 99,
   "metadata": {
    "colab": {
     "base_uri": "https://localhost:8080/",
     "height": 367
    },
    "id": "GKIIZ_6vyimc",
    "outputId": "141199ba-fe54-4567-ae81-c2b30fed5017"
   },
   "outputs": [
    {
     "data": {
      "text/plain": [
       "(array([  15.,  121.,  414.,  948., 1379., 1204.,  657.,  221.,   37.,\n",
       "           4.]),\n",
       " array([3.21180639, 3.75039712, 4.28898784, 4.82757856, 5.36616929,\n",
       "        5.90476001, 6.44335073, 6.98194146, 7.52053218, 8.0591229 ,\n",
       "        8.59771363]),\n",
       " <BarContainer object of 10 artists>)"
      ]
     },
     "execution_count": 99,
     "metadata": {},
     "output_type": "execute_result"
    },
    {
     "data": {
      "image/png": "[encoded data removed]",
      "text/plain": [
       "<Figure size 432x288 with 1 Axes>"
      ]
     },
     "metadata": {
      "needs_background": "light"
     },
     "output_type": "display_data"
    }
   ],
   "source": [
    "# 1.\n",
    "mu=5.75\n",
    "sigma=0.75\n",
    "N=5000\n",
    "datos=np.random.normal(mu,sigma,N)\n",
    "plt.hist(datos)"
   ]
  },
  {
   "cell_type": "code",
   "execution_count": 100,
   "metadata": {},
   "outputs": [
    {
     "data": {
      "text/plain": [
       "<seaborn.axisgrid.FacetGrid at 0x7fde0f24da90>"
      ]
     },
     "execution_count": 100,
     "metadata": {},
     "output_type": "execute_result"
    },
    {
     "data": {
      "image/png": "[encoded data removed]",
      "text/plain": [
       "<Figure size 360x360 with 1 Axes>"
      ]
     },
     "metadata": {
      "needs_background": "light"
     },
     "output_type": "display_data"
    }
   ],
   "source": [
    "sns.displot(datos, kind=\"kde\")"
   ]
  },
  {
   "cell_type": "code",
   "execution_count": 102,
   "metadata": {},
   "outputs": [
    {
     "data": {
      "text/plain": [
       "3.211806394361293"
      ]
     },
     "execution_count": 102,
     "metadata": {},
     "output_type": "execute_result"
    }
   ],
   "source": [
    "min(datos)"
   ]
  },
  {
   "cell_type": "code",
   "execution_count": 103,
   "metadata": {},
   "outputs": [
    {
     "data": {
      "text/plain": [
       "8.597713626582085"
      ]
     },
     "execution_count": 103,
     "metadata": {},
     "output_type": "execute_result"
    }
   ],
   "source": [
    "max(datos)"
   ]
  },
  {
   "cell_type": "code",
   "execution_count": 104,
   "metadata": {},
   "outputs": [
    {
     "data": {
      "text/plain": [
       "5.76184035903187"
      ]
     },
     "execution_count": 104,
     "metadata": {},
     "output_type": "execute_result"
    }
   ],
   "source": [
    "np.mean(datos)"
   ]
  },
  {
   "cell_type": "code",
   "execution_count": 105,
   "metadata": {
    "colab": {
     "base_uri": "https://localhost:8080/",
     "height": 367
    },
    "id": "kOUxLb-2mGyV",
    "outputId": "483f2206-1b8e-4ddd-b961-7d36e97f806b"
   },
   "outputs": [
    {
     "data": {
      "text/plain": [
       "(array([  15.,  121.,  414.,  948., 1379., 1204.,  657.,  221.,   37.,\n",
       "           4.]),\n",
       " array([-3.37979125, -2.66594812, -1.952105  , -1.23826188, -0.52441875,\n",
       "         0.18942437,  0.9032675 ,  1.61711062,  2.33095375,  3.04479687,\n",
       "         3.75864   ]),\n",
       " <BarContainer object of 10 artists>)"
      ]
     },
     "execution_count": 105,
     "metadata": {},
     "output_type": "execute_result"
    },
    {
     "data": {
      "image/png": "[encoded data removed]",
      "text/plain": [
       "<Figure size 432x288 with 1 Axes>"
      ]
     },
     "metadata": {
      "needs_background": "light"
     },
     "output_type": "display_data"
    }
   ],
   "source": [
    "#2. \n",
    "#calculamos media y desviación de la muestra y luego, Z\n",
    "media=np.mean(datos)\n",
    "desvio=np.std(datos)\n",
    "\n",
    "Z=(datos-media)/desvio\n",
    "plt.hist(Z)"
   ]
  },
  {
   "cell_type": "code",
   "execution_count": 106,
   "metadata": {},
   "outputs": [],
   "source": [
    "datos_centrados = datos - media"
   ]
  },
  {
   "cell_type": "code",
   "execution_count": 107,
   "metadata": {},
   "outputs": [
    {
     "name": "stdout",
     "output_type": "stream",
     "text": [
      "np.mean(datos)=5.76184035903187\n",
      "np.mean(datos_centrados)=6.679101716144942e-17\n"
     ]
    }
   ],
   "source": [
    "print(f'{np.mean(datos)=}')\n",
    "print(f'{np.mean(datos_centrados)=}')"
   ]
  },
  {
   "cell_type": "code",
   "execution_count": 108,
   "metadata": {
    "id": "m8Fb2IIhm5vH"
   },
   "outputs": [
    {
     "data": {
      "text/plain": [
       "<AxesSubplot:ylabel='Density'>"
      ]
     },
     "execution_count": 108,
     "metadata": {},
     "output_type": "execute_result"
    },
    {
     "data": {
      "image/png": "[encoded data removed]",
      "text/plain": [
       "<Figure size 432x288 with 1 Axes>"
      ]
     },
     "metadata": {
      "needs_background": "light"
     },
     "output_type": "display_data"
    }
   ],
   "source": [
    "#3\n",
    "sns.kdeplot(data=Z)"
   ]
  },
  {
   "cell_type": "code",
   "execution_count": null,
   "metadata": {
    "id": "nymCatUBnQ9r"
   },
   "outputs": [],
   "source": [
    "Z=(datos-media)/desvio"
   ]
  },
  {
   "cell_type": "code",
   "execution_count": null,
   "metadata": {},
   "outputs": [],
   "source": [
    "Z * desvio = datos - media"
   ]
  },
  {
   "cell_type": "code",
   "execution_count": null,
   "metadata": {},
   "outputs": [],
   "source": [
    "Z * desvio + media = dato"
   ]
  },
  {
   "cell_type": "code",
   "execution_count": 109,
   "metadata": {},
   "outputs": [
    {
     "data": {
      "text/plain": [
       "4.252851326068239"
      ]
     },
     "execution_count": 109,
     "metadata": {},
     "output_type": "execute_result"
    }
   ],
   "source": [
    "-2 * desvio + media"
   ]
  },
  {
   "cell_type": "code",
   "execution_count": 111,
   "metadata": {},
   "outputs": [],
   "source": [
    "def Z(X, mu, sigma):\n",
    "    return ((X - mu) / sigma)"
   ]
  },
  {
   "cell_type": "code",
   "execution_count": 112,
   "metadata": {},
   "outputs": [],
   "source": [
    "def Z_inversa(Z, mu, sigma):\n",
    "    return ((Z * sigma) + media)"
   ]
  },
  {
   "cell_type": "code",
   "execution_count": 115,
   "metadata": {},
   "outputs": [
    {
     "data": {
      "text/plain": [
       "5.76184035903187"
      ]
     },
     "execution_count": 115,
     "metadata": {},
     "output_type": "execute_result"
    }
   ],
   "source": [
    "media"
   ]
  },
  {
   "cell_type": "code",
   "execution_count": 117,
   "metadata": {},
   "outputs": [
    {
     "data": {
      "text/plain": [
       "-5.349148468098472e-05"
      ]
     },
     "execution_count": 117,
     "metadata": {},
     "output_type": "execute_result"
    }
   ],
   "source": [
    "Z(5.7618, media, desvio)"
   ]
  },
  {
   "cell_type": "code",
   "execution_count": 118,
   "metadata": {},
   "outputs": [
    {
     "data": {
      "text/plain": [
       "4.252851326068239"
      ]
     },
     "execution_count": 118,
     "metadata": {},
     "output_type": "execute_result"
    }
   ],
   "source": [
    "Z_inversa(-2, media, desvio)"
   ]
  },
  {
   "cell_type": "code",
   "execution_count": null,
   "metadata": {},
   "outputs": [],
   "source": []
  }
 ],
 "metadata": {
  "colab": {
   "name": "DS - Ejercitación 56: La distribución normal y sus parámetros_Resuelto.ipynb",
   "provenance": []
  },
  "kernelspec": {
   "display_name": "Python 3",
   "language": "python",
   "name": "python3"
  },
  "language_info": {
   "codemirror_mode": {
    "name": "ipython",
    "version": 3
   },
   "file_extension": ".py",
   "mimetype": "text/x-python",
   "name": "python",
   "nbconvert_exporter": "python",
   "pygments_lexer": "ipython3",
   "version": "3.9.1"
  }
 },
 "nbformat": 4,
 "nbformat_minor": 1
}
